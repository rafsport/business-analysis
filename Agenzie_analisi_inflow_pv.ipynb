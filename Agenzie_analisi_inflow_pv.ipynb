{
 "cells": [
  {
   "cell_type": "markdown",
   "metadata": {},
   "source": [
    "C:\\Users\\Raffaele.Sportiello\\OneDrive - Wolters Kluwer\\Documents\\Analisi agenzie e reseller\\Analisi agenzie"
   ]
  },
  {
   "cell_type": "code",
   "execution_count": 1,
   "metadata": {},
   "outputs": [],
   "source": [
    "import pandas as pd\n",
    "import os\n",
    "import numpy as np\n",
    "import datetime as dt\n",
    "\n",
    "from os import listdir\n",
    "from os.path import isfile, join\n",
    "from os.path import getmtime\n",
    "\n",
    "from zebra import remov_duplicates, human_format\n",
    "from babel.numbers import format_number"
   ]
  },
  {
   "cell_type": "code",
   "execution_count": 2,
   "metadata": {},
   "outputs": [],
   "source": [
    "idx = pd.IndexSlice"
   ]
  },
  {
   "cell_type": "code",
   "execution_count": 3,
   "metadata": {},
   "outputs": [],
   "source": [
    "pd.set_option('display.max_rows', 100)"
   ]
  },
  {
   "cell_type": "markdown",
   "metadata": {},
   "source": [
    "# Sources"
   ]
  },
  {
   "cell_type": "markdown",
   "metadata": {},
   "source": [
    "## Parametriche"
   ]
  },
  {
   "cell_type": "code",
   "execution_count": 4,
   "metadata": {},
   "outputs": [],
   "source": [
    "parametriche = r\"C:\\Users\\Raffaele.Sportiello\\OneDrive - Wolters Kluwer\\Documents\\Dashboard inflow\\Parametriche\\\\\"\n",
    "onlyfiles = [f for f in listdir(r\"C:\\Users\\Raffaele.Sportiello\\OneDrive - Wolters Kluwer\\Documents\\Dashboard inflow\\Parametriche\") if isfile(join(r\"C:\\Users\\Raffaele.Sportiello\\OneDrive - Wolters Kluwer\\Documents\\Dashboard inflow\\Parametriche\", f))]\n",
    "\n",
    "par = {}\n",
    "for file in onlyfiles:\n",
    "    file_name=file.split(\".\")[0]\n",
    "    par[f\"{file_name}\"] = pd.read_excel(parametriche+file)"
   ]
  },
  {
   "cell_type": "code",
   "execution_count": 5,
   "metadata": {},
   "outputs": [],
   "source": [
    "cod_prod = par[\"Classificazione_codice_prodotto\"]\n",
    "cod_prod[\"Codice PRODOTTO\"] = cod_prod[\"Codice PRODOTTO\"].apply(lambda x: str(x))\n",
    "cod_prod = cod_prod.loc[:, ['MDM', 'GTM BDG', 'Solution','Sub solution',\"Codice PRODOTTO\"]]\n",
    "\n",
    "sales_director = par[\"Sales_director\"]\n",
    "sales_director = sales_director.loc[:, [\"Sales Director\", \"Area territoriale\", \"Rete\"]]\n",
    "sales_director[\"Sales Director\"] = sales_director[\"Sales Director\"].str.lower()\n",
    "\n",
    "agente_ordine = par[\"Agente_ordine\"]\n",
    "\n",
    "esc_fatture = par[\"Esclusione_fatture\"]\n",
    "esc_fatture[\"Numero Fattura\"] = esc_fatture[\"Numero Fattura\"].astype(str)\n",
    "\n",
    "esc_ordini = par[\"Esclusione_ordini\"]\n",
    "esc_ordini[\"Numero Ordine\"] = esc_ordini[\"Numero Ordine\"].astype(str)\n",
    "\n",
    "li_prodotti = par[\"Linea_prodotti\"]"
   ]
  },
  {
   "cell_type": "markdown",
   "metadata": {},
   "source": [
    "## Parco clienti da Licenze e abbonamenti"
   ]
  },
  {
   "cell_type": "code",
   "execution_count": 35,
   "metadata": {},
   "outputs": [],
   "source": [
    "clienti = r\"C:\\Users\\Raffaele.Sportiello\\OneDrive - Wolters Kluwer\\Documents\\Analisi clienti\\Parco clienti\\Data export\\Abbonamenti\\\\\"\n",
    "\n",
    "onlyfiles = [f for f in listdir(r\"C:\\Users\\Raffaele.Sportiello\\OneDrive - Wolters Kluwer\\Documents\\Analisi clienti\\Parco clienti\\Data export\\Abbonamenti\") if isfile(join(r\"C:\\Users\\Raffaele.Sportiello\\OneDrive - Wolters Kluwer\\Documents\\Analisi clienti\\Parco clienti\\Data export\\Abbonamenti\", f))]\n",
    "\n",
    "dfs = []\n",
    "for file in onlyfiles:\n",
    "    data = pd.read_excel(clienti+file, na_values=\"#\", dtype={\"Data inizio contratt\":object, \"Data Inizio Abb.\":object, \"Data Fine Abb.\":object, \"Cliente FATTURA\":str, \"Codice ABBONAMENTO\":str})\n",
    "    data[\"Tipo Licenza\"] = file.split(\"_\")[1].split(\".\")[0]\n",
    "    data[\"Ultimo Agg.\"] = dt.date.fromtimestamp(getmtime(clienti+file))\n",
    "    dfs.append(data)\n",
    "\n",
    "cli = pd.concat(dfs, axis=0, ignore_index=True)\n",
    "    \n",
    "for col in cli.columns:\n",
    "    if \"Data\" in col:\n",
    "        \n",
    "        cli[col] = cli[col].apply(lambda x: (float(x) - 25569) * 86400)\n",
    "        cli[col] = pd.to_datetime(cli[col], unit=\"s\")\n",
    "    else:\n",
    "        pass\n",
    "\n",
    "cli.rename(columns={'Unnamed: 10':'Descrizione ABBONAMENTO'}, inplace=True )"
   ]
  },
  {
   "cell_type": "markdown",
   "metadata": {},
   "source": [
    "## Raccolto da Budest"
   ]
  },
  {
   "cell_type": "code",
   "execution_count": 6,
   "metadata": {},
   "outputs": [],
   "source": [
    "raccolto = r\"C:\\Users\\Raffaele.Sportiello\\OneDrive - Wolters Kluwer\\Documents\\Analisi clienti\\Parco clienti\\Data export\\Budest\\Budest cliente prodotto anno\\\\\"\n",
    "\n",
    "onlyfiles = [f for f in listdir(r\"C:\\Users\\Raffaele.Sportiello\\OneDrive - Wolters Kluwer\\Documents\\Analisi clienti\\Parco clienti\\Data export\\Budest\\Budest cliente prodotto anno\") if isfile(join(r\"C:\\Users\\Raffaele.Sportiello\\OneDrive - Wolters Kluwer\\Documents\\Analisi clienti\\Parco clienti\\Data export\\Budest\\Budest cliente prodotto anno\", f))]\n",
    "\n",
    "dfs = []\n",
    "for file in onlyfiles:\n",
    "    data = pd.read_excel(raccolto+file, na_values=\"#\", dtype={\"Cliente MERCE\":str, \"Codice ABBONAMENTO\":str})\n",
    "    data[\"Ultimo Agg.\"] = dt.date.fromtimestamp(getmtime(raccolto+file))\n",
    "    dfs.append(data)\n",
    "\n",
    "fatt = pd.concat(dfs, axis=0, ignore_index=True)"
   ]
  },
  {
   "cell_type": "code",
   "execution_count": 7,
   "metadata": {},
   "outputs": [],
   "source": [
    "fatt.rename(columns={'Unnamed: 3':'Descrizione Agente', 'Unnamed: 7':'Descrizione PRODOTTO'}, inplace=True )"
   ]
  },
  {
   "cell_type": "markdown",
   "metadata": {},
   "source": [
    "## All accounts da Salesforce"
   ]
  },
  {
   "cell_type": "code",
   "execution_count": null,
   "metadata": {},
   "outputs": [],
   "source": [
    "accounts_sf = pd.read_csv(r\"C:\\Users\\Raffaele.Sportiello\\OneDrive - Wolters Kluwer\\Documents\\Salesforce\\Data export\\IT_all_accounts.csv\", encoding='latin-1', sep=\";\")"
   ]
  },
  {
   "cell_type": "markdown",
   "metadata": {},
   "source": [
    "# Analisi"
   ]
  },
  {
   "attachments": {},
   "cell_type": "markdown",
   "metadata": {},
   "source": [
    "## Raccolto"
   ]
  },
  {
   "cell_type": "code",
   "execution_count": 52,
   "metadata": {},
   "outputs": [],
   "source": [
    "sales_dir = [\"ARTEL FORFAIT\",\"ARTEL INDIRETTA\",\"IPSOA RETE\",\"OSRA FORFAIT\",\"OSRA INDIRETTA\",\"RETE WKI\",\"Senza attribuz.\",\"PRAGMA\"] \n",
    "columns = [\"Cliente Merce\", \"Segmento Aggregato\",\"Descrizione Agente\", \"RSM Agente\", \"Area territoriale\", \"Rete\", \"Area Prodotto\", \"Linea Prodotti\", \"Fornitura (SW)\", \"Solution\", \"GTM BDG\",  \"Anno Inserimento Ord\", \"Raccolto\"]\n",
    "\n",
    "def merge_with_product_and_salesdirector(df):\n",
    "\n",
    "    df = fatt.loc[fatt[\"Sales Director\"].isin(sales_dir) ,:].dropna(axis=0, subset=[\"Raccolto\"]).copy()\n",
    "    df[\"Cliente Merce\"] = df[\"Cliente Merce\"].astype(int).astype(str)\n",
    "    df[\"Codice PRODOTTO\"] = df[\"Codice PRODOTTO\"].astype(str)\n",
    "    df[\"Sales Director\"] = df[\"Sales Director\"].apply(lambda x: x.lower())\n",
    "    \n",
    "\n",
    "    df = df.merge(cod_prod, how=\"left\", on=\"Codice PRODOTTO\").merge(sales_director, how=\"left\", on=\"Sales Director\")\n",
    "  \n",
    "    return df.loc[:, columns]\n",
    "\n",
    "fatt_ind = fatt.pipe(merge_with_product_and_salesdirector)\n"
   ]
  },
  {
   "cell_type": "code",
   "execution_count": 53,
   "metadata": {},
   "outputs": [],
   "source": [
    "fatt_ind[\"Area Prodotto\"] = np.select(\n",
    "    [fatt_ind[\"Area Prodotto\"] == \"Rinnovi Software\", \n",
    "    fatt_ind[\"Area Prodotto\"] == \"Altro\",\n",
    "    fatt_ind[\"Area Prodotto\"] == \"Vendite Software\", \n",
    "    fatt_ind[\"Area Prodotto\"] == \"Vendite Editoria\"],\n",
    "    [\"Rinnovi\", \"Rinnovi\", \"Nuove vendite\", \"Nuove vendite\"]\n",
    "    )"
   ]
  },
  {
   "cell_type": "code",
   "execution_count": 61,
   "metadata": {},
   "outputs": [],
   "source": [
    "fatt_ind.rename(columns={\"Descrizione Agente\": \"Agente\", \"Anno Inserimento Ord\": \"Anno\"}, inplace=True)"
   ]
  },
  {
   "cell_type": "code",
   "execution_count": 62,
   "metadata": {},
   "outputs": [
    {
     "data": {
      "text/html": [
       "<div>\n",
       "<style scoped>\n",
       "    .dataframe tbody tr th:only-of-type {\n",
       "        vertical-align: middle;\n",
       "    }\n",
       "\n",
       "    .dataframe tbody tr th {\n",
       "        vertical-align: top;\n",
       "    }\n",
       "\n",
       "    .dataframe thead th {\n",
       "        text-align: right;\n",
       "    }\n",
       "</style>\n",
       "<table border=\"1\" class=\"dataframe\">\n",
       "  <thead>\n",
       "    <tr style=\"text-align: right;\">\n",
       "      <th></th>\n",
       "      <th>Cliente Merce</th>\n",
       "      <th>Segmento Aggregato</th>\n",
       "      <th>Agente</th>\n",
       "      <th>RSM Agente</th>\n",
       "      <th>Area territoriale</th>\n",
       "      <th>Rete</th>\n",
       "      <th>Area Prodotto</th>\n",
       "      <th>Linea Prodotti</th>\n",
       "      <th>Fornitura (SW)</th>\n",
       "      <th>Solution</th>\n",
       "      <th>GTM BDG</th>\n",
       "      <th>Anno</th>\n",
       "      <th>Raccolto</th>\n",
       "    </tr>\n",
       "  </thead>\n",
       "  <tbody>\n",
       "    <tr>\n",
       "      <th>0</th>\n",
       "      <td>40</td>\n",
       "      <td>Studi Fiscali</td>\n",
       "      <td>VERSYA S.P.A.</td>\n",
       "      <td>VINCENZI CRISTINA</td>\n",
       "      <td>Rete IPSOA</td>\n",
       "      <td>Indiretta agenzie</td>\n",
       "      <td>Rinnovi</td>\n",
       "      <td>Software</td>\n",
       "      <td>ON PREMISE</td>\n",
       "      <td>Sistema Professionista</td>\n",
       "      <td>Legacy Tax</td>\n",
       "      <td>2018</td>\n",
       "      <td>3025.97</td>\n",
       "    </tr>\n",
       "    <tr>\n",
       "      <th>1</th>\n",
       "      <td>40</td>\n",
       "      <td>Studi Fiscali</td>\n",
       "      <td>VERSYA S.P.A.</td>\n",
       "      <td>VINCENZI CRISTINA</td>\n",
       "      <td>Rete IPSOA</td>\n",
       "      <td>Indiretta agenzie</td>\n",
       "      <td>Rinnovi</td>\n",
       "      <td>Software</td>\n",
       "      <td>ON PREMISE</td>\n",
       "      <td>Sistema Professionista</td>\n",
       "      <td>Legacy Tax</td>\n",
       "      <td>2018</td>\n",
       "      <td>658.00</td>\n",
       "    </tr>\n",
       "    <tr>\n",
       "      <th>2</th>\n",
       "      <td>40</td>\n",
       "      <td>Studi Fiscali</td>\n",
       "      <td>VERSYA S.P.A.</td>\n",
       "      <td>VINCENZI CRISTINA</td>\n",
       "      <td>Rete IPSOA</td>\n",
       "      <td>Indiretta agenzie</td>\n",
       "      <td>Rinnovi</td>\n",
       "      <td>Software</td>\n",
       "      <td>ON PREMISE</td>\n",
       "      <td>Sistema Professionista</td>\n",
       "      <td>Legacy Tax</td>\n",
       "      <td>2018</td>\n",
       "      <td>628.12</td>\n",
       "    </tr>\n",
       "    <tr>\n",
       "      <th>3</th>\n",
       "      <td>40</td>\n",
       "      <td>Studi Fiscali</td>\n",
       "      <td>VERSYA S.P.A.</td>\n",
       "      <td>VINCENZI CRISTINA</td>\n",
       "      <td>Rete IPSOA</td>\n",
       "      <td>Indiretta agenzie</td>\n",
       "      <td>Rinnovi</td>\n",
       "      <td>Software</td>\n",
       "      <td>ON PREMISE</td>\n",
       "      <td>Siar</td>\n",
       "      <td>Legacy Tax</td>\n",
       "      <td>2018</td>\n",
       "      <td>448.66</td>\n",
       "    </tr>\n",
       "    <tr>\n",
       "      <th>4</th>\n",
       "      <td>40</td>\n",
       "      <td>Studi Fiscali</td>\n",
       "      <td>VERSYA S.P.A.</td>\n",
       "      <td>VINCENZI CRISTINA</td>\n",
       "      <td>Rete IPSOA</td>\n",
       "      <td>Indiretta agenzie</td>\n",
       "      <td>Rinnovi</td>\n",
       "      <td>Software</td>\n",
       "      <td>ON PREMISE</td>\n",
       "      <td>Dichiarazioni Stand Alone</td>\n",
       "      <td>Legacy Tax</td>\n",
       "      <td>2018</td>\n",
       "      <td>169.55</td>\n",
       "    </tr>\n",
       "  </tbody>\n",
       "</table>\n",
       "</div>"
      ],
      "text/plain": [
       "  Cliente Merce Segmento Aggregato         Agente         RSM Agente  \\\n",
       "0            40      Studi Fiscali  VERSYA S.P.A.  VINCENZI CRISTINA   \n",
       "1            40      Studi Fiscali  VERSYA S.P.A.  VINCENZI CRISTINA   \n",
       "2            40      Studi Fiscali  VERSYA S.P.A.  VINCENZI CRISTINA   \n",
       "3            40      Studi Fiscali  VERSYA S.P.A.  VINCENZI CRISTINA   \n",
       "4            40      Studi Fiscali  VERSYA S.P.A.  VINCENZI CRISTINA   \n",
       "\n",
       "  Area territoriale               Rete Area Prodotto Linea Prodotti  \\\n",
       "0        Rete IPSOA  Indiretta agenzie       Rinnovi       Software   \n",
       "1        Rete IPSOA  Indiretta agenzie       Rinnovi       Software   \n",
       "2        Rete IPSOA  Indiretta agenzie       Rinnovi       Software   \n",
       "3        Rete IPSOA  Indiretta agenzie       Rinnovi       Software   \n",
       "4        Rete IPSOA  Indiretta agenzie       Rinnovi       Software   \n",
       "\n",
       "  Fornitura (SW)                   Solution     GTM BDG  Anno  Raccolto  \n",
       "0     ON PREMISE     Sistema Professionista  Legacy Tax  2018   3025.97  \n",
       "1     ON PREMISE     Sistema Professionista  Legacy Tax  2018    658.00  \n",
       "2     ON PREMISE     Sistema Professionista  Legacy Tax  2018    628.12  \n",
       "3     ON PREMISE                       Siar  Legacy Tax  2018    448.66  \n",
       "4     ON PREMISE  Dichiarazioni Stand Alone  Legacy Tax  2018    169.55  "
      ]
     },
     "execution_count": 62,
     "metadata": {},
     "output_type": "execute_result"
    }
   ],
   "source": [
    "fatt_ind.head()"
   ]
  },
  {
   "attachments": {},
   "cell_type": "markdown",
   "metadata": {},
   "source": [
    "## Abbonamenti"
   ]
  },
  {
   "cell_type": "code",
   "execution_count": 58,
   "metadata": {},
   "outputs": [],
   "source": [
    "stato_abb = (cli[\"Stato Esteso\"].str.contains(\"ATTIVO\")) & (cli[\"Stato Sintetico Contratto\"].isin([\"Attivo\",\"Sospeso\"]))\n",
    "columns = [\"Cliente MERCE\",\"Segmento Aggregato Cl.Merce\",'Regione', 'Provincia', \"Agente dell'ORDINE\", \"RSM Agente\", \"Rete\", \"Area territoriale\",'Solution', \"GTM BDG\",\"Fornitura (SW)\",\"Valore PV New\"]"
   ]
  },
  {
   "cell_type": "code",
   "execution_count": 59,
   "metadata": {},
   "outputs": [],
   "source": [
    "def creazione_clienti(df):\n",
    "    \n",
    "    df = cli.loc[stato_abb & (cli[\"Sales Director\"].isin(sales_dir)) ,:].dropna(axis=0, subset=[\"Valore PV New\"]).copy()\n",
    "    \n",
    "    df[\"Sales Director\"] = df[\"Sales Director\"].str.lower()\n",
    "    df[\"Codice ABBONAMENTO\"] = df.loc[:,\"Codice ABBONAMENTO\"].apply(str)\n",
    "\n",
    "    df = df.merge(cod_prod, how=\"left\", left_on=\"Codice ABBONAMENTO\", right_on=\"Codice PRODOTTO\")\\\n",
    "          .merge(sales_director, how=\"left\", on=\"Sales Director\")\\\n",
    "          .merge(agente_ordine, how=\"left\", left_on=\"Agente dell'Abbonamento\", right_on=\"Codice agente\")\n",
    "    df[\"Cliente MERCE\"] = df[\"Cliente MERCE\"].apply(str)\n",
    "    \n",
    "    return df.loc[:, columns]\n",
    "\n",
    "clienti = cli.pipe(creazione_clienti)\n",
    "clienti.rename(columns={\"Cliente MERCE\": \"Cliente Merce\", \"Valore PV New\": \"Valore PV\", \"Segmento Aggregato Cl.Merce\":\"Segmento Aggregato\", \"Agente dell'ORDINE\":\"Agente\"}, inplace=True)"
   ]
  },
  {
   "cell_type": "code",
   "execution_count": 112,
   "metadata": {},
   "outputs": [],
   "source": [
    "anagrafiche = fatt_ind.groupby([\"Cliente Merce\"], dropna=False).size().reset_index()\\\n",
    "    .merge(\n",
    "        clienti.groupby([\"Cliente Merce\", \"Provincia\", \"Regione\"], dropna=False).size().reset_index(), \n",
    "        on= [\"Cliente Merce\"], \n",
    "        how=\"outer\", indicator=True)\\\n",
    "            .sort_values(by=[\"Cliente Merce\"], ascending=False)"
   ]
  },
  {
   "attachments": {},
   "cell_type": "markdown",
   "metadata": {},
   "source": [
    "## Output"
   ]
  },
  {
   "cell_type": "code",
   "execution_count": null,
   "metadata": {},
   "outputs": [],
   "source": [
    "anagrafiche.to_excel(r\"C:\\Users\\Raffaele.Sportiello\\OneDrive - Wolters Kluwer\\Documents\\Analisi agenzie e reseller\\Analisi agenzie\\Data source\\anagrafiche.xlsx\", index=False)\n",
    "clienti.to_excel(r\"C:\\Users\\Raffaele.Sportiello\\OneDrive - Wolters Kluwer\\Documents\\Analisi agenzie e reseller\\Analisi agenzie\\Data source\\clienti.xlsx\", index=False)\n",
    "fatt_ind.to_excel(r\"C:\\Users\\Raffaele.Sportiello\\OneDrive - Wolters Kluwer\\Documents\\Analisi agenzie e reseller\\Analisi agenzie\\Data source\\fatturato_finanziario.xlsx\", index=False)"
   ]
  },
  {
   "cell_type": "code",
   "execution_count": null,
   "metadata": {},
   "outputs": [],
   "source": []
  },
  {
   "cell_type": "code",
   "execution_count": null,
   "metadata": {},
   "outputs": [],
   "source": []
  }
 ],
 "metadata": {
  "kernelspec": {
   "display_name": "Python 3 (ipykernel)",
   "language": "python",
   "name": "python3"
  },
  "language_info": {
   "codemirror_mode": {
    "name": "ipython",
    "version": 3
   },
   "file_extension": ".py",
   "mimetype": "text/x-python",
   "name": "python",
   "nbconvert_exporter": "python",
   "pygments_lexer": "ipython3",
   "version": "3.9.12"
  },
  "vscode": {
   "interpreter": {
    "hash": "b3e4ceeb8545c6f77e2128b60a53d4f76e775a60f7e42e70cb0e4a6bd890691a"
   }
  }
 },
 "nbformat": 4,
 "nbformat_minor": 4
}
