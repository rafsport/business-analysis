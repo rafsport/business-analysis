{
 "cells": [
  {
   "cell_type": "code",
   "execution_count": null,
   "id": "7a20cc79-9936-47ce-9a55-156ae2235736",
   "metadata": {},
   "outputs": [],
   "source": [
    "import pandas as pd\n",
    "import os\n",
    "import numpy as np\n",
    "import datetime as dt\n",
    "\n",
    "from os import listdir\n",
    "from os.path import isfile, join"
   ]
  },
  {
   "cell_type": "code",
   "execution_count": null,
   "id": "69ef5832-dcec-4e27-880d-017cfa4cdff8",
   "metadata": {},
   "outputs": [],
   "source": [
    "idx = pd.IndexSlice"
   ]
  },
  {
   "cell_type": "markdown",
   "id": "83c4a930-9ffc-4609-b7a5-769bbf70b203",
   "metadata": {
    "tags": []
   },
   "source": [
    "# Data collection"
   ]
  },
  {
   "cell_type": "markdown",
   "id": "68c243aa-90d9-475c-bbe3-89b4a5aedb2e",
   "metadata": {
    "tags": []
   },
   "source": [
    "## Parco clienti da Licenze e abbonamenti"
   ]
  },
  {
   "cell_type": "markdown",
   "id": "66d1daaf-b90c-439d-b1a7-7fc72c326502",
   "metadata": {
    "tags": []
   },
   "source": [
    "### Suddivisi per regione (senza data di fine abbonamento)"
   ]
  },
  {
   "cell_type": "markdown",
   "id": "4846c04b-3e4b-46e5-99cc-0b07a18d3dac",
   "metadata": {},
   "source": [
    "[Import multiple excel at once](https://stackoverflow.com/questions/20908018/import-multiple-excel-files-into-python-pandas-and-concatenate-them-into-one-dat)"
   ]
  },
  {
   "cell_type": "code",
   "execution_count": null,
   "id": "a71344b0-ea6c-4311-8b49-d2151d45225a",
   "metadata": {},
   "outputs": [],
   "source": [
    "clienti_regione = r\"C:\\Users\\Raffaele.Sportiello\\OneDrive - Wolters Kluwer\\Documents\\Analisi clienti\\Parco_clienti\\Data export\\\\\"\n",
    "\n",
    "onlyfiles = [f for f in listdir(r\"C:\\Users\\Raffaele.Sportiello\\OneDrive - Wolters Kluwer\\Documents\\Analisi clienti\\Parco_clienti\\Data export\") if isfile(join(r\"C:\\Users\\Raffaele.Sportiello\\OneDrive - Wolters Kluwer\\Documents\\Analisi clienti\\Parco_clienti\\Data export\", f))]\n",
    "\n",
    "df = pd.DataFrame()\n",
    "\n",
    "for file in onlyfiles:\n",
    "    data = pd.read_excel(clienti_regione+file, header=5, engine=\"openpyxl\")\n",
    "    df = df.append(data)"
   ]
  },
  {
   "cell_type": "code",
   "execution_count": null,
   "id": "51369a09-4b89-4542-a08f-ef09fe92b15a",
   "metadata": {},
   "outputs": [],
   "source": [
    "for col in df.select_dtypes(include=[object]).columns:\n",
    "    df[col] = df[col].astype(str)"
   ]
  },
  {
   "cell_type": "code",
   "execution_count": null,
   "id": "db20e642-8752-4250-a221-27c81fb6323c",
   "metadata": {},
   "outputs": [],
   "source": [
    "df.rename(columns={'Unnamed: 6':'Descrizione ABBONAMENTO'}, inplace=True )"
   ]
  },
  {
   "cell_type": "markdown",
   "id": "cea91f21-21c5-433d-bcb0-0d774c964172",
   "metadata": {
    "tags": []
   },
   "source": [
    "### Con data di fine abbonamento"
   ]
  },
  {
   "cell_type": "code",
   "execution_count": null,
   "id": "258be4ad-42ae-48e3-aa7e-13877ac4dc06",
   "metadata": {
    "tags": []
   },
   "outputs": [],
   "source": [
    "bw_file = r\"C:\\Users\\Raffaele.Sportiello\\OneDrive - Wolters Kluwer\\Documents\\Analisi clienti\\Parco_clienti\\Data export\\ZWT_ZSC_010_MARK - Copia.xls\"\n",
    "df = pd.DataFrame(pd.read_html(str(bw_file), encoding = 'utf-8', decimal=\",\", thousands='.')[3])\n",
    "df2 = pd.DataFrame(data=df.loc[1:,:])\n",
    "df2.columns = df.loc[0,:].to_list()\n"
   ]
  },
  {
   "cell_type": "code",
   "execution_count": 33,
   "id": "44cf7c56-f3df-4346-ba51-0cfb37a49b12",
   "metadata": {
    "tags": []
   },
   "outputs": [],
   "source": [
    "cli = pd.read_excel(r\"C:\\Users\\Raffaele.Sportiello\\OneDrive - Wolters Kluwer\\Documents\\Analisi clienti\\Parco_clienti\\Data export\\clienti.xlsx\")"
   ]
  },
  {
   "cell_type": "code",
   "execution_count": 34,
   "id": "6a262cf6-9d79-436d-b7c9-0708235addec",
   "metadata": {},
   "outputs": [],
   "source": [
    "for col in cli.select_dtypes(include=[object]).columns:\n",
    "    cli[col] = cli[col].astype(str)"
   ]
  },
  {
   "cell_type": "code",
   "execution_count": 35,
   "id": "3a3f3dc8-3454-438f-b780-5d730e98e127",
   "metadata": {},
   "outputs": [],
   "source": [
    "cli.rename(columns={'Unnamed: 6':'Descrizione ABBONAMENTO'}, inplace=True )"
   ]
  },
  {
   "cell_type": "markdown",
   "id": "9cdfce47-2750-4cee-b044-3c5ff3264673",
   "metadata": {
    "tags": []
   },
   "source": [
    "## Clienti disdetti"
   ]
  },
  {
   "cell_type": "code",
   "execution_count": 4,
   "id": "de1ff4f7-e7d0-4e55-a2b2-e9a37eeb6ba2",
   "metadata": {
    "tags": []
   },
   "outputs": [],
   "source": [
    "dis = pd.read_excel(r\"C:\\Users\\Raffaele.Sportiello\\OneDrive - Wolters Kluwer\\Documents\\Analisi clienti\\Parco_clienti\\Data export\\clienti_disdetti_da_2017.xlsx\")"
   ]
  },
  {
   "cell_type": "code",
   "execution_count": 5,
   "id": "2ddc626a-8ce9-4d27-af0f-30312a65d369",
   "metadata": {},
   "outputs": [],
   "source": [
    "for col in dis.select_dtypes(include=[object]).columns:\n",
    "    dis[col] = dis[col].astype(str)"
   ]
  },
  {
   "cell_type": "code",
   "execution_count": 6,
   "id": "4d0a46bf-7db3-40bb-897c-c4dd72ce9569",
   "metadata": {},
   "outputs": [],
   "source": [
    "dis.rename(columns={'Unnamed: 6':'Descrizione ABBONAMENTO'}, inplace=True )"
   ]
  },
  {
   "cell_type": "markdown",
   "id": "7cd53e44-c659-4eac-8606-3c719c367aed",
   "metadata": {
    "tags": []
   },
   "source": [
    "## Inflow"
   ]
  },
  {
   "cell_type": "code",
   "execution_count": 36,
   "id": "b9f644d0-f556-4fd8-866f-c17198513f51",
   "metadata": {},
   "outputs": [],
   "source": [
    "inflow_prodotti = r\"C:\\Users\\Raffaele.Sportiello\\OneDrive - Wolters Kluwer\\Documents\\Dashboard inflow\\Dashboard inflow canali e prodotti\\Source\\inflow_prodotti\\\\\"\n",
    "\n",
    "onlyfiles = [f for f in listdir(r\"C:\\Users\\Raffaele.Sportiello\\OneDrive - Wolters Kluwer\\Documents\\Dashboard inflow\\Dashboard inflow canali e prodotti\\Source\\inflow_prodotti\") if isfile(join(r\"C:\\Users\\Raffaele.Sportiello\\OneDrive - Wolters Kluwer\\Documents\\Dashboard inflow\\Dashboard inflow canali e prodotti\\Source\\inflow_prodotti\", f))]\n",
    "\n",
    "inflow = pd.DataFrame()\n",
    "for file in onlyfiles:\n",
    "    data = pd.read_excel(inflow_prodotti+file)\n",
    "    inflow = inflow.append(data)\n",
    "    \n",
    "for col in inflow.select_dtypes(include=[object]).columns:\n",
    "    inflow[col] = inflow[col].astype(str)"
   ]
  },
  {
   "cell_type": "markdown",
   "id": "69c412f4-c92a-4c6f-ace1-87d30b7794f7",
   "metadata": {
    "tags": []
   },
   "source": [
    "## Parametriche"
   ]
  },
  {
   "cell_type": "markdown",
   "id": "4a5ad2b9-f600-41ce-9e61-31655d8775d1",
   "metadata": {},
   "source": [
    "[Import multiple excel at once and assign to multiple dataframes](https://stackoverflow.com/questions/58563546/pandas-save-multiple-sheets-into-separate-dataframes)"
   ]
  },
  {
   "cell_type": "code",
   "execution_count": 7,
   "id": "be88916f-858a-4c0a-80f6-37b9ab350c69",
   "metadata": {},
   "outputs": [],
   "source": [
    "parametriche = r\"C:\\Users\\Raffaele.Sportiello\\OneDrive - Wolters Kluwer\\Documents\\Dashboard inflow\\Parametriche\\\\\"\n",
    "onlyfiles = [f for f in listdir(r\"C:\\Users\\Raffaele.Sportiello\\OneDrive - Wolters Kluwer\\Documents\\Dashboard inflow\\Parametriche\") if isfile(join(r\"C:\\Users\\Raffaele.Sportiello\\OneDrive - Wolters Kluwer\\Documents\\Dashboard inflow\\Parametriche\", f))]\n",
    "\n",
    "par = {}\n",
    "for file in onlyfiles:\n",
    "    file_name=file.split(\".\")[0]\n",
    "    par[f\"{file_name}\"] = pd.read_excel(parametriche+file)"
   ]
  },
  {
   "cell_type": "code",
   "execution_count": null,
   "id": "bff76486-9846-4e84-9be7-e606f79d0107",
   "metadata": {},
   "outputs": [],
   "source": [
    "par.keys()"
   ]
  },
  {
   "cell_type": "markdown",
   "id": "dfba7057-6f0f-4530-bec0-611e67dc0db2",
   "metadata": {
    "tags": []
   },
   "source": [
    "## All accounts da Salesforce"
   ]
  },
  {
   "cell_type": "code",
   "execution_count": null,
   "id": "fcdd17e7-d71e-4949-af8e-b6550f1396b8",
   "metadata": {},
   "outputs": [],
   "source": [
    "from simple_salesforce import Salesforce"
   ]
  },
  {
   "cell_type": "code",
   "execution_count": null,
   "id": "6531bdf5-11c0-4910-b98d-93c0c301594b",
   "metadata": {
    "tags": []
   },
   "outputs": [],
   "source": [
    "sf = Salesforce(username='raffaele.sportiello@wolterskluwer.com',password=pw, security_token='3VbAQfG1Qa1JbBvPRfhk30Sa')\n",
    "\n",
    "#00O07000000FYy9EAG"
   ]
  },
  {
   "cell_type": "code",
   "execution_count": 8,
   "id": "00395331-f660-4ff3-9fd6-75c885031bb5",
   "metadata": {},
   "outputs": [],
   "source": [
    "accounts_sf = pd.read_csv(r\"C:\\Users\\Raffaele.Sportiello\\OneDrive - Wolters Kluwer\\Documents\\Salesforce\\Data export\\IT_all_accounts.csv\", encoding='latin-1', sep=\";\")"
   ]
  },
  {
   "cell_type": "markdown",
   "id": "327e5c09-37a9-4c13-bcd9-48d06aca6fbf",
   "metadata": {},
   "source": [
    "---"
   ]
  },
  {
   "cell_type": "markdown",
   "id": "305293cb-da66-4a12-aa77-3face9efe867",
   "metadata": {
    "jp-MarkdownHeadingCollapsed": true,
    "tags": []
   },
   "source": [
    "# Clienti con prenotazione disdetta"
   ]
  },
  {
   "cell_type": "code",
   "execution_count": null,
   "id": "6c86cbdf-c59e-4e71-bf43-b4a8fbfdffb9",
   "metadata": {},
   "outputs": [],
   "source": [
    "df_genya_disd = df_genya.groupby([\"Stato Esteso\", \"Account Name\", \"Cliente FATTURA\", \"GTM BDG\", \"Solution\", \"Sub solution\", \"Codice PRODOTTO\", \"Rete\", \"Area territoriale\", \"Agente dell'Abbonamento\", df_genya[\"Data Inizio Abb.\"].dt.year]).agg({\"Cliente MERCE\":\"nunique\"}).reset_index()\n",
    "df_genya_disd = df_genya_disd.loc[df_genya_disd[\"Stato Esteso\"] != \"ATTIVO\",:]"
   ]
  },
  {
   "cell_type": "code",
   "execution_count": null,
   "id": "bb84fdba-2471-4d83-a5c0-f7b4206e73b8",
   "metadata": {},
   "outputs": [],
   "source": [
    "df_genya_disd.to_excel(r\"C:\\Users\\Raffaele.Sportiello\\OneDrive - Wolters Kluwer\\Documents\\Analisi clienti\\Parco_clienti\\Genya\\clienti_genya_con_stato.xlsx\", index=False)"
   ]
  },
  {
   "cell_type": "markdown",
   "id": "6a2431d7-ecc4-4d53-bf3f-88ed88df4525",
   "metadata": {},
   "source": [
    "---"
   ]
  },
  {
   "cell_type": "markdown",
   "id": "62f869ba-e951-4f93-9817-4f891103cec0",
   "metadata": {
    "tags": []
   },
   "source": [
    "# Clienti inside sales"
   ]
  },
  {
   "cell_type": "markdown",
   "id": "c8bc3ba9-9a2c-4b3f-845f-08963881426a",
   "metadata": {
    "jp-MarkdownHeadingCollapsed": true,
    "tags": []
   },
   "source": [
    "## Versione 1 (old)"
   ]
  },
  {
   "cell_type": "code",
   "execution_count": null,
   "id": "8c9de524-2f4f-4cd1-9806-4bea9186819b",
   "metadata": {},
   "outputs": [],
   "source": [
    "cl = r\"C:\\Users\\Raffaele.Sportiello\\OneDrive - Wolters Kluwer\\Documents\\Reports\\Parametriche\\Classificazione_codice_prodotto.xlsx\"\n",
    "match = r\"C:\\Users\\Raffaele.Sportiello\\OneDrive - Wolters Kluwer\\Documents\\Reports\\Analisi clienti\\clienti_insides_v2.xlsx\"\n",
    "\n",
    "df_cl = pd.read_excel(cl, engine=\"openpyxl\")\n",
    "\n",
    "df_match = pd.read_excel(match, sheet_name=\"BW\", engine=\"openpyxl\", dtype={\"Cliente MERCE\":\"string\"})\n",
    "df_bridio = pd.read_excel(match,sheet_name=\"bridio\", engine=\"openpyxl\", dtype={\"COD.CLI\":\"string\", \"CAP\":\"string\",\"COD.FISCALE\":\"string\",\"PART.IVA\":\"string\"})\n",
    "\n",
    "filt = (df_match[\"Consenso Privacy\"] == \"Senza attribuz.\") & (df_match[\"No TVA\"] == \"Senza attribuz.\") & (df_match[\"Sales Director\"].str.contains(\"ARTEL DIRETTA|ENTERPRISE|LARGE ACCOUNT|Senza attribuz.|WKIC CENTRO SUD|WKIC NORD EST|WKIC NORD OVEST\"))\n",
    "columns_match = [\"Cliente MERCE\", \"Regione\", \"Tipo Partner Aggrega\", \"Sales Director\", \"Cod Agente dell'Abbonamento\", \"Agente dell'Abbonamento\", \"Prodotto (SW)\", \"Soluzione (SW)\", \"Cluster (SW)\", \"Area (SW)\", \"Canale di VENDITA\", \"Valore PV New\"]\n",
    "columns_bridio =[\"COD.CLI\", \"RAG.SOC.1\", \"RAG.SOC.2\", \"RAG.SOC.3\", \"INDIRIZZO\", \"LOCALITA'\", \"TELEFONO 1\", \"TELEFONO 2\", \"PART.IVA\"]\n",
    "\n",
    "pv_target = df_match.loc[filt].groupby([\"Cliente MERCE\"]).agg({\"Valore PV New\":\"sum\"}).reset_index()\n",
    "pv_target = pv_target.loc[(pv_target[\"Valore PV New\"] > 0) & (pv_target[\"Valore PV New\"] < 1200), :]\n",
    "\n",
    "df = df_match.loc[filt, columns_match].merge(pv_target.loc[:,\"Cliente MERCE\"], on=\"Cliente MERCE\", how=\"inner\").merge(df_bridio.loc[:, columns_bridio], left_on=\"Cliente MERCE\", right_on=\"COD.CLI\", how=\"left\").merge(df_cl.loc[:,[\"Prodotto (SW)\",\"Business area\"]].drop_duplicates(subset=\"Prodotto (SW)\"), on=\"Prodotto (SW)\", how=\"left\")\n",
    "\n",
    "\n",
    "df.to_excel(r\"C:\\Users\\Raffaele.Sportiello\\OneDrive - Wolters Kluwer\\Documents\\Reports\\Analisi clienti\\clienti_insides_v4.xlsx\", index=False)\n",
    "\n",
    "df_gr = df.groupby([\"Cliente MERCE\",\"PART.IVA\",\"RAG.SOC.1\",\"RAG.SOC.2\",\"RAG.SOC.3\",\"TELEFONO 1\",\"TELEFONO 2\",\"Regione\",\"Sales Director\",\"Cod Agente dell'Abbonamento\",\"Agente dell'Abbonamento\",\"Business area\"], dropna=False).agg({\"Valore PV New\":\"sum\"}).reset_index()\n",
    "\n",
    "df_gr.columns = [\"Cliente merce\",  \"PIVA\" , \"Ragione Sociale 1\", \"Ragione Sociale 2\", \"Ragione Sociale 3\", \"Telefono 1\", \"Telefono 2\", \"Regione\", \"Area cliente\", \"Cod. Sales\" , \"Rag. Soc. Sales\", \"Area PV\", \"PV\"]\n",
    "\n",
    "df.info()"
   ]
  },
  {
   "cell_type": "code",
   "execution_count": null,
   "id": "30279b2b-bcfb-486d-b9ec-cd5325406e6b",
   "metadata": {},
   "outputs": [],
   "source": [
    "df_gr.to_excel(r\"C:\\Users\\Raffaele.Sportiello\\OneDrive - Wolters Kluwer\\Documents\\Reports\\Analisi clienti\\clienti_insides_v3.xlsx\", index=False)"
   ]
  },
  {
   "cell_type": "markdown",
   "id": "36a6c425-6529-4ad2-bedc-870c7e4b378b",
   "metadata": {},
   "source": [
    "## Versione 2"
   ]
  },
  {
   "cell_type": "markdown",
   "id": "70d32180-8fee-4772-a180-480e4337cd2f",
   "metadata": {},
   "source": [
    "### Estrazione clienti"
   ]
  },
  {
   "cell_type": "code",
   "execution_count": null,
   "id": "52c098dc-2982-4aa3-889a-ecb61290db82",
   "metadata": {},
   "outputs": [],
   "source": [
    "estrazione_bw_clienti_inside_sale = r\"C:\\Users\\Raffaele.Sportiello\\OneDrive - Wolters Kluwer\\Documents\\Analisi clienti\\Clienti_inside_sales\\estrazione_bw_clienti_inside_sales_20220414.xlsx\"\n",
    "estrazione_anagrafiche = r\"C:\\Users\\Raffaele.Sportiello\\OneDrive - Wolters Kluwer\\Documents\\Analisi clienti\\Clienti_inside_sales\\bridio_clienti_ins_sales_diretta+enterprise.xlsx\"\n",
    "\n",
    "cli_ins = pd.read_excel(estrazione_bw_clienti_inside_sale, engine=\"openpyxl\", dtype={\"Cliente MERCE\":\"string\"})\n",
    "\n",
    "bridio = pd.read_excel(estrazione_anagrafiche, engine=\"openpyxl\", dtype={\"COD.CLI\":\"string\"})\n",
    "\n",
    "cli_ins = cli_ins.merge(bridio, how=\"left\", left_on=\"Cliente MERCE\", right_on=\"COD.CLI\")"
   ]
  },
  {
   "cell_type": "markdown",
   "id": "b8ea9ce6-15ce-45e9-8214-02f229aacfb1",
   "metadata": {},
   "source": [
    "### Parametriche"
   ]
  },
  {
   "cell_type": "code",
   "execution_count": null,
   "id": "cd3a825e-09f4-43d0-80eb-4216ce55f07e",
   "metadata": {
    "tags": []
   },
   "outputs": [],
   "source": [
    "parametriche = r\"C:\\Users\\Raffaele.Sportiello\\OneDrive - Wolters Kluwer\\Documents\\Dashboard inflow\\Parametriche\\\\\"\n",
    "onlyfiles = [f for f in listdir(r\"C:\\Users\\Raffaele.Sportiello\\OneDrive - Wolters Kluwer\\Documents\\Dashboard inflow\\Parametriche\") if isfile(join(r\"C:\\Users\\Raffaele.Sportiello\\OneDrive - Wolters Kluwer\\Documents\\Dashboard inflow\\Parametriche\", f))]\n",
    "\n",
    "par = {}\n",
    "for file in onlyfiles:\n",
    "    file_name=file.split(\".\")[0]\n",
    "    par[f\"{file_name}\"] = pd.read_excel(parametriche+file)"
   ]
  },
  {
   "cell_type": "code",
   "execution_count": null,
   "id": "af6e50cb-b0db-4b14-8521-d30a1dce3184",
   "metadata": {},
   "outputs": [],
   "source": [
    "par.keys()"
   ]
  },
  {
   "cell_type": "code",
   "execution_count": null,
   "id": "4b0ad448-d327-468c-864f-14bae6c7beb0",
   "metadata": {},
   "outputs": [],
   "source": [
    "sales_director = par[\"Sales_director\"]\n",
    "sales_director[\"Sales Director\"] = sales_director[\"Sales Director\"].str.upper()\n",
    "sales_director = sales_director.loc[:, [\"Sales Director\", \"Area territoriale\", \"Rete\"]]\n",
    "\n",
    "cli_ins_agente = cli_ins.merge(sales_director, how=\"left\", on=\"Sales Director\")"
   ]
  },
  {
   "cell_type": "code",
   "execution_count": null,
   "id": "023d74b6-2883-4abd-aeb8-b123aa2b187c",
   "metadata": {},
   "outputs": [],
   "source": [
    "cli_ins_agente[\"Valore PV\"] = cli_ins_agente.groupby([\"Cliente MERCE\"], dropna=False)[\"Valore PV New\"].transform(\"sum\")\n",
    "\n",
    "filt = (cli_ins_agente[\"Valore PV\"] > 0) & (cli_ins_agente[\"Valore PV\"] < 1201) & (cli_ins_agente[\"Area territoriale\"].isin([\"Nord-Ovest\",\"Nord-Est\",\"Centro-Sud\",\"Enterprise\"]))\n",
    "cli_ins_agente = cli_ins_agente.loc[filt, :]"
   ]
  },
  {
   "cell_type": "code",
   "execution_count": null,
   "id": "c2344c9c-dca9-4c9d-aaf7-955c06e731a9",
   "metadata": {},
   "outputs": [],
   "source": [
    "cli_ins_sales_agente = cli_ins_agente.groupby([\"Cliente MERCE\",\"Consenso Privacy\",\"No TVA\",\"Morosità\",\"Rete\",\"Area territoriale\", \"Sales Director\",\"Agente dell'Abbonamento\",'Prodotto (SW)','RAG.SOC.1', 'RAG.SOC.2', 'RAG.SOC.3','INDIRIZZO', \"LOCALITA'\", \"TELEFONO 1\", 'FAX', 'PROV', 'CAP', 'COD.FISCALE', 'PART.IVA'], dropna=False)[\"Valore PV New\"].sum().reset_index()\n"
   ]
  },
  {
   "cell_type": "code",
   "execution_count": null,
   "id": "27c6e271-5e21-492f-9dae-006f613fd7c3",
   "metadata": {},
   "outputs": [],
   "source": [
    "cli_ins_sales_agente.to_excel(r\"C:\\Users\\Raffaele.Sportiello\\OneDrive - Wolters Kluwer\\Documents\\Analisi clienti\\Clienti_inside_sales\\clienti_inside_sales_DEF.xlsx\", index=False)"
   ]
  },
  {
   "cell_type": "markdown",
   "id": "53915029-64de-405b-8777-33db25ab435a",
   "metadata": {},
   "source": [
    "### Inflow"
   ]
  },
  {
   "cell_type": "code",
   "execution_count": null,
   "id": "0fbe2652-0ed6-4c50-a7fa-2747dd6726ca",
   "metadata": {},
   "outputs": [],
   "source": [
    "inflow_prodotti = r\"C:\\Users\\Raffaele.Sportiello\\OneDrive - Wolters Kluwer\\Documents\\Dashboard inflow\\Dashboard inflow canali e prodotti\\Source\\inflow_prodotti\\\\\"\n",
    "\n",
    "onlyfiles = [f for f in listdir(r\"C:\\Users\\Raffaele.Sportiello\\OneDrive - Wolters Kluwer\\Documents\\Dashboard inflow\\Dashboard inflow canali e prodotti\\Source\\inflow_prodotti\") if isfile(join(r\"C:\\Users\\Raffaele.Sportiello\\OneDrive - Wolters Kluwer\\Documents\\Dashboard inflow\\Dashboard inflow canali e prodotti\\Source\\inflow_prodotti\", f))]\n",
    "\n",
    "df = pd.DataFrame()\n",
    "\n",
    "for file in onlyfiles:\n",
    "    data = pd.read_excel(inflow_prodotti+file)\n",
    "    df = df.append(data)"
   ]
  },
  {
   "cell_type": "code",
   "execution_count": null,
   "id": "eb412357-9284-468c-aad3-b4222dd44f4d",
   "metadata": {},
   "outputs": [],
   "source": [
    "for col in df.select_dtypes(include=[object]).columns:\n",
    "    df[col] = df[col].astype(str)"
   ]
  },
  {
   "cell_type": "code",
   "execution_count": null,
   "id": "ae7e07d7-0785-4478-869d-748dc91df73a",
   "metadata": {},
   "outputs": [],
   "source": [
    "df[\"Cliente Merce\"] = df[\"Cliente Merce\"].astype(str)"
   ]
  },
  {
   "cell_type": "code",
   "execution_count": null,
   "id": "32eb1bb4-ed17-490c-b125-11f2ccd32fcf",
   "metadata": {},
   "outputs": [],
   "source": [
    "df.columns"
   ]
  },
  {
   "cell_type": "markdown",
   "id": "f0942bae-6887-4252-b775-e2894afcff10",
   "metadata": {
    "tags": []
   },
   "source": [
    "### Merge dataframe PV e dataframe Inflow"
   ]
  },
  {
   "cell_type": "code",
   "execution_count": null,
   "id": "b6036129-19bf-4c28-9a17-b7665a2582ea",
   "metadata": {},
   "outputs": [],
   "source": [
    "esc_fatture = par[\"Esclusione_fatture\"]\n",
    "esc_fatture[\"Numero Fattura\"] = esc_fatture[\"Numero Fattura\"].astype(str)\n",
    "\n",
    "esc_ordini = par[\"Esclusione_ordini\"]\n",
    "esc_ordini[\"Numero Ordine\"] = esc_ordini[\"Numero Ordine\"].astype(str)\n",
    "\n",
    "li_prodotti = par[\"Linea_prodotti\"]\n",
    "\n",
    "df_merge = df.merge(esc_fatture, on=\"Numero Fattura\", how=\"left\").merge(esc_ordini, on=\"Numero Ordine\", how=\"left\")"
   ]
  },
  {
   "cell_type": "code",
   "execution_count": null,
   "id": "1bfeeaf5-4956-40bc-9095-c75e61cb3c85",
   "metadata": {},
   "outputs": [],
   "source": [
    "esclusioni = (df_merge['Data Ins. Ordine (monitoraggio)'].dt.year == 2022)&(df_merge[\"Escludi fatture\"].isna())&(df_merge[\"Escludi ordine\"].isna())\n",
    "\n",
    "df_2022 = df_merge.loc[esclusioni, :]\n",
    "\n",
    "cli_ordini_2022 = df_2022.groupby([\"Cliente Merce\"])[\"Raccolto\"].sum().reset_index()"
   ]
  },
  {
   "cell_type": "code",
   "execution_count": null,
   "id": "4ffeac2e-b14e-4847-833c-7fa16453038a",
   "metadata": {},
   "outputs": [],
   "source": [
    "cli_ins_con_ordini_2022 = cli_ins_sales_agente.merge(cli_ordini_2022, how=\"inner\", left_on=\"Cliente MERCE\", right_on=\"Cliente Merce\")\n",
    "cli_ins_con_ordini_2022 = cli_ins_con_ordini_2022.loc[:, [\"Cliente Merce\",\"Consenso Privacy\",\"No TVA\",\"Morosità\",\"Area territoriale\",\"Agente dell'Abbonamento\",\"Valore PV New\",\"Raccolto\"]]"
   ]
  },
  {
   "cell_type": "code",
   "execution_count": null,
   "id": "4bec9661-2178-463c-8b8a-b407837fc8a3",
   "metadata": {},
   "outputs": [],
   "source": [
    "with pd.ExcelWriter(r\"C:\\Users\\Raffaele.Sportiello\\OneDrive - Wolters Kluwer\\Documents\\Analisi clienti\\Clienti_inside_sales\\clienti_inside_sales_20220425.xlsx\") as writer:\n",
    "    cli_ins_sales_agente.to_excel(writer, sheet_name=\"agente\", index=False)\n",
    "    cli_ins_con_ordini_2022.to_excel(writer, sheet_name=\"inflow\", index=False)"
   ]
  },
  {
   "cell_type": "markdown",
   "id": "17143961-ba3f-4d31-a085-9f605ea4200d",
   "metadata": {},
   "source": [
    "---"
   ]
  },
  {
   "cell_type": "markdown",
   "id": "2f2bba0b-4c2d-4e5c-b8d4-05d22e7000fe",
   "metadata": {
    "jp-MarkdownHeadingCollapsed": true,
    "tags": []
   },
   "source": [
    "# Clienti di specifici venditori"
   ]
  },
  {
   "cell_type": "code",
   "execution_count": null,
   "id": "813b5cd6-027a-4f64-9995-4c20dd4c1675",
   "metadata": {},
   "outputs": [],
   "source": [
    "cod_prod = par[\"Classificazione_codice_prodotto\"]\n",
    "cod_prod[\"Codice PRODOTTO\"] = cod_prod[\"Codice PRODOTTO\"].apply(lambda x: str(x))\n",
    "cod_prod = cod_prod.loc[:, ['MDM', 'GTM BDG', 'Solution', \"Prodotto (SW)\",\"Codice PRODOTTO\"]]"
   ]
  },
  {
   "cell_type": "markdown",
   "id": "3891a10e-8e78-40e7-a0bf-3b88b4587cf1",
   "metadata": {},
   "source": [
    "## Vito Ronzano"
   ]
  },
  {
   "cell_type": "code",
   "execution_count": null,
   "id": "3d394b69-d5e6-49ea-a238-84de089cf4b8",
   "metadata": {},
   "outputs": [],
   "source": [
    "agente = \"RONZANO VITO\"\n",
    "columns = [\"Cliente FATTURA\", \"Segmento Aggregato Cl.Merce\", \"Stato Esteso\", \"Data Inizio Abb.\", \"Agente dell'Abbonamento\", \"Codice ABBONAMENTO\",\"Provincia\",\"Valore PV New\"]\n",
    "ronzano = cli.loc[cli[\"Agente dell'Abbonamento\"] == agente, columns].copy()\n",
    "ronzano[\"Codice ABBONAMENTO\"] = ronzano.loc[:,\"Codice ABBONAMENTO\"].apply(lambda x: str(x))\n",
    "ronzano[\"Cliente FATTURA\"] = ronzano[\"Cliente FATTURA\"].astype(str).apply(lambda x: \"IT-\" + x.zfill(10))"
   ]
  },
  {
   "cell_type": "code",
   "execution_count": null,
   "id": "6ab7013b-36bf-43ae-b2d2-35d6e09dfefe",
   "metadata": {},
   "outputs": [],
   "source": [
    "ronzano = ronzano.merge(cod_prod, how=\"left\", left_on=\"Codice ABBONAMENTO\", right_on=\"Codice PRODOTTO\").merge(accounts_sf.loc[:,[\"WK Account Number\", \"Account Name\"]], how=\"left\", left_on=\"Cliente FATTURA\", right_on=\"WK Account Number\")"
   ]
  },
  {
   "cell_type": "code",
   "execution_count": null,
   "id": "066f8601-c99e-4fe4-8d79-3b06e85e70e4",
   "metadata": {},
   "outputs": [],
   "source": [
    "ronzano = ronzano.groupby([\"Account Name\", \"WK Account Number\", \"Provincia\", \"Prodotto (SW)\"]).agg({\"Valore PV New\":\"sum\"}).unstack(3)\n",
    "ronzano.columns = ronzano.columns.droplevel()\n",
    "ronzano = ronzano.loc[ronzano[\"ARCA EVOLUTION\"].notna(), :]\n",
    "ronzano.dropna(axis=1, how=\"all\", inplace=True)"
   ]
  },
  {
   "cell_type": "code",
   "execution_count": null,
   "id": "5abdd2ba-bca2-4fb4-b47f-61e0ac7a4e77",
   "metadata": {},
   "outputs": [],
   "source": [
    "ronzano.to_excel(r\"C:\\Users\\Raffaele.Sportiello\\OneDrive - Wolters Kluwer\\Documents\\Analisi clienti\\Clienti_agente\\ronzano.xlsx\")"
   ]
  },
  {
   "cell_type": "markdown",
   "id": "65630312-24b4-4651-90a2-8ffa9422d8cc",
   "metadata": {
    "tags": []
   },
   "source": [
    "## Luigi La Sala"
   ]
  },
  {
   "cell_type": "code",
   "execution_count": null,
   "id": "bdfd69ab-fac5-491b-8e74-c024d1476ad3",
   "metadata": {},
   "outputs": [],
   "source": [
    "agente = \"LA SALA LUIGI\"\n",
    "columns = [\"Cliente FATTURA\", \"Segmento Aggregato Cl.Merce\", \"Stato Esteso\", \"Data Inizio Abb.\", \"Agente dell'Abbonamento\", \"Codice ABBONAMENTO\",\"Provincia\",\"Valore PV New\"]\n",
    "la_sala = cli.loc[cli[\"Agente dell'Abbonamento\"] == agente, columns].copy()\n",
    "la_sala[\"Codice ABBONAMENTO\"] = la_sala.loc[:,\"Codice ABBONAMENTO\"].apply(lambda x: str(x))\n",
    "la_sala[\"Cliente FATTURA\"] = la_sala[\"Cliente FATTURA\"].astype(str).apply(lambda x: \"IT-\" + x.zfill(10))\n",
    "\n",
    "la_sala = la_sala.merge(cod_prod, how=\"left\", left_on=\"Codice ABBONAMENTO\", right_on=\"Codice PRODOTTO\").merge(accounts_sf.loc[:,[\"WK Account Number\", \"Account Name\"]], how=\"left\", left_on=\"Cliente FATTURA\", right_on=\"WK Account Number\")\n",
    "\n",
    "la_sala = la_sala.groupby([\"Account Name\", \"WK Account Number\", \"Provincia\", \"Prodotto (SW)\"]).agg({\"Valore PV New\":\"sum\"}).unstack(3)\n",
    "la_sala.columns = la_sala.columns.droplevel()\n",
    "la_sala = la_sala.loc[la_sala[\"ARCA EVOLUTION\"].notna(), :]\n",
    "la_sala.dropna(axis=1, how=\"all\", inplace=True)"
   ]
  },
  {
   "cell_type": "code",
   "execution_count": null,
   "id": "9f7abee7-3447-40cb-9647-6f378ee644db",
   "metadata": {},
   "outputs": [],
   "source": [
    "la_sala.to_excel(r\"C:\\Users\\Raffaele.Sportiello\\OneDrive - Wolters Kluwer\\Documents\\Analisi clienti\\Clienti_agente\\la_sala.xlsx\")"
   ]
  },
  {
   "cell_type": "code",
   "execution_count": null,
   "id": "5384e14d-3683-4b16-a76e-dbfa66fd11d4",
   "metadata": {},
   "outputs": [],
   "source": [
    "cli.columns"
   ]
  },
  {
   "cell_type": "markdown",
   "id": "a887b3df-3783-47c7-bd75-07aa4191fca9",
   "metadata": {
    "tags": []
   },
   "source": [
    "---"
   ]
  },
  {
   "cell_type": "markdown",
   "id": "5baa26dd-140c-45b5-bdc4-9df40df4d859",
   "metadata": {
    "jp-MarkdownHeadingCollapsed": true,
    "tags": []
   },
   "source": [
    "# Clienti con fiscale e paghe per GTM"
   ]
  },
  {
   "cell_type": "code",
   "execution_count": null,
   "id": "e86a4b8b-d782-40cb-94c7-3a6d49052518",
   "metadata": {},
   "outputs": [],
   "source": [
    "cod_prod = par[\"Classificazione_codice_prodotto\"]\n",
    "cod_prod[\"Codice PRODOTTO\"] = cod_prod[\"Codice PRODOTTO\"].apply(lambda x: str(x))\n",
    "cod_prod = cod_prod.loc[:, ['MDM', 'GTM BDG', 'Solution',\"Codice PRODOTTO\"]]\n",
    "\n",
    "sales = par[\"Sales_director\"]\n",
    "sales = sales.loc[:,[\"Sales Director\", \"Area territoriale\", \"Rete\"]]"
   ]
  },
  {
   "cell_type": "code",
   "execution_count": null,
   "id": "6f83cc65-e5aa-49b9-883b-ea8711c01b10",
   "metadata": {},
   "outputs": [],
   "source": [
    "filt = (cli[\"Segmento Aggregato Cl.Merce\"] == \"Studi Fiscali\") & (cli[\"Stato Esteso\"].str.contains(\"ATTIVO\"))\n",
    "columns = [\"Cliente MERCE\", \"Agente dell'Abbonamento\", \"Codice ABBONAMENTO\",\"Sales Director\"]\n",
    "cli_fisc_paghe = cli.loc[filt, columns].copy()\n",
    "cli_fisc_paghe[\"Codice ABBONAMENTO\"] = cli_fisc_paghe.loc[:,\"Codice ABBONAMENTO\"].apply(lambda x: str(x))\n",
    "\n",
    "cli_fisc_paghe = cli_fisc_paghe.merge(cod_prod, how=\"left\", left_on=\"Codice ABBONAMENTO\", right_on=\"Codice PRODOTTO\").merge(sales, how=\"left\", on=\"Sales Director\")"
   ]
  },
  {
   "cell_type": "markdown",
   "id": "b038b274-e183-4918-af82-2c633d524733",
   "metadata": {
    "tags": []
   },
   "source": [
    "## Clienti con fiscale e paghe - Agenzie"
   ]
  },
  {
   "cell_type": "code",
   "execution_count": null,
   "id": "0de233fa-5560-4ee3-a8f4-8486f0e9c1c5",
   "metadata": {},
   "outputs": [],
   "source": [
    "filt = cli_fisc_paghe[\"Rete\"] == \"Indiretta agenzie\"\n",
    "columns = [\"Cliente MERCE\", \"Agente dell'Abbonamento\", 'GTM BDG', 'Solution', \"Sales Director\",\"Area territoriale\", \"Rete\"]\n",
    "agenti = cli_fisc_paghe.loc[filt, columns]\n",
    "\n",
    "agenti = agenti.groupby([\"Rete\",\"Area territoriale\",\"Agente dell'Abbonamento\", \"Cliente MERCE\",\"Solution\"]).agg({\"Cliente MERCE\":\"nunique\"}).unstack(4).reset_index().droplevel(0, axis=1)\n",
    "\n",
    "agenti.columns = ['Rete', 'Area territoriale', \"Agente dell'Abbonamento\", 'Cliente MERCE', 'Arca Evolution', 'Arca Professional', 'Arkmanager',\n",
    "       'Arkon', 'B.Point', 'B.Point Azienda', 'B.Point Paghe', 'Basilea',\n",
    "       'Bilancio Consolidato', 'Conservazione Smart', 'Country By Country',\n",
    "       'Dichiarazioni Stand Alone', 'Direzione Studio', 'Firma Web',\n",
    "       'Genya Bilancio', 'Genya CFO', 'Genya Dichiarativi', 'Genya Suite',\n",
    "       'Giotto', 'Microsoft SQL', 'Other', 'Pec Cloud', 'Pers Area Aziendale',\n",
    "       'Prima Nota', 'Privacy Cloud', 'Remote Studio', 'Revisya', 'Siar',\n",
    "       'Simultax', 'Sistema Professionista', 'Smart Sign', 'Suite Bilancio',\n",
    "       'Tandem', 'Teseo', 'Tuttomodelli', 'Tuttotel', 'Valutazione Azienda',\n",
    "       'Webdesk']\n",
    "\n",
    "agenti = agenti.loc[:,['Rete', 'Area territoriale', \"Agente dell'Abbonamento\", 'Cliente MERCE', 'B.Point',\"Sistema Professionista\",\"B.Point Paghe\", \"Giotto\"]]\n",
    "\n",
    "agenti_bpoint = agenti.loc[agenti[\"B.Point\"].notna()]\n",
    "agenti_bpoint = agenti_bpoint.groupby([\"Agente dell'Abbonamento\"]).agg({\"Cliente MERCE\":\"nunique\"}).reset_index()\n",
    "agenti_bpoint.rename(columns={\"Cliente MERCE\":\"B.Point\"}, inplace=True)\n",
    "\n",
    "agenti_sistprof = agenti.loc[agenti[\"Sistema Professionista\"].notna()]\n",
    "agenti_sistprof = agenti_sistprof.groupby([\"Agente dell'Abbonamento\"]).agg({\"Cliente MERCE\":\"nunique\"}).reset_index()\n",
    "agenti_sistprof.rename(columns={\"Cliente MERCE\":\"Sistema Professionista\"}, inplace=True)\n",
    "\n",
    "agenti_bpointpaghe = agenti.loc[agenti[\"B.Point Paghe\"].notna()]\n",
    "agenti_bpointpaghe = agenti_bpointpaghe.groupby([\"Agente dell'Abbonamento\"]).agg({\"Cliente MERCE\":\"nunique\"}).reset_index()\n",
    "agenti_bpointpaghe.rename(columns={\"Cliente MERCE\":\"B.Point Paghe\"}, inplace=True)\n",
    "\n",
    "agenti_giotto = agenti.loc[agenti[\"Giotto\"].notna()]\n",
    "agenti_giotto = agenti_giotto.groupby([\"Agente dell'Abbonamento\"]).agg({\"Cliente MERCE\":\"nunique\"}).reset_index()\n",
    "agenti_giotto.rename(columns={\"Cliente MERCE\":\"Giotto\"}, inplace=True)\n",
    "\n",
    "agenti_fisc_bpointpaghe = agenti.loc[((agenti[\"B.Point\"].notna())|(agenti[\"Sistema Professionista\"].notna()))&(agenti[\"B.Point Paghe\"].notna())]\n",
    "agenti_fisc_bpointpaghe = agenti_fisc_bpointpaghe.groupby([\"Agente dell'Abbonamento\"]).agg({\"Cliente MERCE\":\"nunique\"}).reset_index()\n",
    "agenti_fisc_bpointpaghe.rename(columns={\"Cliente MERCE\":\"B.Point Paghe con fiscale\"}, inplace=True)\n",
    "\n",
    "agenti_fisc_giotto = agenti.loc[((agenti[\"B.Point\"].notna())|(agenti[\"Sistema Professionista\"].notna()))&(agenti[\"Giotto\"].notna())]\n",
    "agenti_fisc_giotto = agenti_fisc_giotto.groupby([\"Agente dell'Abbonamento\"]).agg({\"Cliente MERCE\":\"nunique\"}).reset_index()\n",
    "agenti_fisc_giotto.rename(columns={\"Cliente MERCE\":\"Giotto con fiscale\"}, inplace=True)\n",
    "\n",
    "agenti = agenti_bpoint.merge(agenti_sistprof, how=\"outer\", on=\"Agente dell'Abbonamento\").merge(agenti_bpointpaghe, how=\"outer\", on=\"Agente dell'Abbonamento\").merge(agenti_fisc_bpointpaghe, how=\"outer\", on=\"Agente dell'Abbonamento\").merge(agenti_giotto, how=\"outer\", on=\"Agente dell'Abbonamento\").merge(agenti_fisc_giotto, how=\"outer\", on=\"Agente dell'Abbonamento\")"
   ]
  },
  {
   "cell_type": "markdown",
   "id": "705cb485-99cb-4caf-927a-2582ffcc27cd",
   "metadata": {
    "tags": []
   },
   "source": [
    "## Clienti con fiscale e paghe - Concessionari"
   ]
  },
  {
   "cell_type": "code",
   "execution_count": null,
   "id": "b6c53ff5-eeeb-4fd7-9d50-aea8afba27ba",
   "metadata": {},
   "outputs": [],
   "source": [
    "filt = cli_fisc_paghe[\"Rete\"] == \"Indiretta concessionari\"\n",
    "columns = [\"Cliente MERCE\", \"Agente dell'Abbonamento\", 'GTM BDG', 'Solution', \"Sales Director\",\"Area territoriale\", \"Rete\"]\n",
    "concessionari = cli_fisc_paghe.loc[filt, columns]\n",
    "\n",
    "concessionari = concessionari.groupby([\"Rete\",\"Area territoriale\",\"Agente dell'Abbonamento\", \"Cliente MERCE\",\"Solution\"]).agg({\"Cliente MERCE\":\"nunique\"}).unstack(4).reset_index().droplevel(0, axis=1)\n",
    "\n",
    "concessionari.columns = ['Rete', 'Area territoriale', \"Agente dell'Abbonamento\", 'Cliente MERCE', 'Arca Evolution', 'Arkon', 'B.Point', 'B.Point Azienda',\n",
    "       'B.Point Paghe', 'Basilea', 'Bilancio Consolidato',\n",
    "       'Conservazione Smart', 'Dichiarazioni Stand Alone', 'Direzione Studio',\n",
    "       'Firma Web', 'Genya Bilancio', 'Genya CFO', 'Genya Suite', 'Giotto',\n",
    "       'Microsoft SQL', 'Prima Nota', 'Privacy Cloud', 'Revisya', 'Siar',\n",
    "       'Simultax', 'Sistema Professionista', 'Smart Sign', 'Suite Bilancio',\n",
    "       'Tandem', 'Teseo', 'Tuttomodelli', 'Tuttotel', 'Valutazione Azienda',\n",
    "       'Webdesk']\n",
    "\n",
    "concessionari = concessionari.loc[:,['Rete', 'Area territoriale', \"Agente dell'Abbonamento\", 'Cliente MERCE', 'B.Point',\"Sistema Professionista\",\"B.Point Paghe\", \"Giotto\"]]\n",
    "\n",
    "concessionari_bpoint = concessionari.loc[concessionari[\"B.Point\"].notna()]\n",
    "concessionari_bpoint = concessionari_bpoint.groupby([\"Agente dell'Abbonamento\"]).agg({\"Cliente MERCE\":\"nunique\"}).reset_index()\n",
    "concessionari_bpoint.rename(columns={\"Cliente MERCE\":\"B.Point\"}, inplace=True)\n",
    "\n",
    "concessionari_sistprof = concessionari.loc[concessionari[\"Sistema Professionista\"].notna()]\n",
    "concessionari_sistprof = concessionari_sistprof.groupby([\"Agente dell'Abbonamento\"]).agg({\"Cliente MERCE\":\"nunique\"}).reset_index()\n",
    "concessionari_sistprof.rename(columns={\"Cliente MERCE\":\"Sistema Professionista\"}, inplace=True)\n",
    "\n",
    "concessionari_bpointpaghe = concessionari.loc[concessionari[\"B.Point Paghe\"].notna()]\n",
    "concessionari_bpointpaghe = concessionari_bpointpaghe.groupby([\"Agente dell'Abbonamento\"]).agg({\"Cliente MERCE\":\"nunique\"}).reset_index()\n",
    "concessionari_bpointpaghe.rename(columns={\"Cliente MERCE\":\"B.Point Paghe\"}, inplace=True)\n",
    "\n",
    "concessionari_giotto = concessionari.loc[concessionari[\"Giotto\"].notna()]\n",
    "concessionari_giotto = concessionari_giotto.groupby([\"Agente dell'Abbonamento\"]).agg({\"Cliente MERCE\":\"nunique\"}).reset_index()\n",
    "concessionari_giotto.rename(columns={\"Cliente MERCE\":\"Giotto\"}, inplace=True)\n",
    "\n",
    "concessionari_fisc_bpointpaghe = concessionari.loc[((concessionari[\"B.Point\"].notna())|(concessionari[\"Sistema Professionista\"].notna()))&(concessionari[\"B.Point Paghe\"].notna())]\n",
    "concessionari_fisc_bpointpaghe = concessionari_fisc_bpointpaghe.groupby([\"Agente dell'Abbonamento\"]).agg({\"Cliente MERCE\":\"nunique\"}).reset_index()\n",
    "concessionari_fisc_bpointpaghe.rename(columns={\"Cliente MERCE\":\"B.Point Paghe con fiscale\"}, inplace=True)\n",
    "\n",
    "concessionari_fisc_giotto = concessionari.loc[((concessionari[\"B.Point\"].notna())|(concessionari[\"Sistema Professionista\"].notna()))&(concessionari[\"Giotto\"].notna())]\n",
    "concessionari_fisc_giotto = concessionari_fisc_giotto.groupby([\"Agente dell'Abbonamento\"]).agg({\"Cliente MERCE\":\"nunique\"}).reset_index()\n",
    "concessionari_fisc_giotto.rename(columns={\"Cliente MERCE\":\"Giotto con fiscale\"}, inplace=True)\n",
    "\n",
    "concessionari = concessionari_bpoint.merge(concessionari_sistprof, how=\"outer\", on=\"Agente dell'Abbonamento\").merge(concessionari_bpointpaghe, how=\"outer\", on=\"Agente dell'Abbonamento\").merge(concessionari_fisc_bpointpaghe, how=\"outer\", on=\"Agente dell'Abbonamento\").merge(concessionari_giotto, how=\"outer\", on=\"Agente dell'Abbonamento\").merge(concessionari_fisc_giotto, how=\"outer\", on=\"Agente dell'Abbonamento\")"
   ]
  },
  {
   "cell_type": "code",
   "execution_count": null,
   "id": "a35d64a1-8dfb-4222-9d56-a6e3fccbd352",
   "metadata": {},
   "outputs": [],
   "source": [
    "with pd.ExcelWriter(r\"C:\\Users\\Raffaele.Sportiello\\OneDrive - Wolters Kluwer\\Documents\\Analisi clienti\\Clienti fiscale e paghe\\Agenzie e concessionari con fiscale e paghe.xlsx\") as writer:\n",
    "    agenti.to_excel(writer, sheet_name=\"agenzie\", index=False)\n",
    "    concessionari.to_excel(writer, sheet_name=\"concessionari\", index=False)"
   ]
  },
  {
   "cell_type": "markdown",
   "id": "bba53163-974f-4a32-9bc1-816d121b0364",
   "metadata": {
    "tags": []
   },
   "source": [
    "# Clienti con fiscale e paghe - Per *product management*"
   ]
  },
  {
   "cell_type": "code",
   "execution_count": 9,
   "id": "2764b2c4-3213-40ad-8721-1b62c757fcaf",
   "metadata": {},
   "outputs": [],
   "source": [
    "from collections import Counter \n",
    "  \n",
    "def remov_duplicates(input): \n",
    "  \n",
    "    # split input string separated by space \n",
    "    input = input.split(\" + \") \n",
    "  \n",
    "    # joins two adjacent elements in iterable way \n",
    "    for i in range(0, len(input)): \n",
    "        input[i] = \"\".join(input[i]) \n",
    "  \n",
    "    # now create dictionary using counter method \n",
    "    # which will have strings as key and their  \n",
    "    # frequencies as value \n",
    "    UniqW = Counter(input) \n",
    "  \n",
    "    # joins two adjacent elements in iterable way \n",
    "    s = \" + \".join(UniqW.keys()) \n",
    "    return s"
   ]
  },
  {
   "cell_type": "code",
   "execution_count": 10,
   "id": "fce7c4c2-61c4-46cf-9494-618b68eeb2fc",
   "metadata": {},
   "outputs": [],
   "source": [
    "cod_prod = par[\"Classificazione_codice_prodotto\"]\n",
    "cod_prod[\"Codice PRODOTTO\"] = cod_prod[\"Codice PRODOTTO\"].apply(lambda x: str(x))\n",
    "cod_prod = cod_prod.loc[:, ['MDM', 'GTM BDG', \"Prodotto (SW)\",'Solution',\"Codice PRODOTTO\"]]\n",
    "\n",
    "sales = par[\"Sales_director\"]\n",
    "sales = sales.loc[:,[\"Sales Director\", \"Area territoriale\", \"Rete\"]]\n",
    "sales[\"Sales Director\"] = sales[\"Sales Director\"].apply(lambda x: x.lower())"
   ]
  },
  {
   "cell_type": "markdown",
   "id": "ba3867d5-4630-4737-90fa-a46083535eff",
   "metadata": {
    "tags": []
   },
   "source": [
    "## Parco Clienti"
   ]
  },
  {
   "cell_type": "code",
   "execution_count": 37,
   "id": "ff7a01d8-f273-45ee-a508-6f7b277ab987",
   "metadata": {},
   "outputs": [],
   "source": [
    "cli[\"Sales Director\"] = cli[\"Sales Director\"].apply(lambda x: x.lower())"
   ]
  },
  {
   "cell_type": "code",
   "execution_count": 38,
   "id": "4136a102-502a-44f2-a6c5-e8f546de656d",
   "metadata": {
    "tags": []
   },
   "outputs": [],
   "source": [
    "filt = (cli[\"Stato Esteso\"].str.contains(\"ATTIVO\"))\n",
    "columns = [\"Cliente MERCE\", \"Segmento Aggregato Cl.Merce\", \"Provincia\", \"Regione\", \"Agente dell'Abbonamento\", \"Codice ABBONAMENTO\", \"Fornitura (SW)\", \"Sales Director\", \"Valore PV New\"]\n",
    "cli_fisc_paghe = cli.loc[filt, columns].copy()\n",
    "cli_fisc_paghe[\"Codice ABBONAMENTO\"] = cli_fisc_paghe.loc[:,\"Codice ABBONAMENTO\"].apply(lambda x: str(x))\n",
    "\n",
    "cli_fisc_paghe = cli_fisc_paghe.merge(cod_prod, how=\"left\", left_on=\"Codice ABBONAMENTO\", right_on=\"Codice PRODOTTO\").merge(sales, how=\"left\", on=\"Sales Director\")\n",
    "\n",
    "filt = (cli_fisc_paghe[\"Solution\"].isin([\"B.Point\",\"Sistema Professionista\",\"Genya Suite\",\"B.Point Paghe\",\"Giotto\"]))\n",
    "columns = [\"Cliente MERCE\",\"Segmento Aggregato Cl.Merce\",\"Provincia\",\"Regione\",\"Agente dell'Abbonamento\",\"Area territoriale\",\"Rete\",'GTM BDG','Solution', \"Fornitura (SW)\",\"Valore PV New\"]\n",
    "cli_fisc_paghe = cli_fisc_paghe.loc[filt, columns]\n",
    "cli_fisc_paghe[\"Cliente MERCE\"] = cli_fisc_paghe[\"Cliente MERCE\"].apply(lambda x: str(x))"
   ]
  },
  {
   "cell_type": "markdown",
   "id": "4a231f42-ebae-4c2f-8cbe-c91df86a1848",
   "metadata": {
    "tags": []
   },
   "source": [
    "https://stackoverflow.com/questions/64884355/pandas-creating-a-new-column-conditional-on-substring-searches-of-one-column-an"
   ]
  },
  {
   "cell_type": "code",
   "execution_count": 43,
   "id": "78f7f486-5cd5-4209-ab75-98f5ebe55aa5",
   "metadata": {},
   "outputs": [],
   "source": [
    "in_col = lambda col, string: cli_fisc_paghe[col].str.contains(string, na=False)\n",
    "\n",
    "conds = {'Studi commercialisti': in_col('Segmento Aggregato Cl.Merce', 'Fiscal|Studi Multi'),\n",
    "         'Studi lavoro': in_col('Segmento Aggregato Cl.Merce', 'Lavoro'),\n",
    "         'Aziende': in_col('Segmento Aggregato Cl.Merce', 'Aziende'),\n",
    "         'Altro': ~in_col('Segmento Aggregato Cl.Merce', 'Fiscal|Studi Multi|Lavoro|Aziende')}\n",
    "\n",
    "cli_fisc_paghe[\"Tipologia cliente\"] = np.select(condlist=conds.values(), choicelist=conds.keys())"
   ]
  },
  {
   "cell_type": "code",
   "execution_count": 44,
   "id": "e50eaa76-ec37-45af-8057-b7947887bec1",
   "metadata": {},
   "outputs": [],
   "source": [
    "cli_fisc_paghe[\"Solution cat\"] = pd.Categorical(cli_fisc_paghe[\"Solution\"], [\"B.Point\",\"Sistema Professionista\",\"Genya Suite\", \"B.Point Paghe\", \"Giotto\"])\n",
    "\n",
    "cli_fisc_paghe.sort_values(by=[\"Solution cat\"], inplace=True)\n",
    "cli_fisc_paghe[\"Prodotti\"] = cli_fisc_paghe.groupby(\"Cliente MERCE\")[\"Solution cat\"].transform(lambda x: \" + \".join(x))\n",
    "cli_fisc_paghe[\"Prodotti\"] = cli_fisc_paghe[\"Prodotti\"].apply(lambda x: remov_duplicates(x))"
   ]
  },
  {
   "cell_type": "markdown",
   "id": "4b5781d0-af10-47c5-b491-6f0a5d8c60d7",
   "metadata": {
    "tags": []
   },
   "source": [
    "### Dettaglio per cliente e prodotti in colonna"
   ]
  },
  {
   "cell_type": "code",
   "execution_count": 50,
   "id": "db45166c-0ddb-4e75-9fbc-4d4abac72e66",
   "metadata": {},
   "outputs": [],
   "source": [
    "cli_fisc_paghe_dett = cli_fisc_paghe.groupby([\"Cliente MERCE\",\"Tipologia cliente\",\"Regione\",\"Agente dell'Abbonamento\",\"Area territoriale\", \"Rete\", \"Fornitura (SW)\",\"Prodotti\",\"Solution\"], dropna=False).agg({\"Valore PV New\":\"sum\"}).unstack(8).reset_index(col_level=1).droplevel(level=0, axis=1)\n",
    "\n",
    "cli_fisc_paghe_dett[\"PV\"] = cli_fisc_paghe_dett.loc[:,[\"B.Point\",\"Sistema Professionista\",\"Genya Suite\",\"B.Point Paghe\",\"Giotto\"]].sum(axis=1)"
   ]
  },
  {
   "cell_type": "code",
   "execution_count": 51,
   "id": "2e83dc15-473c-41c0-b8ee-6609e9d25010",
   "metadata": {},
   "outputs": [],
   "source": [
    "cli_fisc_paghe_dett.replace(to_replace=0, value=np.nan, inplace=True)"
   ]
  },
  {
   "cell_type": "code",
   "execution_count": 53,
   "id": "2973b5a3-05b6-4338-aab5-4841208d5d10",
   "metadata": {},
   "outputs": [],
   "source": [
    "cli_fisc_paghe_dett[\"Codice SAP\"] = cli_fisc_paghe_dett[\"Cliente MERCE\"].astype(str).apply(lambda x: \"IT-\" + x.zfill(10))\n",
    "cli_fisc_paghe_dett = cli_fisc_paghe_dett.merge(accounts_sf, how=\"left\", left_on=\"Codice SAP\", right_on=\"WK Account Number\")\n",
    "\n",
    "cli_fisc_paghe_dett = cli_fisc_paghe_dett.loc[:,[\"Cliente MERCE\", \"Account Name\", \"Tipologia cliente\", \"Regione\",\"Agente dell'Abbonamento\", \"Area territoriale\", \"Rete\",\"Fornitura (SW)\", \"Prodotti\", \"B.Point\", \"B.Point Paghe\", \"Genya Suite\",\"Giotto\", \"Sistema Professionista\", \"PV\"]].copy()"
   ]
  },
  {
   "cell_type": "code",
   "execution_count": 55,
   "id": "a3ab0712-357c-4b11-a9c7-5cd8cf41a12f",
   "metadata": {},
   "outputs": [],
   "source": [
    "cli_fisc_paghe_dett.to_excel(r\"C:\\Users\\Raffaele.Sportiello\\OneDrive - Wolters Kluwer\\Documents\\Analisi clienti\\Clienti fiscale e paghe\\Analisi clienti fiscale e paghe per Area Prodotto\\Data source\\Parco clienti fiscale e paghe - Clienti.xlsx\", index=False)"
   ]
  },
  {
   "cell_type": "markdown",
   "id": "f588414a-86a4-42e8-a45b-44a7dad1ec0a",
   "metadata": {
    "jp-MarkdownHeadingCollapsed": true,
    "tags": []
   },
   "source": [
    "### ~~Aggregazione per stack prodotti~~  \n",
    "(superato da dettaglio per cliente)"
   ]
  },
  {
   "cell_type": "code",
   "execution_count": null,
   "id": "7f79dd5b-2fa3-428c-abdd-fe1acf130ced",
   "metadata": {},
   "outputs": [],
   "source": [
    "import re"
   ]
  },
  {
   "cell_type": "code",
   "execution_count": null,
   "id": "24c81ddf-39a9-4011-87cc-c5fd4c8c7881",
   "metadata": {},
   "outputs": [],
   "source": [
    "cli_fisc_paghe_aggr = cli_fisc_paghe_dett.groupby([\"Prodotti\",\"Tipologia cliente\", \"Regione\", \"Agente dell'Abbonamento\", \"Area territoriale\",\"Rete\",\"Fornitura (SW)\"], dropna=False).agg({\"B.Point\":\"sum\", \"Sistema Professionista\":\"sum\",\"Genya Suite\":\"sum\", \"B.Point Paghe\":\"sum\",\"Giotto\":\"sum\",\"PV\":\"sum\", \"Cliente MERCE\":\"nunique\"}).reset_index()\n",
    "\n",
    "cli_fisc_paghe_aggr.loc[cli_fisc_paghe_aggr[\"Prodotti\"].str.contains(\"Giotto\"), \"Cliente MERCE\"].sum()\n",
    "\n",
    "regex = cli_fisc_paghe_aggr[\"Prodotti\"].str.extract(\"(B\\.Point)(?! Paghe)|(Sistema Professionista)|(Genya Suite)|(B.Point Paghe)|(Giotto)\")\n",
    "regex.columns = [\"B.Point (Y/N)\", \"Sistema Professionista (Y/N)\", \"Genya (Y/N)\",\"B.Point Paghe (Y/N)\",\"Giotto (Y/N)\"]\n",
    "\n",
    "cli_fisc_paghe_aggr_2 = pd.concat([cli_fisc_paghe_aggr,regex], axis=1)\n",
    "\n",
    "cli_fisc_paghe_aggr_2.to_excel(r\"C:\\Users\\Raffaele.Sportiello\\OneDrive - Wolters Kluwer\\Documents\\Analisi clienti\\Clienti fiscale e paghe\\Analisi clienti fiscale e paghe per Area Prodotto\\Parco clienti fiscale e paghe - Aggregazione per stack prodotti 2.xlsx\", index=False)"
   ]
  },
  {
   "cell_type": "markdown",
   "id": "591303ab-a467-4f12-837d-627476a292c9",
   "metadata": {
    "jp-MarkdownHeadingCollapsed": true,
    "tags": []
   },
   "source": [
    "### ~~Creazione cluster per concatenazioni~~  \n",
    "(superato da dettaglio per cliente)"
   ]
  },
  {
   "cell_type": "markdown",
   "id": "cc12b657-c4b3-4d1b-96e3-2f68917a3590",
   "metadata": {
    "tags": []
   },
   "source": [
    "#### Misti"
   ]
  },
  {
   "cell_type": "code",
   "execution_count": null,
   "id": "60b4eb8c-485f-479d-acad-b07aca979d92",
   "metadata": {},
   "outputs": [],
   "source": [
    "cli_misti_dett = cli_fisc_paghe_dett.loc[(cli_fisc_paghe_dett[\"B.Point\"].notna()|cli_fisc_paghe_dett[\"Sistema Professionista\"].notna()|cli_fisc_paghe_dett[\"Genya Suite\"].notna())&(cli_fisc_paghe_dett[\"B.Point Paghe\"].notna()|cli_fisc_paghe_dett[\"Giotto\"].notna()), :].copy()\n",
    "\n",
    "misti = cli_misti_dett.groupby([\"Tipologia cliente\",\"Rete\",\"Area territoriale\", \"Regione\", \"Fornitura (SW)\"]).agg({\"Cliente MERCE\":\"nunique\", \"PV\":\"sum\"}).unstack(4).reset_index(col_level=1)\n",
    "misti.loc[:, (\"\",\"Solution\")] = \"Misti\"\n",
    "misti.loc[:, (\"Cliente MERCE\",\"N. Clienti\")] = misti.loc[:, idx[\"Cliente MERCE\",:]].sum(axis=1, skipna=True)\n",
    "misti.loc[:, (\"PV\",\"Tot PV\")] = misti.loc[:, idx[\"PV\",:]].sum(axis=1, skipna=True)\n",
    "misti = misti.loc[:, idx[[\"\",\"Cliente MERCE\", \"PV\"],\n",
    "                         [\"Solution\",\"Tipologia cliente\",\"Rete\",\"Area territoriale\", \"Regione\", \"ON PREMISE\",\"SAAS\", \"N. Clienti\", \"Tot PV\"]\n",
    "                        ]\n",
    "                 ].copy()\n",
    "misti.columns.rename([\"Dettaglio\", \"Misure\"], inplace=True)"
   ]
  },
  {
   "cell_type": "markdown",
   "id": "49093450-2063-4e71-a3c3-7c9fd2d73d94",
   "metadata": {
    "tags": []
   },
   "source": [
    "#### B.Point + B.Point Paghe"
   ]
  },
  {
   "cell_type": "code",
   "execution_count": null,
   "id": "35f227f1-9acd-4675-8a34-a7bb0567fc9c",
   "metadata": {},
   "outputs": [],
   "source": [
    "cli_Bpoint_Paghe_dett = cli_fisc_paghe_dett.loc[(cli_fisc_paghe_dett[\"B.Point\"].notna())&(cli_fisc_paghe_dett[\"B.Point Paghe\"].notna()), :].copy()\n",
    "\n",
    "cli_Bpoint_Paghe_dett[\"PV\"] = cli_Bpoint_Paghe_dett.loc[:,[\"B.Point\",\"Sistema Professionista\",\"Genya Suite\",\"B.Point Paghe\",\"Giotto\"]].sum(axis=1)\n",
    "\n",
    "Bpoint_Paghe = cli_Bpoint_Paghe_dett.groupby([\"Tipologia cliente\",\"Rete\",\"Area territoriale\", \"Regione\", \"Fornitura (SW)\"]).agg({\"Cliente MERCE\":\"nunique\", \"PV\":\"sum\"}).unstack(4).reset_index(col_level=1)\n",
    "Bpoint_Paghe.loc[:, (\"\",\"Solution\")] = \"B.Point + B.Point Paghe\"\n",
    "Bpoint_Paghe.loc[:, (\"Cliente MERCE\",\"N. Clienti\")] = Bpoint_Paghe.loc[:, idx[\"Cliente MERCE\",:]].sum(axis=1)\n",
    "Bpoint_Paghe.loc[:, (\"PV\",\"Tot PV\")] = Bpoint_Paghe.loc[:, idx[\"PV\",:]].sum(axis=1)\n",
    "Bpoint_Paghe = Bpoint_Paghe.loc[:, idx[[\"\",\"Cliente MERCE\", \"PV\"],\n",
    "                         [\"Solution\",\"Tipologia cliente\",\"Rete\",\"Area territoriale\", \"Regione\", \"ON PREMISE\",\"SAAS\", \"N. Clienti\", \"Tot PV\"]\n",
    "                        ]\n",
    "                 ].copy()\n",
    "Bpoint_Paghe.columns.rename([\"Dettaglio\", \"Misure\"], inplace=True)"
   ]
  },
  {
   "cell_type": "markdown",
   "id": "b1fea424-a3d1-4e46-8763-756c1b045875",
   "metadata": {
    "tags": []
   },
   "source": [
    "#### B.Point + Giotto"
   ]
  },
  {
   "cell_type": "code",
   "execution_count": null,
   "id": "032042bb-61f2-4d1a-b232-e1387256e49e",
   "metadata": {},
   "outputs": [],
   "source": [
    "cli_Bpoint_Giotto_dett = cli_fisc_paghe_dett.loc[(cli_fisc_paghe_dett[\"B.Point\"].notna())&(cli_fisc_paghe_dett[\"Giotto\"].notna()), :].copy()\n",
    "\n",
    "cli_Bpoint_Giotto_dett[\"PV\"] = cli_Bpoint_Giotto_dett.loc[:,[\"B.Point\",\"Sistema Professionista\",\"Genya Suite\",\"B.Point Paghe\",\"Giotto\"]].sum(axis=1, skipna=True)\n",
    "\n",
    "Bpoint_Giotto = cli_Bpoint_Giotto_dett.groupby([\"Tipologia cliente\",\"Rete\",\"Area territoriale\", \"Regione\", \"Fornitura (SW)\"]).agg({\"Cliente MERCE\":\"nunique\", \"PV\":\"sum\"}).unstack(4).reset_index(col_level=1)\n",
    "Bpoint_Giotto.loc[:, (\"\",\"Solution\")] = \"B.Point + Giotto\"\n",
    "Bpoint_Giotto.loc[:, (\"Cliente MERCE\",\"N. Clienti\")] = Bpoint_Giotto.loc[:, idx[\"Cliente MERCE\",:]].sum(axis=1, skipna=True)\n",
    "Bpoint_Giotto.loc[:, (\"PV\",\"Tot PV\")] = Bpoint_Giotto.loc[:, idx[\"PV\",:]].sum(axis=1, skipna=True)\n",
    "Bpoint_Giotto = Bpoint_Giotto.loc[:, idx[[\"\",\"Cliente MERCE\", \"PV\"],\n",
    "                         [\"Solution\",\"Tipologia cliente\",\"Rete\",\"Area territoriale\", \"Regione\", \"ON PREMISE\",\"SAAS\", \"N. Clienti\", \"Tot PV\"]\n",
    "                        ]\n",
    "                 ].copy()\n",
    "Bpoint_Giotto.columns.rename([\"Dettaglio\", \"Misure\"], inplace=True)"
   ]
  },
  {
   "cell_type": "markdown",
   "id": "7f70be6c-64a1-48e4-a708-1571335f53ec",
   "metadata": {
    "tags": []
   },
   "source": [
    "#### Sistema Professionista + B.Point Paghe"
   ]
  },
  {
   "cell_type": "code",
   "execution_count": null,
   "id": "699e50fc-b0db-4053-be71-73165c39fb95",
   "metadata": {},
   "outputs": [],
   "source": [
    "cli_SistProf_Paghe_dett = cli_fisc_paghe_dett.loc[(cli_fisc_paghe_dett[\"Sistema Professionista\"].notna())&(cli_fisc_paghe_dett[\"B.Point Paghe\"].notna()), :].copy()\n",
    "\n",
    "cli_SistProf_Paghe_dett[\"PV\"] = cli_SistProf_Paghe_dett.loc[:,[\"B.Point\",\"Sistema Professionista\",\"Genya Suite\",\"B.Point Paghe\",\"Giotto\"]].sum(axis=1, skipna=True)\n",
    "\n",
    "SistProf_Paghe = cli_SistProf_Paghe_dett.groupby([\"Tipologia cliente\",\"Rete\",\"Area territoriale\", \"Regione\", \"Fornitura (SW)\"]).agg({\"Cliente MERCE\":\"nunique\", \"PV\":\"sum\"}).unstack(4).reset_index(col_level=1)\n",
    "SistProf_Paghe.loc[:, (\"\",\"Solution\")] = \"Sistema Professionista + B.Point Paghe\"\n",
    "SistProf_Paghe.loc[:, (\"Cliente MERCE\",\"N. Clienti\")] = SistProf_Paghe.loc[:, idx[\"Cliente MERCE\",:]].sum(axis=1, skipna=True)\n",
    "SistProf_Paghe.loc[:, (\"PV\",\"Tot PV\")] = SistProf_Paghe.loc[:, idx[\"PV\",:]].sum(axis=1, skipna=True)\n",
    "SistProf_Paghe = SistProf_Paghe.loc[:, idx[[\"\",\"Cliente MERCE\", \"PV\"],\n",
    "                         [\"Solution\",\"Tipologia cliente\",\"Rete\",\"Area territoriale\", \"Regione\", \"ON PREMISE\",\"SAAS\", \"N. Clienti\", \"Tot PV\"]\n",
    "                        ]\n",
    "                 ].copy()\n",
    "SistProf_Paghe.columns.rename([\"Dettaglio\", \"Misure\"], inplace=True)"
   ]
  },
  {
   "cell_type": "markdown",
   "id": "92f99456-19d6-4c76-bb82-6ff100a83c2b",
   "metadata": {
    "tags": []
   },
   "source": [
    "#### Sistema Professionista + Giotto"
   ]
  },
  {
   "cell_type": "code",
   "execution_count": null,
   "id": "42f1d358-12f9-4234-bb53-5fbe00b67562",
   "metadata": {},
   "outputs": [],
   "source": [
    "cli_SistProf_Giotto_dett = cli_fisc_paghe_dett.loc[(cli_fisc_paghe_dett[\"Sistema Professionista\"].notna())&(cli_fisc_paghe_dett[\"Giotto\"].notna()), :].copy()\n",
    "\n",
    "cli_SistProf_Giotto_dett[\"PV\"] = cli_SistProf_Giotto_dett.loc[:,[\"B.Point\",\"Sistema Professionista\",\"Genya Suite\",\"B.Point Paghe\",\"Giotto\"]].sum(axis=1, skipna=True)\n",
    "\n",
    "SistProf_Giotto = cli_SistProf_Giotto_dett.groupby([\"Tipologia cliente\",\"Rete\",\"Area territoriale\", \"Regione\", \"Fornitura (SW)\"]).agg({\"Cliente MERCE\":\"nunique\", \"PV\":\"sum\"}).unstack(4).reset_index(col_level=1)\n",
    "SistProf_Giotto.loc[:, (\"\",\"Solution\")] = \"Sistema Professionista + Giotto\"\n",
    "SistProf_Giotto.loc[:, (\"Cliente MERCE\",\"N. Clienti\")] = SistProf_Giotto.loc[:, idx[\"Cliente MERCE\",:]].sum(axis=1, skipna=True)\n",
    "SistProf_Giotto.loc[:, (\"PV\",\"Tot PV\")] = SistProf_Giotto.loc[:, idx[\"PV\",:]].sum(axis=1, skipna=True)\n",
    "SistProf_Giotto = SistProf_Giotto.loc[:, idx[[\"\",\"Cliente MERCE\", \"PV\"],\n",
    "                         [\"Solution\",\"Tipologia cliente\",\"Rete\",\"Area territoriale\", \"Regione\", \"ON PREMISE\",\"SAAS\", \"N. Clienti\", \"Tot PV\"]\n",
    "                        ]\n",
    "                 ].copy()\n",
    "SistProf_Giotto.columns.rename([\"Dettaglio\", \"Misure\"], inplace=True)"
   ]
  },
  {
   "cell_type": "markdown",
   "id": "26fed675-e5f1-4902-bea7-4db1c6911ecb",
   "metadata": {
    "tags": []
   },
   "source": [
    "#### Genya + B.Point Paghe"
   ]
  },
  {
   "cell_type": "code",
   "execution_count": null,
   "id": "c7e3c0a5-a063-482c-ba1e-21ef319f6d01",
   "metadata": {},
   "outputs": [],
   "source": [
    "cli_Genya_Paghe_dett = cli_fisc_paghe_dett.loc[(cli_fisc_paghe_dett[\"Genya Suite\"].notna())&(cli_fisc_paghe_dett[\"B.Point Paghe\"].notna()), :].copy()\n",
    "\n",
    "cli_Genya_Paghe_dett[\"PV\"] = cli_Genya_Paghe_dett.loc[:,[\"B.Point\",\"Sistema Professionista\",\"Genya Suite\",\"B.Point Paghe\",\"Giotto\"]].sum(axis=1, skipna=True)\n",
    "\n",
    "Genya_Paghe = cli_Genya_Paghe_dett.groupby([\"Tipologia cliente\",\"Rete\",\"Area territoriale\", \"Regione\", \"Fornitura (SW)\"]).agg({\"Cliente MERCE\":\"nunique\", \"PV\":\"sum\"}).unstack(4).reset_index(col_level=1)\n",
    "Genya_Paghe.loc[:, (\"\",\"Solution\")] = \"Genya + B.Point Paghe\"\n",
    "Genya_Paghe.loc[:, (\"Cliente MERCE\",\"N. Clienti\")] = Genya_Paghe.loc[:, idx[\"Cliente MERCE\",:]].sum(axis=1, skipna=True)\n",
    "Genya_Paghe.loc[:, (\"PV\",\"Tot PV\")] = Genya_Paghe.loc[:, idx[\"PV\",:]].sum(axis=1, skipna=True)\n",
    "Genya_Paghe = Genya_Paghe.loc[:, idx[[\"\",\"Cliente MERCE\", \"PV\"],\n",
    "                         [\"Solution\",\"Tipologia cliente\",\"Rete\",\"Area territoriale\", \"Regione\", \"ON PREMISE\",\"SAAS\", \"N. Clienti\", \"Tot PV\"]\n",
    "                        ]\n",
    "                 ].copy()\n",
    "Genya_Paghe.columns.rename([\"Dettaglio\", \"Misure\"], inplace=True)"
   ]
  },
  {
   "cell_type": "markdown",
   "id": "7345ebf2-3d7c-4334-a171-950452cef617",
   "metadata": {
    "tags": []
   },
   "source": [
    "#### Genya + Giotto"
   ]
  },
  {
   "cell_type": "code",
   "execution_count": null,
   "id": "aa6cf40e-7e6a-4bef-bae2-ee94f106bb4b",
   "metadata": {},
   "outputs": [],
   "source": [
    "cli_Genya_Giotto_dett = cli_fisc_paghe_dett.loc[(cli_fisc_paghe_dett[\"Genya Suite\"].notna())&(cli_fisc_paghe_dett[\"Giotto\"].notna()), :].copy()\n",
    "\n",
    "cli_Genya_Giotto_dett[\"PV\"] = cli_Genya_Giotto_dett.loc[:,[\"B.Point\",\"Sistema Professionista\",\"Genya Suite\",\"B.Point Paghe\",\"Giotto\"]].sum(axis=1, skipna=True)\n",
    "\n",
    "Genya_Giotto = cli_Genya_Giotto_dett.groupby([\"Tipologia cliente\",\"Rete\",\"Area territoriale\", \"Regione\", \"Fornitura (SW)\"]).agg({\"Cliente MERCE\":\"nunique\", \"PV\":\"sum\"}).unstack(4).reset_index(col_level=1)\n",
    "Genya_Giotto.loc[:, (\"\",\"Solution\")] = \"Genya + Giotto\"\n",
    "Genya_Giotto.loc[:, (\"Cliente MERCE\",\"N. Clienti\")] = Genya_Giotto.loc[:, idx[\"Cliente MERCE\",:]].sum(axis=1, skipna=True)\n",
    "Genya_Giotto.loc[:, (\"PV\",\"Tot PV\")] = Genya_Giotto.loc[:, idx[\"PV\",:]].sum(axis=1, skipna=True)\n",
    "Genya_Giotto = Genya_Giotto.loc[:, idx[[\"\",\"Cliente MERCE\", \"PV\"],\n",
    "                         [\"Solution\",\"Tipologia cliente\",\"Rete\",\"Area territoriale\", \"Regione\", \"ON PREMISE\",\"SAAS\", \"N. Clienti\", \"Tot PV\"]\n",
    "                        ]\n",
    "                 ].copy()\n",
    "Genya_Giotto.columns.rename([\"Dettaglio\", \"Misure\"], inplace=True)"
   ]
  },
  {
   "cell_type": "markdown",
   "id": "b543ae16-ee02-40b6-8cd3-2f1ec950e79a",
   "metadata": {
    "tags": []
   },
   "source": [
    "#### Puri"
   ]
  },
  {
   "cell_type": "code",
   "execution_count": null,
   "id": "2f68b2c2-869f-4389-aebb-636f0f2071cf",
   "metadata": {},
   "outputs": [],
   "source": [
    "puri = cli_fisc_paghe.groupby([\"Solution\", \"Tipologia cliente\",\"Rete\",\"Area territoriale\", \"Regione\",\"Fornitura (SW)\"]).agg({\"Cliente MERCE\":\"nunique\", \"Valore PV New\":\"sum\"}).unstack(5).reset_index(col_level=1)\n",
    "puri.rename(columns={\"Valore PV New\":\"PV\"}, inplace=True)\n",
    "puri.loc[:, (\"Cliente MERCE\",\"N. Clienti\")] = puri.loc[:, idx[\"Cliente MERCE\",:]].sum(axis=1, skipna=True)\n",
    "puri.loc[:, (\"PV\",\"Tot PV\")] = puri.loc[:, idx[\"PV\",:]].sum(axis=1, skipna=True)\n",
    "puri = puri.loc[:, idx[[\"\",\"Cliente MERCE\", \"PV\"],\n",
    "                         [\"Solution\",\"Tipologia cliente\",\"Rete\",\"Area territoriale\", \"Regione\", \"ON PREMISE\",\"ON PREMISE SAAS\",\"SAAS\", \"N. Clienti\", \"Tot PV\"]\n",
    "                        ]\n",
    "                 ].copy()\n",
    "\n",
    "puri.columns.rename([\"Dettaglio\", \"Misure\"], inplace=True)"
   ]
  },
  {
   "cell_type": "markdown",
   "id": "cba51946-bf5c-49be-8257-ec7a89d8d927",
   "metadata": {
    "tags": []
   },
   "source": [
    "#### Concat"
   ]
  },
  {
   "cell_type": "code",
   "execution_count": null,
   "id": "f92780aa-ea67-41de-b1bb-9d35fb429a49",
   "metadata": {},
   "outputs": [],
   "source": [
    "df_canale_regione_solution = pd.concat([misti,Bpoint_Paghe, Bpoint_Giotto, SistProf_Paghe, SistProf_Giotto, Genya_Paghe, Genya_Giotto, puri], axis=0)"
   ]
  },
  {
   "cell_type": "code",
   "execution_count": null,
   "id": "c8d59ce8-4fe8-4e56-84a6-12b7a5868234",
   "metadata": {},
   "outputs": [],
   "source": [
    "df_canale_regione_solution = df_canale_regione_solution.loc[:,idx[[\"\",\"Cliente MERCE\",\"PV\"],[\"Solution\",\"Tipologia cliente\",\"Rete\",\"Area territoriale\",\"Regione\", \"ON PREMISE\", \"ON PREMISE SAAS\", \"SAAS\",\"N. Clienti\", \"Tot PV\"]]].copy()"
   ]
  },
  {
   "cell_type": "code",
   "execution_count": null,
   "id": "dbd60bce-5a17-4b8f-be42-8f3946abf15d",
   "metadata": {},
   "outputs": [],
   "source": [
    "with pd.ExcelWriter(r\"C:\\Users\\Raffaele.Sportiello\\OneDrive - Wolters Kluwer\\Documents\\Analisi clienti\\Clienti fiscale e paghe\\Analisi clienti fiscale e paghe per Area Prodotto\\Parco clienti fiscale e paghe.xlsx\") as writer:\n",
    "    df_canale_regione_solution.to_excel(writer, sheet_name=\"parco clienti\")\n"
   ]
  },
  {
   "cell_type": "markdown",
   "id": "ded12b04-69d7-4588-81bf-a36338ab8d51",
   "metadata": {
    "tags": []
   },
   "source": [
    "---"
   ]
  },
  {
   "cell_type": "markdown",
   "id": "3db75951-0f07-40a5-8a2d-1bc666386e41",
   "metadata": {
    "tags": []
   },
   "source": [
    "## Inflow"
   ]
  },
  {
   "cell_type": "code",
   "execution_count": 56,
   "id": "315c3d00-94c1-4f5c-8c9b-a1db563b3457",
   "metadata": {},
   "outputs": [],
   "source": [
    "filt_rows = (inflow[\"Raccolto\"].notna())\n",
    "columns = [\"Cliente Merce\", \"Segmento Aggregato\", \"Agente dell'ORDINE\", \"Sales Director\", \"Canale di VENDITA\", \"Codice PRODOTTO\", \"Linea Prodotti\", \"Numero Ordine\", \"Numero Fattura\", \"Data Ins. Ordine (monitoraggio)\", \"Fornitura (SW)\", \"Raccolto\"]\n",
    "\n",
    "inflow_paghe = inflow.loc[filt_rows, columns].reset_index(drop=True)\n",
    "inflow_paghe[\"Sales Director\"] = inflow_paghe[\"Sales Director\"].str.lower()\n",
    "inflow_paghe[\"Agente dell'ORDINE\"] = inflow_paghe[\"Agente dell'ORDINE\"].str.lower()\n",
    "\n",
    "esc_fatture = par[\"Esclusione_fatture\"]\n",
    "esc_fatture[\"Numero Fattura\"] = esc_fatture[\"Numero Fattura\"].astype(str)\n",
    "\n",
    "esc_ordini = par[\"Esclusione_ordini\"]\n",
    "esc_ordini[\"Numero Ordine\"] = esc_ordini[\"Numero Ordine\"].astype(str)\n",
    "\n",
    "sales_director = par[\"Sales_director\"]\n",
    "sales_director[\"Sales Director\"] = sales_director.loc[:,\"Sales Director\"].str.lower()\n",
    "sales_director = sales_director[[\"Sales Director\", \"Rete\", \"Area territoriale\"]]\n",
    "\n",
    "agente = par[\"Agente_ordine\"]\n",
    "agente[\"Codice agente\"] = agente.loc[:,\"Codice agente\"].str.lower()\n",
    "\n",
    "cod_prod = par[\"Classificazione_codice_prodotto\"]\n",
    "cod_prod[\"Codice PRODOTTO\"] = cod_prod[\"Codice PRODOTTO\"].apply(lambda x: str(x))\n",
    "cod_prod = cod_prod.loc[:, ['MDM', 'GTM BDG', 'Solution','Sub solution','Descrizione prodotto',\"Codice PRODOTTO\"]]\n",
    "\n",
    "li_prodotti = par[\"Linea_prodotti\"]\n",
    "\n",
    "inflow_paghe = inflow_paghe.merge(esc_fatture, on=\"Numero Fattura\", how=\"left\").merge(esc_ordini, on=\"Numero Ordine\", how=\"left\").merge(li_prodotti, on=\"Linea Prodotti\", how=\"left\").merge(sales_director, on=\"Sales Director\", how=\"left\").merge(agente, how=\"left\", left_on=\"Agente dell'ORDINE\", right_on=\"Codice agente\").merge(cod_prod, how=\"left\", on=\"Codice PRODOTTO\")\n",
    "\n",
    "esclusioni = (inflow_paghe[\"Canale di VENDITA\"] != \"E-Commerce\")&(inflow_paghe[\"Escludi fatture\"].isna())&(inflow_paghe[\"Escludi ordine\"].isna())&(inflow_paghe[\"Solution\"].isin([\"B.Point\",\"Sistema Professionista\",\"Genya Suite\",\"B.Point Paghe\",\"Giotto\"]))\n",
    "\n",
    "inflow_paghe = inflow_paghe.loc[esclusioni, [\"Cliente Merce\",'Data Ins. Ordine (monitoraggio)', \"Segmento Aggregato\", \"Rete\", \"Area territoriale\", 'Sales Director', \"Agente dell'ORDINE_y\",'Linea', \"Solution\",\"Fornitura (SW)\", 'Raccolto']].reset_index(drop=True)\n",
    "\n",
    "inflow_paghe.rename(columns={\"Data Ins. Ordine (monitoraggio)\":'Giorno', \"Agente dell'ORDINE_y\":\"Agenzia\"}, inplace=True)\n"
   ]
  },
  {
   "cell_type": "code",
   "execution_count": 57,
   "id": "6d700124-f567-4725-92d1-75aa4f222b71",
   "metadata": {},
   "outputs": [],
   "source": [
    "in_col = lambda col, string: inflow_paghe[col].str.contains(string, na=False)\n",
    "\n",
    "conds = {'Studi commercialisti': in_col('Segmento Aggregato', 'Fiscal|Studi Multi'),\n",
    "         'Studi lavoro': in_col('Segmento Aggregato', 'Lavoro'),\n",
    "         'Aziende': in_col('Segmento Aggregato', 'Aziende'),\n",
    "         'Altro': ~in_col('Segmento Aggregato', 'Fiscal|Studi Multi|Aziende|Lavoro')}\n",
    "\n",
    "inflow_paghe[\"Tipologia cliente\"] = np.select(condlist=conds.values(), choicelist=conds.keys())"
   ]
  },
  {
   "cell_type": "markdown",
   "id": "d1fab58e-785a-4d2e-9418-7082335d991c",
   "metadata": {},
   "source": [
    "| Cond         | Choices || Cond         | Choices || Cond         | Choices || Cond         | Choices |\n",
    "|--------------|:-----:||--------------|:-----:||--------------|:-----:||--------------|:-----:|\n",
    "| [NON CLASSIFICATO] |  Altro || Istruzione      |  Altro || Consumatori Privati - Fiscale      |  Studi commercialisti || Consumatori Privati - Lavoro      |  Lavoro || Studi Tecnici      |  Aziende |\n",
    "| Agenti & Distributori      |  Altro || Librerie      |  Altro || Studi Fiscali      |  Studi commercialisti || Studi Lavoro      |  Lavoro |\n",
    "| Consumatori Privati      |  Altro || P.A. Centrale      |  Altro || Studi Multi  Professionale      |  Studi commercialisti |\n",
    "| Consumatori Privati - Legale      |  Altro || Senza attribuz.      |  Altro || Studi Multi Professionale      |  Studi commercialisti |\n",
    "| Consumatori Privati - Tecnico      |  Altro || Studi Legali      |  Altro |\n",
    "| Enti & Associazioni      |  Altro || Studi Notarili      |  Altro |\n",
    "| Enti Locali      |  Altro || Studi Tecnici      |  Altro |\n",
    "\n",
    "cond = [inflow_paghe[\"Segmento Aggregato\"] == ]  \n",
    "choices = []  \n",
    "inflow_paghe[\"Tipologia cliente\"] = np.select(cond, choices)"
   ]
  },
  {
   "cell_type": "code",
   "execution_count": 58,
   "id": "ae57111a-02a2-4551-99ab-60aeb0a19d8f",
   "metadata": {},
   "outputs": [],
   "source": [
    "inflow_paghe[\"Solution cat\"] = pd.Categorical(inflow_paghe[\"Solution\"], [\"B.Point\",\"Sistema Professionista\",\"Genya Suite\", \"B.Point Paghe\", \"Giotto\"])\n",
    "\n",
    "inflow_paghe.sort_values(by=[\"Cliente Merce\",\"Solution cat\"], inplace=True)\n",
    "\n",
    "inflow_paghe[\"Prodotti\"] = inflow_paghe.groupby(\"Cliente Merce\")[\"Solution cat\"].transform(lambda x: \" + \".join(x))\n",
    "\n",
    "inflow_paghe[\"Prodotti\"] = inflow_paghe[\"Prodotti\"].apply(lambda x: remov_duplicates(x))"
   ]
  },
  {
   "cell_type": "markdown",
   "id": "7ddb19ff-80c1-4e74-be56-544e5677a73e",
   "metadata": {
    "tags": []
   },
   "source": [
    "### Dettaglio per cliente e prodotti in colonna"
   ]
  },
  {
   "cell_type": "code",
   "execution_count": 63,
   "id": "76bc617c-c599-425c-b69d-444a6fd8dffc",
   "metadata": {},
   "outputs": [],
   "source": [
    "inflow_paghe_dett = inflow_paghe.groupby([\"Cliente Merce\", inflow_paghe[\"Giorno\"].dt.year,\"Prodotti\",\"Tipologia cliente\",\"Area territoriale\", \"Rete\", \"Solution\", \"Fornitura (SW)\"], dropna=False).agg({\"Raccolto\":\"sum\"}).unstack(6).reset_index(col_level=1).droplevel(level=0, axis=1)"
   ]
  },
  {
   "cell_type": "code",
   "execution_count": 64,
   "id": "09cff128-ff1e-4cf4-883f-9b6b26c13976",
   "metadata": {},
   "outputs": [],
   "source": [
    "inflow_paghe_dett.rename(columns={\"Giorno\":\"Anno\"}, inplace=True)\n",
    "\n",
    "inflow_paghe_dett[\"Inflow\"] = inflow_paghe_dett.loc[:,[\"B.Point\",\"Sistema Professionista\",\"Genya Suite\",\"B.Point Paghe\",\"Giotto\"]].sum(axis=1)\n",
    "\n",
    "inflow_paghe_dett.loc[inflow_paghe_dett[\"Fornitura (SW)\"].isin([\"NON CLASSIFICATO\", \"[NON CLASSIFICATO]\"]), \"Fornitura (SW)\"] = \"NC\""
   ]
  },
  {
   "cell_type": "code",
   "execution_count": 68,
   "id": "cbae2d5e-e1ed-4890-b2be-639964a02d5e",
   "metadata": {},
   "outputs": [],
   "source": [
    "inflow_paghe_dett[\"Codice SAP\"] = inflow_paghe_dett[\"Cliente Merce\"].astype(str).apply(lambda x: \"IT-\" + x.zfill(10))\n",
    "inflow_paghe_dett = inflow_paghe_dett.merge(accounts_sf, how=\"left\", left_on=\"Codice SAP\", right_on=\"WK Account Number\")\n",
    "\n",
    "inflow_paghe_dett = inflow_paghe_dett.loc[:,[\"Cliente Merce\", \"Account Name\", \"Anno\", \"Prodotti\", \"Tipologia cliente\", \"Area territoriale\", \"Rete\",\"Fornitura (SW)\", \"B.Point\", \"B.Point Paghe\", \"Genya Suite\",\"Giotto\", \"Sistema Professionista\", \"Inflow\"]].copy()"
   ]
  },
  {
   "cell_type": "code",
   "execution_count": 71,
   "id": "c9cb432a-46a1-464a-8365-0be242c38a20",
   "metadata": {},
   "outputs": [],
   "source": [
    "inflow_paghe_dett.to_excel(r\"C:\\Users\\Raffaele.Sportiello\\OneDrive - Wolters Kluwer\\Documents\\Analisi clienti\\Clienti fiscale e paghe\\Analisi clienti fiscale e paghe per Area Prodotto\\Data source\\Parco clienti fiscale e paghe - Inflow.xlsx\", index=False)"
   ]
  },
  {
   "cell_type": "code",
   "execution_count": null,
   "id": "1105eb31-208e-408f-a0fc-755aec0ba833",
   "metadata": {},
   "outputs": [],
   "source": [
    "#inflow_paghe_aggr = inflow_paghe_dett.groupby([\"Anno\",\"Prodotti\",\"Tipologia cliente\",\"Area territoriale\", \"Rete\", \"Fornitura (SW)\"], dropna=False).agg({\"B.Point\":\"sum\",\"B.Point Paghe\":\"sum\", \"Genya Suite\":\"sum\",\"Giotto\":\"sum\",\"Sistema Professionista\":\"sum\",\"Cliente Merce\":\"nunique\"}).reset_index()"
   ]
  },
  {
   "cell_type": "markdown",
   "id": "b687cf9e-b1eb-41e6-ba3f-1d22b122a64b",
   "metadata": {
    "jp-MarkdownHeadingCollapsed": true,
    "tags": []
   },
   "source": [
    "### Creazione cluster per concatenazioni  \n",
    "(superato da aggregazione per stack prodotti)"
   ]
  },
  {
   "cell_type": "markdown",
   "id": "9d342509-2846-41c6-a07c-8ea1a32c0003",
   "metadata": {
    "tags": []
   },
   "source": [
    "#### Misti"
   ]
  },
  {
   "cell_type": "code",
   "execution_count": null,
   "id": "41abc936-0e15-4c06-b718-3751a1726f7e",
   "metadata": {},
   "outputs": [],
   "source": [
    "inflow_misti = inflow_paghe_dett.loc[(inflow_paghe_dett[\"B.Point\"].notna()|inflow_paghe_dett[\"Sistema Professionista\"].notna()|inflow_paghe_dett[\"Genya Suite\"].notna())& (inflow_paghe_dett[\"B.Point Paghe\"].notna()|inflow_paghe_dett[\"Giotto\"].notna()),:].copy()\n",
    "\n",
    "inflow_misti[\"Inflow\"] = inflow_misti.loc[:,[\"B.Point\",\"Sistema Professionista\",\"Genya Suite\",\"B.Point Paghe\",\"Giotto\"]].sum(axis=1, skipna=True)\n",
    "\n",
    "inflow_misti = inflow_misti.groupby([\"Anno\",\"Tipologia cliente\",\"Rete\",\"Area territoriale\", \"Fornitura (SW)\"]).agg({\"Inflow\":\"sum\"}).unstack(4).reset_index(col_level=1).copy()\n",
    "\n",
    "inflow_misti.loc[:, (\"\",\"Solution\")] = \"Misti\"\n",
    "inflow_misti.loc[:, (\"Inflow\",\"Tot Inflow\")] = inflow_misti.loc[:, idx[\"Inflow\",:]].sum(axis=1, skipna=True)\n",
    "\n",
    "inflow_misti = inflow_misti.loc[:, idx[[\"\",\"Inflow\"],\n",
    "                         [\"Anno\",\"Solution\",\"Tipologia cliente\",\"Rete\",\"Area territoriale\", \"ON PREMISE\",\"SAAS\",\"Tot Inflow\"]\n",
    "                        ]\n",
    "                 ].droplevel(axis=1, level=0).copy()"
   ]
  },
  {
   "cell_type": "markdown",
   "id": "1b8a2444-8670-4540-9f57-fcb8438d476a",
   "metadata": {
    "tags": []
   },
   "source": [
    "#### B.Point + B.Point Paghe"
   ]
  },
  {
   "cell_type": "code",
   "execution_count": null,
   "id": "28ded3d5-4176-48e1-b363-5a60dc7b06af",
   "metadata": {},
   "outputs": [],
   "source": [
    "inflow_Bpoint_Paghe = inflow_paghe_dett.loc[(inflow_paghe_dett[\"B.Point\"].notna())& (inflow_paghe_dett[\"B.Point Paghe\"].notna()),:].copy()\n",
    "\n",
    "inflow_Bpoint_Paghe[\"Inflow\"] = inflow_Bpoint_Paghe.loc[:,[\"B.Point\",\"Sistema Professionista\",\"Genya Suite\",\"B.Point Paghe\",\"Giotto\"]].sum(axis=1, skipna=True)\n",
    "\n",
    "inflow_Bpoint_Paghe = inflow_Bpoint_Paghe.groupby([\"Anno\", \"Tipologia cliente\",\"Rete\",\"Area territoriale\", \"Fornitura (SW)\"]).agg({\"Inflow\":\"sum\"}).unstack(4).reset_index(col_level=1).copy()\n",
    "\n",
    "inflow_Bpoint_Paghe.loc[:, (\"\",\"Solution\")] = \"B.Point + B.Point Paghe\"\n",
    "inflow_Bpoint_Paghe.loc[:, (\"Inflow\",\"Tot Inflow\")] = inflow_Bpoint_Paghe.loc[:, idx[\"Inflow\",:]].sum(axis=1, skipna=True)\n",
    "\n",
    "inflow_Bpoint_Paghe = inflow_Bpoint_Paghe.loc[:, idx[[\"\",\"Inflow\"],\n",
    "                         [\"Anno\",\"Solution\",\"Tipologia cliente\",\"Rete\",\"Area territoriale\", \"ON PREMISE\",\"SAAS\",\"Tot Inflow\"]\n",
    "                        ]\n",
    "                 ].droplevel(axis=1, level=0).copy()"
   ]
  },
  {
   "cell_type": "markdown",
   "id": "4b7502b2-fdda-4d25-996f-3e8e7bfa1be6",
   "metadata": {
    "tags": []
   },
   "source": [
    "#### B.Point + Giotto"
   ]
  },
  {
   "cell_type": "code",
   "execution_count": null,
   "id": "799d2dcf-28b5-417c-811d-bd8fc0f44bec",
   "metadata": {},
   "outputs": [],
   "source": [
    "inflow_Bpoint_Giotto = inflow_paghe_dett.loc[(inflow_paghe_dett[\"B.Point\"].notna())& (inflow_paghe_dett[\"Giotto\"].notna()),:].copy()\n",
    "\n",
    "inflow_Bpoint_Giotto[\"Inflow\"] = inflow_Bpoint_Giotto.loc[:,[\"B.Point\",\"Sistema Professionista\",\"Genya Suite\",\"B.Point Paghe\",\"Giotto\"]].sum(axis=1, skipna=True)\n",
    "\n",
    "inflow_Bpoint_Giotto = inflow_Bpoint_Giotto.groupby([\"Anno\",\"Tipologia cliente\",\"Rete\",\"Area territoriale\", \"Fornitura (SW)\"]).agg({\"Inflow\":\"sum\"}).unstack(4).reset_index(col_level=1).copy()\n",
    "\n",
    "inflow_Bpoint_Giotto.loc[:, (\"\",\"Solution\")] = \"B.Point + Giotto\"\n",
    "inflow_Bpoint_Giotto.loc[:, (\"Inflow\",\"Tot Inflow\")] = inflow_Bpoint_Giotto.loc[:, idx[\"Inflow\",:]].sum(axis=1, skipna=True)\n",
    "\n",
    "inflow_Bpoint_Giotto = inflow_Bpoint_Giotto.loc[:, idx[[\"\",\"Inflow\"],\n",
    "                         [\"Anno\",\"Solution\",\"Tipologia cliente\",\"Rete\",\"Area territoriale\", \"ON PREMISE\",\"SAAS\",\"Tot Inflow\"]\n",
    "                        ]\n",
    "                 ].droplevel(axis=1, level=0).copy()"
   ]
  },
  {
   "cell_type": "markdown",
   "id": "43ef90fb-359c-43b0-8c1e-4ac2f1318313",
   "metadata": {
    "tags": []
   },
   "source": [
    "#### Sistema Professionista + B.Point Paghe"
   ]
  },
  {
   "cell_type": "code",
   "execution_count": null,
   "id": "9db80609-12e5-4baf-989c-5ec0dd714e26",
   "metadata": {},
   "outputs": [],
   "source": [
    "inflow_SistProf_Paghe = inflow_paghe_dett.loc[(inflow_paghe_dett[\"Sistema Professionista\"].notna())& (inflow_paghe_dett[\"B.Point Paghe\"].notna()),:].copy()\n",
    "\n",
    "inflow_SistProf_Paghe[\"Inflow\"] = inflow_SistProf_Paghe.loc[:,[\"B.Point\",\"Sistema Professionista\",\"Genya Suite\",\"B.Point Paghe\",\"Giotto\"]].sum(axis=1, skipna=True)\n",
    "\n",
    "inflow_SistProf_Paghe = inflow_SistProf_Paghe.groupby([\"Anno\", \"Tipologia cliente\",\"Rete\",\"Area territoriale\", \"Fornitura (SW)\"]).agg({\"Inflow\":\"sum\"}).unstack(4).reset_index(col_level=1).copy()\n",
    "\n",
    "inflow_SistProf_Paghe.loc[:, (\"\",\"Solution\")] = \"Sistema Professionista + B.Point Paghe\"\n",
    "inflow_SistProf_Paghe.loc[:, (\"Inflow\",\"Tot Inflow\")] = inflow_SistProf_Paghe.loc[:, idx[\"Inflow\",:]].sum(axis=1, skipna=True)\n",
    "\n",
    "inflow_SistProf_Paghe = inflow_SistProf_Paghe.loc[:, idx[[\"\",\"Inflow\"],\n",
    "                         [\"Anno\",\"Solution\",\"Tipologia cliente\",\"Rete\",\"Area territoriale\", \"ON PREMISE\",\"SAAS\",\"Tot Inflow\"]\n",
    "                        ]\n",
    "                 ].droplevel(axis=1, level=0).copy()"
   ]
  },
  {
   "cell_type": "markdown",
   "id": "bed8c5f2-9399-42fc-8707-b6da2c30889e",
   "metadata": {
    "tags": []
   },
   "source": [
    "#### Sistema Professionista + Giotto"
   ]
  },
  {
   "cell_type": "code",
   "execution_count": null,
   "id": "9891cbf5-1115-4055-a9e6-8ec26d791a93",
   "metadata": {
    "tags": []
   },
   "outputs": [],
   "source": [
    "inflow_SistProf_Giotto = inflow_paghe_dett.loc[(inflow_paghe_dett[\"Sistema Professionista\"].notna())& (inflow_paghe_dett[\"Giotto\"].notna()),:].copy()\n",
    "\n",
    "inflow_SistProf_Giotto[\"Inflow\"] = inflow_SistProf_Giotto.loc[:,[\"B.Point\",\"Sistema Professionista\",\"Genya Suite\",\"B.Point Paghe\",\"Giotto\"]].sum(axis=1, skipna=True)\n",
    "\n",
    "inflow_SistProf_Giotto = inflow_SistProf_Giotto.groupby([\"Anno\",\"Tipologia cliente\",\"Rete\",\"Area territoriale\", \"Fornitura (SW)\"]).agg({\"Inflow\":\"sum\"}).unstack(4).reset_index(col_level=1).copy()\n",
    "\n",
    "inflow_SistProf_Giotto.loc[:, (\"\",\"Solution\")] = \"Sistema Professionista + Giotto\"\n",
    "inflow_SistProf_Giotto.loc[:, (\"Inflow\",\"Tot Inflow\")] = inflow_SistProf_Giotto.loc[:, idx[\"Inflow\",:]].sum(axis=1, skipna=True)\n",
    "\n",
    "inflow_SistProf_Giotto = inflow_SistProf_Giotto.loc[:, idx[[\"\",\"Inflow\"],\n",
    "                         [\"Anno\",\"Solution\",\"Tipologia cliente\",\"Rete\",\"Area territoriale\", \"ON PREMISE\",\"SAAS\",\"Tot Inflow\"]\n",
    "                        ]\n",
    "                 ].droplevel(axis=1, level=0).copy()"
   ]
  },
  {
   "cell_type": "markdown",
   "id": "09d73804-07f2-4a9c-b8e8-25a579f676ff",
   "metadata": {
    "tags": []
   },
   "source": [
    "#### Genya + B.Point Paghe"
   ]
  },
  {
   "cell_type": "code",
   "execution_count": null,
   "id": "2e163a18-3b3d-437d-bb9b-41b4a5bb8e5d",
   "metadata": {},
   "outputs": [],
   "source": [
    "inflow_Genya_Paghe = inflow_paghe_dett.loc[(inflow_paghe_dett[\"Genya Suite\"].notna())& (inflow_paghe_dett[\"B.Point Paghe\"].notna()),:].copy()\n",
    "\n",
    "inflow_Genya_Paghe[\"Inflow\"] = inflow_Genya_Paghe.loc[:,[\"B.Point\",\"Sistema Professionista\",\"Genya Suite\",\"B.Point Paghe\",\"Giotto\"]].sum(axis=1, skipna=True)\n",
    "\n",
    "inflow_Genya_Paghe = inflow_Genya_Paghe.groupby([\"Anno\",\"Tipologia cliente\",\"Rete\",\"Area territoriale\", \"Fornitura (SW)\"]).agg({\"Inflow\":\"sum\"}).unstack(4).reset_index(col_level=1).copy()\n",
    "\n",
    "inflow_Genya_Paghe.loc[:, (\"\",\"Solution\")] = \"Genya + B.Point Paghe\"\n",
    "inflow_Genya_Paghe.loc[:, (\"Inflow\",\"Tot Inflow\")] = inflow_Genya_Paghe.loc[:, idx[\"Inflow\",:]].sum(axis=1, skipna=True)\n",
    "\n",
    "inflow_Genya_Paghe = inflow_Genya_Paghe.loc[:, idx[[\"\",\"Inflow\"],\n",
    "                         [\"Anno\",\"Solution\",\"Tipologia cliente\",\"Rete\",\"Area territoriale\", \"ON PREMISE\",\"SAAS\",\"Tot Inflow\"]\n",
    "                        ]\n",
    "                 ].droplevel(axis=1, level=0).copy()"
   ]
  },
  {
   "cell_type": "markdown",
   "id": "fde5e27c-32af-4fe0-8ac7-72e5ce756c9e",
   "metadata": {
    "tags": []
   },
   "source": [
    "#### Genya + Giotto"
   ]
  },
  {
   "cell_type": "code",
   "execution_count": null,
   "id": "b8f93fbd-a5a5-4c81-9776-52134a612be0",
   "metadata": {},
   "outputs": [],
   "source": [
    "inflow_Genya_Giotto = inflow_paghe_dett.loc[(inflow_paghe_dett[\"Genya Suite\"].notna())& (inflow_paghe_dett[\"Giotto\"].notna()),:].copy()\n",
    "\n",
    "inflow_Genya_Giotto[\"Inflow\"] = inflow_Genya_Giotto.loc[:,[\"B.Point\",\"Sistema Professionista\",\"Genya Suite\",\"B.Point Paghe\",\"Giotto\"]].sum(axis=1, skipna=True)\n",
    "\n",
    "inflow_Genya_Giotto = inflow_Genya_Giotto.groupby([\"Anno\",\"Tipologia cliente\",\"Rete\",\"Area territoriale\", \"Fornitura (SW)\"]).agg({\"Inflow\":\"sum\"}).unstack(4).reset_index(col_level=1).copy()\n",
    "\n",
    "inflow_Genya_Giotto.loc[:, (\"\",\"Solution\")] = \"Genya + Giotto\"\n",
    "inflow_Genya_Giotto.loc[:, (\"Inflow\",\"Tot Inflow\")] = inflow_Genya_Giotto.loc[:, idx[\"Inflow\",:]].sum(axis=1, skipna=True)\n",
    "inflow_Genya_Giotto = inflow_Genya_Giotto.loc[:, idx[[\"\",\"Inflow\"],\n",
    "                         [\"Anno\",\"Solution\",\"Tipologia cliente\",\"Rete\",\"Area territoriale\", \"ON PREMISE\",\"SAAS\",\"Tot Inflow\"]\n",
    "                        ]\n",
    "                 ].droplevel(axis=1, level=0).copy()"
   ]
  },
  {
   "cell_type": "markdown",
   "id": "b956a6c0-9624-45e8-9320-213cd355b70f",
   "metadata": {
    "tags": []
   },
   "source": [
    "#### Puri"
   ]
  },
  {
   "cell_type": "code",
   "execution_count": null,
   "id": "4a476c6a-5cf2-4539-8c2d-019909321aa4",
   "metadata": {},
   "outputs": [],
   "source": [
    "inflow_paghe.loc[(inflow_paghe[\"Fornitura (SW)\"] == \"NON CLASSIFICATO\")|(inflow_paghe[\"Fornitura (SW)\"] == \"[NON CLASSIFICATO]\"), \"Fornitura (SW)\"] = \"SAAS\"\n",
    "inflow_puri = inflow_paghe.groupby([inflow_paghe[\"Giorno\"].dt.year,\"Tipologia cliente\",\"Area territoriale\", \"Rete\", \"Solution\", \"Fornitura (SW)\"]).agg({\"Raccolto\":\"sum\"}).unstack(5).reset_index(col_level=1).droplevel(level=0, axis=1)\n",
    "inflow_puri.rename(columns={\"Giorno\":\"Anno\"}, inplace=True)\n",
    "inflow_puri.loc[:, \"Tot Inflow\"] = inflow_puri.loc[:, [\"ON PREMISE\",\"ON PREMISE SAAS\", \"SAAS\"]].sum(axis=1, skipna=True)"
   ]
  },
  {
   "cell_type": "markdown",
   "id": "4732d7d2-046c-403f-a6b3-ad785f5be7a5",
   "metadata": {
    "tags": []
   },
   "source": [
    "#### Concat"
   ]
  },
  {
   "cell_type": "code",
   "execution_count": null,
   "id": "295dfeee-af56-4c9c-9c59-5cc0e00867e3",
   "metadata": {},
   "outputs": [],
   "source": [
    "inflow_canale_solution = pd.concat([inflow_misti,inflow_Bpoint_Paghe, inflow_Bpoint_Giotto, inflow_SistProf_Paghe, inflow_SistProf_Giotto, inflow_Genya_Paghe, inflow_Genya_Giotto, inflow_puri], axis=0)"
   ]
  },
  {
   "cell_type": "code",
   "execution_count": null,
   "id": "f7bd60d6-539b-4940-a024-703cd3824a96",
   "metadata": {},
   "outputs": [],
   "source": [
    "inflow_canale_solution = inflow_canale_solution.loc[:,[\"Anno\",\"Solution\", \"Tipologia cliente\", \"Rete\", \"Area territoriale\", \"ON PREMISE\", \"ON PREMISE SAAS\", \"SAAS\", \"Tot Inflow\"]].sort_values(by=[\"Anno\",\"Solution\", \"Tipologia cliente\"]).copy()"
   ]
  },
  {
   "cell_type": "code",
   "execution_count": null,
   "id": "b86c0476-0271-4c4f-83b2-c9bb7b653f3e",
   "metadata": {},
   "outputs": [],
   "source": [
    "with pd.ExcelWriter(r\"C:\\Users\\Raffaele.Sportiello\\OneDrive - Wolters Kluwer\\Documents\\Analisi clienti\\Clienti fiscale e paghe\\Analisi clienti fiscale e paghe per Area Prodotto\\Parco clienti fiscale e paghe.xlsx\") as writer:\n",
    "    df_canale_regione_solution.to_excel(writer, sheet_name=\"parco clienti\")\n",
    "    inflow_canale_solution.to_excel(writer, sheet_name=\"inflow\")\n"
   ]
  },
  {
   "cell_type": "markdown",
   "id": "a44fd955-d0f1-45dd-b93f-4568a85d56d8",
   "metadata": {
    "tags": []
   },
   "source": [
    "## Disdetti"
   ]
  },
  {
   "cell_type": "code",
   "execution_count": null,
   "id": "2e2181b6-4ac3-43e4-9f31-8b3e76d2adc0",
   "metadata": {},
   "outputs": [],
   "source": [
    "dis.info()"
   ]
  },
  {
   "cell_type": "code",
   "execution_count": 11,
   "id": "72a6140e-cb81-46cc-927f-956bbeaac961",
   "metadata": {},
   "outputs": [],
   "source": [
    "dis[\"Sales Director\"] = dis[\"Sales Director\"].apply(lambda x: x.lower())"
   ]
  },
  {
   "cell_type": "code",
   "execution_count": 12,
   "id": "45389368-94a9-450a-8f6f-bdc6ef218cc3",
   "metadata": {
    "tags": []
   },
   "outputs": [],
   "source": [
    "\n",
    "columns = [\"Cliente MERCE\", \"Data Disdetta\", \"Segmento Aggregato Cl.Merce\", \"Regione\", \"Agente dell'Abbonamento\", \"Codice ABBONAMENTO\", \"Fornitura (SW)\", \"Sales Director\", \"Valore PV New\"]\n",
    "dis_fisc_paghe = dis.loc[:, columns].copy()\n",
    "dis_fisc_paghe[\"Codice ABBONAMENTO\"] = dis_fisc_paghe.loc[:,\"Codice ABBONAMENTO\"].apply(lambda x: str(x))\n",
    "\n",
    "dis_fisc_paghe = dis_fisc_paghe.merge(cod_prod, how=\"left\", left_on=\"Codice ABBONAMENTO\", right_on=\"Codice PRODOTTO\").merge(sales, how=\"left\", on=\"Sales Director\")\n",
    "\n",
    "filt = (dis_fisc_paghe[\"Solution\"].isin([\"B.Point\",\"Sistema Professionista\",\"Genya Suite\",\"B.Point Paghe\",\"Giotto\"]))\n",
    "columns = [\"Cliente MERCE\",\"Data Disdetta\", \"Segmento Aggregato Cl.Merce\",\"Regione\",\"Agente dell'Abbonamento\",\"Area territoriale\",\"Rete\",'GTM BDG','Solution', \"Fornitura (SW)\",\"Valore PV New\"]\n",
    "dis_fisc_paghe = dis_fisc_paghe.loc[filt, columns]\n",
    "dis_fisc_paghe[\"Cliente MERCE\"] = dis_fisc_paghe[\"Cliente MERCE\"].apply(lambda x: str(x))"
   ]
  },
  {
   "cell_type": "code",
   "execution_count": 13,
   "id": "c963c003-3655-4f48-8e4c-1422474b7783",
   "metadata": {},
   "outputs": [],
   "source": [
    "in_col = lambda col, string: dis_fisc_paghe[col].str.contains(string, na=False)\n",
    "\n",
    "conds = {'Studi commercialisti': in_col('Segmento Aggregato Cl.Merce', 'Fiscal|Studi Multi'),\n",
    "         'Studi lavoro': in_col('Segmento Aggregato Cl.Merce', 'Lavoro'),\n",
    "         'Altro': ~in_col('Segmento Aggregato Cl.Merce', 'Fiscal|Studi Multi|Lavoro')}\n",
    "\n",
    "dis_fisc_paghe[\"Tipologia cliente\"] = np.select(condlist=conds.values(), choicelist=conds.keys())"
   ]
  },
  {
   "cell_type": "code",
   "execution_count": 14,
   "id": "13d5d259-a022-48d3-944f-234a16d27781",
   "metadata": {},
   "outputs": [],
   "source": [
    "dis_fisc_paghe[\"Solution cat\"] = pd.Categorical(dis_fisc_paghe[\"Solution\"], [\"B.Point\",\"Sistema Professionista\",\"Genya Suite\", \"B.Point Paghe\", \"Giotto\"])\n",
    "\n",
    "dis_fisc_paghe.sort_values(by=[\"Cliente MERCE\",\"Solution cat\"], inplace=True)\n",
    "\n",
    "dis_fisc_paghe[\"Prodotti\"] = dis_fisc_paghe.groupby(\"Cliente MERCE\")[\"Solution cat\"].transform(lambda x: \" + \".join(x))\n",
    "dis_fisc_paghe[\"Prodotti\"] = dis_fisc_paghe[\"Prodotti\"].apply(lambda x: remov_duplicates(x))"
   ]
  },
  {
   "cell_type": "markdown",
   "id": "5155c95c-b6fa-426c-87f7-9d1bf9ea012a",
   "metadata": {
    "tags": []
   },
   "source": [
    "### Dettaglio per cliente con PV prodotti in colonna"
   ]
  },
  {
   "cell_type": "code",
   "execution_count": 22,
   "id": "273ba6a3-ff48-41fc-8baa-3dc2f72c6ad0",
   "metadata": {},
   "outputs": [],
   "source": [
    "dis_fisc_paghe_dett = dis_fisc_paghe.groupby([\"Cliente MERCE\", \"Data Disdetta\",\"Tipologia cliente\",\"Regione\",\"Agente dell'Abbonamento\",\"Area territoriale\", \"Rete\", \"Fornitura (SW)\",\"Prodotti\",\"Solution\"], dropna=False).agg({\"Valore PV New\":\"sum\"}).unstack(9).reset_index(col_level=1).droplevel(level=0, axis=1)\n",
    "\n",
    "dis_fisc_paghe_dett[\"PV\"] = dis_fisc_paghe_dett.loc[:,[\"B.Point\",\"Sistema Professionista\",\"Genya Suite\",\"B.Point Paghe\",\"Giotto\"]].sum(axis=1)\n",
    "\n",
    "dis_fisc_paghe_dett.replace(to_replace=0, value=np.nan, inplace=True)"
   ]
  },
  {
   "cell_type": "code",
   "execution_count": 26,
   "id": "b84e3fb8-4727-421a-b797-7feb8612a010",
   "metadata": {},
   "outputs": [],
   "source": [
    "dis_fisc_paghe_dett[\"Codice SAP\"] = dis_fisc_paghe_dett[\"Cliente MERCE\"].astype(str).apply(lambda x: \"IT-\" + x.zfill(10))\n",
    "dis_fisc_paghe_dett = dis_fisc_paghe_dett.merge(accounts_sf, how=\"left\", left_on=\"Codice SAP\", right_on=\"WK Account Number\")"
   ]
  },
  {
   "cell_type": "code",
   "execution_count": 30,
   "id": "03288b28-b9fc-4b69-b46e-18c6b5854b91",
   "metadata": {},
   "outputs": [],
   "source": [
    "dis_fisc_paghe_dett = dis_fisc_paghe_dett.loc[:,[\"Cliente MERCE\", \"Account Name\", \"Data Disdetta\", \"Tipologia cliente\", \"Regione\",\"Agente dell'Abbonamento\", \"Area territoriale\", \"Rete\",\"Fornitura (SW)\", \"Prodotti\", \"B.Point\", \"B.Point Paghe\", \"Genya Suite\",\"Giotto\", \"Sistema Professionista\", \"PV\"]].copy()"
   ]
  },
  {
   "cell_type": "code",
   "execution_count": 31,
   "id": "a9bce0a6-5258-47d4-8903-6552d06acb91",
   "metadata": {},
   "outputs": [
    {
     "data": {
      "text/html": [
       "<div>\n",
       "<style scoped>\n",
       "    .dataframe tbody tr th:only-of-type {\n",
       "        vertical-align: middle;\n",
       "    }\n",
       "\n",
       "    .dataframe tbody tr th {\n",
       "        vertical-align: top;\n",
       "    }\n",
       "\n",
       "    .dataframe thead th {\n",
       "        text-align: right;\n",
       "    }\n",
       "</style>\n",
       "<table border=\"1\" class=\"dataframe\">\n",
       "  <thead>\n",
       "    <tr style=\"text-align: right;\">\n",
       "      <th></th>\n",
       "      <th>Cliente MERCE</th>\n",
       "      <th>Account Name</th>\n",
       "      <th>Data Disdetta</th>\n",
       "      <th>Tipologia cliente</th>\n",
       "      <th>Regione</th>\n",
       "      <th>Agente dell'Abbonamento</th>\n",
       "      <th>Area territoriale</th>\n",
       "      <th>Rete</th>\n",
       "      <th>Fornitura (SW)</th>\n",
       "      <th>Prodotti</th>\n",
       "      <th>B.Point</th>\n",
       "      <th>B.Point Paghe</th>\n",
       "      <th>Genya Suite</th>\n",
       "      <th>Giotto</th>\n",
       "      <th>Sistema Professionista</th>\n",
       "      <th>PV</th>\n",
       "    </tr>\n",
       "  </thead>\n",
       "  <tbody>\n",
       "    <tr>\n",
       "      <th>16174</th>\n",
       "      <td>82718</td>\n",
       "      <td>SERVIZI CONTABILI ALLE IMPRESE SRL</td>\n",
       "      <td>2018-01-31</td>\n",
       "      <td>Studi commercialisti</td>\n",
       "      <td>Toscana</td>\n",
       "      <td>LEON@RDO S.P.A.</td>\n",
       "      <td>Rete IPSOA</td>\n",
       "      <td>Indiretta agenzie</td>\n",
       "      <td>SAAS</td>\n",
       "      <td>Sistema Professionista</td>\n",
       "      <td>NaN</td>\n",
       "      <td>NaN</td>\n",
       "      <td>NaN</td>\n",
       "      <td>NaN</td>\n",
       "      <td>174.27</td>\n",
       "      <td>174.27</td>\n",
       "    </tr>\n",
       "    <tr>\n",
       "      <th>1284</th>\n",
       "      <td>1114937</td>\n",
       "      <td>STUDIO BASSANI MACCABELLI &amp; ASSOCIATI</td>\n",
       "      <td>2020-01-12</td>\n",
       "      <td>Studi commercialisti</td>\n",
       "      <td>Lombardia</td>\n",
       "      <td>FIVE SRL</td>\n",
       "      <td>Rete IPSOA</td>\n",
       "      <td>Indiretta agenzie</td>\n",
       "      <td>ON PREMISE</td>\n",
       "      <td>Sistema Professionista</td>\n",
       "      <td>NaN</td>\n",
       "      <td>NaN</td>\n",
       "      <td>NaN</td>\n",
       "      <td>NaN</td>\n",
       "      <td>6989.00</td>\n",
       "      <td>6989.00</td>\n",
       "    </tr>\n",
       "    <tr>\n",
       "      <th>4293</th>\n",
       "      <td>1369398</td>\n",
       "      <td>CAVALLI FABIO</td>\n",
       "      <td>2018-01-01</td>\n",
       "      <td>Studi commercialisti</td>\n",
       "      <td>Lazio</td>\n",
       "      <td>AQUILA 99 S.A.S.</td>\n",
       "      <td>Rete IPSOA</td>\n",
       "      <td>Indiretta agenzie</td>\n",
       "      <td>SAAS</td>\n",
       "      <td>Sistema Professionista</td>\n",
       "      <td>NaN</td>\n",
       "      <td>NaN</td>\n",
       "      <td>NaN</td>\n",
       "      <td>NaN</td>\n",
       "      <td>56.67</td>\n",
       "      <td>56.67</td>\n",
       "    </tr>\n",
       "    <tr>\n",
       "      <th>15726</th>\n",
       "      <td>578039</td>\n",
       "      <td>PASSAGGIO OBBLIGATO SPA</td>\n",
       "      <td>2022-01-11</td>\n",
       "      <td>Altro</td>\n",
       "      <td>Veneto</td>\n",
       "      <td>BM INFORMATICA S.R.L</td>\n",
       "      <td>Rete IPSOA</td>\n",
       "      <td>Indiretta agenzie</td>\n",
       "      <td>ON PREMISE</td>\n",
       "      <td>Sistema Professionista</td>\n",
       "      <td>NaN</td>\n",
       "      <td>NaN</td>\n",
       "      <td>NaN</td>\n",
       "      <td>NaN</td>\n",
       "      <td>642.79</td>\n",
       "      <td>642.79</td>\n",
       "    </tr>\n",
       "    <tr>\n",
       "      <th>10879</th>\n",
       "      <td>1862571</td>\n",
       "      <td>T LOG SRL</td>\n",
       "      <td>2020-01-02</td>\n",
       "      <td>Altro</td>\n",
       "      <td>Sicilia</td>\n",
       "      <td>IPSODEA S.R.L.</td>\n",
       "      <td>Rete IPSOA</td>\n",
       "      <td>Indiretta agenzie</td>\n",
       "      <td>ON PREMISE</td>\n",
       "      <td>Sistema Professionista</td>\n",
       "      <td>NaN</td>\n",
       "      <td>NaN</td>\n",
       "      <td>NaN</td>\n",
       "      <td>NaN</td>\n",
       "      <td>261.70</td>\n",
       "      <td>261.70</td>\n",
       "    </tr>\n",
       "  </tbody>\n",
       "</table>\n",
       "</div>"
      ],
      "text/plain": [
       "      Cliente MERCE                           Account Name Data Disdetta  \\\n",
       "16174         82718     SERVIZI CONTABILI ALLE IMPRESE SRL    2018-01-31   \n",
       "1284        1114937  STUDIO BASSANI MACCABELLI & ASSOCIATI    2020-01-12   \n",
       "4293        1369398                          CAVALLI FABIO    2018-01-01   \n",
       "15726        578039                PASSAGGIO OBBLIGATO SPA    2022-01-11   \n",
       "10879       1862571                              T LOG SRL    2020-01-02   \n",
       "\n",
       "          Tipologia cliente    Regione Agente dell'Abbonamento  \\\n",
       "16174  Studi commercialisti    Toscana         LEON@RDO S.P.A.   \n",
       "1284   Studi commercialisti  Lombardia                FIVE SRL   \n",
       "4293   Studi commercialisti      Lazio        AQUILA 99 S.A.S.   \n",
       "15726                 Altro     Veneto    BM INFORMATICA S.R.L   \n",
       "10879                 Altro    Sicilia          IPSODEA S.R.L.   \n",
       "\n",
       "      Area territoriale               Rete Fornitura (SW)  \\\n",
       "16174        Rete IPSOA  Indiretta agenzie           SAAS   \n",
       "1284         Rete IPSOA  Indiretta agenzie     ON PREMISE   \n",
       "4293         Rete IPSOA  Indiretta agenzie           SAAS   \n",
       "15726        Rete IPSOA  Indiretta agenzie     ON PREMISE   \n",
       "10879        Rete IPSOA  Indiretta agenzie     ON PREMISE   \n",
       "\n",
       "                     Prodotti  B.Point  B.Point Paghe  Genya Suite  Giotto  \\\n",
       "16174  Sistema Professionista      NaN            NaN          NaN     NaN   \n",
       "1284   Sistema Professionista      NaN            NaN          NaN     NaN   \n",
       "4293   Sistema Professionista      NaN            NaN          NaN     NaN   \n",
       "15726  Sistema Professionista      NaN            NaN          NaN     NaN   \n",
       "10879  Sistema Professionista      NaN            NaN          NaN     NaN   \n",
       "\n",
       "       Sistema Professionista       PV  \n",
       "16174                  174.27   174.27  \n",
       "1284                  6989.00  6989.00  \n",
       "4293                    56.67    56.67  \n",
       "15726                  642.79   642.79  \n",
       "10879                  261.70   261.70  "
      ]
     },
     "execution_count": 31,
     "metadata": {},
     "output_type": "execute_result"
    }
   ],
   "source": [
    "dis_fisc_paghe_dett.sample(5)"
   ]
  },
  {
   "cell_type": "code",
   "execution_count": 32,
   "id": "6748237a-1375-4780-9516-45c36e50ef11",
   "metadata": {},
   "outputs": [],
   "source": [
    "dis_fisc_paghe_dett.to_excel(r\"C:\\Users\\Raffaele.Sportiello\\OneDrive - Wolters Kluwer\\Documents\\Analisi clienti\\Clienti fiscale e paghe\\Analisi clienti fiscale e paghe per Area Prodotto\\Data source\\Parco clienti fiscale e paghe - Clienti disdetti.xlsx\", index=False)"
   ]
  },
  {
   "cell_type": "markdown",
   "id": "0a1f0b84-8002-4357-84c8-00ec4be2fd7b",
   "metadata": {
    "tags": []
   },
   "source": [
    "### ---\n"
   ]
  }
 ],
 "metadata": {
  "kernelspec": {
   "display_name": "Python 3 (ipykernel)",
   "language": "python",
   "name": "python3"
  },
  "language_info": {
   "codemirror_mode": {
    "name": "ipython",
    "version": 3
   },
   "file_extension": ".py",
   "mimetype": "text/x-python",
   "name": "python",
   "nbconvert_exporter": "python",
   "pygments_lexer": "ipython3",
   "version": "3.9.7"
  }
 },
 "nbformat": 4,
 "nbformat_minor": 5
}
