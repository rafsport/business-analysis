{
 "cells": [
  {
   "cell_type": "code",
   "execution_count": 1,
   "metadata": {},
   "outputs": [],
   "source": [
    "import pandas as pd\n",
    "import datetime as dt\n",
    "import numpy as np"
   ]
  },
  {
   "cell_type": "code",
   "execution_count": 4,
   "metadata": {
    "jupyter": {
     "source_hidden": true
    }
   },
   "outputs": [],
   "source": [
    "#DEFINZIONE VARIABILI E FUZIONI\n",
    "d_parser = lambda x: dt.datetime.strptime(x, '%Y-%m-%d %H:%M:%S')\n",
    "\n",
    "\n",
    "\n",
    "#CARICAMENTO DATI\n",
    "tp = pd.read_csv(\"C:/Users/11622901/OneDrive - TIM/Team performance/Reports/Lead/WCB/Analisi_Lead_ok.csv\",\n",
    "                       sep=None, engine=\"python\", encoding = \"utf16\", parse_dates=[\"Timestamp\"], date_parser=d_parser,\n",
    "                       usecols=[\"Timestamp\", \"Campaign\", \"Media\", \"Placement\", \"Banner/Adgroup\", \"Page\", \"No Repeats\"])\n",
    "\n",
    "#TRASFORMAZIONE DATI\n",
    "filt = (tp[\"No Repeats\"] == \"Yes\") & (tp[\"Timestamp\"].dt.date < dt.date.today())\n",
    "tp = tp[filt]\n",
    "\n",
    "tp[\"Timestamp\"] = tp[\"Timestamp\"].dt.date\n",
    "tp[\"SubOrder\"] = 1\n",
    "tp.fillna(\"Missing\", inplace=True)\n",
    "\n",
    "tp_group = tp.groupby([\"Timestamp\",\"Page\",\"Campaign\",\"Media\",\"Placement\",\"Banner/Adgroup\"])[\"SubOrder\"].sum().reset_index()\n",
    "\n",
    "\n",
    "\n",
    "mese = tp_group[\"Timestamp\"].max().strftime(\"%m\")\n",
    "anno = tp_group[\"Timestamp\"].max().strftime(\"%Y\")\n",
    "giorno = tp_group[\"Timestamp\"].max().strftime(\"%d\")\n",
    "\n",
    "\n",
    "tp_group[\"Lead\"] = tp_group[\"Page\"][tp_group[\"Page\"].str.contains(\"OK|KO|DOUBLE|SPAM|CHIAMAMI|CHIAMAMI GRATIS|PROCEDI|FLOAT|VERIFICA E ATTIVA\")].str.split(\"_\").str[-1]\n",
    "tp_group.loc[~tp_group[\"Lead\"].isin([\"OK\",\"KO\",\"DOUBLE\",\"SPAM\",\"CHIAMAMI\",\"CHIAMAMI GRATIS\",\"PROCEDI\",\"FLOAT\",\"VERIFICA E ATTIVA\"]), \"Lead\"] = \"LANDING\"\n",
    "\n",
    "tp_group[\"Page\"] = tp_group[\"Page\"].str.split('://').str.get(1).str.split('_').str.get(0)\n",
    "\n",
    "columns_name = [\"Timestamp\",\"Page\",\"Campaign\",\"Media\",\"Placement\",\"Banner/Adgroup\",\"Lead\",\"SubOrder\",\"Key\"]\n",
    "tp_group = tp_group.reindex(columns=columns_name)\n",
    "\n",
    "\n",
    "tp_group.to_excel(f\"C:/Users/11622901/OneDrive - TIM/Team performance/Reports/Lead/Lead DEM/Dati/dati_{anno}_{mese}_{giorno}.xlsx\", index=False)\n",
    "\n",
    "\n",
    "### CARTELLE URL\n",
    "liv = tp_group[\"Page\"].str.split('/', expand=True)\n",
    "liv[\"URL\"] = tp_group[\"Page\"]\n",
    "liv[\"URL\"] = liv[\"URL\"].str.split('?').str.get(0)\n",
    "liv = liv[[\"URL\", 1,2]]\n",
    "liv.columns = [\"URL\",\"L1\",\"L2\"]\n",
    "\n",
    "liv.sort_values(by=\"URL\",inplace=True)\n",
    "liv.drop_duplicates(subset=\"URL\", keep=\"first\", inplace= True)\n",
    "\n",
    "liv.to_excel(f\"C:/Users/11622901/OneDrive - TIM/Team performance/Reports/Lead/Lead DEM/Livelli/livelli_{anno}_{mese}_{giorno}.xlsx\", index=False)\n"
   ]
  },
  {
   "cell_type": "code",
   "execution_count": 254,
   "metadata": {},
   "outputs": [],
   "source": [
    "path = pd.read_csv(\"C:/Users/11622901/JupyterLab/Sources/pathtoconversion.csv\",\n",
    "                       sep=\",\", engine=\"python\", encoding = \"utf-8-sig\",usecols=[\"Journey pattern\", \"Pattern Count\"])"
   ]
  },
  {
   "cell_type": "code",
   "execution_count": 255,
   "metadata": {},
   "outputs": [],
   "source": [
    "path[\"Splitted\"] = path.loc[:,\"Journey pattern\"].str.split(\"->\").str[:-1]\n",
    "path[\"Last touch\"] = path.loc[:,\"Splitted\"].str[-1]\n",
    "path[\"First touch\"] = path.loc[:,\"Splitted\"].str[0]"
   ]
  },
  {
   "cell_type": "code",
   "execution_count": 176,
   "metadata": {},
   "outputs": [],
   "source": [
    "'''path[\"Splitted\"] = path.loc[:,\"Journey pattern\"].str.split(\"->\").str[:-1]\n",
    "path[\"Last touch\"] = path.loc[:,\"Journey pattern\"].str.split(\"->\").str[-2]\n",
    "path[\"First touch\"] = path.loc[:,\"Journey pattern\"].str.split(\"->\").str[1]\n",
    "path = path.loc[path[\"Last touch\"].str.contains(\"FANPLAYR\", na=False)]'''"
   ]
  },
  {
   "cell_type": "code",
   "execution_count": 256,
   "metadata": {},
   "outputs": [],
   "source": [
    "path[\"Path length\"] = path[\"Splitted\"].apply(lambda x: len(x))"
   ]
  },
  {
   "cell_type": "code",
   "execution_count": 257,
   "metadata": {},
   "outputs": [],
   "source": [
    "path[\"Journey pattern\"] = path.loc[:,\"Splitted\"]"
   ]
  },
  {
   "cell_type": "code",
   "execution_count": 258,
   "metadata": {},
   "outputs": [],
   "source": [
    "path = path.loc[:,[\"Journey pattern\",\"Path length\",\"First touch\",\"Last touch\",\"Pattern Count\"]]"
   ]
  },
  {
   "cell_type": "code",
   "execution_count": 259,
   "metadata": {},
   "outputs": [],
   "source": [
    "path[\"-1\"] = path.loc[:,\"Journey pattern\"].str[-1]\n",
    "path[\"-2\"] = path.loc[:,\"Journey pattern\"].str[-2]\n",
    "path[\"-3\"] = path.loc[:,\"Journey pattern\"].str[-3]\n",
    "path[\"-4\"] = path.loc[:,\"Journey pattern\"].str[-4]\n",
    "path[\"-5\"] = path.loc[:,\"Journey pattern\"].str[-5]\n",
    "path[\"-6\"] = path.loc[:,\"Journey pattern\"].str[-6]\n",
    "path[\"-7\"] = path.loc[:,\"Journey pattern\"].str[-7]\n",
    "path[\"-8\"] = path.loc[:,\"Journey pattern\"].str[-8]\n",
    "path[\"-9\"] = path.loc[:,\"Journey pattern\"].str[-9]"
   ]
  },
  {
   "cell_type": "code",
   "execution_count": 208,
   "metadata": {},
   "outputs": [],
   "source": [
    "path.to_excel(\"C:/Users/11622901/JupyterLab/Sources/path_analysis.xlsx\", index=False)"
   ]
  },
  {
   "cell_type": "code",
   "execution_count": 287,
   "metadata": {},
   "outputs": [],
   "source": [
    "path.groupby([\"Path length\",\"First touch\"]).agg({\"Pattern Count\":\"sum\",\"Journey pattern\":\"count\"}).rename(columns={\"Pattern Count\":\"Conversioni\",\"Journey pattern\":\"N. path\"}).reset_index().to_excel(\"C:/Users/11622901/JupyterLab/Sources/path_analysis_first.xlsx\", index=False)"
   ]
  },
  {
   "cell_type": "code",
   "execution_count": 288,
   "metadata": {},
   "outputs": [],
   "source": [
    "path.groupby([\"Path length\",\"Last touch\"]).agg({\"Pattern Count\":\"sum\",\"Journey pattern\":\"count\"}).rename(columns={\"Pattern Count\":\"Conversioni\",\"Journey pattern\":\"N. path\"}).reset_index().to_excel(\"C:/Users/11622901/JupyterLab/Sources/path_analysis_last.xlsx\", index=False)"
   ]
  },
  {
   "cell_type": "code",
   "execution_count": 295,
   "metadata": {},
   "outputs": [
    {
     "data": {
      "text/html": [
       "<div>\n",
       "<style scoped>\n",
       "    .dataframe tbody tr th:only-of-type {\n",
       "        vertical-align: middle;\n",
       "    }\n",
       "\n",
       "    .dataframe tbody tr th {\n",
       "        vertical-align: top;\n",
       "    }\n",
       "\n",
       "    .dataframe thead th {\n",
       "        text-align: right;\n",
       "    }\n",
       "</style>\n",
       "<table border=\"1\" class=\"dataframe\">\n",
       "  <thead>\n",
       "    <tr style=\"text-align: right;\">\n",
       "      <th></th>\n",
       "      <th></th>\n",
       "      <th>Pattern Count</th>\n",
       "    </tr>\n",
       "    <tr>\n",
       "      <th>Path length</th>\n",
       "      <th>Last touch</th>\n",
       "      <th></th>\n",
       "    </tr>\n",
       "  </thead>\n",
       "  <tbody>\n",
       "    <tr>\n",
       "      <th rowspan=\"2\" valign=\"top\">1</th>\n",
       "      <th>Unknown</th>\n",
       "      <td>817.0</td>\n",
       "    </tr>\n",
       "    <tr>\n",
       "      <th>Google AdWords (Click)</th>\n",
       "      <td>564.0</td>\n",
       "    </tr>\n",
       "    <tr>\n",
       "      <th>2</th>\n",
       "      <th>Google AdWords (Click)</th>\n",
       "      <td>175.0</td>\n",
       "    </tr>\n",
       "    <tr>\n",
       "      <th>1</th>\n",
       "      <th>Empty Path</th>\n",
       "      <td>161.0</td>\n",
       "    </tr>\n",
       "    <tr>\n",
       "      <th>2</th>\n",
       "      <th>FANPLAYR (Click)</th>\n",
       "      <td>139.0</td>\n",
       "    </tr>\n",
       "    <tr>\n",
       "      <th>...</th>\n",
       "      <th>...</th>\n",
       "      <td>...</td>\n",
       "    </tr>\n",
       "    <tr>\n",
       "      <th>6</th>\n",
       "      <th>Facile.it (Impr.)</th>\n",
       "      <td>1.0</td>\n",
       "    </tr>\n",
       "    <tr>\n",
       "      <th>2</th>\n",
       "      <th>Segugio (Click)</th>\n",
       "      <td>1.0</td>\n",
       "    </tr>\n",
       "    <tr>\n",
       "      <th rowspan=\"2\" valign=\"top\">6</th>\n",
       "      <th>Google AdWords (Impr.)</th>\n",
       "      <td>1.0</td>\n",
       "    </tr>\n",
       "    <tr>\n",
       "      <th>Ketchup (Click)</th>\n",
       "      <td>1.0</td>\n",
       "    </tr>\n",
       "    <tr>\n",
       "      <th>5</th>\n",
       "      <th>Outbrain (Click)</th>\n",
       "      <td>1.0</td>\n",
       "    </tr>\n",
       "  </tbody>\n",
       "</table>\n",
       "<p>248 rows × 1 columns</p>\n",
       "</div>"
      ],
      "text/plain": [
       "                                      Pattern Count\n",
       "Path length Last touch                             \n",
       "1           Unknown                           817.0\n",
       "            Google AdWords (Click)            564.0\n",
       "2            Google AdWords (Click)           175.0\n",
       "1           Empty Path                        161.0\n",
       "2            FANPLAYR (Click)                 139.0\n",
       "...                                             ...\n",
       "6            Facile.it (Impr.)                  1.0\n",
       "2            Segugio (Click)                    1.0\n",
       "6            Google AdWords (Impr.)             1.0\n",
       "             Ketchup (Click)                    1.0\n",
       "5            Outbrain (Click)                   1.0\n",
       "\n",
       "[248 rows x 1 columns]"
      ]
     },
     "execution_count": 295,
     "metadata": {},
     "output_type": "execute_result"
    }
   ],
   "source": [
    "path.groupby([\"Path length\",\"Last touch\"]).agg({\"Pattern Count\":\"max\"}).sort_values(by=\"Pattern Count\", ascending=False)"
   ]
  },
  {
   "cell_type": "code",
   "execution_count": null,
   "metadata": {},
   "outputs": [],
   "source": []
  }
 ],
 "metadata": {
  "kernelspec": {
   "display_name": "Python 3",
   "language": "python",
   "name": "python3"
  },
  "language_info": {
   "codemirror_mode": {
    "name": "ipython",
    "version": 3
   },
   "file_extension": ".py",
   "mimetype": "text/x-python",
   "name": "python",
   "nbconvert_exporter": "python",
   "pygments_lexer": "ipython3",
   "version": "3.8.3"
  }
 },
 "nbformat": 4,
 "nbformat_minor": 4
}
