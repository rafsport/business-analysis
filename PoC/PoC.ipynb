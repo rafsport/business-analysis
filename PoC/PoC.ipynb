{
 "cells": [
  {
   "cell_type": "markdown",
   "metadata": {},
   "source": [
    "# [Analisi di un DB ordini](https://nbviewer.jupyter.org/github/rafsport/business-analysis/blob/master/PoC/Analisi_di_un_DB_ordini.ipynb)\n",
    "# [La mia libreria visual](https://nbviewer.jupyter.org/github/rafsport/business-analysis/blob/master/PoC/La_mia_libreria_visual.ipynb)"
   ]
  }
 ],
 "metadata": {
  "kernelspec": {
   "display_name": "Python 3",
   "language": "python",
   "name": "python3"
  },
  "language_info": {
   "codemirror_mode": {
    "name": "ipython",
    "version": 3
   },
   "file_extension": ".py",
   "mimetype": "text/x-python",
   "name": "python",
   "nbconvert_exporter": "python",
   "pygments_lexer": "ipython3",
   "version": "3.7.1"
  }
 },
 "nbformat": 4,
 "nbformat_minor": 2
}
