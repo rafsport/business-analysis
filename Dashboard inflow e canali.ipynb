{
 "cells": [
  {
   "cell_type": "markdown",
   "id": "42c5db9d-e2a2-461b-aa64-621e6f7dafdd",
   "metadata": {},
   "source": [
    "# Dashboard inflow Canestrari"
   ]
  },
  {
   "cell_type": "code",
   "execution_count": 2,
   "id": "d51e9271-8259-41b3-8165-b293524ba48f",
   "metadata": {},
   "outputs": [],
   "source": [
    "import pandas as pd\n",
    "import datetime as dt\n",
    "import numpy as np\n",
    "import os"
   ]
  },
  {
   "cell_type": "code",
   "execution_count": 6,
   "id": "52b5a734-379d-4e15-9a70-5c66632142e1",
   "metadata": {},
   "outputs": [],
   "source": [
    "inflow_can = r\"C:\\Users\\Raffaele.Sportiello\\OneDrive - Wolters Kluwer\\Documents\\Reports\\Dashboard inflow canali e prodotti\\Data export\\inflow_canestrari.xlsx\""
   ]
  },
  {
   "cell_type": "code",
   "execution_count": 7,
   "id": "0cb537d6-c7b8-4784-a0b4-aa671b68aee1",
   "metadata": {},
   "outputs": [],
   "source": [
    "### Variabili\n",
    "d_parser = lambda x: dt.datetime.strptime(x, '%m.%Y')\n",
    "columns = [\"Anno/Mese Inseriment | Anno Inserimento Ord\",\"Ordini AP\",\"Ordini AC\",\"Budget AP\",\n",
    "           \"Budget AC\",\"Sales Director\",\"TIPO PTR\",\"Forecast\",\"Sales Director infloW\",\"linea aggregata\"]\n",
    "\n",
    "\n",
    "### ETL \"Inflow Roberta Canestrari\"\n",
    "inflow = pd.read_excel(inflow_can, sheet_name=\"inflow\", engine=\"openpyxl\", header=3, parse_dates=[\"Anno/Mese Inseriment | Anno Inserimento Ord\"], date_parser=d_parser, usecols=columns)\n"
   ]
  },
  {
   "cell_type": "code",
   "execution_count": 8,
   "id": "f1d6e75d-cf05-434d-867a-81126b706261",
   "metadata": {},
   "outputs": [],
   "source": [
    "inflow.columns = [\"Anno/Mese\", \"Ordini AP\", \"Ordini AC\", \"Budget AP\", \"Budget AC\", \"Sales Director\", \"Rete\", \"Previsioni impegno\", \"Area territoriale\", \"Linea aggregata\"]"
   ]
  },
  {
   "cell_type": "code",
   "execution_count": 9,
   "id": "abda52f8-fab3-4911-86c3-5a240483efbb",
   "metadata": {},
   "outputs": [],
   "source": [
    "inflow.fillna({\"Ordini AP\":0,\"Ordini AC\":0,\"Budget AC\":0,\"Budget AC\":0,\"Previsioni impegno\":0,\"Sales Director\":\"Missing\",\"Rete\": \"Misssing\",\"Area territoriale\": \"Misssing\",\"Linea aggregata\": \"Misssing\"}, inplace=True)"
   ]
  },
  {
   "cell_type": "code",
   "execution_count": 10,
   "id": "11ed2662-b9b5-4a78-ba28-3cbabd1981a5",
   "metadata": {},
   "outputs": [],
   "source": [
    "inflow[\"Ordini\"] = inflow.loc[:,['Ordini AP','Ordini AC']].sum(axis=1, min_count=1)\n",
    "inflow[\"Budget\"]= inflow.loc[:,['Budget AP','Budget AC']].sum(axis=1, min_count=1)"
   ]
  },
  {
   "cell_type": "code",
   "execution_count": 11,
   "id": "f71a4674-a36b-4424-b584-a3fe1f5b44d3",
   "metadata": {},
   "outputs": [],
   "source": [
    "inflow = inflow.loc[:,[\"Anno/Mese\", \"Sales Director\", \"Rete\", \"Area territoriale\", \"Linea aggregata\", \"Ordini\", \"Budget\", \"Previsioni impegno\"]]"
   ]
  },
  {
   "cell_type": "code",
   "execution_count": 12,
   "id": "b3548843-0d4f-4a6b-8615-5dcc09e67b07",
   "metadata": {},
   "outputs": [],
   "source": [
    "inflow.replace({\"Area territoriale\":{\"Indirect Sales\":\"Indirect\", \"North-East_Ibisoft\":\"North-East Ibisoft\"}, \"Linea aggregata\":{\"services\":\"Services\", \"hw\":\"HW\"}}, inplace=True)"
   ]
  },
  {
   "cell_type": "code",
   "execution_count": 9,
   "id": "b3417155-b9cb-4563-b4a1-14172e409446",
   "metadata": {},
   "outputs": [],
   "source": [
    "inflow.to_excel(r\"C:\\Users\\Raffaele.Sportiello\\OneDrive - Wolters Kluwer\\Documents\\Reports\\Dashboard inflow canali e prodotti\\Source\\inflow.xlsx\", index=False)"
   ]
  },
  {
   "cell_type": "code",
   "execution_count": 13,
   "id": "6fb5704c-8b39-443c-bf8a-771355b3e339",
   "metadata": {},
   "outputs": [],
   "source": [
    "gg_lav = pd.DataFrame(data=pd.date_range(start='2021-01-01', end=(dt.date.today()-pd.Timedelta(days=1))), columns=[\"Giorno\"])"
   ]
  },
  {
   "cell_type": "code",
   "execution_count": 18,
   "id": "17c074db-4084-4a3c-b713-901af77e7a2e",
   "metadata": {},
   "outputs": [],
   "source": [
    "holidays=[\"2021-01-01\",\"2021-01-06\",\"2021-04-05\",\"2021-05-01\",\"2021-06-02\",\"2021-08-15\",\"2021-11-01\",\"2021-12-08\",\"2021-12-25\",\"2021-12-26\"]\n",
    "\n",
    "gg_lav['N. gg lavorativi'] = np.busday_count(gg_lav[\"Giorno\"].apply(lambda x: (pd.to_datetime(dt.date(x.year,x.month,1))) ).values.astype('datetime64[D]'), \n",
    "                                             (gg_lav['Giorno']+pd.Timedelta(days=1)).values.astype('datetime64[D]'), \n",
    "                                             weekmask=[1,1,1,1,1,0,0], holidays=holidays)"
   ]
  },
  {
   "cell_type": "code",
   "execution_count": 19,
   "id": "7a6fa822-cea0-4a4d-bd01-7bcfe0649861",
   "metadata": {},
   "outputs": [],
   "source": [
    "gg_lav['N. gg lavorativi nel mese'] = gg_lav.groupby(gg_lav[\"Giorno\"].dt.month)[\"N. gg lavorativi\"].transform(\"max\")"
   ]
  },
  {
   "cell_type": "code",
   "execution_count": 142,
   "id": "4b4ea583-3b2a-40d9-a204-47cbc8e3f2e2",
   "metadata": {},
   "outputs": [],
   "source": [
    "gg_lav.to_excel(r\"C:\\Users\\Raffaele.Sportiello\\OneDrive - Wolters Kluwer\\Documents\\Reports\\Parametriche\\gg_lav.xlsx\", index=False)"
   ]
  },
  {
   "cell_type": "markdown",
   "id": "2ce9fda5-3ab1-46d2-ac5c-b36163e90323",
   "metadata": {},
   "source": [
    "---"
   ]
  },
  {
   "cell_type": "markdown",
   "id": "487d219e-ae36-4464-9ba4-8913c20f9079",
   "metadata": {},
   "source": [
    "# Dashboard inflow"
   ]
  },
  {
   "cell_type": "markdown",
   "id": "c214a482-6173-428e-9af2-704eee77e39a",
   "metadata": {},
   "source": [
    "## Budest"
   ]
  },
  {
   "cell_type": "code",
   "execution_count": 17,
   "id": "5585e35d-2381-4e0f-9d00-1b2f1dc72e74",
   "metadata": {},
   "outputs": [],
   "source": [
    "import pandas as pd\n",
    "import datetime as dt\n",
    "import numpy as np\n",
    "import calendar\n",
    "import zipfile\n",
    "\n",
    "zip_file =r\"C:\\Users\\Raffaele.Sportiello\\OneDrive - Wolters Kluwer\\Documents\\Dashboard inflow\\Dashboard inflow canali e prodotti\\Data export\\ZQ_MC_BUDANAL_IMP_ALL.zip\"\n",
    "directory_to_extract_to = r\"C:\\Users\\Raffaele.Sportiello\\OneDrive - Wolters Kluwer\\Documents\\Dashboard inflow\\Dashboard inflow canali e prodotti\\Data export\"\n",
    "try:\n",
    "    with zipfile.ZipFile(zip_file, 'r') as zip_ref:\n",
    "        zip_ref.extractall(directory_to_extract_to)\n",
    "except:\n",
    "    print(\"Invalid file\")\n",
    "\n",
    "bw_file = r\"C:\\Users\\Raffaele.Sportiello\\OneDrive - Wolters Kluwer\\Documents\\Dashboard inflow\\Dashboard inflow canali e prodotti\\Data export\\ZQ_MC_BUDANAL_IMP_ALL_00000.xls\"\n",
    "df = pd.DataFrame(pd.read_html(str(bw_file), encoding = 'utf-8', decimal=\",\", thousands='.')[3])\n",
    "df2 = pd.DataFrame(data=df.loc[1:,:])\n",
    "df2.columns = df.loc[0,:].to_list()\n",
    "df2[\"Data Ins. Ordine (monitoraggio)\"] = pd.to_datetime(df2[\"Data Ins. Ordine (monitoraggio)\"], format=\"%d%m%Y\")\n",
    "df2[[\"Raccolto\", \"Budget assegnato\"]] = df2.loc[:,[\"Raccolto\", \"Budget assegnato\"]].astype(float)\n",
    "df2.loc[(df2[\"Budget assegnato\"].notna()) & (df2[\"Linea Prodotti\"] == \"Software\"), [\"Gruppo Prodotti Ricl\"]] = \"Software\"\n",
    "df2.loc[(df2[\"Budget assegnato\"].notna()) & (df2[\"Linea Prodotti\"] == \"Services\"), [\"Gruppo Prodotti Ricl\"]] = \"Vendite Services\"\n",
    "df2.rename(columns={'Budget assegnato': 'Budget  assegnato'}, inplace=True)\n",
    "\n",
    "#df2.to_excel(r\"C:\\Users\\Raffaele.Sportiello\\OneDrive - Wolters Kluwer\\Documents\\Dashboard inflow\\Dashboard inflow canali e prodotti\\Source\\inflow_prodotti\\inflow_prodotti_nuove_vendite_2022.xlsx\", sheet_name='Foglio1', index=False)\n",
    "\n",
    "df2_curr_month = df2.loc[df2[\"Data Ins. Ordine (monitoraggio)\"].dt.date >= dt.date(dt.datetime.now().year,dt.datetime.now().month,1),:]\n",
    "#df2_curr_month.to_excel(r\"C:\\Users\\Raffaele.Sportiello\\OneDrive - Wolters Kluwer\\Documents\\Dashboard inflow\\Dashboard inflow canali e prodotti\\Source\\po_giornaliero\\inflow_prodotti_nuove_vendite_2022.xlsx\", sheet_name='Foglio1', index=False)\n",
    "\n",
    "\n",
    "gg_lav = pd.DataFrame(data=pd.date_range(start='2021-01-01', end=(dt.date.today()-pd.Timedelta(days=1))), columns=[\"Giorno\"])\n",
    "\n",
    "holidays=[\"2021-01-01\",\"2021-01-06\",\"2021-04-05\",\"2021-05-01\",\"2021-06-02\",\"2021-08-15\",\"2021-11-01\",\"2021-12-08\",\"2021-12-25\",\"2021-12-26\"]\n",
    "\n",
    "gg_lav['N. gg lavorativi'] = np.busday_count(\n",
    "    gg_lav[\"Giorno\"].apply(lambda x: (pd.to_datetime(dt.date(x.year,x.month,1))) ).values.astype('datetime64[D]'),\n",
    "    (gg_lav['Giorno']+pd.Timedelta(days=1)).values.astype('datetime64[D]'),\n",
    "    weekmask=[1,1,1,1,1,0,0], holidays=holidays)\n",
    "\n",
    "gg_lav['N. gg lavorativi nel mese'] = np.busday_count(\n",
    "    gg_lav[\"Giorno\"].apply(lambda x: (pd.to_datetime(dt.date(x.year,x.month,1))) ).values.astype('datetime64[D]'),\n",
    "    (gg_lav['Giorno'].apply(lambda d: dt.date(d.year, d.month, calendar.monthrange(d.year, d.month)[-1]))).values.astype('datetime64[D]'),\n",
    "    weekmask=[1,1,1,1,1,0,0], holidays=holidays)\n",
    "\n",
    "#gg_lav.to_excel(r\"C:\\Users\\Raffaele.Sportiello\\OneDrive - Wolters Kluwer\\Documents\\Dashboard inflow\\Parametriche\\Giorni_lavorativi.xlsx\", index=False)\n"
   ]
  },
  {
   "cell_type": "code",
   "execution_count": 20,
   "id": "4116482a-0956-4b5d-86c0-cd9f1256deeb",
   "metadata": {},
   "outputs": [],
   "source": []
  },
  {
   "cell_type": "markdown",
   "id": "5f7d8c78-2aab-47b8-a3ea-eb40f4b85c55",
   "metadata": {},
   "source": [
    "---"
   ]
  },
  {
   "cell_type": "markdown",
   "id": "002f615f-df75-478f-bb4d-0b57992cef3b",
   "metadata": {},
   "source": [
    "## PO ordini"
   ]
  },
  {
   "cell_type": "code",
   "execution_count": 16,
   "id": "463c59fd-6b31-4633-a1ee-b38201ed65d9",
   "metadata": {},
   "outputs": [],
   "source": [
    "import pandas as pd\n",
    "import datetime as dt\n",
    "import numpy as np\n",
    "import zipfile\n",
    "import shutil\n",
    "\n",
    "\n",
    "ins_man = shutil.copy(r\"C:\\Users\\Raffaele.Sportiello\\OneDrive - Wolters Kluwer\\Documents\\Dashboard inflow\\Dashboard inflow canali e prodotti\\Source\\inflow_prodotti\\inflow_prodotti_ins_man.xlsx\", \n",
    "            r\"C:\\Users\\Raffaele.Sportiello\\OneDrive - Wolters Kluwer\\Documents\\Dashboard inflow\\Dashboard inflow canali e prodotti\\Source\\po_giornaliero\\\\\")\n",
    "\n",
    "zip_file =r\"C:\\Users\\Raffaele.Sportiello\\OneDrive - Wolters Kluwer\\Documents\\Dashboard inflow\\Dashboard inflow canali e prodotti\\Data export\\ZQ_PO_TAX_GIOR.zip\"\n",
    "directory_to_extract_to = r\"C:\\Users\\Raffaele.Sportiello\\OneDrive - Wolters Kluwer\\Documents\\Dashboard inflow\\Dashboard inflow canali e prodotti\\Data export\"\n",
    "try:\n",
    "    with zipfile.ZipFile(zip_file, 'r') as zip_ref:\n",
    "        zip_ref.extractall(directory_to_extract_to)\n",
    "except:\n",
    "    print(\"Invalid file\")\n",
    "\n",
    "\n",
    "\n",
    "bw_file = r\"C:\\Users\\Raffaele.Sportiello\\OneDrive - Wolters Kluwer\\Documents\\Dashboard inflow\\Dashboard inflow canali e prodotti\\Data export\\ZQ_PO_TAX_GIOR_00000.xls\"\n",
    "df = pd.DataFrame(pd.read_html(str(bw_file), encoding = 'utf-8', decimal=\",\", thousands='.')[3])\n",
    "po = pd.DataFrame(data=df.loc[1:,:])\n",
    "po.columns = df.loc[0,:].to_list()\n",
    "\n",
    "\n",
    "po.rename(columns={\"Data Ins. Ordine\":\"Data Ins. Ordine (monitoraggio)\",\"Imponibile Ordine\":\"Raccolto\"}, inplace=True)\n",
    "po[\"Budget  assegnato\"] = np.nan\n",
    "po[\"Data Ins. Ordine (monitoraggio)\"] = pd.to_datetime(po[\"Data Ins. Ordine (monitoraggio)\"], format=\"%d%m%Y\")\n",
    "po[[\"Raccolto\", \"Budget  assegnato\"]] = po.loc[:,[\"Raccolto\", \"Budget  assegnato\"]].astype(float)\n",
    "\n",
    "po.to_excel(r\"C:\\Users\\Raffaele.Sportiello\\OneDrive - Wolters Kluwer\\Documents\\Dashboard inflow\\Dashboard inflow canali e prodotti\\Source\\po_giornaliero\\inflow_prodotti_po_giornaliero.xlsx\", sheet_name='Foglio1', index=False)"
   ]
  },
  {
   "cell_type": "markdown",
   "id": "779c59c1-3b70-47a4-97d2-a7d7a8afaaf2",
   "metadata": {},
   "source": [
    "---"
   ]
  }
 ],
 "metadata": {
  "kernelspec": {
   "display_name": "Python 3 (ipykernel)",
   "language": "python",
   "name": "python3"
  },
  "language_info": {
   "codemirror_mode": {
    "name": "ipython",
    "version": 3
   },
   "file_extension": ".py",
   "mimetype": "text/x-python",
   "name": "python",
   "nbconvert_exporter": "python",
   "pygments_lexer": "ipython3",
   "version": "3.9.7"
  }
 },
 "nbformat": 4,
 "nbformat_minor": 5
}
