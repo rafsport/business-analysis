{
 "cells": [
  {
   "cell_type": "markdown",
   "id": "42c5db9d-e2a2-461b-aa64-621e6f7dafdd",
   "metadata": {},
   "source": [
    "# Dashboard inflow Canestrari"
   ]
  },
  {
   "cell_type": "code",
   "execution_count": 2,
   "id": "d51e9271-8259-41b3-8165-b293524ba48f",
   "metadata": {},
   "outputs": [],
   "source": [
    "import pandas as pd\n",
    "import datetime as dt\n",
    "import numpy as np\n",
    "import os"
   ]
  },
  {
   "cell_type": "code",
   "execution_count": null,
   "id": "52b5a734-379d-4e15-9a70-5c66632142e1",
   "metadata": {},
   "outputs": [],
   "source": [
    "inflow_can = r\"C:\\Users\\Raffaele.Sportiello\\OneDrive - Wolters Kluwer\\Documents\\Reports\\Dashboard inflow canali e prodotti\\Data export\\inflow_canestrari.xlsx\"\n",
    "### Variabili\n",
    "d_parser = lambda x: dt.datetime.strptime(x, '%m.%Y')\n",
    "columns = [\"Anno/Mese Inseriment | Anno Inserimento Ord\",\"Ordini AP\",\"Ordini AC\",\"Budget AP\",\n",
    "           \"Budget AC\",\"Sales Director\",\"TIPO PTR\",\"Forecast\",\"Sales Director infloW\",\"linea aggregata\"]\n",
    "\n",
    "\n",
    "### ETL \"Inflow Roberta Canestrari\"\n",
    "inflow = pd.read_excel(inflow_can, sheet_name=\"inflow\", engine=\"openpyxl\", header=3, parse_dates=[\"Anno/Mese Inseriment | Anno Inserimento Ord\"], date_parser=d_parser, usecols=columns)\n",
    "\n",
    "inflow.columns = [\"Anno/Mese\", \"Ordini AP\", \"Ordini AC\", \"Budget AP\", \"Budget AC\", \"Sales Director\", \"Rete\", \"Previsioni impegno\", \"Area territoriale\", \"Linea aggregata\"]\n",
    "inflow.fillna({\"Ordini AP\":0,\"Ordini AC\":0,\"Budget AC\":0,\"Budget AC\":0,\"Previsioni impegno\":0,\"Sales Director\":\"Missing\",\"Rete\": \"Misssing\",\"Area territoriale\": \"Misssing\",\"Linea aggregata\": \"Misssing\"}, inplace=True)\n",
    "inflow[\"Ordini\"] = inflow.loc[:,['Ordini AP','Ordini AC']].sum(axis=1, min_count=1)\n",
    "inflow[\"Budget\"]= inflow.loc[:,['Budget AP','Budget AC']].sum(axis=1, min_count=1)\n",
    "inflow = inflow.loc[:,[\"Anno/Mese\", \"Sales Director\", \"Rete\", \"Area territoriale\", \"Linea aggregata\", \"Ordini\", \"Budget\", \"Previsioni impegno\"]]\n",
    "inflow.replace({\"Area territoriale\":{\"Indirect Sales\":\"Indirect\", \"North-East_Ibisoft\":\"North-East Ibisoft\"}, \"Linea aggregata\":{\"services\":\"Services\", \"hw\":\"HW\"}}, inplace=True)\n",
    "inflow.to_excel(r\"C:\\Users\\Raffaele.Sportiello\\OneDrive - Wolters Kluwer\\Documents\\Reports\\Dashboard inflow canali e prodotti\\Source\\inflow.xlsx\", index=False)\n",
    "gg_lav = pd.DataFrame(data=pd.date_range(start='2021-01-01', end=(dt.date.today()-pd.Timedelta(days=1))), columns=[\"Giorno\"])\n",
    "holidays=[\"2021-01-01\",\"2021-01-06\",\"2021-04-05\",\"2021-05-01\",\"2021-06-02\",\"2021-08-15\",\"2021-11-01\",\"2021-12-08\",\"2021-12-25\",\"2021-12-26\"]\n",
    "\n",
    "gg_lav['N. gg lavorativi'] = np.busday_count(gg_lav[\"Giorno\"].apply(lambda x: (pd.to_datetime(dt.date(x.year,x.month,1))) ).values.astype('datetime64[D]'), \n",
    "                                             (gg_lav['Giorno']+pd.Timedelta(days=1)).values.astype('datetime64[D]'), \n",
    "                                             weekmask=[1,1,1,1,1,0,0], holidays=holidays)\n",
    "gg_lav['N. gg lavorativi nel mese'] = gg_lav.groupby(gg_lav[\"Giorno\"].dt.month)[\"N. gg lavorativi\"].transform(\"max\")"
   ]
  },
  {
   "cell_type": "code",
   "execution_count": 142,
   "id": "4b4ea583-3b2a-40d9-a204-47cbc8e3f2e2",
   "metadata": {},
   "outputs": [],
   "source": [
    "gg_lav.to_excel(r\"C:\\Users\\Raffaele.Sportiello\\OneDrive - Wolters Kluwer\\Documents\\Reports\\Parametriche\\gg_lav.xlsx\", index=False)"
   ]
  },
  {
   "cell_type": "markdown",
   "id": "2ce9fda5-3ab1-46d2-ac5c-b36163e90323",
   "metadata": {},
   "source": [
    "---"
   ]
  },
  {
   "cell_type": "markdown",
   "id": "487d219e-ae36-4464-9ba4-8913c20f9079",
   "metadata": {},
   "source": [
    "# Dashboard inflow"
   ]
  },
  {
   "cell_type": "markdown",
   "id": "c214a482-6173-428e-9af2-704eee77e39a",
   "metadata": {},
   "source": [
    "## Budest"
   ]
  },
  {
   "cell_type": "code",
   "execution_count": 1,
   "id": "5585e35d-2381-4e0f-9d00-1b2f1dc72e74",
   "metadata": {},
   "outputs": [],
   "source": [
    "import pandas as pd\n",
    "import datetime as dt\n",
    "import numpy as np\n",
    "import calendar\n",
    "import zipfile\n",
    "from directories import *"
   ]
  },
  {
   "cell_type": "code",
   "execution_count": 2,
   "id": "6a62bbb5",
   "metadata": {},
   "outputs": [],
   "source": [
    "zip_file =dashboard_inflow_canali_prodotti+r\"\\Data export\\ZQ_MC_BUDANAL_IMP_ALL.zip\"\n",
    "directory_to_extract_to = dashboard_inflow_canali_prodotti+r\"\\Data export\"\n",
    "try:\n",
    "    with zipfile.ZipFile(zip_file, 'r') as zip_ref:\n",
    "        zip_ref.extractall(directory_to_extract_to)\n",
    "except:\n",
    "    print(\"Invalid file\")"
   ]
  },
  {
   "cell_type": "code",
   "execution_count": 3,
   "id": "db4daa13",
   "metadata": {},
   "outputs": [],
   "source": [
    "bw_file = dashboard_inflow_canali_prodotti+r\"\\Data export\\ZQ_MC_BUDANAL_IMP_ALL_00000.xls\"\n",
    "df = pd.DataFrame(pd.read_html(str(bw_file), encoding = 'utf-8', decimal=\",\", thousands='.')[3])\n",
    "df2 = pd.DataFrame(data=df.loc[1:,:])\n",
    "df2.columns = df.loc[0,:].to_list()\n",
    "df2[\"Data Ins. Ordine (monitoraggio)\"] = pd.to_datetime(df2[\"Data Ins. Ordine (monitoraggio)\"], format=\"%d%m%Y\")\n",
    "df2[[\"Raccolto\", \"Budget assegnato\"]] = df2.loc[:,[\"Raccolto\", \"Budget assegnato\"]].astype(float)\n",
    "df2.loc[(df2[\"Budget assegnato\"].notna()) & (df2[\"Linea Prodotti\"] == \"Software\"), [\"Gruppo Prodotti Ricl\"]] = \"Software\"\n",
    "df2.loc[(df2[\"Budget assegnato\"].notna()) & (df2[\"Linea Prodotti\"] == \"Service on-line\"), [\"Gruppo Prodotti Ricl\"]] = \"Software\"\n",
    "df2.loc[(df2[\"Budget assegnato\"].notna()) & (df2[\"Linea Prodotti\"] == \"Services\"), [\"Gruppo Prodotti Ricl\"]] = \"Vendite Services\"\n",
    "df2.rename(columns={'Budget assegnato': 'Budget  assegnato'}, inplace=True)"
   ]
  },
  {
   "cell_type": "markdown",
   "id": "f757a50a",
   "metadata": {},
   "source": [
    "### Elenco ordini inseriti nel giorno"
   ]
  },
  {
   "cell_type": "code",
   "execution_count": null,
   "id": "a03e2db6",
   "metadata": {},
   "outputs": [],
   "source": [
    "df2_old = pd.read_excel(dashboard_inflow_prodotti+r\"\\inflow_prodotti_nuove_vendite_2023.xlsx\")\n",
    "inflow_giorno = df2.merge(df2_old, how=\"outer\", indicator=True)\n",
    "inflow_giorno = inflow_giorno.loc[inflow_giorno[\"_merge\"] == \"left_only\",:]\n",
    "inflow_giorno.loc[:,['Codice PRODOTTO','Gruppo Prodotti Ricl', \"Agente dell'ORDINE\",'Sales Director', 'Canale di VENDITA', 'Cliente Merce','Cliente FATTURA', 'Linea Prodotti', 'Numero Ordine', 'Origine Ordine','Numero Fattura', 'Data Ins. Ordine (monitoraggio)', 'Raccolto']].to_excel(dashboard_inflow_source+r\"\\Ordini inseriti nel giorno.xlsx\", index=False)"
   ]
  },
  {
   "cell_type": "code",
   "execution_count": null,
   "id": "573568da",
   "metadata": {},
   "outputs": [],
   "source": [
    "df2.to_excel(dashboard_inflow_canali_prodotti+r\"\\Source\\inflow_prodotti\\inflow_prodotti_nuove_vendite_2023.xlsx\", sheet_name='Foglio1', index=False)"
   ]
  },
  {
   "cell_type": "markdown",
   "id": "334faac1",
   "metadata": {},
   "source": [
    "### Elenco ordini SAP per confronto con BPM"
   ]
  },
  {
   "cell_type": "code",
   "execution_count": null,
   "id": "79037fd3",
   "metadata": {},
   "outputs": [],
   "source": [
    "df2.groupby([\"Numero Ordine\",\"Data Ins. Ordine (monitoraggio)\"], dropna=False).agg({\"Raccolto\":'sum'}).reset_index().to_excel(bpm_folder+r\"\\Ordini_SAP.xlsx\", sheet_name=\"Foglio1\", index=False)"
   ]
  },
  {
   "cell_type": "markdown",
   "id": "43994d88",
   "metadata": {},
   "source": [
    "### Inflow mese corrente per PO Giornaliero"
   ]
  },
  {
   "cell_type": "code",
   "execution_count": null,
   "id": "bec4243f",
   "metadata": {},
   "outputs": [],
   "source": [
    "df2_curr_month = df2.loc[df2[\"Data Ins. Ordine (monitoraggio)\"].dt.date >= dt.date(dt.datetime.now().year,dt.datetime.now().month,1),:]\n",
    "\n",
    "df2_curr_month.to_excel(dashboard_inflow_source+f\"/po_giornaliero/inflow_prodotti_nuove_vendite_2023_mese_corrente.xlsx\", sheet_name='Foglio1', index=False)"
   ]
  },
  {
   "cell_type": "markdown",
   "id": "8c1aaea2",
   "metadata": {},
   "source": [
    "### Calcolo dei giorni lavorativi per avanzamento"
   ]
  },
  {
   "cell_type": "code",
   "execution_count": 8,
   "id": "650cc85b",
   "metadata": {},
   "outputs": [],
   "source": [
    "gg_lav = pd.DataFrame(data=pd.date_range(start='2021-01-01', end=(dt.date.today()-pd.Timedelta(days=1))), columns=[\"Giorno\"])\n",
    "\n",
    "holidays=[\"2023-01-01\",\"2023-01-06\",\"2023-04-10\",\"2023-04-25\",\"2023-05-01\",\"2023-06-02\",\"2023-08-15\",\"2023-11-01\",\"2023-12-08\",\"2023-12-25\",\"2023-12-26\"]\n",
    "\n",
    "gg_lav['N. gg lavorativi'] = np.busday_count(\n",
    "    gg_lav[\"Giorno\"].apply(lambda x: (pd.to_datetime(dt.date(x.year,x.month,1))) ).values.astype('datetime64[D]'),\n",
    "    (gg_lav['Giorno']+pd.Timedelta(days=1)).values.astype('datetime64[D]'),\n",
    "    weekmask=[1,1,1,1,1,0,0], holidays=holidays)\n",
    "\n",
    "gg_lav['N. gg lavorativi nel mese'] = np.busday_count(\n",
    "    gg_lav[\"Giorno\"].apply(lambda x: (pd.to_datetime(dt.date(x.year,x.month,1))) ).values.astype('datetime64[D]'),\n",
    "    (gg_lav['Giorno'].apply(lambda d: dt.date(d.year, d.month, calendar.monthrange(d.year, d.month)[-1]))).values.astype('datetime64[D]'),\n",
    "    weekmask=[1,1,1,1,1,0,0], holidays=holidays)\n",
    "\n",
    "#gg_lav.to_excel(r\"C:\\Users\\Raffaele.Sportiello\\OneDrive - Wolters Kluwer\\Documents\\Dashboard inflow\\Parametriche\\Giorni_lavorativi.xlsx\", index=False)"
   ]
  },
  {
   "cell_type": "markdown",
   "id": "bbfe36e7",
   "metadata": {},
   "source": [
    "## Grafico avanzamento verso Forecast"
   ]
  },
  {
   "cell_type": "code",
   "execution_count": 24,
   "id": "03378330",
   "metadata": {},
   "outputs": [],
   "source": [
    "import sys\n",
    "from tkinter import messagebox"
   ]
  },
  {
   "cell_type": "markdown",
   "id": "1a305f3a",
   "metadata": {},
   "source": [
    "### Calcolo dell'obiettivo"
   ]
  },
  {
   "cell_type": "code",
   "execution_count": 90,
   "id": "2df1e190",
   "metadata": {},
   "outputs": [],
   "source": [
    "obiettivo = gg_lav.assign(Obiettivo = round(gg_lav[\"N. gg lavorativi\"]/gg_lav[\"N. gg lavorativi nel mese\"],2)).loc[:,\"Obiettivo\"].tail(1).values[0]\n",
    "\n",
    "inflow = pd.concat([df2, \n",
    "                    pd.read_excel(dashboard_inflow_prodotti+\"\\\\\"+dashboard_inflow_prodotti_files[0])], axis=0, ignore_index=True)\n",
    "forecast = pd.read_excel(dashboard_inflow_canali_prodotti+r\"\\Source\\forecast_sales_director\\forecast_sales_director_2023.xlsx\")\n",
    "\n",
    "par = {}\n",
    "for file in parametriche_files:\n",
    "    file_name=file.split(\".\")[0]\n",
    "    par[f\"{file_name}\"] = pd.read_excel(parametriche+\"\\\\\"+file)\n",
    "sales_director = pd.DataFrame(par[\"Sales_director\"]).loc[:,[\"Sales Director\", \"Area territoriale\", \"Rete\"]]\n",
    "\n",
    "li_prodotti = pd.DataFrame(par[\"Linea_prodotti\"])\n",
    "esc_fatture = pd.DataFrame(par[\"Esclusione_fatture\"])\n",
    "esc_ordini = pd.DataFrame(par[\"Esclusione_ordini\"])\n",
    "\n",
    "inflow.rename(columns={\"Data Ins. Ordine (monitoraggio)\":\"Giorno\"}, inplace=True)\n",
    "forecast.rename(columns={\"Sales director\":\"Sales Director\"}, inplace=True)"
   ]
  },
  {
   "cell_type": "markdown",
   "id": "778dc397",
   "metadata": {},
   "source": [
    "### Creazione del Dataframe in merge con il Forecast"
   ]
  },
  {
   "cell_type": "code",
   "execution_count": null,
   "id": "0fdded85",
   "metadata": {},
   "outputs": [],
   "source": [
    "# Vecchio\n",
    "df_merged = (inflow.loc[(inflow[\"Giorno\"].astype('datetime64[M]').dt.date == dt.date.today().replace(day=1)) &\n",
    "                    (~inflow[\"Numero Ordine\"].isin(esc_ordini[\"Numero Ordine\"])) & \n",
    "                    (~inflow[\"Numero Fattura\"].isin(esc_fatture[\"Numero Fattura\"])) & \n",
    "                    (inflow[\"Canale di VENDITA\"] != \"E-Commerce\"),\n",
    "                    [\"Giorno\", \"Canale di VENDITA\", \"Numero Fattura\", \"Numero Ordine\", \"Sales Director\", \"Raccolto\"]]\\\n",
    "            .merge(sales_director, how=\"left\", on=\"Sales Director\"))\n",
    "\n",
    "\n",
    "\n",
    "df_avanz = df_merged.groupby([df_merged[\"Giorno\"].astype('datetime64[M]'), \"Rete\", \"Area territoriale\"], dropna=False).agg({\"Raccolto\":\"sum\"}).reset_index()\\\n",
    "        .merge((forecast.merge(sales_director, how=\"left\", on=\"Sales Director\"))\\\n",
    "        .groupby([\"Giorno\", \"Rete\", \"Area territoriale\"], dropna=False).agg({\"Forecast\":\"sum\"}).reset_index())\n",
    "    \n",
    "df_avanz = pd.concat([df_avanz, df_avanz[[\"Raccolto\",\"Forecast\"]].agg(\"sum\").rename(\"Totale\").to_frame().T], axis=0)\\\n",
    "        .assign(Avanz = lambda x: np.where(x[\"Forecast\"] >0,x[\"Raccolto\"]/x[\"Forecast\"], 0))\n",
    "    \n",
    "df_avanz.loc[df_avanz.index == \"Totale\", [\"Giorno\", \"Rete\", \"Area territoriale\"]] = [pd.to_datetime(dt.date.today().replace(day=1)),\"Totale\",\"\"]"
   ]
  },
  {
   "cell_type": "code",
   "execution_count": 91,
   "id": "89c1ab21",
   "metadata": {},
   "outputs": [],
   "source": [
    "# Converti la colonna \"Giorno\" in tipo datetime\n",
    "inflow[\"Giorno\"] = pd.to_datetime(inflow[\"Giorno\"], format='%Y-%m-%d')\n",
    "\n",
    "# Ottieni il mese corrente come un oggetto Period\n",
    "current_month = pd.to_datetime(dt.date.today().replace(day=1)).to_period('M')"
   ]
  },
  {
   "cell_type": "code",
   "execution_count": 92,
   "id": "186a93dd",
   "metadata": {},
   "outputs": [],
   "source": [
    "df_merged = (inflow.loc[(inflow[\"Giorno\"].dt.to_period('M') == current_month) &\n",
    "                    (~inflow[\"Numero Ordine\"].isin(esc_ordini[\"Numero Ordine\"])) & \n",
    "                    (~inflow[\"Numero Fattura\"].isin(esc_fatture[\"Numero Fattura\"])) & \n",
    "                    (inflow[\"Canale di VENDITA\"] != \"E-Commerce\"),\n",
    "                    [\"Giorno\", \"Canale di VENDITA\", \"Numero Fattura\", \"Numero Ordine\", \"Sales Director\", \"Raccolto\"]]\\\n",
    "            .merge(sales_director, how=\"left\", on=\"Sales Director\"))"
   ]
  },
  {
   "cell_type": "code",
   "execution_count": 93,
   "id": "05224a3a",
   "metadata": {},
   "outputs": [],
   "source": [
    "try:\n",
    "    df_merged[\"Giorno\"] = pd.to_datetime(df_merged[\"Giorno\"], format='%Y-%m-%d').dt.to_period('M')\n",
    "    forecast[\"Giorno\"] = pd.to_datetime(forecast[\"Giorno\"], format='%Y-%m-%d').dt.to_period('M')\n",
    "    \n",
    "    df_avanz = df_merged.groupby([\"Giorno\", \"Rete\", \"Area territoriale\"], dropna=False).agg({\"Raccolto\":\"sum\"}).reset_index()\\\n",
    "        .merge((forecast.merge(sales_director, how=\"left\", on=\"Sales Director\"))\\\n",
    "        .groupby([\"Giorno\", \"Rete\", \"Area territoriale\"], dropna=False).agg({\"Forecast\":\"sum\"}).reset_index())\n",
    "    \n",
    "    df_avanz = pd.concat([df_avanz, df_avanz[[\"Raccolto\",\"Forecast\"]].agg(\"sum\").rename(\"Totale\").to_frame().T], axis=0)\\\n",
    "        .assign(Avanz = lambda x: np.where(x[\"Forecast\"] > 0, x[\"Raccolto\"]/x[\"Forecast\"], 0))\n",
    "    \n",
    "    df_avanz.loc[df_avanz.index == \"Totale\", [\"Giorno\", \"Rete\", \"Area territoriale\"]] = [pd.to_datetime(dt.date.today().replace(day=1)).to_period('M'), \"Totale\", \"\"]\n",
    "    \n",
    "except KeyError:\n",
    "    print(\"Manca il forecast\")\n",
    "    Error=messagebox.showinfo(\"Manca il forecast\")\n",
    "    sys.exit(1)"
   ]
  },
  {
   "cell_type": "code",
   "execution_count": 94,
   "id": "cbcd525b",
   "metadata": {},
   "outputs": [
    {
     "data": {
      "application/vnd.plotly.v1+json": {
       "config": {
        "plotlyServerURL": "https://plot.ly"
       },
       "data": [
        {
         "marker": {
          "color": "#003566",
          "line": {
           "color": "#219ebc",
           "width": 3
          }
         },
         "name": "Avanzamento",
         "orientation": "h",
         "textposition": "inside",
         "texttemplate": "%{x:.0%}",
         "type": "bar",
         "x": [
          0
         ],
         "y": [
          "Totale"
         ]
        },
        {
         "marker": {
          "color": "#003566"
         },
         "name": "Avanzamento",
         "orientation": "h",
         "textposition": "inside",
         "texttemplate": "%{x:.0%}",
         "type": "bar",
         "x": [
          0,
          0,
          0,
          0,
          0,
          0,
          0,
          0,
          0
         ],
         "y": [
          "Indiretta concessionari - Tax&Pay indiretta",
          "Indiretta concessionari - Enterprise indiretta",
          "Indiretta agenzie - Rete IPSOA",
          "Diretta - Nord-Ovest",
          "Diretta - Nord-Est",
          "Diretta - Large accounts",
          "Diretta - Inside sales",
          "Diretta - Enterprise",
          "Diretta - Centro-Sud"
         ]
        }
       ],
       "layout": {
        "height": 400,
        "margin": {
         "b": 100,
         "l": 200,
         "r": 50,
         "t": 100
        },
        "shapes": [
         {
          "line": {
           "color": "red",
           "dash": "dashdot",
           "width": 3
          },
          "type": "line",
          "x0": 0.1,
          "x1": 0.1,
          "y0": -0.5,
          "y1": 9.5
         }
        ],
        "showlegend": false,
        "template": {
         "data": {
          "bar": [
           {
            "error_x": {
             "color": "#2a3f5f"
            },
            "error_y": {
             "color": "#2a3f5f"
            },
            "marker": {
             "line": {
              "color": "white",
              "width": 0.5
             },
             "pattern": {
              "fillmode": "overlay",
              "size": 10,
              "solidity": 0.2
             }
            },
            "type": "bar"
           }
          ],
          "barpolar": [
           {
            "marker": {
             "line": {
              "color": "white",
              "width": 0.5
             },
             "pattern": {
              "fillmode": "overlay",
              "size": 10,
              "solidity": 0.2
             }
            },
            "type": "barpolar"
           }
          ],
          "carpet": [
           {
            "aaxis": {
             "endlinecolor": "#2a3f5f",
             "gridcolor": "#C8D4E3",
             "linecolor": "#C8D4E3",
             "minorgridcolor": "#C8D4E3",
             "startlinecolor": "#2a3f5f"
            },
            "baxis": {
             "endlinecolor": "#2a3f5f",
             "gridcolor": "#C8D4E3",
             "linecolor": "#C8D4E3",
             "minorgridcolor": "#C8D4E3",
             "startlinecolor": "#2a3f5f"
            },
            "type": "carpet"
           }
          ],
          "choropleth": [
           {
            "colorbar": {
             "outlinewidth": 0,
             "ticks": ""
            },
            "type": "choropleth"
           }
          ],
          "contour": [
           {
            "colorbar": {
             "outlinewidth": 0,
             "ticks": ""
            },
            "colorscale": [
             [
              0,
              "#0d0887"
             ],
             [
              0.1111111111111111,
              "#46039f"
             ],
             [
              0.2222222222222222,
              "#7201a8"
             ],
             [
              0.3333333333333333,
              "#9c179e"
             ],
             [
              0.4444444444444444,
              "#bd3786"
             ],
             [
              0.5555555555555556,
              "#d8576b"
             ],
             [
              0.6666666666666666,
              "#ed7953"
             ],
             [
              0.7777777777777778,
              "#fb9f3a"
             ],
             [
              0.8888888888888888,
              "#fdca26"
             ],
             [
              1,
              "#f0f921"
             ]
            ],
            "type": "contour"
           }
          ],
          "contourcarpet": [
           {
            "colorbar": {
             "outlinewidth": 0,
             "ticks": ""
            },
            "type": "contourcarpet"
           }
          ],
          "heatmap": [
           {
            "colorbar": {
             "outlinewidth": 0,
             "ticks": ""
            },
            "colorscale": [
             [
              0,
              "#0d0887"
             ],
             [
              0.1111111111111111,
              "#46039f"
             ],
             [
              0.2222222222222222,
              "#7201a8"
             ],
             [
              0.3333333333333333,
              "#9c179e"
             ],
             [
              0.4444444444444444,
              "#bd3786"
             ],
             [
              0.5555555555555556,
              "#d8576b"
             ],
             [
              0.6666666666666666,
              "#ed7953"
             ],
             [
              0.7777777777777778,
              "#fb9f3a"
             ],
             [
              0.8888888888888888,
              "#fdca26"
             ],
             [
              1,
              "#f0f921"
             ]
            ],
            "type": "heatmap"
           }
          ],
          "heatmapgl": [
           {
            "colorbar": {
             "outlinewidth": 0,
             "ticks": ""
            },
            "colorscale": [
             [
              0,
              "#0d0887"
             ],
             [
              0.1111111111111111,
              "#46039f"
             ],
             [
              0.2222222222222222,
              "#7201a8"
             ],
             [
              0.3333333333333333,
              "#9c179e"
             ],
             [
              0.4444444444444444,
              "#bd3786"
             ],
             [
              0.5555555555555556,
              "#d8576b"
             ],
             [
              0.6666666666666666,
              "#ed7953"
             ],
             [
              0.7777777777777778,
              "#fb9f3a"
             ],
             [
              0.8888888888888888,
              "#fdca26"
             ],
             [
              1,
              "#f0f921"
             ]
            ],
            "type": "heatmapgl"
           }
          ],
          "histogram": [
           {
            "marker": {
             "pattern": {
              "fillmode": "overlay",
              "size": 10,
              "solidity": 0.2
             }
            },
            "type": "histogram"
           }
          ],
          "histogram2d": [
           {
            "colorbar": {
             "outlinewidth": 0,
             "ticks": ""
            },
            "colorscale": [
             [
              0,
              "#0d0887"
             ],
             [
              0.1111111111111111,
              "#46039f"
             ],
             [
              0.2222222222222222,
              "#7201a8"
             ],
             [
              0.3333333333333333,
              "#9c179e"
             ],
             [
              0.4444444444444444,
              "#bd3786"
             ],
             [
              0.5555555555555556,
              "#d8576b"
             ],
             [
              0.6666666666666666,
              "#ed7953"
             ],
             [
              0.7777777777777778,
              "#fb9f3a"
             ],
             [
              0.8888888888888888,
              "#fdca26"
             ],
             [
              1,
              "#f0f921"
             ]
            ],
            "type": "histogram2d"
           }
          ],
          "histogram2dcontour": [
           {
            "colorbar": {
             "outlinewidth": 0,
             "ticks": ""
            },
            "colorscale": [
             [
              0,
              "#0d0887"
             ],
             [
              0.1111111111111111,
              "#46039f"
             ],
             [
              0.2222222222222222,
              "#7201a8"
             ],
             [
              0.3333333333333333,
              "#9c179e"
             ],
             [
              0.4444444444444444,
              "#bd3786"
             ],
             [
              0.5555555555555556,
              "#d8576b"
             ],
             [
              0.6666666666666666,
              "#ed7953"
             ],
             [
              0.7777777777777778,
              "#fb9f3a"
             ],
             [
              0.8888888888888888,
              "#fdca26"
             ],
             [
              1,
              "#f0f921"
             ]
            ],
            "type": "histogram2dcontour"
           }
          ],
          "mesh3d": [
           {
            "colorbar": {
             "outlinewidth": 0,
             "ticks": ""
            },
            "type": "mesh3d"
           }
          ],
          "parcoords": [
           {
            "line": {
             "colorbar": {
              "outlinewidth": 0,
              "ticks": ""
             }
            },
            "type": "parcoords"
           }
          ],
          "pie": [
           {
            "automargin": true,
            "type": "pie"
           }
          ],
          "scatter": [
           {
            "marker": {
             "colorbar": {
              "outlinewidth": 0,
              "ticks": ""
             }
            },
            "type": "scatter"
           }
          ],
          "scatter3d": [
           {
            "line": {
             "colorbar": {
              "outlinewidth": 0,
              "ticks": ""
             }
            },
            "marker": {
             "colorbar": {
              "outlinewidth": 0,
              "ticks": ""
             }
            },
            "type": "scatter3d"
           }
          ],
          "scattercarpet": [
           {
            "marker": {
             "colorbar": {
              "outlinewidth": 0,
              "ticks": ""
             }
            },
            "type": "scattercarpet"
           }
          ],
          "scattergeo": [
           {
            "marker": {
             "colorbar": {
              "outlinewidth": 0,
              "ticks": ""
             }
            },
            "type": "scattergeo"
           }
          ],
          "scattergl": [
           {
            "marker": {
             "colorbar": {
              "outlinewidth": 0,
              "ticks": ""
             }
            },
            "type": "scattergl"
           }
          ],
          "scattermapbox": [
           {
            "marker": {
             "colorbar": {
              "outlinewidth": 0,
              "ticks": ""
             }
            },
            "type": "scattermapbox"
           }
          ],
          "scatterpolar": [
           {
            "marker": {
             "colorbar": {
              "outlinewidth": 0,
              "ticks": ""
             }
            },
            "type": "scatterpolar"
           }
          ],
          "scatterpolargl": [
           {
            "marker": {
             "colorbar": {
              "outlinewidth": 0,
              "ticks": ""
             }
            },
            "type": "scatterpolargl"
           }
          ],
          "scatterternary": [
           {
            "marker": {
             "colorbar": {
              "outlinewidth": 0,
              "ticks": ""
             }
            },
            "type": "scatterternary"
           }
          ],
          "surface": [
           {
            "colorbar": {
             "outlinewidth": 0,
             "ticks": ""
            },
            "colorscale": [
             [
              0,
              "#0d0887"
             ],
             [
              0.1111111111111111,
              "#46039f"
             ],
             [
              0.2222222222222222,
              "#7201a8"
             ],
             [
              0.3333333333333333,
              "#9c179e"
             ],
             [
              0.4444444444444444,
              "#bd3786"
             ],
             [
              0.5555555555555556,
              "#d8576b"
             ],
             [
              0.6666666666666666,
              "#ed7953"
             ],
             [
              0.7777777777777778,
              "#fb9f3a"
             ],
             [
              0.8888888888888888,
              "#fdca26"
             ],
             [
              1,
              "#f0f921"
             ]
            ],
            "type": "surface"
           }
          ],
          "table": [
           {
            "cells": {
             "fill": {
              "color": "#EBF0F8"
             },
             "line": {
              "color": "white"
             }
            },
            "header": {
             "fill": {
              "color": "#C8D4E3"
             },
             "line": {
              "color": "white"
             }
            },
            "type": "table"
           }
          ]
         },
         "layout": {
          "annotationdefaults": {
           "arrowcolor": "#2a3f5f",
           "arrowhead": 0,
           "arrowwidth": 1
          },
          "autotypenumbers": "strict",
          "coloraxis": {
           "colorbar": {
            "outlinewidth": 0,
            "ticks": ""
           }
          },
          "colorscale": {
           "diverging": [
            [
             0,
             "#8e0152"
            ],
            [
             0.1,
             "#c51b7d"
            ],
            [
             0.2,
             "#de77ae"
            ],
            [
             0.3,
             "#f1b6da"
            ],
            [
             0.4,
             "#fde0ef"
            ],
            [
             0.5,
             "#f7f7f7"
            ],
            [
             0.6,
             "#e6f5d0"
            ],
            [
             0.7,
             "#b8e186"
            ],
            [
             0.8,
             "#7fbc41"
            ],
            [
             0.9,
             "#4d9221"
            ],
            [
             1,
             "#276419"
            ]
           ],
           "sequential": [
            [
             0,
             "#0d0887"
            ],
            [
             0.1111111111111111,
             "#46039f"
            ],
            [
             0.2222222222222222,
             "#7201a8"
            ],
            [
             0.3333333333333333,
             "#9c179e"
            ],
            [
             0.4444444444444444,
             "#bd3786"
            ],
            [
             0.5555555555555556,
             "#d8576b"
            ],
            [
             0.6666666666666666,
             "#ed7953"
            ],
            [
             0.7777777777777778,
             "#fb9f3a"
            ],
            [
             0.8888888888888888,
             "#fdca26"
            ],
            [
             1,
             "#f0f921"
            ]
           ],
           "sequentialminus": [
            [
             0,
             "#0d0887"
            ],
            [
             0.1111111111111111,
             "#46039f"
            ],
            [
             0.2222222222222222,
             "#7201a8"
            ],
            [
             0.3333333333333333,
             "#9c179e"
            ],
            [
             0.4444444444444444,
             "#bd3786"
            ],
            [
             0.5555555555555556,
             "#d8576b"
            ],
            [
             0.6666666666666666,
             "#ed7953"
            ],
            [
             0.7777777777777778,
             "#fb9f3a"
            ],
            [
             0.8888888888888888,
             "#fdca26"
            ],
            [
             1,
             "#f0f921"
            ]
           ]
          },
          "colorway": [
           "#636efa",
           "#EF553B",
           "#00cc96",
           "#ab63fa",
           "#FFA15A",
           "#19d3f3",
           "#FF6692",
           "#B6E880",
           "#FF97FF",
           "#FECB52"
          ],
          "font": {
           "color": "#2a3f5f"
          },
          "geo": {
           "bgcolor": "white",
           "lakecolor": "white",
           "landcolor": "white",
           "showlakes": true,
           "showland": true,
           "subunitcolor": "#C8D4E3"
          },
          "hoverlabel": {
           "align": "left"
          },
          "hovermode": "closest",
          "mapbox": {
           "style": "light"
          },
          "paper_bgcolor": "white",
          "plot_bgcolor": "white",
          "polar": {
           "angularaxis": {
            "gridcolor": "#EBF0F8",
            "linecolor": "#EBF0F8",
            "ticks": ""
           },
           "bgcolor": "white",
           "radialaxis": {
            "gridcolor": "#EBF0F8",
            "linecolor": "#EBF0F8",
            "ticks": ""
           }
          },
          "scene": {
           "xaxis": {
            "backgroundcolor": "white",
            "gridcolor": "#DFE8F3",
            "gridwidth": 2,
            "linecolor": "#EBF0F8",
            "showbackground": true,
            "ticks": "",
            "zerolinecolor": "#EBF0F8"
           },
           "yaxis": {
            "backgroundcolor": "white",
            "gridcolor": "#DFE8F3",
            "gridwidth": 2,
            "linecolor": "#EBF0F8",
            "showbackground": true,
            "ticks": "",
            "zerolinecolor": "#EBF0F8"
           },
           "zaxis": {
            "backgroundcolor": "white",
            "gridcolor": "#DFE8F3",
            "gridwidth": 2,
            "linecolor": "#EBF0F8",
            "showbackground": true,
            "ticks": "",
            "zerolinecolor": "#EBF0F8"
           }
          },
          "shapedefaults": {
           "line": {
            "color": "#2a3f5f"
           }
          },
          "ternary": {
           "aaxis": {
            "gridcolor": "#DFE8F3",
            "linecolor": "#A2B1C6",
            "ticks": ""
           },
           "baxis": {
            "gridcolor": "#DFE8F3",
            "linecolor": "#A2B1C6",
            "ticks": ""
           },
           "bgcolor": "white",
           "caxis": {
            "gridcolor": "#DFE8F3",
            "linecolor": "#A2B1C6",
            "ticks": ""
           }
          },
          "title": {
           "x": 0.05
          },
          "xaxis": {
           "automargin": true,
           "gridcolor": "#EBF0F8",
           "linecolor": "#EBF0F8",
           "ticks": "",
           "title": {
            "standoff": 15
           },
           "zerolinecolor": "#EBF0F8",
           "zerolinewidth": 2
          },
          "yaxis": {
           "automargin": true,
           "gridcolor": "#EBF0F8",
           "linecolor": "#EBF0F8",
           "ticks": "",
           "title": {
            "standoff": 15
           },
           "zerolinecolor": "#EBF0F8",
           "zerolinewidth": 2
          }
         }
        },
        "title": {
         "font": {
          "size": 24
         },
         "text": "Avanzamento inflow vs. forecast"
        },
        "xaxis": {
         "range": [
          0,
          1
         ],
         "tickformat": ",.0%"
        },
        "yaxis": {
         "automargin": true,
         "title": {
          "text": "Rete - Area territoriale"
         }
        }
       }
      }
     },
     "metadata": {},
     "output_type": "display_data"
    }
   ],
   "source": [
    "import plotly.graph_objects as go\n",
    "import plotly.offline as pyo\n",
    "\n",
    "df = df_avanz.sort_values(by=[\"Rete\", \"Area territoriale\"], ascending=False).copy()\n",
    "\n",
    "\n",
    "# Creazione del grafico\n",
    "fig = go.Figure()\n",
    "\n",
    "\n",
    "fig.add_trace(go.Bar(\n",
    "    y=df.loc[df[\"Rete\"] ==\"Totale\",\"Rete\"] ,\n",
    "    x=df.loc[df[\"Rete\"] ==\"Totale\", \"Avanz\"],\n",
    "    orientation='h',\n",
    "    marker=dict(color='#003566'),\n",
    "    marker_line=dict(width=3, color='#219ebc'),\n",
    "    name='Avanzamento',\n",
    "    texttemplate='%{x:.0%}',\n",
    "    textposition='inside'\n",
    "))\n",
    "\n",
    "# Aggiunta della barra orizzontale\n",
    "fig.add_trace(go.Bar(\n",
    "    y=df.loc[df[\"Rete\"] !=\"Totale\",\"Rete\"] + \" - \" + df.loc[df[\"Rete\"] !=\"Totale\", \"Area territoriale\"],\n",
    "    x=df.loc[df[\"Rete\"] !=\"Totale\", \"Avanz\"],\n",
    "    orientation='h',\n",
    "    marker=dict(color='#003566'),\n",
    "    name='Avanzamento',\n",
    "    texttemplate='%{x:.0%}',\n",
    "    textposition='inside'\n",
    "))\n",
    "\n",
    "\n",
    "\n",
    "# Aggiunta della linea verticale dell'obiettivo\n",
    "fig.add_shape(\n",
    "    type=\"line\",\n",
    "    x0=obiettivo,\n",
    "    y0=-0.5,\n",
    "    x1=obiettivo,\n",
    "    y1=len(df)-0.5,\n",
    "    line=dict(\n",
    "        color=\"red\",\n",
    "        width=3,\n",
    "        dash=\"dashdot\"\n",
    "    )\n",
    ")\n",
    "\n",
    "# Impostazioni layout\n",
    "fig.update_layout(\n",
    "    title= dict(text=\"Avanzamento inflow vs. forecast\", font_size=24),\n",
    "    #xaxis_title_text=\"Avanzamento\",\n",
    "    yaxis_title_text=\"Rete - Area territoriale\",\n",
    "    yaxis=dict(automargin=True),\n",
    "    xaxis=dict(tickformat=',.0%'),\n",
    "    xaxis_range=[0,1],\n",
    "    #category_orders={'Rete': category_order},\n",
    "    height=400,\n",
    "    margin=dict(l=200, r=50, t=100, b=100),\n",
    "    template='plotly_white',\n",
    "    showlegend=False\n",
    ")\n",
    "fig.show()"
   ]
  },
  {
   "cell_type": "code",
   "execution_count": null,
   "id": "5354fd7e",
   "metadata": {},
   "outputs": [],
   "source": [
    "# Mostra il grafico\n",
    "fig.write_image(dashboard_inflow_canali_prodotti+r'\\Avanzamento_inflow_vs_forecast.png',width=1000, height=500 )\n",
    "pyo.plot(fig, filename=dashboard_inflow_canali_prodotti+f'/Avanzamento_inflow_vs_forecast.html')"
   ]
  },
  {
   "attachments": {},
   "cell_type": "markdown",
   "id": "5a40b407",
   "metadata": {},
   "source": [
    "## Refresh dashboard"
   ]
  },
  {
   "cell_type": "code",
   "execution_count": 1,
   "id": "1a8d3b9f",
   "metadata": {},
   "outputs": [],
   "source": [
    "import win32com.client\n",
    "from PIL import ImageGrab\n",
    "import time\n",
    "from directories import *\n",
    "import datetime as dt"
   ]
  },
  {
   "cell_type": "code",
   "execution_count": null,
   "id": "d1d40653",
   "metadata": {},
   "outputs": [],
   "source": [
    "File = win32com.client.Dispatch(\"Excel.Application\")\n",
    "Workbook = File.Workbooks.Open(dashboard_inflow_canali_prodotti+r\"\\Dashboard inflow - Raffaele.xlsb\")\n",
    "File.Visible = True\n",
    "Workbook.RefreshAll()\n",
    "File.CalculateUntilAsyncQueriesDone()\n",
    "Workbook.Save()"
   ]
  },
  {
   "cell_type": "code",
   "execution_count": null,
   "id": "31704346",
   "metadata": {},
   "outputs": [],
   "source": [
    "Worksheet = Workbook.Worksheets(\"Email\")\n",
    "\n",
    "Copyrange= Worksheet.Range('B6:k109')\n",
    "Copyrange.CopyPicture(Appearance=1, Format=2)\n",
    "\n",
    "ImageGrab.grabclipboard().save(dashboard_inflow_canali_prodotti+r\"\\Dashboard inflow.png\")\n",
    "\n",
    "Workbook.Close()\n",
    "\n",
    "\n",
    "time.sleep(5)"
   ]
  },
  {
   "cell_type": "code",
   "execution_count": null,
   "id": "dd5fae60",
   "metadata": {},
   "outputs": [],
   "source": [
    "Workbook = File.Workbooks.Open(dashboard_inflow_canali_prodotti+r\"\\Condivisi\\Dashboard inflow.xlsb\")\n",
    "File.Visible = True\n",
    "Workbook.RefreshAll()\n",
    "File.CalculateUntilAsyncQueriesDone()\n",
    "Workbook.Save()\n",
    "Workbook.Close(SaveChanges=False)\n",
    "\n",
    "\n",
    "time.sleep(5)"
   ]
  },
  {
   "cell_type": "code",
   "execution_count": null,
   "id": "34b81a0c",
   "metadata": {},
   "outputs": [],
   "source": [
    "workbook_path = dashboard_inflow_canali_prodotti+r\"\\Condivisi\\Dashboard inflow - Confronto SFDC vs. SAP.xlsb\"\n",
    "\n",
    "\n",
    "Workbook = File.Workbooks.Open(workbook_path)\n",
    "File.Visible = True\n",
    "Workbook.RefreshAll()\n",
    "File.CalculateUntilAsyncQueriesDone()\n",
    "Workbook.Save()"
   ]
  },
  {
   "cell_type": "code",
   "execution_count": null,
   "id": "b08d80d8",
   "metadata": {},
   "outputs": [],
   "source": [
    "#Email SF vs. SAP\n",
    "Sheet = Workbook.Sheets.Item(\"Sintesi\")\n",
    "Copyrange = Sheet.Range('L7:T14')\n",
    "Copyrange.CopyPicture(Appearance=1, Format=2)\n",
    "\n",
    "image_path = ImageGrab.grabclipboard().save(dashboard_inflow_canali_prodotti+r\"\\Condivisi\\Dashboard inflow - Confronto SFDC vs. SAP.png\")\n",
    "\n",
    "Workbook.Close(SaveChanges=False)\n",
    "\n",
    "File.Quit()"
   ]
  },
  {
   "cell_type": "code",
   "execution_count": 71,
   "id": "08772db6",
   "metadata": {},
   "outputs": [],
   "source": [
    "image_path = dashboard_inflow_canali_prodotti+r\"\\Condivisi\\Dashboard inflow - Confronto SFDC vs. SAP.png\"\n",
    "\n",
    "\n",
    "html_body = \"\"\"\n",
    "    <div>\n",
    "          <p>Buongiorno Marco,<br><br>\n",
    "            qui il confronto SF vs. SAP:<br><br>\n",
    "            <div>\n",
    "                <img src={}></img>\n",
    "            </div><br><br>\n",
    "            Un saluto,<br>Raffaele<br><br></p>\n",
    "    </div>\n",
    "\"\"\"\n",
    "\n",
    "outlook = win32com.client.Dispatch('Outlook.Application')\n",
    "message = outlook.CreateItem(0)\n",
    "message.To = \"marco.bitossi@wolterskluwer.com\"\n",
    "message.CC = \"loredana.montagna@wolterskluwer.com\"\n",
    "message.Subject = 'Salesforce vs SAP'\n",
    "message.HTMLBody = html_body.format(image_path)\n",
    "\n",
    "message.Display()"
   ]
  },
  {
   "cell_type": "code",
   "execution_count": 14,
   "id": "3c6d3c79",
   "metadata": {},
   "outputs": [],
   "source": [
    "html_body = \"\"\"\n",
    "\n",
    "    <div>\n",
    "        <p>\n",
    "        Buongiorno,<br><br>\n",
    "        in allegato la dashboard aggiornata.<br><br>\n",
    "        Raffaele\n",
    "        </p>\n",
    "\n",
    "\n",
    "        <div><hr size=\"1\" width=\"100%\" align=\"center\"></div>\n",
    "        <div><hr size=\"1\" width=\"100%\" align=\"center\"></div>\n",
    "        <div><img width=\"280\" height=\"45\" src=https://cdn.wolterskluwer.io/wk/fundamentals/1.15.2/logo/assets/medium.svg></img></div>\n",
    "        \n",
    "        <br>\n",
    "        <div><p>Aggiornamento al {}</p></div>\n",
    "\n",
    "        <div>\n",
    "        <span lang=\"IT\">\n",
    "            <a href=\"https://nam04.safelinks.protection.outlook.com/ap/x-59584e83/?url=https%3A%2F%2Fwolterskluwer-my.sharepoint.com%2F%3Ax%3A%2Fp%2Fraffaele_sportiello%2FEaIMGC62qmZFruYFdZFtpqUBF4RZNhrybnsO_-vTklLzTA%3Fe%3DiPyaXe&amp;data=05%7C01%7CRaffaele.Sportiello%40wolterskluwer.com%7C7656ec3191b7425e5ddf08db1e13f477%7C8ac76c91e7f141ffa89c3553b2da2c17%7C0%7C0%7C638136843317728776%7CUnknown%7CTWFpbGZsb3d8eyJWIjoiMC4wLjAwMDAiLCJQIjoiV2luMzIiLCJBTiI6Ik1haWwiLCJXVCI6Mn0%3D%7C3000%7C%7C%7C&amp;sdata=HzXyl5BWjxnXomNvjcL5qEAszwqkK%2Bo1Wp%2BHnJ3zTQY%3D&amp;reserved=0\" originalsrc=\"https://wolterskluwer-my.sharepoint.com/:x:/p/raffaele_sportiello/EaIMGC62qmZFruYFdZFtpqUBF4RZNhrybnsO_-vTklLzTA?e=iPyaXe\" shash=\"zaNwpHtkDDyF+cayCzaAtsK8lAqNhyt2033mQ5Y9QuS6seLu4pYbnL4SJk2JdGJ8amY+ftr1dBEzuE0R9teOdxfsbcp8U055kRtDzMbfFgQpitxl6qzXv2mHgKvRNPnKmox3RXw4xsIwrJVtvlnAlNGlZ51k4/Pzau8clAs8GFU=\">\n",
    "            <span lang=\"IT\">Clicca qui per visualizzare la dashboard completa</span>\n",
    "            </a>\n",
    "        </span>\n",
    "\n",
    "        <p style=\"  background:#007AC3;font-size:18.0pt;color:white;letter-spacing:.75pt;font-weight:bold;\">\n",
    "            <span lang=\"IT\">Inflow</span>\n",
    "            <span lang=\"IT\">mese </span>\n",
    "        </p>\n",
    "    \n",
    "        <div>\n",
    "        Dashboard\n",
    "        </div>\n",
    "        <div>\n",
    "            \n",
    "        </div>\n",
    "\n",
    "    \n",
    "    </div>\n",
    "\"\"\"\n",
    "\n",
    "outlook = win32com.client.Dispatch('Outlook.Application')\n",
    "message = outlook.CreateItem(0)\n",
    "message.To = \"raffaele.sportiello@wolterskluwer.com\"\n",
    "message.Subject = 'Dashboard inflow'\n",
    "message.HTMLBody = html_body.format((dt.date.today()-dt.timedelta(days=1)).strftime('%d/%m/%Y'))\n",
    "\n",
    "message.Display()"
   ]
  },
  {
   "cell_type": "markdown",
   "id": "5f7d8c78-2aab-47b8-a3ea-eb40f4b85c55",
   "metadata": {},
   "source": [
    "---"
   ]
  },
  {
   "cell_type": "markdown",
   "id": "002f615f-df75-478f-bb4d-0b57992cef3b",
   "metadata": {},
   "source": [
    "## PO ordini"
   ]
  },
  {
   "cell_type": "code",
   "execution_count": 16,
   "id": "463c59fd-6b31-4633-a1ee-b38201ed65d9",
   "metadata": {},
   "outputs": [],
   "source": [
    "import pandas as pd\n",
    "import datetime as dt\n",
    "import numpy as np\n",
    "import zipfile\n",
    "import shutil\n",
    "\n",
    "\n",
    "ins_man = shutil.copy(r\"C:\\Users\\Raffaele.Sportiello\\OneDrive - Wolters Kluwer\\Documents\\Dashboard inflow\\Dashboard inflow canali e prodotti\\Source\\inflow_prodotti\\inflow_prodotti_ins_man.xlsx\", \n",
    "            r\"C:\\Users\\Raffaele.Sportiello\\OneDrive - Wolters Kluwer\\Documents\\Dashboard inflow\\Dashboard inflow canali e prodotti\\Source\\po_giornaliero\\\\\")\n",
    "\n",
    "zip_file =r\"C:\\Users\\Raffaele.Sportiello\\OneDrive - Wolters Kluwer\\Documents\\Dashboard inflow\\Dashboard inflow canali e prodotti\\Data export\\ZQ_PO_TAX_GIOR.zip\"\n",
    "directory_to_extract_to = r\"C:\\Users\\Raffaele.Sportiello\\OneDrive - Wolters Kluwer\\Documents\\Dashboard inflow\\Dashboard inflow canali e prodotti\\Data export\"\n",
    "try:\n",
    "    with zipfile.ZipFile(zip_file, 'r') as zip_ref:\n",
    "        zip_ref.extractall(directory_to_extract_to)\n",
    "except:\n",
    "    print(\"Invalid file\")\n",
    "\n",
    "\n",
    "\n",
    "bw_file = r\"C:\\Users\\Raffaele.Sportiello\\OneDrive - Wolters Kluwer\\Documents\\Dashboard inflow\\Dashboard inflow canali e prodotti\\Data export\\ZQ_PO_TAX_GIOR_00000.xls\"\n",
    "df = pd.DataFrame(pd.read_html(str(bw_file), encoding = 'utf-8', decimal=\",\", thousands='.')[3])\n",
    "po = pd.DataFrame(data=df.loc[1:,:])\n",
    "po.columns = df.loc[0,:].to_list()\n",
    "\n",
    "\n",
    "po.rename(columns={\"Data Ins. Ordine\":\"Data Ins. Ordine (monitoraggio)\",\"Imponibile Ordine\":\"Raccolto\"}, inplace=True)\n",
    "po[\"Budget  assegnato\"] = np.nan\n",
    "po[\"Data Ins. Ordine (monitoraggio)\"] = pd.to_datetime(po[\"Data Ins. Ordine (monitoraggio)\"], format=\"%d%m%Y\")\n",
    "po[[\"Raccolto\", \"Budget  assegnato\"]] = po.loc[:,[\"Raccolto\", \"Budget  assegnato\"]].astype(float)\n",
    "\n",
    "po.to_excel(r\"C:\\Users\\Raffaele.Sportiello\\OneDrive - Wolters Kluwer\\Documents\\Dashboard inflow\\Dashboard inflow canali e prodotti\\Source\\po_giornaliero\\inflow_prodotti_po_giornaliero.xlsx\", sheet_name='Foglio1', index=False)"
   ]
  },
  {
   "cell_type": "markdown",
   "id": "779c59c1-3b70-47a4-97d2-a7d7a8afaaf2",
   "metadata": {},
   "source": [
    "---"
   ]
  },
  {
   "cell_type": "markdown",
   "id": "abf24da2-08ee-4ce4-8719-09df36e17a3e",
   "metadata": {},
   "source": [
    "## Classificazioni codice prodotto"
   ]
  },
  {
   "cell_type": "code",
   "execution_count": 1,
   "id": "3b537c79-f726-463e-a99f-6b09f6272bb6",
   "metadata": {},
   "outputs": [],
   "source": [
    "import pandas as pd\n",
    "import numpy as np\n",
    "import os"
   ]
  },
  {
   "cell_type": "code",
   "execution_count": 3,
   "id": "2def4233-3865-4351-9d8a-b761530f3930",
   "metadata": {},
   "outputs": [],
   "source": [
    "original = pd.read_excel(r\"C:\\Users\\Raffaele.Sportiello\\OneDrive - Wolters Kluwer\\Documents\\Dashboard inflow\\Parametriche\\Classificazione_codice_prodotto.xlsx\")"
   ]
  },
  {
   "cell_type": "code",
   "execution_count": 5,
   "id": "3d4dfd7d-3a27-4830-a48a-62b7488ad77d",
   "metadata": {},
   "outputs": [],
   "source": [
    "new = pd.read_excel(r\"C:\\Users\\Raffaele.Sportiello\\OneDrive - Wolters Kluwer\\Documents\\Dashboard inflow\\Parametriche\\Copia di modifica classificazione codici_02082022.xlsx\")"
   ]
  },
  {
   "cell_type": "code",
   "execution_count": 21,
   "id": "f52cda00-e4a2-450f-9f80-01ddce1b817b",
   "metadata": {},
   "outputs": [],
   "source": [
    "conc = pd.concat([original,new], axis=0)\n",
    "conc[\"Codice PRODOTTO\"] = conc[\"Codice PRODOTTO\"].astype(str)"
   ]
  },
  {
   "cell_type": "code",
   "execution_count": 28,
   "id": "8ab3b61b-5de4-40e7-94db-cf5f0c33c4f2",
   "metadata": {},
   "outputs": [],
   "source": [
    "conc.drop_duplicates(subset=[\"Codice PRODOTTO\"], keep=\"last\", inplace=True)"
   ]
  },
  {
   "cell_type": "code",
   "execution_count": 32,
   "id": "30c4f8d0-6572-439a-b225-097fe4d3bafc",
   "metadata": {},
   "outputs": [],
   "source": [
    "conc.to_excel(r\"C:\\Users\\Raffaele.Sportiello\\OneDrive - Wolters Kluwer\\Documents\\Dashboard inflow\\Parametriche\\Classificazione_codice_prodotto - New.xlsx\", index=False)"
   ]
  },
  {
   "cell_type": "code",
   "execution_count": null,
   "id": "d67e9892",
   "metadata": {},
   "outputs": [],
   "source": []
  },
  {
   "attachments": {},
   "cell_type": "markdown",
   "id": "b20a0b81",
   "metadata": {},
   "source": [
    "## Lista prodotti"
   ]
  },
  {
   "cell_type": "code",
   "execution_count": 60,
   "id": "5c0eae69",
   "metadata": {},
   "outputs": [],
   "source": [
    "import pandas as pd\n",
    "import datetime as dt\n",
    "import numpy as np\n",
    "import zipfile\n",
    "from directories import *\n",
    "import os\n",
    "import sys\n",
    "from tkinter import messagebox"
   ]
  },
  {
   "cell_type": "code",
   "execution_count": 2,
   "id": "6c6539f0",
   "metadata": {},
   "outputs": [],
   "source": [
    "\n",
    "zip_file = dashboard_inflow+r\"\\Lista prodotti\\ZQ_MC_BUDANAL_IMP_ALL.zip\"\n",
    "directory_to_extract_to = dashboard_inflow + r\"\\Lista prodotti\"\n",
    "try:\n",
    "    with zipfile.ZipFile(zip_file, 'r') as zip_ref:\n",
    "        zip_ref.extractall(directory_to_extract_to)\n",
    "except:\n",
    "    print(\"Invalid file\")\n"
   ]
  },
  {
   "cell_type": "code",
   "execution_count": 61,
   "id": "20896728",
   "metadata": {},
   "outputs": [],
   "source": [
    "cod_prod = pd.read_excel(parametriche+r\"\\Classificazione_codice_prodotto.xlsx\")"
   ]
  },
  {
   "cell_type": "code",
   "execution_count": 62,
   "id": "ae8eb5d5",
   "metadata": {},
   "outputs": [],
   "source": [
    "cod_prod_inflow = pd.read_excel(dashboard_inflow_prodotti+r\"\\inflow_prodotti_nuove_vendite_2023.xlsx\", usecols=[\"Codice PRODOTTO\"])"
   ]
  },
  {
   "cell_type": "code",
   "execution_count": 63,
   "id": "001a14b6",
   "metadata": {},
   "outputs": [],
   "source": [
    "nuovi = cod_prod_inflow.loc[~cod_prod_inflow[\"Codice PRODOTTO\"].isin(cod_prod[\"Codice PRODOTTO\"]),:].drop_duplicates()"
   ]
  },
  {
   "cell_type": "code",
   "execution_count": 64,
   "id": "b4b16fbe",
   "metadata": {},
   "outputs": [
    {
     "data": {
      "text/html": [
       "<div>\n",
       "<style scoped>\n",
       "    .dataframe tbody tr th:only-of-type {\n",
       "        vertical-align: middle;\n",
       "    }\n",
       "\n",
       "    .dataframe tbody tr th {\n",
       "        vertical-align: top;\n",
       "    }\n",
       "\n",
       "    .dataframe thead th {\n",
       "        text-align: right;\n",
       "    }\n",
       "</style>\n",
       "<table border=\"1\" class=\"dataframe\">\n",
       "  <thead>\n",
       "    <tr style=\"text-align: right;\">\n",
       "      <th></th>\n",
       "      <th>Codice PRODOTTO</th>\n",
       "    </tr>\n",
       "  </thead>\n",
       "  <tbody>\n",
       "  </tbody>\n",
       "</table>\n",
       "</div>"
      ],
      "text/plain": [
       "Empty DataFrame\n",
       "Columns: [Codice PRODOTTO]\n",
       "Index: []"
      ]
     },
     "execution_count": 64,
     "metadata": {},
     "output_type": "execute_result"
    }
   ],
   "source": [
    "nuovi"
   ]
  },
  {
   "cell_type": "code",
   "execution_count": 65,
   "id": "05d7a36d",
   "metadata": {},
   "outputs": [
    {
     "ename": "AssertionError",
     "evalue": "",
     "output_type": "error",
     "traceback": [
      "\u001b[1;31m---------------------------------------------------------------------------\u001b[0m",
      "\u001b[1;31mRuntimeError\u001b[0m                              Traceback (most recent call last)",
      "\u001b[1;32mc:\\Users\\Raffaele.Sportiello\\Scripts\\Jupyter script\\Dashboard inflow e canali.ipynb Cella 59\u001b[0m in \u001b[0;36m<cell line: 1>\u001b[1;34m()\u001b[0m\n\u001b[0;32m      <a href='vscode-notebook-cell:/c%3A/Users/Raffaele.Sportiello/Scripts/Jupyter%20script/Dashboard%20inflow%20e%20canali.ipynb#Y124sZmlsZQ%3D%3D?line=1'>2</a>\u001b[0m     \u001b[39mif\u001b[39;00m nuovi\u001b[39m.\u001b[39mempty \u001b[39m==\u001b[39m \u001b[39mTrue\u001b[39;00m:\n\u001b[1;32m----> <a href='vscode-notebook-cell:/c%3A/Users/Raffaele.Sportiello/Scripts/Jupyter%20script/Dashboard%20inflow%20e%20canali.ipynb#Y124sZmlsZQ%3D%3D?line=2'>3</a>\u001b[0m         \u001b[39mraise\u001b[39;00m \u001b[39mRuntimeError\u001b[39;00m(\u001b[39m\"\u001b[39m\u001b[39mIl dataframe è vuoto\u001b[39m\u001b[39m\"\u001b[39m)\n\u001b[0;32m      <a href='vscode-notebook-cell:/c%3A/Users/Raffaele.Sportiello/Scripts/Jupyter%20script/Dashboard%20inflow%20e%20canali.ipynb#Y124sZmlsZQ%3D%3D?line=3'>4</a>\u001b[0m \u001b[39mexcept\u001b[39;00m:\n",
      "\u001b[1;31mRuntimeError\u001b[0m: Il dataframe è vuoto",
      "\nDuring handling of the above exception, another exception occurred:\n",
      "\u001b[1;31mSystemExit\u001b[0m                                Traceback (most recent call last)",
      "    \u001b[1;31m[... skipping hidden 1 frame]\u001b[0m\n",
      "\u001b[1;32mc:\\Users\\Raffaele.Sportiello\\Scripts\\Jupyter script\\Dashboard inflow e canali.ipynb Cella 59\u001b[0m in \u001b[0;36m<cell line: 1>\u001b[1;34m()\u001b[0m\n\u001b[0;32m      <a href='vscode-notebook-cell:/c%3A/Users/Raffaele.Sportiello/Scripts/Jupyter%20script/Dashboard%20inflow%20e%20canali.ipynb#Y124sZmlsZQ%3D%3D?line=4'>5</a>\u001b[0m Error\u001b[39m=\u001b[39mmessagebox\u001b[39m.\u001b[39mshowinfo(\u001b[39m\"\u001b[39m\u001b[39mManca il forecast\u001b[39m\u001b[39m\"\u001b[39m)\n\u001b[1;32m----> <a href='vscode-notebook-cell:/c%3A/Users/Raffaele.Sportiello/Scripts/Jupyter%20script/Dashboard%20inflow%20e%20canali.ipynb#Y124sZmlsZQ%3D%3D?line=5'>6</a>\u001b[0m sys\u001b[39m.\u001b[39;49mexit(\u001b[39m1\u001b[39;49m)\n",
      "\u001b[1;31mSystemExit\u001b[0m: 1",
      "\nDuring handling of the above exception, another exception occurred:\n",
      "\u001b[1;31mAssertionError\u001b[0m                            Traceback (most recent call last)",
      "    \u001b[1;31m[... skipping hidden 1 frame]\u001b[0m\n",
      "File \u001b[1;32mc:\\Users\\Raffaele.Sportiello\\Anaconda3\\lib\\site-packages\\IPython\\core\\interactiveshell.py:1972\u001b[0m, in \u001b[0;36mInteractiveShell.showtraceback\u001b[1;34m(self, exc_tuple, filename, tb_offset, exception_only, running_compiled_code)\u001b[0m\n\u001b[0;32m   1969\u001b[0m \u001b[39mif\u001b[39;00m exception_only:\n\u001b[0;32m   1970\u001b[0m     stb \u001b[39m=\u001b[39m [\u001b[39m'\u001b[39m\u001b[39mAn exception has occurred, use \u001b[39m\u001b[39m%\u001b[39m\u001b[39mtb to see \u001b[39m\u001b[39m'\u001b[39m\n\u001b[0;32m   1971\u001b[0m            \u001b[39m'\u001b[39m\u001b[39mthe full traceback.\u001b[39m\u001b[39m\\n\u001b[39;00m\u001b[39m'\u001b[39m]\n\u001b[1;32m-> 1972\u001b[0m     stb\u001b[39m.\u001b[39mextend(\u001b[39mself\u001b[39;49m\u001b[39m.\u001b[39;49mInteractiveTB\u001b[39m.\u001b[39;49mget_exception_only(etype,\n\u001b[0;32m   1973\u001b[0m                                                      value))\n\u001b[0;32m   1974\u001b[0m \u001b[39melse\u001b[39;00m:\n\u001b[0;32m   1975\u001b[0m     \u001b[39mtry\u001b[39;00m:\n\u001b[0;32m   1976\u001b[0m         \u001b[39m# Exception classes can customise their traceback - we\u001b[39;00m\n\u001b[0;32m   1977\u001b[0m         \u001b[39m# use this in IPython.parallel for exceptions occurring\u001b[39;00m\n\u001b[0;32m   1978\u001b[0m         \u001b[39m# in the engines. This should return a list of strings.\u001b[39;00m\n",
      "File \u001b[1;32mc:\\Users\\Raffaele.Sportiello\\Anaconda3\\lib\\site-packages\\IPython\\core\\ultratb.py:585\u001b[0m, in \u001b[0;36mListTB.get_exception_only\u001b[1;34m(self, etype, value)\u001b[0m\n\u001b[0;32m    577\u001b[0m \u001b[39mdef\u001b[39;00m \u001b[39mget_exception_only\u001b[39m(\u001b[39mself\u001b[39m, etype, value):\n\u001b[0;32m    578\u001b[0m     \u001b[39m\"\"\"Only print the exception type and message, without a traceback.\u001b[39;00m\n\u001b[0;32m    579\u001b[0m \n\u001b[0;32m    580\u001b[0m \u001b[39m    Parameters\u001b[39;00m\n\u001b[1;32m   (...)\u001b[0m\n\u001b[0;32m    583\u001b[0m \u001b[39m    value : exception value\u001b[39;00m\n\u001b[0;32m    584\u001b[0m \u001b[39m    \"\"\"\u001b[39;00m\n\u001b[1;32m--> 585\u001b[0m     \u001b[39mreturn\u001b[39;00m ListTB\u001b[39m.\u001b[39;49mstructured_traceback(\u001b[39mself\u001b[39;49m, etype, value)\n",
      "File \u001b[1;32mc:\\Users\\Raffaele.Sportiello\\Anaconda3\\lib\\site-packages\\IPython\\core\\ultratb.py:443\u001b[0m, in \u001b[0;36mListTB.structured_traceback\u001b[1;34m(self, etype, evalue, etb, tb_offset, context)\u001b[0m\n\u001b[0;32m    440\u001b[0m     chained_exc_ids\u001b[39m.\u001b[39madd(\u001b[39mid\u001b[39m(exception[\u001b[39m1\u001b[39m]))\n\u001b[0;32m    441\u001b[0m     chained_exceptions_tb_offset \u001b[39m=\u001b[39m \u001b[39m0\u001b[39m\n\u001b[0;32m    442\u001b[0m     out_list \u001b[39m=\u001b[39m (\n\u001b[1;32m--> 443\u001b[0m         \u001b[39mself\u001b[39;49m\u001b[39m.\u001b[39;49mstructured_traceback(\n\u001b[0;32m    444\u001b[0m             etype, evalue, (etb, chained_exc_ids),\n\u001b[0;32m    445\u001b[0m             chained_exceptions_tb_offset, context)\n\u001b[0;32m    446\u001b[0m         \u001b[39m+\u001b[39m chained_exception_message\n\u001b[0;32m    447\u001b[0m         \u001b[39m+\u001b[39m out_list)\n\u001b[0;32m    449\u001b[0m \u001b[39mreturn\u001b[39;00m out_list\n",
      "File \u001b[1;32mc:\\Users\\Raffaele.Sportiello\\Anaconda3\\lib\\site-packages\\IPython\\core\\ultratb.py:1118\u001b[0m, in \u001b[0;36mAutoFormattedTB.structured_traceback\u001b[1;34m(self, etype, value, tb, tb_offset, number_of_lines_of_context)\u001b[0m\n\u001b[0;32m   1116\u001b[0m \u001b[39melse\u001b[39;00m:\n\u001b[0;32m   1117\u001b[0m     \u001b[39mself\u001b[39m\u001b[39m.\u001b[39mtb \u001b[39m=\u001b[39m tb\n\u001b[1;32m-> 1118\u001b[0m \u001b[39mreturn\u001b[39;00m FormattedTB\u001b[39m.\u001b[39;49mstructured_traceback(\n\u001b[0;32m   1119\u001b[0m     \u001b[39mself\u001b[39;49m, etype, value, tb, tb_offset, number_of_lines_of_context)\n",
      "File \u001b[1;32mc:\\Users\\Raffaele.Sportiello\\Anaconda3\\lib\\site-packages\\IPython\\core\\ultratb.py:1012\u001b[0m, in \u001b[0;36mFormattedTB.structured_traceback\u001b[1;34m(self, etype, value, tb, tb_offset, number_of_lines_of_context)\u001b[0m\n\u001b[0;32m   1009\u001b[0m mode \u001b[39m=\u001b[39m \u001b[39mself\u001b[39m\u001b[39m.\u001b[39mmode\n\u001b[0;32m   1010\u001b[0m \u001b[39mif\u001b[39;00m mode \u001b[39min\u001b[39;00m \u001b[39mself\u001b[39m\u001b[39m.\u001b[39mverbose_modes:\n\u001b[0;32m   1011\u001b[0m     \u001b[39m# Verbose modes need a full traceback\u001b[39;00m\n\u001b[1;32m-> 1012\u001b[0m     \u001b[39mreturn\u001b[39;00m VerboseTB\u001b[39m.\u001b[39;49mstructured_traceback(\n\u001b[0;32m   1013\u001b[0m         \u001b[39mself\u001b[39;49m, etype, value, tb, tb_offset, number_of_lines_of_context\n\u001b[0;32m   1014\u001b[0m     )\n\u001b[0;32m   1015\u001b[0m \u001b[39melif\u001b[39;00m mode \u001b[39m==\u001b[39m \u001b[39m'\u001b[39m\u001b[39mMinimal\u001b[39m\u001b[39m'\u001b[39m:\n\u001b[0;32m   1016\u001b[0m     \u001b[39mreturn\u001b[39;00m ListTB\u001b[39m.\u001b[39mget_exception_only(\u001b[39mself\u001b[39m, etype, value)\n",
      "File \u001b[1;32mc:\\Users\\Raffaele.Sportiello\\Anaconda3\\lib\\site-packages\\IPython\\core\\ultratb.py:865\u001b[0m, in \u001b[0;36mVerboseTB.structured_traceback\u001b[1;34m(self, etype, evalue, etb, tb_offset, number_of_lines_of_context)\u001b[0m\n\u001b[0;32m    856\u001b[0m \u001b[39mdef\u001b[39;00m \u001b[39mstructured_traceback\u001b[39m(\n\u001b[0;32m    857\u001b[0m     \u001b[39mself\u001b[39m,\n\u001b[0;32m    858\u001b[0m     etype: \u001b[39mtype\u001b[39m,\n\u001b[1;32m   (...)\u001b[0m\n\u001b[0;32m    862\u001b[0m     number_of_lines_of_context: \u001b[39mint\u001b[39m \u001b[39m=\u001b[39m \u001b[39m5\u001b[39m,\n\u001b[0;32m    863\u001b[0m ):\n\u001b[0;32m    864\u001b[0m     \u001b[39m\"\"\"Return a nice text document describing the traceback.\"\"\"\u001b[39;00m\n\u001b[1;32m--> 865\u001b[0m     formatted_exception \u001b[39m=\u001b[39m \u001b[39mself\u001b[39;49m\u001b[39m.\u001b[39;49mformat_exception_as_a_whole(etype, evalue, etb, number_of_lines_of_context,\n\u001b[0;32m    866\u001b[0m                                                            tb_offset)\n\u001b[0;32m    868\u001b[0m     colors \u001b[39m=\u001b[39m \u001b[39mself\u001b[39m\u001b[39m.\u001b[39mColors  \u001b[39m# just a shorthand + quicker name lookup\u001b[39;00m\n\u001b[0;32m    869\u001b[0m     colorsnormal \u001b[39m=\u001b[39m colors\u001b[39m.\u001b[39mNormal  \u001b[39m# used a lot\u001b[39;00m\n",
      "File \u001b[1;32mc:\\Users\\Raffaele.Sportiello\\Anaconda3\\lib\\site-packages\\IPython\\core\\ultratb.py:799\u001b[0m, in \u001b[0;36mVerboseTB.format_exception_as_a_whole\u001b[1;34m(self, etype, evalue, etb, number_of_lines_of_context, tb_offset)\u001b[0m\n\u001b[0;32m    796\u001b[0m \u001b[39massert\u001b[39;00m \u001b[39misinstance\u001b[39m(tb_offset, \u001b[39mint\u001b[39m)\n\u001b[0;32m    797\u001b[0m head \u001b[39m=\u001b[39m \u001b[39mself\u001b[39m\u001b[39m.\u001b[39mprepare_header(etype, \u001b[39mself\u001b[39m\u001b[39m.\u001b[39mlong_header)\n\u001b[0;32m    798\u001b[0m records \u001b[39m=\u001b[39m (\n\u001b[1;32m--> 799\u001b[0m     \u001b[39mself\u001b[39;49m\u001b[39m.\u001b[39;49mget_records(etb, number_of_lines_of_context, tb_offset) \u001b[39mif\u001b[39;00m etb \u001b[39melse\u001b[39;00m []\n\u001b[0;32m    800\u001b[0m )\n\u001b[0;32m    802\u001b[0m frames \u001b[39m=\u001b[39m []\n\u001b[0;32m    803\u001b[0m skipped \u001b[39m=\u001b[39m \u001b[39m0\u001b[39m\n",
      "File \u001b[1;32mc:\\Users\\Raffaele.Sportiello\\Anaconda3\\lib\\site-packages\\IPython\\core\\ultratb.py:854\u001b[0m, in \u001b[0;36mVerboseTB.get_records\u001b[1;34m(self, etb, number_of_lines_of_context, tb_offset)\u001b[0m\n\u001b[0;32m    848\u001b[0m     formatter \u001b[39m=\u001b[39m \u001b[39mNone\u001b[39;00m\n\u001b[0;32m    849\u001b[0m options \u001b[39m=\u001b[39m stack_data\u001b[39m.\u001b[39mOptions(\n\u001b[0;32m    850\u001b[0m     before\u001b[39m=\u001b[39mbefore,\n\u001b[0;32m    851\u001b[0m     after\u001b[39m=\u001b[39mafter,\n\u001b[0;32m    852\u001b[0m     pygments_formatter\u001b[39m=\u001b[39mformatter,\n\u001b[0;32m    853\u001b[0m )\n\u001b[1;32m--> 854\u001b[0m \u001b[39mreturn\u001b[39;00m \u001b[39mlist\u001b[39;49m(stack_data\u001b[39m.\u001b[39;49mFrameInfo\u001b[39m.\u001b[39;49mstack_data(etb, options\u001b[39m=\u001b[39;49moptions))[tb_offset:]\n",
      "File \u001b[1;32mc:\\Users\\Raffaele.Sportiello\\Anaconda3\\lib\\site-packages\\stack_data\\core.py:546\u001b[0m, in \u001b[0;36mFrameInfo.stack_data\u001b[1;34m(cls, frame_or_tb, options, collapse_repeated_frames)\u001b[0m\n\u001b[0;32m    530\u001b[0m \u001b[39m@classmethod\u001b[39m\n\u001b[0;32m    531\u001b[0m \u001b[39mdef\u001b[39;00m \u001b[39mstack_data\u001b[39m(\n\u001b[0;32m    532\u001b[0m         \u001b[39mcls\u001b[39m,\n\u001b[1;32m   (...)\u001b[0m\n\u001b[0;32m    536\u001b[0m         collapse_repeated_frames: \u001b[39mbool\u001b[39m \u001b[39m=\u001b[39m \u001b[39mTrue\u001b[39;00m\n\u001b[0;32m    537\u001b[0m ) \u001b[39m-\u001b[39m\u001b[39m>\u001b[39m Iterator[Union[\u001b[39m'\u001b[39m\u001b[39mFrameInfo\u001b[39m\u001b[39m'\u001b[39m, RepeatedFrames]]:\n\u001b[0;32m    538\u001b[0m     \u001b[39m\"\"\"\u001b[39;00m\n\u001b[0;32m    539\u001b[0m \u001b[39m    An iterator of FrameInfo and RepeatedFrames objects representing\u001b[39;00m\n\u001b[0;32m    540\u001b[0m \u001b[39m    a full traceback or stack. Similar consecutive frames are collapsed into RepeatedFrames\u001b[39;00m\n\u001b[1;32m   (...)\u001b[0m\n\u001b[0;32m    544\u001b[0m \u001b[39m    and optionally an Options object to configure.\u001b[39;00m\n\u001b[0;32m    545\u001b[0m \u001b[39m    \"\"\"\u001b[39;00m\n\u001b[1;32m--> 546\u001b[0m     stack \u001b[39m=\u001b[39m \u001b[39mlist\u001b[39;49m(iter_stack(frame_or_tb))\n\u001b[0;32m    548\u001b[0m     \u001b[39m# Reverse the stack from a frame so that it's in the same order\u001b[39;00m\n\u001b[0;32m    549\u001b[0m     \u001b[39m# as the order from a traceback, which is the order of a printed\u001b[39;00m\n\u001b[0;32m    550\u001b[0m     \u001b[39m# traceback when read top to bottom (most recent call last)\u001b[39;00m\n\u001b[0;32m    551\u001b[0m     \u001b[39mif\u001b[39;00m is_frame(frame_or_tb):\n",
      "File \u001b[1;32mc:\\Users\\Raffaele.Sportiello\\Anaconda3\\lib\\site-packages\\stack_data\\utils.py:98\u001b[0m, in \u001b[0;36miter_stack\u001b[1;34m(frame_or_tb)\u001b[0m\n\u001b[0;32m     96\u001b[0m \u001b[39mwhile\u001b[39;00m frame_or_tb:\n\u001b[0;32m     97\u001b[0m     \u001b[39myield\u001b[39;00m frame_or_tb\n\u001b[1;32m---> 98\u001b[0m     \u001b[39mif\u001b[39;00m is_frame(frame_or_tb):\n\u001b[0;32m     99\u001b[0m         frame_or_tb \u001b[39m=\u001b[39m frame_or_tb\u001b[39m.\u001b[39mf_back\n\u001b[0;32m    100\u001b[0m     \u001b[39melse\u001b[39;00m:\n",
      "File \u001b[1;32mc:\\Users\\Raffaele.Sportiello\\Anaconda3\\lib\\site-packages\\stack_data\\utils.py:91\u001b[0m, in \u001b[0;36mis_frame\u001b[1;34m(frame_or_tb)\u001b[0m\n\u001b[0;32m     90\u001b[0m \u001b[39mdef\u001b[39;00m \u001b[39mis_frame\u001b[39m(frame_or_tb: Union[FrameType, TracebackType]) \u001b[39m-\u001b[39m\u001b[39m>\u001b[39m \u001b[39mbool\u001b[39m:\n\u001b[1;32m---> 91\u001b[0m     assert_(\u001b[39misinstance\u001b[39;49m(frame_or_tb, (types\u001b[39m.\u001b[39;49mFrameType, types\u001b[39m.\u001b[39;49mTracebackType)))\n\u001b[0;32m     92\u001b[0m     \u001b[39mreturn\u001b[39;00m \u001b[39misinstance\u001b[39m(frame_or_tb, (types\u001b[39m.\u001b[39mFrameType,))\n",
      "File \u001b[1;32mc:\\Users\\Raffaele.Sportiello\\Anaconda3\\lib\\site-packages\\stack_data\\utils.py:172\u001b[0m, in \u001b[0;36massert_\u001b[1;34m(condition, error)\u001b[0m\n\u001b[0;32m    170\u001b[0m \u001b[39mif\u001b[39;00m \u001b[39misinstance\u001b[39m(error, \u001b[39mstr\u001b[39m):\n\u001b[0;32m    171\u001b[0m     error \u001b[39m=\u001b[39m \u001b[39mAssertionError\u001b[39;00m(error)\n\u001b[1;32m--> 172\u001b[0m \u001b[39mraise\u001b[39;00m error\n",
      "\u001b[1;31mAssertionError\u001b[0m: "
     ]
    },
    {
     "ename": "",
     "evalue": "",
     "output_type": "error",
     "traceback": [
      "\u001b[1;31mSi è verificato un arresto anomalo del kernel durante l'esecuzione del codice nella cella attiva o in una cella precedente. Esaminare il codice nelle celle per identificare una possibile causa dell'errore. Per altre informazioni, fare clic su <a href='https://aka.ms/vscodeJupyterKernelCrash'>here</a>. Per altri dettagli, vedere Jupyter <a href='command:jupyter.viewOutput'>log</a>."
     ]
    }
   ],
   "source": [
    "try:\n",
    "    if nuovi.empty == True:\n",
    "        raise RuntimeError(\"Il dataframe è vuoto\")\n",
    "#except:\n",
    " #   sys.exit(1)"
   ]
  },
  {
   "cell_type": "code",
   "execution_count": 36,
   "id": "8d3d9be1",
   "metadata": {},
   "outputs": [],
   "source": [
    "from bs4 import BeautifulSoup\n",
    "import pandas as pd\n",
    "\n",
    "with open(dashboard_inflow + r\"\\Lista prodotti\\ZQ_MC_BUDANAL_IMP_ALL_00000.xls\", 'r') as f:\n",
    "    html = f.read()\n",
    "\n",
    "soup = BeautifulSoup(html, 'html.parser')\n",
    "\n",
    "# Recupera la tabella di interesse\n",
    "table_html = str(soup.find_all('table')[8])\n",
    "\n",
    "# Correggi il valore di colspan nella cella interessata\n",
    "table_html = table_html.replace('colspan=\"3D2\"', 'colspan=\"2\"')\n",
    "\n",
    "# Leggi la tabella HTML corretta con Pandas\n",
    "table = pd.read_html(table_html)[0].iloc[1:,0:3]\n",
    "\n",
    "table.columns = [\"Codice PRODOTTO\", \"Descrizione prodotto\", \"Prodotto (SW)\"]"
   ]
  },
  {
   "cell_type": "code",
   "execution_count": 51,
   "id": "98dfa40a",
   "metadata": {},
   "outputs": [],
   "source": [
    "nuovi = nuovi.merge(table, how=\"left\", on=\"Codice PRODOTTO\").reindex(columns=cod_prod.columns).fillna(\"\")"
   ]
  },
  {
   "cell_type": "code",
   "execution_count": 52,
   "id": "449d8e14",
   "metadata": {},
   "outputs": [
    {
     "data": {
      "text/html": [
       "<div>\n",
       "<style scoped>\n",
       "    .dataframe tbody tr th:only-of-type {\n",
       "        vertical-align: middle;\n",
       "    }\n",
       "\n",
       "    .dataframe tbody tr th {\n",
       "        vertical-align: top;\n",
       "    }\n",
       "\n",
       "    .dataframe thead th {\n",
       "        text-align: right;\n",
       "    }\n",
       "</style>\n",
       "<table border=\"1\" class=\"dataframe\">\n",
       "  <thead>\n",
       "    <tr style=\"text-align: right;\">\n",
       "      <th></th>\n",
       "      <th>Codice PRODOTTO</th>\n",
       "      <th>Descrizione prodotto</th>\n",
       "      <th>Prodotto (SW)</th>\n",
       "      <th>Sub solution</th>\n",
       "      <th>Solution</th>\n",
       "      <th>Solution cluster</th>\n",
       "      <th>Business area</th>\n",
       "      <th>VSP</th>\n",
       "      <th>MDM</th>\n",
       "      <th>GTM BDG</th>\n",
       "    </tr>\n",
       "  </thead>\n",
       "  <tbody>\n",
       "    <tr>\n",
       "      <th>0</th>\n",
       "      <td>BUDGETAG23F332</td>\n",
       "      <td>BUDGETAG23F332</td>\n",
       "      <td>Senza attribuz.</td>\n",
       "      <td></td>\n",
       "      <td></td>\n",
       "      <td></td>\n",
       "      <td></td>\n",
       "      <td></td>\n",
       "      <td></td>\n",
       "      <td></td>\n",
       "    </tr>\n",
       "    <tr>\n",
       "      <th>1</th>\n",
       "      <td>BUDGETAG23G332</td>\n",
       "      <td>BUDGETAG23G332</td>\n",
       "      <td>Senza attribuz.</td>\n",
       "      <td></td>\n",
       "      <td></td>\n",
       "      <td></td>\n",
       "      <td></td>\n",
       "      <td></td>\n",
       "      <td></td>\n",
       "      <td></td>\n",
       "    </tr>\n",
       "    <tr>\n",
       "      <th>2</th>\n",
       "      <td>BUDGETAG23Q132</td>\n",
       "      <td>BUDGETAG23Q132</td>\n",
       "      <td>Senza attribuz.</td>\n",
       "      <td></td>\n",
       "      <td></td>\n",
       "      <td></td>\n",
       "      <td></td>\n",
       "      <td></td>\n",
       "      <td></td>\n",
       "      <td></td>\n",
       "    </tr>\n",
       "  </tbody>\n",
       "</table>\n",
       "</div>"
      ],
      "text/plain": [
       "  Codice PRODOTTO Descrizione prodotto    Prodotto (SW) Sub solution Solution  \\\n",
       "0  BUDGETAG23F332       BUDGETAG23F332  Senza attribuz.                         \n",
       "1  BUDGETAG23G332       BUDGETAG23G332  Senza attribuz.                         \n",
       "2  BUDGETAG23Q132       BUDGETAG23Q132  Senza attribuz.                         \n",
       "\n",
       "  Solution cluster Business area VSP MDM GTM BDG  \n",
       "0                                                 \n",
       "1                                                 \n",
       "2                                                 "
      ]
     },
     "execution_count": 52,
     "metadata": {},
     "output_type": "execute_result"
    }
   ],
   "source": [
    "nuovi"
   ]
  },
  {
   "cell_type": "code",
   "execution_count": 39,
   "id": "4dc67a47",
   "metadata": {},
   "outputs": [],
   "source": [
    "import win32com.client"
   ]
  },
  {
   "cell_type": "code",
   "execution_count": 53,
   "id": "90e334a1",
   "metadata": {},
   "outputs": [],
   "source": [
    "html_body = \"<div><p>Ciao Stefania,<br><br>mi aiuti per piacere con le seguenti nuove classificazioni?:<br><br>\" + nuovi.to_html(index=False) + \"</div><br><br>Grazie,<br>Raffaele<br><br></p></div>\"\n",
    "\n",
    "outlook = win32com.client.Dispatch('Outlook.Application')\n",
    "message = outlook.CreateItem(0)\n",
    "message.To = \"stefania.cremonesi@wolterskluwer.com\"\n",
    "message.CC = \"lorella.vigato@wolterskluwer.com;martina.tisa@wolterskluwer.com;Elenamaria.Regazzoni@wolterskluwer.com;dimitri.falzone@wolterskluwer.com\"\n",
    "message.Subject = 'Classificazione nuovi codici prodotto'\n",
    "message.HTMLBody = html_body\n",
    "\n",
    "message.Display()"
   ]
  },
  {
   "cell_type": "code",
   "execution_count": null,
   "id": "cffeb112",
   "metadata": {},
   "outputs": [],
   "source": []
  }
 ],
 "metadata": {
  "kernelspec": {
   "display_name": "Python 3 (ipykernel)",
   "language": "python",
   "name": "python3"
  },
  "language_info": {
   "codemirror_mode": {
    "name": "ipython",
    "version": 3
   },
   "file_extension": ".py",
   "mimetype": "text/x-python",
   "name": "python",
   "nbconvert_exporter": "python",
   "pygments_lexer": "ipython3",
   "version": "3.9.12"
  },
  "vscode": {
   "interpreter": {
    "hash": "b3e4ceeb8545c6f77e2128b60a53d4f76e775a60f7e42e70cb0e4a6bd890691a"
   }
  }
 },
 "nbformat": 4,
 "nbformat_minor": 5
}
