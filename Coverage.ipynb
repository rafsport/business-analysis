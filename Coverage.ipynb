{
 "cells": [
  {
   "cell_type": "code",
   "execution_count": 1,
   "metadata": {},
   "outputs": [],
   "source": [
    "import pandas as pd\n",
    "import os\n",
    "import numpy as np\n",
    "import datetime as dt\n",
    "\n",
    "from os import listdir\n",
    "from os.path import isfile, join\n",
    "from os.path import getmtime"
   ]
  },
  {
   "cell_type": "code",
   "execution_count": null,
   "metadata": {},
   "outputs": [],
   "source": [
    "coverage_da_budest = r\"C:\\Users\\Raffaele.Sportiello\\OneDrive - Wolters Kluwer\\Documents\\Dashboard inflow\\Coverage\\Data export\\Coverage da budest.xlsb\"\n",
    "coverage_da_abbonamenti = r\"C:\\Users\\Raffaele.Sportiello\\OneDrive - Wolters Kluwer\\Documents\\Dashboard inflow\\Coverage\\Data export\\Coverage da abbonamenti.xlsb\"\n",
    "\n",
    "bud = pd.read_excel(coverage_da_budest, usecols=[\"Agente dell'ORDINE\", 'Unnamed: 1', 'RSM Agente', 'Unnamed: 3', 'Sales Director'], dtype={\"Agente dell'ORDINE\":str, \"Unnamed: 3\":str})\n",
    "abb = pd.read_excel(coverage_da_abbonamenti, usecols=[\"Agente dell'Abbonamento\", 'Unnamed: 1', 'RSM Agente', 'Unnamed: 3', 'Sales Director'], dtype={\"Agente dell'Abbonamento\":str, \"Unnamed: 3\":str})\n",
    "bud.columns = [\"Codice agente\", \"Agente dell'ORDINE\", \"RSM Agente\", \"Codice RSM Agente\", \"Sales Director\"]\n",
    "abb.columns = [\"Codice agente\", \"Agente dell'ORDINE\", \"RSM Agente\", \"Codice RSM Agente\", \"Sales Director\"]\n",
    "coverage = pd.concat([bud, abb], ignore_index=True, sort =False).drop_duplicates([\"Codice agente\"], keep=\"first\")"
   ]
  },
  {
   "cell_type": "code",
   "execution_count": 19,
   "metadata": {},
   "outputs": [],
   "source": [
    "coverage.to_excel(r\"C:\\Users\\Raffaele.Sportiello\\OneDrive - Wolters Kluwer\\Documents\\Dashboard inflow\\Coverage\\Coverage.xlsx\", index=False)"
   ]
  },
  {
   "cell_type": "code",
   "execution_count": null,
   "metadata": {},
   "outputs": [],
   "source": []
  }
 ],
 "metadata": {
  "kernelspec": {
   "display_name": "base",
   "language": "python",
   "name": "python3"
  },
  "language_info": {
   "codemirror_mode": {
    "name": "ipython",
    "version": 3
   },
   "file_extension": ".py",
   "mimetype": "text/x-python",
   "name": "python",
   "nbconvert_exporter": "python",
   "pygments_lexer": "ipython3",
   "version": "3.9.12"
  },
  "orig_nbformat": 4,
  "vscode": {
   "interpreter": {
    "hash": "b3e4ceeb8545c6f77e2128b60a53d4f76e775a60f7e42e70cb0e4a6bd890691a"
   }
  }
 },
 "nbformat": 4,
 "nbformat_minor": 2
}
