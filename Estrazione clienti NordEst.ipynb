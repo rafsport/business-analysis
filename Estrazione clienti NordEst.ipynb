{
 "cells": [
  {
   "cell_type": "markdown",
   "id": "2dd02d30-2249-4e75-a222-3b3bc693e4b2",
   "metadata": {},
   "source": [
    "C:\\Users\\Raffaele.Sportiello\\OneDrive - Wolters Kluwer\\Documents\\Analisi clienti\\Clienti per area territoriale\\Clienti diretta\\NordEst"
   ]
  },
  {
   "cell_type": "code",
   "execution_count": 1,
   "id": "b789572a-38f8-428f-8a45-6dd7b614f251",
   "metadata": {},
   "outputs": [],
   "source": [
    "import pandas as pd\n",
    "import os\n",
    "import numpy as np\n",
    "import datetime as dt\n",
    "\n",
    "from os import listdir\n",
    "from os.path import isfile, join\n",
    "from os.path import getmtime\n",
    "\n",
    "from zebra import remov_duplicates, human_format\n",
    "from babel.numbers import format_number"
   ]
  },
  {
   "cell_type": "code",
   "execution_count": 2,
   "id": "f0a2130f-e266-4f8e-b173-d50b29dc95d4",
   "metadata": {},
   "outputs": [],
   "source": [
    "idx = pd.IndexSlice"
   ]
  },
  {
   "cell_type": "code",
   "execution_count": 22,
   "id": "222f2d58-487e-4e4c-a600-b1ca2532090c",
   "metadata": {},
   "outputs": [],
   "source": [
    "pd.set_option('display.max_rows', 100)"
   ]
  },
  {
   "cell_type": "markdown",
   "id": "87ea799a-6075-4a6b-bdff-0d08a657cc20",
   "metadata": {
    "tags": []
   },
   "source": [
    "# Sources"
   ]
  },
  {
   "cell_type": "markdown",
   "id": "763f2104-dfa7-4070-898c-851fdaec1777",
   "metadata": {
    "tags": []
   },
   "source": [
    "## Parametriche"
   ]
  },
  {
   "cell_type": "code",
   "execution_count": 3,
   "id": "6bbafb56-0348-42f0-9a4b-9709039f3f75",
   "metadata": {},
   "outputs": [],
   "source": [
    "parametriche = r\"C:\\Users\\Raffaele.Sportiello\\OneDrive - Wolters Kluwer\\Documents\\Dashboard inflow\\Parametriche\\\\\"\n",
    "onlyfiles = [f for f in listdir(r\"C:\\Users\\Raffaele.Sportiello\\OneDrive - Wolters Kluwer\\Documents\\Dashboard inflow\\Parametriche\") if isfile(join(r\"C:\\Users\\Raffaele.Sportiello\\OneDrive - Wolters Kluwer\\Documents\\Dashboard inflow\\Parametriche\", f))]\n",
    "\n",
    "par = {}\n",
    "for file in onlyfiles:\n",
    "    file_name=file.split(\".\")[0]\n",
    "    par[f\"{file_name}\"] = pd.read_excel(parametriche+file)"
   ]
  },
  {
   "cell_type": "code",
   "execution_count": 6,
   "id": "d3c3b0d9-392b-4dcb-88c2-22c571a912e6",
   "metadata": {},
   "outputs": [
    {
     "data": {
      "text/plain": [
       "dict_keys(['Agente_ordine', 'Area_prodotto', 'Canale_vendita', 'Classificazione_codice_prodotto - New', 'Classificazione_codice_prodotto', 'Classificazione_mdm', 'Clienti_inside_sales', 'Clienti_inside_sales_nuovi_2021', 'Esclusione_fatture', 'Esclusione_ordini', 'Forfait', 'Giorni_lavorativi', 'Linea_prodotti', 'Opportunity_owner', 'Sales_director'])"
      ]
     },
     "execution_count": 6,
     "metadata": {},
     "output_type": "execute_result"
    }
   ],
   "source": [
    "par.keys()"
   ]
  },
  {
   "cell_type": "code",
   "execution_count": 4,
   "id": "8294355e-5826-4bab-9023-d18fb4565a09",
   "metadata": {},
   "outputs": [],
   "source": [
    "cod_prod = par[\"Classificazione_codice_prodotto\"]\n",
    "cod_prod[\"Codice PRODOTTO\"] = cod_prod[\"Codice PRODOTTO\"].apply(lambda x: str(x))\n",
    "cod_prod = cod_prod.loc[:, ['MDM', 'GTM BDG', 'Solution','Sub solution',\"Codice PRODOTTO\"]]\n",
    "\n",
    "sales_director = par[\"Sales_director\"]\n",
    "sales_director = sales_director.loc[:, [\"Sales Director\", \"Area territoriale\", \"Rete\"]]\n",
    "sales_director[\"Sales Director\"] = sales_director[\"Sales Director\"].str.lower()\n",
    "\n",
    "agente_ordine = par[\"Agente_ordine\"]\n",
    "\n",
    "esc_fatture = par[\"Esclusione_fatture\"]\n",
    "esc_fatture[\"Numero Fattura\"] = esc_fatture[\"Numero Fattura\"].astype(str)\n",
    "\n",
    "esc_ordini = par[\"Esclusione_ordini\"]\n",
    "esc_ordini[\"Numero Ordine\"] = esc_ordini[\"Numero Ordine\"].astype(str)\n",
    "\n",
    "li_prodotti = par[\"Linea_prodotti\"]"
   ]
  },
  {
   "cell_type": "markdown",
   "id": "c1adfc69-c432-473f-a3e2-7cedb5e0f10e",
   "metadata": {
    "tags": []
   },
   "source": [
    "## Parco clienti da Licenze e abbonamenti"
   ]
  },
  {
   "cell_type": "code",
   "execution_count": 5,
   "id": "0efd8eee-a525-4090-bb8c-509264caa495",
   "metadata": {},
   "outputs": [],
   "source": [
    "clienti = r\"C:\\Users\\Raffaele.Sportiello\\OneDrive - Wolters Kluwer\\Documents\\Analisi clienti\\Parco clienti\\Data export\\Diretta Indiretta IndirettaWKInfo\\\\\"\n",
    "\n",
    "onlyfiles = [f for f in listdir(r\"C:\\Users\\Raffaele.Sportiello\\OneDrive - Wolters Kluwer\\Documents\\Analisi clienti\\Parco clienti\\Data export\\Diretta Indiretta IndirettaWKInfo\") if isfile(join(r\"C:\\Users\\Raffaele.Sportiello\\OneDrive - Wolters Kluwer\\Documents\\Analisi clienti\\Parco clienti\\Data export\\Diretta Indiretta IndirettaWKInfo\", f))]\n",
    "\n",
    "dfs = []\n",
    "for file in onlyfiles:\n",
    "    data = pd.read_excel(clienti+file, na_values=\"#\", dtype={\"Data inizio contratt\":object, \"Data Inizio Abb.\":object, \"Data Fine Abb.\":object, \"Cliente FATTURA\":str, \"Codice ABBONAMENTO\":str})\n",
    "    data[\"Tipo Licenza\"] = file.split(\"_\")[1].split(\".\")[0]\n",
    "    data[\"Ultimo Agg.\"] = dt.date.fromtimestamp(getmtime(clienti+file))\n",
    "    dfs.append(data)\n",
    "\n",
    "cli = pd.concat(dfs, axis=0, ignore_index=True)\n",
    "    \n",
    "for col in cli.columns:\n",
    "    if \"Data\" in col:\n",
    "        \n",
    "        cli[col] = cli[col].apply(lambda x: (float(x) - 25569) * 86400)\n",
    "        cli[col] = pd.to_datetime(cli[col], unit=\"s\")\n",
    "    else:\n",
    "        pass\n",
    "\n",
    "cli.rename(columns={'Unnamed: 10':'Descrizione ABBONAMENTO'}, inplace=True )"
   ]
  },
  {
   "cell_type": "markdown",
   "id": "0693a907-366e-4a44-8481-32c59b49474a",
   "metadata": {
    "tags": []
   },
   "source": [
    "## All accounts da Salesforce"
   ]
  },
  {
   "cell_type": "code",
   "execution_count": 22,
   "id": "b93f462e-82e7-4078-bdaf-b212087931f1",
   "metadata": {},
   "outputs": [],
   "source": [
    "accounts_sf = pd.read_csv(r\"C:\\Users\\Raffaele.Sportiello\\OneDrive - Wolters Kluwer\\Documents\\Salesforce\\Data export\\IT_all_accounts.csv\", encoding='latin-1', sep=\";\")"
   ]
  },
  {
   "cell_type": "code",
   "execution_count": 69,
   "id": "8bf96db1-c680-4f5a-abed-88fc168a9f7d",
   "metadata": {},
   "outputs": [
    {
     "name": "stdout",
     "output_type": "stream",
     "text": [
      "<class 'pandas.core.frame.DataFrame'>\n",
      "RangeIndex: 97881 entries, 0 to 97880\n",
      "Data columns (total 4 columns):\n",
      " #   Column             Non-Null Count  Dtype \n",
      "---  ------             --------------  ----- \n",
      " 0   WK Account Number  95495 non-null  object\n",
      " 1   Account Owner      97881 non-null  object\n",
      " 2   Account Name       97881 non-null  object\n",
      " 3   Type               97869 non-null  object\n",
      "dtypes: object(4)\n",
      "memory usage: 3.0+ MB\n"
     ]
    }
   ],
   "source": [
    "accounts_sf.info()"
   ]
  },
  {
   "cell_type": "markdown",
   "id": "f4dea63d-8b1a-4215-8da9-f516eda5fe7c",
   "metadata": {},
   "source": [
    "---"
   ]
  },
  {
   "cell_type": "markdown",
   "id": "363db92d-ec65-4078-93c3-0f3d8580275e",
   "metadata": {
    "tags": []
   },
   "source": [
    "# Lista di clienti con determinati prodotti"
   ]
  },
  {
   "cell_type": "markdown",
   "id": "6c2f8fa7-c3a1-43f5-a7af-6972dd0736cc",
   "metadata": {
    "tags": []
   },
   "source": [
    "## Filtri"
   ]
  },
  {
   "cell_type": "markdown",
   "id": "88eaa23b-02cf-4c3f-9590-186291d0ce7f",
   "metadata": {},
   "source": [
    "Inserire valore per stato abbonamento e per stato contratto"
   ]
  },
  {
   "cell_type": "code",
   "execution_count": 7,
   "id": "e8bb118d-5743-4c06-8f24-54e39ca210df",
   "metadata": {},
   "outputs": [],
   "source": [
    "stato_abb = (cli[\"Stato Esteso\"].str.contains(\"ATTIVO\")) & (cli[\"Stato Sintetico Contratto\"].isin([\"Attivo\",\"Sospeso\"]))"
   ]
  },
  {
   "cell_type": "markdown",
   "id": "c5653637-09fd-4ebf-9727-637ae2c12c91",
   "metadata": {},
   "source": [
    "Inserire colonne da considerare"
   ]
  },
  {
   "cell_type": "code",
   "execution_count": 8,
   "id": "50f92d41-1129-4177-93da-b74b3ef0639e",
   "metadata": {},
   "outputs": [],
   "source": [
    "columns = [\"Cliente MERCE\",\"Segmento Aggregato Cl.Merce\",\"Agente dell'ORDINE\",\"Rete\", \"Area territoriale\", 'Provincia', 'Solution', 'Sub solution', \"Sistema\",\"Fornitura (SW)\",\"Valore PV New\"]\n",
    "\n",
    "#'Cliente MERCE', 'Segmento Aggregato Cl.Merce', 'Regione', 'Provincia','Canale di VENDITA', 'Cliente FATTURA', 'Numero Contratto Lic','Stato Sintetico Contratto', 'Data inizio contratt','Codice ABBONAMENTO', 'Unnamed: 10', 'Soluzione (SW)', 'Prodotto (SW)','Cluster (SW)', 'Sistema', 'Fornitura (SW)', \"Agente dell'Abbonamento\",'Sales Director', 'Stato Esteso', 'Data Inizio Abb.', 'Data Fine Abb.','Valore PV New', 'Tipo Licenza', 'Ultimo Agg.'\n",
    "#'MDM', 'GTM BDG', 'Solution', 'Sub solution', 'Codice PRODOTTO'\n",
    "#'Sales Director', 'Area territoriale', 'Rete'"
   ]
  },
  {
   "cell_type": "markdown",
   "id": "7b7938b4-ad9d-4b67-a9fe-c7f234507a0e",
   "metadata": {},
   "source": [
    "Inserire area territoriale"
   ]
  },
  {
   "cell_type": "code",
   "execution_count": 9,
   "id": "a3fe32e9-c03d-451b-8f2b-5a3d74cbceb6",
   "metadata": {},
   "outputs": [],
   "source": [
    "area_territ = ['Nord-Est']\n",
    "\n",
    "#'Enterprise indiretta', 'Rete IPSOA', 'Large accounts', 'Enterprise', 'Tax&Pay indiretta', 'Rete WKI', 'Centro-Sud', 'Nord-Est', 'Nord-Ovest'"
   ]
  },
  {
   "cell_type": "markdown",
   "id": "f7758c25-c177-463b-b672-ebc8a9d94ed8",
   "metadata": {},
   "source": [
    "## Creazione dataframe filtrato"
   ]
  },
  {
   "cell_type": "code",
   "execution_count": 23,
   "id": "c5d42a4a-1ff1-4d34-9793-72d6175aa486",
   "metadata": {},
   "outputs": [],
   "source": [
    "clienti = cli.loc[stato_abb, :].copy()"
   ]
  },
  {
   "cell_type": "code",
   "execution_count": 24,
   "id": "e8b5be04-d123-4203-a5fa-19236e8a1302",
   "metadata": {},
   "outputs": [],
   "source": [
    "clienti[\"Sales Director\"] = clienti[\"Sales Director\"].str.lower()\n",
    "clienti[\"Codice ABBONAMENTO\"] = clienti.loc[:,\"Codice ABBONAMENTO\"].apply(str)"
   ]
  },
  {
   "cell_type": "code",
   "execution_count": 25,
   "id": "ac030bd3-54bb-483e-9c86-e26522e752a6",
   "metadata": {},
   "outputs": [],
   "source": [
    "def cli_prod_saldir_ag(df_):\n",
    "    df = clienti.merge(cod_prod, how=\"left\", left_on=\"Codice ABBONAMENTO\", right_on=\"Codice PRODOTTO\")\\\n",
    "          .merge(sales_director, how=\"left\", on=\"Sales Director\")\\\n",
    "          .merge(agente_ordine, how=\"left\", left_on=\"Agente dell'Abbonamento\", right_on=\"Codice agente\")\n",
    "    df[\"Cliente MERCE\"] = df[\"Cliente MERCE\"].apply(str)\n",
    "    \n",
    "    return df.loc[df[\"Area territoriale\"].isin(area_territ), columns]"
   ]
  },
  {
   "cell_type": "code",
   "execution_count": 26,
   "id": "f577275f-29b5-4885-9613-80b3e098aeac",
   "metadata": {},
   "outputs": [],
   "source": [
    "clienti = clienti.pipe(cli_prod_saldir_ag)"
   ]
  },
  {
   "cell_type": "markdown",
   "id": "ace92735-1ea9-45e9-bc66-67cced1f96cf",
   "metadata": {},
   "source": [
    "## Creazione nuove colonne aggregate"
   ]
  },
  {
   "cell_type": "code",
   "execution_count": 27,
   "id": "000a60d9-b79b-4183-a332-5c0f5ae39c5f",
   "metadata": {},
   "outputs": [],
   "source": [
    "in_col = lambda col, string: clienti[col].str.contains(string, na=False)\n",
    "\n",
    "conds = {'Studi commercialisti': in_col('Segmento Aggregato Cl.Merce', 'Fiscal|Studi Multi'),\n",
    "         'Studi lavoro': in_col('Segmento Aggregato Cl.Merce', 'Lavoro'),\n",
    "         'Aziende': in_col('Segmento Aggregato Cl.Merce', 'Aziende'),\n",
    "         'Altro': ~in_col('Segmento Aggregato Cl.Merce', 'Fiscal|Studi Multi|Lavoro|Aziende')}\n",
    "\n",
    "clienti[\"Tipologia cliente\"] = np.select(condlist=conds.values(), choicelist=conds.keys())"
   ]
  },
  {
   "cell_type": "markdown",
   "id": "6381d788-825e-47e3-81da-ffdfc9f46b44",
   "metadata": {},
   "source": [
    "## Modifica valore Solution per comprendere uno o più valori della Sub Solution"
   ]
  },
  {
   "cell_type": "code",
   "execution_count": 28,
   "id": "44f8d07a-8ecf-4493-94eb-2f6c642f9357",
   "metadata": {},
   "outputs": [],
   "source": [
    "clienti.loc[(clienti[\"Sub solution\"] == \"Tuttotel FE\"),  \"Solution\"] = \"Tuttotel FE\"\n",
    "clienti.loc[(clienti[\"Sub solution\"] == \"DIGY EC\"),  \"Solution\"] = \"DIGY EC\""
   ]
  },
  {
   "cell_type": "markdown",
   "id": "a309ecf2-4f0c-4345-bb83-34c3951159e1",
   "metadata": {},
   "source": [
    "## Creazione cluster prodotti"
   ]
  },
  {
   "cell_type": "code",
   "execution_count": 29,
   "id": "66e0d548-2841-4b78-a6ab-a08d9a251ff7",
   "metadata": {},
   "outputs": [],
   "source": [
    "def concat_prodotti(df_):\n",
    "    df = clienti.loc[:,[\"Solution\", \"Cliente MERCE\"]]\n",
    "    df[\"Solution\"] = pd.Categorical(df[\"Solution\"], np.sort(df[\"Solution\"].unique()))\n",
    "    df.sort_values(by=[\"Solution\"], inplace=True)\n",
    "    df[\"Prodotti\"] = df.groupby(\"Cliente MERCE\")[\"Solution\"].transform(lambda x: \" + \".join(x)).apply(lambda x: remov_duplicates(x))\n",
    "    return df[\"Prodotti\"]"
   ]
  },
  {
   "cell_type": "code",
   "execution_count": 30,
   "id": "04f333ad-570a-4430-b45b-d5012098617a",
   "metadata": {},
   "outputs": [],
   "source": [
    "clienti = clienti.assign(Prodotti = lambda df_: df_.pipe(concat_prodotti))"
   ]
  },
  {
   "cell_type": "markdown",
   "id": "da41aa83-555b-4cc7-8793-9d850ab1910a",
   "metadata": {},
   "source": [
    "## Aggiunta della ragione sociale"
   ]
  },
  {
   "cell_type": "code",
   "execution_count": 31,
   "id": "8f2903c7-3c16-43c3-9ce2-dbd58bc3bf17",
   "metadata": {},
   "outputs": [],
   "source": [
    "clienti[\"Codice SAP\"] = clienti[\"Cliente MERCE\"].astype(str).apply(lambda x: \"IT-\" + x.zfill(10))\n",
    "clienti = clienti.merge(accounts_sf, how=\"left\", left_on=\"Codice SAP\", right_on=\"WK Account Number\")"
   ]
  },
  {
   "cell_type": "markdown",
   "id": "0f064dbf-4cb2-4693-a167-96cd1daccd1f",
   "metadata": {},
   "source": [
    "## Ultima definizione colonne"
   ]
  },
  {
   "cell_type": "code",
   "execution_count": 32,
   "id": "b770befa-c217-40a7-8f60-bb22f4064d08",
   "metadata": {},
   "outputs": [],
   "source": [
    "clienti = clienti.loc[:,[\"Cliente MERCE\", \"Account Name\", \"Tipologia cliente\", \"Agente dell'ORDINE\", \"Area territoriale\",\"Provincia\", \"Fornitura (SW)\", \"Prodotti\", \"Sistema\", \"Solution\",\"Sub solution\", \"Valore PV New\"]].copy()\n",
    "clienti.rename(columns={\"Valore PV New\":\"Valore PV\", \"Agente dell'ORDINE\":\"Agente\"}, inplace=True)"
   ]
  },
  {
   "cell_type": "markdown",
   "id": "4d2f17a4-9ce0-4e28-b93a-916b415fcaea",
   "metadata": {},
   "source": [
    "## Export in excel"
   ]
  },
  {
   "cell_type": "code",
   "execution_count": 33,
   "id": "661ba54f-c0f0-47c6-9f6a-693cdfe17ab9",
   "metadata": {},
   "outputs": [],
   "source": [
    "path_base_dati = r\"C:\\Users\\Raffaele.Sportiello\\OneDrive - Wolters Kluwer\\Documents\\Analisi clienti\\Clienti per area territoriale\\Clienti diretta\\NordEst\\Data export\\\\\""
   ]
  },
  {
   "cell_type": "code",
   "execution_count": 34,
   "id": "d1c00bf8-4d95-4a85-8f46-8881da67473b",
   "metadata": {},
   "outputs": [],
   "source": [
    "clienti.to_excel(path_base_dati+\"clienti_NordEst.xlsx\", index=False)"
   ]
  },
  {
   "cell_type": "code",
   "execution_count": null,
   "id": "d2f03443-15dc-476c-86db-a6ad72d3ff56",
   "metadata": {},
   "outputs": [],
   "source": []
  }
 ],
 "metadata": {
  "kernelspec": {
   "display_name": "base",
   "language": "python",
   "name": "python3"
  },
  "language_info": {
   "codemirror_mode": {
    "name": "ipython",
    "version": 3
   },
   "file_extension": ".py",
   "mimetype": "text/x-python",
   "name": "python",
   "nbconvert_exporter": "python",
   "pygments_lexer": "ipython3",
   "version": "3.9.12"
  },
  "vscode": {
   "interpreter": {
    "hash": "b3e4ceeb8545c6f77e2128b60a53d4f76e775a60f7e42e70cb0e4a6bd890691a"
   }
  }
 },
 "nbformat": 4,
 "nbformat_minor": 5
}
