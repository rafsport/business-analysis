{
 "cells": [
  {
   "cell_type": "code",
   "execution_count": 1,
   "metadata": {},
   "outputs": [],
   "source": [
    "import pandas as pd\n",
    "import os\n",
    "import numpy as np\n",
    "import datetime as dt\n",
    "\n",
    "from os import listdir\n",
    "from os.path import isfile, join\n",
    "from os.path import getmtime\n",
    "import zipfile\n",
    "\n",
    "from zebra import remov_duplicates, human_format\n",
    "from directories import *"
   ]
  },
  {
   "cell_type": "code",
   "execution_count": 2,
   "metadata": {},
   "outputs": [],
   "source": [
    "idx = pd.IndexSlice"
   ]
  },
  {
   "cell_type": "code",
   "execution_count": 3,
   "metadata": {},
   "outputs": [],
   "source": [
    "pd.set_option('display.max_rows', 200)"
   ]
  },
  {
   "attachments": {},
   "cell_type": "markdown",
   "metadata": {},
   "source": [
    "# Sources"
   ]
  },
  {
   "attachments": {},
   "cell_type": "markdown",
   "metadata": {},
   "source": [
    "## Parametriche"
   ]
  },
  {
   "cell_type": "code",
   "execution_count": 4,
   "metadata": {},
   "outputs": [],
   "source": [
    "par = {}\n",
    "for file in parametriche_files:\n",
    "    file_name=file.split(\".\")[0]\n",
    "    par[f\"{file_name}\"] = pd.read_excel(parametriche+\"\\\\\"+file)"
   ]
  },
  {
   "cell_type": "code",
   "execution_count": 5,
   "metadata": {},
   "outputs": [],
   "source": [
    "cod_prod = pd.DataFrame(par[\"Classificazione_codice_prodotto\"]).loc[:,['MDM', 'GTM BDG', 'Solution','Sub solution',\"Descrizione prodotto\",\"Codice PRODOTTO\"]].assign(**{\"Codice PRODOTTO\": lambda x: x[\"Codice PRODOTTO\"].astype(str)})\n",
    "\n",
    "sales_director = pd.DataFrame(par[\"Sales_director\"]).loc[:,[\"Sales Director\", \"Area territoriale\", \"Rete\"]].assign(**{\"Sales Director\": lambda x: x[\"Sales Director\"].str.lower()})\n",
    "\n",
    "esc_fatture = pd.DataFrame(par[\"Esclusione_fatture\"]).assign(**{\"Numero Fattura\": lambda x: x[\"Numero Fattura\"].astype(str)})\n",
    "\n",
    "esc_ordini = pd.DataFrame(par[\"Esclusione_ordini\"]).assign(**{\"Numero Ordine\": lambda x: x[\"Numero Ordine\"].astype(str)})\n",
    "\n",
    "agente_ordine = pd.DataFrame(par[\"Agente_ordine\"])\n",
    "\n",
    "li_prodotti = pd.DataFrame(par[\"Linea_prodotti\"])"
   ]
  },
  {
   "attachments": {},
   "cell_type": "markdown",
   "metadata": {},
   "source": [
    "## Parco clienti da Licenze e abbonamenti"
   ]
  },
  {
   "cell_type": "code",
   "execution_count": 6,
   "metadata": {},
   "outputs": [],
   "source": [
    "zip_file = zip_folder+r\"\\Abbonamenti attivi indiretta WK Info.ZIP\"\n",
    "\n",
    "try:\n",
    "    with zipfile.ZipFile(zip_file, 'r') as zip_ref:\n",
    "        zip_ref.extractall(abbonamenti)\n",
    "except:\n",
    "    print(\"Invalid file\")"
   ]
  },
  {
   "cell_type": "code",
   "execution_count": 7,
   "metadata": {},
   "outputs": [],
   "source": [
    "old_file = os.path.join(abbonamenti, \"ZQ_ABBO_EDIT_VAL_RINNOVO_00000.xls\")\n",
    "new_file = os.path.join(abbonamenti, \"Clienti_Indiretta WK Info.xls\")\n",
    "os.replace(old_file, new_file)"
   ]
  },
  {
   "cell_type": "code",
   "execution_count": 8,
   "metadata": {},
   "outputs": [],
   "source": [
    "zip_file = zip_folder+r\"\\Abbonamenti attivi diretta e indiretta.ZIP\"\n",
    "\n",
    "try:\n",
    "    with zipfile.ZipFile(zip_file, 'r') as zip_ref:\n",
    "        zip_ref.extractall(abbonamenti)\n",
    "except:\n",
    "    print(\"Invalid file\")"
   ]
  },
  {
   "cell_type": "code",
   "execution_count": 9,
   "metadata": {},
   "outputs": [],
   "source": [
    "old_file = os.path.join(abbonamenti, \"ZQ_ABBO_EDIT_VAL_RINNOVO_00000.xls\")\n",
    "new_file = os.path.join(abbonamenti, \"Clienti_Diretta-Indiretta.xls\")\n",
    "os.replace(old_file, new_file)"
   ]
  },
  {
   "cell_type": "code",
   "execution_count": 10,
   "metadata": {},
   "outputs": [],
   "source": [
    "zip_file = zip_folder+r\"\\Clienti merce da abbonamenti.ZIP\"\n",
    "\n",
    "try:\n",
    "    with zipfile.ZipFile(zip_file, 'r') as zip_ref:\n",
    "        zip_ref.extractall(anagrafiche)\n",
    "except:\n",
    "    print(\"Invalid file\")"
   ]
  },
  {
   "cell_type": "code",
   "execution_count": 11,
   "metadata": {},
   "outputs": [],
   "source": [
    "old_file = os.path.join(anagrafiche, \"ZQ_ABBO_EDIT_VAL_RINNOVO_00000.xls\")\n",
    "new_file = os.path.join(anagrafiche, \"Lista_clienti_merce_da_abbonamenti.xls\")\n",
    "os.replace(old_file, new_file)"
   ]
  },
  {
   "attachments": {},
   "cell_type": "markdown",
   "metadata": {},
   "source": [
    "___"
   ]
  },
  {
   "cell_type": "code",
   "execution_count": 12,
   "metadata": {},
   "outputs": [],
   "source": [
    "dfs = []\n",
    "for file in abb_files:\n",
    "    data = pd.read_excel(abbonamenti+\"\\\\\"+file, na_values=\"#\", dtype={\"Data inizio contratt\":object, \"Data Inizio Abb.\":object, \"Data Fine Abb.\":object, \"Cliente MERCE\":str, \"Cliente FATTURA\":str, \"Codice ABBONAMENTO\":str})\n",
    "    data[\"Tipo Licenza\"] = file.split(\"_\")[1].split(\".\")[0]\n",
    "    data[\"Ultimo Agg.\"] = dt.date.fromtimestamp(getmtime(abbonamenti+\"\\\\\"+file))\n",
    "    dfs.append(data)\n",
    "\n",
    "cli = pd.concat(dfs, axis=0, ignore_index=True)\n",
    "    \n",
    "for col in cli.columns:\n",
    "    if \"Data\" in col:\n",
    "        \n",
    "        cli[col] = cli[col].apply(lambda x: (float(x) - 25569) * 86400)\n",
    "        cli[col] = pd.to_datetime(cli[col], unit=\"s\")\n",
    "    else:\n",
    "        pass"
   ]
  },
  {
   "attachments": {},
   "cell_type": "markdown",
   "metadata": {},
   "source": [
    "## Parco clienti da Licenze e abbonamenti"
   ]
  },
  {
   "cell_type": "code",
   "execution_count": 13,
   "metadata": {},
   "outputs": [],
   "source": [
    "cli_merce = pd.read_excel(anagrafiche+\"\\\\\"+\"Lista_clienti_merce_da_abbonamenti.xlsb\", usecols=['Cliente MERCE', 'Segmento Aggregato Cl.Merce', 'Provincia', 'Regione', 'Cliente Padre Merce'], dtype={\"Cliente MERCE\":str})"
   ]
  },
  {
   "attachments": {},
   "cell_type": "markdown",
   "metadata": {},
   "source": [
    "## All accounts da Salesforce"
   ]
  },
  {
   "cell_type": "code",
   "execution_count": 13,
   "metadata": {},
   "outputs": [],
   "source": [
    "import win32com.client\n",
    "\n",
    "File = win32com.client.Dispatch(\"Excel.Application\")\n",
    "Workbook = File.Workbooks.Open(r\"C:\\Users\\Raffaele.Sportiello\\OneDrive - Wolters Kluwer\\Documents\\Salesforce\\Data export\\It_all_accounts.xlsb\")\n",
    "File.Visible = True\n",
    "Workbook.RefreshAll()\n",
    "File.CalculateUntilAsyncQueriesDone()\n",
    "Workbook.Save()\n",
    "Workbook.Close(SaveChanges=False)\n",
    "File.Quit()"
   ]
  },
  {
   "cell_type": "code",
   "execution_count": 24,
   "metadata": {},
   "outputs": [],
   "source": [
    "accounts_sf = pd.read_excel(r\"C:\\Users\\Raffaele.Sportiello\\OneDrive - Wolters Kluwer\\Documents\\Salesforce\\Data export\\It_all_accounts.xlsb\", sheet_name=\"Account\")"
   ]
  },
  {
   "cell_type": "code",
   "execution_count": null,
   "metadata": {},
   "outputs": [],
   "source": [
    "accounts_sf"
   ]
  },
  {
   "attachments": {},
   "cell_type": "markdown",
   "metadata": {},
   "source": [
    "## Filtri"
   ]
  },
  {
   "cell_type": "code",
   "execution_count": 14,
   "metadata": {},
   "outputs": [],
   "source": [
    "stato_abb = (cli[\"Stato Esteso\"].str.contains(\"ATTIVO\")) & (cli[\"Stato Sintetico Contratto\"].isin([\"Attivo\",\"Sospeso\"]))"
   ]
  },
  {
   "cell_type": "code",
   "execution_count": 31,
   "metadata": {},
   "outputs": [],
   "source": [
    "columns = [\"Cliente MERCE\",\"Segmento Aggregato Cl.Merce\",'Canale di VENDITA',\"Agente dell'ORDINE\", 'RSM Agente', \"Rete\", \"Area territoriale\", 'Regione', 'Provincia', 'GTM BDG', 'Solution', 'Sub solution', \"Descrizione prodotto\", \"Codice PRODOTTO\", \"Sistema\",\"Fornitura (SW)\",\"Valore PV New\"]\n",
    "\n",
    "#'Cliente MERCE', 'Segmento Aggregato Cl.Merce', 'Regione', 'Provincia','Canale di VENDITA', 'Cliente FATTURA', 'Numero Contratto Lic','Stato Sintetico Contratto', 'Data inizio contratt','Codice ABBONAMENTO', 'Unnamed: 10', 'Soluzione (SW)', 'Prodotto (SW)','Cluster (SW)', 'Sistema', 'Fornitura (SW)', \"Agente dell'Abbonamento\",'Sales Director', 'Stato Esteso', 'Data Inizio Abb.', 'Data Fine Abb.','Valore PV New', 'Tipo Licenza', 'Ultimo Agg.'\n",
    "#'MDM', 'GTM BDG', 'Solution', 'Sub solution', 'Codice PRODOTTO'\n",
    "#'Sales Director', 'Area territoriale', 'Rete'"
   ]
  },
  {
   "attachments": {},
   "cell_type": "markdown",
   "metadata": {},
   "source": [
    "## Creazione dataframe filtrato"
   ]
  },
  {
   "cell_type": "code",
   "execution_count": 32,
   "metadata": {},
   "outputs": [],
   "source": [
    "def cli_prod_saldir_ag(df_):\n",
    "\n",
    "  df = cli.loc[stato_abb, :].copy()\n",
    "  df[\"Sales Director\"] = df[\"Sales Director\"].str.lower()\n",
    "  df = df.merge(cli_merce, how=\"left\", on=\"Cliente MERCE\")\\\n",
    "    .merge(cod_prod, how=\"left\", left_on=\"Codice ABBONAMENTO\", right_on=\"Codice PRODOTTO\")\\\n",
    "    .merge(sales_director, how=\"left\", on=\"Sales Director\")\\\n",
    "    .merge(agente_ordine.loc[:,['Codice agente', \"Agente dell'ORDINE\", 'RSM Agente']], how=\"left\", left_on=\"Agente dell'Abbonamento\", right_on=\"Codice agente\")\n",
    "    \n",
    "  return df.loc[df[\"Rete\"] == \"Indiretta agenzie\", columns]\n",
    "\n",
    "#df[\"Solution\"].isin(solutions)"
   ]
  },
  {
   "cell_type": "code",
   "execution_count": 33,
   "metadata": {},
   "outputs": [],
   "source": [
    "clienti = cli.pipe(cli_prod_saldir_ag)"
   ]
  },
  {
   "cell_type": "markdown",
   "metadata": {},
   "source": [
    "### Classificazione per Sorbello"
   ]
  },
  {
   "cell_type": "code",
   "execution_count": 85,
   "metadata": {},
   "outputs": [],
   "source": [
    "selection = [\n",
    "    (clienti[\"GTM BDG\"] == \"Arkon\")|(clienti[\"GTM BDG\"] == \"SMART Skills\")|(clienti[\"GTM BDG\"] == \"WD+FS\"),\n",
    "    (clienti[\"GTM BDG\"] == \"Genya Bilancio\")|(clienti[\"GTM BDG\"] == \"Genya CFO\")|(clienti[\"GTM BDG\"] == \"Genya Suite\")|(clienti[\"GTM BDG\"] == \"Legacy Tax\")|(clienti[\"GTM BDG\"] == \"Revisya\"),\n",
    "    (clienti[\"GTM BDG\"] == \"Arca\"),\n",
    "    (clienti[\"GTM BDG\"] == \"Legacy Paghe\")]\n",
    "choices = [\"Invoicing & Archiving\", \"Tax\", \"ERP\", \"Payroll\"]\n",
    "clienti[\"Sorbello\"] =np.select(selection, choices, \"Altro\")"
   ]
  },
  {
   "cell_type": "code",
   "execution_count": 86,
   "metadata": {},
   "outputs": [
    {
     "data": {
      "text/html": [
       "<div>\n",
       "<style scoped>\n",
       "    .dataframe tbody tr th:only-of-type {\n",
       "        vertical-align: middle;\n",
       "    }\n",
       "\n",
       "    .dataframe tbody tr th {\n",
       "        vertical-align: top;\n",
       "    }\n",
       "\n",
       "    .dataframe thead th {\n",
       "        text-align: right;\n",
       "    }\n",
       "</style>\n",
       "<table border=\"1\" class=\"dataframe\">\n",
       "  <thead>\n",
       "    <tr style=\"text-align: right;\">\n",
       "      <th></th>\n",
       "      <th>N.Clienti</th>\n",
       "    </tr>\n",
       "    <tr>\n",
       "      <th>Sorbello</th>\n",
       "      <th></th>\n",
       "    </tr>\n",
       "  </thead>\n",
       "  <tbody>\n",
       "    <tr>\n",
       "      <th>Altro</th>\n",
       "      <td>583</td>\n",
       "    </tr>\n",
       "    <tr>\n",
       "      <th>ERP</th>\n",
       "      <td>10789</td>\n",
       "    </tr>\n",
       "    <tr>\n",
       "      <th>Invoicing &amp; Archiving</th>\n",
       "      <td>20063</td>\n",
       "    </tr>\n",
       "    <tr>\n",
       "      <th>Payroll</th>\n",
       "      <td>3535</td>\n",
       "    </tr>\n",
       "    <tr>\n",
       "      <th>Tax</th>\n",
       "      <td>20663</td>\n",
       "    </tr>\n",
       "  </tbody>\n",
       "</table>\n",
       "</div>"
      ],
      "text/plain": [
       "                       N.Clienti\n",
       "Sorbello                        \n",
       "Altro                        583\n",
       "ERP                        10789\n",
       "Invoicing & Archiving      20063\n",
       "Payroll                     3535\n",
       "Tax                        20663"
      ]
     },
     "execution_count": 86,
     "metadata": {},
     "output_type": "execute_result"
    }
   ],
   "source": [
    "clienti.groupby([\"Sorbello\"], dropna=False).agg({\"Cliente MERCE\":\"nunique\"}).rename(columns={\"Cliente MERCE\":\"N.Clienti\"})"
   ]
  },
  {
   "attachments": {},
   "cell_type": "markdown",
   "metadata": {},
   "source": [
    "## Modifica valore Solution per comprendere uno o più valori della Sub Solution"
   ]
  },
  {
   "cell_type": "code",
   "execution_count": 35,
   "metadata": {},
   "outputs": [],
   "source": [
    "clienti.loc[(clienti[\"Sub solution\"] == \"Tuttotel FE\"),  \"Solution\"] = \"Tuttotel FE\"\n",
    "clienti.loc[(clienti[\"Sub solution\"] == \"DIGY EC\"),  \"Solution\"] = \"DIGY EC\""
   ]
  },
  {
   "attachments": {},
   "cell_type": "markdown",
   "metadata": {},
   "source": [
    "## Creazione cluster prodotti"
   ]
  },
  {
   "cell_type": "code",
   "execution_count": 36,
   "metadata": {},
   "outputs": [],
   "source": [
    "def concat_prodotti(df_):\n",
    "    df = clienti.loc[:,[\"Solution\", \"Cliente MERCE\"]].fillna(\"Senza attribuz.\")\n",
    "    df[\"Solution\"] = pd.Categorical(df[\"Solution\"], np.sort(df[\"Solution\"].unique()))\n",
    "    df.sort_values(by=[\"Solution\"], inplace=True)\n",
    "    df[\"Prodotti\"] = df.groupby(\"Cliente MERCE\")[\"Solution\"].transform(lambda x: \" + \".join(x)).apply(lambda x: remov_duplicates(x))\n",
    "    return df[\"Prodotti\"]"
   ]
  },
  {
   "cell_type": "code",
   "execution_count": 37,
   "metadata": {},
   "outputs": [],
   "source": [
    "def pv_max(df_):\n",
    "    df = clienti.loc[:,[\"Cliente MERCE\", \"Valore PV New\"]]\n",
    "    df[\"Valore PV cliente\"] = df.groupby(\"Cliente MERCE\")[\"Valore PV New\"].transform('sum')\n",
    "    return df[\"Valore PV cliente\"]"
   ]
  },
  {
   "cell_type": "code",
   "execution_count": 38,
   "metadata": {},
   "outputs": [],
   "source": [
    "clienti = clienti.assign(Prodotti = lambda df_: df_.pipe(concat_prodotti)).assign(**{\"Valore PV cliente\": lambda df_: df_.pipe(pv_max)})\n",
    "#.assign(**{\"Codice PRODOTTO\": lambda x: x[\"Codice PRODOTTO\"].astype(str)})"
   ]
  },
  {
   "cell_type": "code",
   "execution_count": 27,
   "metadata": {},
   "outputs": [
    {
     "data": {
      "text/plain": [
       "Index(['Cliente MERCE', 'Segmento Aggregato Cl.Merce', 'Canale di VENDITA',\n",
       "       'Agente dell'ORDINE', 'Rete', 'Area territoriale', 'Regione',\n",
       "       'Provincia', 'GTM BDG', 'Solution', 'Sub solution',\n",
       "       'Descrizione prodotto', 'Codice PRODOTTO', 'Sistema', 'Fornitura (SW)',\n",
       "       'Valore PV New', 'Prodotti', 'Valore PV cliente'],\n",
       "      dtype='object')"
      ]
     },
     "execution_count": 27,
     "metadata": {},
     "output_type": "execute_result"
    }
   ],
   "source": [
    "clienti.columns"
   ]
  },
  {
   "attachments": {},
   "cell_type": "markdown",
   "metadata": {},
   "source": [
    "## Aggiunta della ragione sociale"
   ]
  },
  {
   "cell_type": "code",
   "execution_count": 39,
   "metadata": {},
   "outputs": [],
   "source": [
    "clienti[\"Codice SAP\"] = clienti[\"Cliente MERCE\"].astype(str).apply(lambda x: \"IT-\" + x.zfill(10))\n",
    "clienti = clienti.merge(accounts_sf, how=\"left\", left_on=\"Codice SAP\", right_on=\"AccountNumber\")"
   ]
  },
  {
   "attachments": {},
   "cell_type": "markdown",
   "metadata": {},
   "source": [
    "## Ultima definizione colonne"
   ]
  },
  {
   "cell_type": "code",
   "execution_count": 40,
   "metadata": {},
   "outputs": [],
   "source": [
    "clienti = clienti.loc[:,[\"Cliente MERCE\", \"Name\", \"Segmento Aggregato Cl.Merce\", \"Agente dell'ORDINE\", 'RSM Agente', \"Area territoriale\", 'Regione', 'Provincia', \"Fornitura (SW)\", \"Prodotti\", \"Sistema\", \"Solution\",\"Sub solution\", \"Valore PV New\", \"Valore PV cliente\"]].copy()\n",
    "clienti.rename(columns={\"Valore PV New\":\"Valore PV\", \"Agente dell'ORDINE\":\"Agente\", \"Name\":\"Account Name\"}, inplace=True)"
   ]
  },
  {
   "cell_type": "code",
   "execution_count": 44,
   "metadata": {},
   "outputs": [],
   "source": [
    "clienti.to_csv(r\"C:\\Users\\Raffaele.Sportiello\\OneDrive - Wolters Kluwer\\Documents\\Analisi\\xTemp\\Clienti_agenzie_20230928.csv\", index=False)"
   ]
  },
  {
   "cell_type": "code",
   "execution_count": 39,
   "metadata": {},
   "outputs": [],
   "source": [
    "clienti_gr = clienti.groupby([\"Cliente MERCE\", \"Account Name\", \"Agente\", \"Prodotti\"], dropna=False).agg({\"Valore PV\":\"sum\"}).reset_index()"
   ]
  },
  {
   "cell_type": "code",
   "execution_count": null,
   "metadata": {},
   "outputs": [],
   "source": [
    "with pd.ExcelWriter(r\"C:\\Users\\Raffaele.Sportiello\\OneDrive - Wolters Kluwer\\Documents\\Analisi clienti\\Clienti per area territoriale\\Clienti diretta\\EED e LA\\Estrazione clienti LA\\Estrazione clienti - 20230904.xlsx\") as writer:\n",
    "    clienti.to_excel(writer, sheet_name=\"Dettaglio per prod\", index=False)\n",
    "    clienti_gr.to_excel(writer, sheet_name=\"Raggr. per cli\", index=False)"
   ]
  },
  {
   "cell_type": "code",
   "execution_count": null,
   "metadata": {},
   "outputs": [],
   "source": [
    "clienti.loc[(clienti[\"Solution\"] == \"Arca Evolution\")&(clienti[\"Sub solution\"] == \"Contabilità analitica\"),:].to_excel(r\"C:\\Users\\Raffaele.Sportiello\\OneDrive - Wolters Kluwer\\Documents\\Analisi clienti\\Clienti per area territoriale\\Clienti diretta\\EED e LA\\Abbonamenti attivi\\Abbonamenti attivi - Contabilità analitica.xlsx\", index=False)"
   ]
  }
 ],
 "metadata": {
  "kernelspec": {
   "display_name": "base",
   "language": "python",
   "name": "python3"
  },
  "language_info": {
   "codemirror_mode": {
    "name": "ipython",
    "version": 3
   },
   "file_extension": ".py",
   "mimetype": "text/x-python",
   "name": "python",
   "nbconvert_exporter": "python",
   "pygments_lexer": "ipython3",
   "version": "3.9.12"
  },
  "orig_nbformat": 4,
  "vscode": {
   "interpreter": {
    "hash": "b3e4ceeb8545c6f77e2128b60a53d4f76e775a60f7e42e70cb0e4a6bd890691a"
   }
  }
 },
 "nbformat": 4,
 "nbformat_minor": 2
}
