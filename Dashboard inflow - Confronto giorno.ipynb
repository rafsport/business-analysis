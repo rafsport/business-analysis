{
 "cells": [
  {
   "cell_type": "code",
   "execution_count": 1,
   "metadata": {},
   "outputs": [],
   "source": [
    "import pandas as pd\n",
    "import datetime as dt\n",
    "import numpy as np\n",
    "import shutil\n",
    "import time\n",
    "from os import listdir\n",
    "from os.path import isfile, join\n",
    "from os.path import getmtime, getctime\n",
    "from directories import *"
   ]
  },
  {
   "cell_type": "code",
   "execution_count": 3,
   "metadata": {},
   "outputs": [
    {
     "data": {
      "text/plain": [
       "'C:\\\\Users\\\\Raffaele.Sportiello\\\\OneDrive - Wolters Kluwer\\\\Documents\\\\Dashboard inflow\\\\Dashboard inflow canali e prodotti\\\\Confronto\\\\Po\\\\inflow_prodotti_po_giornaliero.xlsx'"
      ]
     },
     "execution_count": 3,
     "metadata": {},
     "output_type": "execute_result"
    }
   ],
   "source": [
    "# Oggi\n",
    "shutil.copy(dashboard_inflow_source + r\"\\inflow_prodotti\\inflow_prodotti_ins_man.xlsx\",\n",
    "            dashboard_inflow_oggi)\n",
    "\n",
    "shutil.copy(dashboard_inflow_source + r\"\\inflow_prodotti\\inflow_prodotti_nuove_vendite_2023.xlsx\",\n",
    "            dashboard_inflow_oggi)\n",
    "\n",
    "#Ieri viene riempito con il programma \"dashboard_inflow\"\n",
    "\n",
    "# PO - Aggiungere manualmente sia \"inflow_prodotti_ins_man\" sia \"inflow_prodotti_nuove_vendite_2023_mese_corrente\"\n",
    "shutil.copy(dashboard_inflow_source + r\"\\inflow_prodotti\\inflow_prodotti_ins_man.xlsx\",\n",
    "            dashboard_inflow_po)\n",
    "shutil.copy(dashboard_inflow_source + r\"\\po_giornaliero_temp\\inflow_prodotti_po_giornaliero.xlsx\",\n",
    "            dashboard_inflow_po)\n",
    "shutil.copy(dashboard_inflow_source+f\"/po_giornaliero/inflow_prodotti_nuove_vendite_2023_mese_corrente.xlsx\",\n",
    "            dashboard_inflow_po)\n"
   ]
  },
  {
   "cell_type": "code",
   "execution_count": 2,
   "metadata": {},
   "outputs": [],
   "source": [
    "dashboard_inflow_ieri_files = [f for f in listdir(dashboard_inflow_ieri) if isfile(join(dashboard_inflow_ieri, f))]\n",
    "dashboard_inflow_oggi_files = [f for f in listdir(dashboard_inflow_oggi) if isfile(join(dashboard_inflow_oggi, f))]\n",
    "dashboard_inflow_po_files = [f for f in listdir(dashboard_inflow_po) if isfile(join(dashboard_inflow_po, f))]"
   ]
  },
  {
   "cell_type": "code",
   "execution_count": 88,
   "metadata": {},
   "outputs": [],
   "source": [
    "dfs = []\n",
    "for file in dashboard_inflow_ieri_files:\n",
    "    data = pd.read_excel(dashboard_inflow_ieri+\"\\\\\"+file, na_values=\"#\", \n",
    "                         usecols=[\"Sales Director\",\"Agente dell'ORDINE\",\"Canale di VENDITA\",\"Cliente Merce\",\"Numero Ordine\",\"Origine Ordine\",\"Data Ins. Ordine (monitoraggio)\",\"Raccolto\"])\n",
    "    data[\"Data Ultimo Agg.\"] = dt.date.fromtimestamp(getmtime(dashboard_inflow_ieri+\"\\\\\"+file))\n",
    "    #data[\"Data Creazione\"] = dt.date.fromtimestamp(getctime(dashboard_inflow_ieri+\"\\\\\"+file))\n",
    "    data[\"Folder\"] = dashboard_inflow_ieri.split(\"\\\\\")[-1]\n",
    "    dfs.append(data)\n",
    "\n",
    "ieri = pd.concat(dfs, axis=0, ignore_index=True)\n",
    "ieri = ieri.query('`Canale di VENDITA` != \"E-Commerce\"')\n",
    "\n",
    "dfs = []\n",
    "for file in dashboard_inflow_oggi_files:\n",
    "    data = pd.read_excel(dashboard_inflow_oggi+\"\\\\\"+file, na_values=\"#\",  \n",
    "                         usecols=[\"Sales Director\",\"Agente dell'ORDINE\",\"Canale di VENDITA\",\"Cliente Merce\",\"Numero Ordine\",\"Origine Ordine\",\"Data Ins. Ordine (monitoraggio)\",\"Raccolto\"])\n",
    "    data[\"Data Ultimo Agg.\"] = dt.date.fromtimestamp(getmtime(dashboard_inflow_oggi+\"\\\\\"+file))\n",
    "    data[\"Folder\"] = dashboard_inflow_oggi.split(\"\\\\\")[-1]\n",
    "    dfs.append(data)\n",
    "\n",
    "oggi = pd.concat(dfs, axis=0, ignore_index=True)\n",
    "oggi = oggi.query('`Canale di VENDITA` != \"E-Commerce\"')\n",
    "\n",
    "dfs = []\n",
    "for file in dashboard_inflow_po_files:\n",
    "    data = pd.read_excel(dashboard_inflow_po+\"\\\\\"+file, na_values=\"#\",  \n",
    "                         usecols=[\"Sales Director\",\"Agente dell'ORDINE\",\"Canale di VENDITA\",\"Cliente Merce\",\"Numero Ordine\",\"Origine Ordine\",\"Data Ins. Ordine (monitoraggio)\",\"Raccolto\"])\n",
    "    data[\"Data Ultimo Agg.\"] = dt.date.fromtimestamp(getmtime(dashboard_inflow_po+\"\\\\\"+file))\n",
    "    data[\"Folder\"] = dashboard_inflow_po.split(\"\\\\\")[-1]\n",
    "    dfs.append(data)\n",
    "\n",
    "po = pd.concat(dfs, axis=0, ignore_index=True)\n",
    "po = po.query('`Canale di VENDITA` != \"E-Commerce\"')"
   ]
  },
  {
   "cell_type": "code",
   "execution_count": 26,
   "metadata": {},
   "outputs": [],
   "source": [
    "df = pd.concat([ieri, oggi, po], axis=0, ignore_index=True)"
   ]
  },
  {
   "cell_type": "code",
   "execution_count": 101,
   "metadata": {},
   "outputs": [],
   "source": [
    "now = dt.datetime.now()\n",
    "curr_month = now.month\n",
    "current_year = now.year"
   ]
  },
  {
   "cell_type": "code",
   "execution_count": 28,
   "metadata": {},
   "outputs": [],
   "source": [
    "df = df.loc[(df[\"Data Ins. Ordine (monitoraggio)\"].dt.year == current_year) & (df[\"Data Ins. Ordine (monitoraggio)\"].dt.month == curr_month),:]"
   ]
  },
  {
   "cell_type": "code",
   "execution_count": 66,
   "metadata": {},
   "outputs": [],
   "source": [
    "df_giorno = df.groupby([df[\"Data Ins. Ordine (monitoraggio)\"],\"Folder\"], dropna=False)[\"Raccolto\"].sum().unstack(1).reset_index()\n",
    "df_giorno.fillna(0, inplace=True)\n",
    "df_giorno[\"Oggi - Ieri\"] = df_giorno[\"Oggi\"] - df_giorno[\"Ieri\"]\n",
    "df_giorno[\"Po - Oggi\"] = df_giorno[\"Po\"] - df_giorno[\"Oggi\"]\n",
    "\n",
    "\n",
    "# Calcola la somma delle colonne numeriche\n",
    "sum_row = df_giorno.select_dtypes('number').sum()\n",
    "\n",
    "# Crea un DataFrame con la riga somma\n",
    "sum_df = pd.DataFrame([sum_row], columns=df_giorno.columns)\n",
    "\n",
    "# Aggiungi la riga somma al DataFrame\n",
    "df_giorno = pd.concat([df_giorno,sum_df], axis=0, ignore_index=True)\n",
    "\n",
    "# Rinomina la riga finale con \"Totale\"\n",
    "df_giorno.iloc[-1, 0] = \"Totale\""
   ]
  },
  {
   "cell_type": "code",
   "execution_count": 70,
   "metadata": {},
   "outputs": [],
   "source": [
    "df_ordine = df.groupby([df[\"Numero Ordine\"],\"Folder\", \"Origine Ordine\", \"Sales Director\", df[\"Data Ins. Ordine (monitoraggio)\"]], dropna=False)[\"Raccolto\"].sum().unstack(1).reset_index()\n",
    "df_ordine.fillna(0, inplace=True)\n",
    "df_ordine[\"Oggi - Ieri\"] = df_ordine[\"Oggi\"] - df_ordine[\"Ieri\"]\n",
    "df_ordine[\"Po - Oggi\"] = df_ordine[\"Po\"] - df_ordine[\"Oggi\"]\n",
    "\n",
    "\n",
    "\n",
    "sum_row = df_ordine.select_dtypes('number').sum()\n",
    "sum_df = pd.DataFrame([sum_row], columns=df_giorno.columns)\n",
    "df_ordine = pd.concat([df_ordine,sum_df], axis=0, ignore_index=True)\n",
    "df_ordine.iloc[-1, 0] = \"Totale\""
   ]
  },
  {
   "cell_type": "code",
   "execution_count": 104,
   "metadata": {},
   "outputs": [],
   "source": [
    "confronti_file = dashboard_inflow_confronto + f\"\\\\confronti_{now.date()}_{now.hour}-{now.minute}.xlsx\""
   ]
  },
  {
   "cell_type": "code",
   "execution_count": 103,
   "metadata": {},
   "outputs": [],
   "source": [
    "with pd.ExcelWriter(confronti_file, datetime_format='YYYY-MM-DD') as writer:\n",
    "    df_giorno.to_excel(writer, sheet_name=\"giorno\", index=False)\n",
    "    df_ordine.to_excel(writer, sheet_name=\"ordine\", index=False)"
   ]
  },
  {
   "cell_type": "code",
   "execution_count": 72,
   "metadata": {},
   "outputs": [],
   "source": [
    "#############################################################################################################\n",
    "# Format rows\n",
    "\n",
    "import openpyxl\n",
    "\n",
    "# Apri il file Excel con openpyxl\n",
    "workbook = openpyxl.load_workbook(confronti_file)\n",
    "\n",
    "# Ottieni tutti i nomi dei worksheet nel file\n",
    "sheet_names = workbook.sheetnames\n",
    "\n",
    "# Itera su tutti i worksheet\n",
    "for worksheet in sheet_names:\n",
    "    # Ottieni il worksheet corrente\n",
    "    worksheet = workbook[worksheet]\n",
    "\n",
    "    # Cerca la riga contenente \"Totale\" e applica lo stile \"bold\"\n",
    "    for row in worksheet.iter_rows():\n",
    "        for cell in row:\n",
    "            if cell.value == 'Totale':\n",
    "                for c in row:\n",
    "                    c.font = openpyxl.styles.Font(bold=True)\n",
    "\n",
    "\n",
    "    for col in worksheet.columns:\n",
    "        for cell in col:\n",
    "            if cell.row > 1 and col[0].value != 'Data Ins. Ordine (monitoraggio)':\n",
    "                cell.number_format = '#,##0'\n",
    "\n",
    "\n",
    "# Salva il file Excel modificato\n",
    "workbook.save(confronti_file)\n",
    "\n",
    "#############################################################################################################\n",
    "# Autofit columns\n",
    "\n",
    "import win32com.client as client\n",
    "excel = client.gencache.EnsureDispatch('Excel.Application')\n",
    "wb = excel.Workbooks.Open(confronti_file)\n",
    "\n",
    "for sheet in wb.Sheets:\n",
    "      \n",
    "    ws = wb.Worksheets(sheet.Name)\n",
    "    ws.Columns.AutoFit()\n",
    "\n",
    "wb.Save()\n",
    "excel.Application.Quit()\n"
   ]
  }
 ],
 "metadata": {
  "kernelspec": {
   "display_name": "base",
   "language": "python",
   "name": "python3"
  },
  "language_info": {
   "codemirror_mode": {
    "name": "ipython",
    "version": 3
   },
   "file_extension": ".py",
   "mimetype": "text/x-python",
   "name": "python",
   "nbconvert_exporter": "python",
   "pygments_lexer": "ipython3",
   "version": "3.9.12"
  },
  "orig_nbformat": 4
 },
 "nbformat": 4,
 "nbformat_minor": 2
}
