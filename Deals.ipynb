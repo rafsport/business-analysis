{
 "cells": [
  {
   "cell_type": "code",
   "execution_count": 1,
   "id": "96091828-0cfb-431e-bb45-ac603285969f",
   "metadata": {},
   "outputs": [],
   "source": [
    "import pandas as pd\n",
    "import os\n",
    "import numpy as np\n",
    "import datetime as dt\n",
    "from os import listdir\n",
    "from os.path import isfile, join"
   ]
  },
  {
   "cell_type": "code",
   "execution_count": 2,
   "id": "10cc7aa8-a432-46ce-b354-d12f2613422f",
   "metadata": {},
   "outputs": [],
   "source": [
    "import calendar"
   ]
  },
  {
   "cell_type": "code",
   "execution_count": 3,
   "id": "ec4574ed-5651-4709-94c9-23472806bef6",
   "metadata": {},
   "outputs": [],
   "source": [
    "idx = pd.IndexSlice"
   ]
  },
  {
   "cell_type": "markdown",
   "id": "b1e59b46-4374-40b6-b69f-4c3730d6af9e",
   "metadata": {
    "tags": []
   },
   "source": [
    "---"
   ]
  },
  {
   "cell_type": "markdown",
   "id": "df55846f-29c9-4b86-80e1-a307a779a0a2",
   "metadata": {
    "tags": []
   },
   "source": [
    "# Data collection"
   ]
  },
  {
   "cell_type": "markdown",
   "id": "d030b4d6-0c74-4de2-af3d-dd2e870fa23d",
   "metadata": {
    "tags": []
   },
   "source": [
    "## Inflow"
   ]
  },
  {
   "cell_type": "code",
   "execution_count": 4,
   "id": "f9dbd61e-e9ea-4e30-92b6-9d551d720bbc",
   "metadata": {},
   "outputs": [],
   "source": [
    "inflow_prodotti = r\"C:\\Users\\Raffaele.Sportiello\\OneDrive - Wolters Kluwer\\Documents\\Dashboard inflow\\Dashboard inflow canali e prodotti\\Source\\inflow_prodotti\\\\\"\n",
    "\n",
    "onlyfiles = [f for f in listdir(r\"C:\\Users\\Raffaele.Sportiello\\OneDrive - Wolters Kluwer\\Documents\\Dashboard inflow\\Dashboard inflow canali e prodotti\\Source\\inflow_prodotti\") if isfile(join(r\"C:\\Users\\Raffaele.Sportiello\\OneDrive - Wolters Kluwer\\Documents\\Dashboard inflow\\Dashboard inflow canali e prodotti\\Source\\inflow_prodotti\", f))]\n",
    "\n",
    "df = pd.DataFrame()\n",
    "for file in onlyfiles:\n",
    "    data = pd.read_excel(inflow_prodotti+file)\n",
    "    df = df.append(data)\n",
    "    \n",
    "for col in df.select_dtypes(include=[object]).columns:\n",
    "    df[col] = df[col].astype(str)"
   ]
  },
  {
   "cell_type": "markdown",
   "id": "c0e60dc4-84fb-4c63-b85b-91532f6458af",
   "metadata": {
    "tags": []
   },
   "source": [
    "## Parametriche"
   ]
  },
  {
   "cell_type": "markdown",
   "id": "5ee89ac5-5d9c-48c4-98d4-c6c87e6e5eca",
   "metadata": {},
   "source": [
    "[Import multiple excel at once and assign to multiple dataframes](https://stackoverflow.com/questions/58563546/pandas-save-multiple-sheets-into-separate-dataframes)"
   ]
  },
  {
   "cell_type": "code",
   "execution_count": 5,
   "id": "0393f5d9-f28b-4024-8e02-57b797cd7e65",
   "metadata": {},
   "outputs": [],
   "source": [
    "parametriche = r\"C:\\Users\\Raffaele.Sportiello\\OneDrive - Wolters Kluwer\\Documents\\Dashboard inflow\\Parametriche\\\\\"\n",
    "onlyfiles = [f for f in listdir(r\"C:\\Users\\Raffaele.Sportiello\\OneDrive - Wolters Kluwer\\Documents\\Dashboard inflow\\Parametriche\") if isfile(join(r\"C:\\Users\\Raffaele.Sportiello\\OneDrive - Wolters Kluwer\\Documents\\Dashboard inflow\\Parametriche\", f))]\n",
    "\n",
    "par = {}\n",
    "for file in onlyfiles:\n",
    "    file_name=file.split(\".\")[0]\n",
    "    par[f\"{file_name}\"] = pd.read_excel(parametriche+file)"
   ]
  },
  {
   "cell_type": "code",
   "execution_count": 26,
   "id": "f099eeec-5d1f-48fc-83b5-86b0f5a7711b",
   "metadata": {},
   "outputs": [
    {
     "data": {
      "text/plain": [
       "dict_keys(['Agente_ordine', 'Area_prodotto', 'Canale_vendita', 'Classificazione_codice_prodotto', 'Classificazione_mdm', 'Clienti_inside_sales', 'Esclusione_fatture', 'Esclusione_ordini', 'Forfait', 'Giorni_lavorativi', 'Linea_prodotti', 'Sales_director'])"
      ]
     },
     "execution_count": 26,
     "metadata": {},
     "output_type": "execute_result"
    }
   ],
   "source": [
    "par.keys()"
   ]
  },
  {
   "cell_type": "markdown",
   "id": "3bc5b289-67bc-45b2-bf2f-91773e04941e",
   "metadata": {
    "tags": []
   },
   "source": [
    "## All accounts da Salesforce"
   ]
  },
  {
   "cell_type": "code",
   "execution_count": 6,
   "id": "7c18cf5f-4bc5-44b2-803d-08ba74fae69e",
   "metadata": {},
   "outputs": [],
   "source": [
    "accounts_sf = pd.read_csv(r\"C:\\Users\\Raffaele.Sportiello\\OneDrive - Wolters Kluwer\\Documents\\Salesforce\\Data export\\IT_all_accounts.csv\", encoding='latin-1', sep=\";\")"
   ]
  },
  {
   "cell_type": "markdown",
   "id": "6e1edcee-4122-425f-92d2-375e45522234",
   "metadata": {
    "tags": []
   },
   "source": [
    "---"
   ]
  },
  {
   "cell_type": "markdown",
   "id": "bf77a486-4eca-42c0-9a6e-be661208391a",
   "metadata": {
    "tags": []
   },
   "source": [
    "# Deals"
   ]
  },
  {
   "cell_type": "code",
   "execution_count": 7,
   "id": "315c3d00-94c1-4f5c-8c9b-a1db563b3457",
   "metadata": {},
   "outputs": [],
   "source": [
    "filt_rows = (df[\"Data Ins. Ordine (monitoraggio)\"].dt.year == 2022)&(df[\"Raccolto\"].notna())\n",
    "columns = [\"Cliente Merce\", \"Agente dell'ORDINE\", \"Sales Director\", \"Canale di VENDITA\", \"Codice PRODOTTO\", \"Linea Prodotti\", \"Numero Ordine\", \"Numero Fattura\", \"Data Ins. Ordine (monitoraggio)\", \"Raccolto\"]\n",
    "\n",
    "df_2022 = df.loc[filt_rows, columns].reset_index(drop=True)\n",
    "df_2022[\"Sales Director\"] = df_2022[\"Sales Director\"].str.lower()\n",
    "df_2022[\"Agente dell'ORDINE\"] = df_2022[\"Agente dell'ORDINE\"].str.lower()\n",
    "\n",
    "esc_fatture = par[\"Esclusione_fatture\"]\n",
    "esc_fatture[\"Numero Fattura\"] = esc_fatture[\"Numero Fattura\"].astype(str)\n",
    "\n",
    "esc_ordini = par[\"Esclusione_ordini\"]\n",
    "esc_ordini[\"Numero Ordine\"] = esc_ordini[\"Numero Ordine\"].astype(str)\n",
    "\n",
    "sales_director = par[\"Sales_director\"]\n",
    "sales_director[\"Sales Director\"] = sales_director.loc[:,\"Sales Director\"].str.lower()\n",
    "sales_director = sales_director[[\"Sales Director\", \"Rete\", \"Area territoriale\"]]\n",
    "\n",
    "agente = par[\"Agente_ordine\"]\n",
    "agente[\"Codice agente\"] = agente.loc[:,\"Codice agente\"].str.lower()\n",
    "\n",
    "cod_prod = par[\"Classificazione_codice_prodotto\"]\n",
    "cod_prod[\"Codice PRODOTTO\"] = cod_prod[\"Codice PRODOTTO\"].apply(lambda x: str(x))\n",
    "cod_prod = cod_prod.loc[:, ['MDM', 'GTM BDG', 'Solution','Sub solution','Descrizione prodotto',\"Codice PRODOTTO\"]]\n",
    "\n",
    "li_prodotti = par[\"Linea_prodotti\"]\n",
    "\n",
    "inflow = df_2022.merge(esc_fatture, on=\"Numero Fattura\", how=\"left\").merge(esc_ordini, on=\"Numero Ordine\", how=\"left\").merge(li_prodotti, on=\"Linea Prodotti\", how=\"left\").merge(sales_director, on=\"Sales Director\", how=\"left\").merge(agente, how=\"left\", left_on=\"Agente dell'ORDINE\", right_on=\"Codice agente\").merge(cod_prod, how=\"left\", on=\"Codice PRODOTTO\")\n",
    "\n",
    "esclusioni = (inflow[\"Canale di VENDITA\"] != \"E-Commerce\")&(inflow[\"Escludi fatture\"].isna())&(inflow[\"Escludi ordine\"].isna())\n",
    "\n",
    "inflow = inflow.loc[esclusioni, ['Data Ins. Ordine (monitoraggio)', \"Cliente Merce\", \"Numero Ordine\", \"Rete\", \"Area territoriale\", 'Sales Director', \"Agente dell'ORDINE_y\",\"RSM Agente\",'Linea', \"MDM\",\"Solution\",\"Descrizione prodotto\", 'Raccolto']].reset_index(drop=True)\n",
    "\n",
    "inflow.rename(columns={\"Data Ins. Ordine (monitoraggio)\":'Giorno', \"Agente dell'ORDINE_y\":\"Agenzia\"}, inplace=True)\n",
    "\n",
    "inflow[\"Cliente Merce\"] = inflow[\"Cliente Merce\"].astype(str).apply(lambda x: \"IT-\" + x.zfill(10))\n",
    "inflow = inflow.merge(accounts_sf, how=\"left\", left_on=\"Cliente Merce\", right_on=\"WK Account Number\")"
   ]
  },
  {
   "cell_type": "code",
   "execution_count": 12,
   "id": "02d841ce-2789-41ef-b032-3b0f41fca788",
   "metadata": {},
   "outputs": [],
   "source": [
    "filt = (inflow[\"Rete\"].str.contains(\"Indiretta\")) & (inflow[\"Giorno\"].dt.date >= dt.date(dt.datetime.now().year,dt.datetime.now().month-1, 1)) & (inflow[\"Giorno\"].dt.date <= dt.date(dt.datetime.now().year,dt.datetime.now().month-1, calendar.monthrange(dt.datetime.now().year,dt.datetime.now().month-1)[1]))\n",
    "columns = [\"Giorno\",\"Numero Ordine\",\"Cliente Merce\",\"Account Name\",\"Agenzia\",\"Area territoriale\",\"Rete\",\"Linea\",\"Solution\",\"Raccolto\"]\n",
    "\n",
    "inflow_ind = inflow.loc[filt, columns]"
   ]
  },
  {
   "cell_type": "code",
   "execution_count": 13,
   "id": "5b040cf6-b4ff-4186-86bc-c5e5a2490b09",
   "metadata": {},
   "outputs": [],
   "source": [
    "inflow_ind[\"Valore Ordine\"] = inflow_ind.groupby([\"Numero Ordine\"])[\"Raccolto\"].transform(\"sum\")"
   ]
  },
  {
   "cell_type": "code",
   "execution_count": 14,
   "id": "ba6de6cd-da75-4513-b7e8-49111c139aa1",
   "metadata": {},
   "outputs": [],
   "source": [
    "topdeals_ind = inflow_ind.groupby([\"Numero Ordine\",\"Account Name\", \"Cliente Merce\", \"Agenzia\", \"Area territoriale\",\"Solution\", inflow_ind[\"Giorno\"]]).agg({\"Raccolto\":\"sum\", \"Valore Ordine\":\"max\"}).sort_values(by=\"Valore Ordine\", ascending=False).reset_index()\n",
    "#.style.format({\"Raccolto\":\"{:,.0f}\"})"
   ]
  },
  {
   "cell_type": "code",
   "execution_count": 15,
   "id": "cd90ca0b-b26b-4a40-8aa1-1cf7da45acf1",
   "metadata": {},
   "outputs": [],
   "source": [
    "topdeals_ind.rename(columns={\"Account Name\":\"Nome cliente\", \"Cliente Merce\":\"Codice SAP\", \"Solution\":\"Prodotto\", \"Raccolto\":\"Inflow\"}, inplace=True)\n",
    "topdeals_ind = topdeals_ind.loc[topdeals_ind[\"Valore Ordine\"] > 0, :].copy()"
   ]
  },
  {
   "cell_type": "code",
   "execution_count": 18,
   "id": "a44cbca5-ab96-4aa0-816e-bd95518bed9d",
   "metadata": {},
   "outputs": [],
   "source": [
    "anno = inflow_ind[\"Giorno\"].dt.year.max()\n",
    "mese = inflow_ind[\"Giorno\"].dt.month.max()"
   ]
  },
  {
   "cell_type": "code",
   "execution_count": 27,
   "id": "dcdb0918-de49-4383-8d49-38568349597d",
   "metadata": {},
   "outputs": [],
   "source": [
    "topdeals_ipsoa_wki = topdeals_ind.loc[topdeals_ind[\"Area territoriale\"].isin([\"Rete IPSOA\", \"Rete WKI\"]), :]"
   ]
  },
  {
   "cell_type": "code",
   "execution_count": 16,
   "id": "ca9066ac-6739-43a7-9e71-b4ad0cb1efae",
   "metadata": {},
   "outputs": [],
   "source": [
    "with pd.ExcelWriter(r\"C:\\Users\\Raffaele.Sportiello\\OneDrive - Wolters Kluwer\\Documents\\Dashboard inflow\\Dashboard inflow canali e prodotti\\Speciali\\Top deals indiretta\\Top deals indiretta - {anno}{mese}.xlsx\", engine=\"openpyxl\") as writer:\n",
    "    topdeals_ipsoa_wki.to_excel(writer, sheet_name=\"topdeals_ipsoa_wki\", index=False)"
   ]
  },
  {
   "cell_type": "code",
   "execution_count": 22,
   "id": "06686a41-172e-4ac7-a4a5-d5c642613439",
   "metadata": {},
   "outputs": [
    {
     "name": "stdout",
     "output_type": "stream",
     "text": [
      "C:/Users/Raffaele.Sportiello/OneDrive - Wolters Kluwer/Documents/Dashboard inflow/Dashboard inflow canali e prodotti/Speciali/Top deals indiretta/Top deals indiretta - 20226.xlsx\n"
     ]
    }
   ],
   "source": [
    "print(f\"C:/Users/Raffaele.Sportiello/OneDrive - Wolters Kluwer/Documents/Dashboard inflow/Dashboard inflow canali e prodotti/Speciali/Top deals indiretta/Top deals indiretta - {anno}{mese}.xlsx\")"
   ]
  },
  {
   "cell_type": "code",
   "execution_count": 26,
   "id": "36448d72-81f7-4671-b5f2-111760d7a20c",
   "metadata": {},
   "outputs": [
    {
     "data": {
      "text/html": [
       "<div>\n",
       "<style scoped>\n",
       "    .dataframe tbody tr th:only-of-type {\n",
       "        vertical-align: middle;\n",
       "    }\n",
       "\n",
       "    .dataframe tbody tr th {\n",
       "        vertical-align: top;\n",
       "    }\n",
       "\n",
       "    .dataframe thead th {\n",
       "        text-align: right;\n",
       "    }\n",
       "</style>\n",
       "<table border=\"1\" class=\"dataframe\">\n",
       "  <thead>\n",
       "    <tr style=\"text-align: right;\">\n",
       "      <th></th>\n",
       "      <th>Inflow</th>\n",
       "    </tr>\n",
       "    <tr>\n",
       "      <th>Area territoriale</th>\n",
       "      <th></th>\n",
       "    </tr>\n",
       "  </thead>\n",
       "  <tbody>\n",
       "    <tr>\n",
       "      <th>Rete IPSOA</th>\n",
       "      <td>494603.31</td>\n",
       "    </tr>\n",
       "    <tr>\n",
       "      <th>Rete WKI</th>\n",
       "      <td>61333.48</td>\n",
       "    </tr>\n",
       "  </tbody>\n",
       "</table>\n",
       "</div>"
      ],
      "text/plain": [
       "                      Inflow\n",
       "Area territoriale           \n",
       "Rete IPSOA         494603.31\n",
       "Rete WKI            61333.48"
      ]
     },
     "execution_count": 26,
     "metadata": {},
     "output_type": "execute_result"
    }
   ],
   "source": [
    "topdeals_ind.loc[topdeals_ind[\"Area territoriale\"].isin([\"Rete IPSOA\", \"Rete WKI\"]), :].groupby([\"Area territoriale\"]).agg({\"Inflow\":\"sum\"})"
   ]
  },
  {
   "cell_type": "code",
   "execution_count": null,
   "id": "7227518b-af9b-4b54-9a44-f1584b8d5af9",
   "metadata": {},
   "outputs": [],
   "source": []
  }
 ],
 "metadata": {
  "kernelspec": {
   "display_name": "Python 3 (ipykernel)",
   "language": "python",
   "name": "python3"
  },
  "language_info": {
   "codemirror_mode": {
    "name": "ipython",
    "version": 3
   },
   "file_extension": ".py",
   "mimetype": "text/x-python",
   "name": "python",
   "nbconvert_exporter": "python",
   "pygments_lexer": "ipython3",
   "version": "3.9.7"
  }
 },
 "nbformat": 4,
 "nbformat_minor": 5
}
