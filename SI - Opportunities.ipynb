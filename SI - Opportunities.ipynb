{
 "cells": [
  {
   "cell_type": "code",
   "execution_count": 1,
   "id": "97594022-c84c-47a5-90f4-793801fb7175",
   "metadata": {},
   "outputs": [],
   "source": [
    "import pandas as pd\n",
    "import numpy as np\n",
    "import datetime as dt\n",
    "import re\n",
    "from os import listdir\n",
    "from os.path import isfile, join"
   ]
  },
  {
   "cell_type": "code",
   "execution_count": 2,
   "id": "0e54650f-f4a6-4944-8686-c43630c3a108",
   "metadata": {},
   "outputs": [],
   "source": [
    "import matplotlib.pyplot as plt\n",
    "import seaborn as sns"
   ]
  },
  {
   "cell_type": "code",
   "execution_count": 91,
   "id": "4ed63c3b-bee1-4c1f-84a1-5199fb72ec5e",
   "metadata": {},
   "outputs": [],
   "source": [
    "import plotly.graph_objects as go\n",
    "import plotly.offline as pyo\n",
    "from plotly.subplots import make_subplots\n",
    "import plotly.express as px"
   ]
  },
  {
   "cell_type": "code",
   "execution_count": 2,
   "id": "10cc7aa8-a432-46ce-b354-d12f2613422f",
   "metadata": {},
   "outputs": [],
   "source": [
    "import calendar"
   ]
  },
  {
   "cell_type": "code",
   "execution_count": 3,
   "id": "de7dab21-e879-487b-a788-108fd4729ee6",
   "metadata": {},
   "outputs": [],
   "source": [
    "idx = pd.IndexSlice"
   ]
  },
  {
   "cell_type": "markdown",
   "id": "a482216f-8948-4899-b02a-f23a3db170a3",
   "metadata": {},
   "source": [
    "***"
   ]
  },
  {
   "cell_type": "markdown",
   "id": "493beea7-39e4-4750-9585-7d6dfb18ca3f",
   "metadata": {
    "tags": []
   },
   "source": [
    "<a id='opportunities_infos'></a>\n",
    "# Data collection"
   ]
  },
  {
   "cell_type": "code",
   "execution_count": 28,
   "id": "8f0e5df7-eb90-45a6-912b-b9dde7f86f80",
   "metadata": {},
   "outputs": [],
   "source": [
    "op_infos = pd.read_csv(r\"C:\\Users\\Raffaele.Sportiello\\OneDrive - Wolters Kluwer\\Documents\\Salesforce\\Data export\\IT_Opp_by_Created_Date.csv\", encoding='latin-1', sep=\";\")"
   ]
  },
  {
   "cell_type": "code",
   "execution_count": 29,
   "id": "e76c2643-b07e-4906-be38-7833df25ea4c",
   "metadata": {},
   "outputs": [],
   "source": [
    "for col in op_infos.columns:\n",
    "    if \"Date\" in col:\n",
    "        op_infos[col] = op_infos[col].astype(str)\n",
    "        op_infos[col] = pd.to_datetime(op_infos[col], format=\"%d/%m/%Y\")\n",
    "    else:\n",
    "        pass\n",
    "\n",
    "\n",
    "columns = [c for c in op_infos.columns if not \"Currency\" in c]\n",
    "op_infos = op_infos.loc[:,columns]\n",
    "\n",
    "num = []\n",
    "\n",
    "for col in op_infos.columns:\n",
    "    if \"Amount\" in col:\n",
    "        num.append(col)\n",
    "    else:\n",
    "        pass\n",
    "    \n",
    "op_infos[num] = op_infos[num].apply(lambda x: x.str.replace(\",\",\".\", regex=False)).astype(float)"
   ]
  },
  {
   "cell_type": "code",
   "execution_count": 30,
   "id": "9d4f7827-4685-44a4-9278-224f39c02f33",
   "metadata": {},
   "outputs": [],
   "source": [
    "op_infos[\"Stage Duration\"] = op_infos[\"Stage Duration\"].apply(lambda x: x.replace(\",\",\".\")).astype(float)\n",
    "op_infos[\"Age\"] = op_infos[\"Age\"].apply(lambda x: x.replace(\",\",\".\")).astype(float)"
   ]
  },
  {
   "cell_type": "code",
   "execution_count": 31,
   "id": "f211fe95-3da5-4807-be30-f0f4b7fc16a7",
   "metadata": {},
   "outputs": [],
   "source": [
    "op_infos[\"Stage cat\"] = pd.Categorical(op_infos[\"Stage\"], [\"Qualification\",\"Needs Analysis\",\"Solution Presentation / Demo\", \"Proposal\", \"Negotiation\",\"Closed Won\", \"Closed Lost\"])"
   ]
  },
  {
   "cell_type": "code",
   "execution_count": 32,
   "id": "92e15e15-d638-4e91-be89-a55ce92b44a5",
   "metadata": {},
   "outputs": [
    {
     "name": "stdout",
     "output_type": "stream",
     "text": [
      "<class 'pandas.core.frame.DataFrame'>\n",
      "RangeIndex: 21237 entries, 0 to 21236\n",
      "Data columns (total 21 columns):\n",
      " #   Column                   Non-Null Count  Dtype         \n",
      "---  ------                   --------------  -----         \n",
      " 0   Owner Role               21200 non-null  object        \n",
      " 1   Opportunity Owner        21237 non-null  object        \n",
      " 2   Account Name             21237 non-null  object        \n",
      " 3   Type                     20720 non-null  object        \n",
      " 4   Opportunity ID           21237 non-null  object        \n",
      " 5   Opportunity Name         21237 non-null  object        \n",
      " 6   Stage                    21237 non-null  object        \n",
      " 7   Stage Duration           21237 non-null  float64       \n",
      " 8   Subscription Amount      21228 non-null  float64       \n",
      " 9   Non-Subscription Amount  21167 non-null  float64       \n",
      " 10  Incremental Amount       20233 non-null  float64       \n",
      " 11  weighted amount          21237 non-null  object        \n",
      " 12  Probability (%)          21237 non-null  int64         \n",
      " 13  Created Date             21237 non-null  datetime64[ns]\n",
      " 14  Close Date               21237 non-null  datetime64[ns]\n",
      " 15  Age                      21237 non-null  float64       \n",
      " 16  Original Close Date      6 non-null      datetime64[ns]\n",
      " 17  Last Stage Change Date   20324 non-null  datetime64[ns]\n",
      " 18  Last Modified Date       21237 non-null  datetime64[ns]\n",
      " 19  Lead Source              1341 non-null   object        \n",
      " 20  Stage cat                20887 non-null  category      \n",
      "dtypes: category(1), datetime64[ns](5), float64(5), int64(1), object(9)\n",
      "memory usage: 3.3+ MB\n"
     ]
    }
   ],
   "source": [
    "op_infos.info()"
   ]
  },
  {
   "cell_type": "code",
   "execution_count": 34,
   "id": "9ea29379-0738-4707-9932-e6a62a23b905",
   "metadata": {},
   "outputs": [
    {
     "data": {
      "text/plain": [
       "array(['IT Agency and Reseller', 'IT Large Account Sales Team',\n",
       "       'IT North West Sales Team', 'IT Large Accounts',\n",
       "       'IT Enterprise Specialists Sales Team', 'IT North East Sales Team',\n",
       "       'IT Central & South Sales Team', 'IT', 'IT FS Consultant',\n",
       "       'IT Central & South Manager', 'IT Agency and Reseller Sales Team',\n",
       "       nan, 'IT North West Manager', 'FREDDI MATTEO Partner Manager',\n",
       "       'ROCCHI CLAUDIO Partner User', 'TREGNAGHI ENRICO Partner Manager'],\n",
       "      dtype=object)"
      ]
     },
     "execution_count": 34,
     "metadata": {},
     "output_type": "execute_result"
    }
   ],
   "source": [
    "op_infos[\"Owner Role\"].unique()"
   ]
  },
  {
   "cell_type": "code",
   "execution_count": 36,
   "id": "686fdcd8-357d-42b9-bef0-8cc159a4d918",
   "metadata": {},
   "outputs": [
    {
     "data": {
      "text/html": [
       "<div>\n",
       "<style scoped>\n",
       "    .dataframe tbody tr th:only-of-type {\n",
       "        vertical-align: middle;\n",
       "    }\n",
       "\n",
       "    .dataframe tbody tr th {\n",
       "        vertical-align: top;\n",
       "    }\n",
       "\n",
       "    .dataframe thead th {\n",
       "        text-align: right;\n",
       "    }\n",
       "</style>\n",
       "<table border=\"1\" class=\"dataframe\">\n",
       "  <thead>\n",
       "    <tr style=\"text-align: right;\">\n",
       "      <th></th>\n",
       "      <th>Owner Role</th>\n",
       "      <th>Opportunity Owner</th>\n",
       "      <th>Account Name</th>\n",
       "      <th>Type</th>\n",
       "      <th>Opportunity ID</th>\n",
       "      <th>Opportunity Name</th>\n",
       "      <th>Stage</th>\n",
       "      <th>Stage Duration</th>\n",
       "      <th>Subscription Amount</th>\n",
       "      <th>Non-Subscription Amount</th>\n",
       "      <th>...</th>\n",
       "      <th>weighted amount</th>\n",
       "      <th>Probability (%)</th>\n",
       "      <th>Created Date</th>\n",
       "      <th>Close Date</th>\n",
       "      <th>Age</th>\n",
       "      <th>Original Close Date</th>\n",
       "      <th>Last Stage Change Date</th>\n",
       "      <th>Last Modified Date</th>\n",
       "      <th>Lead Source</th>\n",
       "      <th>Stage cat</th>\n",
       "    </tr>\n",
       "  </thead>\n",
       "  <tbody>\n",
       "    <tr>\n",
       "      <th>1587</th>\n",
       "      <td>IT Agency and Reseller Sales Team</td>\n",
       "      <td>Francesca Panetta</td>\n",
       "      <td>F&amp;F Gestioni srl</td>\n",
       "      <td>Existing Business</td>\n",
       "      <td>00607000001t4zO</td>\n",
       "      <td>F&amp;F Gestioni srl-</td>\n",
       "      <td>Closed Lost</td>\n",
       "      <td>286.0</td>\n",
       "      <td>3200.0</td>\n",
       "      <td>0.0</td>\n",
       "      <td>...</td>\n",
       "      <td>0,00</td>\n",
       "      <td>0</td>\n",
       "      <td>2020-11-10</td>\n",
       "      <td>2021-09-28</td>\n",
       "      <td>322.0</td>\n",
       "      <td>NaT</td>\n",
       "      <td>2021-09-28</td>\n",
       "      <td>2021-09-28</td>\n",
       "      <td>Web forms</td>\n",
       "      <td>Closed Lost</td>\n",
       "    </tr>\n",
       "    <tr>\n",
       "      <th>1801</th>\n",
       "      <td>IT Agency and Reseller Sales Team</td>\n",
       "      <td>Elisa Rigo</td>\n",
       "      <td>Lcs impianti sicurezza</td>\n",
       "      <td>New Business</td>\n",
       "      <td>00607000001t3ML</td>\n",
       "      <td>Lcs impianti sicurezza-</td>\n",
       "      <td>Closed Lost</td>\n",
       "      <td>439.0</td>\n",
       "      <td>3000.0</td>\n",
       "      <td>0.0</td>\n",
       "      <td>...</td>\n",
       "      <td>0,00</td>\n",
       "      <td>0</td>\n",
       "      <td>2020-11-04</td>\n",
       "      <td>2021-04-28</td>\n",
       "      <td>175.0</td>\n",
       "      <td>NaT</td>\n",
       "      <td>2021-04-28</td>\n",
       "      <td>2021-04-28</td>\n",
       "      <td>NaN</td>\n",
       "      <td>Closed Lost</td>\n",
       "    </tr>\n",
       "    <tr>\n",
       "      <th>6590</th>\n",
       "      <td>IT Agency and Reseller Sales Team</td>\n",
       "      <td>Elisa Rigo</td>\n",
       "      <td>Cecire Patrizio</td>\n",
       "      <td>New Business</td>\n",
       "      <td>00607000001t30Z</td>\n",
       "      <td>Cecire Patrizio-</td>\n",
       "      <td>Closed Lost</td>\n",
       "      <td>439.0</td>\n",
       "      <td>750.0</td>\n",
       "      <td>0.0</td>\n",
       "      <td>...</td>\n",
       "      <td>0,00</td>\n",
       "      <td>0</td>\n",
       "      <td>2020-11-03</td>\n",
       "      <td>2021-04-28</td>\n",
       "      <td>176.0</td>\n",
       "      <td>NaT</td>\n",
       "      <td>2021-04-28</td>\n",
       "      <td>2021-04-28</td>\n",
       "      <td>Web forms</td>\n",
       "      <td>Closed Lost</td>\n",
       "    </tr>\n",
       "    <tr>\n",
       "      <th>6611</th>\n",
       "      <td>IT Agency and Reseller Sales Team</td>\n",
       "      <td>Elisa Rigo</td>\n",
       "      <td>ALFA LAVAL SPA</td>\n",
       "      <td>New Business</td>\n",
       "      <td>00607000001t3Ha</td>\n",
       "      <td>Alfa Laval Spa-</td>\n",
       "      <td>Closed Lost</td>\n",
       "      <td>439.0</td>\n",
       "      <td>750.0</td>\n",
       "      <td>0.0</td>\n",
       "      <td>...</td>\n",
       "      <td>0,00</td>\n",
       "      <td>0</td>\n",
       "      <td>2020-11-04</td>\n",
       "      <td>2021-04-28</td>\n",
       "      <td>175.0</td>\n",
       "      <td>NaT</td>\n",
       "      <td>2021-04-28</td>\n",
       "      <td>2021-04-28</td>\n",
       "      <td>Marketing Automation</td>\n",
       "      <td>Closed Lost</td>\n",
       "    </tr>\n",
       "    <tr>\n",
       "      <th>19930</th>\n",
       "      <td>IT Agency and Reseller Sales Team</td>\n",
       "      <td>Elisa Rigo</td>\n",
       "      <td>Moreno Moto di Franzoni Moreno</td>\n",
       "      <td>New Business</td>\n",
       "      <td>00607000001t57I</td>\n",
       "      <td>Moreno Moto di Franzoni Moreno-</td>\n",
       "      <td>Closed Lost</td>\n",
       "      <td>434.0</td>\n",
       "      <td>0.0</td>\n",
       "      <td>0.0</td>\n",
       "      <td>...</td>\n",
       "      <td>0,00</td>\n",
       "      <td>0</td>\n",
       "      <td>2020-11-11</td>\n",
       "      <td>2021-05-03</td>\n",
       "      <td>173.0</td>\n",
       "      <td>NaT</td>\n",
       "      <td>2021-05-03</td>\n",
       "      <td>2021-05-03</td>\n",
       "      <td>Marketing Automation</td>\n",
       "      <td>Closed Lost</td>\n",
       "    </tr>\n",
       "    <tr>\n",
       "      <th>20617</th>\n",
       "      <td>IT Agency and Reseller Sales Team</td>\n",
       "      <td>Elisa Rigo</td>\n",
       "      <td>Modulus srls</td>\n",
       "      <td>New Business</td>\n",
       "      <td>00607000001t3xR</td>\n",
       "      <td>Modulus srls-</td>\n",
       "      <td>Closed Lost</td>\n",
       "      <td>434.0</td>\n",
       "      <td>0.0</td>\n",
       "      <td>0.0</td>\n",
       "      <td>...</td>\n",
       "      <td>0,00</td>\n",
       "      <td>0</td>\n",
       "      <td>2020-11-06</td>\n",
       "      <td>2021-05-03</td>\n",
       "      <td>178.0</td>\n",
       "      <td>NaT</td>\n",
       "      <td>2021-05-03</td>\n",
       "      <td>2021-07-23</td>\n",
       "      <td>Marketing Automation</td>\n",
       "      <td>Closed Lost</td>\n",
       "    </tr>\n",
       "    <tr>\n",
       "      <th>21051</th>\n",
       "      <td>IT Agency and Reseller Sales Team</td>\n",
       "      <td>Francesco Florio</td>\n",
       "      <td>IPSODEA SRL</td>\n",
       "      <td>NaN</td>\n",
       "      <td>00607000001ukdd</td>\n",
       "      <td>STUDIO LUMIA-</td>\n",
       "      <td>Qualification</td>\n",
       "      <td>278.0</td>\n",
       "      <td>0.0</td>\n",
       "      <td>0.0</td>\n",
       "      <td>...</td>\n",
       "      <td>0,00</td>\n",
       "      <td>10</td>\n",
       "      <td>2021-10-06</td>\n",
       "      <td>2021-12-31</td>\n",
       "      <td>278.0</td>\n",
       "      <td>NaT</td>\n",
       "      <td>NaT</td>\n",
       "      <td>2021-10-06</td>\n",
       "      <td>Marketing Automation</td>\n",
       "      <td>Qualification</td>\n",
       "    </tr>\n",
       "  </tbody>\n",
       "</table>\n",
       "<p>7 rows × 21 columns</p>\n",
       "</div>"
      ],
      "text/plain": [
       "                              Owner Role  Opportunity Owner  \\\n",
       "1587   IT Agency and Reseller Sales Team  Francesca Panetta   \n",
       "1801   IT Agency and Reseller Sales Team         Elisa Rigo   \n",
       "6590   IT Agency and Reseller Sales Team         Elisa Rigo   \n",
       "6611   IT Agency and Reseller Sales Team         Elisa Rigo   \n",
       "19930  IT Agency and Reseller Sales Team         Elisa Rigo   \n",
       "20617  IT Agency and Reseller Sales Team         Elisa Rigo   \n",
       "21051  IT Agency and Reseller Sales Team   Francesco Florio   \n",
       "\n",
       "                         Account Name               Type   Opportunity ID  \\\n",
       "1587                 F&F Gestioni srl  Existing Business  00607000001t4zO   \n",
       "1801           Lcs impianti sicurezza       New Business  00607000001t3ML   \n",
       "6590                  Cecire Patrizio       New Business  00607000001t30Z   \n",
       "6611                   ALFA LAVAL SPA       New Business  00607000001t3Ha   \n",
       "19930  Moreno Moto di Franzoni Moreno       New Business  00607000001t57I   \n",
       "20617                    Modulus srls       New Business  00607000001t3xR   \n",
       "21051                     IPSODEA SRL                NaN  00607000001ukdd   \n",
       "\n",
       "                      Opportunity Name          Stage  Stage Duration  \\\n",
       "1587                 F&F Gestioni srl-    Closed Lost           286.0   \n",
       "1801           Lcs impianti sicurezza-    Closed Lost           439.0   \n",
       "6590                  Cecire Patrizio-    Closed Lost           439.0   \n",
       "6611                   Alfa Laval Spa-    Closed Lost           439.0   \n",
       "19930  Moreno Moto di Franzoni Moreno-    Closed Lost           434.0   \n",
       "20617                    Modulus srls-    Closed Lost           434.0   \n",
       "21051                    STUDIO LUMIA-  Qualification           278.0   \n",
       "\n",
       "       Subscription Amount  Non-Subscription Amount  ...  weighted amount  \\\n",
       "1587                3200.0                      0.0  ...             0,00   \n",
       "1801                3000.0                      0.0  ...             0,00   \n",
       "6590                 750.0                      0.0  ...             0,00   \n",
       "6611                 750.0                      0.0  ...             0,00   \n",
       "19930                  0.0                      0.0  ...             0,00   \n",
       "20617                  0.0                      0.0  ...             0,00   \n",
       "21051                  0.0                      0.0  ...             0,00   \n",
       "\n",
       "      Probability (%)  Created Date Close Date    Age  Original Close Date  \\\n",
       "1587                0    2020-11-10 2021-09-28  322.0                  NaT   \n",
       "1801                0    2020-11-04 2021-04-28  175.0                  NaT   \n",
       "6590                0    2020-11-03 2021-04-28  176.0                  NaT   \n",
       "6611                0    2020-11-04 2021-04-28  175.0                  NaT   \n",
       "19930               0    2020-11-11 2021-05-03  173.0                  NaT   \n",
       "20617               0    2020-11-06 2021-05-03  178.0                  NaT   \n",
       "21051              10    2021-10-06 2021-12-31  278.0                  NaT   \n",
       "\n",
       "      Last Stage Change Date Last Modified Date           Lead Source  \\\n",
       "1587              2021-09-28         2021-09-28             Web forms   \n",
       "1801              2021-04-28         2021-04-28                   NaN   \n",
       "6590              2021-04-28         2021-04-28             Web forms   \n",
       "6611              2021-04-28         2021-04-28  Marketing Automation   \n",
       "19930             2021-05-03         2021-05-03  Marketing Automation   \n",
       "20617             2021-05-03         2021-07-23  Marketing Automation   \n",
       "21051                    NaT         2021-10-06  Marketing Automation   \n",
       "\n",
       "           Stage cat  \n",
       "1587     Closed Lost  \n",
       "1801     Closed Lost  \n",
       "6590     Closed Lost  \n",
       "6611     Closed Lost  \n",
       "19930    Closed Lost  \n",
       "20617    Closed Lost  \n",
       "21051  Qualification  \n",
       "\n",
       "[7 rows x 21 columns]"
      ]
     },
     "execution_count": 36,
     "metadata": {},
     "output_type": "execute_result"
    }
   ],
   "source": [
    "op_infos.loc[op_infos[\"Owner Role\"].isin([\"IT Agency and Reseller Sales Team\"]),:]"
   ]
  },
  {
   "cell_type": "markdown",
   "id": "24ac679d-b08d-4da3-9548-f934a7a10373",
   "metadata": {},
   "source": [
    "***"
   ]
  },
  {
   "cell_type": "markdown",
   "id": "f26c34fa-d896-46c4-b473-7507cb0bd985",
   "metadata": {
    "tags": []
   },
   "source": [
    "<a id='opportunities_infos'></a>\n",
    "# Analisi per stage"
   ]
  },
  {
   "cell_type": "code",
   "execution_count": 37,
   "id": "bbb374f4-c172-4ee4-bd45-98fceabe711e",
   "metadata": {
    "tags": []
   },
   "outputs": [],
   "source": [
    "owner_role = ['IT North West Sales Team', 'IT North East Sales Team', 'IT Enterprise Specialists Sales Team', 'IT Central & South Sales Team', 'IT Large Account Sales Team','IT Agency and Reseller']\n",
    "filt = op_infos[\"Owner Role\"].isin(owner_role)\n",
    "\n",
    "op_infos_sintesi = op_infos.loc[filt,:].sort_values(['Stage cat']).groupby([\"Stage cat\", \"Owner Role\"]).agg({\"Stage Duration\":\"mean\", \"Age\":\"mean\", \"Opportunity Name\":\"count\", \"Incremental Amount\":\"sum\"}).rename(columns={\"Opportunity Name\":\"N. Opportunità\"}).unstack(level=1)"
   ]
  },
  {
   "cell_type": "code",
   "execution_count": 70,
   "id": "fb9e87c7-f31c-4030-8b7c-d985ec129e21",
   "metadata": {},
   "outputs": [
    {
     "data": {
      "text/html": [
       "<div>\n",
       "<style scoped>\n",
       "    .dataframe tbody tr th:only-of-type {\n",
       "        vertical-align: middle;\n",
       "    }\n",
       "\n",
       "    .dataframe tbody tr th {\n",
       "        vertical-align: top;\n",
       "    }\n",
       "\n",
       "    .dataframe thead tr th {\n",
       "        text-align: left;\n",
       "    }\n",
       "\n",
       "    .dataframe thead tr:last-of-type th {\n",
       "        text-align: right;\n",
       "    }\n",
       "</style>\n",
       "<table border=\"1\" class=\"dataframe\">\n",
       "  <thead>\n",
       "    <tr>\n",
       "      <th></th>\n",
       "      <th colspan=\"5\" halign=\"left\">Stage Duration</th>\n",
       "      <th colspan=\"5\" halign=\"left\">Age</th>\n",
       "      <th colspan=\"5\" halign=\"left\">N. Opportunità</th>\n",
       "      <th colspan=\"5\" halign=\"left\">Incremental Amount</th>\n",
       "    </tr>\n",
       "    <tr>\n",
       "      <th>Owner Role</th>\n",
       "      <th>IT Central &amp; South Sales Team</th>\n",
       "      <th>IT Enterprise Specialists Sales Team</th>\n",
       "      <th>IT Large Account Sales Team</th>\n",
       "      <th>IT North East Sales Team</th>\n",
       "      <th>IT North West Sales Team</th>\n",
       "      <th>IT Central &amp; South Sales Team</th>\n",
       "      <th>IT Enterprise Specialists Sales Team</th>\n",
       "      <th>IT Large Account Sales Team</th>\n",
       "      <th>IT North East Sales Team</th>\n",
       "      <th>IT North West Sales Team</th>\n",
       "      <th>IT Central &amp; South Sales Team</th>\n",
       "      <th>IT Enterprise Specialists Sales Team</th>\n",
       "      <th>IT Large Account Sales Team</th>\n",
       "      <th>IT North East Sales Team</th>\n",
       "      <th>IT North West Sales Team</th>\n",
       "      <th>IT Central &amp; South Sales Team</th>\n",
       "      <th>IT Enterprise Specialists Sales Team</th>\n",
       "      <th>IT Large Account Sales Team</th>\n",
       "      <th>IT North East Sales Team</th>\n",
       "      <th>IT North West Sales Team</th>\n",
       "    </tr>\n",
       "    <tr>\n",
       "      <th>Stage cat</th>\n",
       "      <th></th>\n",
       "      <th></th>\n",
       "      <th></th>\n",
       "      <th></th>\n",
       "      <th></th>\n",
       "      <th></th>\n",
       "      <th></th>\n",
       "      <th></th>\n",
       "      <th></th>\n",
       "      <th></th>\n",
       "      <th></th>\n",
       "      <th></th>\n",
       "      <th></th>\n",
       "      <th></th>\n",
       "      <th></th>\n",
       "      <th></th>\n",
       "      <th></th>\n",
       "      <th></th>\n",
       "      <th></th>\n",
       "      <th></th>\n",
       "    </tr>\n",
       "  </thead>\n",
       "  <tbody>\n",
       "    <tr>\n",
       "      <th>Qualification</th>\n",
       "      <td>137.517730</td>\n",
       "      <td>52.735294</td>\n",
       "      <td>179.947368</td>\n",
       "      <td>120.000000</td>\n",
       "      <td>117.605556</td>\n",
       "      <td>140.773050</td>\n",
       "      <td>57.220588</td>\n",
       "      <td>190.473684</td>\n",
       "      <td>126.163793</td>\n",
       "      <td>119.644444</td>\n",
       "      <td>282</td>\n",
       "      <td>68</td>\n",
       "      <td>19</td>\n",
       "      <td>116</td>\n",
       "      <td>180</td>\n",
       "      <td>80915.00</td>\n",
       "      <td>6045.00</td>\n",
       "      <td>590000.00</td>\n",
       "      <td>39180.00</td>\n",
       "      <td>46089.33</td>\n",
       "    </tr>\n",
       "    <tr>\n",
       "      <th>Needs Analysis</th>\n",
       "      <td>6.000000</td>\n",
       "      <td>3.500000</td>\n",
       "      <td>234.000000</td>\n",
       "      <td>1.000000</td>\n",
       "      <td>6.250000</td>\n",
       "      <td>6.000000</td>\n",
       "      <td>3.500000</td>\n",
       "      <td>237.500000</td>\n",
       "      <td>1.000000</td>\n",
       "      <td>39.500000</td>\n",
       "      <td>2</td>\n",
       "      <td>2</td>\n",
       "      <td>2</td>\n",
       "      <td>1</td>\n",
       "      <td>4</td>\n",
       "      <td>2180.00</td>\n",
       "      <td>550.00</td>\n",
       "      <td>150350.00</td>\n",
       "      <td>780.00</td>\n",
       "      <td>17175.00</td>\n",
       "    </tr>\n",
       "    <tr>\n",
       "      <th>Solution Presentation / Demo</th>\n",
       "      <td>179.065657</td>\n",
       "      <td>116.344262</td>\n",
       "      <td>204.500000</td>\n",
       "      <td>100.731959</td>\n",
       "      <td>127.942308</td>\n",
       "      <td>196.080808</td>\n",
       "      <td>128.147541</td>\n",
       "      <td>204.500000</td>\n",
       "      <td>112.010309</td>\n",
       "      <td>142.666667</td>\n",
       "      <td>198</td>\n",
       "      <td>61</td>\n",
       "      <td>2</td>\n",
       "      <td>194</td>\n",
       "      <td>156</td>\n",
       "      <td>475680.00</td>\n",
       "      <td>135775.00</td>\n",
       "      <td>65000.00</td>\n",
       "      <td>266885.01</td>\n",
       "      <td>197709.44</td>\n",
       "    </tr>\n",
       "    <tr>\n",
       "      <th>Proposal</th>\n",
       "      <td>168.410138</td>\n",
       "      <td>96.631579</td>\n",
       "      <td>449.666667</td>\n",
       "      <td>120.700787</td>\n",
       "      <td>133.491003</td>\n",
       "      <td>174.751152</td>\n",
       "      <td>116.236842</td>\n",
       "      <td>449.666667</td>\n",
       "      <td>129.055118</td>\n",
       "      <td>144.791774</td>\n",
       "      <td>217</td>\n",
       "      <td>38</td>\n",
       "      <td>3</td>\n",
       "      <td>381</td>\n",
       "      <td>389</td>\n",
       "      <td>152570.00</td>\n",
       "      <td>71147.00</td>\n",
       "      <td>115160.00</td>\n",
       "      <td>342570.24</td>\n",
       "      <td>337888.83</td>\n",
       "    </tr>\n",
       "    <tr>\n",
       "      <th>Negotiation</th>\n",
       "      <td>210.789474</td>\n",
       "      <td>90.157895</td>\n",
       "      <td>NaN</td>\n",
       "      <td>51.642857</td>\n",
       "      <td>75.205882</td>\n",
       "      <td>228.421053</td>\n",
       "      <td>96.473684</td>\n",
       "      <td>NaN</td>\n",
       "      <td>77.500000</td>\n",
       "      <td>91.470588</td>\n",
       "      <td>19</td>\n",
       "      <td>38</td>\n",
       "      <td>0</td>\n",
       "      <td>14</td>\n",
       "      <td>34</td>\n",
       "      <td>31830.00</td>\n",
       "      <td>121890.50</td>\n",
       "      <td>0.00</td>\n",
       "      <td>10760.00</td>\n",
       "      <td>38253.83</td>\n",
       "    </tr>\n",
       "    <tr>\n",
       "      <th>Closed Won</th>\n",
       "      <td>246.374014</td>\n",
       "      <td>259.387036</td>\n",
       "      <td>297.550847</td>\n",
       "      <td>231.944994</td>\n",
       "      <td>238.511597</td>\n",
       "      <td>15.343296</td>\n",
       "      <td>10.712398</td>\n",
       "      <td>24.355932</td>\n",
       "      <td>12.776933</td>\n",
       "      <td>12.291262</td>\n",
       "      <td>2409</td>\n",
       "      <td>1589</td>\n",
       "      <td>118</td>\n",
       "      <td>3945</td>\n",
       "      <td>3708</td>\n",
       "      <td>2089028.54</td>\n",
       "      <td>2496904.56</td>\n",
       "      <td>1414005.04</td>\n",
       "      <td>2682619.13</td>\n",
       "      <td>2917551.41</td>\n",
       "    </tr>\n",
       "    <tr>\n",
       "      <th>Closed Lost</th>\n",
       "      <td>225.249370</td>\n",
       "      <td>212.605941</td>\n",
       "      <td>254.057692</td>\n",
       "      <td>221.704671</td>\n",
       "      <td>207.590371</td>\n",
       "      <td>95.171285</td>\n",
       "      <td>87.384158</td>\n",
       "      <td>79.557692</td>\n",
       "      <td>86.459224</td>\n",
       "      <td>93.584846</td>\n",
       "      <td>397</td>\n",
       "      <td>505</td>\n",
       "      <td>52</td>\n",
       "      <td>1263</td>\n",
       "      <td>1267</td>\n",
       "      <td>553536.79</td>\n",
       "      <td>633822.76</td>\n",
       "      <td>633673.00</td>\n",
       "      <td>1011730.57</td>\n",
       "      <td>1194990.91</td>\n",
       "    </tr>\n",
       "  </tbody>\n",
       "</table>\n",
       "</div>"
      ],
      "text/plain": [
       "                                            Stage Duration  \\\n",
       "Owner Role                   IT Central & South Sales Team   \n",
       "Stage cat                                                    \n",
       "Qualification                                   137.517730   \n",
       "Needs Analysis                                    6.000000   \n",
       "Solution Presentation / Demo                    179.065657   \n",
       "Proposal                                        168.410138   \n",
       "Negotiation                                     210.789474   \n",
       "Closed Won                                      246.374014   \n",
       "Closed Lost                                     225.249370   \n",
       "\n",
       "                                                                   \\\n",
       "Owner Role                   IT Enterprise Specialists Sales Team   \n",
       "Stage cat                                                           \n",
       "Qualification                                           52.735294   \n",
       "Needs Analysis                                           3.500000   \n",
       "Solution Presentation / Demo                           116.344262   \n",
       "Proposal                                                96.631579   \n",
       "Negotiation                                             90.157895   \n",
       "Closed Won                                             259.387036   \n",
       "Closed Lost                                            212.605941   \n",
       "\n",
       "                                                          \\\n",
       "Owner Role                   IT Large Account Sales Team   \n",
       "Stage cat                                                  \n",
       "Qualification                                 179.947368   \n",
       "Needs Analysis                                234.000000   \n",
       "Solution Presentation / Demo                  204.500000   \n",
       "Proposal                                      449.666667   \n",
       "Negotiation                                          NaN   \n",
       "Closed Won                                    297.550847   \n",
       "Closed Lost                                   254.057692   \n",
       "\n",
       "                                                       \\\n",
       "Owner Role                   IT North East Sales Team   \n",
       "Stage cat                                               \n",
       "Qualification                              120.000000   \n",
       "Needs Analysis                               1.000000   \n",
       "Solution Presentation / Demo               100.731959   \n",
       "Proposal                                   120.700787   \n",
       "Negotiation                                 51.642857   \n",
       "Closed Won                                 231.944994   \n",
       "Closed Lost                                221.704671   \n",
       "\n",
       "                                                       \\\n",
       "Owner Role                   IT North West Sales Team   \n",
       "Stage cat                                               \n",
       "Qualification                              117.605556   \n",
       "Needs Analysis                               6.250000   \n",
       "Solution Presentation / Demo               127.942308   \n",
       "Proposal                                   133.491003   \n",
       "Negotiation                                 75.205882   \n",
       "Closed Won                                 238.511597   \n",
       "Closed Lost                                207.590371   \n",
       "\n",
       "                                                       Age  \\\n",
       "Owner Role                   IT Central & South Sales Team   \n",
       "Stage cat                                                    \n",
       "Qualification                                   140.773050   \n",
       "Needs Analysis                                    6.000000   \n",
       "Solution Presentation / Demo                    196.080808   \n",
       "Proposal                                        174.751152   \n",
       "Negotiation                                     228.421053   \n",
       "Closed Won                                       15.343296   \n",
       "Closed Lost                                      95.171285   \n",
       "\n",
       "                                                                   \\\n",
       "Owner Role                   IT Enterprise Specialists Sales Team   \n",
       "Stage cat                                                           \n",
       "Qualification                                           57.220588   \n",
       "Needs Analysis                                           3.500000   \n",
       "Solution Presentation / Demo                           128.147541   \n",
       "Proposal                                               116.236842   \n",
       "Negotiation                                             96.473684   \n",
       "Closed Won                                              10.712398   \n",
       "Closed Lost                                             87.384158   \n",
       "\n",
       "                                                          \\\n",
       "Owner Role                   IT Large Account Sales Team   \n",
       "Stage cat                                                  \n",
       "Qualification                                 190.473684   \n",
       "Needs Analysis                                237.500000   \n",
       "Solution Presentation / Demo                  204.500000   \n",
       "Proposal                                      449.666667   \n",
       "Negotiation                                          NaN   \n",
       "Closed Won                                     24.355932   \n",
       "Closed Lost                                    79.557692   \n",
       "\n",
       "                                                       \\\n",
       "Owner Role                   IT North East Sales Team   \n",
       "Stage cat                                               \n",
       "Qualification                              126.163793   \n",
       "Needs Analysis                               1.000000   \n",
       "Solution Presentation / Demo               112.010309   \n",
       "Proposal                                   129.055118   \n",
       "Negotiation                                 77.500000   \n",
       "Closed Won                                  12.776933   \n",
       "Closed Lost                                 86.459224   \n",
       "\n",
       "                                                       \\\n",
       "Owner Role                   IT North West Sales Team   \n",
       "Stage cat                                               \n",
       "Qualification                              119.644444   \n",
       "Needs Analysis                              39.500000   \n",
       "Solution Presentation / Demo               142.666667   \n",
       "Proposal                                   144.791774   \n",
       "Negotiation                                 91.470588   \n",
       "Closed Won                                  12.291262   \n",
       "Closed Lost                                 93.584846   \n",
       "\n",
       "                                            N. Opportunità  \\\n",
       "Owner Role                   IT Central & South Sales Team   \n",
       "Stage cat                                                    \n",
       "Qualification                                          282   \n",
       "Needs Analysis                                           2   \n",
       "Solution Presentation / Demo                           198   \n",
       "Proposal                                               217   \n",
       "Negotiation                                             19   \n",
       "Closed Won                                            2409   \n",
       "Closed Lost                                            397   \n",
       "\n",
       "                                                                   \\\n",
       "Owner Role                   IT Enterprise Specialists Sales Team   \n",
       "Stage cat                                                           \n",
       "Qualification                                                  68   \n",
       "Needs Analysis                                                  2   \n",
       "Solution Presentation / Demo                                   61   \n",
       "Proposal                                                       38   \n",
       "Negotiation                                                    38   \n",
       "Closed Won                                                   1589   \n",
       "Closed Lost                                                   505   \n",
       "\n",
       "                                                          \\\n",
       "Owner Role                   IT Large Account Sales Team   \n",
       "Stage cat                                                  \n",
       "Qualification                                         19   \n",
       "Needs Analysis                                         2   \n",
       "Solution Presentation / Demo                           2   \n",
       "Proposal                                               3   \n",
       "Negotiation                                            0   \n",
       "Closed Won                                           118   \n",
       "Closed Lost                                           52   \n",
       "\n",
       "                                                       \\\n",
       "Owner Role                   IT North East Sales Team   \n",
       "Stage cat                                               \n",
       "Qualification                                     116   \n",
       "Needs Analysis                                      1   \n",
       "Solution Presentation / Demo                      194   \n",
       "Proposal                                          381   \n",
       "Negotiation                                        14   \n",
       "Closed Won                                       3945   \n",
       "Closed Lost                                      1263   \n",
       "\n",
       "                                                       \\\n",
       "Owner Role                   IT North West Sales Team   \n",
       "Stage cat                                               \n",
       "Qualification                                     180   \n",
       "Needs Analysis                                      4   \n",
       "Solution Presentation / Demo                      156   \n",
       "Proposal                                          389   \n",
       "Negotiation                                        34   \n",
       "Closed Won                                       3708   \n",
       "Closed Lost                                      1267   \n",
       "\n",
       "                                        Incremental Amount  \\\n",
       "Owner Role                   IT Central & South Sales Team   \n",
       "Stage cat                                                    \n",
       "Qualification                                     80915.00   \n",
       "Needs Analysis                                     2180.00   \n",
       "Solution Presentation / Demo                     475680.00   \n",
       "Proposal                                         152570.00   \n",
       "Negotiation                                       31830.00   \n",
       "Closed Won                                      2089028.54   \n",
       "Closed Lost                                      553536.79   \n",
       "\n",
       "                                                                   \\\n",
       "Owner Role                   IT Enterprise Specialists Sales Team   \n",
       "Stage cat                                                           \n",
       "Qualification                                             6045.00   \n",
       "Needs Analysis                                             550.00   \n",
       "Solution Presentation / Demo                            135775.00   \n",
       "Proposal                                                 71147.00   \n",
       "Negotiation                                             121890.50   \n",
       "Closed Won                                             2496904.56   \n",
       "Closed Lost                                             633822.76   \n",
       "\n",
       "                                                          \\\n",
       "Owner Role                   IT Large Account Sales Team   \n",
       "Stage cat                                                  \n",
       "Qualification                                  590000.00   \n",
       "Needs Analysis                                 150350.00   \n",
       "Solution Presentation / Demo                    65000.00   \n",
       "Proposal                                       115160.00   \n",
       "Negotiation                                         0.00   \n",
       "Closed Won                                    1414005.04   \n",
       "Closed Lost                                    633673.00   \n",
       "\n",
       "                                                                                \n",
       "Owner Role                   IT North East Sales Team IT North West Sales Team  \n",
       "Stage cat                                                                       \n",
       "Qualification                                39180.00                 46089.33  \n",
       "Needs Analysis                                 780.00                 17175.00  \n",
       "Solution Presentation / Demo                266885.01                197709.44  \n",
       "Proposal                                    342570.24                337888.83  \n",
       "Negotiation                                  10760.00                 38253.83  \n",
       "Closed Won                                 2682619.13               2917551.41  \n",
       "Closed Lost                                1011730.57               1194990.91  "
      ]
     },
     "execution_count": 70,
     "metadata": {},
     "output_type": "execute_result"
    }
   ],
   "source": [
    "op_infos_sintesi"
   ]
  },
  {
   "cell_type": "markdown",
   "id": "7d9e4a6f-1c8a-4d9b-8c2e-8e91b8f8e900",
   "metadata": {
    "tags": []
   },
   "source": [
    "<a id='created_date'></a>\n",
    "# Opportunities by created date"
   ]
  },
  {
   "cell_type": "code",
   "execution_count": 38,
   "id": "ce537795-fdc5-44b4-ad74-9258ba9fdd16",
   "metadata": {},
   "outputs": [],
   "source": [
    "owner_role = ['IT North West Sales Team', 'IT North East Sales Team', 'IT Enterprise Specialists Sales Team', 'IT Central & South Sales Team', 'IT Large Account Sales Team', 'IT Large Accounts','IT Agency and Reseller']\n",
    "filt = op_infos[\"Owner Role\"].isin(owner_role)\n",
    "\n",
    "opportunities = op_infos.loc[filt,:]"
   ]
  },
  {
   "cell_type": "code",
   "execution_count": 39,
   "id": "73f83b12-4f8f-4205-9e64-8017f2244199",
   "metadata": {},
   "outputs": [],
   "source": [
    "op_infos_by_created_date = opportunities.sort_values(['Stage cat']).groupby([op_infos[\"Created Date\"].astype('datetime64[M]'), op_infos[\"Close Date\"].astype('datetime64[M]'), \"Stage\"]).agg({\"Opportunity ID\":\"nunique\",  \"Incremental Amount\":\"sum\", \"Stage Duration\":\"mean\", \"Age\":\"mean\"}).reset_index()"
   ]
  },
  {
   "cell_type": "code",
   "execution_count": 40,
   "id": "6df55b85-57be-4e3a-82d0-a9707422585e",
   "metadata": {},
   "outputs": [],
   "source": [
    "op_infos_by_created_date.to_excel(r\"C:\\Users\\Raffaele.Sportiello\\OneDrive - Wolters Kluwer\\Documents\\Presentazioni\\Sales\\EU Sales review\\SI_opportunities - op_infos_by_created_date.xlsx\", index=False)"
   ]
  },
  {
   "cell_type": "markdown",
   "id": "5341f293-c1e3-40f0-82f3-5be1aca90a1f",
   "metadata": {},
   "source": [
    "***"
   ]
  },
  {
   "cell_type": "code",
   "execution_count": 84,
   "id": "0787fa83-5da7-4647-8bf9-dc407cf6f3d1",
   "metadata": {},
   "outputs": [],
   "source": [
    "pipe_6m = op_infos_by_created_date.loc[(op_infos_by_created_date[\"Created Date\"] >= \"2022-01-01\")&\\\n",
    "                                       (op_infos_by_created_date[\"Close Date\"] >= \"2022-07-01\")&\\\n",
    "                                       (op_infos_by_created_date[\"Close Date\"] <= \"2022-12-01\")&\\\n",
    "                                       (op_infos_by_created_date[\"Stage\"].isin([\"Qualification\",\"Needs Analysis\",\"Solution Presentation / Demo\", \"Proposal\", \"Negotiation\"])),:].groupby([\"Close Date\", \"Stage\"], dropna=False).agg({\"Incremental Amount\":\"sum\"}).reset_index()\n",
    "\n",
    "pipe_6m[\"Opportunities created date\"] = \"Last 6 month\"\n",
    "\n",
    "pipe_all = op_infos_by_created_date.loc[(op_infos_by_created_date[\"Close Date\"] >= \"2022-07-01\")&\\\n",
    "                                        (op_infos_by_created_date[\"Close Date\"] <= \"2022-12-01\")&\\\n",
    "                                        (op_infos_by_created_date[\"Stage\"].isin([\"Qualification\",\"Needs Analysis\",\"Solution Presentation / Demo\", \"Proposal\", \"Negotiation\"])),:].groupby([\"Close Date\", \"Stage\"], dropna=False).agg({\"Incremental Amount\":\"sum\"}).reset_index()\n",
    "\n",
    "pipe_all[\"Opportunities created date\"] = \"All time\"\n",
    "\n",
    "pipeline_value = pd.concat([pipe_6m,pipe_all], axis=0)\n",
    "\n",
    "pipeline_value.rename(columns={\"Incremental Amount\":\"Pipeline Value\"}, inplace=True)"
   ]
  },
  {
   "cell_type": "code",
   "execution_count": 86,
   "id": "5caf41ce-206a-4c30-a881-aa6d807e1181",
   "metadata": {},
   "outputs": [],
   "source": [
    "pipeline_value[\"Close Date\"] = pipeline_value[\"Close Date\"].dt.strftime('%B')"
   ]
  },
  {
   "cell_type": "code",
   "execution_count": 87,
   "id": "ad12e5ce-8ff7-4da9-a221-a9f975aeb3b1",
   "metadata": {},
   "outputs": [
    {
     "data": {
      "text/html": [
       "<div>\n",
       "<style scoped>\n",
       "    .dataframe tbody tr th:only-of-type {\n",
       "        vertical-align: middle;\n",
       "    }\n",
       "\n",
       "    .dataframe tbody tr th {\n",
       "        vertical-align: top;\n",
       "    }\n",
       "\n",
       "    .dataframe thead th {\n",
       "        text-align: right;\n",
       "    }\n",
       "</style>\n",
       "<table border=\"1\" class=\"dataframe\">\n",
       "  <thead>\n",
       "    <tr style=\"text-align: right;\">\n",
       "      <th></th>\n",
       "      <th>Close Date</th>\n",
       "      <th>Stage</th>\n",
       "      <th>Pipeline Value</th>\n",
       "      <th>Opportunities created date</th>\n",
       "    </tr>\n",
       "  </thead>\n",
       "  <tbody>\n",
       "    <tr>\n",
       "      <th>0</th>\n",
       "      <td>July</td>\n",
       "      <td>Needs Analysis</td>\n",
       "      <td>805.00</td>\n",
       "      <td>Last 6 month</td>\n",
       "    </tr>\n",
       "    <tr>\n",
       "      <th>1</th>\n",
       "      <td>July</td>\n",
       "      <td>Negotiation</td>\n",
       "      <td>146404.33</td>\n",
       "      <td>Last 6 month</td>\n",
       "    </tr>\n",
       "    <tr>\n",
       "      <th>2</th>\n",
       "      <td>July</td>\n",
       "      <td>Proposal</td>\n",
       "      <td>483798.00</td>\n",
       "      <td>Last 6 month</td>\n",
       "    </tr>\n",
       "    <tr>\n",
       "      <th>3</th>\n",
       "      <td>July</td>\n",
       "      <td>Qualification</td>\n",
       "      <td>78815.33</td>\n",
       "      <td>Last 6 month</td>\n",
       "    </tr>\n",
       "    <tr>\n",
       "      <th>4</th>\n",
       "      <td>July</td>\n",
       "      <td>Solution Presentation / Demo</td>\n",
       "      <td>464965.00</td>\n",
       "      <td>Last 6 month</td>\n",
       "    </tr>\n",
       "    <tr>\n",
       "      <th>5</th>\n",
       "      <td>August</td>\n",
       "      <td>Negotiation</td>\n",
       "      <td>5000.00</td>\n",
       "      <td>Last 6 month</td>\n",
       "    </tr>\n",
       "    <tr>\n",
       "      <th>6</th>\n",
       "      <td>August</td>\n",
       "      <td>Proposal</td>\n",
       "      <td>2675.00</td>\n",
       "      <td>Last 6 month</td>\n",
       "    </tr>\n",
       "    <tr>\n",
       "      <th>7</th>\n",
       "      <td>August</td>\n",
       "      <td>Qualification</td>\n",
       "      <td>2850.00</td>\n",
       "      <td>Last 6 month</td>\n",
       "    </tr>\n",
       "    <tr>\n",
       "      <th>8</th>\n",
       "      <td>August</td>\n",
       "      <td>Solution Presentation / Demo</td>\n",
       "      <td>30850.00</td>\n",
       "      <td>Last 6 month</td>\n",
       "    </tr>\n",
       "    <tr>\n",
       "      <th>9</th>\n",
       "      <td>September</td>\n",
       "      <td>Needs Analysis</td>\n",
       "      <td>2000.00</td>\n",
       "      <td>Last 6 month</td>\n",
       "    </tr>\n",
       "    <tr>\n",
       "      <th>10</th>\n",
       "      <td>September</td>\n",
       "      <td>Negotiation</td>\n",
       "      <td>12870.00</td>\n",
       "      <td>Last 6 month</td>\n",
       "    </tr>\n",
       "    <tr>\n",
       "      <th>11</th>\n",
       "      <td>September</td>\n",
       "      <td>Proposal</td>\n",
       "      <td>71636.00</td>\n",
       "      <td>Last 6 month</td>\n",
       "    </tr>\n",
       "    <tr>\n",
       "      <th>12</th>\n",
       "      <td>September</td>\n",
       "      <td>Qualification</td>\n",
       "      <td>60909.00</td>\n",
       "      <td>Last 6 month</td>\n",
       "    </tr>\n",
       "    <tr>\n",
       "      <th>13</th>\n",
       "      <td>September</td>\n",
       "      <td>Solution Presentation / Demo</td>\n",
       "      <td>124325.00</td>\n",
       "      <td>Last 6 month</td>\n",
       "    </tr>\n",
       "    <tr>\n",
       "      <th>14</th>\n",
       "      <td>October</td>\n",
       "      <td>Needs Analysis</td>\n",
       "      <td>15000.00</td>\n",
       "      <td>Last 6 month</td>\n",
       "    </tr>\n",
       "    <tr>\n",
       "      <th>15</th>\n",
       "      <td>October</td>\n",
       "      <td>Negotiation</td>\n",
       "      <td>2000.00</td>\n",
       "      <td>Last 6 month</td>\n",
       "    </tr>\n",
       "    <tr>\n",
       "      <th>16</th>\n",
       "      <td>October</td>\n",
       "      <td>Proposal</td>\n",
       "      <td>55665.00</td>\n",
       "      <td>Last 6 month</td>\n",
       "    </tr>\n",
       "    <tr>\n",
       "      <th>17</th>\n",
       "      <td>October</td>\n",
       "      <td>Qualification</td>\n",
       "      <td>0.00</td>\n",
       "      <td>Last 6 month</td>\n",
       "    </tr>\n",
       "    <tr>\n",
       "      <th>18</th>\n",
       "      <td>October</td>\n",
       "      <td>Solution Presentation / Demo</td>\n",
       "      <td>30850.00</td>\n",
       "      <td>Last 6 month</td>\n",
       "    </tr>\n",
       "    <tr>\n",
       "      <th>19</th>\n",
       "      <td>November</td>\n",
       "      <td>Needs Analysis</td>\n",
       "      <td>600.00</td>\n",
       "      <td>Last 6 month</td>\n",
       "    </tr>\n",
       "    <tr>\n",
       "      <th>20</th>\n",
       "      <td>November</td>\n",
       "      <td>Proposal</td>\n",
       "      <td>7825.00</td>\n",
       "      <td>Last 6 month</td>\n",
       "    </tr>\n",
       "    <tr>\n",
       "      <th>21</th>\n",
       "      <td>November</td>\n",
       "      <td>Qualification</td>\n",
       "      <td>0.00</td>\n",
       "      <td>Last 6 month</td>\n",
       "    </tr>\n",
       "    <tr>\n",
       "      <th>22</th>\n",
       "      <td>November</td>\n",
       "      <td>Solution Presentation / Demo</td>\n",
       "      <td>1150.00</td>\n",
       "      <td>Last 6 month</td>\n",
       "    </tr>\n",
       "    <tr>\n",
       "      <th>23</th>\n",
       "      <td>December</td>\n",
       "      <td>Proposal</td>\n",
       "      <td>680.00</td>\n",
       "      <td>Last 6 month</td>\n",
       "    </tr>\n",
       "    <tr>\n",
       "      <th>24</th>\n",
       "      <td>December</td>\n",
       "      <td>Qualification</td>\n",
       "      <td>2040.00</td>\n",
       "      <td>Last 6 month</td>\n",
       "    </tr>\n",
       "    <tr>\n",
       "      <th>25</th>\n",
       "      <td>December</td>\n",
       "      <td>Solution Presentation / Demo</td>\n",
       "      <td>54200.00</td>\n",
       "      <td>Last 6 month</td>\n",
       "    </tr>\n",
       "    <tr>\n",
       "      <th>0</th>\n",
       "      <td>July</td>\n",
       "      <td>Needs Analysis</td>\n",
       "      <td>805.00</td>\n",
       "      <td>All time</td>\n",
       "    </tr>\n",
       "    <tr>\n",
       "      <th>1</th>\n",
       "      <td>July</td>\n",
       "      <td>Negotiation</td>\n",
       "      <td>186694.33</td>\n",
       "      <td>All time</td>\n",
       "    </tr>\n",
       "    <tr>\n",
       "      <th>2</th>\n",
       "      <td>July</td>\n",
       "      <td>Proposal</td>\n",
       "      <td>766601.63</td>\n",
       "      <td>All time</td>\n",
       "    </tr>\n",
       "    <tr>\n",
       "      <th>3</th>\n",
       "      <td>July</td>\n",
       "      <td>Qualification</td>\n",
       "      <td>282865.33</td>\n",
       "      <td>All time</td>\n",
       "    </tr>\n",
       "    <tr>\n",
       "      <th>4</th>\n",
       "      <td>July</td>\n",
       "      <td>Solution Presentation / Demo</td>\n",
       "      <td>868664.45</td>\n",
       "      <td>All time</td>\n",
       "    </tr>\n",
       "    <tr>\n",
       "      <th>5</th>\n",
       "      <td>August</td>\n",
       "      <td>Negotiation</td>\n",
       "      <td>5000.00</td>\n",
       "      <td>All time</td>\n",
       "    </tr>\n",
       "    <tr>\n",
       "      <th>6</th>\n",
       "      <td>August</td>\n",
       "      <td>Proposal</td>\n",
       "      <td>2675.00</td>\n",
       "      <td>All time</td>\n",
       "    </tr>\n",
       "    <tr>\n",
       "      <th>7</th>\n",
       "      <td>August</td>\n",
       "      <td>Qualification</td>\n",
       "      <td>2850.00</td>\n",
       "      <td>All time</td>\n",
       "    </tr>\n",
       "    <tr>\n",
       "      <th>8</th>\n",
       "      <td>August</td>\n",
       "      <td>Solution Presentation / Demo</td>\n",
       "      <td>31450.00</td>\n",
       "      <td>All time</td>\n",
       "    </tr>\n",
       "    <tr>\n",
       "      <th>9</th>\n",
       "      <td>September</td>\n",
       "      <td>Needs Analysis</td>\n",
       "      <td>102000.00</td>\n",
       "      <td>All time</td>\n",
       "    </tr>\n",
       "    <tr>\n",
       "      <th>10</th>\n",
       "      <td>September</td>\n",
       "      <td>Negotiation</td>\n",
       "      <td>23380.00</td>\n",
       "      <td>All time</td>\n",
       "    </tr>\n",
       "    <tr>\n",
       "      <th>11</th>\n",
       "      <td>September</td>\n",
       "      <td>Proposal</td>\n",
       "      <td>166993.48</td>\n",
       "      <td>All time</td>\n",
       "    </tr>\n",
       "    <tr>\n",
       "      <th>12</th>\n",
       "      <td>September</td>\n",
       "      <td>Qualification</td>\n",
       "      <td>123189.00</td>\n",
       "      <td>All time</td>\n",
       "    </tr>\n",
       "    <tr>\n",
       "      <th>13</th>\n",
       "      <td>September</td>\n",
       "      <td>Solution Presentation / Demo</td>\n",
       "      <td>179125.00</td>\n",
       "      <td>All time</td>\n",
       "    </tr>\n",
       "    <tr>\n",
       "      <th>14</th>\n",
       "      <td>October</td>\n",
       "      <td>Needs Analysis</td>\n",
       "      <td>15000.00</td>\n",
       "      <td>All time</td>\n",
       "    </tr>\n",
       "    <tr>\n",
       "      <th>15</th>\n",
       "      <td>October</td>\n",
       "      <td>Negotiation</td>\n",
       "      <td>5680.00</td>\n",
       "      <td>All time</td>\n",
       "    </tr>\n",
       "    <tr>\n",
       "      <th>16</th>\n",
       "      <td>October</td>\n",
       "      <td>Proposal</td>\n",
       "      <td>81515.00</td>\n",
       "      <td>All time</td>\n",
       "    </tr>\n",
       "    <tr>\n",
       "      <th>17</th>\n",
       "      <td>October</td>\n",
       "      <td>Qualification</td>\n",
       "      <td>90000.00</td>\n",
       "      <td>All time</td>\n",
       "    </tr>\n",
       "    <tr>\n",
       "      <th>18</th>\n",
       "      <td>October</td>\n",
       "      <td>Solution Presentation / Demo</td>\n",
       "      <td>87300.00</td>\n",
       "      <td>All time</td>\n",
       "    </tr>\n",
       "    <tr>\n",
       "      <th>19</th>\n",
       "      <td>November</td>\n",
       "      <td>Needs Analysis</td>\n",
       "      <td>600.00</td>\n",
       "      <td>All time</td>\n",
       "    </tr>\n",
       "    <tr>\n",
       "      <th>20</th>\n",
       "      <td>November</td>\n",
       "      <td>Negotiation</td>\n",
       "      <td>10300.00</td>\n",
       "      <td>All time</td>\n",
       "    </tr>\n",
       "    <tr>\n",
       "      <th>21</th>\n",
       "      <td>November</td>\n",
       "      <td>Proposal</td>\n",
       "      <td>25325.00</td>\n",
       "      <td>All time</td>\n",
       "    </tr>\n",
       "    <tr>\n",
       "      <th>22</th>\n",
       "      <td>November</td>\n",
       "      <td>Qualification</td>\n",
       "      <td>281000.00</td>\n",
       "      <td>All time</td>\n",
       "    </tr>\n",
       "    <tr>\n",
       "      <th>23</th>\n",
       "      <td>November</td>\n",
       "      <td>Solution Presentation / Demo</td>\n",
       "      <td>1750.00</td>\n",
       "      <td>All time</td>\n",
       "    </tr>\n",
       "    <tr>\n",
       "      <th>24</th>\n",
       "      <td>December</td>\n",
       "      <td>Proposal</td>\n",
       "      <td>122137.96</td>\n",
       "      <td>All time</td>\n",
       "    </tr>\n",
       "    <tr>\n",
       "      <th>25</th>\n",
       "      <td>December</td>\n",
       "      <td>Qualification</td>\n",
       "      <td>272040.00</td>\n",
       "      <td>All time</td>\n",
       "    </tr>\n",
       "    <tr>\n",
       "      <th>26</th>\n",
       "      <td>December</td>\n",
       "      <td>Solution Presentation / Demo</td>\n",
       "      <td>88230.00</td>\n",
       "      <td>All time</td>\n",
       "    </tr>\n",
       "  </tbody>\n",
       "</table>\n",
       "</div>"
      ],
      "text/plain": [
       "   Close Date                         Stage  Pipeline Value  \\\n",
       "0        July                Needs Analysis          805.00   \n",
       "1        July                   Negotiation       146404.33   \n",
       "2        July                      Proposal       483798.00   \n",
       "3        July                 Qualification        78815.33   \n",
       "4        July  Solution Presentation / Demo       464965.00   \n",
       "5      August                   Negotiation         5000.00   \n",
       "6      August                      Proposal         2675.00   \n",
       "7      August                 Qualification         2850.00   \n",
       "8      August  Solution Presentation / Demo        30850.00   \n",
       "9   September                Needs Analysis         2000.00   \n",
       "10  September                   Negotiation        12870.00   \n",
       "11  September                      Proposal        71636.00   \n",
       "12  September                 Qualification        60909.00   \n",
       "13  September  Solution Presentation / Demo       124325.00   \n",
       "14    October                Needs Analysis        15000.00   \n",
       "15    October                   Negotiation         2000.00   \n",
       "16    October                      Proposal        55665.00   \n",
       "17    October                 Qualification            0.00   \n",
       "18    October  Solution Presentation / Demo        30850.00   \n",
       "19   November                Needs Analysis          600.00   \n",
       "20   November                      Proposal         7825.00   \n",
       "21   November                 Qualification            0.00   \n",
       "22   November  Solution Presentation / Demo         1150.00   \n",
       "23   December                      Proposal          680.00   \n",
       "24   December                 Qualification         2040.00   \n",
       "25   December  Solution Presentation / Demo        54200.00   \n",
       "0        July                Needs Analysis          805.00   \n",
       "1        July                   Negotiation       186694.33   \n",
       "2        July                      Proposal       766601.63   \n",
       "3        July                 Qualification       282865.33   \n",
       "4        July  Solution Presentation / Demo       868664.45   \n",
       "5      August                   Negotiation         5000.00   \n",
       "6      August                      Proposal         2675.00   \n",
       "7      August                 Qualification         2850.00   \n",
       "8      August  Solution Presentation / Demo        31450.00   \n",
       "9   September                Needs Analysis       102000.00   \n",
       "10  September                   Negotiation        23380.00   \n",
       "11  September                      Proposal       166993.48   \n",
       "12  September                 Qualification       123189.00   \n",
       "13  September  Solution Presentation / Demo       179125.00   \n",
       "14    October                Needs Analysis        15000.00   \n",
       "15    October                   Negotiation         5680.00   \n",
       "16    October                      Proposal        81515.00   \n",
       "17    October                 Qualification        90000.00   \n",
       "18    October  Solution Presentation / Demo        87300.00   \n",
       "19   November                Needs Analysis          600.00   \n",
       "20   November                   Negotiation        10300.00   \n",
       "21   November                      Proposal        25325.00   \n",
       "22   November                 Qualification       281000.00   \n",
       "23   November  Solution Presentation / Demo         1750.00   \n",
       "24   December                      Proposal       122137.96   \n",
       "25   December                 Qualification       272040.00   \n",
       "26   December  Solution Presentation / Demo        88230.00   \n",
       "\n",
       "   Opportunities created date  \n",
       "0                Last 6 month  \n",
       "1                Last 6 month  \n",
       "2                Last 6 month  \n",
       "3                Last 6 month  \n",
       "4                Last 6 month  \n",
       "5                Last 6 month  \n",
       "6                Last 6 month  \n",
       "7                Last 6 month  \n",
       "8                Last 6 month  \n",
       "9                Last 6 month  \n",
       "10               Last 6 month  \n",
       "11               Last 6 month  \n",
       "12               Last 6 month  \n",
       "13               Last 6 month  \n",
       "14               Last 6 month  \n",
       "15               Last 6 month  \n",
       "16               Last 6 month  \n",
       "17               Last 6 month  \n",
       "18               Last 6 month  \n",
       "19               Last 6 month  \n",
       "20               Last 6 month  \n",
       "21               Last 6 month  \n",
       "22               Last 6 month  \n",
       "23               Last 6 month  \n",
       "24               Last 6 month  \n",
       "25               Last 6 month  \n",
       "0                    All time  \n",
       "1                    All time  \n",
       "2                    All time  \n",
       "3                    All time  \n",
       "4                    All time  \n",
       "5                    All time  \n",
       "6                    All time  \n",
       "7                    All time  \n",
       "8                    All time  \n",
       "9                    All time  \n",
       "10                   All time  \n",
       "11                   All time  \n",
       "12                   All time  \n",
       "13                   All time  \n",
       "14                   All time  \n",
       "15                   All time  \n",
       "16                   All time  \n",
       "17                   All time  \n",
       "18                   All time  \n",
       "19                   All time  \n",
       "20                   All time  \n",
       "21                   All time  \n",
       "22                   All time  \n",
       "23                   All time  \n",
       "24                   All time  \n",
       "25                   All time  \n",
       "26                   All time  "
      ]
     },
     "execution_count": 87,
     "metadata": {},
     "output_type": "execute_result"
    }
   ],
   "source": [
    "pipeline_value"
   ]
  },
  {
   "cell_type": "code",
   "execution_count": 99,
   "id": "7e37118c-a57b-4bba-ad37-129dcf415f21",
   "metadata": {},
   "outputs": [
    {
     "data": {
      "application/vnd.plotly.v1+json": {
       "config": {
        "plotlyServerURL": "https://plot.ly"
       },
       "data": [
        {
         "alignmentgroup": "True",
         "hovertemplate": "Stage=Qualification<br>Close Date=July<br>Opportunities created date=%{x}<br>Pipeline Value=%{y}<extra></extra>",
         "legendgroup": "Qualification",
         "marker": {
          "color": "#B5C6E1",
          "pattern": {
           "shape": ""
          }
         },
         "name": "Qualification",
         "offsetgroup": "Qualification",
         "orientation": "v",
         "showlegend": true,
         "textposition": "auto",
         "type": "bar",
         "x": [
          "Last 6 month",
          "All time"
         ],
         "xaxis": "x",
         "y": [
          78815.33,
          282865.33
         ],
         "yaxis": "y"
        },
        {
         "alignmentgroup": "True",
         "hovertemplate": "Stage=Qualification<br>Close Date=August<br>Opportunities created date=%{x}<br>Pipeline Value=%{y}<extra></extra>",
         "legendgroup": "Qualification",
         "marker": {
          "color": "#B5C6E1",
          "pattern": {
           "shape": ""
          }
         },
         "name": "Qualification",
         "offsetgroup": "Qualification",
         "orientation": "v",
         "showlegend": false,
         "textposition": "auto",
         "type": "bar",
         "x": [
          "Last 6 month",
          "All time"
         ],
         "xaxis": "x2",
         "y": [
          2850,
          2850
         ],
         "yaxis": "y2"
        },
        {
         "alignmentgroup": "True",
         "hovertemplate": "Stage=Qualification<br>Close Date=September<br>Opportunities created date=%{x}<br>Pipeline Value=%{y}<extra></extra>",
         "legendgroup": "Qualification",
         "marker": {
          "color": "#B5C6E1",
          "pattern": {
           "shape": ""
          }
         },
         "name": "Qualification",
         "offsetgroup": "Qualification",
         "orientation": "v",
         "showlegend": false,
         "textposition": "auto",
         "type": "bar",
         "x": [
          "Last 6 month",
          "All time"
         ],
         "xaxis": "x3",
         "y": [
          60909,
          123189
         ],
         "yaxis": "y3"
        },
        {
         "alignmentgroup": "True",
         "hovertemplate": "Stage=Qualification<br>Close Date=October<br>Opportunities created date=%{x}<br>Pipeline Value=%{y}<extra></extra>",
         "legendgroup": "Qualification",
         "marker": {
          "color": "#B5C6E1",
          "pattern": {
           "shape": ""
          }
         },
         "name": "Qualification",
         "offsetgroup": "Qualification",
         "orientation": "v",
         "showlegend": false,
         "textposition": "auto",
         "type": "bar",
         "x": [
          "Last 6 month",
          "All time"
         ],
         "xaxis": "x4",
         "y": [
          0,
          90000
         ],
         "yaxis": "y4"
        },
        {
         "alignmentgroup": "True",
         "hovertemplate": "Stage=Qualification<br>Close Date=November<br>Opportunities created date=%{x}<br>Pipeline Value=%{y}<extra></extra>",
         "legendgroup": "Qualification",
         "marker": {
          "color": "#B5C6E1",
          "pattern": {
           "shape": ""
          }
         },
         "name": "Qualification",
         "offsetgroup": "Qualification",
         "orientation": "v",
         "showlegend": false,
         "textposition": "auto",
         "type": "bar",
         "x": [
          "Last 6 month",
          "All time"
         ],
         "xaxis": "x5",
         "y": [
          0,
          281000
         ],
         "yaxis": "y5"
        },
        {
         "alignmentgroup": "True",
         "hovertemplate": "Stage=Qualification<br>Close Date=December<br>Opportunities created date=%{x}<br>Pipeline Value=%{y}<extra></extra>",
         "legendgroup": "Qualification",
         "marker": {
          "color": "#B5C6E1",
          "pattern": {
           "shape": ""
          }
         },
         "name": "Qualification",
         "offsetgroup": "Qualification",
         "orientation": "v",
         "showlegend": false,
         "textposition": "auto",
         "type": "bar",
         "x": [
          "Last 6 month",
          "All time"
         ],
         "xaxis": "x6",
         "y": [
          2040,
          272040
         ],
         "yaxis": "y6"
        },
        {
         "alignmentgroup": "True",
         "hovertemplate": "Stage=Needs Analysis<br>Close Date=July<br>Opportunities created date=%{x}<br>Pipeline Value=%{y}<extra></extra>",
         "legendgroup": "Needs Analysis",
         "marker": {
          "color": "#007AC3",
          "pattern": {
           "shape": ""
          }
         },
         "name": "Needs Analysis",
         "offsetgroup": "Needs Analysis",
         "orientation": "v",
         "showlegend": true,
         "textposition": "auto",
         "type": "bar",
         "x": [
          "Last 6 month",
          "All time"
         ],
         "xaxis": "x",
         "y": [
          805,
          805
         ],
         "yaxis": "y"
        },
        {
         "alignmentgroup": "True",
         "hovertemplate": "Stage=Needs Analysis<br>Close Date=September<br>Opportunities created date=%{x}<br>Pipeline Value=%{y}<extra></extra>",
         "legendgroup": "Needs Analysis",
         "marker": {
          "color": "#007AC3",
          "pattern": {
           "shape": ""
          }
         },
         "name": "Needs Analysis",
         "offsetgroup": "Needs Analysis",
         "orientation": "v",
         "showlegend": false,
         "textposition": "auto",
         "type": "bar",
         "x": [
          "Last 6 month",
          "All time"
         ],
         "xaxis": "x3",
         "y": [
          2000,
          102000
         ],
         "yaxis": "y3"
        },
        {
         "alignmentgroup": "True",
         "hovertemplate": "Stage=Needs Analysis<br>Close Date=October<br>Opportunities created date=%{x}<br>Pipeline Value=%{y}<extra></extra>",
         "legendgroup": "Needs Analysis",
         "marker": {
          "color": "#007AC3",
          "pattern": {
           "shape": ""
          }
         },
         "name": "Needs Analysis",
         "offsetgroup": "Needs Analysis",
         "orientation": "v",
         "showlegend": false,
         "textposition": "auto",
         "type": "bar",
         "x": [
          "Last 6 month",
          "All time"
         ],
         "xaxis": "x4",
         "y": [
          15000,
          15000
         ],
         "yaxis": "y4"
        },
        {
         "alignmentgroup": "True",
         "hovertemplate": "Stage=Needs Analysis<br>Close Date=November<br>Opportunities created date=%{x}<br>Pipeline Value=%{y}<extra></extra>",
         "legendgroup": "Needs Analysis",
         "marker": {
          "color": "#007AC3",
          "pattern": {
           "shape": ""
          }
         },
         "name": "Needs Analysis",
         "offsetgroup": "Needs Analysis",
         "orientation": "v",
         "showlegend": false,
         "textposition": "auto",
         "type": "bar",
         "x": [
          "Last 6 month",
          "All time"
         ],
         "xaxis": "x5",
         "y": [
          600,
          600
         ],
         "yaxis": "y5"
        },
        {
         "alignmentgroup": "True",
         "hovertemplate": "Stage=Solution Presentation / Demo<br>Close Date=July<br>Opportunities created date=%{x}<br>Pipeline Value=%{y}<extra></extra>",
         "legendgroup": "Solution Presentation / Demo",
         "marker": {
          "color": "#007BC8",
          "pattern": {
           "shape": ""
          }
         },
         "name": "Solution Presentation / Demo",
         "offsetgroup": "Solution Presentation / Demo",
         "orientation": "v",
         "showlegend": true,
         "textposition": "auto",
         "type": "bar",
         "x": [
          "Last 6 month",
          "All time"
         ],
         "xaxis": "x",
         "y": [
          464965,
          868664.45
         ],
         "yaxis": "y"
        },
        {
         "alignmentgroup": "True",
         "hovertemplate": "Stage=Solution Presentation / Demo<br>Close Date=August<br>Opportunities created date=%{x}<br>Pipeline Value=%{y}<extra></extra>",
         "legendgroup": "Solution Presentation / Demo",
         "marker": {
          "color": "#007BC8",
          "pattern": {
           "shape": ""
          }
         },
         "name": "Solution Presentation / Demo",
         "offsetgroup": "Solution Presentation / Demo",
         "orientation": "v",
         "showlegend": false,
         "textposition": "auto",
         "type": "bar",
         "x": [
          "Last 6 month",
          "All time"
         ],
         "xaxis": "x2",
         "y": [
          30850,
          31450
         ],
         "yaxis": "y2"
        },
        {
         "alignmentgroup": "True",
         "hovertemplate": "Stage=Solution Presentation / Demo<br>Close Date=September<br>Opportunities created date=%{x}<br>Pipeline Value=%{y}<extra></extra>",
         "legendgroup": "Solution Presentation / Demo",
         "marker": {
          "color": "#007BC8",
          "pattern": {
           "shape": ""
          }
         },
         "name": "Solution Presentation / Demo",
         "offsetgroup": "Solution Presentation / Demo",
         "orientation": "v",
         "showlegend": false,
         "textposition": "auto",
         "type": "bar",
         "x": [
          "Last 6 month",
          "All time"
         ],
         "xaxis": "x3",
         "y": [
          124325,
          179125
         ],
         "yaxis": "y3"
        },
        {
         "alignmentgroup": "True",
         "hovertemplate": "Stage=Solution Presentation / Demo<br>Close Date=October<br>Opportunities created date=%{x}<br>Pipeline Value=%{y}<extra></extra>",
         "legendgroup": "Solution Presentation / Demo",
         "marker": {
          "color": "#007BC8",
          "pattern": {
           "shape": ""
          }
         },
         "name": "Solution Presentation / Demo",
         "offsetgroup": "Solution Presentation / Demo",
         "orientation": "v",
         "showlegend": false,
         "textposition": "auto",
         "type": "bar",
         "x": [
          "Last 6 month",
          "All time"
         ],
         "xaxis": "x4",
         "y": [
          30850,
          87300
         ],
         "yaxis": "y4"
        },
        {
         "alignmentgroup": "True",
         "hovertemplate": "Stage=Solution Presentation / Demo<br>Close Date=November<br>Opportunities created date=%{x}<br>Pipeline Value=%{y}<extra></extra>",
         "legendgroup": "Solution Presentation / Demo",
         "marker": {
          "color": "#007BC8",
          "pattern": {
           "shape": ""
          }
         },
         "name": "Solution Presentation / Demo",
         "offsetgroup": "Solution Presentation / Demo",
         "orientation": "v",
         "showlegend": false,
         "textposition": "auto",
         "type": "bar",
         "x": [
          "Last 6 month",
          "All time"
         ],
         "xaxis": "x5",
         "y": [
          1150,
          1750
         ],
         "yaxis": "y5"
        },
        {
         "alignmentgroup": "True",
         "hovertemplate": "Stage=Solution Presentation / Demo<br>Close Date=December<br>Opportunities created date=%{x}<br>Pipeline Value=%{y}<extra></extra>",
         "legendgroup": "Solution Presentation / Demo",
         "marker": {
          "color": "#007BC8",
          "pattern": {
           "shape": ""
          }
         },
         "name": "Solution Presentation / Demo",
         "offsetgroup": "Solution Presentation / Demo",
         "orientation": "v",
         "showlegend": false,
         "textposition": "auto",
         "type": "bar",
         "x": [
          "Last 6 month",
          "All time"
         ],
         "xaxis": "x6",
         "y": [
          54200,
          88230
         ],
         "yaxis": "y6"
        },
        {
         "alignmentgroup": "True",
         "hovertemplate": "Stage=Proposal<br>Close Date=July<br>Opportunities created date=%{x}<br>Pipeline Value=%{y}<extra></extra>",
         "legendgroup": "Proposal",
         "marker": {
          "color": "#006BAC",
          "pattern": {
           "shape": ""
          }
         },
         "name": "Proposal",
         "offsetgroup": "Proposal",
         "orientation": "v",
         "showlegend": true,
         "textposition": "auto",
         "type": "bar",
         "x": [
          "Last 6 month",
          "All time"
         ],
         "xaxis": "x",
         "y": [
          483798,
          766601.63
         ],
         "yaxis": "y"
        },
        {
         "alignmentgroup": "True",
         "hovertemplate": "Stage=Proposal<br>Close Date=August<br>Opportunities created date=%{x}<br>Pipeline Value=%{y}<extra></extra>",
         "legendgroup": "Proposal",
         "marker": {
          "color": "#006BAC",
          "pattern": {
           "shape": ""
          }
         },
         "name": "Proposal",
         "offsetgroup": "Proposal",
         "orientation": "v",
         "showlegend": false,
         "textposition": "auto",
         "type": "bar",
         "x": [
          "Last 6 month",
          "All time"
         ],
         "xaxis": "x2",
         "y": [
          2675,
          2675
         ],
         "yaxis": "y2"
        },
        {
         "alignmentgroup": "True",
         "hovertemplate": "Stage=Proposal<br>Close Date=September<br>Opportunities created date=%{x}<br>Pipeline Value=%{y}<extra></extra>",
         "legendgroup": "Proposal",
         "marker": {
          "color": "#006BAC",
          "pattern": {
           "shape": ""
          }
         },
         "name": "Proposal",
         "offsetgroup": "Proposal",
         "orientation": "v",
         "showlegend": false,
         "textposition": "auto",
         "type": "bar",
         "x": [
          "Last 6 month",
          "All time"
         ],
         "xaxis": "x3",
         "y": [
          71636,
          166993.48
         ],
         "yaxis": "y3"
        },
        {
         "alignmentgroup": "True",
         "hovertemplate": "Stage=Proposal<br>Close Date=October<br>Opportunities created date=%{x}<br>Pipeline Value=%{y}<extra></extra>",
         "legendgroup": "Proposal",
         "marker": {
          "color": "#006BAC",
          "pattern": {
           "shape": ""
          }
         },
         "name": "Proposal",
         "offsetgroup": "Proposal",
         "orientation": "v",
         "showlegend": false,
         "textposition": "auto",
         "type": "bar",
         "x": [
          "Last 6 month",
          "All time"
         ],
         "xaxis": "x4",
         "y": [
          55665,
          81515
         ],
         "yaxis": "y4"
        },
        {
         "alignmentgroup": "True",
         "hovertemplate": "Stage=Proposal<br>Close Date=November<br>Opportunities created date=%{x}<br>Pipeline Value=%{y}<extra></extra>",
         "legendgroup": "Proposal",
         "marker": {
          "color": "#006BAC",
          "pattern": {
           "shape": ""
          }
         },
         "name": "Proposal",
         "offsetgroup": "Proposal",
         "orientation": "v",
         "showlegend": false,
         "textposition": "auto",
         "type": "bar",
         "x": [
          "Last 6 month",
          "All time"
         ],
         "xaxis": "x5",
         "y": [
          7825,
          25325
         ],
         "yaxis": "y5"
        },
        {
         "alignmentgroup": "True",
         "hovertemplate": "Stage=Proposal<br>Close Date=December<br>Opportunities created date=%{x}<br>Pipeline Value=%{y}<extra></extra>",
         "legendgroup": "Proposal",
         "marker": {
          "color": "#006BAC",
          "pattern": {
           "shape": ""
          }
         },
         "name": "Proposal",
         "offsetgroup": "Proposal",
         "orientation": "v",
         "showlegend": false,
         "textposition": "auto",
         "type": "bar",
         "x": [
          "Last 6 month",
          "All time"
         ],
         "xaxis": "x6",
         "y": [
          680,
          122137.96
         ],
         "yaxis": "y6"
        },
        {
         "alignmentgroup": "True",
         "hovertemplate": "Stage=Negotiation<br>Close Date=July<br>Opportunities created date=%{x}<br>Pipeline Value=%{y}<extra></extra>",
         "legendgroup": "Negotiation",
         "marker": {
          "color": "#005A92",
          "pattern": {
           "shape": ""
          }
         },
         "name": "Negotiation",
         "offsetgroup": "Negotiation",
         "orientation": "v",
         "showlegend": true,
         "textposition": "auto",
         "type": "bar",
         "x": [
          "Last 6 month",
          "All time"
         ],
         "xaxis": "x",
         "y": [
          146404.33000000002,
          186694.33000000002
         ],
         "yaxis": "y"
        },
        {
         "alignmentgroup": "True",
         "hovertemplate": "Stage=Negotiation<br>Close Date=August<br>Opportunities created date=%{x}<br>Pipeline Value=%{y}<extra></extra>",
         "legendgroup": "Negotiation",
         "marker": {
          "color": "#005A92",
          "pattern": {
           "shape": ""
          }
         },
         "name": "Negotiation",
         "offsetgroup": "Negotiation",
         "orientation": "v",
         "showlegend": false,
         "textposition": "auto",
         "type": "bar",
         "x": [
          "Last 6 month",
          "All time"
         ],
         "xaxis": "x2",
         "y": [
          5000,
          5000
         ],
         "yaxis": "y2"
        },
        {
         "alignmentgroup": "True",
         "hovertemplate": "Stage=Negotiation<br>Close Date=September<br>Opportunities created date=%{x}<br>Pipeline Value=%{y}<extra></extra>",
         "legendgroup": "Negotiation",
         "marker": {
          "color": "#005A92",
          "pattern": {
           "shape": ""
          }
         },
         "name": "Negotiation",
         "offsetgroup": "Negotiation",
         "orientation": "v",
         "showlegend": false,
         "textposition": "auto",
         "type": "bar",
         "x": [
          "Last 6 month",
          "All time"
         ],
         "xaxis": "x3",
         "y": [
          12870,
          23380
         ],
         "yaxis": "y3"
        },
        {
         "alignmentgroup": "True",
         "hovertemplate": "Stage=Negotiation<br>Close Date=October<br>Opportunities created date=%{x}<br>Pipeline Value=%{y}<extra></extra>",
         "legendgroup": "Negotiation",
         "marker": {
          "color": "#005A92",
          "pattern": {
           "shape": ""
          }
         },
         "name": "Negotiation",
         "offsetgroup": "Negotiation",
         "orientation": "v",
         "showlegend": false,
         "textposition": "auto",
         "type": "bar",
         "x": [
          "Last 6 month",
          "All time"
         ],
         "xaxis": "x4",
         "y": [
          2000,
          5680
         ],
         "yaxis": "y4"
        },
        {
         "alignmentgroup": "True",
         "hovertemplate": "Stage=Negotiation<br>Close Date=November<br>Opportunities created date=%{x}<br>Pipeline Value=%{y}<extra></extra>",
         "legendgroup": "Negotiation",
         "marker": {
          "color": "#005A92",
          "pattern": {
           "shape": ""
          }
         },
         "name": "Negotiation",
         "offsetgroup": "Negotiation",
         "orientation": "v",
         "showlegend": false,
         "textposition": "auto",
         "type": "bar",
         "x": [
          "All time"
         ],
         "xaxis": "x5",
         "y": [
          10300
         ],
         "yaxis": "y5"
        }
       ],
       "layout": {
        "annotations": [
         {
          "font": {},
          "showarrow": false,
          "text": "July",
          "x": 0.075,
          "xanchor": "center",
          "xref": "paper",
          "y": 1,
          "yanchor": "bottom",
          "yref": "paper"
         },
         {
          "font": {},
          "showarrow": false,
          "text": "August",
          "x": 0.24499999999999997,
          "xanchor": "center",
          "xref": "paper",
          "y": 1,
          "yanchor": "bottom",
          "yref": "paper"
         },
         {
          "font": {},
          "showarrow": false,
          "text": "September",
          "x": 0.415,
          "xanchor": "center",
          "xref": "paper",
          "y": 1,
          "yanchor": "bottom",
          "yref": "paper"
         },
         {
          "font": {},
          "showarrow": false,
          "text": "October",
          "x": 0.585,
          "xanchor": "center",
          "xref": "paper",
          "y": 1,
          "yanchor": "bottom",
          "yref": "paper"
         },
         {
          "font": {},
          "showarrow": false,
          "text": "November",
          "x": 0.7549999999999999,
          "xanchor": "center",
          "xref": "paper",
          "y": 1,
          "yanchor": "bottom",
          "yref": "paper"
         },
         {
          "font": {},
          "showarrow": false,
          "text": "December",
          "x": 0.925,
          "xanchor": "center",
          "xref": "paper",
          "y": 1,
          "yanchor": "bottom",
          "yref": "paper"
         }
        ],
        "autosize": true,
        "barmode": "relative",
        "legend": {
         "title": {
          "text": "Stage"
         },
         "tracegroupgap": 0
        },
        "margin": {
         "t": 60
        },
        "plot_bgcolor": "#DADADA",
        "template": {
         "data": {
          "bar": [
           {
            "error_x": {
             "color": "#2a3f5f"
            },
            "error_y": {
             "color": "#2a3f5f"
            },
            "marker": {
             "line": {
              "color": "#E5ECF6",
              "width": 0.5
             },
             "pattern": {
              "fillmode": "overlay",
              "size": 10,
              "solidity": 0.2
             }
            },
            "type": "bar"
           }
          ],
          "barpolar": [
           {
            "marker": {
             "line": {
              "color": "#E5ECF6",
              "width": 0.5
             },
             "pattern": {
              "fillmode": "overlay",
              "size": 10,
              "solidity": 0.2
             }
            },
            "type": "barpolar"
           }
          ],
          "carpet": [
           {
            "aaxis": {
             "endlinecolor": "#2a3f5f",
             "gridcolor": "white",
             "linecolor": "white",
             "minorgridcolor": "white",
             "startlinecolor": "#2a3f5f"
            },
            "baxis": {
             "endlinecolor": "#2a3f5f",
             "gridcolor": "white",
             "linecolor": "white",
             "minorgridcolor": "white",
             "startlinecolor": "#2a3f5f"
            },
            "type": "carpet"
           }
          ],
          "choropleth": [
           {
            "colorbar": {
             "outlinewidth": 0,
             "ticks": ""
            },
            "type": "choropleth"
           }
          ],
          "contour": [
           {
            "colorbar": {
             "outlinewidth": 0,
             "ticks": ""
            },
            "colorscale": [
             [
              0,
              "#0d0887"
             ],
             [
              0.1111111111111111,
              "#46039f"
             ],
             [
              0.2222222222222222,
              "#7201a8"
             ],
             [
              0.3333333333333333,
              "#9c179e"
             ],
             [
              0.4444444444444444,
              "#bd3786"
             ],
             [
              0.5555555555555556,
              "#d8576b"
             ],
             [
              0.6666666666666666,
              "#ed7953"
             ],
             [
              0.7777777777777778,
              "#fb9f3a"
             ],
             [
              0.8888888888888888,
              "#fdca26"
             ],
             [
              1,
              "#f0f921"
             ]
            ],
            "type": "contour"
           }
          ],
          "contourcarpet": [
           {
            "colorbar": {
             "outlinewidth": 0,
             "ticks": ""
            },
            "type": "contourcarpet"
           }
          ],
          "heatmap": [
           {
            "colorbar": {
             "outlinewidth": 0,
             "ticks": ""
            },
            "colorscale": [
             [
              0,
              "#0d0887"
             ],
             [
              0.1111111111111111,
              "#46039f"
             ],
             [
              0.2222222222222222,
              "#7201a8"
             ],
             [
              0.3333333333333333,
              "#9c179e"
             ],
             [
              0.4444444444444444,
              "#bd3786"
             ],
             [
              0.5555555555555556,
              "#d8576b"
             ],
             [
              0.6666666666666666,
              "#ed7953"
             ],
             [
              0.7777777777777778,
              "#fb9f3a"
             ],
             [
              0.8888888888888888,
              "#fdca26"
             ],
             [
              1,
              "#f0f921"
             ]
            ],
            "type": "heatmap"
           }
          ],
          "heatmapgl": [
           {
            "colorbar": {
             "outlinewidth": 0,
             "ticks": ""
            },
            "colorscale": [
             [
              0,
              "#0d0887"
             ],
             [
              0.1111111111111111,
              "#46039f"
             ],
             [
              0.2222222222222222,
              "#7201a8"
             ],
             [
              0.3333333333333333,
              "#9c179e"
             ],
             [
              0.4444444444444444,
              "#bd3786"
             ],
             [
              0.5555555555555556,
              "#d8576b"
             ],
             [
              0.6666666666666666,
              "#ed7953"
             ],
             [
              0.7777777777777778,
              "#fb9f3a"
             ],
             [
              0.8888888888888888,
              "#fdca26"
             ],
             [
              1,
              "#f0f921"
             ]
            ],
            "type": "heatmapgl"
           }
          ],
          "histogram": [
           {
            "marker": {
             "pattern": {
              "fillmode": "overlay",
              "size": 10,
              "solidity": 0.2
             }
            },
            "type": "histogram"
           }
          ],
          "histogram2d": [
           {
            "colorbar": {
             "outlinewidth": 0,
             "ticks": ""
            },
            "colorscale": [
             [
              0,
              "#0d0887"
             ],
             [
              0.1111111111111111,
              "#46039f"
             ],
             [
              0.2222222222222222,
              "#7201a8"
             ],
             [
              0.3333333333333333,
              "#9c179e"
             ],
             [
              0.4444444444444444,
              "#bd3786"
             ],
             [
              0.5555555555555556,
              "#d8576b"
             ],
             [
              0.6666666666666666,
              "#ed7953"
             ],
             [
              0.7777777777777778,
              "#fb9f3a"
             ],
             [
              0.8888888888888888,
              "#fdca26"
             ],
             [
              1,
              "#f0f921"
             ]
            ],
            "type": "histogram2d"
           }
          ],
          "histogram2dcontour": [
           {
            "colorbar": {
             "outlinewidth": 0,
             "ticks": ""
            },
            "colorscale": [
             [
              0,
              "#0d0887"
             ],
             [
              0.1111111111111111,
              "#46039f"
             ],
             [
              0.2222222222222222,
              "#7201a8"
             ],
             [
              0.3333333333333333,
              "#9c179e"
             ],
             [
              0.4444444444444444,
              "#bd3786"
             ],
             [
              0.5555555555555556,
              "#d8576b"
             ],
             [
              0.6666666666666666,
              "#ed7953"
             ],
             [
              0.7777777777777778,
              "#fb9f3a"
             ],
             [
              0.8888888888888888,
              "#fdca26"
             ],
             [
              1,
              "#f0f921"
             ]
            ],
            "type": "histogram2dcontour"
           }
          ],
          "mesh3d": [
           {
            "colorbar": {
             "outlinewidth": 0,
             "ticks": ""
            },
            "type": "mesh3d"
           }
          ],
          "parcoords": [
           {
            "line": {
             "colorbar": {
              "outlinewidth": 0,
              "ticks": ""
             }
            },
            "type": "parcoords"
           }
          ],
          "pie": [
           {
            "automargin": true,
            "type": "pie"
           }
          ],
          "scatter": [
           {
            "marker": {
             "colorbar": {
              "outlinewidth": 0,
              "ticks": ""
             }
            },
            "type": "scatter"
           }
          ],
          "scatter3d": [
           {
            "line": {
             "colorbar": {
              "outlinewidth": 0,
              "ticks": ""
             }
            },
            "marker": {
             "colorbar": {
              "outlinewidth": 0,
              "ticks": ""
             }
            },
            "type": "scatter3d"
           }
          ],
          "scattercarpet": [
           {
            "marker": {
             "colorbar": {
              "outlinewidth": 0,
              "ticks": ""
             }
            },
            "type": "scattercarpet"
           }
          ],
          "scattergeo": [
           {
            "marker": {
             "colorbar": {
              "outlinewidth": 0,
              "ticks": ""
             }
            },
            "type": "scattergeo"
           }
          ],
          "scattergl": [
           {
            "marker": {
             "colorbar": {
              "outlinewidth": 0,
              "ticks": ""
             }
            },
            "type": "scattergl"
           }
          ],
          "scattermapbox": [
           {
            "marker": {
             "colorbar": {
              "outlinewidth": 0,
              "ticks": ""
             }
            },
            "type": "scattermapbox"
           }
          ],
          "scatterpolar": [
           {
            "marker": {
             "colorbar": {
              "outlinewidth": 0,
              "ticks": ""
             }
            },
            "type": "scatterpolar"
           }
          ],
          "scatterpolargl": [
           {
            "marker": {
             "colorbar": {
              "outlinewidth": 0,
              "ticks": ""
             }
            },
            "type": "scatterpolargl"
           }
          ],
          "scatterternary": [
           {
            "marker": {
             "colorbar": {
              "outlinewidth": 0,
              "ticks": ""
             }
            },
            "type": "scatterternary"
           }
          ],
          "surface": [
           {
            "colorbar": {
             "outlinewidth": 0,
             "ticks": ""
            },
            "colorscale": [
             [
              0,
              "#0d0887"
             ],
             [
              0.1111111111111111,
              "#46039f"
             ],
             [
              0.2222222222222222,
              "#7201a8"
             ],
             [
              0.3333333333333333,
              "#9c179e"
             ],
             [
              0.4444444444444444,
              "#bd3786"
             ],
             [
              0.5555555555555556,
              "#d8576b"
             ],
             [
              0.6666666666666666,
              "#ed7953"
             ],
             [
              0.7777777777777778,
              "#fb9f3a"
             ],
             [
              0.8888888888888888,
              "#fdca26"
             ],
             [
              1,
              "#f0f921"
             ]
            ],
            "type": "surface"
           }
          ],
          "table": [
           {
            "cells": {
             "fill": {
              "color": "#EBF0F8"
             },
             "line": {
              "color": "white"
             }
            },
            "header": {
             "fill": {
              "color": "#C8D4E3"
             },
             "line": {
              "color": "white"
             }
            },
            "type": "table"
           }
          ]
         },
         "layout": {
          "annotationdefaults": {
           "arrowcolor": "#2a3f5f",
           "arrowhead": 0,
           "arrowwidth": 1
          },
          "autotypenumbers": "strict",
          "coloraxis": {
           "colorbar": {
            "outlinewidth": 0,
            "ticks": ""
           }
          },
          "colorscale": {
           "diverging": [
            [
             0,
             "#8e0152"
            ],
            [
             0.1,
             "#c51b7d"
            ],
            [
             0.2,
             "#de77ae"
            ],
            [
             0.3,
             "#f1b6da"
            ],
            [
             0.4,
             "#fde0ef"
            ],
            [
             0.5,
             "#f7f7f7"
            ],
            [
             0.6,
             "#e6f5d0"
            ],
            [
             0.7,
             "#b8e186"
            ],
            [
             0.8,
             "#7fbc41"
            ],
            [
             0.9,
             "#4d9221"
            ],
            [
             1,
             "#276419"
            ]
           ],
           "sequential": [
            [
             0,
             "#0d0887"
            ],
            [
             0.1111111111111111,
             "#46039f"
            ],
            [
             0.2222222222222222,
             "#7201a8"
            ],
            [
             0.3333333333333333,
             "#9c179e"
            ],
            [
             0.4444444444444444,
             "#bd3786"
            ],
            [
             0.5555555555555556,
             "#d8576b"
            ],
            [
             0.6666666666666666,
             "#ed7953"
            ],
            [
             0.7777777777777778,
             "#fb9f3a"
            ],
            [
             0.8888888888888888,
             "#fdca26"
            ],
            [
             1,
             "#f0f921"
            ]
           ],
           "sequentialminus": [
            [
             0,
             "#0d0887"
            ],
            [
             0.1111111111111111,
             "#46039f"
            ],
            [
             0.2222222222222222,
             "#7201a8"
            ],
            [
             0.3333333333333333,
             "#9c179e"
            ],
            [
             0.4444444444444444,
             "#bd3786"
            ],
            [
             0.5555555555555556,
             "#d8576b"
            ],
            [
             0.6666666666666666,
             "#ed7953"
            ],
            [
             0.7777777777777778,
             "#fb9f3a"
            ],
            [
             0.8888888888888888,
             "#fdca26"
            ],
            [
             1,
             "#f0f921"
            ]
           ]
          },
          "colorway": [
           "#636efa",
           "#EF553B",
           "#00cc96",
           "#ab63fa",
           "#FFA15A",
           "#19d3f3",
           "#FF6692",
           "#B6E880",
           "#FF97FF",
           "#FECB52"
          ],
          "font": {
           "color": "#2a3f5f"
          },
          "geo": {
           "bgcolor": "white",
           "lakecolor": "white",
           "landcolor": "#E5ECF6",
           "showlakes": true,
           "showland": true,
           "subunitcolor": "white"
          },
          "hoverlabel": {
           "align": "left"
          },
          "hovermode": "closest",
          "mapbox": {
           "style": "light"
          },
          "paper_bgcolor": "white",
          "plot_bgcolor": "#E5ECF6",
          "polar": {
           "angularaxis": {
            "gridcolor": "white",
            "linecolor": "white",
            "ticks": ""
           },
           "bgcolor": "#E5ECF6",
           "radialaxis": {
            "gridcolor": "white",
            "linecolor": "white",
            "ticks": ""
           }
          },
          "scene": {
           "xaxis": {
            "backgroundcolor": "#E5ECF6",
            "gridcolor": "white",
            "gridwidth": 2,
            "linecolor": "white",
            "showbackground": true,
            "ticks": "",
            "zerolinecolor": "white"
           },
           "yaxis": {
            "backgroundcolor": "#E5ECF6",
            "gridcolor": "white",
            "gridwidth": 2,
            "linecolor": "white",
            "showbackground": true,
            "ticks": "",
            "zerolinecolor": "white"
           },
           "zaxis": {
            "backgroundcolor": "#E5ECF6",
            "gridcolor": "white",
            "gridwidth": 2,
            "linecolor": "white",
            "showbackground": true,
            "ticks": "",
            "zerolinecolor": "white"
           }
          },
          "shapedefaults": {
           "line": {
            "color": "#2a3f5f"
           }
          },
          "ternary": {
           "aaxis": {
            "gridcolor": "white",
            "linecolor": "white",
            "ticks": ""
           },
           "baxis": {
            "gridcolor": "white",
            "linecolor": "white",
            "ticks": ""
           },
           "bgcolor": "#E5ECF6",
           "caxis": {
            "gridcolor": "white",
            "linecolor": "white",
            "ticks": ""
           }
          },
          "title": {
           "x": 0.05
          },
          "xaxis": {
           "automargin": true,
           "gridcolor": "white",
           "linecolor": "white",
           "ticks": "",
           "title": {
            "standoff": 15
           },
           "zerolinecolor": "white",
           "zerolinewidth": 2
          },
          "yaxis": {
           "automargin": true,
           "gridcolor": "white",
           "linecolor": "white",
           "ticks": "",
           "title": {
            "standoff": 15
           },
           "zerolinecolor": "white",
           "zerolinewidth": 2
          }
         }
        },
        "title": {
         "font": {
          "size": 24
         },
         "pad": {
          "b": 500
         },
         "text": "Comparison Pipeline value by opportunities date creation"
        },
        "xaxis": {
         "anchor": "y",
         "autorange": true,
         "categoryarray": [
          "All time",
          "Last 6 month"
         ],
         "categoryorder": "array",
         "domain": [
          0,
          0.15
         ],
         "range": [
          -0.5,
          1.5
         ],
         "title": {
          "text": ""
         },
         "type": "category"
        },
        "xaxis2": {
         "anchor": "y2",
         "autorange": true,
         "categoryarray": [
          "All time",
          "Last 6 month"
         ],
         "categoryorder": "array",
         "domain": [
          0.16999999999999998,
          0.31999999999999995
         ],
         "matches": "x",
         "range": [
          -0.5,
          1.5
         ],
         "title": {
          "text": ""
         },
         "type": "category"
        },
        "xaxis3": {
         "anchor": "y3",
         "autorange": true,
         "categoryarray": [
          "All time",
          "Last 6 month"
         ],
         "categoryorder": "array",
         "domain": [
          0.33999999999999997,
          0.49
         ],
         "matches": "x",
         "range": [
          -0.5,
          1.5
         ],
         "title": {
          "text": ""
         },
         "type": "category"
        },
        "xaxis4": {
         "anchor": "y4",
         "autorange": true,
         "categoryarray": [
          "All time",
          "Last 6 month"
         ],
         "categoryorder": "array",
         "domain": [
          0.51,
          0.66
         ],
         "matches": "x",
         "range": [
          -0.5,
          1.5
         ],
         "title": {
          "text": ""
         },
         "type": "category"
        },
        "xaxis5": {
         "anchor": "y5",
         "autorange": true,
         "categoryarray": [
          "All time",
          "Last 6 month"
         ],
         "categoryorder": "array",
         "domain": [
          0.6799999999999999,
          0.83
         ],
         "matches": "x",
         "range": [
          -0.5,
          1.5
         ],
         "title": {
          "text": ""
         },
         "type": "category"
        },
        "xaxis6": {
         "anchor": "y6",
         "autorange": true,
         "categoryarray": [
          "All time",
          "Last 6 month"
         ],
         "categoryorder": "array",
         "domain": [
          0.85,
          1
         ],
         "matches": "x",
         "range": [
          -0.5,
          1.5
         ],
         "title": {
          "text": ""
         },
         "type": "category"
        },
        "yaxis": {
         "anchor": "x",
         "autorange": true,
         "domain": [
          0,
          1
         ],
         "range": [
          0,
          2216453.410526316
         ],
         "title": {
          "text": ""
         },
         "type": "linear"
        },
        "yaxis2": {
         "anchor": "x2",
         "autorange": true,
         "domain": [
          0,
          1
         ],
         "matches": "y",
         "range": [
          0,
          2216453.410526316
         ],
         "showticklabels": false,
         "title": {
          "text": ""
         },
         "type": "linear"
        },
        "yaxis3": {
         "anchor": "x3",
         "autorange": true,
         "domain": [
          0,
          1
         ],
         "matches": "y",
         "range": [
          0,
          2216453.410526316
         ],
         "showticklabels": false,
         "title": {
          "text": ""
         },
         "type": "linear"
        },
        "yaxis4": {
         "anchor": "x4",
         "autorange": true,
         "domain": [
          0,
          1
         ],
         "matches": "y",
         "range": [
          0,
          2216453.410526316
         ],
         "showticklabels": false,
         "title": {
          "text": ""
         },
         "type": "linear"
        },
        "yaxis5": {
         "anchor": "x5",
         "autorange": true,
         "domain": [
          0,
          1
         ],
         "matches": "y",
         "range": [
          0,
          2216453.410526316
         ],
         "showticklabels": false,
         "title": {
          "text": ""
         },
         "type": "linear"
        },
        "yaxis6": {
         "anchor": "x6",
         "autorange": true,
         "domain": [
          0,
          1
         ],
         "matches": "y",
         "range": [
          0,
          2216453.410526316
         ],
         "showticklabels": false,
         "title": {
          "text": ""
         },
         "type": "linear"
        }
       }
      },
      "image/png": "[encoded data removed]",
      "text/html": [
       "<div>                            <div id=\"123ee1ce-6e5b-41a0-a4d4-9a5f1fcec12c\" class=\"plotly-graph-div\" style=\"height:525px; width:100%;\"></div>            <script type=\"text/javascript\">                require([\"plotly\"], function(Plotly) {                    window.PLOTLYENV=window.PLOTLYENV || {};                                    if (document.getElementById(\"123ee1ce-6e5b-41a0-a4d4-9a5f1fcec12c\")) {                    Plotly.newPlot(                        \"123ee1ce-6e5b-41a0-a4d4-9a5f1fcec12c\",                        [{\"alignmentgroup\":\"True\",\"hovertemplate\":\"Stage=Qualification<br>Close Date=July<br>Opportunities created date=%{x}<br>Pipeline Value=%{y}<extra></extra>\",\"legendgroup\":\"Qualification\",\"marker\":{\"color\":\"#B5C6E1\",\"pattern\":{\"shape\":\"\"}},\"name\":\"Qualification\",\"offsetgroup\":\"Qualification\",\"orientation\":\"v\",\"showlegend\":true,\"textposition\":\"auto\",\"x\":[\"Last 6 month\",\"All time\"],\"xaxis\":\"x\",\"y\":[78815.33,282865.33],\"yaxis\":\"y\",\"type\":\"bar\"},{\"alignmentgroup\":\"True\",\"hovertemplate\":\"Stage=Qualification<br>Close Date=August<br>Opportunities created date=%{x}<br>Pipeline Value=%{y}<extra></extra>\",\"legendgroup\":\"Qualification\",\"marker\":{\"color\":\"#B5C6E1\",\"pattern\":{\"shape\":\"\"}},\"name\":\"Qualification\",\"offsetgroup\":\"Qualification\",\"orientation\":\"v\",\"showlegend\":false,\"textposition\":\"auto\",\"x\":[\"Last 6 month\",\"All time\"],\"xaxis\":\"x2\",\"y\":[2850.0,2850.0],\"yaxis\":\"y2\",\"type\":\"bar\"},{\"alignmentgroup\":\"True\",\"hovertemplate\":\"Stage=Qualification<br>Close Date=September<br>Opportunities created date=%{x}<br>Pipeline Value=%{y}<extra></extra>\",\"legendgroup\":\"Qualification\",\"marker\":{\"color\":\"#B5C6E1\",\"pattern\":{\"shape\":\"\"}},\"name\":\"Qualification\",\"offsetgroup\":\"Qualification\",\"orientation\":\"v\",\"showlegend\":false,\"textposition\":\"auto\",\"x\":[\"Last 6 month\",\"All time\"],\"xaxis\":\"x3\",\"y\":[60909.0,123189.0],\"yaxis\":\"y3\",\"type\":\"bar\"},{\"alignmentgroup\":\"True\",\"hovertemplate\":\"Stage=Qualification<br>Close Date=October<br>Opportunities created date=%{x}<br>Pipeline Value=%{y}<extra></extra>\",\"legendgroup\":\"Qualification\",\"marker\":{\"color\":\"#B5C6E1\",\"pattern\":{\"shape\":\"\"}},\"name\":\"Qualification\",\"offsetgroup\":\"Qualification\",\"orientation\":\"v\",\"showlegend\":false,\"textposition\":\"auto\",\"x\":[\"Last 6 month\",\"All time\"],\"xaxis\":\"x4\",\"y\":[0.0,90000.0],\"yaxis\":\"y4\",\"type\":\"bar\"},{\"alignmentgroup\":\"True\",\"hovertemplate\":\"Stage=Qualification<br>Close Date=November<br>Opportunities created date=%{x}<br>Pipeline Value=%{y}<extra></extra>\",\"legendgroup\":\"Qualification\",\"marker\":{\"color\":\"#B5C6E1\",\"pattern\":{\"shape\":\"\"}},\"name\":\"Qualification\",\"offsetgroup\":\"Qualification\",\"orientation\":\"v\",\"showlegend\":false,\"textposition\":\"auto\",\"x\":[\"Last 6 month\",\"All time\"],\"xaxis\":\"x5\",\"y\":[0.0,281000.0],\"yaxis\":\"y5\",\"type\":\"bar\"},{\"alignmentgroup\":\"True\",\"hovertemplate\":\"Stage=Qualification<br>Close Date=December<br>Opportunities created date=%{x}<br>Pipeline Value=%{y}<extra></extra>\",\"legendgroup\":\"Qualification\",\"marker\":{\"color\":\"#B5C6E1\",\"pattern\":{\"shape\":\"\"}},\"name\":\"Qualification\",\"offsetgroup\":\"Qualification\",\"orientation\":\"v\",\"showlegend\":false,\"textposition\":\"auto\",\"x\":[\"Last 6 month\",\"All time\"],\"xaxis\":\"x6\",\"y\":[2040.0,272040.0],\"yaxis\":\"y6\",\"type\":\"bar\"},{\"alignmentgroup\":\"True\",\"hovertemplate\":\"Stage=Needs Analysis<br>Close Date=July<br>Opportunities created date=%{x}<br>Pipeline Value=%{y}<extra></extra>\",\"legendgroup\":\"Needs Analysis\",\"marker\":{\"color\":\"#007AC3\",\"pattern\":{\"shape\":\"\"}},\"name\":\"Needs Analysis\",\"offsetgroup\":\"Needs Analysis\",\"orientation\":\"v\",\"showlegend\":true,\"textposition\":\"auto\",\"x\":[\"Last 6 month\",\"All time\"],\"xaxis\":\"x\",\"y\":[805.0,805.0],\"yaxis\":\"y\",\"type\":\"bar\"},{\"alignmentgroup\":\"True\",\"hovertemplate\":\"Stage=Needs Analysis<br>Close Date=September<br>Opportunities created date=%{x}<br>Pipeline Value=%{y}<extra></extra>\",\"legendgroup\":\"Needs Analysis\",\"marker\":{\"color\":\"#007AC3\",\"pattern\":{\"shape\":\"\"}},\"name\":\"Needs Analysis\",\"offsetgroup\":\"Needs Analysis\",\"orientation\":\"v\",\"showlegend\":false,\"textposition\":\"auto\",\"x\":[\"Last 6 month\",\"All time\"],\"xaxis\":\"x3\",\"y\":[2000.0,102000.0],\"yaxis\":\"y3\",\"type\":\"bar\"},{\"alignmentgroup\":\"True\",\"hovertemplate\":\"Stage=Needs Analysis<br>Close Date=October<br>Opportunities created date=%{x}<br>Pipeline Value=%{y}<extra></extra>\",\"legendgroup\":\"Needs Analysis\",\"marker\":{\"color\":\"#007AC3\",\"pattern\":{\"shape\":\"\"}},\"name\":\"Needs Analysis\",\"offsetgroup\":\"Needs Analysis\",\"orientation\":\"v\",\"showlegend\":false,\"textposition\":\"auto\",\"x\":[\"Last 6 month\",\"All time\"],\"xaxis\":\"x4\",\"y\":[15000.0,15000.0],\"yaxis\":\"y4\",\"type\":\"bar\"},{\"alignmentgroup\":\"True\",\"hovertemplate\":\"Stage=Needs Analysis<br>Close Date=November<br>Opportunities created date=%{x}<br>Pipeline Value=%{y}<extra></extra>\",\"legendgroup\":\"Needs Analysis\",\"marker\":{\"color\":\"#007AC3\",\"pattern\":{\"shape\":\"\"}},\"name\":\"Needs Analysis\",\"offsetgroup\":\"Needs Analysis\",\"orientation\":\"v\",\"showlegend\":false,\"textposition\":\"auto\",\"x\":[\"Last 6 month\",\"All time\"],\"xaxis\":\"x5\",\"y\":[600.0,600.0],\"yaxis\":\"y5\",\"type\":\"bar\"},{\"alignmentgroup\":\"True\",\"hovertemplate\":\"Stage=Solution Presentation / Demo<br>Close Date=July<br>Opportunities created date=%{x}<br>Pipeline Value=%{y}<extra></extra>\",\"legendgroup\":\"Solution Presentation / Demo\",\"marker\":{\"color\":\"#007BC8\",\"pattern\":{\"shape\":\"\"}},\"name\":\"Solution Presentation / Demo\",\"offsetgroup\":\"Solution Presentation / Demo\",\"orientation\":\"v\",\"showlegend\":true,\"textposition\":\"auto\",\"x\":[\"Last 6 month\",\"All time\"],\"xaxis\":\"x\",\"y\":[464965.0,868664.45],\"yaxis\":\"y\",\"type\":\"bar\"},{\"alignmentgroup\":\"True\",\"hovertemplate\":\"Stage=Solution Presentation / Demo<br>Close Date=August<br>Opportunities created date=%{x}<br>Pipeline Value=%{y}<extra></extra>\",\"legendgroup\":\"Solution Presentation / Demo\",\"marker\":{\"color\":\"#007BC8\",\"pattern\":{\"shape\":\"\"}},\"name\":\"Solution Presentation / Demo\",\"offsetgroup\":\"Solution Presentation / Demo\",\"orientation\":\"v\",\"showlegend\":false,\"textposition\":\"auto\",\"x\":[\"Last 6 month\",\"All time\"],\"xaxis\":\"x2\",\"y\":[30850.0,31450.0],\"yaxis\":\"y2\",\"type\":\"bar\"},{\"alignmentgroup\":\"True\",\"hovertemplate\":\"Stage=Solution Presentation / Demo<br>Close Date=September<br>Opportunities created date=%{x}<br>Pipeline Value=%{y}<extra></extra>\",\"legendgroup\":\"Solution Presentation / Demo\",\"marker\":{\"color\":\"#007BC8\",\"pattern\":{\"shape\":\"\"}},\"name\":\"Solution Presentation / Demo\",\"offsetgroup\":\"Solution Presentation / Demo\",\"orientation\":\"v\",\"showlegend\":false,\"textposition\":\"auto\",\"x\":[\"Last 6 month\",\"All time\"],\"xaxis\":\"x3\",\"y\":[124325.0,179125.0],\"yaxis\":\"y3\",\"type\":\"bar\"},{\"alignmentgroup\":\"True\",\"hovertemplate\":\"Stage=Solution Presentation / Demo<br>Close Date=October<br>Opportunities created date=%{x}<br>Pipeline Value=%{y}<extra></extra>\",\"legendgroup\":\"Solution Presentation / Demo\",\"marker\":{\"color\":\"#007BC8\",\"pattern\":{\"shape\":\"\"}},\"name\":\"Solution Presentation / Demo\",\"offsetgroup\":\"Solution Presentation / Demo\",\"orientation\":\"v\",\"showlegend\":false,\"textposition\":\"auto\",\"x\":[\"Last 6 month\",\"All time\"],\"xaxis\":\"x4\",\"y\":[30850.0,87300.0],\"yaxis\":\"y4\",\"type\":\"bar\"},{\"alignmentgroup\":\"True\",\"hovertemplate\":\"Stage=Solution Presentation / Demo<br>Close Date=November<br>Opportunities created date=%{x}<br>Pipeline Value=%{y}<extra></extra>\",\"legendgroup\":\"Solution Presentation / Demo\",\"marker\":{\"color\":\"#007BC8\",\"pattern\":{\"shape\":\"\"}},\"name\":\"Solution Presentation / Demo\",\"offsetgroup\":\"Solution Presentation / Demo\",\"orientation\":\"v\",\"showlegend\":false,\"textposition\":\"auto\",\"x\":[\"Last 6 month\",\"All time\"],\"xaxis\":\"x5\",\"y\":[1150.0,1750.0],\"yaxis\":\"y5\",\"type\":\"bar\"},{\"alignmentgroup\":\"True\",\"hovertemplate\":\"Stage=Solution Presentation / Demo<br>Close Date=December<br>Opportunities created date=%{x}<br>Pipeline Value=%{y}<extra></extra>\",\"legendgroup\":\"Solution Presentation / Demo\",\"marker\":{\"color\":\"#007BC8\",\"pattern\":{\"shape\":\"\"}},\"name\":\"Solution Presentation / Demo\",\"offsetgroup\":\"Solution Presentation / Demo\",\"orientation\":\"v\",\"showlegend\":false,\"textposition\":\"auto\",\"x\":[\"Last 6 month\",\"All time\"],\"xaxis\":\"x6\",\"y\":[54200.0,88230.0],\"yaxis\":\"y6\",\"type\":\"bar\"},{\"alignmentgroup\":\"True\",\"hovertemplate\":\"Stage=Proposal<br>Close Date=July<br>Opportunities created date=%{x}<br>Pipeline Value=%{y}<extra></extra>\",\"legendgroup\":\"Proposal\",\"marker\":{\"color\":\"#006BAC\",\"pattern\":{\"shape\":\"\"}},\"name\":\"Proposal\",\"offsetgroup\":\"Proposal\",\"orientation\":\"v\",\"showlegend\":true,\"textposition\":\"auto\",\"x\":[\"Last 6 month\",\"All time\"],\"xaxis\":\"x\",\"y\":[483798.0,766601.63],\"yaxis\":\"y\",\"type\":\"bar\"},{\"alignmentgroup\":\"True\",\"hovertemplate\":\"Stage=Proposal<br>Close Date=August<br>Opportunities created date=%{x}<br>Pipeline Value=%{y}<extra></extra>\",\"legendgroup\":\"Proposal\",\"marker\":{\"color\":\"#006BAC\",\"pattern\":{\"shape\":\"\"}},\"name\":\"Proposal\",\"offsetgroup\":\"Proposal\",\"orientation\":\"v\",\"showlegend\":false,\"textposition\":\"auto\",\"x\":[\"Last 6 month\",\"All time\"],\"xaxis\":\"x2\",\"y\":[2675.0,2675.0],\"yaxis\":\"y2\",\"type\":\"bar\"},{\"alignmentgroup\":\"True\",\"hovertemplate\":\"Stage=Proposal<br>Close Date=September<br>Opportunities created date=%{x}<br>Pipeline Value=%{y}<extra></extra>\",\"legendgroup\":\"Proposal\",\"marker\":{\"color\":\"#006BAC\",\"pattern\":{\"shape\":\"\"}},\"name\":\"Proposal\",\"offsetgroup\":\"Proposal\",\"orientation\":\"v\",\"showlegend\":false,\"textposition\":\"auto\",\"x\":[\"Last 6 month\",\"All time\"],\"xaxis\":\"x3\",\"y\":[71636.0,166993.48],\"yaxis\":\"y3\",\"type\":\"bar\"},{\"alignmentgroup\":\"True\",\"hovertemplate\":\"Stage=Proposal<br>Close Date=October<br>Opportunities created date=%{x}<br>Pipeline Value=%{y}<extra></extra>\",\"legendgroup\":\"Proposal\",\"marker\":{\"color\":\"#006BAC\",\"pattern\":{\"shape\":\"\"}},\"name\":\"Proposal\",\"offsetgroup\":\"Proposal\",\"orientation\":\"v\",\"showlegend\":false,\"textposition\":\"auto\",\"x\":[\"Last 6 month\",\"All time\"],\"xaxis\":\"x4\",\"y\":[55665.0,81515.0],\"yaxis\":\"y4\",\"type\":\"bar\"},{\"alignmentgroup\":\"True\",\"hovertemplate\":\"Stage=Proposal<br>Close Date=November<br>Opportunities created date=%{x}<br>Pipeline Value=%{y}<extra></extra>\",\"legendgroup\":\"Proposal\",\"marker\":{\"color\":\"#006BAC\",\"pattern\":{\"shape\":\"\"}},\"name\":\"Proposal\",\"offsetgroup\":\"Proposal\",\"orientation\":\"v\",\"showlegend\":false,\"textposition\":\"auto\",\"x\":[\"Last 6 month\",\"All time\"],\"xaxis\":\"x5\",\"y\":[7825.0,25325.0],\"yaxis\":\"y5\",\"type\":\"bar\"},{\"alignmentgroup\":\"True\",\"hovertemplate\":\"Stage=Proposal<br>Close Date=December<br>Opportunities created date=%{x}<br>Pipeline Value=%{y}<extra></extra>\",\"legendgroup\":\"Proposal\",\"marker\":{\"color\":\"#006BAC\",\"pattern\":{\"shape\":\"\"}},\"name\":\"Proposal\",\"offsetgroup\":\"Proposal\",\"orientation\":\"v\",\"showlegend\":false,\"textposition\":\"auto\",\"x\":[\"Last 6 month\",\"All time\"],\"xaxis\":\"x6\",\"y\":[680.0,122137.96],\"yaxis\":\"y6\",\"type\":\"bar\"},{\"alignmentgroup\":\"True\",\"hovertemplate\":\"Stage=Negotiation<br>Close Date=July<br>Opportunities created date=%{x}<br>Pipeline Value=%{y}<extra></extra>\",\"legendgroup\":\"Negotiation\",\"marker\":{\"color\":\"#005A92\",\"pattern\":{\"shape\":\"\"}},\"name\":\"Negotiation\",\"offsetgroup\":\"Negotiation\",\"orientation\":\"v\",\"showlegend\":true,\"textposition\":\"auto\",\"x\":[\"Last 6 month\",\"All time\"],\"xaxis\":\"x\",\"y\":[146404.33000000002,186694.33000000002],\"yaxis\":\"y\",\"type\":\"bar\"},{\"alignmentgroup\":\"True\",\"hovertemplate\":\"Stage=Negotiation<br>Close Date=August<br>Opportunities created date=%{x}<br>Pipeline Value=%{y}<extra></extra>\",\"legendgroup\":\"Negotiation\",\"marker\":{\"color\":\"#005A92\",\"pattern\":{\"shape\":\"\"}},\"name\":\"Negotiation\",\"offsetgroup\":\"Negotiation\",\"orientation\":\"v\",\"showlegend\":false,\"textposition\":\"auto\",\"x\":[\"Last 6 month\",\"All time\"],\"xaxis\":\"x2\",\"y\":[5000.0,5000.0],\"yaxis\":\"y2\",\"type\":\"bar\"},{\"alignmentgroup\":\"True\",\"hovertemplate\":\"Stage=Negotiation<br>Close Date=September<br>Opportunities created date=%{x}<br>Pipeline Value=%{y}<extra></extra>\",\"legendgroup\":\"Negotiation\",\"marker\":{\"color\":\"#005A92\",\"pattern\":{\"shape\":\"\"}},\"name\":\"Negotiation\",\"offsetgroup\":\"Negotiation\",\"orientation\":\"v\",\"showlegend\":false,\"textposition\":\"auto\",\"x\":[\"Last 6 month\",\"All time\"],\"xaxis\":\"x3\",\"y\":[12870.0,23380.0],\"yaxis\":\"y3\",\"type\":\"bar\"},{\"alignmentgroup\":\"True\",\"hovertemplate\":\"Stage=Negotiation<br>Close Date=October<br>Opportunities created date=%{x}<br>Pipeline Value=%{y}<extra></extra>\",\"legendgroup\":\"Negotiation\",\"marker\":{\"color\":\"#005A92\",\"pattern\":{\"shape\":\"\"}},\"name\":\"Negotiation\",\"offsetgroup\":\"Negotiation\",\"orientation\":\"v\",\"showlegend\":false,\"textposition\":\"auto\",\"x\":[\"Last 6 month\",\"All time\"],\"xaxis\":\"x4\",\"y\":[2000.0,5680.0],\"yaxis\":\"y4\",\"type\":\"bar\"},{\"alignmentgroup\":\"True\",\"hovertemplate\":\"Stage=Negotiation<br>Close Date=November<br>Opportunities created date=%{x}<br>Pipeline Value=%{y}<extra></extra>\",\"legendgroup\":\"Negotiation\",\"marker\":{\"color\":\"#005A92\",\"pattern\":{\"shape\":\"\"}},\"name\":\"Negotiation\",\"offsetgroup\":\"Negotiation\",\"orientation\":\"v\",\"showlegend\":false,\"textposition\":\"auto\",\"x\":[\"All time\"],\"xaxis\":\"x5\",\"y\":[10300.0],\"yaxis\":\"y5\",\"type\":\"bar\"}],                        {\"template\":{\"data\":{\"bar\":[{\"error_x\":{\"color\":\"#2a3f5f\"},\"error_y\":{\"color\":\"#2a3f5f\"},\"marker\":{\"line\":{\"color\":\"#E5ECF6\",\"width\":0.5},\"pattern\":{\"fillmode\":\"overlay\",\"size\":10,\"solidity\":0.2}},\"type\":\"bar\"}],\"barpolar\":[{\"marker\":{\"line\":{\"color\":\"#E5ECF6\",\"width\":0.5},\"pattern\":{\"fillmode\":\"overlay\",\"size\":10,\"solidity\":0.2}},\"type\":\"barpolar\"}],\"carpet\":[{\"aaxis\":{\"endlinecolor\":\"#2a3f5f\",\"gridcolor\":\"white\",\"linecolor\":\"white\",\"minorgridcolor\":\"white\",\"startlinecolor\":\"#2a3f5f\"},\"baxis\":{\"endlinecolor\":\"#2a3f5f\",\"gridcolor\":\"white\",\"linecolor\":\"white\",\"minorgridcolor\":\"white\",\"startlinecolor\":\"#2a3f5f\"},\"type\":\"carpet\"}],\"choropleth\":[{\"colorbar\":{\"outlinewidth\":0,\"ticks\":\"\"},\"type\":\"choropleth\"}],\"contour\":[{\"colorbar\":{\"outlinewidth\":0,\"ticks\":\"\"},\"colorscale\":[[0.0,\"#0d0887\"],[0.1111111111111111,\"#46039f\"],[0.2222222222222222,\"#7201a8\"],[0.3333333333333333,\"#9c179e\"],[0.4444444444444444,\"#bd3786\"],[0.5555555555555556,\"#d8576b\"],[0.6666666666666666,\"#ed7953\"],[0.7777777777777778,\"#fb9f3a\"],[0.8888888888888888,\"#fdca26\"],[1.0,\"#f0f921\"]],\"type\":\"contour\"}],\"contourcarpet\":[{\"colorbar\":{\"outlinewidth\":0,\"ticks\":\"\"},\"type\":\"contourcarpet\"}],\"heatmap\":[{\"colorbar\":{\"outlinewidth\":0,\"ticks\":\"\"},\"colorscale\":[[0.0,\"#0d0887\"],[0.1111111111111111,\"#46039f\"],[0.2222222222222222,\"#7201a8\"],[0.3333333333333333,\"#9c179e\"],[0.4444444444444444,\"#bd3786\"],[0.5555555555555556,\"#d8576b\"],[0.6666666666666666,\"#ed7953\"],[0.7777777777777778,\"#fb9f3a\"],[0.8888888888888888,\"#fdca26\"],[1.0,\"#f0f921\"]],\"type\":\"heatmap\"}],\"heatmapgl\":[{\"colorbar\":{\"outlinewidth\":0,\"ticks\":\"\"},\"colorscale\":[[0.0,\"#0d0887\"],[0.1111111111111111,\"#46039f\"],[0.2222222222222222,\"#7201a8\"],[0.3333333333333333,\"#9c179e\"],[0.4444444444444444,\"#bd3786\"],[0.5555555555555556,\"#d8576b\"],[0.6666666666666666,\"#ed7953\"],[0.7777777777777778,\"#fb9f3a\"],[0.8888888888888888,\"#fdca26\"],[1.0,\"#f0f921\"]],\"type\":\"heatmapgl\"}],\"histogram\":[{\"marker\":{\"pattern\":{\"fillmode\":\"overlay\",\"size\":10,\"solidity\":0.2}},\"type\":\"histogram\"}],\"histogram2d\":[{\"colorbar\":{\"outlinewidth\":0,\"ticks\":\"\"},\"colorscale\":[[0.0,\"#0d0887\"],[0.1111111111111111,\"#46039f\"],[0.2222222222222222,\"#7201a8\"],[0.3333333333333333,\"#9c179e\"],[0.4444444444444444,\"#bd3786\"],[0.5555555555555556,\"#d8576b\"],[0.6666666666666666,\"#ed7953\"],[0.7777777777777778,\"#fb9f3a\"],[0.8888888888888888,\"#fdca26\"],[1.0,\"#f0f921\"]],\"type\":\"histogram2d\"}],\"histogram2dcontour\":[{\"colorbar\":{\"outlinewidth\":0,\"ticks\":\"\"},\"colorscale\":[[0.0,\"#0d0887\"],[0.1111111111111111,\"#46039f\"],[0.2222222222222222,\"#7201a8\"],[0.3333333333333333,\"#9c179e\"],[0.4444444444444444,\"#bd3786\"],[0.5555555555555556,\"#d8576b\"],[0.6666666666666666,\"#ed7953\"],[0.7777777777777778,\"#fb9f3a\"],[0.8888888888888888,\"#fdca26\"],[1.0,\"#f0f921\"]],\"type\":\"histogram2dcontour\"}],\"mesh3d\":[{\"colorbar\":{\"outlinewidth\":0,\"ticks\":\"\"},\"type\":\"mesh3d\"}],\"parcoords\":[{\"line\":{\"colorbar\":{\"outlinewidth\":0,\"ticks\":\"\"}},\"type\":\"parcoords\"}],\"pie\":[{\"automargin\":true,\"type\":\"pie\"}],\"scatter\":[{\"marker\":{\"colorbar\":{\"outlinewidth\":0,\"ticks\":\"\"}},\"type\":\"scatter\"}],\"scatter3d\":[{\"line\":{\"colorbar\":{\"outlinewidth\":0,\"ticks\":\"\"}},\"marker\":{\"colorbar\":{\"outlinewidth\":0,\"ticks\":\"\"}},\"type\":\"scatter3d\"}],\"scattercarpet\":[{\"marker\":{\"colorbar\":{\"outlinewidth\":0,\"ticks\":\"\"}},\"type\":\"scattercarpet\"}],\"scattergeo\":[{\"marker\":{\"colorbar\":{\"outlinewidth\":0,\"ticks\":\"\"}},\"type\":\"scattergeo\"}],\"scattergl\":[{\"marker\":{\"colorbar\":{\"outlinewidth\":0,\"ticks\":\"\"}},\"type\":\"scattergl\"}],\"scattermapbox\":[{\"marker\":{\"colorbar\":{\"outlinewidth\":0,\"ticks\":\"\"}},\"type\":\"scattermapbox\"}],\"scatterpolar\":[{\"marker\":{\"colorbar\":{\"outlinewidth\":0,\"ticks\":\"\"}},\"type\":\"scatterpolar\"}],\"scatterpolargl\":[{\"marker\":{\"colorbar\":{\"outlinewidth\":0,\"ticks\":\"\"}},\"type\":\"scatterpolargl\"}],\"scatterternary\":[{\"marker\":{\"colorbar\":{\"outlinewidth\":0,\"ticks\":\"\"}},\"type\":\"scatterternary\"}],\"surface\":[{\"colorbar\":{\"outlinewidth\":0,\"ticks\":\"\"},\"colorscale\":[[0.0,\"#0d0887\"],[0.1111111111111111,\"#46039f\"],[0.2222222222222222,\"#7201a8\"],[0.3333333333333333,\"#9c179e\"],[0.4444444444444444,\"#bd3786\"],[0.5555555555555556,\"#d8576b\"],[0.6666666666666666,\"#ed7953\"],[0.7777777777777778,\"#fb9f3a\"],[0.8888888888888888,\"#fdca26\"],[1.0,\"#f0f921\"]],\"type\":\"surface\"}],\"table\":[{\"cells\":{\"fill\":{\"color\":\"#EBF0F8\"},\"line\":{\"color\":\"white\"}},\"header\":{\"fill\":{\"color\":\"#C8D4E3\"},\"line\":{\"color\":\"white\"}},\"type\":\"table\"}]},\"layout\":{\"annotationdefaults\":{\"arrowcolor\":\"#2a3f5f\",\"arrowhead\":0,\"arrowwidth\":1},\"autotypenumbers\":\"strict\",\"coloraxis\":{\"colorbar\":{\"outlinewidth\":0,\"ticks\":\"\"}},\"colorscale\":{\"diverging\":[[0,\"#8e0152\"],[0.1,\"#c51b7d\"],[0.2,\"#de77ae\"],[0.3,\"#f1b6da\"],[0.4,\"#fde0ef\"],[0.5,\"#f7f7f7\"],[0.6,\"#e6f5d0\"],[0.7,\"#b8e186\"],[0.8,\"#7fbc41\"],[0.9,\"#4d9221\"],[1,\"#276419\"]],\"sequential\":[[0.0,\"#0d0887\"],[0.1111111111111111,\"#46039f\"],[0.2222222222222222,\"#7201a8\"],[0.3333333333333333,\"#9c179e\"],[0.4444444444444444,\"#bd3786\"],[0.5555555555555556,\"#d8576b\"],[0.6666666666666666,\"#ed7953\"],[0.7777777777777778,\"#fb9f3a\"],[0.8888888888888888,\"#fdca26\"],[1.0,\"#f0f921\"]],\"sequentialminus\":[[0.0,\"#0d0887\"],[0.1111111111111111,\"#46039f\"],[0.2222222222222222,\"#7201a8\"],[0.3333333333333333,\"#9c179e\"],[0.4444444444444444,\"#bd3786\"],[0.5555555555555556,\"#d8576b\"],[0.6666666666666666,\"#ed7953\"],[0.7777777777777778,\"#fb9f3a\"],[0.8888888888888888,\"#fdca26\"],[1.0,\"#f0f921\"]]},\"colorway\":[\"#636efa\",\"#EF553B\",\"#00cc96\",\"#ab63fa\",\"#FFA15A\",\"#19d3f3\",\"#FF6692\",\"#B6E880\",\"#FF97FF\",\"#FECB52\"],\"font\":{\"color\":\"#2a3f5f\"},\"geo\":{\"bgcolor\":\"white\",\"lakecolor\":\"white\",\"landcolor\":\"#E5ECF6\",\"showlakes\":true,\"showland\":true,\"subunitcolor\":\"white\"},\"hoverlabel\":{\"align\":\"left\"},\"hovermode\":\"closest\",\"mapbox\":{\"style\":\"light\"},\"paper_bgcolor\":\"white\",\"plot_bgcolor\":\"#E5ECF6\",\"polar\":{\"angularaxis\":{\"gridcolor\":\"white\",\"linecolor\":\"white\",\"ticks\":\"\"},\"bgcolor\":\"#E5ECF6\",\"radialaxis\":{\"gridcolor\":\"white\",\"linecolor\":\"white\",\"ticks\":\"\"}},\"scene\":{\"xaxis\":{\"backgroundcolor\":\"#E5ECF6\",\"gridcolor\":\"white\",\"gridwidth\":2,\"linecolor\":\"white\",\"showbackground\":true,\"ticks\":\"\",\"zerolinecolor\":\"white\"},\"yaxis\":{\"backgroundcolor\":\"#E5ECF6\",\"gridcolor\":\"white\",\"gridwidth\":2,\"linecolor\":\"white\",\"showbackground\":true,\"ticks\":\"\",\"zerolinecolor\":\"white\"},\"zaxis\":{\"backgroundcolor\":\"#E5ECF6\",\"gridcolor\":\"white\",\"gridwidth\":2,\"linecolor\":\"white\",\"showbackground\":true,\"ticks\":\"\",\"zerolinecolor\":\"white\"}},\"shapedefaults\":{\"line\":{\"color\":\"#2a3f5f\"}},\"ternary\":{\"aaxis\":{\"gridcolor\":\"white\",\"linecolor\":\"white\",\"ticks\":\"\"},\"baxis\":{\"gridcolor\":\"white\",\"linecolor\":\"white\",\"ticks\":\"\"},\"bgcolor\":\"#E5ECF6\",\"caxis\":{\"gridcolor\":\"white\",\"linecolor\":\"white\",\"ticks\":\"\"}},\"title\":{\"x\":0.05},\"xaxis\":{\"automargin\":true,\"gridcolor\":\"white\",\"linecolor\":\"white\",\"ticks\":\"\",\"title\":{\"standoff\":15},\"zerolinecolor\":\"white\",\"zerolinewidth\":2},\"yaxis\":{\"automargin\":true,\"gridcolor\":\"white\",\"linecolor\":\"white\",\"ticks\":\"\",\"title\":{\"standoff\":15},\"zerolinecolor\":\"white\",\"zerolinewidth\":2}}},\"xaxis\":{\"anchor\":\"y\",\"domain\":[0.0,0.15],\"title\":{\"text\":\"\"},\"categoryorder\":\"array\",\"categoryarray\":[\"All time\",\"Last 6 month\"]},\"yaxis\":{\"anchor\":\"x\",\"domain\":[0.0,1.0],\"title\":{\"text\":\"\"}},\"xaxis2\":{\"anchor\":\"y2\",\"domain\":[0.16999999999999998,0.31999999999999995],\"matches\":\"x\",\"title\":{\"text\":\"\"},\"categoryorder\":\"array\",\"categoryarray\":[\"All time\",\"Last 6 month\"]},\"yaxis2\":{\"anchor\":\"x2\",\"domain\":[0.0,1.0],\"matches\":\"y\",\"showticklabels\":false,\"title\":{\"text\":\"\"}},\"xaxis3\":{\"anchor\":\"y3\",\"domain\":[0.33999999999999997,0.49],\"matches\":\"x\",\"title\":{\"text\":\"\"},\"categoryorder\":\"array\",\"categoryarray\":[\"All time\",\"Last 6 month\"]},\"yaxis3\":{\"anchor\":\"x3\",\"domain\":[0.0,1.0],\"matches\":\"y\",\"showticklabels\":false,\"title\":{\"text\":\"\"}},\"xaxis4\":{\"anchor\":\"y4\",\"domain\":[0.51,0.66],\"matches\":\"x\",\"title\":{\"text\":\"\"},\"categoryorder\":\"array\",\"categoryarray\":[\"All time\",\"Last 6 month\"]},\"yaxis4\":{\"anchor\":\"x4\",\"domain\":[0.0,1.0],\"matches\":\"y\",\"showticklabels\":false,\"title\":{\"text\":\"\"}},\"xaxis5\":{\"anchor\":\"y5\",\"domain\":[0.6799999999999999,0.83],\"matches\":\"x\",\"title\":{\"text\":\"\"},\"categoryorder\":\"array\",\"categoryarray\":[\"All time\",\"Last 6 month\"]},\"yaxis5\":{\"anchor\":\"x5\",\"domain\":[0.0,1.0],\"matches\":\"y\",\"showticklabels\":false,\"title\":{\"text\":\"\"}},\"xaxis6\":{\"anchor\":\"y6\",\"domain\":[0.85,1.0],\"matches\":\"x\",\"title\":{\"text\":\"\"},\"categoryorder\":\"array\",\"categoryarray\":[\"All time\",\"Last 6 month\"]},\"yaxis6\":{\"anchor\":\"x6\",\"domain\":[0.0,1.0],\"matches\":\"y\",\"showticklabels\":false,\"title\":{\"text\":\"\"}},\"annotations\":[{\"font\":{},\"showarrow\":false,\"text\":\"July\",\"x\":0.075,\"xanchor\":\"center\",\"xref\":\"paper\",\"y\":1.0,\"yanchor\":\"bottom\",\"yref\":\"paper\"},{\"font\":{},\"showarrow\":false,\"text\":\"August\",\"x\":0.24499999999999997,\"xanchor\":\"center\",\"xref\":\"paper\",\"y\":1.0,\"yanchor\":\"bottom\",\"yref\":\"paper\"},{\"font\":{},\"showarrow\":false,\"text\":\"September\",\"x\":0.415,\"xanchor\":\"center\",\"xref\":\"paper\",\"y\":1.0,\"yanchor\":\"bottom\",\"yref\":\"paper\"},{\"font\":{},\"showarrow\":false,\"text\":\"October\",\"x\":0.585,\"xanchor\":\"center\",\"xref\":\"paper\",\"y\":1.0,\"yanchor\":\"bottom\",\"yref\":\"paper\"},{\"font\":{},\"showarrow\":false,\"text\":\"November\",\"x\":0.7549999999999999,\"xanchor\":\"center\",\"xref\":\"paper\",\"y\":1.0,\"yanchor\":\"bottom\",\"yref\":\"paper\"},{\"font\":{},\"showarrow\":false,\"text\":\"December\",\"x\":0.925,\"xanchor\":\"center\",\"xref\":\"paper\",\"y\":1.0,\"yanchor\":\"bottom\",\"yref\":\"paper\"}],\"legend\":{\"title\":{\"text\":\"Stage\"},\"tracegroupgap\":0},\"margin\":{\"t\":60},\"barmode\":\"relative\",\"title\":{\"pad\":{\"b\":500},\"font\":{\"size\":24},\"text\":\"Comparison Pipeline value by opportunities date creation\"},\"plot_bgcolor\":\"#DADADA\"},                        {\"responsive\": true}                    ).then(function(){\n",
       "                            \n",
       "var gd = document.getElementById('123ee1ce-6e5b-41a0-a4d4-9a5f1fcec12c');\n",
       "var x = new MutationObserver(function (mutations, observer) {{\n",
       "        var display = window.getComputedStyle(gd).display;\n",
       "        if (!display || display === 'none') {{\n",
       "            console.log([gd, 'removed!']);\n",
       "            Plotly.purge(gd);\n",
       "            observer.disconnect();\n",
       "        }}\n",
       "}});\n",
       "\n",
       "// Listen for the removal of the full notebook cells\n",
       "var notebookContainer = gd.closest('#notebook-container');\n",
       "if (notebookContainer) {{\n",
       "    x.observe(notebookContainer, {childList: true});\n",
       "}}\n",
       "\n",
       "// Listen for the clearing of the current output cell\n",
       "var outputEl = gd.closest('.output');\n",
       "if (outputEl) {{\n",
       "    x.observe(outputEl, {childList: true});\n",
       "}}\n",
       "\n",
       "                        })                };                });            </script>        </div>"
      ]
     },
     "metadata": {},
     "output_type": "display_data"
    },
    {
     "data": {
      "text/plain": [
       "'C:\\\\Users\\\\Raffaele.Sportiello\\\\OneDrive - Wolters Kluwer\\\\Documents\\\\Salesforce\\\\pipeline_value.html'"
      ]
     },
     "execution_count": 99,
     "metadata": {},
     "output_type": "execute_result"
    }
   ],
   "source": [
    "fig = px.bar(pipeline_value, x=\"Opportunities created date\", \n",
    "             y=\"Pipeline Value\", \n",
    "             #facet_row=\"Close Date\", \n",
    "             facet_col=\"Close Date\", \n",
    "             facet_col_wrap=10,\n",
    "             color=\"Stage\" ,\n",
    "             color_discrete_map={\n",
    "                 \"Negotiation\": \"#005A92\",\n",
    "                 \"Proposal\": \"#006BAC\",\n",
    "                 \"Solution Presentation / Demo\":\"#007BC8\",\n",
    "                 \"Needs Analysis\":\"#007AC3\",\n",
    "                 \"Qualification\":\"#B5C6E1\"},\n",
    "             category_orders={\"Opportunities created date\": [\"All time\", \"Last 6 month\"],\n",
    "                             \"Stage\":[\"Qualification\",\"Needs Analysis\",\"Solution Presentation / Demo\", \"Proposal\", \"Negotiation\"]}\n",
    "            )\n",
    "\n",
    "\n",
    "fig.for_each_annotation(lambda a: a.update(text=a.text.split(\"=\")[-1]))\n",
    "\n",
    "\n",
    "fig.update_layout(dict(\n",
    "    title=dict(text=\"Comparison Pipeline value by opportunities date creation\",\n",
    "               pad=dict(b=500),\n",
    "               font=dict(size=24)),\n",
    "    plot_bgcolor=\"#DADADA\")\n",
    "                 )\n",
    "\n",
    "# hide subplot y-axis titles and x-axis titles\n",
    "for axis in fig.layout:\n",
    "    if type(fig.layout[axis]) == go.layout.YAxis:\n",
    "        fig.layout[axis].title.text = ''\n",
    "    if type(fig.layout[axis]) == go.layout.XAxis:\n",
    "        fig.layout[axis].title.text = ''\n",
    "\n",
    "fig.show()\n",
    "\n",
    "pyo.plot(fig, filename=r'C:\\Users\\Raffaele.Sportiello\\OneDrive - Wolters Kluwer\\Documents\\Salesforce\\pipeline_value.html')"
   ]
  },
  {
   "cell_type": "markdown",
   "id": "da50ac56-c4f9-4f30-bc73-6672f3a38af4",
   "metadata": {
    "tags": []
   },
   "source": [
    "<a id='close_date_estimated'></a>\n",
    "# Opportunities by estimated close date"
   ]
  },
  {
   "cell_type": "code",
   "execution_count": 36,
   "id": "f739c071-5d31-40ad-8895-590680f0c529",
   "metadata": {},
   "outputs": [],
   "source": [
    "op_infos_close_date = op_infos.groupby([op_infos[\"Close Date\"].astype('datetime64[M]'), \"Stage cat\"]).agg({\"Opportunity ID\":\"nunique\", \"Incremental Amount\":\"sum\"})\n",
    "\n",
    "op_infos_close_date.index.set_names({\"Stage cat\":\"Stage\"}, inplace=True)\n",
    "\n",
    "op_infos_close_date = op_infos_close_date.rename(columns={'Opportunity ID':'Opportunities'})\n",
    "\n",
    "#op_infos_close_date.index = op_infos_close_date.index.set_levels([op_infos_close_date.index.levels[0].strftime('%B-%Y'), op_infos_close_date.index.levels[1]])"
   ]
  },
  {
   "cell_type": "code",
   "execution_count": null,
   "id": "8c2ee421-dba0-422d-a8fe-99a0982745cd",
   "metadata": {},
   "outputs": [],
   "source": [
    "idx_stages = [\"Qualification\", \"Needs Analysis\", \"Solution Presentation / Demo\", \"Proposal\", \"Negotiation\"]\n",
    "\n",
    "idx_columns = idx[\"Opportunities\",\"Incremental Amount\"]\n",
    "\n",
    "op_infos_close_date_est = op_infos_close_date.loc[idx[\"2022-06-01\":\"2022-12-01\",idx_stages], idx_columns]"
   ]
  },
  {
   "cell_type": "code",
   "execution_count": null,
   "id": "23f1adb4-4cdc-4f19-b9b0-eebc1936ad5b",
   "metadata": {},
   "outputs": [],
   "source": [
    "stack_bar = op_infos_close_date_est.loc[:,[\"Opportunities\"]].unstack()\n",
    "stack_bar.columns = stack_bar.columns.droplevel(0)"
   ]
  },
  {
   "cell_type": "code",
   "execution_count": null,
   "id": "6ec79bd5-1c9f-4ef1-b19e-a0619e7221ff",
   "metadata": {
    "tags": []
   },
   "outputs": [],
   "source": [
    "fig, ax = plt.subplots(2,1,figsize=[10,10])\n",
    "\n",
    "for col in stack_bar.columns:\n",
    "    ax[0].bar(x=stack_bar.index, height= stack_bar[col], width=20)"
   ]
  },
  {
   "cell_type": "code",
   "execution_count": null,
   "id": "b9e5ac09-018c-449e-9bda-797891c00ecc",
   "metadata": {},
   "outputs": [],
   "source": [
    "op_infos_gr_exp.reset_index().to_excel(r\"C:\\Users\\Raffaele.Sportiello\\OneDrive - Wolters Kluwer\\Documents\\Salesforce\\Reports\\IT_Opp_infos.xlsx\", index=False)"
   ]
  },
  {
   "cell_type": "markdown",
   "id": "8e8450ce-0ccc-4d89-b74d-c68e1bec111b",
   "metadata": {},
   "source": [
    "***"
   ]
  },
  {
   "cell_type": "markdown",
   "id": "b8d58c38-57a4-4032-93b2-9a5e67595d5f",
   "metadata": {
    "tags": []
   },
   "source": [
    "<a id='win_rate'></a>\n",
    "# Win rate"
   ]
  },
  {
   "cell_type": "markdown",
   "id": "aad64c6c-20f6-466b-aadb-e0cc5655de6f",
   "metadata": {},
   "source": [
    "[Vai all'indice](#top)  "
   ]
  },
  {
   "cell_type": "code",
   "execution_count": 53,
   "id": "9cbcadb6-fadf-415b-819a-655b104e3577",
   "metadata": {},
   "outputs": [],
   "source": [
    "op_infos[\"N. Opp. Created by Month\"] = op_infos.groupby([op_infos[\"Created Date\"].astype('datetime64[M]')])[\"Opportunity ID\"].transform(\"nunique\")"
   ]
  },
  {
   "cell_type": "code",
   "execution_count": 74,
   "id": "847b6bf1-330b-4965-a987-18f23ed95663",
   "metadata": {},
   "outputs": [],
   "source": [
    "op_infos_gr = op_infos.sort_values(['Stage cat']).groupby([op_infos[\"Created Date\"].astype('datetime64[M]'), op_infos[\"Close Date\"].astype('datetime64[M]'), \"Stage\"]).agg({\"Opportunity ID\":\"nunique\", \"N. Opp. Created by Month\":\"max\", \"Incremental Amount\":\"sum\", \"Stage Duration\":\"mean\", \"Age\":\"mean\"})\n",
    "\n",
    "#op_infos_gr.index.set_names({\"Stage cat\":\"Stage\"}, inplace=True)\n",
    "\n",
    "op_infos_gr[\"% Stage Rate\"] = (op_infos_gr[\"Opportunity ID\"] / op_infos_gr[\"N. Opp. Created by Month\"])"
   ]
  },
  {
   "cell_type": "code",
   "execution_count": 34,
   "id": "785c9574-5cbb-455a-acb7-f8c5c14826b5",
   "metadata": {
    "tags": []
   },
   "outputs": [],
   "source": [
    "op_infos_gr_exp = op_infos_gr.copy()\n",
    "op_infos_gr_exp.index = op_infos_gr_exp.index.set_levels([op_infos_gr_exp.index.levels[0].strftime('%B-%Y'), op_infos_gr_exp.index.levels[1].strftime('%B-%Y'), op_infos_gr_exp.index.levels[2]])\n",
    "\n",
    "op_infos_gr_exp = op_infos_gr_exp.rename(columns={'Opportunity ID':'Opportunities'})"
   ]
  },
  {
   "cell_type": "markdown",
   "id": "779a50b8-8dd2-4aaf-889c-b1639e8e6893",
   "metadata": {},
   "source": [
    "***"
   ]
  },
  {
   "cell_type": "markdown",
   "id": "c811847c-bb37-4aa0-8a09-b087f5939fd3",
   "metadata": {
    "tags": []
   },
   "source": [
    "<a id='win_rate'></a>\n",
    "# TOOLTIPS: Insert a total row on groupby"
   ]
  },
  {
   "cell_type": "code",
   "execution_count": null,
   "id": "cb43786d-9d90-461a-bb81-68988840b0ba",
   "metadata": {},
   "outputs": [],
   "source": [
    "df = pd.DataFrame({'A' : ['foo', 'bar', 'foo', 'bar', 'foo', 'bar', 'foo', 'foo'],\n",
    "               'B' : ['one', 'one', 'two', 'three', 'two', 'two', 'one', 'three'],\n",
    "               'C' : np.random.randn(8),\n",
    "               'D' : np.random.randn(8)})\n",
    "\n",
    "df.B = pd.Categorical(df.B, \n",
    "                      categories=np.append(df.B.unique(), 'Total'))\n",
    "\n",
    "v = df.groupby(by=['A', 'B']).sum()\n",
    "\n",
    "v.loc(axis=0)[pd.IndexSlice[:,'Total']] = v.groupby(level=0).sum().values"
   ]
  },
  {
   "cell_type": "code",
   "execution_count": null,
   "id": "13c56716-5d8d-48e0-a74b-05f6585bbedb",
   "metadata": {
    "tags": []
   },
   "outputs": [],
   "source": [
    "op_infos[\"Stage\"] = pd.Categorical(op_infos[\"Stage\"], \n",
    "                      categories=np.append(op_infos[\"Stage\"].unique(), 'Total'))\n",
    "\n",
    "prova_gr = op_infos.groupby([op_infos[\"Created Date\"].astype('datetime64[M]'), op_infos[\"Close Date\"].astype('datetime64[M]'), \"Stage\"]).agg({\"Opportunity Name\":\"count\", \"Month Op. Created\":\"max\", \"Incremental Amount\":\"sum\"})\n",
    "\n",
    "prova_gr[\"% Stage Rate\"] = (prova_gr[\"Opportunity Name\"] / prova_gr[\"Month Op. Created\"])\n",
    "\n",
    "prova_gr.loc(axis=0)[idx[:,:,\"Total\"]] = prova_gr.groupby([\"Created Date\", \"Close Date\"]).sum().values\n",
    "\n",
    "\n",
    "prova_gr.index = prova_gr.index.set_levels([prova_gr.index.levels[0].strftime('%B-%Y'), prova_gr.index.levels[1].strftime('%B-%Y'), prova_gr.index.levels[2]])\n",
    "\n",
    "def df_style(val):\n",
    "    return \"font-weight: bold\"\n",
    "\n",
    "prova_gr.loc[idx[:,:,[\"Closed Lost\", \"Closed Won\", \"Total\"]], idx[\"Opportunity Name\",\"Incremental Amount\", \"% Stage Rate\"]].rename(columns={'Opportunity Name':'Opportunities'}).style.format({\"Opportunities\":\"{:,.0f}\",\"Incremental Amount\":\"{:,.0f}\", \"% Stage Rate\": \"{:.2%}\"}).background_gradient(subset=[\"% Stage Rate\"]).applymap(df_style, subset=idx[:,:,\"Total\"])"
   ]
  },
  {
   "cell_type": "markdown",
   "id": "0c5b483e-b574-4718-ae67-4ae9ba764b30",
   "metadata": {},
   "source": [
    "---"
   ]
  }
 ],
 "metadata": {
  "kernelspec": {
   "display_name": "Python 3 (ipykernel)",
   "language": "python",
   "name": "python3"
  },
  "language_info": {
   "codemirror_mode": {
    "name": "ipython",
    "version": 3
   },
   "file_extension": ".py",
   "mimetype": "text/x-python",
   "name": "python",
   "nbconvert_exporter": "python",
   "pygments_lexer": "ipython3",
   "version": "3.9.7"
  }
 },
 "nbformat": 4,
 "nbformat_minor": 5
}
