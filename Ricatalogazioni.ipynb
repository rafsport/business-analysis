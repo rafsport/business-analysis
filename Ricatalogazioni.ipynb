{
 "cells": [
  {
   "cell_type": "code",
   "execution_count": 1,
   "metadata": {},
   "outputs": [],
   "source": [
    "import pandas as pd\n",
    "from collections import Counter\n",
    "import re"
   ]
  },
  {
   "cell_type": "markdown",
   "metadata": {},
   "source": [
    "### Regex"
   ]
  },
  {
   "cell_type": "markdown",
   "metadata": {},
   "source": [
    "#### Sostituisci i numeri con un qualsiasi placeholder"
   ]
  },
  {
   "cell_type": "code",
   "execution_count": 13,
   "metadata": {},
   "outputs": [],
   "source": [
    "#sostituisci tutti i caratteri numerici con la parola digit\n",
    "df[\"prova\"] = df[\"Campaign+Placement+Adgroup\"].str.replace(r'\\d+', 'digit')"
   ]
  },
  {
   "cell_type": "markdown",
   "metadata": {},
   "source": [
    "#### Individua determinati pattern che non contengano altri pattern"
   ]
  },
  {
   "cell_type": "code",
   "execution_count": 74,
   "metadata": {},
   "outputs": [
    {
     "name": "stdout",
     "output_type": "stream",
     "text": [
      "Che tasty-treats \n"
     ]
    }
   ],
   "source": [
    "pattern = \"^(?=.*?(tasty-treats))((?!chocolate).)*$\"\n",
    "\n",
    "string = 'Che tasty-treats '\n",
    "\n",
    "\n",
    "match = re.search(pattern, string) \n",
    "\n",
    "if match:\n",
    "  print(match.group())\n",
    "else:\n",
    "  print(\"pattern not found\")"
   ]
  },
  {
   "cell_type": "code",
   "execution_count": 41,
   "metadata": {},
   "outputs": [
    {
     "name": "stdout",
     "output_type": "stream",
     "text": [
      "pattern not found\n"
     ]
    }
   ],
   "source": [
    "pattern = \"\\b(?!(?:custom|onetomany|manytomany|atom|tomcat|tomorrow|automatic)\\b)[a-z]*tom[a-z]*\\b\"\n",
    "\n",
    "string = 'customers '\n",
    "\n",
    "\n",
    "match = re.search(pattern, string) \n",
    "\n",
    "if match:\n",
    "  print(match.group())\n",
    "else:\n",
    "  print(\"pattern not found\")"
   ]
  },
  {
   "cell_type": "markdown",
   "metadata": {},
   "source": [
    "### [Rimuovi tutto quello che viene dopo un separatore (rimuove anche il separatore)](https://stackoverflow.com/a/58738829/10832916)"
   ]
  },
  {
   "cell_type": "code",
   "execution_count": 21,
   "metadata": {},
   "outputs": [],
   "source": [
    "'''strs = [\"Acquisizione_Fisso_Programmatic-Open_Amazon_Fibra_Prospecting-Gamers_CPM_Self\",\n",
    "        \"Affiliazione_Acquisizione_Fisso_AWIN_Fibra_Cashback-Content-Couponing_CPA_Self_animato\",\n",
    "        \"MYN-AW-TimStrategy-MasterclassRilancio_MYN-AW-Captify-TimStrategy-MasterclassRilancio-Mix display_Captify_Persone\",\n",
    "        \"TF_[MARKET]_FWA_Ricaricabile_Exact_Google AdWords_MARKET_Internet\"]\n",
    "df = pd.DataFrame(data={'SOURCE_NAME': strs})\n",
    "df['SOURCE_NAME'].str.split('_', 2).str[0]\n",
    "df['SOURCE_NAME'].str.rsplit('_').str.get(5)\n",
    "'''\n",
    "df = pd.read_excel(\"C:/Users/11622901/JupyterLab/Sources/categorie1.xlsx\")\n",
    "\n",
    "df[\"Targeting\"] = df[\"Key\"].str.split('_').str.get(5)\n",
    "df[\"Buying\"] = df[\"Key\"].str.split('_').str.get(6)\n",
    "\n",
    "df.to_excel(\"C:/Users/11622901/JupyterLab/Sources/categorie2.xlsx\")\n",
    "\n"
   ]
  },
  {
   "cell_type": "markdown",
   "metadata": {},
   "source": [
    "### [Rimuovi una lista di parole da una stringa](https://stackoverflow.com/a/25346119/10832916)"
   ]
  },
  {
   "cell_type": "code",
   "execution_count": 79,
   "metadata": {},
   "outputs": [
    {
     "name": "stdout",
     "output_type": "stream",
     "text": [
      "Acquisizione_Fisso_Programmatic-Open_DV360_Acquisizione_Fisso_Programmatic-Open_DV360_Fibra_Prospecting-ISP-Fastweb-B-Strategy_CPM_Self_TIM_29.90_2-Sep\n"
     ]
    }
   ],
   "source": [
    "query = 'Acquisizione_Fisso_Programmatic-Open_DV360_Acquisizione_Fisso_Programmatic-Open_DV360_Fibra_Prospecting-ISP-Fastweb-B-Strategy_CPM_Self_160x600_TIM_29.90_2-Sep'\n",
    "stopwords = [\"0\",\"1\",\"2\",\"3\",\"4\",\"5\",\"6\",\"7\",\"8\",\"9\",\"_x_._-Sep\", \"_TIM_Acqu\", \"_,_Settembre\", \"_,_Agosto\", \"_x\", \".x\"]\n",
    "querywords = query.split(\"x\")\n",
    "\n",
    "resultwords  = [word for word in querywords if word.lower() not in stopwords]\n",
    "result = '_'.join(resultwords)\n",
    "\n",
    "print(result)"
   ]
  },
  {
   "cell_type": "code",
   "execution_count": null,
   "metadata": {},
   "outputs": [],
   "source": []
  },
  {
   "cell_type": "markdown",
   "metadata": {},
   "source": [
    "### [Funzione per rimuovere le parole duplicate da una stringa](https://www.geeksforgeeks.org/python-remove-duplicates-words-given-sentence/)"
   ]
  },
  {
   "cell_type": "code",
   "execution_count": 36,
   "metadata": {},
   "outputs": [],
   "source": [
    "from collections import Counter \n",
    "  \n",
    "def remov_duplicates(input): \n",
    "  \n",
    "    # split input string separated by space \n",
    "    input = input.split(\"_\") \n",
    "  \n",
    "    # joins two adjacent elements in iterable way \n",
    "    for i in range(0, len(input)): \n",
    "        input[i] = \"\".join(input[i]) \n",
    "  \n",
    "    # now create dictionary using counter method \n",
    "    # which will have strings as key and their  \n",
    "    # frequencies as value \n",
    "    UniqW = Counter(input) \n",
    "  \n",
    "    # joins two adjacent elements in iterable way \n",
    "    s = \"_\".join(UniqW.keys()) \n",
    "    return s\n",
    "    \n"
   ]
  },
  {
   "cell_type": "code",
   "execution_count": 9,
   "metadata": {},
   "outputs": [],
   "source": [
    "xls = pd.ExcelFile(\"C:/Users/11622901/JupyterLab/Sources/prova1.xlsx\")\n",
    "df = pd.read_excel(xls, \"ricatalogazione\")\n",
    "#tipologia = pd.read_excel(xls, \"tipologia\")\n",
    "#canale = pd.read_excel(xls, \"canale\")\n",
    "#prodotto = pd.read_excel(xls, \"prodotto\")\n"
   ]
  },
  {
   "cell_type": "markdown",
   "metadata": {},
   "source": [
    "### Pulizia della concatenazione Campaign+Placement+Banner/AdGroup"
   ]
  },
  {
   "cell_type": "code",
   "execution_count": 106,
   "metadata": {},
   "outputs": [],
   "source": [
    "filename = 'C:/Users/11622901/JupyterLab/Sources/parametriche.xlsx'\n",
    "parametriche = pd.ExcelFile(filename)\n",
    "categorie = pd.read_excel(parametriche, 'categorie')\n"
   ]
  },
  {
   "cell_type": "code",
   "execution_count": 107,
   "metadata": {},
   "outputs": [],
   "source": [
    "fibra = pd.read_excel(parametriche, 'fibra')\n",
    "opzioni = pd.read_excel(parametriche, 'opzioni')\n",
    "mobile = pd.read_excel(parametriche, 'mobile')"
   ]
  },
  {
   "cell_type": "code",
   "execution_count": 113,
   "metadata": {},
   "outputs": [],
   "source": [
    "# Rimuovi tutti i numeri e rimuovi i duplicati \n",
    "trans_dict ={\"0\":None, \"1\":None, \"2\":None, \"3\":None, \"4\":None, \"5\":None, \"6\":None, \"7\":None, \"8\":None,\"9\":None,\"'\":None} \n",
    "string = ''.join([f'{key}' for key in trans_dict.keys()])\n",
    "trans_table =string.maketrans(trans_dict) \n",
    "categorie['Key_New'] = categorie['Key'].str.translate(trans_table).apply(lambda x: remov_duplicates(x))\n",
    "\n",
    "fibra.fillna(\"\", inplace=True)\n",
    "fibra[\"Banner/Adgroup\"] = fibra[\"Banner/Adgroup\"].astype(str)\n",
    "fibra[\"Key\"] = fibra[[\"Campaign\", \"Placement\", \"Banner/Adgroup\"]].apply(lambda x: '_'.join(x), axis=1)\n",
    "fibra['Key_New'] = fibra['Key'].str.translate(trans_table).apply(lambda x: remov_duplicates(x))\n",
    "\n",
    "opzioni.fillna(\"\", inplace=True)\n",
    "opzioni[\"Key\"] = opzioni[[\"Campaign\", \"Placement\", \"Banner/Adgroup\"]].apply(lambda x: '_'.join(x), axis=1)\n",
    "opzioni['Key_New'] = opzioni['Key'].str.translate(trans_table).apply(lambda x: remov_duplicates(x))\n",
    "\n",
    "mobile.fillna(\"\", inplace=True)\n",
    "mobile[\"Key\"] = mobile[[\"Campaign\", \"Placement\", \"Banner/Adgroup\"]].apply(lambda x: '_'.join(x), axis=1)\n",
    "mobile['Key_New'] = mobile['Key'].str.translate(trans_table).apply(lambda x: remov_duplicates(x))\n",
    "\n",
    "# Rimuovi alcune stopwords\n",
    "stopwords = [\",\", \".\", \"..\", \"...\", \"-\", \"-..\", \"_\", \"€\", \"€.\", \"/\", \"// \", \"//\", \"&\", \".x\", \"x\", \"v\", \"A\", \"B\", \"C\", \"D\",  \"G\", \"V\", \"TIM\", \"Acqu\", \"banner-gif-x\", \"MYN\", \"NO\", \"Gen\", \"Feb\", \"Mar\", \"Apr\", \"May\", \"June\", \"Jun-\", \"Jul\", \"July\", \"Aug\", \"-Sep\", \"Sep\", \"Oct\",\"Nov\", \"Agosto\", \"Settembre\", \"Ottobre\"]\n",
    "categorie['Key_New'] = categorie['Key_New'].apply(lambda x: '_'.join([item for item in x.split(\"_\") if item not in stopwords]))\n",
    "fibra['Key_New'] = fibra['Key_New'].apply(lambda x: '_'.join([item for item in x.split(\"_\") if item not in stopwords]))\n",
    "opzioni['Key_New'] = opzioni['Key_New'].apply(lambda x: '_'.join([item for item in x.split(\"_\") if item not in stopwords]))\n",
    "mobile['Key_New'] = mobile['Key_New'].apply(lambda x: '_'.join([item for item in x.split(\"_\") if item not in stopwords]))\n"
   ]
  },
  {
   "cell_type": "code",
   "execution_count": 114,
   "metadata": {},
   "outputs": [],
   "source": [
    "categorie.to_excel('C:/Users/11622901/JupyterLab/Sources/categorie.xlsx')\n",
    "fibra.to_excel('C:/Users/11622901/JupyterLab/Sources/fibra.xlsx')\n",
    "opzioni.to_excel('C:/Users/11622901/JupyterLab/Sources/opzioni.xlsx')\n",
    "mobile.to_excel('C:/Users/11622901/JupyterLab/Sources/mobile.xlsx')"
   ]
  },
  {
   "cell_type": "markdown",
   "metadata": {},
   "source": [
    "### Associa le categorie a Campaign+Placement+Banner/AdGroup"
   ]
  },
  {
   "cell_type": "code",
   "execution_count": null,
   "metadata": {},
   "outputs": [],
   "source": [
    "acquisizione_fisso = \"^(?=.*?(fisso|supe|fibra))((?!(pack|promopack)).)*$\"\n",
    ">>> s[s.str.contains('|'.join(searchfor))]\n",
    "\n",
    "assistenza_words = '|'.join([\"Assistenza TIM\",\"Disdetta Telecom\"])\n",
    "no_paid_words = '|'.join([\"APP-TIM_MyTIM\", \"AliceMail\", \"Mail TIM_Alice Mail\", \"DEM-Interne\"])\n",
    "\n",
    "# create a list of our conditions\n",
    "conditions = [\n",
    "    df['Key'].str.contains(r''),\n",
    "    df['Key'].str.contains(r'Acquisizione_Fisso'),\n",
    "    df['Key'].str.contains(r'Acquisizione_Mobile'),\n",
    "    df['Key'].str.contains(assistenza_words),\n",
    "    df['Key'].str.contains(r'-AW-'),\n",
    "    df['Key'].str.contains(no_paid_words),\n",
    "    df['Key'].str.contains(r'Upselling_Fisso'),\n",
    "    df['Key'].str.contains(r'Upselling_Mobile'),\n",
    "    ]\n",
    "\n",
    "# create a list of the values we want to assign for each condition\n",
    "values = [\"Acquisizione Fisso\", \"Acquisizione Mobile\", \"Assistenza e Altro Mobile\", \"Awareness\", \"No Paid\", \"Upselling Fisso\", \"Upselling Mobile\"]\n",
    "\n",
    "# create a new column and use np.select to assign values to it using our lists as arguments\n",
    "df['Tipologia Campagna'] = np.select(conditions, values, default=\"\")\n",
    "\n",
    "# display updated DataFrame\n",
    "df.head()\n",
    "\n",
    "\n",
    "#df[\"Tipologia\"] = df[\"Campaign+Placement+Adgroup\"].str.replace(r'\\d+', 'digit')"
   ]
  },
  {
   "cell_type": "code",
   "execution_count": 48,
   "metadata": {},
   "outputs": [],
   "source": [
    "acquisizione_fisso =re.compile(\"^(?=.*?(fisso|supe|fibra))((?!(pack|promopack|upselling)).)*$\", re.IGNORECASE)\n",
    "df.loc[df[\"Campaign+Placement+Adgroup\"].str.contains(acquisizione_fisso),\"Campaign+Placement+Adgroup\"].to_excel(\"C:/Users/11622901/JupyterLab/Sources/ppp.xlsx\")"
   ]
  },
  {
   "cell_type": "code",
   "execution_count": 21,
   "metadata": {},
   "outputs": [
    {
     "name": "stdout",
     "output_type": "stream",
     "text": [
      "                                                                                                                                                                                           Campaign+Placement+Adgroup  \\\n",
      "1                                                                                                Acquisizione_Fisso_Conversion-Booster_Fanplayr_Fanplayr Bonus 2 Mesi_TIM_Fanplayr_Bonus-2-Mesi_CPA_SuperFibra_Jun-20   \n",
      "2                                                                                                      Acquisizione_Fisso_Conversion-Booster_Fanplayr_Fanplayr Disney +_Native_TIM_Fanplayr_Disney_PromoPack_2020July   \n",
      "3                                                                                                             Acquisizione_Fisso_Conversion-Booster_Fanplayr_FANPLAYR_Fibra € 29,90_CPA_TIM_Fanplayr_Fibra_€29.99_CPA   \n",
      "4                                                                                     Acquisizione_Fisso_Conversion-Booster_Fanplayr_Native Fanplayr Promo Pack Netflix_Native_TIM_Fanplayr_Disney_PromoPack_2020July   \n",
      "5                                                                                    Acquisizione_Fisso_Conversion-Booster_Fanplayr_Native Fanplayr Promo Pack Netflix_Native_TIM_Fanplayr_Netflix_PromoPack_2020July   \n",
      "...                                                                                                                                                                                                               ...   \n",
      "2318  Upselling_Fisso_Social_Facebook_Upselling_Fisso_Social_Facebook_Dazn+NowTV_Conversion-CB-Fisso+Interessi-18-24_CPC_Self_Upselling_Fisso_Social_Facebook_Dazn+NowTV_Conversion-CB-Fisso+Interessi-18-24_CPC_Self   \n",
      "2319                                                                       Acquisizione_Fisso_External-DSP_Cognitive_Acquisizione_Fisso_External-DSP_Cognitive_Fibra_Prospecting-Display_CPM_Self_120x600_29.90_2-Sep   \n",
      "2320                                                                                                                                        MYN-AW-Tim-Lockdown_MYN-AW-Netaddiction-Tim-Lockdown-Box_Standard_300x250   \n",
      "2321                                                                                                                                        MYN-AW-Tim-Lockdown_MYN-AW-Netaddiction-Tim-Lockdown-Box_Standard_300x250   \n",
      "2324                                                                       Acquisizione_Fisso_External-DSP_Cognitive_Acquisizione_Fisso_External-DSP_Cognitive_Fibra_Retargeting-Display_CPM_Self_970x250_29.90_2-Sep   \n",
      "\n",
      "                                                                                                                                                                                                                            prova  \n",
      "1                                                                                                 Acquisizione_Fisso_Conversion-Booster_Fanplayr_Fanplayr Bonus digit Mesi_TIM_Fanplayr_Bonus-digit-Mesi_CPA_SuperFibra_Jun-digit  \n",
      "2                                                                                                                 Acquisizione_Fisso_Conversion-Booster_Fanplayr_Fanplayr Disney +_Native_TIM_Fanplayr_Disney_PromoPack_digitJuly  \n",
      "3                                                                                                             Acquisizione_Fisso_Conversion-Booster_Fanplayr_FANPLAYR_Fibra € digit,digit_CPA_TIM_Fanplayr_Fibra_€digit.digit_CPA  \n",
      "4                                                                                                Acquisizione_Fisso_Conversion-Booster_Fanplayr_Native Fanplayr Promo Pack Netflix_Native_TIM_Fanplayr_Disney_PromoPack_digitJuly  \n",
      "5                                                                                               Acquisizione_Fisso_Conversion-Booster_Fanplayr_Native Fanplayr Promo Pack Netflix_Native_TIM_Fanplayr_Netflix_PromoPack_digitJuly  \n",
      "...                                                                                                                                                                                                                           ...  \n",
      "2318  Upselling_Fisso_Social_Facebook_Upselling_Fisso_Social_Facebook_Dazn+NowTV_Conversion-CB-Fisso+Interessi-digit-digit_CPC_Self_Upselling_Fisso_Social_Facebook_Dazn+NowTV_Conversion-CB-Fisso+Interessi-digit-digit_CPC_Self  \n",
      "2319                                                                     Acquisizione_Fisso_External-DSP_Cognitive_Acquisizione_Fisso_External-DSP_Cognitive_Fibra_Prospecting-Display_CPM_Self_digitxdigit_digit.digit_digit-Sep  \n",
      "2320                                                                                                                                                MYN-AW-Tim-Lockdown_MYN-AW-Netaddiction-Tim-Lockdown-Box_Standard_digitxdigit  \n",
      "2321                                                                                                                                                MYN-AW-Tim-Lockdown_MYN-AW-Netaddiction-Tim-Lockdown-Box_Standard_digitxdigit  \n",
      "2324                                                                     Acquisizione_Fisso_External-DSP_Cognitive_Acquisizione_Fisso_External-DSP_Cognitive_Fibra_Retargeting-Display_CPM_Self_digitxdigit_digit.digit_digit-Sep  \n",
      "\n",
      "[1754 rows x 2 columns]\n"
     ]
    }
   ],
   "source": [
    "pd.set_option('display.max_colwidth', None)\n",
    "print(df.loc[df[\"prova\"].str.contains(\"digit\"),[\"Campaign+Placement+Adgroup\",\"prova\"]])"
   ]
  },
  {
   "cell_type": "markdown",
   "metadata": {},
   "source": [
    "# Parole più frequenti"
   ]
  },
  {
   "cell_type": "code",
   "execution_count": 373,
   "metadata": {},
   "outputs": [],
   "source": [
    "canali = df[\"Canale\"].unique()\n",
    "lista = []\n",
    "\n",
    "for c in canali:\n",
    "    lista.append(Counter(\" \".join(df.loc[df['Canale'] == c, \"Campaign+Placement+Adgroup\"]).split(\"_\")).most_common(20))\n",
    "\n",
    "df_l = pd.DataFrame(lista)\n",
    "df_l = df_l.transpose()\n",
    "df_l.columns = df[\"Canale\"].unique()\n",
    "df_l.to_excel(\"~/Downloads/parole_frequenti_CANALI.xlsx\")"
   ]
  },
  {
   "cell_type": "code",
   "execution_count": 7,
   "metadata": {},
   "outputs": [],
   "source": [
    "attivita = df[\"Tipologia Campagna\"].unique()\n",
    "lista_attivita = []\n",
    "\n",
    "for a in attivita:\n",
    "    lista_attivita.append(Counter(\" \".join(df.loc[df['Tipologia Campagna'] == a, \"Campaign+Placement+Adgroup\"]).split(\"_\")).most_common(100))\n",
    "\n",
    "df_l_a = pd.DataFrame(lista_attivita)\n",
    "df_l_a = df_l_a.transpose()\n",
    "df_l_a.columns = df[\"Tipologia Campagna\"].unique()\n",
    "df_l_a.to_excel(\"~/Downloads/parole_frequenti_TIPOLOGIA.xlsx\")"
   ]
  },
  {
   "cell_type": "code",
   "execution_count": null,
   "metadata": {},
   "outputs": [],
   "source": [
    "pd.DataFrame(df_l[\"No Paid\"].tolist())"
   ]
  },
  {
   "cell_type": "code",
   "execution_count": 77,
   "metadata": {},
   "outputs": [
    {
     "data": {
      "text/plain": [
       "<matplotlib.axes._subplots.AxesSubplot at 0x1a7b40cbd30>"
      ]
     },
     "execution_count": 77,
     "metadata": {},
     "output_type": "execute_result"
    },
    {
     "data": {
      "image/png": "[encoded data removed]",
      "text/plain": [
       "<Figure size 432x288 with 1 Axes>"
      ]
     },
     "metadata": {
      "needs_background": "light"
     },
     "output_type": "display_data"
    }
   ],
   "source": [
    "new_col_list = ['A','B']\n",
    "for n,col in enumerate(new_col_list):\n",
    "    df_l[col] = df_l['No Paid'].apply(lambda x: x[n])\n",
    "\n",
    "df_l[[\"A\",\"B\"]].plot.barh(x=\"A\",y=\"B\")\n",
    "#df = df.drop('No Paid',axis=1)"
   ]
  },
  {
   "cell_type": "markdown",
   "metadata": {},
   "source": [
    "# Ricatalogazione"
   ]
  },
  {
   "cell_type": "code",
   "execution_count": 2,
   "metadata": {},
   "outputs": [],
   "source": [
    "xls = pd.ExcelFile(\"C:/Users/11622901/JupyterLab/Sources/ricatalogazione_canali.xlsx\")\n",
    "df = pd.read_excel(xls, \"ricatalogazione\")\n",
    "tipologia = pd.read_excel(xls, \"tipologia\")\n",
    "canale = pd.read_excel(xls, \"canale\")\n",
    "prodotto = pd.read_excel(xls, \"prodotto\")\n"
   ]
  },
  {
   "cell_type": "code",
   "execution_count": 371,
   "metadata": {},
   "outputs": [],
   "source": [
    "df.to_excel(\"~/Downloads/ricatalogazione.xlsx\")"
   ]
  },
  {
   "cell_type": "code",
   "execution_count": 3,
   "metadata": {},
   "outputs": [],
   "source": [
    "campi = [\"Tipologia Campagna\",\"Canale\",\"Prodotto\"]\n",
    "dataframes = [tipologia,canale, prodotto]\n",
    "\n",
    "\n",
    "duz = {}\n",
    "for campo, dataframe in zip(campi,dataframes):\n",
    "    dataframe.fillna(\"x\", inplace=True)\n",
    "    \n",
    "    diz = {}\n",
    "    for i, col in enumerate(dataframe.columns):\n",
    "        diz[i] = dataframe[col].unique().tolist()\n",
    "        diz[col] = diz.pop(i)\n",
    "\n",
    "        for k,v in diz.items():\n",
    "            if \"x\" in v:\n",
    "                v.remove(\"x\")\n",
    "            else:\n",
    "                v\n",
    "\n",
    "    duz[campo] = diz\n",
    "\n",
    "for campo, valore in duz.items():\n",
    "    for inner_campo, inner_valore in valore.items():\n",
    "        if inner_valore == []:\n",
    "            pass\n",
    "        else:\n",
    "            df.loc[df[\"Campaign+Placement+Adgroup\"].str.contains(\"|\".join(inner_valore), regex=False), campo] = inner_campo"
   ]
  },
  {
   "cell_type": "code",
   "execution_count": 4,
   "metadata": {},
   "outputs": [
    {
     "data": {
      "text/plain": [
       "{'Tipologia Campagna': {'Acquisizione Fisso': ['tim_clienti_mobile_fibra'],\n",
       "  'Acquisizione Mobile': ['Mobile'],\n",
       "  'Acquisizione Intrattenimento': [],\n",
       "  'Upselling Fisso': ['PromoPack', 'Promo Pack', 'Upselling_Fisso'],\n",
       "  'Upselling Mobile': [],\n",
       "  'Crosselling Fisso': [],\n",
       "  'Crosselling Mobile': []},\n",
       " 'Canale': {'Affiliazione Indiretta': ['Affiliazione'],\n",
       "  'Affiliazione Comparatori': ['Comparatori'],\n",
       "  'Conversion Booster': ['Fanplayr', 'ConversionBooster'],\n",
       "  'DEM': ['DEM'],\n",
       "  'Display Reservation': [],\n",
       "  'Display Retargeter': [],\n",
       "  'Display Programmatic': [],\n",
       "  'Display GDN': [],\n",
       "  'Display CPL': [],\n",
       "  'Native': ['Native'],\n",
       "  'SEM Brand': ['Brand'],\n",
       "  'SEM Generiche': ['TF_[MARKET]', 'TF_MYN_[MARKET]', '[Generiche]'],\n",
       "  'Social': ['fb'],\n",
       "  'No Paid': ['APP-TIM',\n",
       "   'AliceMail',\n",
       "   'Campagne-SMS',\n",
       "   'Telecom Italia - Tracking__',\n",
       "   'Sito-Consumer',\n",
       "   'Mail TIM',\n",
       "   'Campagne Interne']},\n",
       " 'Prodotto': {'Fibra': ['SuperFibra'],\n",
       "  'Fibra con Tim Unica': ['Unica'],\n",
       "  'Fibra con Dazn e Now Tv': [],\n",
       "  'Fibra con Mondo Netflix': [],\n",
       "  'Fibra con Disney': ['super+disney'],\n",
       "  'FWA': ['fwa'],\n",
       "  'Flexy': [],\n",
       "  'Disney': ['Promo Pack - Disney'],\n",
       "  'Netflix': ['Promo Pack - Netflix'],\n",
       "  'NowTV&Dazn': ['Promo Pack - Calcio'],\n",
       "  'Voce Smart Google': [],\n",
       "  'Passa a Tim': ['Passa_a_Tim'],\n",
       "  'Music': []}}"
      ]
     },
     "execution_count": 4,
     "metadata": {},
     "output_type": "execute_result"
    }
   ],
   "source": [
    "duz"
   ]
  },
  {
   "cell_type": "code",
   "execution_count": null,
   "metadata": {},
   "outputs": [],
   "source": []
  }
 ],
 "metadata": {
  "kernelspec": {
   "display_name": "Python 3",
   "language": "python",
   "name": "python3"
  },
  "language_info": {
   "codemirror_mode": {
    "name": "ipython",
    "version": 3
   },
   "file_extension": ".py",
   "mimetype": "text/x-python",
   "name": "python",
   "nbconvert_exporter": "python",
   "pygments_lexer": "ipython3",
   "version": "3.8.3"
  }
 },
 "nbformat": 4,
 "nbformat_minor": 4
}
