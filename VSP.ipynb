{
 "cells": [
  {
   "cell_type": "markdown",
   "id": "e4bd986e",
   "metadata": {},
   "source": [
    "C:\\Users\\Raffaele.Sportiello\\OneDrive - Wolters Kluwer\\Documents\\VSP"
   ]
  },
  {
   "cell_type": "code",
   "execution_count": 2,
   "id": "aadc3a48-eb09-4efd-adc6-6a66388e3bee",
   "metadata": {},
   "outputs": [],
   "source": [
    "import pandas as pd\n",
    "import os\n",
    "import numpy as np\n",
    "import datetime as dt\n",
    "\n",
    "from os import listdir\n",
    "from os.path import isfile, join\n",
    "from os.path import getmtime\n",
    "\n",
    "from zebra import remov_duplicates, human_format\n",
    "from directories import parametriche,parametriche_files, budest_prodotto_anno, budest_prodotto_anno_files"
   ]
  },
  {
   "cell_type": "code",
   "execution_count": 2,
   "id": "4f439a53-3bc1-426e-9dfa-a23a10118c06",
   "metadata": {},
   "outputs": [],
   "source": [
    "idx = pd.IndexSlice"
   ]
  },
  {
   "cell_type": "code",
   "execution_count": 4,
   "id": "6c776807-465e-48e8-838f-387077a8d51a",
   "metadata": {},
   "outputs": [],
   "source": [
    "pd.set_option('display.max_rows', 100)"
   ]
  },
  {
   "cell_type": "markdown",
   "id": "9cfa3a3e-f20c-43a9-b695-8535682684f1",
   "metadata": {},
   "source": [
    "# Sources"
   ]
  },
  {
   "cell_type": "markdown",
   "id": "e561f817-5d50-46d5-8997-cf0f5919166b",
   "metadata": {},
   "source": [
    "## Parametriche"
   ]
  },
  {
   "cell_type": "code",
   "execution_count": 5,
   "id": "fd9de2aa-145b-4023-8140-8ae125d788f6",
   "metadata": {},
   "outputs": [],
   "source": [
    "par = {}\n",
    "for file in parametriche_files:\n",
    "    file_name=file.split(\".\")[0]\n",
    "    par[f\"{file_name}\"] = pd.read_excel(parametriche+\"\\\\\"+file)"
   ]
  },
  {
   "cell_type": "code",
   "execution_count": 12,
   "id": "e2dc9143-29f7-4002-bd67-6adfe10ff63e",
   "metadata": {},
   "outputs": [],
   "source": [
    "cod_prod = par[\"Classificazione_codice_prodotto\"]\n",
    "cod_prod[\"Codice PRODOTTO\"] = cod_prod[\"Codice PRODOTTO\"].apply(lambda x: str(x))\n",
    "cod_prod = cod_prod.loc[:, ['GTM BDG', 'Solution', 'Sub solution', 'VSP',\"Codice PRODOTTO\"]]"
   ]
  },
  {
   "cell_type": "markdown",
   "id": "d2e4ef08-a18f-4d87-8f12-2d282ae2152c",
   "metadata": {},
   "source": [
    "## Raccolto"
   ]
  },
  {
   "cell_type": "code",
   "execution_count": 9,
   "id": "6cf92031-6a73-4a3a-b8e3-38a6c7415bff",
   "metadata": {},
   "outputs": [],
   "source": [
    "dfs = []\n",
    "for file in budest_prodotto_anno_files:\n",
    "    data = pd.read_excel(budest_prodotto_anno+\"\\\\\"+file, na_values=\"#\", dtype={\"Codice ABBONAMENTO\":str})\n",
    "    data[\"Ultimo Agg.\"] = dt.date.fromtimestamp(getmtime(budest_prodotto_anno+\"\\\\\"+file))\n",
    "    dfs.append(data)\n",
    "\n",
    "fatt = pd.concat(dfs, axis=0, ignore_index=True)"
   ]
  },
  {
   "cell_type": "code",
   "execution_count": null,
   "id": "74c37e4e",
   "metadata": {},
   "outputs": [],
   "source": [
    "raccolto = r\"C:\\Users\\Raffaele.Sportiello\\OneDrive - Wolters Kluwer\\Documents\\Analisi clienti\\Parco clienti\\Data export\\Budest\\Budest prodotto anno\\\\\"\n",
    "\n",
    "onlyfiles = [f for f in listdir(r\"C:\\Users\\Raffaele.Sportiello\\OneDrive - Wolters Kluwer\\Documents\\Analisi clienti\\Parco clienti\\Data export\\Budest\\Budest prodotto anno\") if isfile(join(r\"C:\\Users\\Raffaele.Sportiello\\OneDrive - Wolters Kluwer\\Documents\\Analisi clienti\\Parco clienti\\Data export\\Budest\\Budest prodotto anno\", f))]\n",
    "\n",
    "dfs = []\n",
    "for file in onlyfiles:\n",
    "    data = pd.read_excel(raccolto+file, na_values=\"#\", dtype={\"Codice ABBONAMENTO\":str})\n",
    "    data[\"Ultimo Agg.\"] = dt.date.fromtimestamp(getmtime(raccolto+file))\n",
    "    dfs.append(data)\n",
    "\n",
    "fatt = pd.concat(dfs, axis=0, ignore_index=True)"
   ]
  },
  {
   "cell_type": "code",
   "execution_count": 10,
   "id": "8850525b-0271-4b99-978e-683384bc77f4",
   "metadata": {},
   "outputs": [],
   "source": [
    "fatt[\"Raccolto\"] = fatt.loc[:,[\"Altro\",\"Rinnovi Software\",\"Vendite Editoria\",\"Vendite Software\"]].sum(axis=1)\n",
    "fatt[\"Vendite\"] = fatt.loc[:,[\"Vendite Editoria\",\"Vendite Software\"]].sum(axis=1)\n",
    "fatt[\"Rinnovi\"] = fatt.loc[:,[\"Altro\",\"Rinnovi Software\"]].sum(axis=1)\n",
    "\n",
    "fatt[\"Codice PRODOTTO\"] = fatt.loc[:,\"Codice PRODOTTO\"].apply(lambda x: str(x))"
   ]
  },
  {
   "cell_type": "code",
   "execution_count": 13,
   "id": "71f185d8-e47d-4559-b677-30e631fa5375",
   "metadata": {},
   "outputs": [],
   "source": [
    "fatt.merge(cod_prod, on=\"Codice PRODOTTO\", how=\"left\").groupby([\"Anno Inserimento Ord\",\"VSP\",\"GTM BDG\",\"Solution\",\"Sub solution\",\"Prodotto (SW)\", \"Sales Director\", \"Segmento Aggregato\"], dropna=False).agg({\"Vendite\":\"sum\",\"Rinnovi\":\"sum\", \"Raccolto\":\"sum\"}).reset_index().style.format(thousands=\".\", precision=0, subset=[\"Vendite\", \"Rinnovi\", \"Raccolto\"]).to_excel(r\"C:\\Users\\Raffaele.Sportiello\\OneDrive - Wolters Kluwer\\Documents\\VSP\\Fatturato finanziario 2017 - 2022 v3.xlsx\", index=False)"
   ]
  },
  {
   "cell_type": "code",
   "execution_count": null,
   "id": "ba33a985-c5f2-4130-80e3-835386b026d9",
   "metadata": {},
   "outputs": [],
   "source": []
  }
 ],
 "metadata": {
  "kernelspec": {
   "display_name": "Python 3 (ipykernel)",
   "language": "python",
   "name": "python3"
  },
  "language_info": {
   "codemirror_mode": {
    "name": "ipython",
    "version": 3
   },
   "file_extension": ".py",
   "mimetype": "text/x-python",
   "name": "python",
   "nbconvert_exporter": "python",
   "pygments_lexer": "ipython3",
   "version": "3.9.12"
  },
  "vscode": {
   "interpreter": {
    "hash": "b3e4ceeb8545c6f77e2128b60a53d4f76e775a60f7e42e70cb0e4a6bd890691a"
   }
  }
 },
 "nbformat": 4,
 "nbformat_minor": 5
}
