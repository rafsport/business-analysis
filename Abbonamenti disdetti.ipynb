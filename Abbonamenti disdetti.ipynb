{
 "cells": [
  {
   "cell_type": "code",
   "execution_count": 1,
   "metadata": {},
   "outputs": [],
   "source": [
    "import pandas as pd\n",
    "import os\n",
    "import numpy as np\n",
    "import datetime as dt\n",
    "\n",
    "from os import listdir\n",
    "from os.path import isfile, join\n",
    "from os.path import getmtime\n",
    "\n",
    "from zebra import remov_duplicates, human_format\n",
    "from directories import *"
   ]
  },
  {
   "cell_type": "code",
   "execution_count": 2,
   "metadata": {},
   "outputs": [],
   "source": [
    "idx = pd.IndexSlice"
   ]
  },
  {
   "cell_type": "markdown",
   "metadata": {},
   "source": [
    "# Sources"
   ]
  },
  {
   "cell_type": "markdown",
   "metadata": {},
   "source": [
    "## Parametriche"
   ]
  },
  {
   "cell_type": "code",
   "execution_count": 3,
   "metadata": {},
   "outputs": [],
   "source": [
    "par = {}\n",
    "for file in parametriche_files:\n",
    "    file_name=file.split(\".\")[0]\n",
    "    par[f\"{file_name}\"] = pd.read_excel(parametriche+\"\\\\\"+file)"
   ]
  },
  {
   "cell_type": "code",
   "execution_count": 4,
   "metadata": {},
   "outputs": [],
   "source": [
    "cod_prod = pd.DataFrame(par[\"Classificazione_codice_prodotto\"]).loc[:,['MDM', 'GTM BDG', 'Solution','Sub solution',\"Codice PRODOTTO\"]].assign(**{\"Codice PRODOTTO\": lambda x: x[\"Codice PRODOTTO\"].astype(str)})\n",
    "\n",
    "sales_director = pd.DataFrame(par[\"Sales_director\"]).loc[:,[\"Sales Director\", \"Area territoriale\", \"Rete\"]].assign(**{\"Sales Director\": lambda x: x[\"Sales Director\"].str.lower()})"
   ]
  },
  {
   "cell_type": "markdown",
   "metadata": {},
   "source": [
    "## Parco clienti da Licenze e abbonamenti"
   ]
  },
  {
   "cell_type": "code",
   "execution_count": 47,
   "metadata": {},
   "outputs": [],
   "source": [
    "dfs = []\n",
    "for file in abb_files:\n",
    "    data = pd.read_excel(abbonamenti+\"\\\\\"+file, usecols=[\"Cliente MERCE\"], dtype={\"Cliente MERCE\":str}, na_values=\"#\")\n",
    "    data[\"Tipo Licenza\"] = file.split(\"_\")[1].split(\".\")[0]\n",
    "    data[\"Ultimo Agg.\"] = dt.date.fromtimestamp(getmtime(abbonamenti+\"\\\\\"+file))\n",
    "    dfs.append(data)\n",
    "\n",
    "cli = pd.concat(dfs, axis=0, ignore_index=True)"
   ]
  },
  {
   "cell_type": "markdown",
   "metadata": {},
   "source": [
    "## Parco clienti da Licenze e abbonamenti"
   ]
  },
  {
   "cell_type": "code",
   "execution_count": 6,
   "metadata": {},
   "outputs": [],
   "source": [
    "cli_merce = pd.read_excel(anagrafiche+\"\\\\\"+\"Lista_clienti_merce_da_abbonamenti.xlsb\", dtype={\"Cliente MERCE\":str})"
   ]
  },
  {
   "cell_type": "markdown",
   "metadata": {},
   "source": [
    "## Abbonamenti disdetti"
   ]
  },
  {
   "cell_type": "code",
   "execution_count": 10,
   "metadata": {},
   "outputs": [],
   "source": [
    "dis = pd.read_excel(base_dati+r\"\\Abbonamenti disdetti\\Abb_Disdetti_Diretta-Indiretta.xlsb\", dtype={\"Cliente MERCE\":str, \"Cliente FATTURA\":str, \"Codice ABBONAMENTO\":str, \"Data inizio contratt\":object, \"Data fine contratto\":object,\"Data Inizio Abb.\":object}, na_values=\"#\")\n",
    "\n",
    "for col in dis.columns:\n",
    "    if \"Data\" in col:\n",
    "        \n",
    "        dis[col] = dis[col].apply(lambda x: (float(x) - 25569) * 86400)\n",
    "        dis[col] = pd.to_datetime(dis[col], unit=\"s\")\n",
    "    else:\n",
    "        pass"
   ]
  },
  {
   "cell_type": "code",
   "execution_count": 15,
   "metadata": {},
   "outputs": [
    {
     "name": "stdout",
     "output_type": "stream",
     "text": [
      "<class 'pandas.core.frame.DataFrame'>\n",
      "RangeIndex: 449539 entries, 0 to 449538\n",
      "Data columns (total 13 columns):\n",
      " #   Column                     Non-Null Count   Dtype         \n",
      "---  ------                     --------------   -----         \n",
      " 0   Cliente MERCE              449539 non-null  object        \n",
      " 1   Cliente FATTURA            449539 non-null  int64         \n",
      " 2   Sistema                    449539 non-null  object        \n",
      " 3   Numero SISTEMA             436593 non-null  object        \n",
      " 4   Stato Sintetico Contratto  449539 non-null  object        \n",
      " 5   Data inizio contratt       436588 non-null  datetime64[ns]\n",
      " 6   Data fine contratto        436545 non-null  datetime64[ns]\n",
      " 7   Codice ABBONAMENTO         449539 non-null  object        \n",
      " 8   Tipo Abbonamento           449539 non-null  object        \n",
      " 9   Data Inizio Abb.           449539 non-null  datetime64[ns]\n",
      " 10  Stato Esteso               449539 non-null  object        \n",
      " 11  Sales Director             449539 non-null  object        \n",
      " 12  Valore PV New              449539 non-null  float64       \n",
      "dtypes: datetime64[ns](3), float64(1), int64(1), object(8)\n",
      "memory usage: 44.6+ MB\n"
     ]
    }
   ],
   "source": [
    "dis.info()"
   ]
  },
  {
   "attachments": {},
   "cell_type": "markdown",
   "metadata": {},
   "source": [
    "## Creazione dataframe"
   ]
  },
  {
   "cell_type": "code",
   "execution_count": 48,
   "metadata": {},
   "outputs": [],
   "source": [
    "def df_extend(df_):\n",
    "\n",
    "  df = dis.loc[~dis[\"Cliente MERCE\"].isin(cli[\"Cliente MERCE\"]),:].copy()\n",
    "  df[\"Sales Director\"] = df[\"Sales Director\"].str.lower()\n",
    "  df = df.merge(cod_prod, how=\"left\", left_on=\"Codice ABBONAMENTO\", right_on=\"Codice PRODOTTO\")\\\n",
    "    .merge(sales_director, how=\"left\", on=\"Sales Director\")\n",
    "    \n",
    "  return df\n",
    "\n",
    "dis_tot = dis.pipe(df_extend)"
   ]
  },
  {
   "cell_type": "code",
   "execution_count": 49,
   "metadata": {},
   "outputs": [],
   "source": [
    "dis_tot_arca = dis_tot.groupby([\"Solution\", \"Rete\", \"Area territoriale\", \"Cliente MERCE\"]).agg({\"Data fine contratto\":max, \"Valore PV New\":sum}).loc[\"Arca Evolution\"].reset_index()"
   ]
  },
  {
   "cell_type": "code",
   "execution_count": 53,
   "metadata": {},
   "outputs": [],
   "source": [
    "dis_tot_arca.rename(columns={\"Data fine contratto\": \"Ultima data fine contratto\", \"Valore PV New\":\"Valore PV\"}, inplace=True)"
   ]
  },
  {
   "cell_type": "code",
   "execution_count": 34,
   "metadata": {},
   "outputs": [],
   "source": [
    "dis_tot_arca.to_excel(r\"C:\\Users\\Raffaele.Sportiello\\OneDrive - Wolters Kluwer\\Documents\\Analisi clienti\\Clienti per area territoriale\\Clienti diretta\\EED e LA\\Data export\\Lista clienti disdetti.xlsx\", index=False)"
   ]
  }
 ],
 "metadata": {
  "kernelspec": {
   "display_name": "base",
   "language": "python",
   "name": "python3"
  },
  "language_info": {
   "codemirror_mode": {
    "name": "ipython",
    "version": 3
   },
   "file_extension": ".py",
   "mimetype": "text/x-python",
   "name": "python",
   "nbconvert_exporter": "python",
   "pygments_lexer": "ipython3",
   "version": "3.9.12"
  },
  "orig_nbformat": 4
 },
 "nbformat": 4,
 "nbformat_minor": 2
}
