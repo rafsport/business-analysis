{
 "cells": [
  {
   "cell_type": "code",
   "execution_count": 1,
   "id": "5453e49f-5cf8-4a29-8e9d-a0e13b38a95b",
   "metadata": {},
   "outputs": [],
   "source": [
    "import pandas as pd\n",
    "import numpy as np\n",
    "import datetime as dt\n",
    "import re\n",
    "from os import listdir\n",
    "from os.path import isfile, join"
   ]
  },
  {
   "cell_type": "code",
   "execution_count": 2,
   "id": "6d2d30c5-2ba6-444b-abff-246d8cc8e70c",
   "metadata": {},
   "outputs": [],
   "source": [
    "import matplotlib.pyplot as plt\n",
    "import seaborn as sns"
   ]
  },
  {
   "cell_type": "code",
   "execution_count": 2,
   "id": "ab096667-f98c-469a-a64c-73ccec3658c2",
   "metadata": {},
   "outputs": [],
   "source": [
    "import plotly.graph_objects as go\n",
    "import plotly.offline as pyo\n",
    "from plotly.subplots import make_subplots\n",
    "import plotly.express as px"
   ]
  },
  {
   "cell_type": "code",
   "execution_count": 3,
   "id": "2ec4ee2b-8c77-4362-881c-e9f873d086c9",
   "metadata": {},
   "outputs": [],
   "source": [
    "import calendar"
   ]
  },
  {
   "cell_type": "code",
   "execution_count": 4,
   "id": "4ea17b6b-bcf9-4a1b-928e-8fa176d0a3e8",
   "metadata": {},
   "outputs": [],
   "source": [
    "idx = pd.IndexSlice"
   ]
  },
  {
   "cell_type": "markdown",
   "id": "c8eeff59-9a6d-444c-ad0d-b5865f28c022",
   "metadata": {
    "tags": []
   },
   "source": [
    "<a id='leads_and_opportunities'></a>\n",
    "# Leads and opportunities"
   ]
  },
  {
   "cell_type": "code",
   "execution_count": null,
   "id": "1cd5355f-4794-4112-8389-39b00faaaad8",
   "metadata": {},
   "outputs": [],
   "source": [
    "lead_op = pd.read_csv(r\"C:\\Users\\Raffaele.Sportiello\\OneDrive - Wolters Kluwer\\Documents\\Salesforce\\Data export\\IT_Leads_w_conversion.csv\", encoding='latin-1', sep=\";\")"
   ]
  },
  {
   "cell_type": "code",
   "execution_count": null,
   "id": "d54e6c11-545b-4d4c-a7e2-fd8486dab71e",
   "metadata": {},
   "outputs": [],
   "source": [
    "date_columns = [c for c in lead_op.columns if \" Date\" in c]\n",
    "\n",
    "for col in date_columns:\n",
    "    lead_op[col] = lead_op[col].apply(lambda x: pd.to_datetime(str(x), format=\"%d/%m/%Y\"))\n",
    "    \n",
    "    \n",
    "columns = [c for c in lead_op.columns if not \"Currency\" in c]\n",
    "lead_op = lead_op.loc[:,columns]\n",
    "\n",
    "lead_op.dropna(axis=1, how=\"all\", inplace=True)"
   ]
  },
  {
   "cell_type": "code",
   "execution_count": null,
   "id": "2fa67e31-b087-4ab4-b7bc-731753cd90b4",
   "metadata": {},
   "outputs": [],
   "source": [
    "lead_op[\"MQL Duration\"] = lead_op[\"MQL Duration\"].str.split(\" \", expand=True).get(0).fillna(0).astype(np.int64)\n",
    "lead_op[\"SAL Duration\"] = lead_op[\"SAL Duration\"].str.split(\" \", expand=True).get(0).fillna(0).astype(np.int64)"
   ]
  },
  {
   "cell_type": "code",
   "execution_count": null,
   "id": "82a58384-6c8f-4b46-8e3b-1783f058870a",
   "metadata": {},
   "outputs": [],
   "source": [
    "lead_op.info()"
   ]
  },
  {
   "cell_type": "code",
   "execution_count": null,
   "id": "dd877932-6897-43e7-b016-ec9d53de7c02",
   "metadata": {
    "tags": []
   },
   "outputs": [],
   "source": [
    "pd.set_option('display.max_rows', 30)\n",
    "lead_op.loc[(lead_op[\"Lead Status\"].isin([\"SQL\"])) & (lead_op[\"Created Date\"].dt.year ==2022) ,[\"Owner Role Name\",\"Lead Owner\",\"Lead Source\",\"Email\",\"Company / Account\",\"Lead Status\", \"Created Date\", \"Lead Age\", \"MQL Duration\", \"SAL Duration\", \"Converted Date\", \"Opportunity: Created Date\",\"Opportunity Name\"]]"
   ]
  },
  {
   "cell_type": "code",
   "execution_count": null,
   "id": "0aafce2c-c46e-45b7-b1ef-670adf359b2e",
   "metadata": {},
   "outputs": [],
   "source": [
    "lead_op['Lead Status cat'] = pd.Categorical(lead_op['Lead Status'], [\"New\", \"MQL\", \"SAL\", \"SQL\", \"Rejected\", \"Qualified\", \"Unqualified\", \"Working\"])"
   ]
  },
  {
   "cell_type": "code",
   "execution_count": null,
   "id": "8e9bbcd3-6447-4b96-84ea-e79a565b8fa6",
   "metadata": {},
   "outputs": [],
   "source": [
    "g_status = lead_op.sort_values(['Lead Status cat']).groupby([\"Lead Status cat\"])"
   ]
  },
  {
   "cell_type": "code",
   "execution_count": null,
   "id": "54e95e39-ff15-4981-b2bc-b72ff04a0ec3",
   "metadata": {},
   "outputs": [],
   "source": [
    "g_source = lead_op.groupby([\"Lead Source\"], dropna=False)"
   ]
  },
  {
   "cell_type": "code",
   "execution_count": null,
   "id": "495d4abc-54dd-4b14-8a6b-434965c0d028",
   "metadata": {},
   "outputs": [],
   "source": [
    "g_source[\"Lead ID\"].nunique().to_excel(r\"C:\\Users\\Raffaele.Sportiello\\OneDrive - Wolters Kluwer\\Documents\\Salesforce\\Reports\\source.xlsx\")"
   ]
  },
  {
   "cell_type": "code",
   "execution_count": null,
   "id": "99937219-a8b2-4f12-bc64-149005d65b0a",
   "metadata": {},
   "outputs": [],
   "source": [
    "g_busneed = lead_op.groupby([\"Business need\"], dropna=False)"
   ]
  },
  {
   "cell_type": "code",
   "execution_count": null,
   "id": "7a5dddae-e10e-4b15-a597-3aa7d86b6cbe",
   "metadata": {},
   "outputs": [],
   "source": [
    "lead_op.groupby([\"Business need\"])[\"Lead ID\"].nunique().to_excel(r\"C:\\Users\\Raffaele.Sportiello\\OneDrive - Wolters Kluwer\\Documents\\Salesforce\\Reports\\buz_needs.xlsx\")"
   ]
  },
  {
   "cell_type": "code",
   "execution_count": null,
   "id": "cadfd620-c997-4018-a44d-71499f84f1f9",
   "metadata": {},
   "outputs": [],
   "source": [
    "g_age = lead_op.groupby([\"Lead Age\"])"
   ]
  },
  {
   "cell_type": "code",
   "execution_count": null,
   "id": "e2da21b6-0d94-47d1-941d-b8dad68fd583",
   "metadata": {
    "tags": []
   },
   "outputs": [],
   "source": [
    "tm = [\"IT\"]\n",
    "#tm =[\"IT Central & South Sales Team\",\"IT North East Sales Team\",\"IT North West Sales Team\",\"IT Enterprise Specialists Sales Team\"]\n",
    "status = [\"MQL\",\"SAL\",\"SQL\",\"Rejected\"]\n",
    "filt = (lead_op[\"Owner Role Name\"].isin(tm) & lead_op[\"Lead Status\"].isin(status) )\n",
    "\n",
    "lead_op.loc[filt, [\"Lead Status\", \"Owner Role Name\", \"Lead Owner\", \"Lead ID\"]].groupby([\"Lead Status\", \"Owner Role Name\", \"Lead Owner\"]).count().unstack(level=(1,2)).head(6)\n",
    "#.to_excel(r\"C:\\Users\\Raffaele.Sportiello\\OneDrive - Wolters Kluwer\\Documents\\Salesforce\\Reports\\Lead_age_per_owner.xlsx\")"
   ]
  },
  {
   "cell_type": "code",
   "execution_count": null,
   "id": "078b64fe-c9fc-4732-abc3-418dbfb690c8",
   "metadata": {},
   "outputs": [],
   "source": [
    "lead_op.info()"
   ]
  }
 ],
 "metadata": {
  "kernelspec": {
   "display_name": "Python 3 (ipykernel)",
   "language": "python",
   "name": "python3"
  },
  "language_info": {
   "codemirror_mode": {
    "name": "ipython",
    "version": 3
   },
   "file_extension": ".py",
   "mimetype": "text/x-python",
   "name": "python",
   "nbconvert_exporter": "python",
   "pygments_lexer": "ipython3",
   "version": "3.9.7"
  }
 },
 "nbformat": 4,
 "nbformat_minor": 5
}
