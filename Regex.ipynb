{
 "cells": [
  {
   "cell_type": "code",
   "execution_count": 1,
   "metadata": {},
   "outputs": [],
   "source": [
    "import pandas as pd\n",
    "import re"
   ]
  },
  {
   "cell_type": "code",
   "execution_count": 2,
   "metadata": {},
   "outputs": [],
   "source": [
    "pd.set_option('display.max_columns', 100)\n",
    "pd.set_option('display.max_rows', 1000)"
   ]
  },
  {
   "cell_type": "code",
   "execution_count": 16,
   "metadata": {},
   "outputs": [],
   "source": [
    "n_camp = pd.read_clipboard(header=None,sep=' -_')"
   ]
  },
  {
   "cell_type": "code",
   "execution_count": 17,
   "metadata": {},
   "outputs": [],
   "source": [
    "n_camp_split = n_camp[0].str.split(pat=\"\\+|_|-\", expand=True)"
   ]
  },
  {
   "cell_type": "code",
   "execution_count": 18,
   "metadata": {},
   "outputs": [],
   "source": [
    "n_camp_split.to_excel(\"n_camp_split.xlsx\")"
   ]
  },
  {
   "cell_type": "markdown",
   "metadata": {},
   "source": [
    "<a id='indice'></a>\n",
    "* [REGEX](#regex)\n",
    "* [SPLIT](#split)\n"
   ]
  },
  {
   "cell_type": "markdown",
   "metadata": {},
   "source": [
    "<a id='regex'></a>\n",
    "# [REGEX](https://docs.python.org/3.3/howto/regex.html)"
   ]
  },
  {
   "cell_type": "markdown",
   "metadata": {},
   "source": [
    "| Character      | Purpose |\n",
    "| :--- | :--- |\n",
    "| \\d   | Matches any decimal digit.       |\n",
    "| \\D   | Matches any non-digit character.        |\n",
    "| \\s   | Matches any whitespace character.        |\n",
    "| \\S   | Matches any non-whitespace character.        |\n",
    "| \\w   | Matches any alphanumeric character.        |\n",
    "| \\W   | Matches any non-alphanumeric character.        |\n",
    "\n",
    "\n",
    "The preceding list of special sequences isn’t complete. For a complete list of sequences and expanded class definitions for Unicode string patterns, see the last part of [Regular Expression Syntax](https://docs.python.org/3.3/library/re.html#re-syntax) in the Standard Library reference. "
   ]
  },
  {
   "cell_type": "code",
   "execution_count": 2,
   "metadata": {},
   "outputs": [
    {
     "data": {
      "text/plain": [
       "re.compile(r'[a-z]+', re.UNICODE)"
      ]
     },
     "execution_count": 2,
     "metadata": {},
     "output_type": "execute_result"
    }
   ],
   "source": [
    "p = re.compile('[a-z]+')\n",
    "p  "
   ]
  },
  {
   "cell_type": "markdown",
   "metadata": {},
   "source": [
    "| Method/Attribute      | Purpose |\n",
    "| :--- | :--- |\n",
    "| match()      | Determine if the RE matches at the beginning of the string.       |\n",
    "| search()   | Scan through a string, looking for any location where this RE matches.        |\n",
    "| findall()   | Find all substrings where the RE matches, and returns them as a list.        |\n",
    "| finditer()   | Find all substrings where the RE matches, and returns them as an iterator.        |"
   ]
  },
  {
   "cell_type": "code",
   "execution_count": 39,
   "metadata": {},
   "outputs": [
    {
     "name": "stdout",
     "output_type": "stream",
     "text": [
      "tempo\n",
      "0\n",
      "5\n",
      "(0, 5)\n"
     ]
    }
   ],
   "source": [
    "m = p.match(\"tempo\")\n",
    "\n",
    "print(m.group())\n",
    "print(m.start())\n",
    "print(m.end())\n",
    "print(m.span())"
   ]
  },
  {
   "cell_type": "code",
   "execution_count": 41,
   "metadata": {},
   "outputs": [
    {
     "name": "stdout",
     "output_type": "stream",
     "text": [
      "None\n",
      "message\n"
     ]
    }
   ],
   "source": [
    "m = p.match('::: message')\n",
    "s = p.search('::: message')\n",
    "\n",
    "print(m)\n",
    "print(s.group())\n"
   ]
  },
  {
   "cell_type": "code",
   "execution_count": 50,
   "metadata": {},
   "outputs": [
    {
     "name": "stdout",
     "output_type": "stream",
     "text": [
      "Match found:  s\n",
      "Match found:  s\n"
     ]
    }
   ],
   "source": [
    "p = re.compile( \"[stg]\" )\n",
    "m = p.match( 'string goes here' )\n",
    "s = p.match( 'string goes here' )\n",
    "\n",
    "if m:\n",
    "    print('Match found: ', m.group())\n",
    "else:\n",
    "    print('No match')\n",
    "    \n",
    "if s:\n",
    "    print('Match found: ', s.group())\n",
    "else:\n",
    "    print('No match')"
   ]
  },
  {
   "cell_type": "code",
   "execution_count": 52,
   "metadata": {},
   "outputs": [
    {
     "data": {
      "text/plain": [
       "['12', '11', '10']"
      ]
     },
     "execution_count": 52,
     "metadata": {},
     "output_type": "execute_result"
    }
   ],
   "source": [
    "p = re.compile('\\d+')\n",
    "p.findall('12 drummers drumming, 11 pipers piping, 10 lords a-leaping')"
   ]
  },
  {
   "cell_type": "code",
   "execution_count": 59,
   "metadata": {},
   "outputs": [
    {
     "name": "stdout",
     "output_type": "stream",
     "text": [
      "Group is: ['12', '11', '10']\n",
      "Span is: [(0, 2), (22, 24), (29, 31)]\n"
     ]
    }
   ],
   "source": [
    "iterator = p.finditer('12 drummers drumming, 11 ... 10 ...')\n",
    "\n",
    "group = []\n",
    "span = []\n",
    "\n",
    "for match in iterator:\n",
    "    group.append(match.group())\n",
    "    span.append(match.span())\n",
    "    \n",
    "print(\"Group is:\", group)\n",
    "print(\"Span is:\",span)"
   ]
  },
  {
   "cell_type": "code",
   "execution_count": 64,
   "metadata": {},
   "outputs": [
    {
     "name": "stdout",
     "output_type": "stream",
     "text": [
      "None\n"
     ]
    }
   ],
   "source": [
    "print(re.search(r'From\\s+', 'Raffaele From'))"
   ]
  },
  {
   "cell_type": "markdown",
   "metadata": {},
   "source": [
    "<a id='split'></a>\n",
    "# SPLIT"
   ]
  },
  {
   "cell_type": "code",
   "execution_count": null,
   "metadata": {},
   "outputs": [],
   "source": [
    "line = r\"C:\\Program Files (x86)\\Common Files\\Oracle\\Java\\javapath;C:\\windows\\system32;C:\\windows;C:\\windows\\System32\\Wbem;C:\\windows\\System32\\WindowsPowerShell\\v1.0\\;C:\\windows\\System32\\OpenSSH\\;C:\\Program Files\\Intel\\WiFi\\bin\\;C:\\Program Files\\Common Files\\Intel\\WirelessCommon\\;C:\\Users\\11622901\\Programmi\\x86\\Secure\\ccme4;C:\\Users\\11622901\\Programmi\\Secure\\ccme4;C:\\Program Files (x86)\\SAS\\x86\\Secure\\ccme4;C:\\Program Files (x86)\\SAS\\Secure\\ccme4;C:\\Users\\11622901\\AppData\\Local\\Microsoft\\WindowsApps;C:\\Users\\11622901\\AppData\\Local\\atom\\bin;C:\\Users\\11622901\\AppData\\Local\\Programs\\Git\\cmd\"\n",
    "\n",
    "line.split(\";\")"
   ]
  }
 ],
 "metadata": {
  "kernelspec": {
   "display_name": "Python 3",
   "language": "python",
   "name": "python3"
  },
  "language_info": {
   "codemirror_mode": {
    "name": "ipython",
    "version": 3
   },
   "file_extension": ".py",
   "mimetype": "text/x-python",
   "name": "python",
   "nbconvert_exporter": "python",
   "pygments_lexer": "ipython3",
   "version": "3.8.3"
  }
 },
 "nbformat": 4,
 "nbformat_minor": 4
}
