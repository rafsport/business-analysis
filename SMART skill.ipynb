{
 "cells": [
  {
   "cell_type": "code",
   "execution_count": 1,
   "id": "1edf7908-f167-461f-9a5a-e77b040ef2a9",
   "metadata": {},
   "outputs": [],
   "source": [
    "import pandas as pd\n",
    "import os\n",
    "import numpy as np\n",
    "import datetime as dt\n",
    "from os import listdir\n",
    "from os.path import isfile, join\n",
    "import zipfile\n",
    "from zebra import human_format\n",
    "import pyodbc"
   ]
  },
  {
   "cell_type": "markdown",
   "id": "9426195d-ee4a-4fd6-a82d-e9ee6e614c08",
   "metadata": {},
   "source": [
    "# Codici prodotto"
   ]
  },
  {
   "cell_type": "code",
   "execution_count": 2,
   "id": "8f3fc10b-c669-4daa-b713-96a0169c7a73",
   "metadata": {},
   "outputs": [],
   "source": [
    "cod_prodotti = pd.read_excel(r\"C:\\Users\\Raffaele.Sportiello\\OneDrive - Wolters Kluwer\\Documents\\Dashboard inflow\\Parametriche\\Classificazione_codice_prodotto.xlsx\")\n",
    "\n",
    "\n",
    "cod_prodotti[\"Codice PRODOTTO\"] = cod_prodotti[\"Codice PRODOTTO\"].apply(lambda x:  x.zfill(8))\n",
    "\n",
    "cod_prodotti.to_excel(r\"C:\\Users\\Raffaele.Sportiello\\OneDrive - Wolters Kluwer\\Documents\\E-commerce\\Data source\\Classificazione_codice_prodotto.xlsx\")\n"
   ]
  },
  {
   "cell_type": "markdown",
   "id": "f9410e9a-ccbf-4d6b-8658-ec075540442e",
   "metadata": {},
   "source": [
    "# Acquisti (report BUDEST)"
   ]
  },
  {
   "cell_type": "code",
   "execution_count": 3,
   "id": "0c43f9b9-da73-4224-b91a-b8c9671d27ed",
   "metadata": {},
   "outputs": [],
   "source": [
    "zip_file =r\"C:\\Users\\Raffaele.Sportiello\\OneDrive - Wolters Kluwer\\Documents\\E-commerce\\Data export\\ZQ_MC_BUDANAL_IMP_ALL.ZIP\"\n",
    "directory_to_extract_to = r\"C:\\Users\\Raffaele.Sportiello\\OneDrive - Wolters Kluwer\\Documents\\E-commerce\\Data export\"\n",
    "try:\n",
    "    with zipfile.ZipFile(zip_file, 'r') as zip_ref:\n",
    "        zip_ref.extractall(directory_to_extract_to)\n",
    "except:\n",
    "    print(\"Invalid file\")\n",
    "\n",
    "bw_file = r\"C:\\Users\\Raffaele.Sportiello\\OneDrive - Wolters Kluwer\\Documents\\E-commerce\\Data export\\ZQ_MC_BUDANAL_IMP_ALL_00000.xls\"\n",
    "df = pd.DataFrame(pd.read_html(str(bw_file), encoding = 'utf-8', decimal=\",\", thousands='.')[3])\n",
    "df2 = pd.DataFrame(data=df.loc[1:,:])\n",
    "df2.columns = df.loc[0,:].to_list()\n",
    "\n",
    "df2[\"Data Ins. Ordine (monitoraggio)\"] = pd.to_datetime(df2[\"Data Ins. Ordine (monitoraggio)\"], format=\"%d%m%Y\")\n",
    "\n",
    "df2[\"Codice PRODOTTO\"] = df2[\"Codice PRODOTTO\"].astype(str).apply(lambda x:  x.zfill(8))\n",
    "df2[\"Cliente FATTURA\"] = df2[\"Cliente FATTURA\"].astype(str)\n",
    "df2[\"Raccolto\"] = df2[\"Raccolto\"].astype(float)\n",
    "\n",
    "aggiornamento = str(df2[\"Data Ins. Ordine (monitoraggio)\"].max())[0:10]"
   ]
  },
  {
   "cell_type": "code",
   "execution_count": 4,
   "id": "b5dda483-0a90-4e00-bfbc-1eebac1110d2",
   "metadata": {
    "tags": []
   },
   "outputs": [],
   "source": [
    "onlyfiles = [f for f in listdir(\"C:/Users/Raffaele.Sportiello/OneDrive - Wolters Kluwer/Documents/E-commerce/Data source/Ordini\") if isfile(join(\"C:/Users/Raffaele.Sportiello/OneDrive - Wolters Kluwer/Documents/E-commerce/Data source/Ordini\", f))]\n",
    "\n",
    "lastFile = onlyfiles[-1]\n",
    "lastDatetime = pd.to_datetime(lastFile.split(\"_\")[1].split(\".\")[0], format='%Y-%m-%d') + pd.Timedelta(1, unit=\"Day\")"
   ]
  },
  {
   "cell_type": "code",
   "execution_count": 5,
   "id": "6a055fbd-6b8d-4d4b-a443-f225ad6b0bbb",
   "metadata": {},
   "outputs": [],
   "source": [
    "df2 = df2.loc[df2[\"Data Ins. Ordine (monitoraggio)\"] >=lastDatetime]"
   ]
  },
  {
   "cell_type": "code",
   "execution_count": 6,
   "id": "b2b8a88b-8575-4423-b771-79426cfbd0fb",
   "metadata": {},
   "outputs": [],
   "source": [
    "df2.to_excel(f\"C:/Users/Raffaele.Sportiello/OneDrive - Wolters Kluwer\\Documents/E-commerce/Data source/Ordini/ordini_{aggiornamento}.xlsx\", index=False)"
   ]
  },
  {
   "cell_type": "markdown",
   "id": "7c11c6cd-4f29-4d6c-8f62-17650cf5bfca",
   "metadata": {},
   "source": [
    "---"
   ]
  },
  {
   "cell_type": "markdown",
   "id": "243af404-8a6d-4243-9314-ba58e3d311f9",
   "metadata": {
    "tags": []
   },
   "source": [
    "# Report Shop Fattura Smart Orders"
   ]
  },
  {
   "cell_type": "markdown",
   "id": "31211c41-47e2-495f-958f-fa15b165a280",
   "metadata": {},
   "source": [
    "## Documentazione per leggere XML"
   ]
  },
  {
   "cell_type": "markdown",
   "id": "10351bfb-8f59-42df-9d4c-f330d50900e0",
   "metadata": {},
   "source": [
    "[https://stackoverflow.com/questions/46387091/trouble-parsing-xml-and-getting-data-into-pandas-dataframe](#https://stackoverflow.com/questions/46387091/trouble-parsing-xml-and-getting-data-into-pandas-dataframe)  \n",
    "[Parsing xml-xls file in pandas](#https://stackoverflow.com/questions/69651296/parsing-xml-xls-file-in-pandas)  \n",
    "[Parsing XML with illegal special characters (&) [duplicate]](#https://stackoverflow.com/questions/67339690/parsing-xml-with-illegal-special-characters)  "
   ]
  },
  {
   "cell_type": "markdown",
   "id": "e550577a-a5ea-457c-8ae1-f888a1ba4fef",
   "metadata": {},
   "source": [
    "[From XML to Excel for Data Analysis](#https://towardsdatascience.com/from-xml-to-excel-for-data-analysis-ac0c0c765b7d)\\\n",
    "[Reading and Writing XML Files in Python with Pandas](#https://stackabuse.com/reading-and-writing-xml-files-in-python-with-pandas/)\\\n",
    "[Extracting information from XML files into a Pandas dataframe](#https://towardsdatascience.com/extracting-information-from-xml-files-into-a-pandas-dataframe-11f32883ce45)\\\n",
    "[The lxml.etree Tutorial - Namespaces](#https://lxml.de/tutorial.html#namespaces)"
   ]
  },
  {
   "cell_type": "markdown",
   "id": "208e4c1b-7a99-48dd-b9cb-09cd0d34e949",
   "metadata": {
    "tags": []
   },
   "source": [
    "### [Parsing XML with illegal special characters (&) [duplicate]](#https://stackoverflow.com/questions/67339690/parsing-xml-with-illegal-special-characters)"
   ]
  },
  {
   "cell_type": "code",
   "execution_count": null,
   "id": "71c22bf5-a4c0-4b69-94c9-ed997f461ab1",
   "metadata": {
    "tags": []
   },
   "outputs": [],
   "source": [
    "import xml.etree.ElementTree as ET\n",
    "\n",
    "with open(xml_file) as fp:\n",
    "    content = fp.read()\n",
    "    content = content.replace('&', '&amp;')\n",
    "    xml = ET.ElementTree(ET.fromstring(content))"
   ]
  },
  {
   "cell_type": "markdown",
   "id": "7a8612fa-5e3b-4fed-9892-72f9daddb464",
   "metadata": {},
   "source": [
    "---"
   ]
  },
  {
   "cell_type": "markdown",
   "id": "69aa2432-8212-4632-b567-b2817d97ab8d",
   "metadata": {},
   "source": [
    "### [Parsing xml-xls file in pandas](#https://stackoverflow.com/questions/69651296/parsing-xml-xls-file-in-pandas)"
   ]
  },
  {
   "cell_type": "code",
   "execution_count": null,
   "id": "9c404abb-a6f2-49e7-81d0-0e1b33159553",
   "metadata": {
    "jupyter": {
     "source_hidden": true
    },
    "tags": []
   },
   "outputs": [],
   "source": [
    "xml = '''<?xml version=\"1.0\"?>\n",
    "<?mso-application progid=\"Excel.Sheet\"?>\n",
    "<Workbook xmlns=\"urn:schemas-microsoft-com:office:spreadsheet\" \n",
    "xmlns:o=\"urn:schemas-microsoft-com:office:office\" \n",
    "xmlns:x=\"urn:schemas-microsoft-com:office:excel\" \n",
    "xmlns:ss=\"urn:schemas-microsoft-com:office:spreadsheet\" \n",
    "xmlns:html=\"http://www.w3.org/TR/REC-html40\"> \n",
    "<DocumentProperties xmlns=\"urn:schemas-microsoft-com:office:office\"> \n",
    "</DocumentProperties> \n",
    "<ExcelWorkbook xmlns=\"urn:schemas-microsoft-com:office:excel\"> \n",
    "</ExcelWorkbook> \n",
    "<Styles> \n",
    "</Styles> \n",
    "<Worksheet ss:Name=\"Table1\"> \n",
    "<Table > \n",
    "<Row> \n",
    "<Cell><Data ss:Type=\"String\">tipo_evento</Data></Cell> \n",
    "<Cell><Data ss:Type=\"String\">data_inizio</Data></Cell> \n",
    "<Cell><Data ss:Type=\"String\">data_fine</Data></Cell> \n",
    "<Cell><Data ss:Type=\"String\">ora_inizio</Data></Cell> \n",
    "<Cell><Data ss:Type=\"String\">ora_fine</Data></Cell> \n",
    "<Cell><Data ss:Type=\"String\">tutto_il_giorno</Data></Cell> \n",
    "<Cell><Data ss:Type=\"String\">data_inserimento</Data></Cell> \n",
    "<Cell><Data ss:Type=\"String\">autore</Data></Cell> \n",
    "<Cell><Data ss:Type=\"String\">classe_desc</Data></Cell> \n",
    "<Cell><Data ss:Type=\"String\">gruppo_desc</Data></Cell> \n",
    "<Cell><Data ss:Type=\"String\">nota</Data></Cell> \n",
    "<Cell><Data ss:Type=\"String\">aula</Data></Cell> \n",
    "<Cell><Data ss:Type=\"String\">tipo</Data></Cell> \n",
    "<Cell><Data ss:Type=\"String\">materia</Data></Cell> \n",
    "</Row> \n",
    "<Row> \n",
    "<Cell><Data ss:Type=\"String\">Nota Agenda</Data></Cell> \n",
    "<Cell><Data ss:Type=\"String\">2021-10-18</Data></Cell> \n",
    "<Cell><Data ss:Type=\"String\">2021-10-18</Data></Cell> \n",
    "<Cell><Data ss:Type=\"String\">09:40:00</Data></Cell> \n",
    "<Cell><Data ss:Type=\"String\">10:30:00</Data></Cell> \n",
    "<Cell><Data ss:Type=\"String\">NO</Data></Cell> \n",
    "<Cell><Data ss:Type=\"String\">2021-10-15 15:42:31</Data></Cell> \n",
    "<Cell><Data ss:Type=\"String\">POMPILI MATTEO</Data></Cell> \n",
    "<Cell><Data ss:Type=\"String\">1CL SCIENTIFICO -  OPZIONE SCIENZE APPLICATE</Data></Cell> \n",
    "<Cell><Data ss:Type=\"String\">1CL SCIENTIFICO -  OPZIONE SCIENZE APPLICATE</Data></Cell> \n",
    "<Cell><Data ss:Type=\"String\">Studiare pag. 4, 5, 12 e 13.\n",
    "Svolgere es. 24 e 30 pag. 40 e 34 pag. 41 (solo domande b e c)</Data></Cell> \n",
    "<Cell><Data ss:Type=\"String\">-</Data></Cell> \n",
    "<Cell><Data ss:Type=\"String\">nota</Data></Cell> \n",
    "<Cell><Data ss:Type=\"String\"></Data></Cell> \n",
    " </Row>\n",
    "<Row> \n",
    "<Cell><Data ss:Type=\"String\">Nota Agenda</Data></Cell> \n",
    "<Cell><Data ss:Type=\"String\">2021-10-18</Data></Cell> \n",
    "<Cell><Data ss:Type=\"String\">2021-10-18</Data></Cell> \n",
    "<Cell><Data ss:Type=\"String\">10:30:00</Data></Cell> \n",
    "<Cell><Data ss:Type=\"String\">10:30:00</Data></Cell> \n",
    "<Cell><Data ss:Type=\"String\">NO</Data></Cell> \n",
    "<Cell><Data ss:Type=\"String\">2021-10-12 10:48:03</Data></Cell> \n",
    "<Cell><Data ss:Type=\"String\">MICHELINI DORIANA</Data></Cell> \n",
    "<Cell><Data ss:Type=\"String\">1CL SCIENTIFICO -  OPZIONE SCIENZE APPLICATE</Data></Cell> \n",
    "<Cell><Data ss:Type=\"String\"></Data></Cell> \n",
    "<Cell><Data ss:Type=\"String\">Antologia: studiare+ schema pag. 24; leggere pag. 34-37; es. Pag. 37 n. 1,2; pag. 38 n. 4,5,6,7</Data></Cell> \n",
    "<Cell><Data ss:Type=\"String\">-</Data></Cell> \n",
    "<Cell><Data ss:Type=\"String\">nota</Data></Cell> \n",
    "<Cell><Data ss:Type=\"String\"></Data></Cell> \n",
    " </Row>\n",
    "</Table> \n",
    "</Worksheet> \n",
    "</Workbook> '''"
   ]
  },
  {
   "cell_type": "code",
   "execution_count": null,
   "id": "984ea732-9b3e-4589-9dbd-4f7b6a9e8abb",
   "metadata": {},
   "outputs": [],
   "source": [
    "cols = [8,11]\n",
    "root = ET.fromstring(xml)\n",
    "dft = []\n",
    "\n",
    "for row in root.findall('.//{urn:schemas-microsoft-com:office:spreadsheet}Row'):\n",
    "  cells = row.findall('{urn:schemas-microsoft-com:office:spreadsheet}Cell')\n",
    "  for col in cols:\n",
    "    #dft.append(cells[col].find('{urn:schemas-microsoft-com:office:spreadsheet}Data').text)\n",
    "    print(cells[col].find('{urn:schemas-microsoft-com:office:spreadsheet}Data').text)"
   ]
  },
  {
   "cell_type": "markdown",
   "id": "aa2a69df-9eec-4ec5-abfd-baa947004833",
   "metadata": {},
   "source": [
    "---"
   ]
  },
  {
   "cell_type": "markdown",
   "id": "75556353-4eec-4e1e-b0eb-189975d4a7e4",
   "metadata": {
    "tags": []
   },
   "source": [
    "### [Trouble parsing XML and getting data into pandas dataframe](#https://stackoverflow.com/questions/46387091/trouble-parsing-xml-and-getting-data-into-pandas-dataframe)"
   ]
  },
  {
   "cell_type": "code",
   "execution_count": null,
   "id": "7a245514-a715-4a7a-94b0-d5a00150e719",
   "metadata": {
    "tags": []
   },
   "outputs": [],
   "source": [
    "from lxml import etree\n",
    "\n",
    "xml_file2 = r\"C:\\Users\\Raffaele.Sportiello\\OneDrive - Wolters Kluwer\\Documents\\E-commerce\\Data export\\ReportShopFattSmartOrders2.xls\"\n",
    "    \n",
    "with (open(xml_file2,'r')) as f:\n",
    "    doc = etree.parse(f)\n",
    "\n",
    "\n",
    "namespaces={'o':'urn:schemas-microsoft-com:office:office',\n",
    "            'x':'urn:schemas-microsoft-com:office:excel',\n",
    "            'ss':'urn:schemas-microsoft-com:office:spreadsheet'}\n",
    "\n",
    "L = []\n",
    "ws = doc.xpath('/ss:Workbook/ss:Worksheet', namespaces=namespaces)\n",
    "if len(ws) > 0: \n",
    "    tables = ws[0].xpath('./ss:Table', namespaces=namespaces)\n",
    "    if len(tables) > 0: \n",
    "        rows = tables[0].xpath('./ss:Row', namespaces=namespaces)\n",
    "        for row in rows:\n",
    "            tmp = []\n",
    "            cells = row.xpath('./ss:Cell/ss:Data', namespaces=namespaces)\n",
    "            for cell in cells:\n",
    "#                print(cell.text);\n",
    "                tmp.append(cell.text)\n",
    "            L.append(tmp)\n",
    "\n",
    "df = pd.DataFrame(L[2:], columns=L[0])"
   ]
  },
  {
   "cell_type": "markdown",
   "id": "cba81980-93c3-4d12-ba75-209979f9f657",
   "metadata": {},
   "source": [
    "---"
   ]
  },
  {
   "cell_type": "markdown",
   "id": "392fda9b-7a2d-4511-941e-56a81a2603c0",
   "metadata": {},
   "source": [
    "## Costruzione dataframe per aggiornamento dashboard"
   ]
  },
  {
   "cell_type": "markdown",
   "id": "6cbffb1f-4add-408e-96a4-172575527127",
   "metadata": {
    "tags": []
   },
   "source": [
    "### ReportShopSmartSkilldf"
   ]
  },
  {
   "cell_type": "code",
   "execution_count": 65,
   "id": "0274f511-d613-419d-8702-c669a45cc3ab",
   "metadata": {
    "tags": []
   },
   "outputs": [],
   "source": [
    "'''onlyfiles = [f for f in listdir(\"C:/Users/Raffaele.Sportiello/OneDrive - Wolters Kluwer/Documents/E-commerce/Data export/ReportShopFattSmartOrders\") if isfile(join(\"C:/Users/Raffaele.Sportiello/OneDrive - Wolters Kluwer/Documents/E-commerce/Data export/ReportShopFattSmartOrders\", f))]\n",
    "\n",
    "lastFile = onlyfiles[-1]'''"
   ]
  },
  {
   "cell_type": "code",
   "execution_count": 2,
   "id": "871dd968-6403-4bec-876d-dd13657f00e0",
   "metadata": {},
   "outputs": [],
   "source": [
    "import xml.etree.ElementTree as ET\n",
    "\n",
    "xml_file = f\"C:/Users/Raffaele.Sportiello/OneDrive - Wolters Kluwer/Documents/E-commerce/Data export/ReportShopFattSmartOrders/ReportShopFattSmartOrders.xls\"\n",
    "\n",
    "with open(xml_file) as fp:\n",
    "    content = fp.read()\n",
    "    content = content.replace('&', '&amp;')\n",
    "    xml = ET.ElementTree(ET.fromstring(content))\n",
    "\n",
    "L = []\n",
    "rows = xml.findall('.//{urn:schemas-microsoft-com:office:spreadsheet}Row')\n",
    "for row in rows:\n",
    "    tmp = []\n",
    "    cells = row.findall('.//{urn:schemas-microsoft-com:office:spreadsheet}Data')\n",
    "    for cell in cells:\n",
    "        tmp.append(cell.text)\n",
    "    L.append(tmp)\n",
    "    \n",
    "df = pd.DataFrame(L[1:], columns=L[0])"
   ]
  },
  {
   "cell_type": "code",
   "execution_count": 3,
   "id": "e14998c3-2fee-412c-b50f-baab342bca92",
   "metadata": {},
   "outputs": [],
   "source": [
    "df.replace([\"0\",None], np.nan, inplace=True)"
   ]
  },
  {
   "cell_type": "code",
   "execution_count": 4,
   "id": "0afdf995-727a-4ab7-86fd-6507b9f66f12",
   "metadata": {},
   "outputs": [
    {
     "data": {
      "text/html": [
       "<div>\n",
       "<style scoped>\n",
       "    .dataframe tbody tr th:only-of-type {\n",
       "        vertical-align: middle;\n",
       "    }\n",
       "\n",
       "    .dataframe tbody tr th {\n",
       "        vertical-align: top;\n",
       "    }\n",
       "\n",
       "    .dataframe thead th {\n",
       "        text-align: right;\n",
       "    }\n",
       "</style>\n",
       "<table border=\"1\" class=\"dataframe\">\n",
       "  <thead>\n",
       "    <tr style=\"text-align: right;\">\n",
       "      <th></th>\n",
       "      <th>#Ordine</th>\n",
       "      <th>IDUSER</th>\n",
       "      <th>EMAIL</th>\n",
       "      <th>Rag.soc</th>\n",
       "      <th>P.IVA</th>\n",
       "      <th>Data</th>\n",
       "      <th>Data mod.</th>\n",
       "      <th>Stato</th>\n",
       "      <th>Attivazione</th>\n",
       "      <th>Totale</th>\n",
       "      <th>Rinnovo</th>\n",
       "      <th>Prodotti</th>\n",
       "      <th>PRODOTTITOTALI</th>\n",
       "      <th>Contratto</th>\n",
       "      <th>Tipo con.</th>\n",
       "      <th>Integraz.</th>\n",
       "    </tr>\n",
       "  </thead>\n",
       "  <tbody>\n",
       "    <tr>\n",
       "      <th>0</th>\n",
       "      <td>9380194</td>\n",
       "      <td>NaN</td>\n",
       "      <td>NaN</td>\n",
       "      <td>NaN</td>\n",
       "      <td>NaN</td>\n",
       "      <td>01/12/2022 09:29:47</td>\n",
       "      <td>01/12/2022 09:29:47</td>\n",
       "      <td></td>\n",
       "      <td>Non partita/Errore</td>\n",
       "      <td>NaN</td>\n",
       "      <td>NaN</td>\n",
       "      <td>NaN</td>\n",
       "      <td>NaN</td>\n",
       "      <td>NaN</td>\n",
       "      <td>NaN</td>\n",
       "      <td>NaN</td>\n",
       "    </tr>\n",
       "    <tr>\n",
       "      <th>1</th>\n",
       "      <td>9920329</td>\n",
       "      <td>2686177</td>\n",
       "      <td>info@termoidraulicagottardosrl.it</td>\n",
       "      <td>TERMOIDRAULICA GOTTARDO S.R.L.</td>\n",
       "      <td>03461690244</td>\n",
       "      <td>01/12/2022 09:27:28</td>\n",
       "      <td>01/12/2022 09:27:42</td>\n",
       "      <td>IN</td>\n",
       "      <td>Completa</td>\n",
       "      <td>1</td>\n",
       "      <td>12</td>\n",
       "      <td>00257795</td>\n",
       "      <td>1</td>\n",
       "      <td>NaN</td>\n",
       "      <td>anno solare in corso</td>\n",
       "      <td>nuovo contratto</td>\n",
       "    </tr>\n",
       "    <tr>\n",
       "      <th>2</th>\n",
       "      <td>9920402</td>\n",
       "      <td>NaN</td>\n",
       "      <td>NaN</td>\n",
       "      <td>NaN</td>\n",
       "      <td>NaN</td>\n",
       "      <td>01/12/2022 09:26:59</td>\n",
       "      <td>01/12/2022 09:26:59</td>\n",
       "      <td></td>\n",
       "      <td>Non partita/Errore</td>\n",
       "      <td>NaN</td>\n",
       "      <td>NaN</td>\n",
       "      <td>NaN</td>\n",
       "      <td>NaN</td>\n",
       "      <td>NaN</td>\n",
       "      <td>NaN</td>\n",
       "      <td>NaN</td>\n",
       "    </tr>\n",
       "    <tr>\n",
       "      <th>3</th>\n",
       "      <td>9920395</td>\n",
       "      <td>NaN</td>\n",
       "      <td>NaN</td>\n",
       "      <td>NaN</td>\n",
       "      <td>NaN</td>\n",
       "      <td>01/12/2022 09:25:49</td>\n",
       "      <td>01/12/2022 09:25:49</td>\n",
       "      <td></td>\n",
       "      <td>Non partita/Errore</td>\n",
       "      <td>NaN</td>\n",
       "      <td>NaN</td>\n",
       "      <td>NaN</td>\n",
       "      <td>NaN</td>\n",
       "      <td>NaN</td>\n",
       "      <td>NaN</td>\n",
       "      <td>NaN</td>\n",
       "    </tr>\n",
       "    <tr>\n",
       "      <th>4</th>\n",
       "      <td>9666298</td>\n",
       "      <td>NaN</td>\n",
       "      <td>NaN</td>\n",
       "      <td>NaN</td>\n",
       "      <td>NaN</td>\n",
       "      <td>01/12/2022 09:24:57</td>\n",
       "      <td>01/12/2022 09:24:57</td>\n",
       "      <td></td>\n",
       "      <td>Non partita/Errore</td>\n",
       "      <td>NaN</td>\n",
       "      <td>NaN</td>\n",
       "      <td>NaN</td>\n",
       "      <td>NaN</td>\n",
       "      <td>NaN</td>\n",
       "      <td>NaN</td>\n",
       "      <td>NaN</td>\n",
       "    </tr>\n",
       "    <tr>\n",
       "      <th>...</th>\n",
       "      <td>...</td>\n",
       "      <td>...</td>\n",
       "      <td>...</td>\n",
       "      <td>...</td>\n",
       "      <td>...</td>\n",
       "      <td>...</td>\n",
       "      <td>...</td>\n",
       "      <td>...</td>\n",
       "      <td>...</td>\n",
       "      <td>...</td>\n",
       "      <td>...</td>\n",
       "      <td>...</td>\n",
       "      <td>...</td>\n",
       "      <td>...</td>\n",
       "      <td>...</td>\n",
       "      <td>...</td>\n",
       "    </tr>\n",
       "    <tr>\n",
       "      <th>3551</th>\n",
       "      <td>9652002</td>\n",
       "      <td>2668772</td>\n",
       "      <td>fallimenti@giuseppemolteni.it</td>\n",
       "      <td>MOLTENI GIANLUIGI</td>\n",
       "      <td>03752610133</td>\n",
       "      <td>08/11/2022 08:44:23</td>\n",
       "      <td>22/11/2022 14:42:23</td>\n",
       "      <td></td>\n",
       "      <td>Non partita/Errore</td>\n",
       "      <td>NaN</td>\n",
       "      <td>NaN</td>\n",
       "      <td>NaN</td>\n",
       "      <td>NaN</td>\n",
       "      <td>NaN</td>\n",
       "      <td>NaN</td>\n",
       "      <td>NaN</td>\n",
       "    </tr>\n",
       "    <tr>\n",
       "      <th>3552</th>\n",
       "      <td>9434244</td>\n",
       "      <td>2633517</td>\n",
       "      <td>info@cvbconsult.it</td>\n",
       "      <td>CVB CONSULT SRLS Unipersonale</td>\n",
       "      <td>02534750464</td>\n",
       "      <td>14/10/2022 13:01:06</td>\n",
       "      <td>29/11/2022 19:06:56</td>\n",
       "      <td></td>\n",
       "      <td>Non partita/Errore</td>\n",
       "      <td>NaN</td>\n",
       "      <td>NaN</td>\n",
       "      <td>NaN</td>\n",
       "      <td>NaN</td>\n",
       "      <td>NaN</td>\n",
       "      <td>NaN</td>\n",
       "      <td>NaN</td>\n",
       "    </tr>\n",
       "    <tr>\n",
       "      <th>3553</th>\n",
       "      <td>9372350</td>\n",
       "      <td>2623300</td>\n",
       "      <td>supporto@mailinator.com</td>\n",
       "      <td>PER SUPPORTO ESHOP FATTURA SMART</td>\n",
       "      <td>01334450838</td>\n",
       "      <td>06/10/2022 12:12:46</td>\n",
       "      <td>29/11/2022 08:52:36</td>\n",
       "      <td></td>\n",
       "      <td>Non partita/Errore</td>\n",
       "      <td>NaN</td>\n",
       "      <td>NaN</td>\n",
       "      <td>NaN</td>\n",
       "      <td>NaN</td>\n",
       "      <td>NaN</td>\n",
       "      <td>NaN</td>\n",
       "      <td>NaN</td>\n",
       "    </tr>\n",
       "    <tr>\n",
       "      <th>3554</th>\n",
       "      <td>9308590</td>\n",
       "      <td>2439030</td>\n",
       "      <td>peoinvp1@mailinator.com</td>\n",
       "      <td>INVOICE PRODUZIONE UNO</td>\n",
       "      <td>00863010245</td>\n",
       "      <td>28/09/2022 21:28:30</td>\n",
       "      <td>28/11/2022 21:06:41</td>\n",
       "      <td></td>\n",
       "      <td>Non partita/Errore</td>\n",
       "      <td>NaN</td>\n",
       "      <td>NaN</td>\n",
       "      <td>NaN</td>\n",
       "      <td>NaN</td>\n",
       "      <td>NaN</td>\n",
       "      <td>NaN</td>\n",
       "      <td>NaN</td>\n",
       "    </tr>\n",
       "    <tr>\n",
       "      <th>3555</th>\n",
       "      <td>9094600</td>\n",
       "      <td>2636428</td>\n",
       "      <td>europanservizi@gmail.com</td>\n",
       "      <td>SMART ESTRATEGY SRL</td>\n",
       "      <td>02796900641</td>\n",
       "      <td>02/09/2022 10:53:00</td>\n",
       "      <td>23/11/2022 10:32:51</td>\n",
       "      <td></td>\n",
       "      <td>Non partita/Errore</td>\n",
       "      <td>NaN</td>\n",
       "      <td>NaN</td>\n",
       "      <td>NaN</td>\n",
       "      <td>NaN</td>\n",
       "      <td>NaN</td>\n",
       "      <td>NaN</td>\n",
       "      <td>NaN</td>\n",
       "    </tr>\n",
       "  </tbody>\n",
       "</table>\n",
       "<p>3556 rows × 16 columns</p>\n",
       "</div>"
      ],
      "text/plain": [
       "      #Ordine   IDUSER                              EMAIL  \\\n",
       "0     9380194      NaN                                NaN   \n",
       "1     9920329  2686177  info@termoidraulicagottardosrl.it   \n",
       "2     9920402      NaN                                NaN   \n",
       "3     9920395      NaN                                NaN   \n",
       "4     9666298      NaN                                NaN   \n",
       "...       ...      ...                                ...   \n",
       "3551  9652002  2668772      fallimenti@giuseppemolteni.it   \n",
       "3552  9434244  2633517                 info@cvbconsult.it   \n",
       "3553  9372350  2623300            supporto@mailinator.com   \n",
       "3554  9308590  2439030            peoinvp1@mailinator.com   \n",
       "3555  9094600  2636428           europanservizi@gmail.com   \n",
       "\n",
       "                               Rag.soc        P.IVA                 Data  \\\n",
       "0                                  NaN          NaN  01/12/2022 09:29:47   \n",
       "1       TERMOIDRAULICA GOTTARDO S.R.L.  03461690244  01/12/2022 09:27:28   \n",
       "2                                  NaN          NaN  01/12/2022 09:26:59   \n",
       "3                                  NaN          NaN  01/12/2022 09:25:49   \n",
       "4                                  NaN          NaN  01/12/2022 09:24:57   \n",
       "...                                ...          ...                  ...   \n",
       "3551                 MOLTENI GIANLUIGI  03752610133  08/11/2022 08:44:23   \n",
       "3552     CVB CONSULT SRLS Unipersonale  02534750464  14/10/2022 13:01:06   \n",
       "3553  PER SUPPORTO ESHOP FATTURA SMART  01334450838  06/10/2022 12:12:46   \n",
       "3554            INVOICE PRODUZIONE UNO  00863010245  28/09/2022 21:28:30   \n",
       "3555               SMART ESTRATEGY SRL  02796900641  02/09/2022 10:53:00   \n",
       "\n",
       "                Data mod. Stato         Attivazione Totale Rinnovo  Prodotti  \\\n",
       "0     01/12/2022 09:29:47        Non partita/Errore    NaN     NaN       NaN   \n",
       "1     01/12/2022 09:27:42    IN            Completa      1      12  00257795   \n",
       "2     01/12/2022 09:26:59        Non partita/Errore    NaN     NaN       NaN   \n",
       "3     01/12/2022 09:25:49        Non partita/Errore    NaN     NaN       NaN   \n",
       "4     01/12/2022 09:24:57        Non partita/Errore    NaN     NaN       NaN   \n",
       "...                   ...   ...                 ...    ...     ...       ...   \n",
       "3551  22/11/2022 14:42:23        Non partita/Errore    NaN     NaN       NaN   \n",
       "3552  29/11/2022 19:06:56        Non partita/Errore    NaN     NaN       NaN   \n",
       "3553  29/11/2022 08:52:36        Non partita/Errore    NaN     NaN       NaN   \n",
       "3554  28/11/2022 21:06:41        Non partita/Errore    NaN     NaN       NaN   \n",
       "3555  23/11/2022 10:32:51        Non partita/Errore    NaN     NaN       NaN   \n",
       "\n",
       "     PRODOTTITOTALI Contratto             Tipo con.        Integraz.  \n",
       "0               NaN       NaN                   NaN              NaN  \n",
       "1                 1       NaN  anno solare in corso  nuovo contratto  \n",
       "2               NaN       NaN                   NaN              NaN  \n",
       "3               NaN       NaN                   NaN              NaN  \n",
       "4               NaN       NaN                   NaN              NaN  \n",
       "...             ...       ...                   ...              ...  \n",
       "3551            NaN       NaN                   NaN              NaN  \n",
       "3552            NaN       NaN                   NaN              NaN  \n",
       "3553            NaN       NaN                   NaN              NaN  \n",
       "3554            NaN       NaN                   NaN              NaN  \n",
       "3555            NaN       NaN                   NaN              NaN  \n",
       "\n",
       "[3556 rows x 16 columns]"
      ]
     },
     "execution_count": 4,
     "metadata": {},
     "output_type": "execute_result"
    }
   ],
   "source": [
    "df"
   ]
  },
  {
   "cell_type": "markdown",
   "id": "badb548b-9f4b-4974-b7ad-32248ca4a574",
   "metadata": {},
   "source": [
    "[Strftime](#https://www.programiz.com/python-programming/datetime/strftime)"
   ]
  },
  {
   "cell_type": "code",
   "execution_count": 28,
   "id": "ed8f26eb-eeaa-4a76-8efe-a650cd590bba",
   "metadata": {
    "tags": []
   },
   "outputs": [],
   "source": [
    "onlyfiles = [f for f in listdir(\"C:/Users/Raffaele.Sportiello/OneDrive - Wolters Kluwer/Documents/E-commerce/Data source/ReportShopSmartSkill_Accessi\") if isfile(join(\"C:/Users/Raffaele.Sportiello/OneDrive - Wolters Kluwer/Documents/E-commerce/Data source/ReportShopSmartSkill_Accessi\", f))]\n",
    "\n",
    "lastFile = onlyfiles[-1]\n",
    "lastDatetime = pd.to_datetime(lastFile.split(\"_\")[2].split(\".\")[0], format='%Y-%m-%d') + pd.Timedelta(1, unit=\"Day\")"
   ]
  },
  {
   "cell_type": "code",
   "execution_count": 30,
   "id": "1d9b9cc2-0930-45ce-8561-0ccecd1686ed",
   "metadata": {
    "tags": []
   },
   "outputs": [],
   "source": [
    "df[\"Data\"] = pd.to_datetime(df[\"Data\"], format=\"%d/%m/%Y %H:%M:%S\")\n",
    "df[\"Data mod.\"] = pd.to_datetime(df[\"Data mod.\"], format=\"%d/%m/%Y %H:%M:%S\")\n",
    "\n",
    "df[[\"Totale\",\"Rinnovo\",\"PRODOTTITOTALI\"]] = df[[\"Totale\",\"Rinnovo\",\"PRODOTTITOTALI\"]].apply(lambda x: x.str.replace(',','.'))\n",
    "df[[\"Totale\",\"Rinnovo\",\"PRODOTTITOTALI\"]] = df[[\"Totale\",\"Rinnovo\",\"PRODOTTITOTALI\"]].fillna(0)\n",
    "df[[\"Totale\",\"Rinnovo\",\"PRODOTTITOTALI\"]] = df[[\"Totale\",\"Rinnovo\",\"PRODOTTITOTALI\"]].astype(float)"
   ]
  },
  {
   "cell_type": "code",
   "execution_count": 31,
   "id": "f6c09157-7583-4dbd-b6cc-514d01b8f026",
   "metadata": {},
   "outputs": [],
   "source": [
    "df[\"Data\"] = pd.to_datetime(df[\"Data\"].dt.date)"
   ]
  },
  {
   "cell_type": "code",
   "execution_count": 32,
   "id": "c130008e-b209-477d-a442-534b76562cc2",
   "metadata": {},
   "outputs": [],
   "source": [
    "df = df.loc[(df[\"EMAIL\"] != \"ntt.eshop@mailinator.com\") & (df[\"Data\"] >= lastDatetime) & (df[\"Data\"].dt.date < dt.date.today()), :]"
   ]
  },
  {
   "cell_type": "markdown",
   "id": "edb7de05-b64d-4342-9733-b6dce47e43af",
   "metadata": {},
   "source": [
    "### ReportShopSmartSkill_Accessi"
   ]
  },
  {
   "cell_type": "code",
   "execution_count": 33,
   "id": "5ce4f777-87e9-45fc-934f-c91e1221dd1e",
   "metadata": {},
   "outputs": [],
   "source": [
    "ReportShopSmartSkill_Accessi = df.loc[df[\"IDUSER\"].isna(), [\"#Ordine\", \"Data\"]].groupby(df[\"Data\"]).agg({\"#Ordine\":\"nunique\"}).reset_index().rename(columns={\"#Ordine\":\"N. accessi\"})\n",
    "\n",
    "\n",
    "aggiornamento = str(ReportShopSmartSkill_Accessi[\"Data\"].max())[0:10]"
   ]
  },
  {
   "cell_type": "code",
   "execution_count": 35,
   "id": "6b2d9f85-e5c8-47ae-98cb-27566edda6dd",
   "metadata": {},
   "outputs": [],
   "source": [
    "ReportShopSmartSkill_Accessi.to_excel(f\"C:/Users/Raffaele.Sportiello/OneDrive - Wolters Kluwer/Documents/E-commerce/Data source/ReportShopSmartSkill_Accessi/ReportShopSmartSkill_Accessi_{aggiornamento}.xlsx\", index=False)"
   ]
  },
  {
   "cell_type": "markdown",
   "id": "0fe6b0b0-40ff-4332-bce1-cb9f9505a8d6",
   "metadata": {},
   "source": [
    "### ReportShopSmartSkill"
   ]
  },
  {
   "cell_type": "code",
   "execution_count": 36,
   "id": "769c60f6-57c5-465a-9133-08f596c1b2b2",
   "metadata": {},
   "outputs": [],
   "source": [
    "ReportShopSmartSkill = df.loc[df[\"IDUSER\"].notna(), [\"Data\",\"#Ordine\",\"IDUSER\",\"EMAIL\",\"Rag.soc\",\"P.IVA\",\"Attivazione\", \"Prodotti\",\"PRODOTTITOTALI\",\"Totale\",\"Rinnovo\"]]\n",
    "\n",
    "ReportShopSmartSkill.columns = [\"Data\", \"ID Ordine\", \"ID User\", \"Email\", \"Rag.Soc\", \"P.IVA\", \"Attivazione\", \"Prodotti\", \"N. prodotti\", \"Valore a carrello\", \"Valore di rinnovo\"]"
   ]
  },
  {
   "cell_type": "code",
   "execution_count": 37,
   "id": "1f2fec59-96e0-4899-b398-3e0b2827261b",
   "metadata": {},
   "outputs": [],
   "source": [
    "ReportShopSmartSkill.to_excel(f\"C:/Users/Raffaele.Sportiello/OneDrive - Wolters Kluwer/Documents/E-commerce/Data source/ReportShopSmartSkill/ReportShopSmartSkill_{aggiornamento}.xlsx\", index=False)"
   ]
  },
  {
   "cell_type": "markdown",
   "id": "4a42cfde-0c33-42f1-a01a-84f5484579d2",
   "metadata": {
    "tags": []
   },
   "source": [
    "##### Aggregazioni - superato"
   ]
  },
  {
   "cell_type": "code",
   "execution_count": 74,
   "id": "282906d2-e274-47d3-a511-ed0efd173d9e",
   "metadata": {},
   "outputs": [],
   "source": [
    "ReportShopSmartSkill = df.groupby([df[\"Data\"].dt.date, \"Attivazione\", df[\"IDUSER\"].notna(), df[\"Prodotti\"].notna(), \"Prodotti\"], dropna=False).agg({\"#Ordine\":\"nunique\", \"IDUSER\":\"nunique\", \"Totale\":\"sum\", \"PRODOTTITOTALI\":\"sum\"}).rename(columns={\"#Ordine\":\"N. accessi\", \"IDUSER\":\"N. interazioni\", \"Totale\":\"Valore a carrello\", \"PRODOTTITOTALI\":\"N. prodotti a carrello\"})\n",
    "\n",
    "ReportShopSmartSkill.index.rename([\"Data\",\"Attivazione\",\"ID user (T/F)\",\"Prodotti (T/F)\", \"Prodotti\"], inplace=True)\n",
    "\n",
    "ReportShopSmartSkill = ReportShopSmartSkill.reset_index()"
   ]
  },
  {
   "cell_type": "markdown",
   "id": "d611be37-8610-474a-8251-501f7907cc28",
   "metadata": {},
   "source": [
    "### ReportShopSmartSkill_Dettaglio"
   ]
  },
  {
   "cell_type": "markdown",
   "id": "2685c722-a6fb-4533-a3b3-b296bad31ae6",
   "metadata": {},
   "source": [
    "[Split cell into multiple rows in pandas dataframe](#https://stackoverflow.com/questions/50731229/split-cell-into-multiple-rows-in-pandas-dataframe)"
   ]
  },
  {
   "cell_type": "code",
   "execution_count": 38,
   "id": "a0242702-1bf1-43ad-8dbf-487a3c036d21",
   "metadata": {},
   "outputs": [],
   "source": [
    "ReportShopSmartSkill_Dettaglio = (df.loc[df[\"Prodotti\"].notna(),[\"Data\", \"Attivazione\", \"Prodotti\"]].set_index([\"Data\", \"Attivazione\"]).apply(lambda x: x.str.split(';').explode()).reset_index())\n",
    "\n",
    "ReportShopSmartSkill_Dettaglio[\"Prodotti\"] = ReportShopSmartSkill_Dettaglio[\"Prodotti\"].str.strip()\n",
    "\n",
    "ReportShopSmartSkill_Dettaglio = ReportShopSmartSkill_Dettaglio.groupby([ReportShopSmartSkill_Dettaglio[\"Data\"], \"Attivazione\",\"Prodotti\"]).agg({\"Prodotti\":\"count\"}).rename(columns={\"Prodotti\":\"N. prodotti\"}).reset_index()"
   ]
  },
  {
   "cell_type": "code",
   "execution_count": 41,
   "id": "52e8bf3f-5832-44bd-9921-164313af3896",
   "metadata": {},
   "outputs": [],
   "source": [
    "ReportShopSmartSkill_Dettaglio.to_excel(f\"C:/Users/Raffaele.Sportiello/OneDrive - Wolters Kluwer/Documents/E-commerce/Data source/ReportShopSmartSkill_Dettaglio/ReportShopSmartSkill_Dettaglio_{aggiornamento}.xlsx\", index=False)"
   ]
  },
  {
   "cell_type": "markdown",
   "id": "96a60cb8-f0c9-4a11-878a-545c81b67f37",
   "metadata": {},
   "source": [
    "---"
   ]
  },
  {
   "cell_type": "markdown",
   "id": "4e618101-6dae-441f-b0f3-3c3c86671a55",
   "metadata": {
    "tags": []
   },
   "source": [
    "# Webdesk"
   ]
  },
  {
   "cell_type": "code",
   "execution_count": 4,
   "id": "10a83bfd-4d7a-4e9a-8214-3ab42b2bc297",
   "metadata": {
    "tags": []
   },
   "outputs": [],
   "source": [
    "onlyfiles = [f for f in sorted(listdir(r\"C:\\Users\\Raffaele.Sportiello\\OneDrive - Wolters Kluwer\\Documents\\E-commerce\\Data export\\StatsLog-SMARTSKILL\")) if isfile(join(r\"C:\\Users\\Raffaele.Sportiello\\OneDrive - Wolters Kluwer\\Documents\\E-commerce\\Data export\\StatsLog-SMARTSKILL\", f))]\n",
    "\n",
    "lastFile = onlyfiles[-1]\n",
    "data = lastFile.split(\"-\")[2].split(\".\")[0]"
   ]
  },
  {
   "cell_type": "code",
   "execution_count": 5,
   "id": "c5d18204-28c2-4d02-abcb-f529eb31d36b",
   "metadata": {},
   "outputs": [
    {
     "data": {
      "text/plain": [
       "'20221012'"
      ]
     },
     "execution_count": 5,
     "metadata": {},
     "output_type": "execute_result"
    }
   ],
   "source": [
    "lastFile.split(\"-\")[2].split(\".\")[0]"
   ]
  },
  {
   "cell_type": "code",
   "execution_count": 4,
   "id": "54076a86-4f96-44af-9097-4e64cf85ddbd",
   "metadata": {},
   "outputs": [],
   "source": [
    "zip_file =f\"C:/Users/Raffaele.Sportiello/OneDrive - Wolters Kluwer/Documents/E-commerce/Data export/StatsLog-SMARTSKILL/StatsLog-SMARTSKILL-{data}.zip\"\n",
    "directory_to_extract_to = r\"C:\\Users\\Raffaele.Sportiello\\OneDrive - Wolters Kluwer\\Documents\\E-commerce\\Data source\\StatsLogSMARTSKILL\"\n",
    "try:\n",
    "    with zipfile.ZipFile(zip_file, 'r') as zip_ref:\n",
    "        zip_ref.extractall(directory_to_extract_to)\n",
    "except:\n",
    "    print(\"Invalid file\")"
   ]
  },
  {
   "cell_type": "code",
   "execution_count": 5,
   "id": "87a6105f-07fb-4707-904f-2d135173c25c",
   "metadata": {},
   "outputs": [],
   "source": [
    "zip_file =f\"C:/Users/Raffaele.Sportiello/OneDrive - Wolters Kluwer/Documents/E-commerce/Data export/StatsLog-SMARTSKILL/StatsLog-SMARTSKILLDETT-{data}.zip\"\n",
    "directory_to_extract_to = r\"C:\\Users\\Raffaele.Sportiello\\OneDrive - Wolters Kluwer\\Documents\\E-commerce\\Data source\\StatsLogSMARTSKILLDETT\"\n",
    "try:\n",
    "    with zipfile.ZipFile(zip_file, 'r') as zip_ref:\n",
    "        zip_ref.extractall(directory_to_extract_to)\n",
    "except:\n",
    "    print(\"Invalid file\")"
   ]
  },
  {
   "cell_type": "code",
   "execution_count": 6,
   "id": "38eaf3d5-7c43-40d2-8190-b62a1d44f604",
   "metadata": {},
   "outputs": [],
   "source": [
    "StatsLog = pd.read_csv(f\"C:/Users/Raffaele.Sportiello/OneDrive - Wolters Kluwer/Documents/E-commerce/Data source/StatsLogSMARTSKILL/StatsLog-SMARTSKILL-{data}.txt\", sep=\";\")\n",
    "StatsLog[\"Data\"] = pd.to_datetime(StatsLog[\"Data\"], format=\"%d/%m/%Y\")"
   ]
  },
  {
   "cell_type": "code",
   "execution_count": 35,
   "id": "cbb39353-e0b3-4c7c-8b36-4806149552a6",
   "metadata": {},
   "outputs": [
    {
     "data": {
      "text/html": [
       "<div>\n",
       "<style scoped>\n",
       "    .dataframe tbody tr th:only-of-type {\n",
       "        vertical-align: middle;\n",
       "    }\n",
       "\n",
       "    .dataframe tbody tr th {\n",
       "        vertical-align: top;\n",
       "    }\n",
       "\n",
       "    .dataframe thead th {\n",
       "        text-align: right;\n",
       "    }\n",
       "</style>\n",
       "<table border=\"1\" class=\"dataframe\">\n",
       "  <thead>\n",
       "    <tr style=\"text-align: right;\">\n",
       "      <th></th>\n",
       "      <th>Studio</th>\n",
       "    </tr>\n",
       "    <tr>\n",
       "      <th>Flaggone</th>\n",
       "      <th></th>\n",
       "    </tr>\n",
       "  </thead>\n",
       "  <tbody>\n",
       "    <tr>\n",
       "      <th>False</th>\n",
       "      <td>15465</td>\n",
       "    </tr>\n",
       "    <tr>\n",
       "      <th>True</th>\n",
       "      <td>152</td>\n",
       "    </tr>\n",
       "  </tbody>\n",
       "</table>\n",
       "</div>"
      ],
      "text/plain": [
       "          Studio\n",
       "Flaggone        \n",
       "False      15465\n",
       "True         152"
      ]
     },
     "execution_count": 35,
     "metadata": {},
     "output_type": "execute_result"
    }
   ],
   "source": [
    "StatsLog.groupby([\"Flaggone\"], dropna=False).agg({\"Studio\":\"nunique\"})"
   ]
  },
  {
   "cell_type": "code",
   "execution_count": 34,
   "id": "4236e9b2-2467-41c7-b0c4-a5165586a905",
   "metadata": {},
   "outputs": [
    {
     "data": {
      "text/plain": [
       "Denominazione    15129\n",
       "Studio           15617\n",
       "Codice SAP       15156\n",
       "dtype: int64"
      ]
     },
     "execution_count": 34,
     "metadata": {},
     "output_type": "execute_result"
    }
   ],
   "source": [
    "StatsLog[[\"Denominazione\", \"Studio\", \"Codice SAP\"]].nunique()"
   ]
  },
  {
   "cell_type": "code",
   "execution_count": 12,
   "id": "557acc8b-bad0-4e1d-9446-09f16692727d",
   "metadata": {},
   "outputs": [
    {
     "name": "stderr",
     "output_type": "stream",
     "text": [
      "b'Skipping line 14595: expected 13 fields, saw 18\\nSkipping line 37196: expected 13 fields, saw 18\\n'\n",
      "b'Skipping line 185140: expected 13 fields, saw 18\\nSkipping line 195430: expected 13 fields, saw 18\\n'\n",
      "b'Skipping line 202339: expected 13 fields, saw 18\\nSkipping line 239491: expected 13 fields, saw 18\\n'\n",
      "b'Skipping line 291969: expected 13 fields, saw 18\\nSkipping line 309391: expected 13 fields, saw 18\\n'\n",
      "C:\\Users\\Raffaele.Sportiello\\AppData\\Local\\Temp\\ipykernel_21692\\1012920734.py:1: DtypeWarning: Columns (3) have mixed types. Specify dtype option on import or set low_memory=False.\n",
      "  StatsLogDett = pd.read_csv(f\"C:/Users/Raffaele.Sportiello/OneDrive - Wolters Kluwer/Documents/E-commerce/Data source/StatsLogSMARTSKILLDETT/StatsLog-SMARTSKILLDETT-{data}.txt\", sep=\";\", on_bad_lines='warn')\n"
     ]
    }
   ],
   "source": [
    "StatsLogDett = pd.read_csv(f\"C:/Users/Raffaele.Sportiello/OneDrive - Wolters Kluwer/Documents/E-commerce/Data source/StatsLogSMARTSKILLDETT/StatsLog-SMARTSKILLDETT-{data}.txt\", sep=\";\", on_bad_lines='warn')\n",
    "StatsLogDett[\"Data\"] = pd.to_datetime(StatsLogDett[\"Data\"], format=\"%d/%m/%Y\")"
   ]
  },
  {
   "cell_type": "code",
   "execution_count": 16,
   "id": "4d5542fd-28d6-4fc9-b829-d4b5ae2c8d41",
   "metadata": {},
   "outputs": [
    {
     "data": {
      "text/html": [
       "<div>\n",
       "<style scoped>\n",
       "    .dataframe tbody tr th:only-of-type {\n",
       "        vertical-align: middle;\n",
       "    }\n",
       "\n",
       "    .dataframe tbody tr th {\n",
       "        vertical-align: top;\n",
       "    }\n",
       "\n",
       "    .dataframe thead th {\n",
       "        text-align: right;\n",
       "    }\n",
       "</style>\n",
       "<table border=\"1\" class=\"dataframe\">\n",
       "  <thead>\n",
       "    <tr style=\"text-align: right;\">\n",
       "      <th></th>\n",
       "      <th>Data</th>\n",
       "      <th>Studio</th>\n",
       "      <th>Denominazione</th>\n",
       "      <th>Codice SAP</th>\n",
       "      <th>Rapporto</th>\n",
       "      <th>Flaggone</th>\n",
       "      <th>IdWebdesk</th>\n",
       "      <th>Nome Ben</th>\n",
       "      <th>FatturaSM</th>\n",
       "      <th>PagaBen</th>\n",
       "      <th>Flagghino</th>\n",
       "      <th>AADAI|Pagamenti|Solleciti|EmissRIBA|TesseraSanit|Reverse|Fatt estere</th>\n",
       "      <th>Unnamed: 12</th>\n",
       "    </tr>\n",
       "  </thead>\n",
       "  <tbody>\n",
       "    <tr>\n",
       "      <th>37195</th>\n",
       "      <td>2022-10-12</td>\n",
       "      <td>BRIGN1</td>\n",
       "      <td>BRIGNOLO Rag. Walter</td>\n",
       "      <td>524198</td>\n",
       "      <td>FI</td>\n",
       "      <td>False</td>\n",
       "      <td>78a7af70-6569-457b-90af-a9c300ec2312</td>\n",
       "      <td>LISA GIUSEPPE &amp; C. S.N.C.</td>\n",
       "      <td>Attiva</td>\n",
       "      <td>0</td>\n",
       "      <td>1</td>\n",
       "      <td>AADAI=Invito|Pagamenti=Invito|Solleciti=Invito...</td>\n",
       "      <td>NaN</td>\n",
       "    </tr>\n",
       "    <tr>\n",
       "      <th>37196</th>\n",
       "      <td>2022-10-12</td>\n",
       "      <td>BRIGN1</td>\n",
       "      <td>BRIGNOLO Rag. Walter</td>\n",
       "      <td>524198</td>\n",
       "      <td>FI</td>\n",
       "      <td>False</td>\n",
       "      <td>938e6d3d-c068-4cc6-b6d9-a9c300fa0ea6</td>\n",
       "      <td>FORTUNATO IMPIANTI IDRO TERMO SANITARI DI FORT...</td>\n",
       "      <td>Attiva</td>\n",
       "      <td>0</td>\n",
       "      <td>1</td>\n",
       "      <td>AADAI=Invito|Pagamenti=Invito|Solleciti=Invito...</td>\n",
       "      <td>NaN</td>\n",
       "    </tr>\n",
       "  </tbody>\n",
       "</table>\n",
       "</div>"
      ],
      "text/plain": [
       "            Data  Studio         Denominazione Codice SAP Rapporto  Flaggone  \\\n",
       "37195 2022-10-12  BRIGN1  BRIGNOLO Rag. Walter     524198       FI     False   \n",
       "37196 2022-10-12  BRIGN1  BRIGNOLO Rag. Walter     524198       FI     False   \n",
       "\n",
       "                                  IdWebdesk  \\\n",
       "37195  78a7af70-6569-457b-90af-a9c300ec2312   \n",
       "37196  938e6d3d-c068-4cc6-b6d9-a9c300fa0ea6   \n",
       "\n",
       "                                                Nome Ben FatturaSM  PagaBen  \\\n",
       "37195                          LISA GIUSEPPE & C. S.N.C.    Attiva        0   \n",
       "37196  FORTUNATO IMPIANTI IDRO TERMO SANITARI DI FORT...    Attiva        0   \n",
       "\n",
       "       Flagghino  \\\n",
       "37195          1   \n",
       "37196          1   \n",
       "\n",
       "      AADAI|Pagamenti|Solleciti|EmissRIBA|TesseraSanit|Reverse|Fatt estere  \\\n",
       "37195  AADAI=Invito|Pagamenti=Invito|Solleciti=Invito...                     \n",
       "37196  AADAI=Invito|Pagamenti=Invito|Solleciti=Invito...                     \n",
       "\n",
       "       Unnamed: 12  \n",
       "37195          NaN  \n",
       "37196          NaN  "
      ]
     },
     "execution_count": 16,
     "metadata": {},
     "output_type": "execute_result"
    }
   ],
   "source": [
    "StatsLogDett.loc[[37195,37196],:]"
   ]
  },
  {
   "cell_type": "code",
   "execution_count": 49,
   "id": "aa403b7c-8fc3-4f93-9e6d-63dc3efc3fc1",
   "metadata": {},
   "outputs": [
    {
     "data": {
      "text/html": [
       "<style type=\"text/css\">\n",
       "</style>\n",
       "<table id=\"T_efade\">\n",
       "  <thead>\n",
       "    <tr>\n",
       "      <th class=\"index_name level0\" >Flaggone</th>\n",
       "      <th id=\"T_efade_level0_col0\" class=\"col_heading level0 col0\" >False</th>\n",
       "      <th id=\"T_efade_level0_col1\" class=\"col_heading level0 col1\" >True</th>\n",
       "      <th id=\"T_efade_level0_col2\" class=\"col_heading level0 col2\" >All</th>\n",
       "    </tr>\n",
       "    <tr>\n",
       "      <th class=\"index_name level0\" >Flagghino</th>\n",
       "      <th class=\"blank col0\" >&nbsp;</th>\n",
       "      <th class=\"blank col1\" >&nbsp;</th>\n",
       "      <th class=\"blank col2\" >&nbsp;</th>\n",
       "    </tr>\n",
       "  </thead>\n",
       "  <tbody>\n",
       "    <tr>\n",
       "      <th id=\"T_efade_level0_row0\" class=\"row_heading level0 row0\" >0</th>\n",
       "      <td id=\"T_efade_row0_col0\" class=\"data row0 col0\" >378.066</td>\n",
       "      <td id=\"T_efade_row0_col1\" class=\"data row0 col1\" >482</td>\n",
       "      <td id=\"T_efade_row0_col2\" class=\"data row0 col2\" >378.548</td>\n",
       "    </tr>\n",
       "    <tr>\n",
       "      <th id=\"T_efade_level0_row1\" class=\"row_heading level0 row1\" >1</th>\n",
       "      <td id=\"T_efade_row1_col0\" class=\"data row1 col0\" >8.483</td>\n",
       "      <td id=\"T_efade_row1_col1\" class=\"data row1 col1\" >7.830</td>\n",
       "      <td id=\"T_efade_row1_col2\" class=\"data row1 col2\" >16.313</td>\n",
       "    </tr>\n",
       "    <tr>\n",
       "      <th id=\"T_efade_level0_row2\" class=\"row_heading level0 row2\" >All</th>\n",
       "      <td id=\"T_efade_row2_col0\" class=\"data row2 col0\" >386.549</td>\n",
       "      <td id=\"T_efade_row2_col1\" class=\"data row2 col1\" >8.312</td>\n",
       "      <td id=\"T_efade_row2_col2\" class=\"data row2 col2\" >394.861</td>\n",
       "    </tr>\n",
       "  </tbody>\n",
       "</table>\n"
      ],
      "text/plain": [
       "<pandas.io.formats.style.Styler at 0x2cd62ef86a0>"
      ]
     },
     "execution_count": 49,
     "metadata": {},
     "output_type": "execute_result"
    }
   ],
   "source": [
    "StatsLogDett.pivot_table(values=\"IdWebdesk\", index=\"Flagghino\", columns=\"Flaggone\", aggfunc=\"nunique\", margins=True, dropna=False).style.format(thousands=\".\", precision=0)"
   ]
  },
  {
   "cell_type": "code",
   "execution_count": 52,
   "id": "d988b572-d053-4a2d-83e8-25972ecb7771",
   "metadata": {},
   "outputs": [
    {
     "data": {
      "text/plain": [
       "Studio       12.9k\n",
       "IdWebdesk     395k\n",
       "dtype: object"
      ]
     },
     "execution_count": 52,
     "metadata": {},
     "output_type": "execute_result"
    }
   ],
   "source": [
    "StatsLogDett[[\"Studio\", \"IdWebdesk\"]].nunique().apply(lambda x: human_format(x))"
   ]
  },
  {
   "cell_type": "code",
   "execution_count": 54,
   "id": "b449b2c2-ad4f-4187-a76d-016aa0bd0967",
   "metadata": {},
   "outputs": [
    {
     "name": "stdout",
     "output_type": "stream",
     "text": [
      "Numero totale Ben: 395k\n"
     ]
    }
   ],
   "source": [
    "print(f'Numero totale Ben: {human_format(378548+16313)}')"
   ]
  },
  {
   "cell_type": "markdown",
   "id": "58ca24fe-5a3b-45ba-8d0c-eddaf2a8d8db",
   "metadata": {
    "tags": []
   },
   "source": [
    "# Duplicazione file Genya con cambio data"
   ]
  },
  {
   "cell_type": "code",
   "execution_count": 2,
   "id": "6cdc7c19-abc1-43c4-bb43-40e43b6d9dcc",
   "metadata": {},
   "outputs": [],
   "source": [
    "estrazioneAnna = \"C:/Users/Raffaele.Sportiello/OneDrive - Wolters Kluwer/Documents/E-commerce/Data source/EstrazioneGenyaAnna//\"\n",
    "onlyfiles = [f for f in listdir(\"C:/Users/Raffaele.Sportiello/OneDrive - Wolters Kluwer/Documents/E-commerce/Data source/EstrazioneGenyaAnna\") if isfile(join(\"C:/Users/Raffaele.Sportiello/OneDrive - Wolters Kluwer/Documents/E-commerce/Data source/EstrazioneGenyaAnna\", f))]\n",
    "\n",
    "lastFile = onlyfiles[-1]\n",
    "lastDatetime = pd.to_datetime(lastFile.split(\"_\")[1].split(\".\")[0], format='%Y-%m-%d') + pd.Timedelta(7, unit=\"Day\")\n",
    "\n",
    "anno = lastDatetime.date().year\n",
    "mese = lastDatetime.date().month\n",
    "giorno = lastDatetime.date().day\n",
    "\n",
    "anna = pd.read_excel(estrazioneAnna+lastFile)\n",
    "anna[\"Data\"] = lastDatetime.date()\n",
    "\n",
    "anna.to_excel(f\"C:/Users/Raffaele.Sportiello/OneDrive - Wolters Kluwer/Documents/E-commerce/Data source/EstrazioneGenyaAnna/EstrazioneGenyaAnna_{anno}-{mese:02d}-{giorno:02d}.xlsx\", sheet_name=\"Foglio1\", index=False)"
   ]
  },
  {
   "cell_type": "code",
   "execution_count": 3,
   "id": "9f911a47-8ac4-4bcd-926b-7ad15cf29138",
   "metadata": {},
   "outputs": [],
   "source": [
    "estrazioneBen = \"C:/Users/Raffaele.Sportiello/OneDrive - Wolters Kluwer/Documents/E-commerce/Data source/EstrazioneGenyaBen//\"\n",
    "onlyfiles = [f for f in listdir(\"C:/Users/Raffaele.Sportiello/OneDrive - Wolters Kluwer/Documents/E-commerce/Data source/EstrazioneGenyaBen\") if isfile(join(\"C:/Users/Raffaele.Sportiello/OneDrive - Wolters Kluwer/Documents/E-commerce/Data source/EstrazioneGenyaBen\", f))]\n",
    "\n",
    "lastFile = onlyfiles[-1]\n",
    "\n",
    "ben = pd.read_excel(estrazioneBen+lastFile)\n",
    "ben[\"Data\"] = lastDatetime.date()\n",
    "\n",
    "for col in ben.select_dtypes(include=[int,float]).columns:\n",
    "    ben[col] = ben[col].astype(str)\n",
    "    \n",
    "ben.to_excel(f\"C:/Users/Raffaele.Sportiello/OneDrive - Wolters Kluwer/Documents/E-commerce/Data source/EstrazioneGenyaBen/EstrazioneGenyaBen_{anno}-{mese:02d}-{giorno:02d}.xlsx\", sheet_name=\"Foglio1\", index=False)"
   ]
  },
  {
   "cell_type": "code",
   "execution_count": null,
   "id": "781038d5-4986-4cb1-a6cc-7d6b3c8820b7",
   "metadata": {},
   "outputs": [],
   "source": [
    "\n",
    "for col in anna.select_dtypes(include=[int,float]).columns:\n",
    "    anna[col] = anna[col].astype(str)"
   ]
  },
  {
   "cell_type": "markdown",
   "id": "9ee1a3b8-29ba-4309-b717-def7a9db0485",
   "metadata": {
    "tags": []
   },
   "source": [
    "# Connessione al DB Azure"
   ]
  },
  {
   "cell_type": "code",
   "execution_count": 5,
   "id": "00f52056-cc90-4359-81de-d09af907c69a",
   "metadata": {},
   "outputs": [],
   "source": [
    "server = 'WkiBI.database.windows.net'\n",
    "database = 'WkiBI'\n",
    "username = 'Raffaele.Sportiello'\n",
    "password = 'sFG(mR-7]?r<U,£x{<G}g}PsdeF{+W(9tb[QP+w4zf:39q:!#\"LA_6'\n",
    "\n",
    "cnxn = pyodbc.connect('DRIVER={SQL Server};SERVER='+server+';DATABASE='+database+';UID='+username+';PWD='+ password)\n",
    "cursor = cnxn.cursor()"
   ]
  },
  {
   "cell_type": "code",
   "execution_count": 6,
   "id": "e760344a-d637-4713-9188-20510e5154b6",
   "metadata": {},
   "outputs": [
    {
     "name": "stderr",
     "output_type": "stream",
     "text": [
      "C:\\Users\\Raffaele.Sportiello\\Anaconda3\\lib\\site-packages\\pandas\\io\\sql.py:761: UserWarning: pandas only support SQLAlchemy connectable(engine/connection) ordatabase string URI or sqlite3 DBAPI2 connectionother DBAPI2 objects are not tested, please consider using SQLAlchemy\n",
      "  warnings.warn(\n",
      "C:\\Users\\Raffaele.Sportiello\\Anaconda3\\lib\\site-packages\\pandas\\io\\sql.py:761: UserWarning: pandas only support SQLAlchemy connectable(engine/connection) ordatabase string URI or sqlite3 DBAPI2 connectionother DBAPI2 objects are not tested, please consider using SQLAlchemy\n",
      "  warnings.warn(\n"
     ]
    }
   ],
   "source": [
    "query = \"Select * from [pbi].[BenId_Skills]\"\n",
    "ben_status_skill = pd.read_sql(query, cnxn)\n",
    "\n",
    "query = \"Select * from [pbi].[BenFS_EnableSkillShop]\"\n",
    "ben_enableskillshop = pd.read_sql(query, cnxn)"
   ]
  },
  {
   "cell_type": "code",
   "execution_count": 13,
   "id": "d4b7da1c-53df-4971-8834-8ddecd921a96",
   "metadata": {},
   "outputs": [],
   "source": []
  },
  {
   "cell_type": "code",
   "execution_count": 16,
   "id": "b7263abe-ea0b-4bb2-9dfc-e00875380482",
   "metadata": {},
   "outputs": [
    {
     "data": {
      "text/html": [
       "<div>\n",
       "<style scoped>\n",
       "    .dataframe tbody tr th:only-of-type {\n",
       "        vertical-align: middle;\n",
       "    }\n",
       "\n",
       "    .dataframe tbody tr th {\n",
       "        vertical-align: top;\n",
       "    }\n",
       "\n",
       "    .dataframe thead th {\n",
       "        text-align: right;\n",
       "    }\n",
       "</style>\n",
       "<table border=\"1\" class=\"dataframe\">\n",
       "  <thead>\n",
       "    <tr style=\"text-align: right;\">\n",
       "      <th></th>\n",
       "      <th>BenId</th>\n",
       "      <th>Skills</th>\n",
       "      <th>Status</th>\n",
       "      <th>ConnectedTo</th>\n",
       "      <th>Giorno</th>\n",
       "    </tr>\n",
       "  </thead>\n",
       "  <tbody>\n",
       "    <tr>\n",
       "      <th>0</th>\n",
       "      <td>1014.92</td>\n",
       "      <td>SkAADAI</td>\n",
       "      <td>2</td>\n",
       "      <td>Genya</td>\n",
       "      <td>2022-10-26</td>\n",
       "    </tr>\n",
       "    <tr>\n",
       "      <th>1</th>\n",
       "      <td>1077.1</td>\n",
       "      <td>SkAADAI</td>\n",
       "      <td>2</td>\n",
       "      <td>Genya</td>\n",
       "      <td>2022-10-26</td>\n",
       "    </tr>\n",
       "    <tr>\n",
       "      <th>2</th>\n",
       "      <td>1077.1271</td>\n",
       "      <td>SkAADAI</td>\n",
       "      <td>2</td>\n",
       "      <td>Genya</td>\n",
       "      <td>2022-10-26</td>\n",
       "    </tr>\n",
       "    <tr>\n",
       "      <th>3</th>\n",
       "      <td>1077.1334</td>\n",
       "      <td>SkAADAI</td>\n",
       "      <td>2</td>\n",
       "      <td>Genya</td>\n",
       "      <td>2022-10-26</td>\n",
       "    </tr>\n",
       "    <tr>\n",
       "      <th>4</th>\n",
       "      <td>1077.1347</td>\n",
       "      <td>SkAADAI</td>\n",
       "      <td>2</td>\n",
       "      <td>Genya</td>\n",
       "      <td>2022-10-26</td>\n",
       "    </tr>\n",
       "    <tr>\n",
       "      <th>...</th>\n",
       "      <td>...</td>\n",
       "      <td>...</td>\n",
       "      <td>...</td>\n",
       "      <td>...</td>\n",
       "      <td>...</td>\n",
       "    </tr>\n",
       "    <tr>\n",
       "      <th>92506</th>\n",
       "      <td>None</td>\n",
       "      <td>AcquisizioneAutom</td>\n",
       "      <td>2</td>\n",
       "      <td>Webdesk</td>\n",
       "      <td>2022-10-26</td>\n",
       "    </tr>\n",
       "    <tr>\n",
       "      <th>92507</th>\n",
       "      <td>None</td>\n",
       "      <td>ReverseCharge</td>\n",
       "      <td>2</td>\n",
       "      <td>Webdesk</td>\n",
       "      <td>2022-10-26</td>\n",
       "    </tr>\n",
       "    <tr>\n",
       "      <th>92508</th>\n",
       "      <td>None</td>\n",
       "      <td>RIBA</td>\n",
       "      <td>2</td>\n",
       "      <td>Webdesk</td>\n",
       "      <td>2022-10-26</td>\n",
       "    </tr>\n",
       "    <tr>\n",
       "      <th>92509</th>\n",
       "      <td>None</td>\n",
       "      <td>SpeseSanitarie</td>\n",
       "      <td>2</td>\n",
       "      <td>Webdesk</td>\n",
       "      <td>2022-10-26</td>\n",
       "    </tr>\n",
       "    <tr>\n",
       "      <th>92510</th>\n",
       "      <td>None</td>\n",
       "      <td>Pagamenti</td>\n",
       "      <td>2</td>\n",
       "      <td>Webdesk</td>\n",
       "      <td>2022-10-26</td>\n",
       "    </tr>\n",
       "  </tbody>\n",
       "</table>\n",
       "<p>92511 rows × 5 columns</p>\n",
       "</div>"
      ],
      "text/plain": [
       "           BenId             Skills  Status ConnectedTo     Giorno\n",
       "0        1014.92            SkAADAI       2       Genya 2022-10-26\n",
       "1         1077.1            SkAADAI       2       Genya 2022-10-26\n",
       "2      1077.1271            SkAADAI       2       Genya 2022-10-26\n",
       "3      1077.1334            SkAADAI       2       Genya 2022-10-26\n",
       "4      1077.1347            SkAADAI       2       Genya 2022-10-26\n",
       "...          ...                ...     ...         ...        ...\n",
       "92506       None  AcquisizioneAutom       2     Webdesk 2022-10-26\n",
       "92507       None      ReverseCharge       2     Webdesk 2022-10-26\n",
       "92508       None               RIBA       2     Webdesk 2022-10-26\n",
       "92509       None     SpeseSanitarie       2     Webdesk 2022-10-26\n",
       "92510       None          Pagamenti       2     Webdesk 2022-10-26\n",
       "\n",
       "[92511 rows x 5 columns]"
      ]
     },
     "execution_count": 16,
     "metadata": {},
     "output_type": "execute_result"
    }
   ],
   "source": [
    "ben_status_skill"
   ]
  },
  {
   "cell_type": "code",
   "execution_count": 22,
   "id": "6d927256-bc32-47fa-b0ea-3ead1a503908",
   "metadata": {},
   "outputs": [],
   "source": [
    "ben_status_skill_gr =  ben_status_skill.groupby([\"ConnectedTo\",\"Skills\", \"Status\"]).agg({\"BenId\":\"nunique\",\"Skills\":\"count\"}).rename(columns={\"BenId\":\"N. Ben\", \"Skills\":\"N. Skills\"}).reset_index()\n",
    "ben_status_skill_gr[\"Giorno\"] = pd.to_datetime(dt.datetime.now().date())"
   ]
  },
  {
   "cell_type": "code",
   "execution_count": 27,
   "id": "abf41372-a5f5-4106-b75a-7bd265ebf30b",
   "metadata": {},
   "outputs": [
    {
     "data": {
      "text/plain": [
       "92511"
      ]
     },
     "execution_count": 27,
     "metadata": {},
     "output_type": "execute_result"
    }
   ],
   "source": [
    "ben_status_skill_gr[\"N. Skills\"].sum()\n"
   ]
  },
  {
   "cell_type": "code",
   "execution_count": 26,
   "id": "33374e01-ba1a-4763-ad60-b30eedf48cb3",
   "metadata": {},
   "outputs": [
    {
     "data": {
      "text/plain": [
       "89023"
      ]
     },
     "execution_count": 26,
     "metadata": {},
     "output_type": "execute_result"
    }
   ],
   "source": [
    "ben_status_skill_gr[\"N. Ben\"].sum()"
   ]
  },
  {
   "cell_type": "code",
   "execution_count": null,
   "id": "36ea7112-7cc6-44c1-aa31-e12c6dc27134",
   "metadata": {},
   "outputs": [],
   "source": []
  }
 ],
 "metadata": {
  "kernelspec": {
   "display_name": "Python 3 (ipykernel)",
   "language": "python",
   "name": "python3"
  },
  "language_info": {
   "codemirror_mode": {
    "name": "ipython",
    "version": 3
   },
   "file_extension": ".py",
   "mimetype": "text/x-python",
   "name": "python",
   "nbconvert_exporter": "python",
   "pygments_lexer": "ipython3",
   "version": "3.9.12"
  },
  "toc-showtags": false
 },
 "nbformat": 4,
 "nbformat_minor": 5
}
