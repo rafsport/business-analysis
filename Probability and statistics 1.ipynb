{
 "cells": [
  {
   "cell_type": "markdown",
   "metadata": {},
   "source": [
    "* ### [Permutations and Combinations](#Permutations_and_Combinations)\n",
    "* ### [Conditional probability and Bayes Theorem](#bayes)\n",
    "* ### [Distributions](#distributions)\n",
    "* ### [Binomial distribution](#binomial)\n",
    "* ### [Poisson distribution](#poisson)\n",
    "* ### [Normal distribution](#normal)\n",
    "* ### [Student's T-Distribution](#tstudent)\n",
    "* ### [Linear Regression](#linearregression)\n",
    "* ### [Multiple Regression](#multipleregression)\n",
    "* ### [Chi Square Test](#chisquare)\n"
   ]
  },
  {
   "cell_type": "markdown",
   "metadata": {},
   "source": [
    "<a id='Permutations_and_Combinations'></a>\n",
    "### Permutations and Combinations\n",
    "\n",
    "</div> \n",
    "    <div align=\"left\"> \n",
    "        <img src=\"permutations_combinations.png\" alt=\"Permutations_and_Combinations\" style=\"width: 600px\"/>  \n",
    "    </div>\n",
    "\n",
    "**[Permutations and Combinations with Python: Itertools](https://docs.python.org/3.1/library/itertools.html)**\n"
   ]
  },
  {
   "cell_type": "code",
   "execution_count": 1,
   "metadata": {},
   "outputs": [
    {
     "name": "stdout",
     "output_type": "stream",
     "text": [
      "[(1, 2, 3), (1, 3, 2), (2, 1, 3), (2, 3, 1), (3, 1, 2), (3, 2, 1)]\n"
     ]
    }
   ],
   "source": [
    "import itertools \n",
    "l = list(itertools.permutations(range(1, 4))) \n",
    "print(l) "
   ]
  },
  {
   "cell_type": "markdown",
   "metadata": {},
   "source": [
    "<a id='bayes'></a>\n",
    "### Conditional probability\n",
    "The idea that we want to know the probability of event A, given that event B has occurred, is conditional probability. This is written as **𝑃(𝐴|𝐵)**\n",
    "\n",
    "</div> \n",
    "    <div align=\"left\"> \n",
    "        <img src=\"conditionalprobaility.png\" alt=\"Conditional probability\" style=\"width: 300px; margin:0px 50px; border:1px solid black\"/>\n",
    "</div>\n",
    "\n",
    "*Ex. A company finds that out of every 100 projects, 48 are completed on time, 62 are completed under budget, and 16 are completed both on time and under budget.Given that a project is completed on time, what is the probability that it is under budget?*\n",
    "</div> \n",
    "    <div align=\"left\"> \n",
    "        <img src=\"conditionalprobailityexercise.png\" alt=\"Conditional probability Exercise\" style=\"width: 300px;\"/>\n",
    "</div>\n",
    "\n",
    "\n",
    "##### [Addition & Multiplication Rules](#https://www.mathgoodies.com/lessons/vol6/dependent_events)\n",
    "\n",
    "* ###### Addition \n",
    "When two events, A and B, are mutually exclusive, the probability that **A or B** will occur is the sum of the probability of each event.\\\n",
    "P(A or B) = P(A) + P(B)\\\n",
    "When two events, A and B, are non-mutually exclusive, the probability that **A or B** will occur is:\\\n",
    "P(A or B) = P(A) + P(B) - P(A and B)\n",
    "\n",
    "* ###### Multiplication\n",
    "When two events, A and B, are independent, the probability of **both occurring** is:\\\n",
    "P(A and B) = P(A) · P(B)\\\n",
    "When two events, A and B, are dependent, the probability of **both occurring** is:\\\n",
    "P(A and B)  =  P(A) · P(B|A)\n",
    "\n",
    "### Bayes Theorem\n",
    "</div> \n",
    "    <div align=\"left\">    \n",
    "        <img src=\"bayes.png\" alt=\"Bayes Theorem\" style=\"width: 300px; margin:0px 50px; border:1px solid black\"/> \n",
    "</div>\n",
    "\n",
    "*Ex.: A company learns that 1 out of 500 of their products are defective, or 0.2%. The company buys a diagnostic tool that correctly identifies a defective part 99% of the time. If a part is diagnosed as defective, what is the probability that it really is defective?\\\n",
    "𝑃(𝐴|𝐵) probability of being defective if testing positive\\\n",
    "𝑃(𝐵|𝐴) probability of testing positive if defective\\\n",
    "𝑃(𝐴) probability of being defective\\\n",
    "𝑃(𝐵) probability of testing positive*\n",
    "</div> \n",
    "    <div align=\"left\">    \n",
    "        <img src=\"bayesex1.png\" alt=\"Bayes Exercise\" style=\"width: 300px; margin:0px 50px; border:1px solid black\"/>\n",
    "        <img src=\"bayesex2.png\" alt=\"Bayes Exercise\" style=\"width: 300px; margin:0px 50px; border:1px solid black\"/>\n",
    "        <img src=\"bayesex3.png\" alt=\"Bayes Exercise\" style=\"width: 300px; margin:0px 50px; border:1px solid black\"/>\n",
    "        <img src=\"bayesex4.png\" alt=\"Bayes Exercise\" style=\"width: 300px; margin:0px 50px; border:1px solid black\"/>\n",
    "</div>"
   ]
  },
  {
   "cell_type": "markdown",
   "metadata": {},
   "source": [
    "<a id='distributions'></a>\n",
    "### Distributions\n",
    "\n",
    "* **A distribution describes all of the probable outcomes of a variable**\n",
    "* In a discrete distribution, the sum of all the individual probabilities must equal 1\n",
    "* In a continuous distribution, the area under the probability curve equals 1  \n",
    "\n",
    "Discrete probability distributions are also **called probability mass functions**: Uniform Distribution, Binomial Distribution, Poisson Distribution.  \n",
    "\n",
    "Continuous probability distributions are also called **probability density functions**: Normal Distribution, Exponential Distribution, Beta Distribution"
   ]
  },
  {
   "cell_type": "markdown",
   "metadata": {},
   "source": [
    "<a id='binomial'></a>\n",
    "### Binomial distribution\n",
    "Binomial means there are **two** discrete,mutually exclusive outcomes of a trial.  \n",
    "A series of trials n will follow a binary distribution so long as:\n",
    "1. the probability of success *p* is constant\n",
    "2. trials are independent of one another\n",
    "\n",
    "*Ex.: If you roll a die 16 times, what is the probability that a five comes up 3 times?*"
   ]
  },
  {
   "cell_type": "code",
   "execution_count": 2,
   "metadata": {},
   "outputs": [
    {
     "data": {
      "text/plain": [
       "0.2423137603371325"
      ]
     },
     "execution_count": 2,
     "metadata": {},
     "output_type": "execute_result"
    }
   ],
   "source": [
    "from scipy.stats import binom\n",
    "\n",
    "binom.pmf(3,16,1/6)"
   ]
  },
  {
   "cell_type": "markdown",
   "metadata": {},
   "source": [
    "<a id='poisson'></a>\n",
    "### Poisson distribution\n",
    "While a binomial distribution considers the number of successes out of n trials a **Poisson Distribution** considers the number of successes per unit of time (or any other continuous unit, e.g. distance) over the course of many units.  \n",
    "The **cumulative mass function** is simply the sum of all the discrete probabilities.\n"
   ]
  },
  {
   "cell_type": "markdown",
   "metadata": {},
   "source": [
    "*Ex.: A warehouse **typically** receives **8** deliveries between 4 and 5pm on Friday.  \n",
    "What is the probability that only 4 deliveries will arrive between 4 and 5pm this Friday?*"
   ]
  },
  {
   "cell_type": "code",
   "execution_count": 3,
   "metadata": {},
   "outputs": [
    {
     "data": {
      "text/plain": [
       "0.057252288495362"
      ]
     },
     "execution_count": 3,
     "metadata": {},
     "output_type": "execute_result"
    }
   ],
   "source": [
    "from scipy.stats import poisson\n",
    "\n",
    "poisson.pmf(4,8)"
   ]
  },
  {
   "cell_type": "markdown",
   "metadata": {},
   "source": [
    "*Ex.:  A warehouse **typically** receives **8** deliveries between 4 and 5pm on Friday.  \n",
    "What is the probability that **fewer than 3** will arrive between 4 and 5pm this Friday?*"
   ]
  },
  {
   "cell_type": "code",
   "execution_count": 4,
   "metadata": {},
   "outputs": [
    {
     "data": {
      "text/plain": [
       "0.013753967744002971"
      ]
     },
     "execution_count": 4,
     "metadata": {},
     "output_type": "execute_result"
    }
   ],
   "source": [
    "from scipy.stats import poisson\n",
    "\n",
    "poisson.cdf(2,8)"
   ]
  },
  {
   "cell_type": "markdown",
   "metadata": {},
   "source": [
    "*Ex.:  A warehouse **typically** receives **8** deliveries between 4 and 5pm on Friday.  \n",
    "What is the probability that **no deliveries** arrive between 4:00 and 4:05 this Friday?*"
   ]
  },
  {
   "cell_type": "code",
   "execution_count": 5,
   "metadata": {},
   "outputs": [
    {
     "data": {
      "text/plain": [
       "0.513417119032592"
      ]
     },
     "execution_count": 5,
     "metadata": {},
     "output_type": "execute_result"
    }
   ],
   "source": [
    "from scipy.stats import poisson\n",
    "\n",
    "poisson.pmf(0,8/12)"
   ]
  },
  {
   "cell_type": "markdown",
   "metadata": {},
   "source": [
    "<a id='normal'></a>\n",
    "### Normal distribution\n",
    "The probability of a specific outcome is zero.\n",
    "We can only find probabilities *over a specified interval or range of outcomes*.\n",
    "\n",
    "All normal curves exhibit the same behavior:\n",
    "* symmetry about the mean;\n",
    "* 68.27%, 95.45%, 99.73% of values fall within respectively **one, two and three standard deviations**;\n",
    "* however, the mean *does not* have to be zero, and σ *does not* have to equal one.\n",
    "\n",
    "We can take any normal distribution and standardize it to a **standard normal distribution** (Z distribution). A standard normal distribution is a normal distribution that have the mean equal to zero, and σ equal to one.  \n",
    "We'll be able to take any value from a normal distribution and standardize it through a Z score.  \n",
    "Using this Z Score, we can then calculate a particular x value's percentile. \n",
    "So, if we can model our data as a normal distribution, we can convert the values in the normal distribution to a standard normal distribution to calculate a percentile.  \n",
    "[Funny explanation](http://www.z-table.com/)"
   ]
  },
  {
   "cell_type": "code",
   "execution_count": 6,
   "metadata": {},
   "outputs": [
    {
     "data": {
      "text/plain": [
       "0.758036347776927"
      ]
     },
     "execution_count": 6,
     "metadata": {},
     "output_type": "execute_result"
    }
   ],
   "source": [
    "from scipy import stats\n",
    "\n",
    "z = .7\n",
    "stats.norm.cdf(z) # Return the corresponding percentile"
   ]
  },
  {
   "cell_type": "code",
   "execution_count": 7,
   "metadata": {},
   "outputs": [
    {
     "data": {
      "text/plain": [
       "1.6448536269514722"
      ]
     },
     "execution_count": 7,
     "metadata": {},
     "output_type": "execute_result"
    }
   ],
   "source": [
    "from scipy import stats\n",
    "\n",
    "p = .95\n",
    "stats.norm.ppf(p) #ppf: Percent Point Function (Inverse of CDF)"
   ]
  },
  {
   "cell_type": "markdown",
   "metadata": {},
   "source": [
    "<a id='tstudent'></a>\n",
    "### Student's T-Distribution\n",
    "Using the t table, the Student’s t test determines if there is a significant difference between two sets of data.\n",
    "Due to variance and outliers, it’s not enough just to compare mean values. **A t test also considers sample variances**.  \n",
    "\n",
    "Types of Student’s t-test:\n",
    "* **One sample t test**: tests the null hypothesis that the population mean is equal to a specified value 𝜇 based on a sample mean\n",
    "* **Independent two sample t test**: tests the null hypothesis that two sample means 𝑥1 and 𝑥2 are equal\n",
    "* **Dependent, paired sample t test**: used when the samples are dependent:\n",
    " * one sample has been tested twice (repeated)\n",
    " * two samples have been matched or \"paired\"\n",
    "\n",
    "In the case of **independent two-sample** t test the calculation of the t-statistic differs slightly for the following scenarios:\n",
    "* equal sample sizes, equal variance\n",
    "* unequal sample sizes, equal variance\n",
    "* equal or unequal sample sizes, unequal variance (the most common)\n",
    "\n",
    "Calculate the t statistic:  \n",
    "𝑡 = 𝑠𝑖𝑔𝑛𝑎𝑙 / 𝑛𝑜𝑖𝑠𝑒 = 𝑑𝑖𝑓𝑓𝑒𝑟𝑒𝑛𝑐𝑒 𝑖𝑛 𝑚𝑒𝑎𝑛𝑠 / 𝑠𝑎𝑚𝑝𝑙𝑒 𝑣𝑎𝑟𝑖𝑎𝑏𝑖𝑙𝑖𝑡𝑦 = 𝑥1−𝑥2 / sqrt((𝑠1)2 / 𝑛1 + (𝑠2)2 / 𝑛2),  \n",
    "where: 𝑥1,𝑥2 = sample means,  (𝑠1)2,(𝑠2)2 = sample variances,  𝑛1,𝑛2= sample sizes"
   ]
  },
  {
   "cell_type": "code",
   "execution_count": 8,
   "metadata": {},
   "outputs": [],
   "source": [
    "from scipy.stats import ttest_ind"
   ]
  },
  {
   "cell_type": "code",
   "execution_count": 9,
   "metadata": {},
   "outputs": [],
   "source": [
    "a = [40,36,42,36,35,35,41,43,34]\n",
    "b = [43,41,44,39,37,35,44,46,40]"
   ]
  },
  {
   "cell_type": "code",
   "execution_count": 10,
   "metadata": {},
   "outputs": [
    {
     "data": {
      "text/plain": [
       "-1.7999999999999998"
      ]
     },
     "execution_count": 10,
     "metadata": {},
     "output_type": "execute_result"
    }
   ],
   "source": [
    "#Calculate the T-test for the means of two independent samples of scores.\n",
    "#https://docs.scipy.org/doc/scipy/reference/generated/scipy.stats.ttest_ind.html\n",
    "\n",
    "ttest_ind(a,b).statistic"
   ]
  },
  {
   "cell_type": "code",
   "execution_count": 11,
   "metadata": {},
   "outputs": [
    {
     "data": {
      "text/plain": [
       "0.04537161736045921"
      ]
     },
     "execution_count": 11,
     "metadata": {},
     "output_type": "execute_result"
    }
   ],
   "source": [
    "ttest_ind(a,b).pvalue/2 # default is 2 tail so I divide the result in case I need to compare with one tail"
   ]
  },
  {
   "cell_type": "markdown",
   "metadata": {},
   "source": [
    "##### [T-test using Python and Numpy](https://towardsdatascience.com/inferential-statistics-series-t-test-using-numpy-2718f8f9bf2f)"
   ]
  },
  {
   "cell_type": "code",
   "execution_count": 12,
   "metadata": {},
   "outputs": [
    {
     "name": "stdout",
     "output_type": "stream",
     "text": [
      "t = 6.042142612547705\n",
      "p = 1.0339249661095451e-05\n",
      "t = 6.042142612547705\n",
      "p = 1.0339249661063279e-05\n"
     ]
    }
   ],
   "source": [
    "## Import the packages\n",
    "import numpy as np\n",
    "from scipy import stats\n",
    "\n",
    "\n",
    "## Define 2 random distributions\n",
    "#Sample Size\n",
    "N = 10\n",
    "#Gaussian distributed data with mean = 2 and var = 1\n",
    "a = np.random.randn(N) + 2\n",
    "#Gaussian distributed data with with mean = 0 and var = 1\n",
    "b = np.random.randn(N)\n",
    "\n",
    "\n",
    "## Calculate the Standard Deviation\n",
    "#Calculate the variance to get the standard deviation\n",
    "\n",
    "#For unbiased max likelihood estimate we have to divide the var by N-1, and therefore the parameter ddof = 1\n",
    "var_a = a.var(ddof=1)\n",
    "var_b = b.var(ddof=1)\n",
    "\n",
    "#std deviation\n",
    "s = np.sqrt((var_a + var_b)/2)\n",
    "s\n",
    "\n",
    "\n",
    "\n",
    "## Calculate the t-statistics\n",
    "t = (a.mean() - b.mean())/(s*np.sqrt(2/N))\n",
    "\n",
    "\n",
    "\n",
    "## Compare with the critical t-value\n",
    "#Degrees of freedom\n",
    "df = 2*N - 2\n",
    "\n",
    "#p-value after comparison with the t \n",
    "p = 1 - stats.t.cdf(t,df=df)\n",
    "\n",
    "\n",
    "print(\"t = \" + str(t))\n",
    "print(\"p = \" + str(2*p))\n",
    "### You can see that after comparing the t statistic with the critical t value (computed internally) we get a good p value of 0.0005 and thus we reject the null hypothesis and thus it proves that the mean of the two distributions are different and statistically significant.\n",
    "\n",
    "\n",
    "## Cross Checking with the internal scipy function\n",
    "t2, p2 = stats.ttest_ind(a,b)\n",
    "print(\"t = \" + str(t2))\n",
    "print(\"p = \" + str(p2))"
   ]
  },
  {
   "cell_type": "markdown",
   "metadata": {},
   "source": [
    "##### [How to Code the Student’s t-Test from Scratch in Python](https://machinelearningmastery.com/how-to-code-the-students-t-test-from-scratch-in-python/)"
   ]
  },
  {
   "cell_type": "code",
   "execution_count": 13,
   "metadata": {},
   "outputs": [
    {
     "name": "stdout",
     "output_type": "stream",
     "text": [
      "t=-1.800, df=16, cv=1.746, p=0.091\n",
      "Reject the null hypothesis that the means are equal.\n",
      "Accept null hypothesis that the means are equal.\n"
     ]
    }
   ],
   "source": [
    "#https://machinelearningmastery.com/how-to-code-the-students-t-test-from-scratch-in-python/\n",
    "\n",
    "from math import sqrt\n",
    "from numpy.random import seed\n",
    "from numpy.random import randn\n",
    "from numpy import mean\n",
    "from scipy.stats import sem\n",
    "from scipy.stats import t\n",
    " \n",
    "# function for calculating the t-test for two independent samples\n",
    "def independent_ttest(data1, data2, alpha):\n",
    "    \n",
    "    # calculate means\n",
    "    mean1, mean2 = mean(data1), mean(data2)\n",
    "    \n",
    "    # calculate standard errors\n",
    "    se1, se2 = sem(data1), sem(data2)\n",
    "    \n",
    "    # standard error on the difference between the samples\n",
    "    sed = sqrt(se1**2.0 + se2**2.0)\n",
    "    \n",
    "    # calculate the t statistic\n",
    "    t_stat = (mean1 - mean2) / sed\n",
    "    \n",
    "    # degrees of freedom\n",
    "    df = len(data1) + len(data2) - 2\n",
    "    \n",
    "    # calculate the critical value\n",
    "    cv = t.ppf(1.0 - alpha, df)\n",
    "    \n",
    "    # calculate the p-value\n",
    "    p = (1.0 - t.cdf(abs(t_stat), df)) * 2.0\n",
    "    \n",
    "    # return everything\n",
    "    return t_stat, df, cv, p\n",
    " \n",
    "# seed the random number generator\n",
    "seed(42)\n",
    "\n",
    "'''# generate two independent samples\n",
    "data1 = 5 * randn(100) + 50\n",
    "data2 = 5 * randn(100) + 51'''\n",
    "data1 = [40,36,42,36,35,35,41,43,34]\n",
    "data2 = [43,41,44,39,37,35,44,46,40]\n",
    "\n",
    "# calculate the t test\n",
    "alpha = 0.05\n",
    "t_stat, df, cv, p = independent_ttest(data1, data2, alpha)\n",
    "print('t=%.3f, df=%d, cv=%.3f, p=%.3f' % (t_stat, df, cv, p))\n",
    "\n",
    "# interpret via critical value\n",
    "if abs(t_stat) <= cv:\n",
    "    print('Accept null hypothesis that the means are equal.')\n",
    "else:\n",
    "    print('Reject the null hypothesis that the means are equal.')\n",
    "\n",
    "    # interpret via p-value\n",
    "if p > alpha:\n",
    "    print('Accept null hypothesis that the means are equal.')\n",
    "else:\n",
    "    print('Reject the null hypothesis that the means are equal.')"
   ]
  },
  {
   "cell_type": "markdown",
   "metadata": {},
   "source": [
    "<a id='anova'></a>\n",
    "### ANOVA - Analysis of Variance\n",
    "In this section we introduce a new, distribution the **F Distribution** used to answer the questions: \n",
    "* *What is the probability that two samples come from populations that have the same variance?*\n",
    "* *What is the probability that three or more samples come from the same population?*  \n",
    "\n",
    "We compute an F value , and compare it to a critical value determined by our degrees of freedom (the number of groups, and the number of items in each group).  \n",
    "ANOVA considers two types of variance:\n",
    "+ **Between Groups**: how far group means stray\n",
    "from the total mean. \n",
    "+ **Within Groups**: how far individual values stray from their respective group mean.  \n",
    "\n",
    "The F value we’re trying to calculate is simply the *ratio* between these two variances:  \n",
    "𝐹=𝑉𝑎𝑟𝑖𝑎𝑛𝑐𝑒𝐵𝑒𝑡𝑤𝑒𝑒𝑛𝐺𝑟𝑜𝑢𝑝𝑠 / 𝑉𝑎𝑟𝑖𝑎𝑛𝑐𝑒𝑊𝑖𝑡ℎ𝑖𝑛𝐺𝑟𝑜𝑢𝑝𝑠\n",
    " = (𝑆𝑆𝐺 / 𝑑𝑓𝑔𝑟𝑜𝑢𝑝𝑠) / (𝑆𝑆𝐸 / 𝑑𝑓𝑒𝑟𝑟𝑜𝑟)\n",
    "\n",
    "+ SSG = Sum of Squares Groups \n",
    "+ 𝑑𝑓𝑔𝑟𝑜𝑢𝑝𝑠 = degrees of freedom (groups)\n",
    "+ SSE = Sum of Squares Error \n",
    "+ 𝑑𝑓𝑒𝑟𝑟𝑜𝑟= degrees of freedom (errors)\n",
    "\n",
    "**Two-Way ANOVA** lets us test two independent variables *at the same time*."
   ]
  },
  {
   "cell_type": "code",
   "execution_count": 14,
   "metadata": {},
   "outputs": [
    {
     "data": {
      "text/plain": [
       "3.3541308285291986"
      ]
     },
     "execution_count": 14,
     "metadata": {},
     "output_type": "execute_result"
    }
   ],
   "source": [
    "from scipy import stats\n",
    "\n",
    "df_groups=2 #degrees of freedom numerator (groups)\n",
    "df_error=27 #degrees of freedom denominator (groups)\n",
    "\n",
    "stats.f.ppf(1-.05, dfn=df_groups, dfd=df_error)"
   ]
  },
  {
   "cell_type": "markdown",
   "metadata": {},
   "source": [
    "<a id='linearregression'></a>\n",
    "### Linear Regression\n",
    "The goal of regression is to develop an equation or formula that best describes the relationship between variables.  \n",
    "Recall that the equation of a line follows the form 𝑦=𝑚𝑥+𝑏   \n",
    "In a linear regression the **equation that is used to describe the relationship between variables** is that of a line **𝑦=𝑏0+𝑏1𝑥** where *b0* is the slope of the line, and *𝑏1* is where the line crosses the y axis. Our goal is to predict the value of dependent variable (y) based on that of independent variable (x). \n",
    "\n",
    "How to derive 𝑏1 and 𝑏0?  \n",
    "𝑏1 = 𝜌𝑥𝑦 * (𝜎𝑦 / 𝜎𝑥)\n",
    "𝑏1= sommatoria((𝑥𝑖−x)*(yi-y)) / sommatoria((𝑥𝑖−x)2),  \n",
    "where 𝜌𝑥𝑦 = 𝑃𝑒𝑎𝑟𝑠𝑜𝑛𝐶𝑜𝑟𝑟𝑒𝑙𝑎𝑡𝑖𝑜𝑛Coefficient and 𝜎𝑥,𝜎𝑦 = 𝑆𝑡𝑎𝑛𝑑𝑎𝑟𝑑𝐷𝑒𝑣𝑖𝑎𝑡𝑖𝑜𝑛𝑠  \n",
    "𝑏0 =𝑦 − 𝑏1𝑥\n",
    "\n",
    "**Limitations of Linear**  \n",
    "Regression Anscombe’s Quartet illustrates the pitfalls of relying on pure calculation.\n",
    "Each graph results in the same calculated regression line.\n",
    "\n"
   ]
  },
  {
   "cell_type": "code",
   "execution_count": 15,
   "metadata": {},
   "outputs": [
    {
     "name": "stdout",
     "output_type": "stream",
     "text": [
      " y = -46.0 + 4.5x\n"
     ]
    }
   ],
   "source": [
    "from scipy.stats import linregress\n",
    "\n",
    "x = [34, 35, 39, 42, 43, 47]\n",
    "y = [102, 109, 137, 148, 150, 158]\n",
    "\n",
    "slope = round(linregress(x,y).slope, 1)\n",
    "\n",
    "intercept = round(linregress(x,y).intercept, 1)\n",
    "\n",
    "print( f' y = {intercept} + {slope}x')"
   ]
  },
  {
   "cell_type": "markdown",
   "metadata": {},
   "source": [
    "<a id='multipleregression'></a>\n",
    "### Multiple Regression\n",
    "Multiple regression lets us compare several independent variables to one dependent variable at the same time.  \n",
    "Multiple regression: \n",
    "𝑦= 𝑏0 + 𝑏1𝑥1 +𝑏2𝑥2 + ⋯  \n",
    "The general formula is expanded:\n",
    "* 𝑏1 is the coefficient on 𝑥1\n",
    "* 𝑏1 reflects the change in 𝑦 for a given change in 𝑥1, all else remaining constant\n",
    "\n",
    "However, some predictors might correlate with each other. This is called **multicollinearity**.  \n",
    "Once we’ve chosen our variables x 1 and x 2, we’ll usually test for multicollinearity. We want to know if our two independent variables are closely related to each other If they are, it makes sense to discard one!"
   ]
  },
  {
   "cell_type": "code",
   "execution_count": 16,
   "metadata": {},
   "outputs": [
    {
     "name": "stdout",
     "output_type": "stream",
     "text": [
      " y = 8.0 + 5.0x1 + 2.0x2\n"
     ]
    }
   ],
   "source": [
    "from sklearn.linear_model import LinearRegression\n",
    "\n",
    "x1 ,x2 = [1,3,2,3,1], [8,4,9,6,3]\n",
    "y = [29,31,36,35,19]\n",
    "\n",
    "reg = LinearRegression()\n",
    "\n",
    "reg.fit(list(zip(x1,x2)), y) \n",
    "\n",
    "b1,b2 = reg.coef_[0], reg.coef_[1]\n",
    "\n",
    "b0 = reg.intercept_\n",
    "\n",
    "print( f' y = {b0:.{3}} + {b1:.{3}}x1 + {b2:.{3}}x2')"
   ]
  },
  {
   "cell_type": "markdown",
   "metadata": {},
   "source": [
    "<a id='chisquare'></a>\n",
    "### Chi square test\n",
    "A Chi square Test (also written 𝜒2) is used to determine the probability of an observed frequency of events given an expected frequency.  \n",
    "The key concept is to find the **goodness of fit**.  \n",
    "For example, if we flip a coin 18 times and observe that it comes up heads 12 times, can we say that this is due to chance, or do we assume that our coin is biased?  \n",
    "\n",
    "The chi square formula considers the sum of square distances between observed values O and expected values E, divided by each expected value:\n",
    "𝜒2 = sommatoria((𝑂−𝐸)2 / 𝐸)  \n",
    "\n",
    "**When not to use Chi Square**  \n",
    "Chi square statistics don’t perform well for small expected frequencies. Each cell should have a value greater than 5."
   ]
  },
  {
   "cell_type": "code",
   "execution_count": 17,
   "metadata": {},
   "outputs": [
    {
     "data": {
      "text/plain": [
       "11.070497693516355"
      ]
     },
     "execution_count": 17,
     "metadata": {},
     "output_type": "execute_result"
    }
   ],
   "source": [
    "from scipy.stats import chi2\n",
    "\n",
    "chi2.isf(0.05,5)"
   ]
  },
  {
   "cell_type": "code",
   "execution_count": null,
   "metadata": {},
   "outputs": [],
   "source": []
  }
 ],
 "metadata": {
  "kernelspec": {
   "display_name": "Python 3",
   "language": "python",
   "name": "python3"
  },
  "language_info": {
   "codemirror_mode": {
    "name": "ipython",
    "version": 3
   },
   "file_extension": ".py",
   "mimetype": "text/x-python",
   "name": "python",
   "nbconvert_exporter": "python",
   "pygments_lexer": "ipython3",
   "version": "3.7.6"
  }
 },
 "nbformat": 4,
 "nbformat_minor": 4
}
