{
 "cells": [
  {
   "cell_type": "code",
   "execution_count": 3,
   "metadata": {},
   "outputs": [],
   "source": [
    "import pandas as pd\n",
    "import datetime as dt\n",
    "import os\n",
    "\n",
    "cwd = os.getcwd().rpartition(\"\\\\\")[0]\n",
    "adobe = cwd + r\"\\OneDrive - TIM\\Team performance\\Reports\\SEO\\Download Adobe\\\\\"\n",
    "semrush = cwd + r\"\\OneDrive - TIM\\Team performance\\Reports\\SEO\\Download Semrush\\\\\"\n",
    "fonte_dati_report = cwd + r\"\\OneDrive - TIM\\Team performance\\Reports\\SEO\\Fonte dati report\\\\\"\n",
    "\n",
    "\n",
    "#Adobe\n",
    "traffic = pd.read_csv(adobe + r\"Freeform table - Entry C44 - page url.csv\", sep=\",\", header=[9,10])\n",
    "traffic.columns = traffic.columns.droplevel()\n",
    "traffic.columns = [\"URL\",\"PV Mobile\",\"PV Desktop\",\"Visits Mobile\",\"Visits Desktop\",\"Unique Visitors\"]\n",
    "traffic = traffic[[\"URL\",\"PV Mobile\",\"PV Desktop\",\"Visits Mobile\",\"Visits Desktop\"]]\n",
    "traffic[\"URL\"] = traffic[\"URL\"].str.split('?').str.get(0)\n",
    "traffic[\"URL\"] = traffic[\"URL\"].str.split('#').str.get(0)\n",
    "traffic = traffic.groupby(\"URL\").sum().reset_index().sort_values(by=\"Visits Desktop\", ascending=False)\n"
   ]
  },
  {
   "cell_type": "code",
   "execution_count": 5,
   "metadata": {},
   "outputs": [],
   "source": [
    "#DESKTOP\n",
    "pos = pd.read_excel(semrush +r\"semrush_posizioni_DESKTOP.xlsx\",\n",
    "                    usecols=[\"Keyword\", \"Position\", \"Previous position\", \"Search Volume\", \"Keyword Difficulty\", \"CPC\", \"URL\", \"Traffic\", \"Traffic (%)\", \"Competition\", \"Timestamp\", \"SERP Features by Keyword\"])\n",
    "\n",
    "mese = pos[\"Timestamp\"].max().strftime(\"%m\")\n",
    "anno = pos[\"Timestamp\"].max().strftime(\"%Y\")\n",
    "\n",
    "pos[\"URL\"] = pos[\"URL\"].str.split('?').str.get(0)\n",
    "pos[\"Timestamp\"] = pos[\"Timestamp\"].dt.date.max()\n",
    "pos[\"Device\"] = \"Desktop\"\n",
    "pos = pos[(pos[\"Traffic\"] > 100)]\n",
    "\n",
    "\n",
    "pos_dk = pd.merge(pos,traffic, how=\"left\", on=\"URL\")\n",
    "pos_dk.drop(columns=[\"PV Mobile\",\"Visits Mobile\"], inplace=True)\n",
    "pos_dk.columns = [\"Keyword\", \"Position\", \"Previous position\", \"Search Volume\", \"Keyword Difficulty\", \"CPC\", \"URL\", \"Traffic\", \"Traffic (%)\", \"Competition\", \"Timestamp\", \"SERP Features by Keyword\",\"Device\",\"Page Views\", \"Visits\"]\n",
    "\n",
    "#pos_dk.to_excel(fonte_dati_report + f\"Mesi/posizioni_DESKTOP_{anno}{mese}.xlsx\", index=False)"
   ]
  },
  {
   "cell_type": "code",
   "execution_count": 13,
   "metadata": {},
   "outputs": [],
   "source": [
    "#MOBILE\n",
    "pos_mob = pd.read_excel(semrush +r\"semrush_posizioni_MOBILE.xlsx\",\n",
    "                    usecols=[\"Keyword\", \"Position\", \"Previous position\", \"Search Volume\", \"Keyword Difficulty\", \"CPC\", \"URL\", \"Traffic\", \"Traffic (%)\", \"Competition\", \"Timestamp\", \"SERP Features by Keyword\"])\n",
    "\n",
    "pos_mob[\"URL\"] = pos_mob[\"URL\"].str.split('?').str.get(0)\n",
    "pos_mob[\"Timestamp\"] = pos_mob[\"Timestamp\"].dt.date.max()\n",
    "pos_mob[\"Device\"] = \"Mobile\"\n",
    "\n",
    "pos_mob = pos_mob[(pos_mob[\"Traffic\"] > 100)]\n",
    "\n",
    "pos_mb = pd.merge(pos_mob,traffic, how=\"left\", on=\"URL\")\n",
    "pos_mb.drop(columns=[\"PV Desktop\",\"Visits Desktop\"], inplace=True)\n",
    "pos_mb.columns = [\"Keyword\", \"Position\", \"Previous position\", \"Search Volume\", \"Keyword Difficulty\", \"CPC\", \"URL\", \"Traffic\", \"Traffic (%)\", \"Competition\", \"Timestamp\", \"SERP Features by Keyword\",\"Device\",\"Page Views\", \"Visits\"]\n",
    "\n",
    "#pos_mb.to_excel(fonte_dati_report + f\"Mesi/posizioni_MOBILE_{anno}{mese}.xlsx\", index=False)"
   ]
  },
  {
   "cell_type": "code",
   "execution_count": 16,
   "metadata": {},
   "outputs": [],
   "source": [
    "traffic[\"Timestamp\"] = pos[\"Timestamp\"].max()\n",
    "#traffic.loc[~(traffic[\"URL\"] == \"Entry C44 - page url\")].to_excel(fonte_dati_report + f\"Traffico/traffico_{anno}{mese}.xlsx\", index=False)"
   ]
  },
  {
   "cell_type": "code",
   "execution_count": 30,
   "metadata": {},
   "outputs": [],
   "source": [
    "#LIVELLI\n",
    "liv_des = pos[\"URL\"].str.replace(\"//\",\"/\").str.replace(\"/_\",\"/\").str.split('/', expand=True)\n",
    "liv_des[\"URL\"] = pos[\"URL\"]\n",
    "liv_des[\"URL\"] = liv_des[\"URL\"].str.split('?').str.get(0)\n",
    "liv_des = liv_des[[\"URL\", 2,3,4,5,6]]\n",
    "liv_des.columns = [\"URL\",\"L1\",\"L2\",\"L3\",\"L4\",\"L5\"]\n",
    "liv_des.drop_duplicates(subset=\"URL\", inplace=True)\n",
    "\n",
    "liv_mob = pos_mob[\"URL\"].str.replace(\"//\",\"/\").str.replace(\"/_\",\"/\").str.split('/', expand=True)\n",
    "liv_mob[\"URL\"] = pos_mob[\"URL\"]\n",
    "liv_mob[\"URL\"] = liv_mob[\"URL\"].str.split('?').str.get(0)\n",
    "liv_mob = liv_mob[[\"URL\", 2,3,4,5,6]]\n",
    "liv_mob.columns = [\"URL\",\"L1\",\"L2\",\"L3\",\"L4\",\"L5\"]\n",
    "liv_mob.drop_duplicates(subset=\"URL\", inplace=True)\n",
    "\n",
    "liv_traffic = traffic[\"URL\"].str.replace(\"//\",\"/\").str.replace(\"/_\",\"/\").str.split('/', expand=True)\n",
    "liv_traffic[\"URL\"] = traffic[\"URL\"]\n",
    "liv_traffic = liv_traffic[[\"URL\", 2,3,4,5,6]]\n",
    "liv_traffic.columns = [\"URL\",\"L1\",\"L2\",\"L3\",\"L4\",\"L5\"]\n",
    "liv_traffic.drop_duplicates(subset=\"URL\", inplace=True)\n",
    "\n",
    "liv = pd.concat([liv_des, liv_mob,liv_traffic], axis=0, ignore_index=True)\n",
    "liv.sort_values(by=\"URL\",inplace=True)\n",
    "liv.drop_duplicates(subset=\"URL\", keep=\"first\", inplace= True)\n",
    "\n",
    "#liv.to_excel(fonte_dati_report + f\"Livelli/livelli_{anno}{mese}.xlsx\", index=False)"
   ]
  },
  {
   "cell_type": "code",
   "execution_count": null,
   "metadata": {},
   "outputs": [],
   "source": []
  }
 ],
 "metadata": {
  "kernelspec": {
   "display_name": "Python 3",
   "language": "python",
   "name": "python3"
  },
  "language_info": {
   "codemirror_mode": {
    "name": "ipython",
    "version": 3
   },
   "file_extension": ".py",
   "mimetype": "text/x-python",
   "name": "python",
   "nbconvert_exporter": "python",
   "pygments_lexer": "ipython3",
   "version": "3.8.3"
  }
 },
 "nbformat": 4,
 "nbformat_minor": 4
}
