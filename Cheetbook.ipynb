{
 "cells": [
  {
   "cell_type": "markdown",
   "metadata": {},
   "source": [
    "## Assegnare una variabile in maniera dinamica"
   ]
  },
  {
   "cell_type": "code",
   "execution_count": null,
   "metadata": {},
   "outputs": [],
   "source": [
    "par = {}\n",
    "for file in parametriche_files:\n",
    "    file_name=file.split(\".\")[0]\n",
    "    par[f\"{file_name}\"] = pd.read_excel(parametriche+\"\\\\\"+file)"
   ]
  },
  {
   "cell_type": "code",
   "execution_count": null,
   "metadata": {},
   "outputs": [],
   "source": [
    "for file in parametriche_files:\n",
    "    file_name = file.split(\".\")[0]\n",
    "    globals()[file_name] = pd.read_excel(parametriche + \"\\\\\" + file)"
   ]
  },
  {
   "cell_type": "markdown",
   "metadata": {},
   "source": [
    "## Creare una nuova colonna con il metodo assign  \n",
    "Il metodo .assign(**{\"Codice PRODOTTO\": lambda x: x[\"Codice PRODOTTO\"].astype(str)}) viene utilizzato per assegnare una nuova colonna chiamata \"Codice PRODOTTO\" al DataFrame risultante. La colonna \"Codice PRODOTTO\" viene ottenuta dalla colonna originale \"Codice PRODOTTO\" del DataFrame selezionato, ma viene convertita in formato di stringa (str) utilizzando la funzione astype(str).  \n",
    "  \n",
    "I due asterischi ** sono un operatore chiamato \"unpacking\" o \"keyword argument unpacking\" in Python. Nel contesto del codice fornito, viene utilizzato per passare gli argomenti come parole chiave al metodo .assign().\n",
    "\n",
    "Quando si utilizza ** prima di un oggetto di tipo dizionario ({}), viene effettuato l'unpacking del dizionario in una serie di argomenti chiave-valore separati. In pratica, consente di passare un numero variabile di argomenti come parole chiave a una funzione o a un metodo.\n",
    "\n",
    "Nel caso specifico del codice, **{\"Codice PRODOTTO\": lambda x: x[\"Codice PRODOTTO\"].astype(str)} viene utilizzato per specificare che la colonna \"Codice PRODOTTO\" del DataFrame risultante deve essere assegnata utilizzando la funzione lambda lambda x: x[\"Codice PRODOTTO\"].astype(str), che converte i valori della colonna in stringhe."
   ]
  },
  {
   "cell_type": "code",
   "execution_count": null,
   "metadata": {},
   "outputs": [],
   "source": [
    "cod_prod = pd.DataFrame(par[\"Classificazione_codice_prodotto\"]).loc[:,['MDM', 'GTM BDG', 'Solution','Sub solution',\"Codice PRODOTTO\"]].assign(**{\"Codice PRODOTTO\": lambda x: x[\"Codice PRODOTTO\"].astype(str)})\n",
    "\n",
    "cod_prod.rename(columns={\"Codice PRODOTTO\":\"Codice Prodotto\"}, inplace=True)"
   ]
  },
  {
   "cell_type": "markdown",
   "metadata": {},
   "source": [
    "## Convertire le date espresse in formato numerico (da file xlsb)  \n",
    "Se la condizione è vera, esegue le seguenti operazioni:\n",
    "* Applica una funzione lambda alla colonna utilizzando il metodo .apply(). La funzione lambda converte i valori della colonna da una rappresentazione numerica di data (basata su giorni dal 1900) in una rappresentazione di data e ora utilizzando la formula (float(x) - 25569) * 86400.\n",
    "* Riassegna i valori convertiti alla stessa colonna nel DataFrame cli.\n",
    "* Utilizza il metodo pd.to_datetime() per convertire i valori della colonna in oggetti di tipo datetime, specificando l'unità di tempo come secondi utilizzando l'argomento unit=\"s\"."
   ]
  },
  {
   "cell_type": "code",
   "execution_count": null,
   "metadata": {},
   "outputs": [],
   "source": [
    "for col in cli.columns:\n",
    "    if \"Data\" in col:\n",
    "        \n",
    "        cli[col] = cli[col].apply(lambda x: (float(x) - 25569) * 86400)\n",
    "        cli[col] = pd.to_datetime(cli[col], unit=\"s\")\n",
    "    else:\n",
    "        pass"
   ]
  },
  {
   "cell_type": "markdown",
   "metadata": {},
   "source": [
    "## Concatenare i valori di una colonna riferiti ad un gruppo  \n",
    "\n",
    "1) La colonna \"Solution\" viene convertita in una categoria ordinata utilizzando pd.Categorical(). Questo ordina le categorie in base all'ordine in cui compaiono nel DataFrame originale.\n",
    "2) Il DataFrame viene ordinato in base alla colonna \"Solution\" utilizzando sort_values().\n",
    "3) Viene creata una nuova colonna chiamata \"Prodotti\" che contiene la concatenazione delle categorie \"Solution\" per ogni \"Cliente Merce\". Questo viene fatto utilizzando groupby() per raggruppare il DataFrame per \"Cliente Merce\" e quindi applicando transform() per ogni gruppo. La funzione lambda all'interno di transform() unisce le categorie \"Solution\" di ciascun gruppo separandole con \" + \".\n",
    "4) Infine, viene applicata la funzione remov_duplicates() alla colonna \"Prodotti\" utilizzando apply(). La funzione remov_duplicates() sembra rimuovere eventuali duplicati all'interno della stringa di prodotti, mantenendo solo un'occorrenza di ciascun prodotto."
   ]
  },
  {
   "cell_type": "code",
   "execution_count": null,
   "metadata": {},
   "outputs": [],
   "source": [
    "def concat_prodotti(df_):\n",
    "    df = clienti.loc[:,[\"Solution\", \"Cliente Merce\"]].fillna(\"Senza attribuz.\")\n",
    "    df[\"Solution\"] = pd.Categorical(df[\"Solution\"], np.sort(df[\"Solution\"].unique()))\n",
    "    df.sort_values(by=[\"Solution\"], inplace=True)\n",
    "    df[\"Prodotti\"] = df.groupby(\"Cliente Merce\")[\"Solution\"].transform(lambda x: \" + \".join(x)).apply(lambda x: remov_duplicates(x))\n",
    "    return df[\"Prodotti\"]"
   ]
  },
  {
   "cell_type": "markdown",
   "metadata": {},
   "source": [
    "## Verificare il formato di delle colonne di un Dataframe per applicarlo a quelle di un altro Dataframe con le stesse colonne"
   ]
  },
  {
   "cell_type": "code",
   "execution_count": null,
   "metadata": {},
   "outputs": [],
   "source": [
    "for colonna in inflow.columns:\n",
    "    formato = inflow[colonna][0]  # Assume che tutti i valori abbiano lo stesso formato\n",
    "    if isinstance(formato, str) and isinstance(ins_man[colonna][0], str):\n",
    "        ins_man[colonna] = ins_man[colonna].apply(lambda x: str(x).zfill(len(formato)))"
   ]
  },
  {
   "cell_type": "markdown",
   "metadata": {},
   "source": []
  }
 ],
 "metadata": {
  "kernelspec": {
   "display_name": "base",
   "language": "python",
   "name": "python3"
  },
  "language_info": {
   "codemirror_mode": {
    "name": "ipython",
    "version": 3
   },
   "file_extension": ".py",
   "mimetype": "text/x-python",
   "name": "python",
   "nbconvert_exporter": "python",
   "pygments_lexer": "ipython3",
   "version": "3.9.12"
  },
  "orig_nbformat": 4
 },
 "nbformat": 4,
 "nbformat_minor": 2
}
