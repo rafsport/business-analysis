{
 "cells": [
  {
   "cell_type": "markdown",
   "metadata": {},
   "source": [
    "# Analisi di un DataBase"
   ]
  },
  {
   "cell_type": "markdown",
   "metadata": {},
   "source": [
    "--------"
   ]
  },
  {
   "cell_type": "markdown",
   "metadata": {},
   "source": [
    "Il database contiene gli ordini di un servizio di printing on demand. Gli anni presi in considerazione sono quelli che vanno dal 2015 al 2019.  \n",
    "Tutti i valori sono realistici ma fittizi."
   ]
  },
  {
   "cell_type": "markdown",
   "metadata": {},
   "source": [
    "####  Importo le librerie di Python che utilizzerò per le analisi"
   ]
  },
  {
   "cell_type": "code",
   "execution_count": 2,
   "metadata": {},
   "outputs": [],
   "source": [
    "import pandas as pd\n",
    "import numpy as np\n",
    "import matplotlib.pyplot as plt\n",
    "import matplotlib.ticker as ticker\n",
    "import seaborn as sns\n",
    "import datetime as dt\n",
    "%matplotlib inline\n"
   ]
  },
  {
   "cell_type": "markdown",
   "metadata": {},
   "source": [
    "###  Importo il file e creo il DataFrame"
   ]
  },
  {
   "cell_type": "code",
   "execution_count": 4,
   "metadata": {},
   "outputs": [],
   "source": [
    "orders = pd.read_csv(\"https://raw.githubusercontent.com/rafsport/business-analysis/master/db_orders.csv\", sep=';')"
   ]
  },
  {
   "cell_type": "code",
   "execution_count": 5,
   "metadata": {},
   "outputs": [],
   "source": [
    "orders[\"cover_price\"] = orders[\"cover_price\"].str.replace(\",\", \".\").astype(float)\n",
    "orders[\"selling_price\"] = orders[\"selling_price\"].str.replace(\",\", \".\").astype(float)\n",
    "orders[\"printing_price\"] = orders[\"printing_price\"].str.replace(\",\", \".\").astype(float)\n",
    "orders[\"delivery_price\"] = orders[\"delivery_price\"].str.replace(\",\", \".\").astype(float)\n",
    "orders[\"revenues\"] = orders[\"revenues\"].str.replace(\",\", \".\").astype(float)\n",
    "orders[\"medium_id\"] = orders[\"medium_id\"].astype(str)"
   ]
  },
  {
   "cell_type": "code",
   "execution_count": 6,
   "metadata": {},
   "outputs": [],
   "source": [
    "orders[\"revenues_tot\"] = orders[\"revenues\"] + orders[\"delivery_price\"]"
   ]
  },
  {
   "cell_type": "code",
   "execution_count": 7,
   "metadata": {},
   "outputs": [],
   "source": [
    "orders[\"order_date\"] = pd.to_datetime(orders[\"order_date\"], format='%d/%m/%Y %H:%M', dayfirst = True).dt.floor(\"d\")\n",
    "orders[\"weekday\"] = orders[\"order_date\"].dt.dayofweek"
   ]
  },
  {
   "cell_type": "code",
   "execution_count": 8,
   "metadata": {},
   "outputs": [],
   "source": [
    "orders[\"firstsignin\"] = pd.to_datetime(orders[\"firstsignin\"], format='%d/%m/%Y %H:%M', dayfirst = True).dt.floor(\"d\")\n",
    "orders[\"firstsubscriptiontime\"] = pd.to_datetime(orders[\"firstsubscriptiontime\"], format='%d/%m/%Y %H:%M', dayfirst = True).dt.floor(\"d\")\n",
    "orders[\"signin\"] = pd.to_datetime(orders[\"signin\"], format='%d/%m/%Y %H:%M', dayfirst = True).dt.floor(\"d\")\n",
    "orders[\"signin_author\"] = pd.to_datetime(orders[\"signin_author\"], format='%d/%m/%Y %H:%M', dayfirst = True).dt.floor(\"d\")"
   ]
  },
  {
   "cell_type": "code",
   "execution_count": 17,
   "metadata": {},
   "outputs": [],
   "source": [
    "#Numero di ordini per cliente\n",
    "orders['num_ords'] = orders.groupby(['client_id', 'order_id']).ngroup()\n",
    "orders['num_ords'] = orders.num_ords - orders.groupby(['client_id']).num_ords.transform('min')+1\n"
   ]
  },
  {
   "cell_type": "code",
   "execution_count": 18,
   "metadata": {},
   "outputs": [],
   "source": [
    "#Numero di giorni tra i molteplici ordini di uno stesso cliente\n",
    "orders['days_bt_ord'] = (orders.order_date -orders.groupby('client_id').order_date.transform('min')).dt.days \n",
    "\n",
    "#Numero di giorni tra i molteplici ordini di uno stesso cliente sullo stesso libro\n",
    "orders['days_bt_ord_per_medium'] = (orders.order_date - orders.groupby(['client_id', 'medium_id']).order_date.transform('min')).dt.days"
   ]
  },
  {
   "cell_type": "code",
   "execution_count": null,
   "metadata": {},
   "outputs": [],
   "source": []
  },
  {
   "cell_type": "markdown",
   "metadata": {},
   "source": [
    "\n",
    "Al termine delle operazioni di creazione e formattazione il DataFrame appare così:"
   ]
  },
  {
   "cell_type": "code",
   "execution_count": 14,
   "metadata": {},
   "outputs": [
    {
     "data": {
      "text/plain": [
       "order_id                          object\n",
       "order_date                datetime64[ns]\n",
       "client_id                         object\n",
       "firstsignin               datetime64[ns]\n",
       "firstsubscriptiontime     datetime64[ns]\n",
       "signin                    datetime64[ns]\n",
       "signin_author             datetime64[ns]\n",
       "medium_id                         object\n",
       "product_type                      object\n",
       "characteristic                    object\n",
       "size                             float64\n",
       "paper                             object\n",
       "cover                             object\n",
       "color                             object\n",
       "pages                            float64\n",
       "cover_price                      float64\n",
       "selling_price                    float64\n",
       "printing_price                   float64\n",
       "delivery_price                   float64\n",
       "units                              int64\n",
       "revenues                         float64\n",
       "revenues_tot                     float64\n",
       "weekday                            int64\n",
       "num_ords                           int64\n",
       "days_bt_ord                        int64\n",
       "days_bt_ord_per_medium             int64\n",
       "dtype: object"
      ]
     },
     "execution_count": 14,
     "metadata": {},
     "output_type": "execute_result"
    }
   ],
   "source": [
    "orders.dtypes"
   ]
  },
  {
   "cell_type": "code",
   "execution_count": 16,
   "metadata": {},
   "outputs": [
    {
     "data": {
      "text/html": [
       "<div>\n",
       "<style scoped>\n",
       "    .dataframe tbody tr th:only-of-type {\n",
       "        vertical-align: middle;\n",
       "    }\n",
       "\n",
       "    .dataframe tbody tr th {\n",
       "        vertical-align: top;\n",
       "    }\n",
       "\n",
       "    .dataframe thead th {\n",
       "        text-align: right;\n",
       "    }\n",
       "</style>\n",
       "<table border=\"1\" class=\"dataframe\">\n",
       "  <thead>\n",
       "    <tr style=\"text-align: right;\">\n",
       "      <th></th>\n",
       "      <th>order_id</th>\n",
       "      <th>order_date</th>\n",
       "      <th>client_id</th>\n",
       "      <th>firstsignin</th>\n",
       "      <th>firstsubscriptiontime</th>\n",
       "      <th>signin</th>\n",
       "      <th>signin_author</th>\n",
       "      <th>medium_id</th>\n",
       "      <th>product_type</th>\n",
       "      <th>characteristic</th>\n",
       "      <th>...</th>\n",
       "      <th>selling_price</th>\n",
       "      <th>printing_price</th>\n",
       "      <th>delivery_price</th>\n",
       "      <th>units</th>\n",
       "      <th>revenues</th>\n",
       "      <th>revenues_tot</th>\n",
       "      <th>weekday</th>\n",
       "      <th>num_ords</th>\n",
       "      <th>days_bt_ord</th>\n",
       "      <th>days_bt_ord_per_medium</th>\n",
       "    </tr>\n",
       "  </thead>\n",
       "  <tbody>\n",
       "    <tr>\n",
       "      <th>51990</th>\n",
       "      <td>order_id - 154239</td>\n",
       "      <td>2018-07-06</td>\n",
       "      <td>client_id - 36105</td>\n",
       "      <td>2018-05-29</td>\n",
       "      <td>2018-05-29</td>\n",
       "      <td>2018-05-29</td>\n",
       "      <td>2018-06-18</td>\n",
       "      <td>medium_id - 121256</td>\n",
       "      <td>book</td>\n",
       "      <td>120.180MORCL4</td>\n",
       "      <td>...</td>\n",
       "      <td>14.0</td>\n",
       "      <td>13.06</td>\n",
       "      <td>6.97</td>\n",
       "      <td>1</td>\n",
       "      <td>15.28</td>\n",
       "      <td>22.25</td>\n",
       "      <td>4</td>\n",
       "      <td>2</td>\n",
       "      <td>18</td>\n",
       "      <td>0</td>\n",
       "    </tr>\n",
       "    <tr>\n",
       "      <th>49681</th>\n",
       "      <td>order_id - 152315</td>\n",
       "      <td>2018-04-16</td>\n",
       "      <td>client_id - 15722</td>\n",
       "      <td>2010-12-22</td>\n",
       "      <td>2010-12-22</td>\n",
       "      <td>2015-06-24</td>\n",
       "      <td>2016-01-08</td>\n",
       "      <td>medium_id - 119879</td>\n",
       "      <td>book</td>\n",
       "      <td>150.230MORBN4</td>\n",
       "      <td>...</td>\n",
       "      <td>16.0</td>\n",
       "      <td>9.59</td>\n",
       "      <td>7.94</td>\n",
       "      <td>4</td>\n",
       "      <td>44.88</td>\n",
       "      <td>52.82</td>\n",
       "      <td>0</td>\n",
       "      <td>16</td>\n",
       "      <td>829</td>\n",
       "      <td>0</td>\n",
       "    </tr>\n",
       "    <tr>\n",
       "      <th>51834</th>\n",
       "      <td>order_id - 154102</td>\n",
       "      <td>2018-06-29</td>\n",
       "      <td>client_id - 6600</td>\n",
       "      <td>2008-08-18</td>\n",
       "      <td>2008-08-18</td>\n",
       "      <td>2015-06-23</td>\n",
       "      <td>2015-06-27</td>\n",
       "      <td>medium_id - 120841</td>\n",
       "      <td>book</td>\n",
       "      <td>120.180MORCL4</td>\n",
       "      <td>...</td>\n",
       "      <td>12.5</td>\n",
       "      <td>9.88</td>\n",
       "      <td>3.62</td>\n",
       "      <td>1</td>\n",
       "      <td>11.55</td>\n",
       "      <td>15.17</td>\n",
       "      <td>4</td>\n",
       "      <td>8</td>\n",
       "      <td>1219</td>\n",
       "      <td>18</td>\n",
       "    </tr>\n",
       "    <tr>\n",
       "      <th>67472</th>\n",
       "      <td>order_id - 167268</td>\n",
       "      <td>2019-12-08</td>\n",
       "      <td>client_id - 30150</td>\n",
       "      <td>2014-04-17</td>\n",
       "      <td>2014-04-17</td>\n",
       "      <td>2015-07-14</td>\n",
       "      <td>2015-07-03</td>\n",
       "      <td>medium_id - 108458</td>\n",
       "      <td>book</td>\n",
       "      <td>114.172MORBN4</td>\n",
       "      <td>...</td>\n",
       "      <td>11.5</td>\n",
       "      <td>6.68</td>\n",
       "      <td>3.27</td>\n",
       "      <td>2</td>\n",
       "      <td>15.63</td>\n",
       "      <td>18.90</td>\n",
       "      <td>6</td>\n",
       "      <td>22</td>\n",
       "      <td>1609</td>\n",
       "      <td>1105</td>\n",
       "    </tr>\n",
       "    <tr>\n",
       "      <th>39119</th>\n",
       "      <td>order_id - 143259</td>\n",
       "      <td>2017-06-21</td>\n",
       "      <td>client_id - 28392</td>\n",
       "      <td>2014-01-28</td>\n",
       "      <td>2014-01-28</td>\n",
       "      <td>2015-06-25</td>\n",
       "      <td>2015-08-18</td>\n",
       "      <td>medium_id - 113241</td>\n",
       "      <td>book</td>\n",
       "      <td>114.172MORBN4</td>\n",
       "      <td>...</td>\n",
       "      <td>10.0</td>\n",
       "      <td>5.48</td>\n",
       "      <td>6.97</td>\n",
       "      <td>10</td>\n",
       "      <td>62.24</td>\n",
       "      <td>69.21</td>\n",
       "      <td>2</td>\n",
       "      <td>20</td>\n",
       "      <td>887</td>\n",
       "      <td>0</td>\n",
       "    </tr>\n",
       "  </tbody>\n",
       "</table>\n",
       "<p>5 rows × 26 columns</p>\n",
       "</div>"
      ],
      "text/plain": [
       "                order_id order_date          client_id firstsignin  \\\n",
       "51990  order_id - 154239 2018-07-06  client_id - 36105  2018-05-29   \n",
       "49681  order_id - 152315 2018-04-16  client_id - 15722  2010-12-22   \n",
       "51834  order_id - 154102 2018-06-29   client_id - 6600  2008-08-18   \n",
       "67472  order_id - 167268 2019-12-08  client_id - 30150  2014-04-17   \n",
       "39119  order_id - 143259 2017-06-21  client_id - 28392  2014-01-28   \n",
       "\n",
       "      firstsubscriptiontime     signin signin_author           medium_id  \\\n",
       "51990            2018-05-29 2018-05-29    2018-06-18  medium_id - 121256   \n",
       "49681            2010-12-22 2015-06-24    2016-01-08  medium_id - 119879   \n",
       "51834            2008-08-18 2015-06-23    2015-06-27  medium_id - 120841   \n",
       "67472            2014-04-17 2015-07-14    2015-07-03  medium_id - 108458   \n",
       "39119            2014-01-28 2015-06-25    2015-08-18  medium_id - 113241   \n",
       "\n",
       "      product_type characteristic           ...            selling_price  \\\n",
       "51990         book  120.180MORCL4           ...                     14.0   \n",
       "49681         book  150.230MORBN4           ...                     16.0   \n",
       "51834         book  120.180MORCL4           ...                     12.5   \n",
       "67472         book  114.172MORBN4           ...                     11.5   \n",
       "39119         book  114.172MORBN4           ...                     10.0   \n",
       "\n",
       "      printing_price delivery_price units  revenues  revenues_tot  weekday  \\\n",
       "51990          13.06           6.97     1     15.28         22.25        4   \n",
       "49681           9.59           7.94     4     44.88         52.82        0   \n",
       "51834           9.88           3.62     1     11.55         15.17        4   \n",
       "67472           6.68           3.27     2     15.63         18.90        6   \n",
       "39119           5.48           6.97    10     62.24         69.21        2   \n",
       "\n",
       "       num_ords  days_bt_ord  days_bt_ord_per_medium  \n",
       "51990         2           18                       0  \n",
       "49681        16          829                       0  \n",
       "51834         8         1219                      18  \n",
       "67472        22         1609                    1105  \n",
       "39119        20          887                       0  \n",
       "\n",
       "[5 rows x 26 columns]"
      ]
     },
     "execution_count": 16,
     "metadata": {},
     "output_type": "execute_result"
    }
   ],
   "source": [
    "orders.sample(5)"
   ]
  },
  {
   "cell_type": "markdown",
   "metadata": {},
   "source": []
  },
  {
   "cell_type": "markdown",
   "metadata": {},
   "source": [
    "###  Numero di clienti unici suddivisi per mese e anno"
   ]
  },
  {
   "cell_type": "markdown",
   "metadata": {},
   "source": [
    "Voglio sapere il numero di clienti che hanno fatto almeno un acquisto avendo come base temporale il mese.  \n",
    "La rappresentazione grafica a tabella permette di confrontare facilmente sia i mesi di un anno specifico sia i mesi di anni diversi."
   ]
  },
  {
   "cell_type": "code",
   "execution_count": 19,
   "metadata": {},
   "outputs": [
    {
     "data": {
      "text/html": [
       "<style  type=\"text/css\" >\n",
       "    #T_13d45b70_3b7b_11ea_85e5_00216afa0554row0_col0 {\n",
       "            background-color:  #90c866;\n",
       "        }    #T_13d45b70_3b7b_11ea_85e5_00216afa0554row0_col1 {\n",
       "            background-color:  #ffff66;\n",
       "        }    #T_13d45b70_3b7b_11ea_85e5_00216afa0554row0_col2 {\n",
       "            background-color:  #6eb666;\n",
       "        }    #T_13d45b70_3b7b_11ea_85e5_00216afa0554row0_col3 {\n",
       "            background-color:  #70b866;\n",
       "        }    #T_13d45b70_3b7b_11ea_85e5_00216afa0554row0_col4 {\n",
       "            background-color:  #ffff66;\n",
       "        }    #T_13d45b70_3b7b_11ea_85e5_00216afa0554row1_col0 {\n",
       "            background-color:  #4fa766;\n",
       "        }    #T_13d45b70_3b7b_11ea_85e5_00216afa0554row1_col1 {\n",
       "            background-color:  #c8e366;\n",
       "        }    #T_13d45b70_3b7b_11ea_85e5_00216afa0554row1_col2 {\n",
       "            background-color:  #0c8666;\n",
       "        }    #T_13d45b70_3b7b_11ea_85e5_00216afa0554row1_col3 {\n",
       "            background-color:  #7dbe66;\n",
       "        }    #T_13d45b70_3b7b_11ea_85e5_00216afa0554row1_col4 {\n",
       "            background-color:  #d3e966;\n",
       "        }    #T_13d45b70_3b7b_11ea_85e5_00216afa0554row2_col0 {\n",
       "            background-color:  #ecf666;\n",
       "        }    #T_13d45b70_3b7b_11ea_85e5_00216afa0554row2_col1 {\n",
       "            background-color:  #b5da66;\n",
       "        }    #T_13d45b70_3b7b_11ea_85e5_00216afa0554row2_col2 {\n",
       "            background-color:  #56ab66;\n",
       "        }    #T_13d45b70_3b7b_11ea_85e5_00216afa0554row2_col3 {\n",
       "            background-color:  #3d9e66;\n",
       "        }    #T_13d45b70_3b7b_11ea_85e5_00216afa0554row2_col4 {\n",
       "            background-color:  #87c366;\n",
       "        }    #T_13d45b70_3b7b_11ea_85e5_00216afa0554row3_col0 {\n",
       "            background-color:  #4aa466;\n",
       "        }    #T_13d45b70_3b7b_11ea_85e5_00216afa0554row3_col1 {\n",
       "            background-color:  #68b366;\n",
       "        }    #T_13d45b70_3b7b_11ea_85e5_00216afa0554row3_col2 {\n",
       "            background-color:  #70b866;\n",
       "        }    #T_13d45b70_3b7b_11ea_85e5_00216afa0554row3_col3 {\n",
       "            background-color:  #008066;\n",
       "        }    #T_13d45b70_3b7b_11ea_85e5_00216afa0554row3_col4 {\n",
       "            background-color:  #63b166;\n",
       "        }    #T_13d45b70_3b7b_11ea_85e5_00216afa0554row4_col0 {\n",
       "            background-color:  #70b866;\n",
       "        }    #T_13d45b70_3b7b_11ea_85e5_00216afa0554row4_col1 {\n",
       "            background-color:  #dcee66;\n",
       "        }    #T_13d45b70_3b7b_11ea_85e5_00216afa0554row4_col2 {\n",
       "            background-color:  #299466;\n",
       "        }    #T_13d45b70_3b7b_11ea_85e5_00216afa0554row4_col3 {\n",
       "            background-color:  #158a66;\n",
       "        }    #T_13d45b70_3b7b_11ea_85e5_00216afa0554row4_col4 {\n",
       "            background-color:  #4aa466;\n",
       "        }    #T_13d45b70_3b7b_11ea_85e5_00216afa0554row5_col0 {\n",
       "            background-color:  #008066;\n",
       "        }    #T_13d45b70_3b7b_11ea_85e5_00216afa0554row5_col1 {\n",
       "            background-color:  #008066;\n",
       "        }    #T_13d45b70_3b7b_11ea_85e5_00216afa0554row5_col2 {\n",
       "            background-color:  #3e9e66;\n",
       "        }    #T_13d45b70_3b7b_11ea_85e5_00216afa0554row5_col3 {\n",
       "            background-color:  #359a66;\n",
       "        }    #T_13d45b70_3b7b_11ea_85e5_00216afa0554row5_col4 {\n",
       "            background-color:  #2c9666;\n",
       "        }    #T_13d45b70_3b7b_11ea_85e5_00216afa0554row6_col0 {\n",
       "            background-color:  #3f9f66;\n",
       "        }    #T_13d45b70_3b7b_11ea_85e5_00216afa0554row6_col1 {\n",
       "            background-color:  #0b8566;\n",
       "        }    #T_13d45b70_3b7b_11ea_85e5_00216afa0554row6_col2 {\n",
       "            background-color:  #40a066;\n",
       "        }    #T_13d45b70_3b7b_11ea_85e5_00216afa0554row6_col3 {\n",
       "            background-color:  #249266;\n",
       "        }    #T_13d45b70_3b7b_11ea_85e5_00216afa0554row6_col4 {\n",
       "            background-color:  #2b9566;\n",
       "        }    #T_13d45b70_3b7b_11ea_85e5_00216afa0554row7_col0 {\n",
       "            background-color:  #5bad66;\n",
       "        }    #T_13d45b70_3b7b_11ea_85e5_00216afa0554row7_col1 {\n",
       "            background-color:  #80c066;\n",
       "        }    #T_13d45b70_3b7b_11ea_85e5_00216afa0554row7_col2 {\n",
       "            background-color:  #ffff66;\n",
       "        }    #T_13d45b70_3b7b_11ea_85e5_00216afa0554row7_col3 {\n",
       "            background-color:  #ffff66;\n",
       "        }    #T_13d45b70_3b7b_11ea_85e5_00216afa0554row7_col4 {\n",
       "            background-color:  #008066;\n",
       "        }    #T_13d45b70_3b7b_11ea_85e5_00216afa0554row8_col0 {\n",
       "            background-color:  #4fa766;\n",
       "        }    #T_13d45b70_3b7b_11ea_85e5_00216afa0554row8_col1 {\n",
       "            background-color:  #64b266;\n",
       "        }    #T_13d45b70_3b7b_11ea_85e5_00216afa0554row8_col2 {\n",
       "            background-color:  #2c9666;\n",
       "        }    #T_13d45b70_3b7b_11ea_85e5_00216afa0554row8_col3 {\n",
       "            background-color:  #108866;\n",
       "        }    #T_13d45b70_3b7b_11ea_85e5_00216afa0554row8_col4 {\n",
       "            background-color:  #008066;\n",
       "        }    #T_13d45b70_3b7b_11ea_85e5_00216afa0554row9_col0 {\n",
       "            background-color:  #50a866;\n",
       "        }    #T_13d45b70_3b7b_11ea_85e5_00216afa0554row9_col1 {\n",
       "            background-color:  #4ba566;\n",
       "        }    #T_13d45b70_3b7b_11ea_85e5_00216afa0554row9_col2 {\n",
       "            background-color:  #008066;\n",
       "        }    #T_13d45b70_3b7b_11ea_85e5_00216afa0554row9_col3 {\n",
       "            background-color:  #2c9666;\n",
       "        }    #T_13d45b70_3b7b_11ea_85e5_00216afa0554row9_col4 {\n",
       "            background-color:  #329866;\n",
       "        }    #T_13d45b70_3b7b_11ea_85e5_00216afa0554row10_col0 {\n",
       "            background-color:  #c0e066;\n",
       "        }    #T_13d45b70_3b7b_11ea_85e5_00216afa0554row10_col1 {\n",
       "            background-color:  #d8ec66;\n",
       "        }    #T_13d45b70_3b7b_11ea_85e5_00216afa0554row10_col2 {\n",
       "            background-color:  #6db666;\n",
       "        }    #T_13d45b70_3b7b_11ea_85e5_00216afa0554row10_col3 {\n",
       "            background-color:  #69b466;\n",
       "        }    #T_13d45b70_3b7b_11ea_85e5_00216afa0554row10_col4 {\n",
       "            background-color:  #5dae66;\n",
       "        }    #T_13d45b70_3b7b_11ea_85e5_00216afa0554row11_col0 {\n",
       "            background-color:  #ffff66;\n",
       "        }    #T_13d45b70_3b7b_11ea_85e5_00216afa0554row11_col1 {\n",
       "            background-color:  #c6e266;\n",
       "        }    #T_13d45b70_3b7b_11ea_85e5_00216afa0554row11_col2 {\n",
       "            background-color:  #70b866;\n",
       "        }    #T_13d45b70_3b7b_11ea_85e5_00216afa0554row11_col3 {\n",
       "            background-color:  #74ba66;\n",
       "        }    #T_13d45b70_3b7b_11ea_85e5_00216afa0554row11_col4 {\n",
       "            background-color:  #70b866;\n",
       "        }</style>  \n",
       "<table id=\"T_13d45b70_3b7b_11ea_85e5_00216afa0554\" > \n",
       "<thead>    <tr> \n",
       "        <th class=\"index_name level0\" >order_year</th> \n",
       "        <th class=\"col_heading level0 col0\" >2015</th> \n",
       "        <th class=\"col_heading level0 col1\" >2016</th> \n",
       "        <th class=\"col_heading level0 col2\" >2017</th> \n",
       "        <th class=\"col_heading level0 col3\" >2018</th> \n",
       "        <th class=\"col_heading level0 col4\" >2019</th> \n",
       "    </tr>    <tr> \n",
       "        <th class=\"index_name level0\" >order_month</th> \n",
       "        <th class=\"blank\" ></th> \n",
       "        <th class=\"blank\" ></th> \n",
       "        <th class=\"blank\" ></th> \n",
       "        <th class=\"blank\" ></th> \n",
       "        <th class=\"blank\" ></th> \n",
       "    </tr></thead> \n",
       "<tbody>    <tr> \n",
       "        <th id=\"T_13d45b70_3b7b_11ea_85e5_00216afa0554level0_row0\" class=\"row_heading level0 row0\" >1</th> \n",
       "        <td id=\"T_13d45b70_3b7b_11ea_85e5_00216afa0554row0_col0\" class=\"data row0 col0\" >867</td> \n",
       "        <td id=\"T_13d45b70_3b7b_11ea_85e5_00216afa0554row0_col1\" class=\"data row0 col1\" >912</td> \n",
       "        <td id=\"T_13d45b70_3b7b_11ea_85e5_00216afa0554row0_col2\" class=\"data row0 col2\" >768</td> \n",
       "        <td id=\"T_13d45b70_3b7b_11ea_85e5_00216afa0554row0_col3\" class=\"data row0 col3\" >725</td> \n",
       "        <td id=\"T_13d45b70_3b7b_11ea_85e5_00216afa0554row0_col4\" class=\"data row0 col4\" >713</td> \n",
       "    </tr>    <tr> \n",
       "        <th id=\"T_13d45b70_3b7b_11ea_85e5_00216afa0554level0_row1\" class=\"row_heading level0 row1\" >2</th> \n",
       "        <td id=\"T_13d45b70_3b7b_11ea_85e5_00216afa0554row1_col0\" class=\"data row1 col0\" >768</td> \n",
       "        <td id=\"T_13d45b70_3b7b_11ea_85e5_00216afa0554row1_col1\" class=\"data row1 col1\" >861</td> \n",
       "        <td id=\"T_13d45b70_3b7b_11ea_85e5_00216afa0554row1_col2\" class=\"data row1 col2\" >632</td> \n",
       "        <td id=\"T_13d45b70_3b7b_11ea_85e5_00216afa0554row1_col3\" class=\"data row1 col3\" >749</td> \n",
       "        <td id=\"T_13d45b70_3b7b_11ea_85e5_00216afa0554row1_col4\" class=\"data row1 col4\" >659</td> \n",
       "    </tr>    <tr> \n",
       "        <th id=\"T_13d45b70_3b7b_11ea_85e5_00216afa0554level0_row2\" class=\"row_heading level0 row2\" >3</th> \n",
       "        <td id=\"T_13d45b70_3b7b_11ea_85e5_00216afa0554row2_col0\" class=\"data row2 col0\" >1008</td> \n",
       "        <td id=\"T_13d45b70_3b7b_11ea_85e5_00216afa0554row2_col1\" class=\"data row2 col1\" >844</td> \n",
       "        <td id=\"T_13d45b70_3b7b_11ea_85e5_00216afa0554row2_col2\" class=\"data row2 col2\" >734</td> \n",
       "        <td id=\"T_13d45b70_3b7b_11ea_85e5_00216afa0554row2_col3\" class=\"data row2 col3\" >634</td> \n",
       "        <td id=\"T_13d45b70_3b7b_11ea_85e5_00216afa0554row2_col4\" class=\"data row2 col4\" >567</td> \n",
       "    </tr>    <tr> \n",
       "        <th id=\"T_13d45b70_3b7b_11ea_85e5_00216afa0554level0_row3\" class=\"row_heading level0 row3\" >4</th> \n",
       "        <td id=\"T_13d45b70_3b7b_11ea_85e5_00216afa0554row3_col0\" class=\"data row3 col0\" >760</td> \n",
       "        <td id=\"T_13d45b70_3b7b_11ea_85e5_00216afa0554row3_col1\" class=\"data row3 col1\" >773</td> \n",
       "        <td id=\"T_13d45b70_3b7b_11ea_85e5_00216afa0554row3_col2\" class=\"data row3 col2\" >771</td> \n",
       "        <td id=\"T_13d45b70_3b7b_11ea_85e5_00216afa0554row3_col3\" class=\"data row3 col3\" >524</td> \n",
       "        <td id=\"T_13d45b70_3b7b_11ea_85e5_00216afa0554row3_col4\" class=\"data row3 col4\" >523</td> \n",
       "    </tr>    <tr> \n",
       "        <th id=\"T_13d45b70_3b7b_11ea_85e5_00216afa0554level0_row4\" class=\"row_heading level0 row4\" >5</th> \n",
       "        <td id=\"T_13d45b70_3b7b_11ea_85e5_00216afa0554row4_col0\" class=\"data row4 col0\" >819</td> \n",
       "        <td id=\"T_13d45b70_3b7b_11ea_85e5_00216afa0554row4_col1\" class=\"data row4 col1\" >879</td> \n",
       "        <td id=\"T_13d45b70_3b7b_11ea_85e5_00216afa0554row4_col2\" class=\"data row4 col2\" >673</td> \n",
       "        <td id=\"T_13d45b70_3b7b_11ea_85e5_00216afa0554row4_col3\" class=\"data row4 col3\" >563</td> \n",
       "        <td id=\"T_13d45b70_3b7b_11ea_85e5_00216afa0554row4_col4\" class=\"data row4 col4\" >493</td> \n",
       "    </tr>    <tr> \n",
       "        <th id=\"T_13d45b70_3b7b_11ea_85e5_00216afa0554level0_row5\" class=\"row_heading level0 row5\" >6</th> \n",
       "        <td id=\"T_13d45b70_3b7b_11ea_85e5_00216afa0554row5_col0\" class=\"data row5 col0\" >647</td> \n",
       "        <td id=\"T_13d45b70_3b7b_11ea_85e5_00216afa0554row5_col1\" class=\"data row5 col1\" >677</td> \n",
       "        <td id=\"T_13d45b70_3b7b_11ea_85e5_00216afa0554row5_col2\" class=\"data row5 col2\" >702</td> \n",
       "        <td id=\"T_13d45b70_3b7b_11ea_85e5_00216afa0554row5_col3\" class=\"data row5 col3\" >620</td> \n",
       "        <td id=\"T_13d45b70_3b7b_11ea_85e5_00216afa0554row5_col4\" class=\"data row5 col4\" >456</td> \n",
       "    </tr>    <tr> \n",
       "        <th id=\"T_13d45b70_3b7b_11ea_85e5_00216afa0554level0_row6\" class=\"row_heading level0 row6\" >7</th> \n",
       "        <td id=\"T_13d45b70_3b7b_11ea_85e5_00216afa0554row6_col0\" class=\"data row6 col0\" >743</td> \n",
       "        <td id=\"T_13d45b70_3b7b_11ea_85e5_00216afa0554row6_col1\" class=\"data row6 col1\" >688</td> \n",
       "        <td id=\"T_13d45b70_3b7b_11ea_85e5_00216afa0554row6_col2\" class=\"data row6 col2\" >704</td> \n",
       "        <td id=\"T_13d45b70_3b7b_11ea_85e5_00216afa0554row6_col3\" class=\"data row6 col3\" >589</td> \n",
       "        <td id=\"T_13d45b70_3b7b_11ea_85e5_00216afa0554row6_col4\" class=\"data row6 col4\" >455</td> \n",
       "    </tr>    <tr> \n",
       "        <th id=\"T_13d45b70_3b7b_11ea_85e5_00216afa0554level0_row7\" class=\"row_heading level0 row7\" >8</th> \n",
       "        <td id=\"T_13d45b70_3b7b_11ea_85e5_00216afa0554row7_col0\" class=\"data row7 col0\" >786</td> \n",
       "        <td id=\"T_13d45b70_3b7b_11ea_85e5_00216afa0554row7_col1\" class=\"data row7 col1\" >795</td> \n",
       "        <td id=\"T_13d45b70_3b7b_11ea_85e5_00216afa0554row7_col2\" class=\"data row7 col2\" >969</td> \n",
       "        <td id=\"T_13d45b70_3b7b_11ea_85e5_00216afa0554row7_col3\" class=\"data row7 col3\" >982</td> \n",
       "        <td id=\"T_13d45b70_3b7b_11ea_85e5_00216afa0554row7_col4\" class=\"data row7 col4\" >402</td> \n",
       "    </tr>    <tr> \n",
       "        <th id=\"T_13d45b70_3b7b_11ea_85e5_00216afa0554level0_row8\" class=\"row_heading level0 row8\" >9</th> \n",
       "        <td id=\"T_13d45b70_3b7b_11ea_85e5_00216afa0554row8_col0\" class=\"data row8 col0\" >768</td> \n",
       "        <td id=\"T_13d45b70_3b7b_11ea_85e5_00216afa0554row8_col1\" class=\"data row8 col1\" >769</td> \n",
       "        <td id=\"T_13d45b70_3b7b_11ea_85e5_00216afa0554row8_col2\" class=\"data row8 col2\" >677</td> \n",
       "        <td id=\"T_13d45b70_3b7b_11ea_85e5_00216afa0554row8_col3\" class=\"data row8 col3\" >554</td> \n",
       "        <td id=\"T_13d45b70_3b7b_11ea_85e5_00216afa0554row8_col4\" class=\"data row8 col4\" >403</td> \n",
       "    </tr>    <tr> \n",
       "        <th id=\"T_13d45b70_3b7b_11ea_85e5_00216afa0554level0_row9\" class=\"row_heading level0 row9\" >10</th> \n",
       "        <td id=\"T_13d45b70_3b7b_11ea_85e5_00216afa0554row9_col0\" class=\"data row9 col0\" >769</td> \n",
       "        <td id=\"T_13d45b70_3b7b_11ea_85e5_00216afa0554row9_col1\" class=\"data row9 col1\" >746</td> \n",
       "        <td id=\"T_13d45b70_3b7b_11ea_85e5_00216afa0554row9_col2\" class=\"data row9 col2\" >615</td> \n",
       "        <td id=\"T_13d45b70_3b7b_11ea_85e5_00216afa0554row9_col3\" class=\"data row9 col3\" >604</td> \n",
       "        <td id=\"T_13d45b70_3b7b_11ea_85e5_00216afa0554row9_col4\" class=\"data row9 col4\" >463</td> \n",
       "    </tr>    <tr> \n",
       "        <th id=\"T_13d45b70_3b7b_11ea_85e5_00216afa0554level0_row10\" class=\"row_heading level0 row10\" >11</th> \n",
       "        <td id=\"T_13d45b70_3b7b_11ea_85e5_00216afa0554row10_col0\" class=\"data row10 col0\" >940</td> \n",
       "        <td id=\"T_13d45b70_3b7b_11ea_85e5_00216afa0554row10_col1\" class=\"data row10 col1\" >876</td> \n",
       "        <td id=\"T_13d45b70_3b7b_11ea_85e5_00216afa0554row10_col2\" class=\"data row10 col2\" >766</td> \n",
       "        <td id=\"T_13d45b70_3b7b_11ea_85e5_00216afa0554row10_col3\" class=\"data row10 col3\" >713</td> \n",
       "        <td id=\"T_13d45b70_3b7b_11ea_85e5_00216afa0554row10_col4\" class=\"data row10 col4\" >516</td> \n",
       "    </tr>    <tr> \n",
       "        <th id=\"T_13d45b70_3b7b_11ea_85e5_00216afa0554level0_row11\" class=\"row_heading level0 row11\" >12</th> \n",
       "        <td id=\"T_13d45b70_3b7b_11ea_85e5_00216afa0554row11_col0\" class=\"data row11 col0\" >1037</td> \n",
       "        <td id=\"T_13d45b70_3b7b_11ea_85e5_00216afa0554row11_col1\" class=\"data row11 col1\" >859</td> \n",
       "        <td id=\"T_13d45b70_3b7b_11ea_85e5_00216afa0554row11_col2\" class=\"data row11 col2\" >770</td> \n",
       "        <td id=\"T_13d45b70_3b7b_11ea_85e5_00216afa0554row11_col3\" class=\"data row11 col3\" >732</td> \n",
       "        <td id=\"T_13d45b70_3b7b_11ea_85e5_00216afa0554row11_col4\" class=\"data row11 col4\" >539</td> \n",
       "    </tr></tbody> \n",
       "</table> "
      ],
      "text/plain": [
       "<pandas.io.formats.style.Styler at 0x2893d4cc518>"
      ]
     },
     "execution_count": 19,
     "metadata": {},
     "output_type": "execute_result"
    }
   ],
   "source": [
    "orders[\"order_year\"] = orders[\"order_date\"].dt.year\n",
    "orders[\"order_month\"] = orders[\"order_date\"].dt.month\n",
    "\n",
    "orders.pivot_table(values=\"client_id\",\n",
    "                   columns=\"order_year\",\n",
    "                   index=\"order_month\",\n",
    "                   aggfunc= {\"client_id\":\"nunique\"},\n",
    "                   margins=False,\n",
    "                   fill_value=0).round().style.background_gradient(cmap=\"summer\")\n"
   ]
  },
  {
   "cell_type": "code",
   "execution_count": null,
   "metadata": {},
   "outputs": [],
   "source": []
  },
  {
   "cell_type": "markdown",
   "metadata": {},
   "source": [
    "###  Suddivisione degli ordini fatti nel 2019 per tipologia di allestimento del libro"
   ]
  },
  {
   "cell_type": "markdown",
   "metadata": {},
   "source": [
    "Voglio sapere il numero di ordini per ciascuna tipologia di allestimento. Per rappresentare efficacemente questa analisi utilizzo un grafico a barre."
   ]
  },
  {
   "cell_type": "code",
   "execution_count": 88,
   "metadata": {},
   "outputs": [
    {
     "data": {
      "image/png": "[encoded data removed]",
      "text/plain": [
       "<Figure size 432x288 with 1 Axes>"
      ]
     },
     "metadata": {},
     "output_type": "display_data"
    }
   ],
   "source": [
    "sns.set_style(\"whitegrid\")\n",
    "sns.countplot(data=orders[orders.order_year == 2019], \n",
    "              x=\"size\");"
   ]
  },
  {
   "cell_type": "code",
   "execution_count": null,
   "metadata": {},
   "outputs": [],
   "source": []
  },
  {
   "cell_type": "markdown",
   "metadata": {},
   "source": [
    "###  Suddivisione degli ordini per giorno della settimana"
   ]
  },
  {
   "cell_type": "markdown",
   "metadata": {},
   "source": [
    "Voglio conoscere il numero di ordini in ogni giorno della settimana."
   ]
  },
  {
   "cell_type": "code",
   "execution_count": 20,
   "metadata": {},
   "outputs": [],
   "source": [
    "weekday = pd.DataFrame(orders.groupby(\"weekday\").order_id.nunique())\n",
    "weekday.reset_index(inplace=True)\n",
    "weekday.weekday.replace([[0],[1],[2],[3],[4],[5],[6]],\n",
    "                        [[\"mon\"],[\"tue\"],[\"wed\"],[\"thu\"],\n",
    "                         [\"fri\"],[\"sat\"],[\"sun\"]], inplace=True)"
   ]
  },
  {
   "cell_type": "code",
   "execution_count": 27,
   "metadata": {},
   "outputs": [
    {
     "data": {
      "text/plain": [
       "''"
      ]
     },
     "execution_count": 27,
     "metadata": {},
     "output_type": "execute_result"
    },
    {
     "data": {
      "image/png": "[encoded data removed]",
      "text/plain": [
       "<Figure size 432x288 with 1 Axes>"
      ]
     },
     "metadata": {
      "needs_background": "light"
     },
     "output_type": "display_data"
    }
   ],
   "source": [
    "plt.bar(weekday.weekday,weekday.order_id)\n",
    "plt.title(\"Tot amount of orders per weekday\")\n",
    "plt.ylabel(\"N. of orders\")\n",
    "plt.grid(alpha=0.2)\n",
    ";"
   ]
  },
  {
   "cell_type": "code",
   "execution_count": null,
   "metadata": {},
   "outputs": [],
   "source": []
  },
  {
   "cell_type": "markdown",
   "metadata": {},
   "source": [
    "###  Misuro l'impatto degli sconti"
   ]
  },
  {
   "cell_type": "markdown",
   "metadata": {},
   "source": [
    "Il servizio di *printing on demand* prevede sconti sulle quantità. Siccome la percentuale di sconto non è presente nel DataBase di partenza, ho bisogno di calcolarla come differenza tra un incasso ipotetico e l'incasso effettivo."
   ]
  },
  {
   "cell_type": "markdown",
   "metadata": {},
   "source": [
    "Calcolo l'incasso ipotetico:"
   ]
  },
  {
   "cell_type": "code",
   "execution_count": 30,
   "metadata": {},
   "outputs": [],
   "source": [
    "orders[\"hyp_revenues\"] = orders[\"printing_price\"] * orders[\"units\"]"
   ]
  },
  {
   "cell_type": "markdown",
   "metadata": {},
   "source": [
    "Calcolo *\"l'incasso tot ipotetico\"*, ossia l'incasso ipotetico comprensivo delle spese di spedizione ipotetiche. Per farlo ho bisogno di applicare un valore definito alle spese di spedizione quando queste sono pari a zero (ex se quantità maggiore o uguale a 20).\n"
   ]
  },
  {
   "cell_type": "code",
   "execution_count": 31,
   "metadata": {},
   "outputs": [],
   "source": [
    "orders[\"hyp_delivery_price\"] = orders[\"delivery_price\"] \n",
    "\n",
    "index_deliv_zero = orders[orders.delivery_price.eq(0)].index \n",
    "deliv_mean_2016 = orders[orders.order_year.isin([2016])].groupby(\"units\").delivery_price.mean().round()\n",
    "orders.loc[index_deliv_zero,\"hyp_delivery_price\"] = orders.loc[index_deliv_zero].set_index(\"units\").hyp_delivery_price.replace(0,np.nan).fillna(deliv_mean_2016).values \n",
    "\n",
    "orders[\"hyp_revenues_tot\"] = orders[\"hyp_revenues\"] + orders[\"hyp_delivery_price\"]"
   ]
  },
  {
   "cell_type": "markdown",
   "metadata": {},
   "source": [
    "Definisco la funzione di sconto e la utilizzo per creare una nuova colonna di sconto:"
   ]
  },
  {
   "cell_type": "code",
   "execution_count": 32,
   "metadata": {},
   "outputs": [],
   "source": [
    "def delta_perc(x, y):\n",
    "    if x == 0:\n",
    "        return 0\n",
    "    else:\n",
    "        return round(((x - y) / x * 100),0)\n",
    "\n",
    "orders[\"discount\"] = orders.apply(lambda row: delta_perc(row['hyp_revenues_tot'], row['revenues_tot']), axis=1)"
   ]
  },
  {
   "cell_type": "markdown",
   "metadata": {},
   "source": [
    "Mettendo in relazione le unità vendute con lo sconto applicato si notano due cose:  \n",
    "* esiste una relazione lineare\n",
    "* ci sono molte eccezione dovute probabilmente ad una pratica scontistica che va oltre lo sconto quantità"
   ]
  },
  {
   "cell_type": "code",
   "execution_count": 40,
   "metadata": {},
   "outputs": [
    {
     "data": {
      "text/plain": [
       "''"
      ]
     },
     "execution_count": 40,
     "metadata": {},
     "output_type": "execute_result"
    },
    {
     "data": {
      "image/png": "[encoded data removed]",
      "text/plain": [
       "<Figure size 360x360 with 1 Axes>"
      ]
     },
     "metadata": {
      "needs_background": "light"
     },
     "output_type": "display_data"
    },
    {
     "data": {
      "text/plain": [
       "<Figure size 7200x1440 with 0 Axes>"
      ]
     },
     "metadata": {},
     "output_type": "display_data"
    }
   ],
   "source": [
    "\n",
    "sns.lmplot(data=orders[(orders.order_year == 2019)\n",
    "                      &(orders.product_type == \"book\")], \n",
    "           x=\"units\",\n",
    "           y=\"discount\")\n",
    "plt.xlim(0,200)\n",
    "plt.ylim(0,100)\n",
    "plt.figure(figsize=(100, 20))\n",
    ";"
   ]
  },
  {
   "cell_type": "code",
   "execution_count": null,
   "metadata": {},
   "outputs": [],
   "source": []
  },
  {
   "cell_type": "markdown",
   "metadata": {},
   "source": [
    "###  Caratteristiche degli ordini"
   ]
  },
  {
   "cell_type": "markdown",
   "metadata": {},
   "source": [
    "Quanti ordini fanno i clienti? Quante unità per ciascun ordine? E qual è il fatturato generato? Rispondo a tutte queste domande aggregando i singoli ordini rispetto al numero di copie per ciascun ordine."
   ]
  },
  {
   "cell_type": "code",
   "execution_count": 44,
   "metadata": {},
   "outputs": [],
   "source": [
    "units = pd.DataFrame(orders[(orders.product_type == \"book\")&\n",
    "                              (orders.order_year == 2019)][[\"units\",\n",
    "                                                            \"client_id\",\n",
    "                                                            \"order_id\",\n",
    "                                                            \"delivery_price\",\n",
    "                                                            \"revenues_tot\"]].groupby([\"units\"]).agg({\"client_id\":\"nunique\",\n",
    "                                                                                \"order_id\":\"count\",\n",
    "                                                                                \"delivery_price\":\"sum\",\n",
    "                                                                                \"revenues_tot\":\"sum\",}))\n",
    "units.reset_index(inplace=True)"
   ]
  },
  {
   "cell_type": "code",
   "execution_count": 45,
   "metadata": {},
   "outputs": [
    {
     "data": {
      "text/html": [
       "<style  type=\"text/css\" >\n",
       "    #T_7b343ca2_3b90_11ea_afb0_00216afa0554row0_col0 {\n",
       "            background-color:  #008066;\n",
       "        }    #T_7b343ca2_3b90_11ea_afb0_00216afa0554row0_col1 {\n",
       "            background-color:  #ffff66;\n",
       "        }    #T_7b343ca2_3b90_11ea_afb0_00216afa0554row0_col2 {\n",
       "            background-color:  #ffff66;\n",
       "        }    #T_7b343ca2_3b90_11ea_afb0_00216afa0554row0_col3 {\n",
       "            background-color:  #ffff66;\n",
       "        }    #T_7b343ca2_3b90_11ea_afb0_00216afa0554row0_col4 {\n",
       "            background-color:  #95ca66;\n",
       "        }    #T_7b343ca2_3b90_11ea_afb0_00216afa0554row1_col0 {\n",
       "            background-color:  #0c8666;\n",
       "        }    #T_7b343ca2_3b90_11ea_afb0_00216afa0554row1_col1 {\n",
       "            background-color:  #62b066;\n",
       "        }    #T_7b343ca2_3b90_11ea_afb0_00216afa0554row1_col2 {\n",
       "            background-color:  #42a066;\n",
       "        }    #T_7b343ca2_3b90_11ea_afb0_00216afa0554row1_col3 {\n",
       "            background-color:  #44a266;\n",
       "        }    #T_7b343ca2_3b90_11ea_afb0_00216afa0554row1_col4 {\n",
       "            background-color:  #47a366;\n",
       "        }    #T_7b343ca2_3b90_11ea_afb0_00216afa0554row2_col0 {\n",
       "            background-color:  #198c66;\n",
       "        }    #T_7b343ca2_3b90_11ea_afb0_00216afa0554row2_col1 {\n",
       "            background-color:  #4aa466;\n",
       "        }    #T_7b343ca2_3b90_11ea_afb0_00216afa0554row2_col2 {\n",
       "            background-color:  #2b9566;\n",
       "        }    #T_7b343ca2_3b90_11ea_afb0_00216afa0554row2_col3 {\n",
       "            background-color:  #349a66;\n",
       "        }    #T_7b343ca2_3b90_11ea_afb0_00216afa0554row2_col4 {\n",
       "            background-color:  #41a066;\n",
       "        }    #T_7b343ca2_3b90_11ea_afb0_00216afa0554row3_col0 {\n",
       "            background-color:  #269266;\n",
       "        }    #T_7b343ca2_3b90_11ea_afb0_00216afa0554row3_col1 {\n",
       "            background-color:  #379b66;\n",
       "        }    #T_7b343ca2_3b90_11ea_afb0_00216afa0554row3_col2 {\n",
       "            background-color:  #1e8e66;\n",
       "        }    #T_7b343ca2_3b90_11ea_afb0_00216afa0554row3_col3 {\n",
       "            background-color:  #289366;\n",
       "        }    #T_7b343ca2_3b90_11ea_afb0_00216afa0554row3_col4 {\n",
       "            background-color:  #399c66;\n",
       "        }    #T_7b343ca2_3b90_11ea_afb0_00216afa0554row4_col0 {\n",
       "            background-color:  #339966;\n",
       "        }    #T_7b343ca2_3b90_11ea_afb0_00216afa0554row4_col1 {\n",
       "            background-color:  #49a466;\n",
       "        }    #T_7b343ca2_3b90_11ea_afb0_00216afa0554row4_col2 {\n",
       "            background-color:  #2c9666;\n",
       "        }    #T_7b343ca2_3b90_11ea_afb0_00216afa0554row4_col3 {\n",
       "            background-color:  #369a66;\n",
       "        }    #T_7b343ca2_3b90_11ea_afb0_00216afa0554row4_col4 {\n",
       "            background-color:  #64b266;\n",
       "        }    #T_7b343ca2_3b90_11ea_afb0_00216afa0554row5_col0 {\n",
       "            background-color:  #40a066;\n",
       "        }    #T_7b343ca2_3b90_11ea_afb0_00216afa0554row5_col1 {\n",
       "            background-color:  #158a66;\n",
       "        }    #T_7b343ca2_3b90_11ea_afb0_00216afa0554row5_col2 {\n",
       "            background-color:  #0a8466;\n",
       "        }    #T_7b343ca2_3b90_11ea_afb0_00216afa0554row5_col3 {\n",
       "            background-color:  #0e8666;\n",
       "        }    #T_7b343ca2_3b90_11ea_afb0_00216afa0554row5_col4 {\n",
       "            background-color:  #1a8c66;\n",
       "        }    #T_7b343ca2_3b90_11ea_afb0_00216afa0554row6_col0 {\n",
       "            background-color:  #4ca666;\n",
       "        }    #T_7b343ca2_3b90_11ea_afb0_00216afa0554row6_col1 {\n",
       "            background-color:  #0b8566;\n",
       "        }    #T_7b343ca2_3b90_11ea_afb0_00216afa0554row6_col2 {\n",
       "            background-color:  #068266;\n",
       "        }    #T_7b343ca2_3b90_11ea_afb0_00216afa0554row6_col3 {\n",
       "            background-color:  #088466;\n",
       "        }    #T_7b343ca2_3b90_11ea_afb0_00216afa0554row6_col4 {\n",
       "            background-color:  #138966;\n",
       "        }    #T_7b343ca2_3b90_11ea_afb0_00216afa0554row7_col0 {\n",
       "            background-color:  #59ac66;\n",
       "        }    #T_7b343ca2_3b90_11ea_afb0_00216afa0554row7_col1 {\n",
       "            background-color:  #0f8766;\n",
       "        }    #T_7b343ca2_3b90_11ea_afb0_00216afa0554row7_col2 {\n",
       "            background-color:  #078366;\n",
       "        }    #T_7b343ca2_3b90_11ea_afb0_00216afa0554row7_col3 {\n",
       "            background-color:  #0b8566;\n",
       "        }    #T_7b343ca2_3b90_11ea_afb0_00216afa0554row7_col4 {\n",
       "            background-color:  #1c8e66;\n",
       "        }    #T_7b343ca2_3b90_11ea_afb0_00216afa0554row8_col0 {\n",
       "            background-color:  #66b266;\n",
       "        }    #T_7b343ca2_3b90_11ea_afb0_00216afa0554row8_col1 {\n",
       "            background-color:  #028066;\n",
       "        }    #T_7b343ca2_3b90_11ea_afb0_00216afa0554row8_col2 {\n",
       "            background-color:  #018066;\n",
       "        }    #T_7b343ca2_3b90_11ea_afb0_00216afa0554row8_col3 {\n",
       "            background-color:  #018066;\n",
       "        }    #T_7b343ca2_3b90_11ea_afb0_00216afa0554row8_col4 {\n",
       "            background-color:  #048266;\n",
       "        }    #T_7b343ca2_3b90_11ea_afb0_00216afa0554row9_col0 {\n",
       "            background-color:  #73b966;\n",
       "        }    #T_7b343ca2_3b90_11ea_afb0_00216afa0554row9_col1 {\n",
       "            background-color:  #349a66;\n",
       "        }    #T_7b343ca2_3b90_11ea_afb0_00216afa0554row9_col2 {\n",
       "            background-color:  #1a8c66;\n",
       "        }    #T_7b343ca2_3b90_11ea_afb0_00216afa0554row9_col3 {\n",
       "            background-color:  #279366;\n",
       "        }    #T_7b343ca2_3b90_11ea_afb0_00216afa0554row9_col4 {\n",
       "            background-color:  #6cb666;\n",
       "        }    #T_7b343ca2_3b90_11ea_afb0_00216afa0554row10_col0 {\n",
       "            background-color:  #80c066;\n",
       "        }    #T_7b343ca2_3b90_11ea_afb0_00216afa0554row10_col1 {\n",
       "            background-color:  #0f8766;\n",
       "        }    #T_7b343ca2_3b90_11ea_afb0_00216afa0554row10_col2 {\n",
       "            background-color:  #078366;\n",
       "        }    #T_7b343ca2_3b90_11ea_afb0_00216afa0554row10_col3 {\n",
       "            background-color:  #0c8666;\n",
       "        }    #T_7b343ca2_3b90_11ea_afb0_00216afa0554row10_col4 {\n",
       "            background-color:  #209066;\n",
       "        }    #T_7b343ca2_3b90_11ea_afb0_00216afa0554row11_col0 {\n",
       "            background-color:  #8cc666;\n",
       "        }    #T_7b343ca2_3b90_11ea_afb0_00216afa0554row11_col1 {\n",
       "            background-color:  #088466;\n",
       "        }    #T_7b343ca2_3b90_11ea_afb0_00216afa0554row11_col2 {\n",
       "            background-color:  #048266;\n",
       "        }    #T_7b343ca2_3b90_11ea_afb0_00216afa0554row11_col3 {\n",
       "            background-color:  #058266;\n",
       "        }    #T_7b343ca2_3b90_11ea_afb0_00216afa0554row11_col4 {\n",
       "            background-color:  #128866;\n",
       "        }    #T_7b343ca2_3b90_11ea_afb0_00216afa0554row12_col0 {\n",
       "            background-color:  #99cc66;\n",
       "        }    #T_7b343ca2_3b90_11ea_afb0_00216afa0554row12_col1 {\n",
       "            background-color:  #018066;\n",
       "        }    #T_7b343ca2_3b90_11ea_afb0_00216afa0554row12_col2 {\n",
       "            background-color:  #008066;\n",
       "        }    #T_7b343ca2_3b90_11ea_afb0_00216afa0554row12_col3 {\n",
       "            background-color:  #008066;\n",
       "        }    #T_7b343ca2_3b90_11ea_afb0_00216afa0554row12_col4 {\n",
       "            background-color:  #028066;\n",
       "        }    #T_7b343ca2_3b90_11ea_afb0_00216afa0554row13_col0 {\n",
       "            background-color:  #a6d266;\n",
       "        }    #T_7b343ca2_3b90_11ea_afb0_00216afa0554row13_col1 {\n",
       "            background-color:  #018066;\n",
       "        }    #T_7b343ca2_3b90_11ea_afb0_00216afa0554row13_col2 {\n",
       "            background-color:  #008066;\n",
       "        }    #T_7b343ca2_3b90_11ea_afb0_00216afa0554row13_col3 {\n",
       "            background-color:  #008066;\n",
       "        }    #T_7b343ca2_3b90_11ea_afb0_00216afa0554row13_col4 {\n",
       "            background-color:  #038166;\n",
       "        }    #T_7b343ca2_3b90_11ea_afb0_00216afa0554row14_col0 {\n",
       "            background-color:  #b3d966;\n",
       "        }    #T_7b343ca2_3b90_11ea_afb0_00216afa0554row14_col1 {\n",
       "            background-color:  #0a8466;\n",
       "        }    #T_7b343ca2_3b90_11ea_afb0_00216afa0554row14_col2 {\n",
       "            background-color:  #058266;\n",
       "        }    #T_7b343ca2_3b90_11ea_afb0_00216afa0554row14_col3 {\n",
       "            background-color:  #088466;\n",
       "        }    #T_7b343ca2_3b90_11ea_afb0_00216afa0554row14_col4 {\n",
       "            background-color:  #1d8e66;\n",
       "        }    #T_7b343ca2_3b90_11ea_afb0_00216afa0554row15_col0 {\n",
       "            background-color:  #c0e066;\n",
       "        }    #T_7b343ca2_3b90_11ea_afb0_00216afa0554row15_col1 {\n",
       "            background-color:  #018066;\n",
       "        }    #T_7b343ca2_3b90_11ea_afb0_00216afa0554row15_col2 {\n",
       "            background-color:  #008066;\n",
       "        }    #T_7b343ca2_3b90_11ea_afb0_00216afa0554row15_col3 {\n",
       "            background-color:  #008066;\n",
       "        }    #T_7b343ca2_3b90_11ea_afb0_00216afa0554row15_col4 {\n",
       "            background-color:  #038166;\n",
       "        }    #T_7b343ca2_3b90_11ea_afb0_00216afa0554row16_col0 {\n",
       "            background-color:  #cce666;\n",
       "        }    #T_7b343ca2_3b90_11ea_afb0_00216afa0554row16_col1 {\n",
       "            background-color:  #008066;\n",
       "        }    #T_7b343ca2_3b90_11ea_afb0_00216afa0554row16_col2 {\n",
       "            background-color:  #008066;\n",
       "        }    #T_7b343ca2_3b90_11ea_afb0_00216afa0554row16_col3 {\n",
       "            background-color:  #008066;\n",
       "        }    #T_7b343ca2_3b90_11ea_afb0_00216afa0554row16_col4 {\n",
       "            background-color:  #008066;\n",
       "        }    #T_7b343ca2_3b90_11ea_afb0_00216afa0554row17_col0 {\n",
       "            background-color:  #d9ec66;\n",
       "        }    #T_7b343ca2_3b90_11ea_afb0_00216afa0554row17_col1 {\n",
       "            background-color:  #008066;\n",
       "        }    #T_7b343ca2_3b90_11ea_afb0_00216afa0554row17_col2 {\n",
       "            background-color:  #008066;\n",
       "        }    #T_7b343ca2_3b90_11ea_afb0_00216afa0554row17_col3 {\n",
       "            background-color:  #008066;\n",
       "        }    #T_7b343ca2_3b90_11ea_afb0_00216afa0554row17_col4 {\n",
       "            background-color:  #008066;\n",
       "        }    #T_7b343ca2_3b90_11ea_afb0_00216afa0554row18_col0 {\n",
       "            background-color:  #f3f966;\n",
       "        }    #T_7b343ca2_3b90_11ea_afb0_00216afa0554row18_col1 {\n",
       "            background-color:  #47a366;\n",
       "        }    #T_7b343ca2_3b90_11ea_afb0_00216afa0554row18_col2 {\n",
       "            background-color:  #269266;\n",
       "        }    #T_7b343ca2_3b90_11ea_afb0_00216afa0554row18_col3 {\n",
       "            background-color:  #008066;\n",
       "        }    #T_7b343ca2_3b90_11ea_afb0_00216afa0554row18_col4 {\n",
       "            background-color:  #ffff66;\n",
       "        }    #T_7b343ca2_3b90_11ea_afb0_00216afa0554row19_col0 {\n",
       "            background-color:  #ffff66;\n",
       "        }    #T_7b343ca2_3b90_11ea_afb0_00216afa0554row19_col1 {\n",
       "            background-color:  #098466;\n",
       "        }    #T_7b343ca2_3b90_11ea_afb0_00216afa0554row19_col2 {\n",
       "            background-color:  #058266;\n",
       "        }    #T_7b343ca2_3b90_11ea_afb0_00216afa0554row19_col3 {\n",
       "            background-color:  #008066;\n",
       "        }    #T_7b343ca2_3b90_11ea_afb0_00216afa0554row19_col4 {\n",
       "            background-color:  #209066;\n",
       "        }</style>  \n",
       "<table id=\"T_7b343ca2_3b90_11ea_afb0_00216afa0554\" > \n",
       "<thead>    <tr> \n",
       "        <th class=\"blank level0\" ></th> \n",
       "        <th class=\"col_heading level0 col0\" >units</th> \n",
       "        <th class=\"col_heading level0 col1\" >client_id</th> \n",
       "        <th class=\"col_heading level0 col2\" >order_id</th> \n",
       "        <th class=\"col_heading level0 col3\" >delivery_price</th> \n",
       "        <th class=\"col_heading level0 col4\" >revenues_tot</th> \n",
       "    </tr></thead> \n",
       "<tbody>    <tr> \n",
       "        <th id=\"T_7b343ca2_3b90_11ea_afb0_00216afa0554level0_row0\" class=\"row_heading level0 row0\" >0</th> \n",
       "        <td id=\"T_7b343ca2_3b90_11ea_afb0_00216afa0554row0_col0\" class=\"data row0 col0\" >1</td> \n",
       "        <td id=\"T_7b343ca2_3b90_11ea_afb0_00216afa0554row0_col1\" class=\"data row0 col1\" >1682</td> \n",
       "        <td id=\"T_7b343ca2_3b90_11ea_afb0_00216afa0554row0_col2\" class=\"data row0 col2\" >4090</td> \n",
       "        <td id=\"T_7b343ca2_3b90_11ea_afb0_00216afa0554row0_col3\" class=\"data row0 col3\" >21129</td> \n",
       "        <td id=\"T_7b343ca2_3b90_11ea_afb0_00216afa0554row0_col4\" class=\"data row0 col4\" >66724</td> \n",
       "    </tr>    <tr> \n",
       "        <th id=\"T_7b343ca2_3b90_11ea_afb0_00216afa0554level0_row1\" class=\"row_heading level0 row1\" >1</th> \n",
       "        <td id=\"T_7b343ca2_3b90_11ea_afb0_00216afa0554row1_col0\" class=\"data row1 col0\" >2</td> \n",
       "        <td id=\"T_7b343ca2_3b90_11ea_afb0_00216afa0554row1_col1\" class=\"data row1 col1\" >650</td> \n",
       "        <td id=\"T_7b343ca2_3b90_11ea_afb0_00216afa0554row1_col2\" class=\"data row1 col2\" >1066</td> \n",
       "        <td id=\"T_7b343ca2_3b90_11ea_afb0_00216afa0554row1_col3\" class=\"data row1 col3\" >5642</td> \n",
       "        <td id=\"T_7b343ca2_3b90_11ea_afb0_00216afa0554row1_col4\" class=\"data row1 col4\" >31799</td> \n",
       "    </tr>    <tr> \n",
       "        <th id=\"T_7b343ca2_3b90_11ea_afb0_00216afa0554level0_row2\" class=\"row_heading level0 row2\" >2</th> \n",
       "        <td id=\"T_7b343ca2_3b90_11ea_afb0_00216afa0554row2_col0\" class=\"data row2 col0\" >3</td> \n",
       "        <td id=\"T_7b343ca2_3b90_11ea_afb0_00216afa0554row2_col1\" class=\"data row2 col1\" >493</td> \n",
       "        <td id=\"T_7b343ca2_3b90_11ea_afb0_00216afa0554row2_col2\" class=\"data row2 col2\" >702</td> \n",
       "        <td id=\"T_7b343ca2_3b90_11ea_afb0_00216afa0554row2_col3\" class=\"data row2 col3\" >4296</td> \n",
       "        <td id=\"T_7b343ca2_3b90_11ea_afb0_00216afa0554row2_col4\" class=\"data row2 col4\" >29192</td> \n",
       "    </tr>    <tr> \n",
       "        <th id=\"T_7b343ca2_3b90_11ea_afb0_00216afa0554level0_row3\" class=\"row_heading level0 row3\" >3</th> \n",
       "        <td id=\"T_7b343ca2_3b90_11ea_afb0_00216afa0554row3_col0\" class=\"data row3 col0\" >4</td> \n",
       "        <td id=\"T_7b343ca2_3b90_11ea_afb0_00216afa0554row3_col1\" class=\"data row3 col1\" >367</td> \n",
       "        <td id=\"T_7b343ca2_3b90_11ea_afb0_00216afa0554row3_col2\" class=\"data row3 col2\" >489</td> \n",
       "        <td id=\"T_7b343ca2_3b90_11ea_afb0_00216afa0554row3_col3\" class=\"data row3 col3\" >3305</td> \n",
       "        <td id=\"T_7b343ca2_3b90_11ea_afb0_00216afa0554row3_col4\" class=\"data row3 col4\" >25529</td> \n",
       "    </tr>    <tr> \n",
       "        <th id=\"T_7b343ca2_3b90_11ea_afb0_00216afa0554level0_row4\" class=\"row_heading level0 row4\" >4</th> \n",
       "        <td id=\"T_7b343ca2_3b90_11ea_afb0_00216afa0554row4_col0\" class=\"data row4 col0\" >5</td> \n",
       "        <td id=\"T_7b343ca2_3b90_11ea_afb0_00216afa0554row4_col1\" class=\"data row4 col1\" >485</td> \n",
       "        <td id=\"T_7b343ca2_3b90_11ea_afb0_00216afa0554row4_col2\" class=\"data row4 col2\" >711</td> \n",
       "        <td id=\"T_7b343ca2_3b90_11ea_afb0_00216afa0554row4_col3\" class=\"data row4 col3\" >4465</td> \n",
       "        <td id=\"T_7b343ca2_3b90_11ea_afb0_00216afa0554row4_col4\" class=\"data row4 col4\" >45041</td> \n",
       "    </tr>    <tr> \n",
       "        <th id=\"T_7b343ca2_3b90_11ea_afb0_00216afa0554level0_row5\" class=\"row_heading level0 row5\" >5</th> \n",
       "        <td id=\"T_7b343ca2_3b90_11ea_afb0_00216afa0554row5_col0\" class=\"data row5 col0\" >6</td> \n",
       "        <td id=\"T_7b343ca2_3b90_11ea_afb0_00216afa0554row5_col1\" class=\"data row5 col1\" >144</td> \n",
       "        <td id=\"T_7b343ca2_3b90_11ea_afb0_00216afa0554row5_col2\" class=\"data row5 col2\" >168</td> \n",
       "        <td id=\"T_7b343ca2_3b90_11ea_afb0_00216afa0554row5_col3\" class=\"data row5 col3\" >1227</td> \n",
       "        <td id=\"T_7b343ca2_3b90_11ea_afb0_00216afa0554row5_col4\" class=\"data row5 col4\" >11911</td> \n",
       "    </tr>    <tr> \n",
       "        <th id=\"T_7b343ca2_3b90_11ea_afb0_00216afa0554level0_row6\" class=\"row_heading level0 row6\" >6</th> \n",
       "        <td id=\"T_7b343ca2_3b90_11ea_afb0_00216afa0554row6_col0\" class=\"data row6 col0\" >7</td> \n",
       "        <td id=\"T_7b343ca2_3b90_11ea_afb0_00216afa0554row6_col1\" class=\"data row6 col1\" >76</td> \n",
       "        <td id=\"T_7b343ca2_3b90_11ea_afb0_00216afa0554row6_col2\" class=\"data row6 col2\" >97</td> \n",
       "        <td id=\"T_7b343ca2_3b90_11ea_afb0_00216afa0554row6_col3\" class=\"data row6 col3\" >742</td> \n",
       "        <td id=\"T_7b343ca2_3b90_11ea_afb0_00216afa0554row6_col4\" class=\"data row6 col4\" >8599</td> \n",
       "    </tr>    <tr> \n",
       "        <th id=\"T_7b343ca2_3b90_11ea_afb0_00216afa0554level0_row7\" class=\"row_heading level0 row7\" >7</th> \n",
       "        <td id=\"T_7b343ca2_3b90_11ea_afb0_00216afa0554row7_col0\" class=\"data row7 col0\" >8</td> \n",
       "        <td id=\"T_7b343ca2_3b90_11ea_afb0_00216afa0554row7_col1\" class=\"data row7 col1\" >105</td> \n",
       "        <td id=\"T_7b343ca2_3b90_11ea_afb0_00216afa0554row7_col2\" class=\"data row7 col2\" >128</td> \n",
       "        <td id=\"T_7b343ca2_3b90_11ea_afb0_00216afa0554row7_col3\" class=\"data row7 col3\" >966</td> \n",
       "        <td id=\"T_7b343ca2_3b90_11ea_afb0_00216afa0554row7_col4\" class=\"data row7 col4\" >12612</td> \n",
       "    </tr>    <tr> \n",
       "        <th id=\"T_7b343ca2_3b90_11ea_afb0_00216afa0554level0_row8\" class=\"row_heading level0 row8\" >8</th> \n",
       "        <td id=\"T_7b343ca2_3b90_11ea_afb0_00216afa0554row8_col0\" class=\"data row8 col0\" >9</td> \n",
       "        <td id=\"T_7b343ca2_3b90_11ea_afb0_00216afa0554row8_col1\" class=\"data row8 col1\" >19</td> \n",
       "        <td id=\"T_7b343ca2_3b90_11ea_afb0_00216afa0554row8_col2\" class=\"data row8 col2\" >21</td> \n",
       "        <td id=\"T_7b343ca2_3b90_11ea_afb0_00216afa0554row8_col3\" class=\"data row8 col3\" >161</td> \n",
       "        <td id=\"T_7b343ca2_3b90_11ea_afb0_00216afa0554row8_col4\" class=\"data row8 col4\" >2270</td> \n",
       "    </tr>    <tr> \n",
       "        <th id=\"T_7b343ca2_3b90_11ea_afb0_00216afa0554level0_row9\" class=\"row_heading level0 row9\" >9</th> \n",
       "        <td id=\"T_7b343ca2_3b90_11ea_afb0_00216afa0554row9_col0\" class=\"data row9 col0\" >10</td> \n",
       "        <td id=\"T_7b343ca2_3b90_11ea_afb0_00216afa0554row9_col1\" class=\"data row9 col1\" >346</td> \n",
       "        <td id=\"T_7b343ca2_3b90_11ea_afb0_00216afa0554row9_col2\" class=\"data row9 col2\" >429</td> \n",
       "        <td id=\"T_7b343ca2_3b90_11ea_afb0_00216afa0554row9_col3\" class=\"data row9 col3\" >3269</td> \n",
       "        <td id=\"T_7b343ca2_3b90_11ea_afb0_00216afa0554row9_col4\" class=\"data row9 col4\" >48498</td> \n",
       "    </tr>    <tr> \n",
       "        <th id=\"T_7b343ca2_3b90_11ea_afb0_00216afa0554level0_row10\" class=\"row_heading level0 row10\" >10</th> \n",
       "        <td id=\"T_7b343ca2_3b90_11ea_afb0_00216afa0554row10_col0\" class=\"data row10 col0\" >11</td> \n",
       "        <td id=\"T_7b343ca2_3b90_11ea_afb0_00216afa0554row10_col1\" class=\"data row10 col1\" >104</td> \n",
       "        <td id=\"T_7b343ca2_3b90_11ea_afb0_00216afa0554row10_col2\" class=\"data row10 col2\" >121</td> \n",
       "        <td id=\"T_7b343ca2_3b90_11ea_afb0_00216afa0554row10_col3\" class=\"data row10 col3\" >1055</td> \n",
       "        <td id=\"T_7b343ca2_3b90_11ea_afb0_00216afa0554row10_col4\" class=\"data row10 col4\" >14810</td> \n",
       "    </tr>    <tr> \n",
       "        <th id=\"T_7b343ca2_3b90_11ea_afb0_00216afa0554level0_row11\" class=\"row_heading level0 row11\" >11</th> \n",
       "        <td id=\"T_7b343ca2_3b90_11ea_afb0_00216afa0554row11_col0\" class=\"data row11 col0\" >12</td> \n",
       "        <td id=\"T_7b343ca2_3b90_11ea_afb0_00216afa0554row11_col1\" class=\"data row11 col1\" >58</td> \n",
       "        <td id=\"T_7b343ca2_3b90_11ea_afb0_00216afa0554row11_col2\" class=\"data row11 col2\" >66</td> \n",
       "        <td id=\"T_7b343ca2_3b90_11ea_afb0_00216afa0554row11_col3\" class=\"data row11 col3\" >483</td> \n",
       "        <td id=\"T_7b343ca2_3b90_11ea_afb0_00216afa0554row11_col4\" class=\"data row11 col4\" >8521</td> \n",
       "    </tr>    <tr> \n",
       "        <th id=\"T_7b343ca2_3b90_11ea_afb0_00216afa0554level0_row12\" class=\"row_heading level0 row12\" >12</th> \n",
       "        <td id=\"T_7b343ca2_3b90_11ea_afb0_00216afa0554row12_col0\" class=\"data row12 col0\" >13</td> \n",
       "        <td id=\"T_7b343ca2_3b90_11ea_afb0_00216afa0554row12_col1\" class=\"data row12 col1\" >11</td> \n",
       "        <td id=\"T_7b343ca2_3b90_11ea_afb0_00216afa0554row12_col2\" class=\"data row12 col2\" >11</td> \n",
       "        <td id=\"T_7b343ca2_3b90_11ea_afb0_00216afa0554row12_col3\" class=\"data row12 col3\" >56</td> \n",
       "        <td id=\"T_7b343ca2_3b90_11ea_afb0_00216afa0554row12_col4\" class=\"data row12 col4\" >1185</td> \n",
       "    </tr>    <tr> \n",
       "        <th id=\"T_7b343ca2_3b90_11ea_afb0_00216afa0554level0_row13\" class=\"row_heading level0 row13\" >13</th> \n",
       "        <td id=\"T_7b343ca2_3b90_11ea_afb0_00216afa0554row13_col0\" class=\"data row13 col0\" >14</td> \n",
       "        <td id=\"T_7b343ca2_3b90_11ea_afb0_00216afa0554row13_col1\" class=\"data row13 col1\" >11</td> \n",
       "        <td id=\"T_7b343ca2_3b90_11ea_afb0_00216afa0554row13_col2\" class=\"data row13 col2\" >13</td> \n",
       "        <td id=\"T_7b343ca2_3b90_11ea_afb0_00216afa0554row13_col3\" class=\"data row13 col3\" >75</td> \n",
       "        <td id=\"T_7b343ca2_3b90_11ea_afb0_00216afa0554row13_col4\" class=\"data row13 col4\" >1617</td> \n",
       "    </tr>    <tr> \n",
       "        <th id=\"T_7b343ca2_3b90_11ea_afb0_00216afa0554level0_row14\" class=\"row_heading level0 row14\" >14</th> \n",
       "        <td id=\"T_7b343ca2_3b90_11ea_afb0_00216afa0554row14_col0\" class=\"data row14 col0\" >15</td> \n",
       "        <td id=\"T_7b343ca2_3b90_11ea_afb0_00216afa0554row14_col1\" class=\"data row14 col1\" >73</td> \n",
       "        <td id=\"T_7b343ca2_3b90_11ea_afb0_00216afa0554row14_col2\" class=\"data row14 col2\" >83</td> \n",
       "        <td id=\"T_7b343ca2_3b90_11ea_afb0_00216afa0554row14_col3\" class=\"data row14 col3\" >693</td> \n",
       "        <td id=\"T_7b343ca2_3b90_11ea_afb0_00216afa0554row14_col4\" class=\"data row14 col4\" >13047</td> \n",
       "    </tr>    <tr> \n",
       "        <th id=\"T_7b343ca2_3b90_11ea_afb0_00216afa0554level0_row15\" class=\"row_heading level0 row15\" >15</th> \n",
       "        <td id=\"T_7b343ca2_3b90_11ea_afb0_00216afa0554row15_col0\" class=\"data row15 col0\" >16</td> \n",
       "        <td id=\"T_7b343ca2_3b90_11ea_afb0_00216afa0554row15_col1\" class=\"data row15 col1\" >9</td> \n",
       "        <td id=\"T_7b343ca2_3b90_11ea_afb0_00216afa0554row15_col2\" class=\"data row15 col2\" >9</td> \n",
       "        <td id=\"T_7b343ca2_3b90_11ea_afb0_00216afa0554row15_col3\" class=\"data row15 col3\" >71</td> \n",
       "        <td id=\"T_7b343ca2_3b90_11ea_afb0_00216afa0554row15_col4\" class=\"data row15 col4\" >1598</td> \n",
       "    </tr>    <tr> \n",
       "        <th id=\"T_7b343ca2_3b90_11ea_afb0_00216afa0554level0_row16\" class=\"row_heading level0 row16\" >16</th> \n",
       "        <td id=\"T_7b343ca2_3b90_11ea_afb0_00216afa0554row16_col0\" class=\"data row16 col0\" >17</td> \n",
       "        <td id=\"T_7b343ca2_3b90_11ea_afb0_00216afa0554row16_col1\" class=\"data row16 col1\" >1</td> \n",
       "        <td id=\"T_7b343ca2_3b90_11ea_afb0_00216afa0554row16_col2\" class=\"data row16 col2\" >1</td> \n",
       "        <td id=\"T_7b343ca2_3b90_11ea_afb0_00216afa0554row16_col3\" class=\"data row16 col3\" >0</td> \n",
       "        <td id=\"T_7b343ca2_3b90_11ea_afb0_00216afa0554row16_col4\" class=\"data row16 col4\" >147</td> \n",
       "    </tr>    <tr> \n",
       "        <th id=\"T_7b343ca2_3b90_11ea_afb0_00216afa0554level0_row17\" class=\"row_heading level0 row17\" >17</th> \n",
       "        <td id=\"T_7b343ca2_3b90_11ea_afb0_00216afa0554row17_col0\" class=\"data row17 col0\" >18</td> \n",
       "        <td id=\"T_7b343ca2_3b90_11ea_afb0_00216afa0554row17_col1\" class=\"data row17 col1\" >1</td> \n",
       "        <td id=\"T_7b343ca2_3b90_11ea_afb0_00216afa0554row17_col2\" class=\"data row17 col2\" >1</td> \n",
       "        <td id=\"T_7b343ca2_3b90_11ea_afb0_00216afa0554row17_col3\" class=\"data row17 col3\" >8</td> \n",
       "        <td id=\"T_7b343ca2_3b90_11ea_afb0_00216afa0554row17_col4\" class=\"data row17 col4\" >121</td> \n",
       "    </tr>    <tr> \n",
       "        <th id=\"T_7b343ca2_3b90_11ea_afb0_00216afa0554level0_row18\" class=\"row_heading level0 row18\" >18</th> \n",
       "        <td id=\"T_7b343ca2_3b90_11ea_afb0_00216afa0554row18_col0\" class=\"data row18 col0\" >20</td> \n",
       "        <td id=\"T_7b343ca2_3b90_11ea_afb0_00216afa0554row18_col1\" class=\"data row18 col1\" >468</td> \n",
       "        <td id=\"T_7b343ca2_3b90_11ea_afb0_00216afa0554row18_col2\" class=\"data row18 col2\" >612</td> \n",
       "        <td id=\"T_7b343ca2_3b90_11ea_afb0_00216afa0554row18_col3\" class=\"data row18 col3\" >80</td> \n",
       "        <td id=\"T_7b343ca2_3b90_11ea_afb0_00216afa0554row18_col4\" class=\"data row18 col4\" >114206</td> \n",
       "    </tr>    <tr> \n",
       "        <th id=\"T_7b343ca2_3b90_11ea_afb0_00216afa0554level0_row19\" class=\"row_heading level0 row19\" >19</th> \n",
       "        <td id=\"T_7b343ca2_3b90_11ea_afb0_00216afa0554row19_col0\" class=\"data row19 col0\" >21</td> \n",
       "        <td id=\"T_7b343ca2_3b90_11ea_afb0_00216afa0554row19_col1\" class=\"data row19 col1\" >64</td> \n",
       "        <td id=\"T_7b343ca2_3b90_11ea_afb0_00216afa0554row19_col2\" class=\"data row19 col2\" >82</td> \n",
       "        <td id=\"T_7b343ca2_3b90_11ea_afb0_00216afa0554row19_col3\" class=\"data row19 col3\" >0</td> \n",
       "        <td id=\"T_7b343ca2_3b90_11ea_afb0_00216afa0554row19_col4\" class=\"data row19 col4\" >14802</td> \n",
       "    </tr></tbody> \n",
       "</table> "
      ],
      "text/plain": [
       "<pandas.io.formats.style.Styler at 0x2893dad7240>"
      ]
     },
     "execution_count": 45,
     "metadata": {},
     "output_type": "execute_result"
    }
   ],
   "source": [
    "units.round(0).head(20).style.background_gradient(cmap=\"summer\")"
   ]
  },
  {
   "cell_type": "code",
   "execution_count": 39,
   "metadata": {},
   "outputs": [
    {
     "data": {
      "text/plain": [
       "''"
      ]
     },
     "execution_count": 39,
     "metadata": {},
     "output_type": "execute_result"
    },
    {
     "data": {
      "image/png": "[encoded data removed]",
      "text/plain": [
       "<Figure size 432x288 with 1 Axes>"
      ]
     },
     "metadata": {
      "needs_background": "light"
     },
     "output_type": "display_data"
    }
   ],
   "source": [
    "plt.bar(units.units, units.revenues_tot, width=10)\n",
    "\n",
    "plt.xlim(0,200)\n",
    "plt.ylim(0,120000)\n",
    "plt.xticks(np.arange(0, 201, 20))\n",
    "plt.yticks(np.arange(0, 120000, 20000))\n",
    "\n",
    "\n",
    "plt.grid(b=True, which='major', color='#999999', linestyle='-', alpha=1)\n",
    "plt.grid(b=True, which='minor', color='#999999', linestyle='--', alpha=0.4)\n",
    "\n",
    "plt.legend([\"Incasso generato\"],fontsize=10)\n",
    "plt.xlabel(\"Numero di copie acquistate\",fontsize=10, labelpad=20)\n",
    "plt.ylabel(\"Incasso totale\",fontsize=10, labelpad=20)\n",
    "\n",
    "plt.annotate(xy=[100,80000], xytext= [115,90000], fontsize=10, \n",
    "             s = \"100 copie\", arrowprops= dict(facecolor='grey', shrink=0.05))\n",
    "\n",
    ";"
   ]
  },
  {
   "cell_type": "code",
   "execution_count": null,
   "metadata": {},
   "outputs": [],
   "source": []
  }
 ],
 "metadata": {
  "kernelspec": {
   "display_name": "Python 3",
   "language": "python",
   "name": "python3"
  },
  "language_info": {
   "codemirror_mode": {
    "name": "ipython",
    "version": 3
   },
   "file_extension": ".py",
   "mimetype": "text/x-python",
   "name": "python",
   "nbconvert_exporter": "python",
   "pygments_lexer": "ipython3",
   "version": "3.7.1"
  }
 },
 "nbformat": 4,
 "nbformat_minor": 2
}
