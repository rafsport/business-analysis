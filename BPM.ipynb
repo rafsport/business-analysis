{
 "cells": [
  {
   "cell_type": "code",
   "execution_count": 1,
   "metadata": {},
   "outputs": [],
   "source": [
    "import pandas as pd\n",
    "import os\n",
    "import numpy as np\n",
    "import datetime as dt\n",
    "from os import listdir\n",
    "from os.path import isfile, join\n",
    "from os.path import getmtime\n",
    "from directories import *\n",
    "import time\n",
    "#import po_ordini"
   ]
  },
  {
   "cell_type": "code",
   "execution_count": 2,
   "metadata": {},
   "outputs": [
    {
     "name": "stderr",
     "output_type": "stream",
     "text": [
      "C:\\Users\\Raffaele.Sportiello\\AppData\\Local\\Temp\\1\\ipykernel_25696\\3276050917.py:3: FutureWarning: The argument 'date_parser' is deprecated and will be removed in a future version. Please use 'date_format' instead, or read your data in as 'object' dtype and then call 'to_datetime'.\n",
      "  bpm = pd.read_csv(bpm_export_file, sep=\";\", parse_dates=[\"Data Caricamento (in BPM)\"], date_parser=lambda x: dt.datetime.strptime(x, '%d/%m/%Y'), decimal=\",\", on_bad_lines=\"skip\")\n"
     ]
    }
   ],
   "source": [
    "data_agg = dt.datetime.fromtimestamp(getmtime(bpm_export_file))\n",
    "\n",
    "bpm = pd.read_csv(bpm_export_file, sep=\";\", parse_dates=[\"Data Caricamento (in BPM)\"], date_parser=lambda x: dt.datetime.strptime(x, '%d/%m/%Y'), decimal=\",\", on_bad_lines=\"skip\")\n"
   ]
  },
  {
   "cell_type": "code",
   "execution_count": 4,
   "metadata": {},
   "outputs": [
    {
     "data": {
      "text/plain": [
       "'C:\\\\Users\\\\Raffaele.Sportiello\\\\OneDrive - Wolters Kluwer\\\\Documents\\\\Dashboard inflow\\\\Parametriche\\\\Agente_ordine.xlsx'"
      ]
     },
     "execution_count": 4,
     "metadata": {},
     "output_type": "execute_result"
    }
   ],
   "source": [
    "par_file_path[\"agente_ordine\"]"
   ]
  },
  {
   "cell_type": "code",
   "execution_count": 6,
   "metadata": {},
   "outputs": [],
   "source": [
    "par = {}\n",
    "for file in parametriche_files:\n",
    "    file_name=file.split(\".\")[0]\n",
    "    par[f\"{file_name}\"] = pd.read_excel(parametriche+\"\\\\\"+file)\n",
    "\n",
    "\n",
    "agente = pd.DataFrame(par[\"Agente_ordine\"][[\"Codice agente\", \"Agente dell'ORDINE\", \"RSM Agente\", \"Sales Director\"]])"
   ]
  },
  {
   "cell_type": "code",
   "execution_count": 9,
   "metadata": {},
   "outputs": [
    {
     "data": {
      "text/html": [
       "<div>\n",
       "<style scoped>\n",
       "    .dataframe tbody tr th:only-of-type {\n",
       "        vertical-align: middle;\n",
       "    }\n",
       "\n",
       "    .dataframe tbody tr th {\n",
       "        vertical-align: top;\n",
       "    }\n",
       "\n",
       "    .dataframe thead th {\n",
       "        text-align: right;\n",
       "    }\n",
       "</style>\n",
       "<table border=\"1\" class=\"dataframe\">\n",
       "  <thead>\n",
       "    <tr style=\"text-align: right;\">\n",
       "      <th></th>\n",
       "      <th>Codice agente</th>\n",
       "      <th>Agente dell'ORDINE</th>\n",
       "    </tr>\n",
       "  </thead>\n",
       "  <tbody>\n",
       "    <tr>\n",
       "      <th>0</th>\n",
       "      <td>5</td>\n",
       "      <td>IPSODATA GENOVA SNC</td>\n",
       "    </tr>\n",
       "    <tr>\n",
       "      <th>1</th>\n",
       "      <td>8</td>\n",
       "      <td>CANDIDO CARLA &amp;C SAS</td>\n",
       "    </tr>\n",
       "    <tr>\n",
       "      <th>2</th>\n",
       "      <td>11</td>\n",
       "      <td>DUEGI S.A.S.</td>\n",
       "    </tr>\n",
       "    <tr>\n",
       "      <th>3</th>\n",
       "      <td>12</td>\n",
       "      <td>GIAMBANET S.A.S.</td>\n",
       "    </tr>\n",
       "    <tr>\n",
       "      <th>4</th>\n",
       "      <td>15</td>\n",
       "      <td>EVOLUZIONE S.A.S.</td>\n",
       "    </tr>\n",
       "    <tr>\n",
       "      <th>...</th>\n",
       "      <td>...</td>\n",
       "      <td>...</td>\n",
       "    </tr>\n",
       "    <tr>\n",
       "      <th>1169</th>\n",
       "      <td>X060</td>\n",
       "      <td>BLUWEB S.R.L.</td>\n",
       "    </tr>\n",
       "    <tr>\n",
       "      <th>1170</th>\n",
       "      <td>K105</td>\n",
       "      <td>DCA SOFTWARE S.R.L.</td>\n",
       "    </tr>\n",
       "    <tr>\n",
       "      <th>1171</th>\n",
       "      <td>K179</td>\n",
       "      <td>SOFTMAINT S.R.L.</td>\n",
       "    </tr>\n",
       "    <tr>\n",
       "      <th>1172</th>\n",
       "      <td>K224</td>\n",
       "      <td>D' AMICO FABIO</td>\n",
       "    </tr>\n",
       "    <tr>\n",
       "      <th>1173</th>\n",
       "      <td>K225</td>\n",
       "      <td>MOSCATO STEFANO</td>\n",
       "    </tr>\n",
       "  </tbody>\n",
       "</table>\n",
       "<p>1174 rows × 2 columns</p>\n",
       "</div>"
      ],
      "text/plain": [
       "     Codice agente    Agente dell'ORDINE\n",
       "0                5   IPSODATA GENOVA SNC\n",
       "1                8  CANDIDO CARLA &C SAS\n",
       "2               11          DUEGI S.A.S.\n",
       "3               12      GIAMBANET S.A.S.\n",
       "4               15     EVOLUZIONE S.A.S.\n",
       "...            ...                   ...\n",
       "1169          X060         BLUWEB S.R.L.\n",
       "1170          K105   DCA SOFTWARE S.R.L.\n",
       "1171          K179      SOFTMAINT S.R.L.\n",
       "1172          K224        D' AMICO FABIO\n",
       "1173          K225       MOSCATO STEFANO\n",
       "\n",
       "[1174 rows x 2 columns]"
      ]
     },
     "execution_count": 9,
     "metadata": {},
     "output_type": "execute_result"
    }
   ],
   "source": [
    "agente = pd.DataFrame(par[\"Agente_ordine\"][[\"Codice agente\", \"Agente dell'ORDINE\", \"RSM Agente\", \"Sales Director\"]])"
   ]
  },
  {
   "cell_type": "code",
   "execution_count": 158,
   "metadata": {},
   "outputs": [
    {
     "data": {
      "text/html": [
       "<style type=\"text/css\">\n",
       "</style>\n",
       "<table id=\"T_5ad60\">\n",
       "  <thead>\n",
       "    <tr>\n",
       "      <th class=\"blank\" >&nbsp;</th>\n",
       "      <th class=\"blank level0\" >&nbsp;</th>\n",
       "      <th id=\"T_5ad60_level0_col0\" class=\"col_heading level0 col0\" >Valore Totale Ordine</th>\n",
       "      <th id=\"T_5ad60_level0_col1\" class=\"col_heading level0 col1\" >Importo Licenza</th>\n",
       "      <th id=\"T_5ad60_level0_col2\" class=\"col_heading level0 col2\" >Importo Servizi</th>\n",
       "      <th id=\"T_5ad60_level0_col3\" class=\"col_heading level0 col3\" >Importo HW</th>\n",
       "      <th id=\"T_5ad60_level0_col4\" class=\"col_heading level0 col4\" >Totale_Importi</th>\n",
       "    </tr>\n",
       "    <tr>\n",
       "      <th class=\"index_name level0\" >Rete</th>\n",
       "      <th class=\"index_name level1\" >Area territoriale</th>\n",
       "      <th class=\"blank col0\" >&nbsp;</th>\n",
       "      <th class=\"blank col1\" >&nbsp;</th>\n",
       "      <th class=\"blank col2\" >&nbsp;</th>\n",
       "      <th class=\"blank col3\" >&nbsp;</th>\n",
       "      <th class=\"blank col4\" >&nbsp;</th>\n",
       "    </tr>\n",
       "  </thead>\n",
       "  <tbody>\n",
       "    <tr>\n",
       "      <th id=\"T_5ad60_level0_row0\" class=\"row_heading level0 row0\" rowspan=\"5\">Diretta</th>\n",
       "      <th id=\"T_5ad60_level1_row0\" class=\"row_heading level1 row0\" >Centro-Sud</th>\n",
       "      <td id=\"T_5ad60_row0_col0\" class=\"data row0 col0\" >1.500</td>\n",
       "      <td id=\"T_5ad60_row0_col1\" class=\"data row0 col1\" >1.346</td>\n",
       "      <td id=\"T_5ad60_row0_col2\" class=\"data row0 col2\" >50</td>\n",
       "      <td id=\"T_5ad60_row0_col3\" class=\"data row0 col3\" >0</td>\n",
       "      <td id=\"T_5ad60_row0_col4\" class=\"data row0 col4\" >1.396</td>\n",
       "    </tr>\n",
       "    <tr>\n",
       "      <th id=\"T_5ad60_level1_row1\" class=\"row_heading level1 row1\" >Enterprise</th>\n",
       "      <td id=\"T_5ad60_row1_col0\" class=\"data row1 col0\" >10.005</td>\n",
       "      <td id=\"T_5ad60_row1_col1\" class=\"data row1 col1\" >8.485</td>\n",
       "      <td id=\"T_5ad60_row1_col2\" class=\"data row1 col2\" >1.520</td>\n",
       "      <td id=\"T_5ad60_row1_col3\" class=\"data row1 col3\" >0</td>\n",
       "      <td id=\"T_5ad60_row1_col4\" class=\"data row1 col4\" >10.005</td>\n",
       "    </tr>\n",
       "    <tr>\n",
       "      <th id=\"T_5ad60_level1_row2\" class=\"row_heading level1 row2\" >Large accounts</th>\n",
       "      <td id=\"T_5ad60_row2_col0\" class=\"data row2 col0\" >59.824</td>\n",
       "      <td id=\"T_5ad60_row2_col1\" class=\"data row2 col1\" >21.824</td>\n",
       "      <td id=\"T_5ad60_row2_col2\" class=\"data row2 col2\" >38.000</td>\n",
       "      <td id=\"T_5ad60_row2_col3\" class=\"data row2 col3\" >0</td>\n",
       "      <td id=\"T_5ad60_row2_col4\" class=\"data row2 col4\" >59.824</td>\n",
       "    </tr>\n",
       "    <tr>\n",
       "      <th id=\"T_5ad60_level1_row3\" class=\"row_heading level1 row3\" >Nord-Est</th>\n",
       "      <td id=\"T_5ad60_row3_col0\" class=\"data row3 col0\" >6.370</td>\n",
       "      <td id=\"T_5ad60_row3_col1\" class=\"data row3 col1\" >2.095</td>\n",
       "      <td id=\"T_5ad60_row3_col2\" class=\"data row3 col2\" >4.275</td>\n",
       "      <td id=\"T_5ad60_row3_col3\" class=\"data row3 col3\" >0</td>\n",
       "      <td id=\"T_5ad60_row3_col4\" class=\"data row3 col4\" >6.370</td>\n",
       "    </tr>\n",
       "    <tr>\n",
       "      <th id=\"T_5ad60_level1_row4\" class=\"row_heading level1 row4\" >Nord-Ovest</th>\n",
       "      <td id=\"T_5ad60_row4_col0\" class=\"data row4 col0\" >3.218</td>\n",
       "      <td id=\"T_5ad60_row4_col1\" class=\"data row4 col1\" >919</td>\n",
       "      <td id=\"T_5ad60_row4_col2\" class=\"data row4 col2\" >1.094</td>\n",
       "      <td id=\"T_5ad60_row4_col3\" class=\"data row4 col3\" >0</td>\n",
       "      <td id=\"T_5ad60_row4_col4\" class=\"data row4 col4\" >2.013</td>\n",
       "    </tr>\n",
       "    <tr>\n",
       "      <th id=\"T_5ad60_level0_row5\" class=\"row_heading level0 row5\" >Indiretta agenzie</th>\n",
       "      <th id=\"T_5ad60_level1_row5\" class=\"row_heading level1 row5\" >Rete IPSOA</th>\n",
       "      <td id=\"T_5ad60_row5_col0\" class=\"data row5 col0\" >17.205</td>\n",
       "      <td id=\"T_5ad60_row5_col1\" class=\"data row5 col1\" >0</td>\n",
       "      <td id=\"T_5ad60_row5_col2\" class=\"data row5 col2\" >0</td>\n",
       "      <td id=\"T_5ad60_row5_col3\" class=\"data row5 col3\" >0</td>\n",
       "      <td id=\"T_5ad60_row5_col4\" class=\"data row5 col4\" >0</td>\n",
       "    </tr>\n",
       "    <tr>\n",
       "      <th id=\"T_5ad60_level0_row6\" class=\"row_heading level0 row6\" >nan</th>\n",
       "      <th id=\"T_5ad60_level1_row6\" class=\"row_heading level1 row6\" >nan</th>\n",
       "      <td id=\"T_5ad60_row6_col0\" class=\"data row6 col0\" >3.550</td>\n",
       "      <td id=\"T_5ad60_row6_col1\" class=\"data row6 col1\" >0</td>\n",
       "      <td id=\"T_5ad60_row6_col2\" class=\"data row6 col2\" >3.550</td>\n",
       "      <td id=\"T_5ad60_row6_col3\" class=\"data row6 col3\" >0</td>\n",
       "      <td id=\"T_5ad60_row6_col4\" class=\"data row6 col4\" >3.550</td>\n",
       "    </tr>\n",
       "    <tr>\n",
       "      <th id=\"T_5ad60_level0_row7\" class=\"row_heading level0 row7\" >Totale</th>\n",
       "      <th id=\"T_5ad60_level1_row7\" class=\"row_heading level1 row7\" ></th>\n",
       "      <td id=\"T_5ad60_row7_col0\" class=\"data row7 col0\" >101.672</td>\n",
       "      <td id=\"T_5ad60_row7_col1\" class=\"data row7 col1\" >34.669</td>\n",
       "      <td id=\"T_5ad60_row7_col2\" class=\"data row7 col2\" >48.489</td>\n",
       "      <td id=\"T_5ad60_row7_col3\" class=\"data row7 col3\" >0</td>\n",
       "      <td id=\"T_5ad60_row7_col4\" class=\"data row7 col4\" >83.158</td>\n",
       "    </tr>\n",
       "  </tbody>\n",
       "</table>\n"
      ],
      "text/plain": [
       "<pandas.io.formats.style.Styler at 0x16145459910>"
      ]
     },
     "execution_count": 158,
     "metadata": {},
     "output_type": "execute_result"
    }
   ],
   "source": [
    "def df_style(val):\n",
    "    return \"font-weight: bold\"\n",
    "\n",
    "last_row = bpm_gb_sintesi.loc[\n",
    "    bpm_gb_sintesi.index == (\"Totale\",\"\"),:]\n",
    "\n",
    "bpm_gb_sintesi.style.format(thousands=\".\", precision=0, subset=[\"Valore Totale Ordine\",\"Importo Licenza\",\"Importo Servizi\",\"Importo HW\",\"Totale_Importi\"])\n",
    "#applymap(df_style, subset=last_row)"
   ]
  },
  {
   "cell_type": "code",
   "execution_count": 1,
   "metadata": {},
   "outputs": [],
   "source": [
    "import pandas as pd\n",
    "import os\n",
    "import numpy as np\n",
    "import datetime as dt\n",
    "from os import listdir\n",
    "from os.path import isfile, join\n",
    "from os.path import getmtime\n",
    "from directories import bpm_folder, bpm_export_file, par_file_path\n",
    "import time "
   ]
  },
  {
   "cell_type": "code",
   "execution_count": 5,
   "metadata": {},
   "outputs": [],
   "source": [
    "data_agg = dt.datetime.fromtimestamp(getmtime(bpm_export_file))"
   ]
  },
  {
   "cell_type": "code",
   "execution_count": 6,
   "metadata": {},
   "outputs": [],
   "source": [
    "bpm = pd.read_csv(bpm_export_file, sep=\";\", parse_dates=[\"Data Caricamento (in BPM)\"], date_parser=lambda x: dt.datetime.strptime(x, '%d/%m/%Y'), decimal=\",\", on_bad_lines=\"skip\")\n",
    "\n",
    "agente = pd.read_excel(par_file_path[\"agente_ordine\"], usecols=[\"Codice agente\", \"Agente dell'ORDINE\", \"RSM Agente\", \"Sales Director\"], dtype={\"Codice agente\":str})\n",
    "\n",
    "sales_director = pd.read_excel(par_file_path[\"sales_director\"], usecols=[\"Sales Director\", \"Area territoriale\", \"Rete\"])\n",
    "\n",
    "columns = ['Data Caricamento (in BPM)',  'Stato Lavorazione','Cod. Pratica (BPM)', 'Nr. Ordine','Inserito da', 'Sales Office', 'Codice Cliente SAP', 'Partita Iva/CF','Nome Cliente', 'Data Documento', 'Ordine Omaggio','Valore Totale Ordine', 'Importo HW', 'Importo Licenza','Importo Servizi', 'Note', 'Ord. Apparound','Automatico SAP', 'Opportunity Id', \"Sales Director\", \"Rete\", \"Area territoriale\", \"Agente dell'ORDINE\", \"RSM Agente\"]\n",
    "\n",
    "bpm_def = ((bpm.loc[:,:].merge(agente, how=\"left\",left_on=\"Sales Office\", right_on=\"Codice agente\"))\\\n",
    "    .merge(sales_director, left_on=\"Sales Director_y\", right_on=\"Sales Director\", how=\"left\"))\\\n",
    "        .loc[:,columns]"
   ]
  },
  {
   "cell_type": "code",
   "execution_count": 7,
   "metadata": {},
   "outputs": [],
   "source": [
    "bpm_gb_sintesi = bpm_def.groupby([\"Rete\", \"Area territoriale\"], dropna=False).agg({\"Valore Totale Ordine\":sum, \"Importo Licenza\":sum, \"Importo Servizi\":sum, \"Importo HW\":sum}).assign(Totale_Importi=lambda df_: df_[[\"Importo Licenza\", \"Importo Servizi\", \"Importo HW\"]].sum(axis=1))\n",
    "bpm_gb_sintesi_totale = bpm_gb_sintesi.agg(\"sum\").rename(\"Totale\").to_frame().T\n",
    "bpm_gb_sintesi_totale.index = pd.MultiIndex.from_tuples([(\"Totale\", '')], names=('Rete', 'Area territoriale'))\n",
    "bpm_gb_sintesi = pd.concat([bpm_gb_sintesi, bpm_gb_sintesi_totale], axis=0)"
   ]
  },
  {
   "cell_type": "code",
   "execution_count": 8,
   "metadata": {},
   "outputs": [],
   "source": [
    "bpm_gb_numero_ord = bpm_def.groupby([\"Rete\", \"Area territoriale\", \"Data Caricamento (in BPM)\", \"Inserito da\", \"Nr. Ordine\", \"Stato Lavorazione\"], dropna=False).agg({\"Valore Totale Ordine\":sum, \"Importo Licenza\":sum, \"Importo Servizi\":sum, \"Importo HW\":sum})"
   ]
  },
  {
   "cell_type": "code",
   "execution_count": 9,
   "metadata": {},
   "outputs": [],
   "source": [
    "registro_ordini = bpm_folder+r\"\\Registro ordini inseriti in PPM.xlsx\"\n",
    "with pd.ExcelWriter(registro_ordini, datetime_format='YYYY-MM-DD') as writer:\n",
    "    workbook  = writer.book\n",
    "    worksheet = workbook.add_worksheet('Ordini caricati')\n",
    "    worksheet.insert_image('A1', r'C:\\Users\\Raffaele.Sportiello\\OneDrive - Wolters Kluwer\\Documents\\Dashboard inflow\\Dashboard inflow canali e prodotti\\Speciali\\SFvsSAP.png')\n",
    "\n",
    "    bpm_gb_sintesi.to_excel(writer, sheet_name=\"Sintesi\", float_format=\"%.0f\")\n",
    "    \n",
    "    bpm_gb_numero_ord.to_excel(writer, sheet_name=\"Numero ord\", float_format=\"%.0f\")\n",
    "    bpm_def.to_excel(writer, sheet_name=\"Dettaglio\", index=False)"
   ]
  },
  {
   "cell_type": "code",
   "execution_count": 10,
   "metadata": {},
   "outputs": [],
   "source": [
    "import openpyxl\n",
    "\n",
    "# Apri il file Excel con openpyxl\n",
    "workbook = openpyxl.load_workbook(bpm_folder+r\"\\Registro ordini inseriti in PPM.xlsx\")\n",
    "worksheet = workbook['Sintesi']\n",
    "\n",
    "worksheet[\"I1\"] = \"Aggiornamento al:\"\n",
    "worksheet[\"J1\"] = data_agg\n",
    "\n",
    "# Cerca la riga contenente \"Totale\" e applica lo stile \"bold\"\n",
    "for row in worksheet.iter_rows():\n",
    "    for cell in row:\n",
    "        if cell.value == 'Totale':\n",
    "            for c in row:\n",
    "                c.font = openpyxl.styles.Font(bold=True)\n",
    "\n",
    "\n",
    "for col in worksheet.columns:\n",
    "    for cell in col:\n",
    "        if cell.row > 1:\n",
    "            cell.number_format = '#,##0'\n",
    "\n",
    "\n",
    "# Salva il file Excel modificato\n",
    "workbook.save(bpm_folder+r\"\\Registro ordini inseriti in PPM.xlsx\")"
   ]
  },
  {
   "cell_type": "code",
   "execution_count": 7,
   "metadata": {},
   "outputs": [],
   "source": [
    "\n",
    "import win32com.client as client\n",
    "excel = client.gencache.EnsureDispatch('Excel.Application')\n",
    "wb = excel.Workbooks.Open(registro_ordini)\n",
    "\n",
    "for sheet in wb.Sheets:\n",
    "      \n",
    "    ws = wb.Worksheets(sheet.Name)\n",
    "    ws.Columns.AutoFit()\n",
    "\n",
    "wb.Save()\n",
    "excel.Application.Quit()\n",
    "\n",
    "\n",
    "time.sleep(5)\n",
    "\n",
    "\n",
    "#############################################################################################################\n",
    "# Email\n",
    "#\n",
    "\n",
    "attachments = [registro_ordini,r'C:\\Users\\Raffaele.Sportiello\\OneDrive - Wolters Kluwer\\Documents\\Dashboard inflow\\Dashboard inflow canali e prodotti\\Speciali\\SFvsSAP.png']\n",
    "\n",
    "html_body = \"\"\"\n",
    "    <div>\n",
    "          <p>Ciao a tutti,<br><br>\n",
    "            in allegato il file aggiornato.<br><br>\n",
    "            Un saluto,<br>Raffaele<br><br></p>\n",
    "    </div>\n",
    "\"\"\"\n",
    "\n",
    "\n",
    "outlook = client.Dispatch('Outlook.Application')\n",
    "message = outlook.CreateItem(0)\n",
    "message.To = \"Cristiano.Mozzolani@wolterskluwer.com;Andrea.Ferrara@wolterskluwer.com;rossella.specia@wolterskluwer.com;Gabriele.Albarello@wolterskluwer.com;Camilla.Fabris@wolterskluwer.com\"\n",
    "message.CC = \"marco.bitossi@wolterskluwer.com;Loredana.Montagna@wolterskluwer.com\"\n",
    "message.Subject = 'Aggiornamento ordini BPM'\n",
    "message.HTMLBody = html_body\n",
    "for attachment in attachments:\n",
    "    message.Attachments.Add(Source=attachment)\n",
    "\n",
    "message.Display()\n",
    "\n",
    "\n"
   ]
  }
 ],
 "metadata": {
  "kernelspec": {
   "display_name": "base",
   "language": "python",
   "name": "python3"
  },
  "language_info": {
   "codemirror_mode": {
    "name": "ipython",
    "version": 3
   },
   "file_extension": ".py",
   "mimetype": "text/x-python",
   "name": "python",
   "nbconvert_exporter": "python",
   "pygments_lexer": "ipython3",
   "version": "3.9.12"
  },
  "orig_nbformat": 4,
  "vscode": {
   "interpreter": {
    "hash": "b3e4ceeb8545c6f77e2128b60a53d4f76e775a60f7e42e70cb0e4a6bd890691a"
   }
  }
 },
 "nbformat": 4,
 "nbformat_minor": 2
}
