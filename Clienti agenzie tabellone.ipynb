{
 "cells": [
  {
   "cell_type": "markdown",
   "id": "b27480b1-d260-4d39-9a6b-49f290923f39",
   "metadata": {},
   "source": [
    "C:\\Users\\Raffaele.Sportiello\\OneDrive - Wolters Kluwer\\Documents\\Analisi clienti\\Clienti per area territoriale\\Clienti indiretta\\Agenzie"
   ]
  },
  {
   "cell_type": "code",
   "execution_count": 2,
   "id": "b92d9d14-0d5e-4c0c-bb8d-efe360b8df2e",
   "metadata": {},
   "outputs": [],
   "source": [
    "import pandas as pd\n",
    "import os\n",
    "import numpy as np\n",
    "import datetime as dt\n",
    "\n",
    "from os import listdir\n",
    "from os.path import isfile, join\n",
    "from os.path import getmtime\n",
    "\n",
    "from zebra import remov_duplicates, human_format\n",
    "from babel.numbers import format_number"
   ]
  },
  {
   "cell_type": "code",
   "execution_count": 3,
   "id": "9ca260b9-7aad-4923-8ad9-e9535197afad",
   "metadata": {},
   "outputs": [],
   "source": [
    "idx = pd.IndexSlice"
   ]
  },
  {
   "cell_type": "code",
   "execution_count": 27,
   "id": "88305b48-80f1-461a-90d3-75f9f01ccf67",
   "metadata": {},
   "outputs": [],
   "source": [
    "pd.set_option('display.max_rows', 100)"
   ]
  },
  {
   "cell_type": "markdown",
   "id": "2fd6d31d-2f65-4ad8-80d0-c882d88318e5",
   "metadata": {
    "tags": []
   },
   "source": [
    "# Sources"
   ]
  },
  {
   "cell_type": "markdown",
   "id": "fcbda1cd-a8b6-43ee-98d4-b62b9a1348a9",
   "metadata": {
    "tags": []
   },
   "source": [
    "## Parametriche"
   ]
  },
  {
   "cell_type": "code",
   "execution_count": 4,
   "id": "6053cd66-3b4b-4929-a6b8-057782b22168",
   "metadata": {},
   "outputs": [],
   "source": [
    "parametriche = r\"C:\\Users\\Raffaele.Sportiello\\OneDrive - Wolters Kluwer\\Documents\\Dashboard inflow\\Parametriche\\\\\"\n",
    "onlyfiles = [f for f in listdir(r\"C:\\Users\\Raffaele.Sportiello\\OneDrive - Wolters Kluwer\\Documents\\Dashboard inflow\\Parametriche\") if isfile(join(r\"C:\\Users\\Raffaele.Sportiello\\OneDrive - Wolters Kluwer\\Documents\\Dashboard inflow\\Parametriche\", f))]\n",
    "\n",
    "par = {}\n",
    "for file in onlyfiles:\n",
    "    file_name=file.split(\".\")[0]\n",
    "    par[f\"{file_name}\"] = pd.read_excel(parametriche+file)"
   ]
  },
  {
   "cell_type": "code",
   "execution_count": 5,
   "id": "8821f122-6d81-4617-9048-8721353dc47a",
   "metadata": {},
   "outputs": [],
   "source": [
    "cod_prod = par[\"Classificazione_codice_prodotto\"]\n",
    "cod_prod[\"Codice PRODOTTO\"] = cod_prod[\"Codice PRODOTTO\"].apply(lambda x: str(x))\n",
    "cod_prod = cod_prod.loc[:, ['MDM', 'GTM BDG', 'Solution','Sub solution',\"Codice PRODOTTO\"]]\n",
    "\n",
    "sales_director = par[\"Sales_director\"]\n",
    "sales_director = sales_director.loc[:, [\"Sales Director\", \"Area territoriale\", \"Rete\"]]\n",
    "sales_director[\"Sales Director\"] = sales_director[\"Sales Director\"].str.lower()\n",
    "\n",
    "agente_ordine = par[\"Agente_ordine\"]\n",
    "\n",
    "esc_fatture = par[\"Esclusione_fatture\"]\n",
    "esc_fatture[\"Numero Fattura\"] = esc_fatture[\"Numero Fattura\"].astype(str)\n",
    "\n",
    "esc_ordini = par[\"Esclusione_ordini\"]\n",
    "esc_ordini[\"Numero Ordine\"] = esc_ordini[\"Numero Ordine\"].astype(str)\n",
    "\n",
    "li_prodotti = par[\"Linea_prodotti\"]"
   ]
  },
  {
   "cell_type": "markdown",
   "id": "b45259db-1b56-42c1-b62c-21102daef379",
   "metadata": {
    "tags": []
   },
   "source": [
    "## Parco clienti da Licenze e abbonamenti"
   ]
  },
  {
   "cell_type": "code",
   "execution_count": 6,
   "id": "f01009b7-7a72-40c0-a4c6-9d71c3e14844",
   "metadata": {},
   "outputs": [],
   "source": [
    "clienti = r\"C:\\Users\\Raffaele.Sportiello\\OneDrive - Wolters Kluwer\\Documents\\Analisi clienti\\Parco clienti\\Data export\\Diretta Indiretta IndirettaWKInfo\\\\\"\n",
    "\n",
    "onlyfiles = [f for f in listdir(r\"C:\\Users\\Raffaele.Sportiello\\OneDrive - Wolters Kluwer\\Documents\\Analisi clienti\\Parco clienti\\Data export\\Diretta Indiretta IndirettaWKInfo\") if isfile(join(r\"C:\\Users\\Raffaele.Sportiello\\OneDrive - Wolters Kluwer\\Documents\\Analisi clienti\\Parco clienti\\Data export\\Diretta Indiretta IndirettaWKInfo\", f))]\n",
    "\n",
    "dfs = []\n",
    "for file in onlyfiles:\n",
    "    data = pd.read_excel(clienti+file, na_values=\"#\", dtype={\"Data inizio contratt\":object, \"Data Inizio Abb.\":object, \"Data Fine Abb.\":object, \"Cliente FATTURA\":str, \"Codice ABBONAMENTO\":str})\n",
    "    data[\"Tipo Licenza\"] = file.split(\"_\")[1].split(\".\")[0]\n",
    "    data[\"Ultimo Agg.\"] = dt.date.fromtimestamp(getmtime(clienti+file))\n",
    "    dfs.append(data)\n",
    "\n",
    "cli = pd.concat(dfs, axis=0, ignore_index=True)\n",
    "    \n",
    "for col in cli.columns:\n",
    "    if \"Data\" in col:\n",
    "        \n",
    "        cli[col] = cli[col].apply(lambda x: (float(x) - 25569) * 86400)\n",
    "        cli[col] = pd.to_datetime(cli[col], unit=\"s\")\n",
    "    else:\n",
    "        pass\n",
    "\n",
    "cli.rename(columns={'Unnamed: 10':'Descrizione ABBONAMENTO'}, inplace=True )"
   ]
  },
  {
   "cell_type": "markdown",
   "id": "b2b49212-1c12-4d30-9a71-0f322de7989f",
   "metadata": {
    "tags": []
   },
   "source": [
    "## All accounts da Salesforce"
   ]
  },
  {
   "cell_type": "code",
   "execution_count": 7,
   "id": "305540f4-df42-4c49-8382-e4dc84397e80",
   "metadata": {},
   "outputs": [],
   "source": [
    "accounts_sf = pd.read_csv(r\"C:\\Users\\Raffaele.Sportiello\\OneDrive - Wolters Kluwer\\Documents\\Salesforce\\Data export\\IT_all_accounts.csv\", encoding='latin-1', sep=\";\")"
   ]
  },
  {
   "cell_type": "markdown",
   "id": "5b6b6544-6f9b-406b-9a4d-1472daacf2e4",
   "metadata": {
    "tags": []
   },
   "source": [
    "# Lista di clienti con determinati prodotti"
   ]
  },
  {
   "cell_type": "markdown",
   "id": "1d9e82d0-e786-495a-b7a3-ea54605b5bcd",
   "metadata": {
    "tags": []
   },
   "source": [
    "## Filtri"
   ]
  },
  {
   "cell_type": "code",
   "execution_count": 8,
   "id": "82644564-7f5a-421c-8207-86c03b1b796d",
   "metadata": {},
   "outputs": [],
   "source": [
    "#Inserire valore per stato abbonamento e per stato contratto\n",
    "\n",
    "stato_abb = (cli[\"Stato Esteso\"].str.contains(\"ATTIVO\")) & (cli[\"Stato Sintetico Contratto\"].isin([\"Attivo\",\"Sospeso\"]))\n",
    "\n",
    "#Inserire colonne da considerare\n",
    "\n",
    "columns = [\"Cliente MERCE\",\"Segmento Aggregato Cl.Merce\", 'Codice agente',\"Agente dell'ORDINE\", 'RSM Agente', \"Area territoriale\",'Solution', 'Sub solution', \"Sistema\",\"Fornitura (SW)\",\"Valore PV New\"]\n",
    "\n",
    "#Inserire area territoriale\n",
    "\n",
    "area_territ = ['Rete IPSOA', 'Rete WKI']\n"
   ]
  },
  {
   "cell_type": "markdown",
   "id": "ddc23df8-878b-4ab6-bc09-c54fccabb686",
   "metadata": {},
   "source": [
    "## Creazione dataframe filtrato"
   ]
  },
  {
   "cell_type": "code",
   "execution_count": 9,
   "id": "ddf913ff-1010-4260-a744-867259c5f138",
   "metadata": {},
   "outputs": [],
   "source": [
    "clienti = cli.loc[stato_abb, :].copy()\n",
    "\n",
    "clienti[\"Sales Director\"] = clienti[\"Sales Director\"].str.lower()\n",
    "clienti[\"Codice ABBONAMENTO\"] = clienti.loc[:,\"Codice ABBONAMENTO\"].apply(str)\n",
    "\n",
    "def cli_prod_saldir_ag(df_):\n",
    "    df = clienti.merge(cod_prod, how=\"left\", left_on=\"Codice ABBONAMENTO\", right_on=\"Codice PRODOTTO\")\\\n",
    "          .merge(sales_director, how=\"left\", on=\"Sales Director\")\\\n",
    "          .merge(agente_ordine, how=\"left\", left_on=\"Agente dell'Abbonamento\", right_on=\"Codice agente\")\n",
    "    df[\"Cliente MERCE\"] = df[\"Cliente MERCE\"].apply(str)\n",
    "    \n",
    "    return df.loc[df[\"Area territoriale\"].isin(area_territ), columns]\n",
    "\n",
    "clienti = clienti.pipe(cli_prod_saldir_ag)"
   ]
  },
  {
   "cell_type": "markdown",
   "id": "67ff0032-b965-42ca-bcb6-65ffec49731b",
   "metadata": {},
   "source": [
    "## Valore PV per cliente"
   ]
  },
  {
   "cell_type": "code",
   "execution_count": 10,
   "id": "9d90352a-26ef-4b62-acc4-31de3faf1252",
   "metadata": {},
   "outputs": [],
   "source": [
    "clienti[\"PV Cliente\"] = clienti.groupby(\"Cliente MERCE\", dropna=False)[\"Valore PV New\"].transform(sum)"
   ]
  },
  {
   "cell_type": "markdown",
   "id": "be068d7f-a1db-4312-88ec-ec27371dd9cb",
   "metadata": {},
   "source": [
    "## Modifica valore Solution per comprendere uno o più valori della Sub Solution"
   ]
  },
  {
   "cell_type": "code",
   "execution_count": 11,
   "id": "48b4033f-4141-4fec-88e3-197c1172e3fc",
   "metadata": {},
   "outputs": [],
   "source": [
    "clienti.loc[(clienti[\"Sub solution\"] == \"Tuttotel FE\"),  \"Solution\"] = \"Tuttotel FE\"\n",
    "clienti.loc[(clienti[\"Sub solution\"] == \"DIGY EC\"),  \"Solution\"] = \"DIGY EC\""
   ]
  },
  {
   "cell_type": "code",
   "execution_count": 12,
   "id": "4f8d8319-0308-471e-b007-c556af223f4b",
   "metadata": {},
   "outputs": [],
   "source": [
    "solutions = [\"Sistema Professionista\", \"B.Point\", \"B.Point Paghe\", \"Giotto\", \"Arca Evolution\", \"Genya Bilancio\", \"Tuttomodelli\", \"Tuttotel\", \"Tuttotel FE\", \"DIGY EC\", \"B.Point Azienda\", \"Prima Nota\"]\n",
    "\n",
    "clienti = clienti.loc[clienti[\"Solution\"].isin( solutions),:].copy()"
   ]
  },
  {
   "cell_type": "code",
   "execution_count": 13,
   "id": "cf2ff2cd-ad9c-413f-b1a9-566eac8f465b",
   "metadata": {},
   "outputs": [],
   "source": [
    "clienti.loc[~clienti[\"Solution\"].isin([\"Sistema Professionista\", \"B.Point\"]), \"Fornitura (SW)\"] = \"\""
   ]
  },
  {
   "cell_type": "code",
   "execution_count": 14,
   "id": "19c49dec-ba05-4583-a793-9146836efd52",
   "metadata": {},
   "outputs": [],
   "source": [
    "tabellone = clienti.groupby([\"RSM Agente\", \"Agente dell'ORDINE\", \"Cliente MERCE\", \"PV Cliente\", \"Solution\", \"Fornitura (SW)\"], dropna=False).agg({\"Valore PV New\":\"sum\"}).unstack([4,5]).reset_index(col_level=1).droplevel(level=0, axis=1)"
   ]
  },
  {
   "cell_type": "code",
   "execution_count": 15,
   "id": "e21c744a-8b53-470c-a45c-145a2d1b9f98",
   "metadata": {},
   "outputs": [],
   "source": [
    "tabellone.columns = tabellone.columns.map('|'.join).str.strip('|')"
   ]
  },
  {
   "cell_type": "markdown",
   "id": "7d16faad-085e-47d6-9b3b-8b6c06c81015",
   "metadata": {},
   "source": [
    "## Aggiunta della ragione sociale"
   ]
  },
  {
   "cell_type": "code",
   "execution_count": 16,
   "id": "08d6722d-245f-4f4d-b88f-99dd5bbb4357",
   "metadata": {},
   "outputs": [],
   "source": [
    "tabellone[\"Codice SAP\"] = tabellone[\"Cliente MERCE\"].astype(str).apply(lambda x: \"IT-\" + x.zfill(10))\n",
    "tabellone = tabellone.merge(accounts_sf, how=\"left\", left_on=\"Codice SAP\", right_on=\"WK Account Number\")"
   ]
  },
  {
   "cell_type": "markdown",
   "id": "4b3bc4ae-9e7a-4cda-97df-c8e756b70513",
   "metadata": {},
   "source": [
    "## Ultima definizione colonne"
   ]
  },
  {
   "cell_type": "code",
   "execution_count": 18,
   "id": "989c86c8-400c-466b-b482-c5119c457a2c",
   "metadata": {},
   "outputs": [],
   "source": [
    "tabellone = tabellone.loc[:,['RSM Agente', \"Agente dell'ORDINE\", \"Account Name\", \"Cliente MERCE\", 'PV Cliente',\n",
    "                             'Sistema Professionista|ON PREMISE',  'B.Point|ON PREMISE',\n",
    "                             'Sistema Professionista|SAAS', 'B.Point|SAAS', \n",
    "                             'B.Point Paghe', 'Giotto',\n",
    "                             'Arca Evolution', 'Genya Bilancio',\n",
    "                             'Tuttomodelli',\n",
    "                             'Tuttotel', 'Tuttotel FE',\n",
    "                             'DIGY EC',\n",
    "                             'B.Point Azienda', \n",
    "                             'Prima Nota']].copy()\n",
    "tabellone.rename(columns={\"Agente dell'ORDINE\":\"Agenzia\", \"RSM Agente\":\"ICC\"}, inplace=True)"
   ]
  },
  {
   "cell_type": "code",
   "execution_count": 20,
   "id": "f43c8fb6-8cbc-4b8f-ba99-355e07a64966",
   "metadata": {},
   "outputs": [],
   "source": [
    "for rsm in tabellone[\"ICC\"].unique():\n",
    "    \n",
    "    with pd.ExcelWriter(f\"C:/Users/Raffaele.Sportiello/OneDrive - Wolters Kluwer/Documents/Analisi clienti/Clienti per area territoriale/Clienti indiretta/Agenzie/ICC/{rsm}.xlsx\") as writer:\n",
    "        \n",
    "        for elemento in tabellone.loc[tabellone[\"ICC\"] == rsm, \"Agenzia\"].unique():\n",
    "            \n",
    "            tabellone.loc[(tabellone[\"ICC\"] == rsm) & (tabellone[\"Agenzia\"] == elemento),\n",
    "                         [\"Account Name\", \"Cliente MERCE\", 'PV Cliente',\n",
    "                         'Sistema Professionista|ON PREMISE',  'B.Point|ON PREMISE',\n",
    "                         'Sistema Professionista|SAAS', 'B.Point|SAAS', \n",
    "                         'B.Point Paghe', 'Giotto',\n",
    "                        'Arca Evolution', 'Genya Bilancio',\n",
    "                         'Tuttomodelli',\n",
    "                         'Tuttotel', 'Tuttotel FE',\n",
    "                         'DIGY EC',\n",
    "                         'B.Point Azienda',\n",
    "                          'Prima Nota']].to_excel(writer, sheet_name=elemento, index=False, float_format = \"%0.0f\")\n"
   ]
  },
  {
   "cell_type": "code",
   "execution_count": 88,
   "id": "bcaa53e2-c2fc-47bc-b3fc-22dfd7a2ede4",
   "metadata": {},
   "outputs": [
    {
     "data": {
      "text/html": [
       "<div>\n",
       "<style scoped>\n",
       "    .dataframe tbody tr th:only-of-type {\n",
       "        vertical-align: middle;\n",
       "    }\n",
       "\n",
       "    .dataframe tbody tr th {\n",
       "        vertical-align: top;\n",
       "    }\n",
       "\n",
       "    .dataframe thead th {\n",
       "        text-align: right;\n",
       "    }\n",
       "</style>\n",
       "<table border=\"1\" class=\"dataframe\">\n",
       "  <thead>\n",
       "    <tr style=\"text-align: right;\">\n",
       "      <th></th>\n",
       "      <th></th>\n",
       "      <th>Valore PV New</th>\n",
       "      <th>PV Cliente</th>\n",
       "    </tr>\n",
       "    <tr>\n",
       "      <th>Agente dell'ORDINE</th>\n",
       "      <th>Solution</th>\n",
       "      <th></th>\n",
       "      <th></th>\n",
       "    </tr>\n",
       "  </thead>\n",
       "  <tbody>\n",
       "    <tr>\n",
       "      <th rowspan=\"3\" valign=\"top\">GAM SOLUZIONI S.R.L.</th>\n",
       "      <th>B.Point</th>\n",
       "      <td>2470.73</td>\n",
       "      <td>7339.5</td>\n",
       "    </tr>\n",
       "    <tr>\n",
       "      <th>Tuttotel</th>\n",
       "      <td>791.16</td>\n",
       "      <td>7339.5</td>\n",
       "    </tr>\n",
       "    <tr>\n",
       "      <th>Tuttotel FE</th>\n",
       "      <td>220.34</td>\n",
       "      <td>7339.5</td>\n",
       "    </tr>\n",
       "  </tbody>\n",
       "</table>\n",
       "</div>"
      ],
      "text/plain": [
       "                                  Valore PV New  PV Cliente\n",
       "Agente dell'ORDINE   Solution                              \n",
       "GAM SOLUZIONI S.R.L. B.Point            2470.73      7339.5\n",
       "                     Tuttotel            791.16      7339.5\n",
       "                     Tuttotel FE         220.34      7339.5"
      ]
     },
     "execution_count": 88,
     "metadata": {},
     "output_type": "execute_result"
    }
   ],
   "source": [
    "clienti.groupby([\"Cliente MERCE\", \"Agente dell'ORDINE\", \"Solution\"], dropna=False).agg({\"Valore PV New\":\"sum\", \"PV Cliente\":\"max\"}).loc[\"1158832\"]"
   ]
  },
  {
   "cell_type": "code",
   "execution_count": 91,
   "id": "5e0dcb19-7e7e-4e47-b9f8-16146693e565",
   "metadata": {},
   "outputs": [
    {
     "data": {
      "text/html": [
       "<div>\n",
       "<style scoped>\n",
       "    .dataframe tbody tr th:only-of-type {\n",
       "        vertical-align: middle;\n",
       "    }\n",
       "\n",
       "    .dataframe tbody tr th {\n",
       "        vertical-align: top;\n",
       "    }\n",
       "\n",
       "    .dataframe thead th {\n",
       "        text-align: right;\n",
       "    }\n",
       "</style>\n",
       "<table border=\"1\" class=\"dataframe\">\n",
       "  <thead>\n",
       "    <tr style=\"text-align: right;\">\n",
       "      <th></th>\n",
       "      <th></th>\n",
       "      <th>Valore PV New</th>\n",
       "    </tr>\n",
       "    <tr>\n",
       "      <th>Agente dell'Abbonamento</th>\n",
       "      <th>Prodotto (SW)</th>\n",
       "      <th></th>\n",
       "    </tr>\n",
       "  </thead>\n",
       "  <tbody>\n",
       "    <tr>\n",
       "      <th rowspan=\"8\" valign=\"top\">J075</th>\n",
       "      <th>B.POINT</th>\n",
       "      <td>2470.73</td>\n",
       "    </tr>\n",
       "    <tr>\n",
       "      <th>BASILEA</th>\n",
       "      <td>257.91</td>\n",
       "    </tr>\n",
       "    <tr>\n",
       "      <th>SIAR</th>\n",
       "      <td>463.24</td>\n",
       "    </tr>\n",
       "    <tr>\n",
       "      <th>SUITE BILANCIO</th>\n",
       "      <td>779.80</td>\n",
       "    </tr>\n",
       "    <tr>\n",
       "      <th>TANDEM</th>\n",
       "      <td>257.90</td>\n",
       "    </tr>\n",
       "    <tr>\n",
       "      <th>TUTTOTEL</th>\n",
       "      <td>1011.50</td>\n",
       "    </tr>\n",
       "    <tr>\n",
       "      <th>VALUTAZIONE AZIENDA</th>\n",
       "      <td>193.43</td>\n",
       "    </tr>\n",
       "    <tr>\n",
       "      <th>WEBDESK</th>\n",
       "      <td>1904.99</td>\n",
       "    </tr>\n",
       "  </tbody>\n",
       "</table>\n",
       "</div>"
      ],
      "text/plain": [
       "                                             Valore PV New\n",
       "Agente dell'Abbonamento Prodotto (SW)                     \n",
       "J075                    B.POINT                    2470.73\n",
       "                        BASILEA                     257.91\n",
       "                        SIAR                        463.24\n",
       "                        SUITE BILANCIO              779.80\n",
       "                        TANDEM                      257.90\n",
       "                        TUTTOTEL                   1011.50\n",
       "                        VALUTAZIONE AZIENDA         193.43\n",
       "                        WEBDESK                    1904.99"
      ]
     },
     "execution_count": 91,
     "metadata": {},
     "output_type": "execute_result"
    }
   ],
   "source": [
    "cli.groupby([\"Cliente MERCE\", \"Agente dell'Abbonamento\", \"Prodotto (SW)\"], dropna=False).agg({\"Valore PV New\":\"sum\"}).loc[1158832]"
   ]
  },
  {
   "cell_type": "code",
   "execution_count": null,
   "id": "ab29c6c8-3adf-4059-bbd2-821855b8e12f",
   "metadata": {},
   "outputs": [],
   "source": []
  }
 ],
 "metadata": {
  "kernelspec": {
   "display_name": "base",
   "language": "python",
   "name": "python3"
  },
  "language_info": {
   "codemirror_mode": {
    "name": "ipython",
    "version": 3
   },
   "file_extension": ".py",
   "mimetype": "text/x-python",
   "name": "python",
   "nbconvert_exporter": "python",
   "pygments_lexer": "ipython3",
   "version": "3.9.12"
  },
  "vscode": {
   "interpreter": {
    "hash": "b3e4ceeb8545c6f77e2128b60a53d4f76e775a60f7e42e70cb0e4a6bd890691a"
   }
  }
 },
 "nbformat": 4,
 "nbformat_minor": 5
}
