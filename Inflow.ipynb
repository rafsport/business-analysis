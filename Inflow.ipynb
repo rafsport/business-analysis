{
 "cells": [
  {
   "cell_type": "code",
   "execution_count": 1,
   "id": "593fc952-138d-4230-bf41-7b04de0b8f87",
   "metadata": {},
   "outputs": [],
   "source": [
    "import pandas as pd\n",
    "import os\n",
    "import numpy as np\n",
    "import datetime as dt\n",
    "\n",
    "from os import listdir\n",
    "from os.path import isfile, join\n",
    "\n",
    "from babel.numbers import format_number\n",
    "\n",
    "from matplotlib import dates"
   ]
  },
  {
   "cell_type": "code",
   "execution_count": 2,
   "id": "04be6120-76d7-46b2-8630-0e8d20b5b16a",
   "metadata": {},
   "outputs": [],
   "source": [
    "idx = pd.IndexSlice"
   ]
  },
  {
   "cell_type": "markdown",
   "id": "c83dd5c4-8cba-44e7-a671-ba950631ce49",
   "metadata": {
    "tags": []
   },
   "source": [
    "___"
   ]
  },
  {
   "cell_type": "markdown",
   "id": "6df87950-c255-42a9-bd4c-d61dfb03e369",
   "metadata": {
    "tags": []
   },
   "source": [
    "# Data collection"
   ]
  },
  {
   "cell_type": "markdown",
   "id": "2e0345fa-4761-499f-a8ea-acab61836d0e",
   "metadata": {
    "tags": []
   },
   "source": [
    "## Inflow"
   ]
  },
  {
   "cell_type": "markdown",
   "id": "9462cf1f-1328-4624-b3f3-7654ac7dd0a1",
   "metadata": {},
   "source": [
    "[Import multiple excel at once](https://stackoverflow.com/questions/20908018/import-multiple-excel-files-into-python-pandas-and-concatenate-them-into-one-dat)"
   ]
  },
  {
   "cell_type": "code",
   "execution_count": 8,
   "id": "3b170452-abe9-45bf-8ac3-1b7a0fe07dc3",
   "metadata": {},
   "outputs": [],
   "source": [
    "inflow_prodotti = r\"C:\\Users\\Raffaele.Sportiello\\OneDrive - Wolters Kluwer\\Documents\\Dashboard inflow\\Dashboard inflow canali e prodotti\\Source\\inflow_prodotti\\\\\"\n",
    "\n",
    "onlyfiles = [f for f in listdir(r\"C:\\Users\\Raffaele.Sportiello\\OneDrive - Wolters Kluwer\\Documents\\Dashboard inflow\\Dashboard inflow canali e prodotti\\Source\\inflow_prodotti\") if isfile(join(r\"C:\\Users\\Raffaele.Sportiello\\OneDrive - Wolters Kluwer\\Documents\\Dashboard inflow\\Dashboard inflow canali e prodotti\\Source\\inflow_prodotti\", f))]\n",
    "\n",
    "dfs = []\n",
    "for file in onlyfiles:\n",
    "    data = pd.read_excel(inflow_prodotti+file)\n",
    "    dfs.append(data)\n",
    "\n",
    "inflow = pd.concat(dfs, axis=0, ignore_index=True)\n",
    "    \n",
    "inflow.loc[:,[\"Cliente Merce\", \"Cliente FATTURA\", \"Codice PRODOTTO\"]] = inflow.loc[:,[\"Cliente Merce\", \"Cliente FATTURA\", \"Codice PRODOTTO\"]].apply(lambda x: x.astype(str))\n",
    "inflow.rename(columns={\"Data Ins. Ordine (monitoraggio)\":\"Giorno\"}, inplace=True)"
   ]
  },
  {
   "cell_type": "code",
   "execution_count": 9,
   "id": "5797c6a7-207c-4f9f-a0f9-86501ffbce9f",
   "metadata": {},
   "outputs": [
    {
     "name": "stdout",
     "output_type": "stream",
     "text": [
      "<class 'pandas.core.frame.DataFrame'>\n",
      "RangeIndex: 132574 entries, 0 to 132573\n",
      "Data columns (total 21 columns):\n",
      " #   Column                Non-Null Count   Dtype         \n",
      "---  ------                --------------   -----         \n",
      " 0   Area (SW)             132574 non-null  object        \n",
      " 1   Prodotto (SW)         132574 non-null  object        \n",
      " 2   Soluzione (SW)        132574 non-null  object        \n",
      " 3   Codice PRODOTTO       132574 non-null  object        \n",
      " 4   Fornitura (SW)        132574 non-null  object        \n",
      " 5   Gruppo Prodotti Ricl  132574 non-null  object        \n",
      " 6   Agente dell'ORDINE    132574 non-null  object        \n",
      " 7   Sales Director        132574 non-null  object        \n",
      " 8   Canale di VENDITA     132572 non-null  object        \n",
      " 9   Cliente Merce         132574 non-null  object        \n",
      " 10  Cliente FATTURA       132574 non-null  object        \n",
      " 11  Gruppo Conti Merce    132574 non-null  object        \n",
      " 12  Segmento Aggregato    132574 non-null  object        \n",
      " 13  Linea Prodotti        132574 non-null  object        \n",
      " 14  Business Unit         132574 non-null  object        \n",
      " 15  Numero Ordine         132574 non-null  object        \n",
      " 16  Origine Ordine        132574 non-null  object        \n",
      " 17  Numero Fattura        42608 non-null   object        \n",
      " 18  Giorno                132574 non-null  datetime64[ns]\n",
      " 19  Raccolto              125698 non-null  float64       \n",
      " 20  Budget  assegnato     6876 non-null    float64       \n",
      "dtypes: datetime64[ns](1), float64(2), object(18)\n",
      "memory usage: 21.2+ MB\n"
     ]
    }
   ],
   "source": [
    "inflow.info()"
   ]
  },
  {
   "cell_type": "markdown",
   "id": "4f6e46ca-7b80-482a-8ab2-f1d994abf6b7",
   "metadata": {
    "tags": []
   },
   "source": [
    "## Inflow per cliente"
   ]
  },
  {
   "cell_type": "code",
   "execution_count": 80,
   "id": "c51fc300-e905-4ad3-82bb-d154a166aa1e",
   "metadata": {},
   "outputs": [],
   "source": [
    "inflow_cliente = pd.read_excel(r\"C:\\Users\\Raffaele.Sportiello\\OneDrive - Wolters Kluwer\\Documents\\Analisi inflow\\Data export\\inflow_per_cliente_2021-2022.xlsb\", na_values=[\"#\"], dtype = {\"Cliente FATTURA\":object})\n"
   ]
  },
  {
   "cell_type": "markdown",
   "id": "470b509e-9a5e-46a4-bb42-73da5e4ed402",
   "metadata": {
    "tags": []
   },
   "source": [
    "## Budget prodotti"
   ]
  },
  {
   "cell_type": "code",
   "execution_count": 6,
   "id": "dc3d6c03-70b7-49f6-8443-9749c84da88f",
   "metadata": {},
   "outputs": [],
   "source": [
    "budget_prodotti = r\"C:\\Users\\Raffaele.Sportiello\\OneDrive - Wolters Kluwer\\Documents\\Dashboard inflow\\Dashboard inflow canali e prodotti\\Source\\budget_prodotti\\\\\"\n",
    "\n",
    "onlyfiles = [f for f in listdir(r\"C:\\Users\\Raffaele.Sportiello\\OneDrive - Wolters Kluwer\\Documents\\Dashboard inflow\\Dashboard inflow canali e prodotti\\Source\\budget_prodotti\") if isfile(join(r\"C:\\Users\\Raffaele.Sportiello\\OneDrive - Wolters Kluwer\\Documents\\Dashboard inflow\\Dashboard inflow canali e prodotti\\Source\\budget_prodotti\", f))]\n",
    "\n",
    "bdg = pd.DataFrame()\n",
    "\n",
    "for file in onlyfiles:\n",
    "    data = pd.read_excel(budget_prodotti+file)\n",
    "    bdg = bdg.append(data)\n",
    "\n",
    "for col in bdg.select_dtypes(include=[object]).columns:\n",
    "    bdg[col] = bdg[col].astype(str)"
   ]
  },
  {
   "cell_type": "markdown",
   "id": "97219ccf-1078-45f6-9489-9dea7007b7a5",
   "metadata": {
    "tags": []
   },
   "source": [
    "## Parametriche"
   ]
  },
  {
   "cell_type": "markdown",
   "id": "3a8feea2-78d7-45cf-9d88-5cfee6bf061e",
   "metadata": {},
   "source": [
    "[Import multiple excel at once and assign to multiple dataframes](https://stackoverflow.com/questions/58563546/pandas-save-multiple-sheets-into-separate-dataframes)"
   ]
  },
  {
   "cell_type": "code",
   "execution_count": 3,
   "id": "187c3569-b28c-4ed5-b327-85ba580c69be",
   "metadata": {
    "tags": []
   },
   "outputs": [],
   "source": [
    "parametriche = r\"C:\\Users\\Raffaele.Sportiello\\OneDrive - Wolters Kluwer\\Documents\\Dashboard inflow\\Parametriche\\\\\"\n",
    "onlyfiles = [f for f in listdir(r\"C:\\Users\\Raffaele.Sportiello\\OneDrive - Wolters Kluwer\\Documents\\Dashboard inflow\\Parametriche\") if isfile(join(r\"C:\\Users\\Raffaele.Sportiello\\OneDrive - Wolters Kluwer\\Documents\\Dashboard inflow\\Parametriche\", f))]\n",
    "\n",
    "par = {}\n",
    "for file in onlyfiles:\n",
    "    file_name=file.split(\".\")[0]\n",
    "    par[f\"{file_name}\"] = pd.read_excel(parametriche+file)"
   ]
  },
  {
   "cell_type": "code",
   "execution_count": 6,
   "id": "48711dda-c862-4172-8a17-35682a12942e",
   "metadata": {},
   "outputs": [
    {
     "data": {
      "text/plain": [
       "dict_keys(['Agente_ordine', 'Area_prodotto', 'Canale_vendita', 'Classificazione_codice_prodotto - New', 'Classificazione_codice_prodotto', 'Classificazione_mdm', 'Clienti_inside_sales', 'Esclusione_fatture', 'Esclusione_ordini', 'Forfait', 'Giorni_lavorativi', 'Linea_prodotti', 'Sales_director'])"
      ]
     },
     "execution_count": 6,
     "metadata": {},
     "output_type": "execute_result"
    }
   ],
   "source": [
    "par.keys()"
   ]
  },
  {
   "cell_type": "markdown",
   "id": "743420d5-fdf2-44a0-a4e2-321bf75ecafc",
   "metadata": {
    "tags": []
   },
   "source": [
    "## Salesforce accounts"
   ]
  },
  {
   "cell_type": "code",
   "execution_count": 26,
   "id": "c8a52444-c028-4fa8-89ce-1eb2238d8fd0",
   "metadata": {},
   "outputs": [],
   "source": [
    "accounts_sf = pd.read_csv(r\"C:\\Users\\Raffaele.Sportiello\\OneDrive - Wolters Kluwer\\Documents\\Salesforce\\Data export\\IT_all_accounts.csv\", encoding='latin-1', sep=\";\")"
   ]
  },
  {
   "cell_type": "markdown",
   "id": "68457129-b14f-4029-8081-057e02e63916",
   "metadata": {},
   "source": [
    "***"
   ]
  },
  {
   "cell_type": "markdown",
   "id": "791d759e-747c-4564-a24b-ca060b0cb01d",
   "metadata": {
    "tags": []
   },
   "source": [
    "<a id='merge_analisi_paghe'></a>\n",
    "# Merge per analisi paghe"
   ]
  },
  {
   "cell_type": "code",
   "execution_count": null,
   "id": "06ec21c4-1b64-4277-a633-b3d3e34e4f01",
   "metadata": {},
   "outputs": [],
   "source": [
    "df_= df.loc[df[\"Raccolto\"].notna(), ['Cliente Merce', 'Area (SW)', 'Codice PRODOTTO', 'Soluzione (SW)', 'Sales Director', 'Linea Prodotti', 'Gruppo Conti Merce', 'Segmento Aggregato', \"Agente dell'ORDINE\", \"Data Ins. Ordine (monitoraggio)\", 'Raccolto']] \n",
    "\n",
    "df_[\"Codice PRODOTTO\"] = df_[\"Codice PRODOTTO\"].astype(str)\n",
    "df_[\"Sales Director\"] = df_[\"Sales Director\"].astype(str)\n",
    "\n",
    "par[\"Classificazione_codice_prodotto\"][\"Codice PRODOTTO\"] = par[\"Classificazione_codice_prodotto\"][\"Codice PRODOTTO\"].astype(str)\n",
    "par[\"Sales_director\"][\"Sales Director\"] = par[\"Sales_director\"][\"Sales Director\"].astype(str)\n",
    "\n",
    "df_= df_.merge(par[\"Classificazione_codice_prodotto\"], on=\"Codice PRODOTTO\", how=\"left\").merge(par[\"Sales_director\"], on=\"Sales Director\", how=\"left\")\n",
    "\n",
    "df_[\"Cliente Merce\"] = df_[\"Cliente Merce\"].apply(lambda x: str(x).zfill(10))\n",
    "\n",
    "clienti = pd.read_csv(r\"C:\\Users\\Raffaele.Sportiello\\OneDrive - Wolters Kluwer\\Documents\\Salesforce\\Data export\\IT_all_accounts.csv\", encoding='latin-1', sep=\";\")\n",
    "\n",
    "clienti.drop_duplicates(subset=[\"WK Account Number\"], inplace=True)\n",
    "\n",
    "clienti[\"Cliente Merce\"] = clienti[\"WK Account Number\"].str.split(\"-\", expand=True)[1]\n",
    "\n",
    "columns = ['Cliente Merce', 'Area (SW)',  'Soluzione (SW)', 'Prodotto (SW)', 'Codice PRODOTTO', 'Descrizione prodotto', 'Sub solution', 'Solution', 'Sales Director', 'Linea Prodotti', 'Gruppo Conti Merce', 'Segmento Aggregato', \"Agente dell'ORDINE\",'Data Ins. Ordine (monitoraggio)', 'Raccolto',  'Rete', 'Rete2', 'Rete3']\n",
    "\n",
    "clients = df_.loc[:, columns].merge(clienti, how=\"left\", on=[\"Cliente Merce\"])"
   ]
  },
  {
   "cell_type": "code",
   "execution_count": null,
   "id": "be64823a-247a-42c7-9592-cbe74b026dfa",
   "metadata": {},
   "outputs": [],
   "source": [
    "clients.to_excel(r\"C:\\Users\\Raffaele.Sportiello\\OneDrive - Wolters Kluwer\\Documents\\Analisi clienti\\Clienti_paghe\\clienti_per_analisi_paghe_v2.xlsx\", index=False)"
   ]
  },
  {
   "cell_type": "code",
   "execution_count": null,
   "id": "dd89f077-43b6-42d0-a9a0-5d8a5ea7df74",
   "metadata": {},
   "outputs": [],
   "source": [
    "clients_gr_year = clients.groupby([clients[\"Data Ins. Ordine (monitoraggio)\"].dt.year])"
   ]
  },
  {
   "cell_type": "code",
   "execution_count": null,
   "id": "33eadf56-94d3-4933-a858-7682c2e42e14",
   "metadata": {},
   "outputs": [],
   "source": [
    "clients.groupby([clients[\"Cliente Merce\"]])[\"Raccolto\"].pct_change()"
   ]
  },
  {
   "cell_type": "markdown",
   "id": "ff934b17-edb3-4e83-8269-6b2eb9f0cf22",
   "metadata": {
    "tags": []
   },
   "source": [
    "___"
   ]
  },
  {
   "cell_type": "markdown",
   "id": "55916b5a-4685-4a04-bd26-5d96b6c35b1e",
   "metadata": {
    "tags": []
   },
   "source": [
    "# Top clients per budget"
   ]
  },
  {
   "cell_type": "code",
   "execution_count": 81,
   "id": "85a580d2-149a-44f8-80d1-5d7910432f38",
   "metadata": {},
   "outputs": [],
   "source": [
    "inflow_cliente[\"Cliente FATTURA\"] = inflow_cliente[\"Cliente FATTURA\"].astype(str).apply(lambda x: \"IT-\" + x.zfill(10))\n",
    "\n",
    "sales_director = par[\"Sales_director\"]\n",
    "\n",
    "inflow_cliente = inflow_cliente.merge(accounts_sf.loc[:,[\"WK Account Number\", \"Account Name\"]], how=\"left\", left_on=\"Cliente FATTURA\", right_on=\"WK Account Number\").merge(sales_director, on=\"Sales Director\", how=\"left\")"
   ]
  },
  {
   "cell_type": "code",
   "execution_count": 84,
   "id": "ee591b4d-e4ea-461f-a4c1-52c357076f0e",
   "metadata": {},
   "outputs": [],
   "source": [
    "inflow_cliente_to_xlsx = inflow_cliente.loc[: , [\"Anno calendario\", \"Cliente FATTURA\", 'Cliente Merce', \"Account Name\", \"Gruppo Conti\", \"Gruppo Conti Merce\", \"Segmento Aggr. Padre\", \"Rete\", \"Area territoriale\", \"Area Prodotto\",'Linea Prodotti', \"Raccolto\"]]"
   ]
  },
  {
   "cell_type": "code",
   "execution_count": 85,
   "id": "940934ad-4903-4a66-a2ca-0d8db024f59f",
   "metadata": {},
   "outputs": [],
   "source": [
    "inflow_cliente_to_xlsx.to_excel(r\"C:\\Users\\Raffaele.Sportiello\\OneDrive - Wolters Kluwer\\Documents\\Budget\\top_10_customers_2022_base_dati 2.xlsx\", index=False)"
   ]
  },
  {
   "cell_type": "markdown",
   "id": "3ebefdd4-d181-419a-a9b6-c5c150d1b5f8",
   "metadata": {
    "tags": []
   },
   "source": [
    "___"
   ]
  },
  {
   "cell_type": "markdown",
   "id": "51e27eca-fc57-4bdd-b45f-81e607bd2f64",
   "metadata": {
    "tags": []
   },
   "source": [
    "# Inflow generato da fornitori  \n",
    "L’obiettivo è quello di vedere l’inflow generato e compararlo con il costo dei fornitori esterni che gestiscono il delivery e capire la marginalità."
   ]
  },
  {
   "cell_type": "markdown",
   "id": "3f6a5969-4d74-4b41-9cd4-ccb5ba3d5478",
   "metadata": {
    "tags": []
   },
   "source": [
    "## Inflow generato da lista"
   ]
  },
  {
   "cell_type": "code",
   "execution_count": 80,
   "id": "2ff0103e-ea5d-464b-80b5-7f62a99e7cca",
   "metadata": {},
   "outputs": [],
   "source": [
    "clienti_appaltati = pd.read_excel(r\"C:\\Users\\Raffaele.Sportiello\\OneDrive - Wolters Kluwer\\Documents\\Dashboard inflow\\Dashboard inflow canali e prodotti\\Data export\\Clienti_appaltati_fornitori.xlsx\")"
   ]
  },
  {
   "cell_type": "code",
   "execution_count": 82,
   "id": "f94315a7-ab9b-4923-88de-c8b36cc94ea6",
   "metadata": {},
   "outputs": [],
   "source": [
    "filt = (inflow[\"Giorno\"].dt.year > 2020)\n",
    "columns = [\"Cliente Merce\", \"Linea Prodotti\", \"Giorno\", \"Raccolto\"]\n",
    "\n",
    "df = inflow.loc[filt, columns]\n",
    "df[\"Cliente Merce\"] = df[\"Cliente Merce\"].astype(str).apply(lambda x: \"IT-\" + x.zfill(10))"
   ]
  },
  {
   "cell_type": "code",
   "execution_count": 83,
   "id": "2fa5c448-72c3-4e80-bcf3-e3f42361bbcb",
   "metadata": {},
   "outputs": [],
   "source": [
    "linea_prodotti = par[\"Linea_prodotti\"]\n",
    "\n",
    "df = df.merge(linea_prodotti, how=\"left\", on=\"Linea Prodotti\")"
   ]
  },
  {
   "cell_type": "code",
   "execution_count": 98,
   "id": "c0db96c4-f5bb-4e0c-a85d-605bcb29603f",
   "metadata": {},
   "outputs": [],
   "source": [
    "df_gr = df.groupby([\"Cliente Merce\", df[\"Giorno\"].dt.year, \"Linea aggr\"]).agg({\"Raccolto\":\"sum\"}).unstack([1,2])"
   ]
  },
  {
   "cell_type": "code",
   "execution_count": 99,
   "id": "ddf19c5f-1a98-498d-a245-06ea2c419136",
   "metadata": {},
   "outputs": [],
   "source": [
    "clienti_appaltati.columns = pd.MultiIndex.from_product([clienti_appaltati.columns, [\"\"],[\"\"]])"
   ]
  },
  {
   "cell_type": "code",
   "execution_count": 100,
   "id": "3170389b-3b2c-4c87-93e6-0df5c2b1f128",
   "metadata": {},
   "outputs": [
    {
     "data": {
      "text/html": [
       "<div>\n",
       "<style scoped>\n",
       "    .dataframe tbody tr th:only-of-type {\n",
       "        vertical-align: middle;\n",
       "    }\n",
       "\n",
       "    .dataframe tbody tr th {\n",
       "        vertical-align: top;\n",
       "    }\n",
       "\n",
       "    .dataframe thead tr th {\n",
       "        text-align: left;\n",
       "    }\n",
       "</style>\n",
       "<table border=\"1\" class=\"dataframe\">\n",
       "  <thead>\n",
       "    <tr>\n",
       "      <th></th>\n",
       "      <th>AccountNumber</th>\n",
       "      <th>Cliente</th>\n",
       "      <th>Name</th>\n",
       "      <th colspan=\"4\" halign=\"left\">Raccolto</th>\n",
       "    </tr>\n",
       "    <tr>\n",
       "      <th></th>\n",
       "      <th></th>\n",
       "      <th></th>\n",
       "      <th></th>\n",
       "      <th colspan=\"2\" halign=\"left\">2021</th>\n",
       "      <th colspan=\"2\" halign=\"left\">2022</th>\n",
       "    </tr>\n",
       "    <tr>\n",
       "      <th></th>\n",
       "      <th></th>\n",
       "      <th></th>\n",
       "      <th></th>\n",
       "      <th>Lic+Fym</th>\n",
       "      <th>Servizi</th>\n",
       "      <th>Lic+Fym</th>\n",
       "      <th>Servizi</th>\n",
       "    </tr>\n",
       "  </thead>\n",
       "  <tbody>\n",
       "    <tr>\n",
       "      <th>0</th>\n",
       "      <td>IT-0001204473</td>\n",
       "      <td>ALBERTO MAZZONETTO SNC</td>\n",
       "      <td>ALBASOFT SRL</td>\n",
       "      <td>550.0</td>\n",
       "      <td>1500.0</td>\n",
       "      <td>4080.0</td>\n",
       "      <td>600.0</td>\n",
       "    </tr>\n",
       "    <tr>\n",
       "      <th>1</th>\n",
       "      <td>IT-0002286448</td>\n",
       "      <td>ALDIERI AUTOTRASPORTI SPA</td>\n",
       "      <td>ALBASOFT SRL</td>\n",
       "      <td>NaN</td>\n",
       "      <td>8442.5</td>\n",
       "      <td>NaN</td>\n",
       "      <td>500.0</td>\n",
       "    </tr>\n",
       "    <tr>\n",
       "      <th>2</th>\n",
       "      <td>IT-0001977338</td>\n",
       "      <td>ALL SERVICES SOCIETA' COOPERATIVA</td>\n",
       "      <td>ALBASOFT SRL</td>\n",
       "      <td>NaN</td>\n",
       "      <td>3935.0</td>\n",
       "      <td>1800.0</td>\n",
       "      <td>1135.0</td>\n",
       "    </tr>\n",
       "    <tr>\n",
       "      <th>3</th>\n",
       "      <td>IT-0001820842</td>\n",
       "      <td>ALPERIA BARTUCCI SRL</td>\n",
       "      <td>ALBASOFT SRL</td>\n",
       "      <td>240.0</td>\n",
       "      <td>4385.0</td>\n",
       "      <td>4050.0</td>\n",
       "      <td>0.0</td>\n",
       "    </tr>\n",
       "    <tr>\n",
       "      <th>4</th>\n",
       "      <td>IT-0001877015</td>\n",
       "      <td>ATREX S.R.L.</td>\n",
       "      <td>ALBASOFT SRL</td>\n",
       "      <td>NaN</td>\n",
       "      <td>NaN</td>\n",
       "      <td>NaN</td>\n",
       "      <td>NaN</td>\n",
       "    </tr>\n",
       "    <tr>\n",
       "      <th>...</th>\n",
       "      <td>...</td>\n",
       "      <td>...</td>\n",
       "      <td>...</td>\n",
       "      <td>...</td>\n",
       "      <td>...</td>\n",
       "      <td>...</td>\n",
       "      <td>...</td>\n",
       "    </tr>\n",
       "    <tr>\n",
       "      <th>504</th>\n",
       "      <td>IT-0001993588</td>\n",
       "      <td>TRE B CONSULENZA SRLS</td>\n",
       "      <td>VERSYA SPA</td>\n",
       "      <td>NaN</td>\n",
       "      <td>NaN</td>\n",
       "      <td>180.0</td>\n",
       "      <td>270.0</td>\n",
       "    </tr>\n",
       "    <tr>\n",
       "      <th>505</th>\n",
       "      <td>IT-0001607237</td>\n",
       "      <td>TRENTO DE RIVALEYS VALENTINO</td>\n",
       "      <td>VERSYA SPA</td>\n",
       "      <td>1080.0</td>\n",
       "      <td>112.5</td>\n",
       "      <td>520.0</td>\n",
       "      <td>855.0</td>\n",
       "    </tr>\n",
       "    <tr>\n",
       "      <th>506</th>\n",
       "      <td>IT-0000050600</td>\n",
       "      <td>TRIVELLA AUTOTRASPORTI SOCIETA' COOPERATIVA</td>\n",
       "      <td>VERSYA SPA</td>\n",
       "      <td>NaN</td>\n",
       "      <td>NaN</td>\n",
       "      <td>600.0</td>\n",
       "      <td>300.0</td>\n",
       "    </tr>\n",
       "    <tr>\n",
       "      <th>507</th>\n",
       "      <td>IT-0001157934</td>\n",
       "      <td>TRYSED DI BENELLI SAS</td>\n",
       "      <td>VERSYA SPA</td>\n",
       "      <td>NaN</td>\n",
       "      <td>500.0</td>\n",
       "      <td>NaN</td>\n",
       "      <td>480.0</td>\n",
       "    </tr>\n",
       "    <tr>\n",
       "      <th>508</th>\n",
       "      <td>IT-0001205146</td>\n",
       "      <td>VIGI 14 SPA</td>\n",
       "      <td>VERSYA SPA</td>\n",
       "      <td>NaN</td>\n",
       "      <td>NaN</td>\n",
       "      <td>NaN</td>\n",
       "      <td>300.0</td>\n",
       "    </tr>\n",
       "  </tbody>\n",
       "</table>\n",
       "<p>509 rows × 7 columns</p>\n",
       "</div>"
      ],
      "text/plain": [
       "     AccountNumber                                      Cliente          Name  \\\n",
       "                                                                                \n",
       "                                                                                \n",
       "0    IT-0001204473                       ALBERTO MAZZONETTO SNC  ALBASOFT SRL   \n",
       "1    IT-0002286448                    ALDIERI AUTOTRASPORTI SPA  ALBASOFT SRL   \n",
       "2    IT-0001977338            ALL SERVICES SOCIETA' COOPERATIVA  ALBASOFT SRL   \n",
       "3    IT-0001820842                         ALPERIA BARTUCCI SRL  ALBASOFT SRL   \n",
       "4    IT-0001877015                                 ATREX S.R.L.  ALBASOFT SRL   \n",
       "..             ...                                          ...           ...   \n",
       "504  IT-0001993588                        TRE B CONSULENZA SRLS    VERSYA SPA   \n",
       "505  IT-0001607237                 TRENTO DE RIVALEYS VALENTINO    VERSYA SPA   \n",
       "506  IT-0000050600  TRIVELLA AUTOTRASPORTI SOCIETA' COOPERATIVA    VERSYA SPA   \n",
       "507  IT-0001157934                        TRYSED DI BENELLI SAS    VERSYA SPA   \n",
       "508  IT-0001205146                                  VIGI 14 SPA    VERSYA SPA   \n",
       "\n",
       "    Raccolto                          \n",
       "        2021            2022          \n",
       "     Lic+Fym Servizi Lic+Fym Servizi  \n",
       "0      550.0  1500.0  4080.0   600.0  \n",
       "1        NaN  8442.5     NaN   500.0  \n",
       "2        NaN  3935.0  1800.0  1135.0  \n",
       "3      240.0  4385.0  4050.0     0.0  \n",
       "4        NaN     NaN     NaN     NaN  \n",
       "..       ...     ...     ...     ...  \n",
       "504      NaN     NaN   180.0   270.0  \n",
       "505   1080.0   112.5   520.0   855.0  \n",
       "506      NaN     NaN   600.0   300.0  \n",
       "507      NaN   500.0     NaN   480.0  \n",
       "508      NaN     NaN     NaN   300.0  \n",
       "\n",
       "[509 rows x 7 columns]"
      ]
     },
     "execution_count": 100,
     "metadata": {},
     "output_type": "execute_result"
    }
   ],
   "source": [
    "clienti_appaltati.merge(df_gr, how=\"left\", left_on=\"AccountNumber\", right_index=True)"
   ]
  },
  {
   "cell_type": "code",
   "execution_count": 102,
   "id": "19d60b69-aeb4-45a4-9327-a2bd30a5e9fa",
   "metadata": {},
   "outputs": [],
   "source": [
    "clienti_appaltati.merge(df_gr, how=\"left\", left_on=\"AccountNumber\", right_index=True)\\\n",
    ".to_excel(r\"C:\\Users\\Raffaele.Sportiello\\OneDrive - Wolters Kluwer\\Documents\\Dashboard inflow\\Dashboard inflow canali e prodotti\\Speciali\\Clienti_appaltati_fornitori.xlsx\")"
   ]
  },
  {
   "cell_type": "markdown",
   "id": "9edd2059-7934-4bbd-a174-ecf488b7703e",
   "metadata": {
    "tags": []
   },
   "source": [
    "## Inflow generato da clienti Large Accounts"
   ]
  },
  {
   "cell_type": "code",
   "execution_count": 27,
   "id": "fd699c19-71e8-427a-a795-025006af865f",
   "metadata": {},
   "outputs": [],
   "source": [
    "filt = (inflow[\"Giorno\"].dt.year > 2020) & (inflow[\"Sales Director\"] == \"LARGE ACCOUNT\")\n",
    "columns = [\"Cliente Merce\", \"Linea Prodotti\", \"Giorno\", \"Raccolto\"]\n",
    "\n",
    "df = inflow.loc[filt, columns]\n",
    "df[\"Cliente\"] = df[\"Cliente Merce\"].astype(str).apply(lambda x: \"IT-\" + x.zfill(10))"
   ]
  },
  {
   "cell_type": "code",
   "execution_count": 28,
   "id": "43807a80-a0c4-4e9d-9bee-2230cbb601f9",
   "metadata": {},
   "outputs": [],
   "source": [
    "linea_prodotti = par[\"Linea_prodotti\"]\n",
    "\n",
    "df = df.merge(linea_prodotti, how=\"left\", on=\"Linea Prodotti\").merge(accounts_sf, how=\"left\", left_on=\"Cliente\", right_on=\"WK Account Number\")"
   ]
  },
  {
   "cell_type": "code",
   "execution_count": 32,
   "id": "3e230d0e-d7db-49ff-8ad6-75aed4264ba9",
   "metadata": {},
   "outputs": [
    {
     "data": {
      "text/html": [
       "<div>\n",
       "<style scoped>\n",
       "    .dataframe tbody tr th:only-of-type {\n",
       "        vertical-align: middle;\n",
       "    }\n",
       "\n",
       "    .dataframe tbody tr th {\n",
       "        vertical-align: top;\n",
       "    }\n",
       "\n",
       "    .dataframe thead tr th {\n",
       "        text-align: left;\n",
       "    }\n",
       "\n",
       "    .dataframe thead tr:last-of-type th {\n",
       "        text-align: right;\n",
       "    }\n",
       "</style>\n",
       "<table border=\"1\" class=\"dataframe\">\n",
       "  <thead>\n",
       "    <tr>\n",
       "      <th></th>\n",
       "      <th></th>\n",
       "      <th></th>\n",
       "      <th></th>\n",
       "      <th colspan=\"5\" halign=\"left\">Raccolto</th>\n",
       "    </tr>\n",
       "    <tr>\n",
       "      <th></th>\n",
       "      <th></th>\n",
       "      <th></th>\n",
       "      <th>Giorno</th>\n",
       "      <th colspan=\"2\" halign=\"left\">2021</th>\n",
       "      <th colspan=\"2\" halign=\"left\">2022</th>\n",
       "      <th>2021</th>\n",
       "    </tr>\n",
       "    <tr>\n",
       "      <th></th>\n",
       "      <th></th>\n",
       "      <th></th>\n",
       "      <th>Linea</th>\n",
       "      <th>Lic+Fym</th>\n",
       "      <th>Servizi</th>\n",
       "      <th>Lic+Fym</th>\n",
       "      <th>Servizi</th>\n",
       "      <th>HW</th>\n",
       "    </tr>\n",
       "    <tr>\n",
       "      <th>Cliente</th>\n",
       "      <th>Cliente Merce</th>\n",
       "      <th>WK Account Number</th>\n",
       "      <th>Account Name</th>\n",
       "      <th></th>\n",
       "      <th></th>\n",
       "      <th></th>\n",
       "      <th></th>\n",
       "      <th></th>\n",
       "    </tr>\n",
       "  </thead>\n",
       "  <tbody>\n",
       "    <tr>\n",
       "      <th>IT-0000165684</th>\n",
       "      <th>165684</th>\n",
       "      <th>IT-0000165684</th>\n",
       "      <th>PROMO.TER UNIONE</th>\n",
       "      <td>1840.0</td>\n",
       "      <td>2800.0</td>\n",
       "      <td>NaN</td>\n",
       "      <td>NaN</td>\n",
       "      <td>10782.0</td>\n",
       "    </tr>\n",
       "  </tbody>\n",
       "</table>\n",
       "</div>"
      ],
      "text/plain": [
       "                                                               Raccolto  \\\n",
       "Giorno                                                             2021   \n",
       "Linea                                                           Lic+Fym   \n",
       "Cliente       Cliente Merce WK Account Number Account Name                \n",
       "IT-0000165684 165684        IT-0000165684     PROMO.TER UNIONE   1840.0   \n",
       "\n",
       "                                                                        \\\n",
       "Giorno                                                                   \n",
       "Linea                                                          Servizi   \n",
       "Cliente       Cliente Merce WK Account Number Account Name               \n",
       "IT-0000165684 165684        IT-0000165684     PROMO.TER UNIONE  2800.0   \n",
       "\n",
       "                                                                        \\\n",
       "Giorno                                                            2022   \n",
       "Linea                                                          Lic+Fym   \n",
       "Cliente       Cliente Merce WK Account Number Account Name               \n",
       "IT-0000165684 165684        IT-0000165684     PROMO.TER UNIONE     NaN   \n",
       "\n",
       "                                                                        \\\n",
       "Giorno                                                                   \n",
       "Linea                                                          Servizi   \n",
       "Cliente       Cliente Merce WK Account Number Account Name               \n",
       "IT-0000165684 165684        IT-0000165684     PROMO.TER UNIONE     NaN   \n",
       "\n",
       "                                                                         \n",
       "Giorno                                                             2021  \n",
       "Linea                                                                HW  \n",
       "Cliente       Cliente Merce WK Account Number Account Name               \n",
       "IT-0000165684 165684        IT-0000165684     PROMO.TER UNIONE  10782.0  "
      ]
     },
     "execution_count": 32,
     "metadata": {},
     "output_type": "execute_result"
    }
   ],
   "source": [
    "df.groupby([\"Cliente\",\"Cliente Merce\", \"WK Account Number\", \"Account Name\",  df[\"Giorno\"].dt.year, \"Linea\"], dropna=False).agg({\"Raccolto\":\"sum\"}).unstack([4,5]).loc[idx[:,\"165684\",:,:],:]"
   ]
  },
  {
   "cell_type": "code",
   "execution_count": 33,
   "id": "b3008230-c61e-482b-85b5-854e315beb5b",
   "metadata": {},
   "outputs": [],
   "source": [
    "df.groupby([\"Cliente\",\"Cliente Merce\", \"WK Account Number\", \"Account Name\",  df[\"Giorno\"].dt.year, \"Linea\"], dropna=False).agg({\"Raccolto\":\"sum\"}).unstack([4,5]).to_excel(r\"C:\\Users\\Raffaele.Sportiello\\OneDrive - Wolters Kluwer\\Documents\\Dashboard inflow\\Dashboard inflow canali e prodotti\\Speciali\\Clienti_large_accounts.xlsx\")"
   ]
  },
  {
   "cell_type": "markdown",
   "id": "8b67102f-96c6-42c9-8990-8026cfca3f3a",
   "metadata": {
    "tags": []
   },
   "source": [
    "___"
   ]
  },
  {
   "cell_type": "markdown",
   "id": "40876630-8191-4d8d-b463-6cd6a767bc67",
   "metadata": {
    "tags": []
   },
   "source": [
    "# Top deals indiretta  "
   ]
  },
  {
   "cell_type": "code",
   "execution_count": 71,
   "id": "95787328-82e0-48d2-8183-8a76aab69273",
   "metadata": {},
   "outputs": [],
   "source": [
    "import pandas as pd\n",
    "import os\n",
    "import numpy as np\n",
    "import datetime as dt\n",
    "from os import listdir\n",
    "from os.path import isfile, join\n",
    "import calendar\n",
    "idx = pd.IndexSlice\n",
    "\n",
    "\n",
    "inflow_prodotti = r\"C:\\Users\\Raffaele.Sportiello\\OneDrive - Wolters Kluwer\\Documents\\Dashboard inflow\\Dashboard inflow canali e prodotti\\Source\\inflow_prodotti\\\\\"\n",
    "\n",
    "onlyfiles = [f for f in listdir(r\"C:\\Users\\Raffaele.Sportiello\\OneDrive - Wolters Kluwer\\Documents\\Dashboard inflow\\Dashboard inflow canali e prodotti\\Source\\inflow_prodotti\") if isfile(join(r\"C:\\Users\\Raffaele.Sportiello\\OneDrive - Wolters Kluwer\\Documents\\Dashboard inflow\\Dashboard inflow canali e prodotti\\Source\\inflow_prodotti\", f))]\n",
    "\n",
    "dfs = []\n",
    "for file in onlyfiles:\n",
    "    data = pd.read_excel(inflow_prodotti+file)\n",
    "    dfs.append(data)\n",
    "\n",
    "df = pd.concat(dfs, axis=0, ignore_index=True)\n",
    "\n",
    "for col in df.select_dtypes(include=[object]).columns:\n",
    "    df[col] = df[col].astype(str)\n",
    "\n",
    "\n",
    "## Parametriche\n",
    "\n",
    "parametriche = r\"C:\\Users\\Raffaele.Sportiello\\OneDrive - Wolters Kluwer\\Documents\\Dashboard inflow\\Parametriche\\\\\"\n",
    "onlyfiles = [f for f in listdir(r\"C:\\Users\\Raffaele.Sportiello\\OneDrive - Wolters Kluwer\\Documents\\Dashboard inflow\\Parametriche\") if isfile(join(r\"C:\\Users\\Raffaele.Sportiello\\OneDrive - Wolters Kluwer\\Documents\\Dashboard inflow\\Parametriche\", f))]\n",
    "\n",
    "par = {}\n",
    "for file in onlyfiles:\n",
    "    file_name=file.split(\".\")[0]\n",
    "    par[f\"{file_name}\"] = pd.read_excel(parametriche+file)\n",
    "\n",
    "\n",
    "## All accounts da Salesforce\n",
    "\n",
    "accounts_sf = pd.read_csv(r\"C:\\Users\\Raffaele.Sportiello\\OneDrive - Wolters Kluwer\\Documents\\Salesforce\\Data export\\IT_all_accounts.csv\", encoding='latin-1', sep=\";\")\n",
    "\n",
    "# Deals\n",
    "\n",
    "filt_rows = (df[\"Data Ins. Ordine (monitoraggio)\"].dt.year == 2022)&(df[\"Raccolto\"].notna())\n",
    "columns = [\"Cliente Merce\", \"Agente dell'ORDINE\", \"Sales Director\", \"Canale di VENDITA\", \"Codice PRODOTTO\", \"Linea Prodotti\", \"Numero Ordine\", \"Numero Fattura\", \"Data Ins. Ordine (monitoraggio)\", \"Raccolto\"]\n",
    "\n",
    "df_2022 = df.loc[filt_rows, columns].reset_index(drop=True)\n",
    "df_2022[\"Sales Director\"] = df_2022[\"Sales Director\"].str.lower()\n",
    "df_2022[\"Agente dell'ORDINE\"] = df_2022[\"Agente dell'ORDINE\"].str.lower()\n",
    "\n",
    "esc_fatture = par[\"Esclusione_fatture\"]\n",
    "esc_fatture[\"Numero Fattura\"] = esc_fatture[\"Numero Fattura\"].astype(str)\n",
    "\n",
    "esc_ordini = par[\"Esclusione_ordini\"]\n",
    "esc_ordini[\"Numero Ordine\"] = esc_ordini[\"Numero Ordine\"].astype(str)\n",
    "\n",
    "sales_director = par[\"Sales_director\"]\n",
    "sales_director[\"Sales Director\"] = sales_director.loc[:,\"Sales Director\"].str.lower()\n",
    "sales_director = sales_director[[\"Sales Director\", \"Rete\", \"Area territoriale\"]]\n",
    "\n",
    "agente = par[\"Agente_ordine\"]\n",
    "agente[\"Codice agente\"] = agente.loc[:,\"Codice agente\"].str.lower()\n",
    "\n",
    "cod_prod = par[\"Classificazione_codice_prodotto\"]\n",
    "cod_prod[\"Codice PRODOTTO\"] = cod_prod[\"Codice PRODOTTO\"].apply(lambda x: str(x))\n",
    "cod_prod = cod_prod.loc[:, ['MDM', 'GTM BDG', 'Solution','Sub solution','Descrizione prodotto',\"Codice PRODOTTO\"]]\n",
    "\n",
    "li_prodotti = par[\"Linea_prodotti\"]\n",
    "\n",
    "inflow = df_2022.merge(esc_fatture, on=\"Numero Fattura\", how=\"left\").merge(esc_ordini, on=\"Numero Ordine\", how=\"left\").merge(li_prodotti, on=\"Linea Prodotti\", how=\"left\").merge(sales_director, on=\"Sales Director\", how=\"left\").merge(agente, how=\"left\", left_on=\"Agente dell'ORDINE\", right_on=\"Codice agente\").merge(cod_prod, how=\"left\", on=\"Codice PRODOTTO\")\n",
    "\n",
    "esclusioni = (inflow[\"Canale di VENDITA\"] != \"E-Commerce\")&(inflow[\"Escludi fatture\"].isna())&(inflow[\"Escludi ordine\"].isna())\n",
    "\n",
    "inflow = inflow.loc[esclusioni, ['Data Ins. Ordine (monitoraggio)', \"Cliente Merce\", \"Numero Ordine\", \"Rete\", \"Area territoriale\", 'Sales Director', \"Agente dell'ORDINE_y\",\"RSM Agente\",'Linea', \"MDM\",\"Solution\",\"Descrizione prodotto\", 'Raccolto']].reset_index(drop=True)\n",
    "\n",
    "inflow.rename(columns={\"Data Ins. Ordine (monitoraggio)\":'Giorno', \"Agente dell'ORDINE_y\":\"Agenzia\"}, inplace=True)\n",
    "\n",
    "inflow[\"Cliente Merce\"] = inflow[\"Cliente Merce\"].astype(str).apply(lambda x: \"IT-\" + x.zfill(10))\n",
    "inflow = inflow.merge(accounts_sf, how=\"left\", left_on=\"Cliente Merce\", right_on=\"WK Account Number\")\n",
    "\n",
    "filt = (inflow[\"Rete\"].str.contains(\"Indiretta\")) & (inflow[\"Giorno\"].dt.date >= dt.date(dt.datetime.now().year,dt.datetime.now().month-1, 1)) & (inflow[\"Giorno\"].dt.date <= dt.date(dt.datetime.now().year,dt.datetime.now().month-1, calendar.monthrange(dt.datetime.now().year,dt.datetime.now().month-1)[1]))\n",
    "columns = [\"Giorno\",\"Numero Ordine\",\"Cliente Merce\",\"Account Name\",\"Agenzia\",\"Area territoriale\",\"Rete\",\"Linea\",\"Solution\",\"Raccolto\"]\n",
    "\n",
    "inflow_ind = inflow.loc[filt, columns]\n",
    "\n",
    "inflow_ind[\"Valore Ordine\"] = inflow_ind.groupby([\"Numero Ordine\"])[\"Raccolto\"].transform(\"sum\")\n",
    "\n",
    "topdeals_ind = inflow_ind.groupby([\"Numero Ordine\",\"Account Name\", \"Cliente Merce\", \"Agenzia\", \"Area territoriale\",\"Solution\", inflow_ind[\"Giorno\"]]).agg({\"Raccolto\":\"sum\", \"Valore Ordine\":\"max\"}).sort_values(by=\"Valore Ordine\", ascending=False).reset_index()\n",
    "#.style.format({\"Raccolto\":\"{:,.0f}\"})\n",
    "\n",
    "topdeals_ind.rename(columns={\"Account Name\":\"Nome cliente\", \"Cliente Merce\":\"Codice SAP\", \"Solution\":\"Prodotto\", \"Raccolto\":\"Inflow\"}, inplace=True)\n",
    "topdeals_ind = topdeals_ind.loc[topdeals_ind[\"Valore Ordine\"] > 0, :].copy()\n",
    "\n",
    "mese = str(topdeals_ind[\"Giorno\"].astype(\"datetime64[M]\").max()).split(\" \")[0][:7]\n",
    "\n",
    "# with pd.ExcelWriter(r\"C:\\Users\\Raffaele.Sportiello\\OneDrive - Wolters Kluwer\\Documents\\Dashboard inflow\\Dashboard inflow canali e prodotti\\Speciali\\Top deals indiretta\\Top deals indiretta.xlsx\", engine=\"openpyxl\") as writer:\n",
    "#    topdeals_ind.to_excel(writer, sheet_name=\"topdeals_ind\", index=False)\n"
   ]
  },
  {
   "cell_type": "code",
   "execution_count": null,
   "id": "45cea2fc-ef06-4f08-b87d-82be038f671a",
   "metadata": {},
   "outputs": [],
   "source": [
    "import win32com.client as client\n",
    "\n",
    "dashboard_inflow_indiretta = r\"C:\\Users\\Raffaele.Sportiello\\OneDrive - Wolters Kluwer\\Documents\\Dashboard inflow\\Dashboard inflow canali e prodotti\\Speciali\\Top deals indiretta\\Top deals indiretta.xlsx\"\n",
    "\n",
    "html_body = \"\"\"\n",
    "    <div>\n",
    "          <p>Ciao Rossella,<br><br>\n",
    "            in allegato trovi il file con l’elenco dei deal dell’indiretta del mese appena concluso.<br><br>\n",
    "            Un saluto,<br>Raffaele<br><br></p>\n",
    "    </div>\n",
    "\"\"\"\n",
    "\n",
    "\n",
    "outlook = client.Dispatch('Outlook.Application')\n",
    "message = outlook.CreateItem(0)\n",
    "message.To = \"rossella.specia@wolterskluwer.com\"\n",
    "message.CC = \"marco.bitossi@wolterskluwer.com\"\n",
    "message.Subject = 'Inflow indiretta'\n",
    "message.HTMLBody = html_body\n",
    "message.Attachments.Add(Source=dashboard_inflow_indiretta)\n",
    "\n",
    "message.Display()"
   ]
  },
  {
   "cell_type": "markdown",
   "id": "4c6f6165-77e0-4beb-a72e-19d4330ae399",
   "metadata": {
    "tags": []
   },
   "source": [
    "___"
   ]
  },
  {
   "cell_type": "markdown",
   "id": "da856037-eafe-4212-bb7d-f37819c17159",
   "metadata": {
    "tags": []
   },
   "source": [
    "# Inflow trends"
   ]
  },
  {
   "cell_type": "code",
   "execution_count": 28,
   "id": "cc79f607-5eec-439d-bab8-5887af35ea44",
   "metadata": {},
   "outputs": [],
   "source": [
    "inflow_tot = inflow.groupby(inflow[\"Giorno\"].astype(\"datetime64[M]\")).agg({\"Raccolto\":\"sum\"})"
   ]
  },
  {
   "cell_type": "code",
   "execution_count": 29,
   "id": "19aac071-acca-494d-aaca-1f945db83c12",
   "metadata": {},
   "outputs": [],
   "source": [
    "inflow_tot = inflow_tot.loc[inflow_tot[\"Raccolto\"]>0,:].copy()"
   ]
  },
  {
   "cell_type": "code",
   "execution_count": 48,
   "id": "8a8633fa-e700-4ea7-8721-2b7828cfbd7f",
   "metadata": {},
   "outputs": [
    {
     "data": {
      "image/png": "[encoded data removed]",
      "text/plain": [
       "<Figure size 1440x360 with 1 Axes>"
      ]
     },
     "metadata": {
      "needs_background": "light"
     },
     "output_type": "display_data"
    }
   ],
   "source": [
    "ax = inflow_tot.plot(figsize=(20,5)).autoscale(axis='x',tight=True)\n",
    "ax = inflow_tot.rolling(window=12).mean()['Raccolto'].plot()\n",
    "#inflow_tot.expanding(min_periods=1).mean()['Raccolto'].plot();\n"
   ]
  },
  {
   "cell_type": "code",
   "execution_count": 49,
   "id": "62a12b55-cb58-4079-83f7-4458d345014a",
   "metadata": {},
   "outputs": [],
   "source": [
    "from statsmodels.tsa.filters.hp_filter import hpfilter"
   ]
  },
  {
   "cell_type": "code",
   "execution_count": 50,
   "id": "63cb764c-6076-4fca-acef-6dc97816e437",
   "metadata": {},
   "outputs": [],
   "source": [
    "gdp_cycle, gdp_trend = hpfilter(inflow_tot, lamb=129600)"
   ]
  },
  {
   "cell_type": "code",
   "execution_count": 51,
   "id": "c520ded5-11ed-4e78-85ee-dc7e7992f220",
   "metadata": {},
   "outputs": [],
   "source": [
    "inflow_tot[\"Trend\"] = gdp_trend"
   ]
  },
  {
   "cell_type": "code",
   "execution_count": 53,
   "id": "f0bbd01f-9d2d-4f8f-877e-ec7c7a29bfd7",
   "metadata": {},
   "outputs": [],
   "source": [
    "inflow_tot[\"Cycle\"] = gdp_cycle"
   ]
  },
  {
   "cell_type": "code",
   "execution_count": 54,
   "id": "1d1a2a9f-2cbd-4d94-9f93-1791bc490383",
   "metadata": {},
   "outputs": [
    {
     "data": {
      "image/png": "[encoded data removed]",
      "text/plain": [
       "<Figure size 864x576 with 1 Axes>"
      ]
     },
     "metadata": {
      "needs_background": "light"
     },
     "output_type": "display_data"
    }
   ],
   "source": [
    "inflow_tot[['Trend','Raccolto','Cycle']]['2020-01-01':].plot(figsize=(12,8)).autoscale(axis='x',tight=True);"
   ]
  },
  {
   "cell_type": "code",
   "execution_count": 65,
   "id": "b874b35d-a468-412f-bebc-19b72d53e1bb",
   "metadata": {},
   "outputs": [],
   "source": [
    "from statsmodels.tsa.seasonal import seasonal_decompose\n",
    "import matplotlib.pyplot as plt"
   ]
  },
  {
   "cell_type": "code",
   "execution_count": 70,
   "id": "ec138d0d-5a98-4aa2-ac76-9fd231e9a38a",
   "metadata": {},
   "outputs": [
    {
     "data": {
      "image/png": "[encoded data removed]",
      "text/plain": [
       "<Figure size 432x288 with 4 Axes>"
      ]
     },
     "execution_count": 70,
     "metadata": {},
     "output_type": "execute_result"
    },
    {
     "data": {
      "image/png": "[encoded data removed]",
      "text/plain": [
       "<Figure size 432x288 with 4 Axes>"
      ]
     },
     "metadata": {
      "needs_background": "light"
     },
     "output_type": "display_data"
    }
   ],
   "source": [
    "result = seasonal_decompose(inflow_tot['Raccolto'], model='additive')\n",
    "\n",
    "#plt.subplots(1, 1, figsize=(8,8))\n",
    "\n",
    "result.plot()"
   ]
  },
  {
   "cell_type": "code",
   "execution_count": 68,
   "id": "c08eae1a-b25d-47c0-9212-047a4c4884eb",
   "metadata": {},
   "outputs": [
    {
     "name": "stdout",
     "output_type": "stream",
     "text": [
      "Help on DecomposeResult in module statsmodels.tsa.seasonal object:\n",
      "\n",
      "class DecomposeResult(builtins.object)\n",
      " |  DecomposeResult(observed, seasonal, trend, resid, weights=None)\n",
      " |  \n",
      " |  Results class for seasonal decompositions\n",
      " |  \n",
      " |  Parameters\n",
      " |  ----------\n",
      " |  observed : array_like\n",
      " |      The data series that has been decomposed.\n",
      " |  seasonal : array_like\n",
      " |      The seasonal component of the data series.\n",
      " |  trend : array_like\n",
      " |      The trend component of the data series.\n",
      " |  resid : array_like\n",
      " |      The residual component of the data series.\n",
      " |  weights : array_like, optional\n",
      " |      The weights used to reduce outlier influence.\n",
      " |  \n",
      " |  Methods defined here:\n",
      " |  \n",
      " |  __init__(self, observed, seasonal, trend, resid, weights=None)\n",
      " |      Initialize self.  See help(type(self)) for accurate signature.\n",
      " |  \n",
      " |  plot(self, observed=True, seasonal=True, trend=True, resid=True, weights=False)\n",
      " |      Plot estimated components\n",
      " |      \n",
      " |      Parameters\n",
      " |      ----------\n",
      " |      observed : bool\n",
      " |          Include the observed series in the plot\n",
      " |      seasonal : bool\n",
      " |          Include the seasonal component in the plot\n",
      " |      trend : bool\n",
      " |          Include the trend component in the plot\n",
      " |      resid : bool\n",
      " |          Include the residual in the plot\n",
      " |      weights : bool\n",
      " |          Include the weights in the plot (if any)\n",
      " |      \n",
      " |      Returns\n",
      " |      -------\n",
      " |      matplotlib.figure.Figure\n",
      " |          The figure instance that containing the plot.\n",
      " |  \n",
      " |  ----------------------------------------------------------------------\n",
      " |  Readonly properties defined here:\n",
      " |  \n",
      " |  nobs\n",
      " |      Number of observations\n",
      " |  \n",
      " |  observed\n",
      " |      Observed data\n",
      " |  \n",
      " |  resid\n",
      " |      The estimated residuals\n",
      " |  \n",
      " |  seasonal\n",
      " |      The estimated seasonal component\n",
      " |  \n",
      " |  trend\n",
      " |      The estimated trend component\n",
      " |  \n",
      " |  weights\n",
      " |      The weights used in the robust estimation\n",
      " |  \n",
      " |  ----------------------------------------------------------------------\n",
      " |  Data descriptors defined here:\n",
      " |  \n",
      " |  __dict__\n",
      " |      dictionary for instance variables (if defined)\n",
      " |  \n",
      " |  __weakref__\n",
      " |      list of weak references to the object (if defined)\n",
      "\n"
     ]
    }
   ],
   "source": [
    "help(result)"
   ]
  },
  {
   "cell_type": "code",
   "execution_count": 22,
   "id": "fe5691e9-2c4b-444e-911d-24d430390256",
   "metadata": {},
   "outputs": [
    {
     "data": {
      "text/html": [
       "<style type=\"text/css\">\n",
       "</style>\n",
       "<table id=\"T_dfd60\">\n",
       "  <thead>\n",
       "    <tr>\n",
       "      <th class=\"blank level0\" >&nbsp;</th>\n",
       "      <th id=\"T_dfd60_level0_col0\" class=\"col_heading level0 col0\" >Raccolto</th>\n",
       "    </tr>\n",
       "    <tr>\n",
       "      <th class=\"index_name level0\" >Giorno</th>\n",
       "      <th class=\"blank col0\" >&nbsp;</th>\n",
       "    </tr>\n",
       "  </thead>\n",
       "  <tbody>\n",
       "    <tr>\n",
       "      <th id=\"T_dfd60_level0_row0\" class=\"row_heading level0 row0\" >2020-01-01 00:00:00</th>\n",
       "      <td id=\"T_dfd60_row0_col0\" class=\"data row0 col0\" >1,770,756</td>\n",
       "    </tr>\n",
       "    <tr>\n",
       "      <th id=\"T_dfd60_level0_row1\" class=\"row_heading level0 row1\" >2020-02-01 00:00:00</th>\n",
       "      <td id=\"T_dfd60_row1_col0\" class=\"data row1 col0\" >1,686,196</td>\n",
       "    </tr>\n",
       "    <tr>\n",
       "      <th id=\"T_dfd60_level0_row2\" class=\"row_heading level0 row2\" >2020-03-01 00:00:00</th>\n",
       "      <td id=\"T_dfd60_row2_col0\" class=\"data row2 col0\" >1,665,544</td>\n",
       "    </tr>\n",
       "    <tr>\n",
       "      <th id=\"T_dfd60_level0_row3\" class=\"row_heading level0 row3\" >2020-04-01 00:00:00</th>\n",
       "      <td id=\"T_dfd60_row3_col0\" class=\"data row3 col0\" >1,022,855</td>\n",
       "    </tr>\n",
       "    <tr>\n",
       "      <th id=\"T_dfd60_level0_row4\" class=\"row_heading level0 row4\" >2020-05-01 00:00:00</th>\n",
       "      <td id=\"T_dfd60_row4_col0\" class=\"data row4 col0\" >1,024,854</td>\n",
       "    </tr>\n",
       "    <tr>\n",
       "      <th id=\"T_dfd60_level0_row5\" class=\"row_heading level0 row5\" >2020-06-01 00:00:00</th>\n",
       "      <td id=\"T_dfd60_row5_col0\" class=\"data row5 col0\" >1,179,662</td>\n",
       "    </tr>\n",
       "    <tr>\n",
       "      <th id=\"T_dfd60_level0_row6\" class=\"row_heading level0 row6\" >2020-07-01 00:00:00</th>\n",
       "      <td id=\"T_dfd60_row6_col0\" class=\"data row6 col0\" >1,134,327</td>\n",
       "    </tr>\n",
       "    <tr>\n",
       "      <th id=\"T_dfd60_level0_row7\" class=\"row_heading level0 row7\" >2020-08-01 00:00:00</th>\n",
       "      <td id=\"T_dfd60_row7_col0\" class=\"data row7 col0\" >309,182</td>\n",
       "    </tr>\n",
       "    <tr>\n",
       "      <th id=\"T_dfd60_level0_row8\" class=\"row_heading level0 row8\" >2020-09-01 00:00:00</th>\n",
       "      <td id=\"T_dfd60_row8_col0\" class=\"data row8 col0\" >1,441,868</td>\n",
       "    </tr>\n",
       "    <tr>\n",
       "      <th id=\"T_dfd60_level0_row9\" class=\"row_heading level0 row9\" >2020-10-01 00:00:00</th>\n",
       "      <td id=\"T_dfd60_row9_col0\" class=\"data row9 col0\" >1,601,262</td>\n",
       "    </tr>\n",
       "    <tr>\n",
       "      <th id=\"T_dfd60_level0_row10\" class=\"row_heading level0 row10\" >2020-11-01 00:00:00</th>\n",
       "      <td id=\"T_dfd60_row10_col0\" class=\"data row10 col0\" >1,591,782</td>\n",
       "    </tr>\n",
       "    <tr>\n",
       "      <th id=\"T_dfd60_level0_row11\" class=\"row_heading level0 row11\" >2020-12-01 00:00:00</th>\n",
       "      <td id=\"T_dfd60_row11_col0\" class=\"data row11 col0\" >1,467,506</td>\n",
       "    </tr>\n",
       "    <tr>\n",
       "      <th id=\"T_dfd60_level0_row12\" class=\"row_heading level0 row12\" >2021-01-01 00:00:00</th>\n",
       "      <td id=\"T_dfd60_row12_col0\" class=\"data row12 col0\" >1,354,719</td>\n",
       "    </tr>\n",
       "    <tr>\n",
       "      <th id=\"T_dfd60_level0_row13\" class=\"row_heading level0 row13\" >2021-02-01 00:00:00</th>\n",
       "      <td id=\"T_dfd60_row13_col0\" class=\"data row13 col0\" >1,686,541</td>\n",
       "    </tr>\n",
       "    <tr>\n",
       "      <th id=\"T_dfd60_level0_row14\" class=\"row_heading level0 row14\" >2021-03-01 00:00:00</th>\n",
       "      <td id=\"T_dfd60_row14_col0\" class=\"data row14 col0\" >2,157,887</td>\n",
       "    </tr>\n",
       "    <tr>\n",
       "      <th id=\"T_dfd60_level0_row15\" class=\"row_heading level0 row15\" >2021-04-01 00:00:00</th>\n",
       "      <td id=\"T_dfd60_row15_col0\" class=\"data row15 col0\" >1,764,181</td>\n",
       "    </tr>\n",
       "    <tr>\n",
       "      <th id=\"T_dfd60_level0_row16\" class=\"row_heading level0 row16\" >2021-05-01 00:00:00</th>\n",
       "      <td id=\"T_dfd60_row16_col0\" class=\"data row16 col0\" >1,700,738</td>\n",
       "    </tr>\n",
       "    <tr>\n",
       "      <th id=\"T_dfd60_level0_row17\" class=\"row_heading level0 row17\" >2021-06-01 00:00:00</th>\n",
       "      <td id=\"T_dfd60_row17_col0\" class=\"data row17 col0\" >1,725,195</td>\n",
       "    </tr>\n",
       "    <tr>\n",
       "      <th id=\"T_dfd60_level0_row18\" class=\"row_heading level0 row18\" >2021-07-01 00:00:00</th>\n",
       "      <td id=\"T_dfd60_row18_col0\" class=\"data row18 col0\" >1,494,150</td>\n",
       "    </tr>\n",
       "    <tr>\n",
       "      <th id=\"T_dfd60_level0_row19\" class=\"row_heading level0 row19\" >2021-08-01 00:00:00</th>\n",
       "      <td id=\"T_dfd60_row19_col0\" class=\"data row19 col0\" >277,238</td>\n",
       "    </tr>\n",
       "    <tr>\n",
       "      <th id=\"T_dfd60_level0_row20\" class=\"row_heading level0 row20\" >2021-09-01 00:00:00</th>\n",
       "      <td id=\"T_dfd60_row20_col0\" class=\"data row20 col0\" >1,458,013</td>\n",
       "    </tr>\n",
       "    <tr>\n",
       "      <th id=\"T_dfd60_level0_row21\" class=\"row_heading level0 row21\" >2021-10-01 00:00:00</th>\n",
       "      <td id=\"T_dfd60_row21_col0\" class=\"data row21 col0\" >1,612,078</td>\n",
       "    </tr>\n",
       "    <tr>\n",
       "      <th id=\"T_dfd60_level0_row22\" class=\"row_heading level0 row22\" >2021-11-01 00:00:00</th>\n",
       "      <td id=\"T_dfd60_row22_col0\" class=\"data row22 col0\" >1,619,817</td>\n",
       "    </tr>\n",
       "    <tr>\n",
       "      <th id=\"T_dfd60_level0_row23\" class=\"row_heading level0 row23\" >2021-12-01 00:00:00</th>\n",
       "      <td id=\"T_dfd60_row23_col0\" class=\"data row23 col0\" >1,299,985</td>\n",
       "    </tr>\n",
       "    <tr>\n",
       "      <th id=\"T_dfd60_level0_row24\" class=\"row_heading level0 row24\" >2022-01-01 00:00:00</th>\n",
       "      <td id=\"T_dfd60_row24_col0\" class=\"data row24 col0\" >1,337,869</td>\n",
       "    </tr>\n",
       "    <tr>\n",
       "      <th id=\"T_dfd60_level0_row25\" class=\"row_heading level0 row25\" >2022-02-01 00:00:00</th>\n",
       "      <td id=\"T_dfd60_row25_col0\" class=\"data row25 col0\" >1,488,066</td>\n",
       "    </tr>\n",
       "    <tr>\n",
       "      <th id=\"T_dfd60_level0_row26\" class=\"row_heading level0 row26\" >2022-03-01 00:00:00</th>\n",
       "      <td id=\"T_dfd60_row26_col0\" class=\"data row26 col0\" >1,813,652</td>\n",
       "    </tr>\n",
       "    <tr>\n",
       "      <th id=\"T_dfd60_level0_row27\" class=\"row_heading level0 row27\" >2022-04-01 00:00:00</th>\n",
       "      <td id=\"T_dfd60_row27_col0\" class=\"data row27 col0\" >1,758,421</td>\n",
       "    </tr>\n",
       "    <tr>\n",
       "      <th id=\"T_dfd60_level0_row28\" class=\"row_heading level0 row28\" >2022-05-01 00:00:00</th>\n",
       "      <td id=\"T_dfd60_row28_col0\" class=\"data row28 col0\" >1,935,606</td>\n",
       "    </tr>\n",
       "    <tr>\n",
       "      <th id=\"T_dfd60_level0_row29\" class=\"row_heading level0 row29\" >2022-06-01 00:00:00</th>\n",
       "      <td id=\"T_dfd60_row29_col0\" class=\"data row29 col0\" >1,615,941</td>\n",
       "    </tr>\n",
       "    <tr>\n",
       "      <th id=\"T_dfd60_level0_row30\" class=\"row_heading level0 row30\" >2022-07-01 00:00:00</th>\n",
       "      <td id=\"T_dfd60_row30_col0\" class=\"data row30 col0\" >1,726,583</td>\n",
       "    </tr>\n",
       "    <tr>\n",
       "      <th id=\"T_dfd60_level0_row31\" class=\"row_heading level0 row31\" >2022-08-01 00:00:00</th>\n",
       "      <td id=\"T_dfd60_row31_col0\" class=\"data row31 col0\" >354,760</td>\n",
       "    </tr>\n",
       "    <tr>\n",
       "      <th id=\"T_dfd60_level0_row32\" class=\"row_heading level0 row32\" >2022-09-01 00:00:00</th>\n",
       "      <td id=\"T_dfd60_row32_col0\" class=\"data row32 col0\" >1,531,017</td>\n",
       "    </tr>\n",
       "    <tr>\n",
       "      <th id=\"T_dfd60_level0_row33\" class=\"row_heading level0 row33\" >2022-10-01 00:00:00</th>\n",
       "      <td id=\"T_dfd60_row33_col0\" class=\"data row33 col0\" >0</td>\n",
       "    </tr>\n",
       "    <tr>\n",
       "      <th id=\"T_dfd60_level0_row34\" class=\"row_heading level0 row34\" >2022-11-01 00:00:00</th>\n",
       "      <td id=\"T_dfd60_row34_col0\" class=\"data row34 col0\" >0</td>\n",
       "    </tr>\n",
       "    <tr>\n",
       "      <th id=\"T_dfd60_level0_row35\" class=\"row_heading level0 row35\" >2022-12-01 00:00:00</th>\n",
       "      <td id=\"T_dfd60_row35_col0\" class=\"data row35 col0\" >0</td>\n",
       "    </tr>\n",
       "  </tbody>\n",
       "</table>\n"
      ],
      "text/plain": [
       "<pandas.io.formats.style.Styler at 0x221cdfc1880>"
      ]
     },
     "execution_count": 22,
     "metadata": {},
     "output_type": "execute_result"
    }
   ],
   "source": [
    "inflow_tot.style.format('{:,.0f}')"
   ]
  },
  {
   "cell_type": "code",
   "execution_count": null,
   "id": "af3bb3ae-709a-448a-94cd-88f4a0bf1441",
   "metadata": {},
   "outputs": [],
   "source": []
  }
 ],
 "metadata": {
  "kernelspec": {
   "display_name": "Python 3 (ipykernel)",
   "language": "python",
   "name": "python3"
  },
  "language_info": {
   "codemirror_mode": {
    "name": "ipython",
    "version": 3
   },
   "file_extension": ".py",
   "mimetype": "text/x-python",
   "name": "python",
   "nbconvert_exporter": "python",
   "pygments_lexer": "ipython3",
   "version": "3.9.12"
  }
 },
 "nbformat": 4,
 "nbformat_minor": 5
}
