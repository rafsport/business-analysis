{
 "cells": [
  {
   "cell_type": "markdown",
   "id": "68eb3f77-6cc4-4903-a126-55f1b16dde4e",
   "metadata": {},
   "source": [
    "---"
   ]
  },
  {
   "cell_type": "markdown",
   "id": "46de4cf7-8791-43f3-9394-f501effa6282",
   "metadata": {},
   "source": [
    "how to automatically refresh excel data with python"
   ]
  },
  {
   "cell_type": "code",
   "execution_count": 1,
   "id": "b71595b1-28f6-477a-ab1e-443446af8e38",
   "metadata": {},
   "outputs": [],
   "source": [
    "import win32com.client"
   ]
  },
  {
   "cell_type": "markdown",
   "id": "c57ffc89-947d-4c8f-a097-79550971ada4",
   "metadata": {},
   "source": [
    "[Python Script to Automate Refreshing an Excel Spreadsheet](#https://www.geeksforgeeks.org/python-script-to-automate-refreshing-an-excel-spreadsheet/)"
   ]
  },
  {
   "cell_type": "code",
   "execution_count": 2,
   "id": "fa84ea7b-ded1-4fc8-8369-7af4ca7d255c",
   "metadata": {},
   "outputs": [],
   "source": [
    "# Opening Excel software using the win32com\n",
    "File = win32com.client.Dispatch(\"Excel.Application\")\n",
    "  \n",
    "# Optional line to show the Excel software\n",
    "File.Visible = True\n",
    "  \n",
    "# Opening your workbook\n",
    "Workbook = File.Workbooks.open(r\"C:\\Users\\Raffaele.Sportiello\\OneDrive - Wolters Kluwer\\Documents\\Dashboard inflow\\Dashboard inflow canali e prodotti\\Condivisi\\Dashboard inflow.xlsb\")\n",
    "  \n",
    "# Refeshing all the shests\n",
    "Workbook.RefreshAll()\n",
    "\n",
    "# Prevent excel to close before the refresh is done\n",
    "Workbook.CalculateUntilAsyncQueriesDone()\n",
    "\n",
    "# Saving the Workbook\n",
    "Workbook.Save()\n",
    "\n",
    "# Closing the Excel File\n",
    "File.Quit()"
   ]
  },
  {
   "cell_type": "markdown",
   "id": "556c6316-fcb1-4ddd-b97c-f4f019ce59ea",
   "metadata": {},
   "source": [
    "[How do I make an Excel RefreshAll wait to close until finished?](#https://stackoverflow.com/questions/34296591/how-do-i-make-an-excel-refreshall-wait-to-close-until-finished)  \n",
    "[Refresh Excel External Data with Python](#https://stackoverflow.com/questions/40893870/refresh-excel-external-data-with-python)"
   ]
  },
  {
   "cell_type": "code",
   "execution_count": null,
   "id": "cae3c601-bb41-4606-a7b7-d1adfc7080cf",
   "metadata": {},
   "outputs": [],
   "source": [
    "xl = Dispatch('Excel.Application')\n",
    "workbook = xl.Workbooks.open('\\\\path\\to\\workbook.xlsx')\n",
    "xl.Visible = True\n",
    "workbook.RefreshAll()\n",
    "xl.CalculateUntilAsyncQueriesDone()\n",
    "xl.Quit()"
   ]
  },
  {
   "cell_type": "markdown",
   "id": "b84839be-7900-45b7-a20c-b36c6625a8e5",
   "metadata": {},
   "source": [
    "---"
   ]
  },
  {
   "cell_type": "markdown",
   "id": "2b8bc1af-7fad-4388-9f70-bbf6ae7960da",
   "metadata": {},
   "source": [
    "automatically copy pivot to outlook flow"
   ]
  },
  {
   "cell_type": "markdown",
   "id": "a7b1f7ae-a600-459c-8178-a2e7875975eb",
   "metadata": {},
   "source": [
    "[How to Export Pivot Tables to an Outlook Email Using Excel VBA](#https://www.youtube.com/watch?v=JjbvTngTr-M)  \n",
    "[Copy Pivot Table to Outlook then Send](#https://stackoverflow.com/questions/69217166/copy-pivot-table-to-outlook-then-send)  \n",
    "[Copy Excel tables to Outlook email with Python](#https://stackoverflow.com/questions/47223221/copy-excel-tables-to-outlook-email-with-python)"
   ]
  },
  {
   "cell_type": "markdown",
   "id": "e05944e4-e6c8-4c63-a580-d5e30ce9e4af",
   "metadata": {},
   "source": [
    "python paste an excel table to outlook email\n",
    "\n",
    "[Using PasteExcelTable to copy Excel data to the body of an Outlook email with Python](#https://stackoverflow.com/questions/57024041/using-pasteexceltable-to-copy-excel-data-to-the-body-of-an-outlook-email-with-py)"
   ]
  },
  {
   "cell_type": "code",
   "execution_count": null,
   "id": "36f74972-4f0b-4a02-998b-7d0bcb20be72",
   "metadata": {},
   "outputs": [],
   "source": []
  }
 ],
 "metadata": {
  "kernelspec": {
   "display_name": "Python 3 (ipykernel)",
   "language": "python",
   "name": "python3"
  },
  "language_info": {
   "codemirror_mode": {
    "name": "ipython",
    "version": 3
   },
   "file_extension": ".py",
   "mimetype": "text/x-python",
   "name": "python",
   "nbconvert_exporter": "python",
   "pygments_lexer": "ipython3",
   "version": "3.9.7"
  }
 },
 "nbformat": 4,
 "nbformat_minor": 5
}
