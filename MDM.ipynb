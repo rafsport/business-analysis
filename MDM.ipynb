{
 "cells": [
  {
   "cell_type": "code",
   "execution_count": 1,
   "id": "b003b017-b8ec-4f9d-9e23-533dfb3b40dd",
   "metadata": {},
   "outputs": [],
   "source": [
    "import pandas as pd\n",
    "import os\n",
    "import numpy as np\n",
    "import datetime as dt\n",
    "from os import listdir\n",
    "from os.path import isfile, join\n",
    "from zebra import human_format"
   ]
  },
  {
   "cell_type": "code",
   "execution_count": 2,
   "id": "57f10f9a-1121-450d-b841-19267b592bf9",
   "metadata": {},
   "outputs": [],
   "source": [
    "idx = pd.IndexSlice"
   ]
  },
  {
   "cell_type": "code",
   "execution_count": 3,
   "id": "050cb8f0-665d-46bb-a554-d3d3022d1b9f",
   "metadata": {},
   "outputs": [],
   "source": [
    "def highlight_lost(x, color):\n",
    "    return np.where(x == \"Closed Lost\", f\"background: {color};\", None )"
   ]
  },
  {
   "cell_type": "markdown",
   "id": "7891f890-b270-4e21-8592-8578ec4d427e",
   "metadata": {},
   "source": [
    "***"
   ]
  },
  {
   "cell_type": "markdown",
   "id": "f0978ead-732a-4902-ae56-923197fb8e45",
   "metadata": {
    "tags": []
   },
   "source": [
    "# Data collection"
   ]
  },
  {
   "cell_type": "markdown",
   "id": "6b72bba5-128a-424a-b41e-f4d6221a4bb4",
   "metadata": {
    "tags": []
   },
   "source": [
    "## IT_Op_w_Products"
   ]
  },
  {
   "cell_type": "code",
   "execution_count": 5,
   "id": "cb0a398e-d6bc-4299-9a31-b3afd7302235",
   "metadata": {},
   "outputs": [],
   "source": [
    "op_w_prod = pd.read_csv(r\"C:\\Users\\Raffaele.Sportiello\\OneDrive - Wolters Kluwer\\Documents\\Salesforce\\Data export\\IT_Op_w_Products.csv\", encoding='latin-1', sep=\";\")\n",
    "\n",
    "for col in op_w_prod.columns:\n",
    "    if \"Date\" in col:\n",
    "        op_w_prod[col] = op_w_prod[col].astype(str)\n",
    "        op_w_prod[col] = pd.to_datetime(op_w_prod[col], format=\"%d/%m/%Y\")\n",
    "    else:\n",
    "        pass\n",
    "    \n",
    "    \n",
    "columns = [c for c in op_w_prod.columns if not \"Currency\" in c]\n",
    "op_w_prod = op_w_prod.loc[:,columns]\n",
    "\n",
    "num = []\n",
    "\n",
    "for col in op_w_prod.columns:\n",
    "    if \"Amount\" in col:\n",
    "        num.append(col)\n",
    "    else:\n",
    "        pass\n",
    "    \n",
    "op_w_prod[num] = op_w_prod[num].apply(lambda x: x.str.replace(\",\",\".\", regex=False)).astype(float)\n",
    "\n",
    "op_w_prod[\"weighted amount\"] = op_w_prod[\"weighted amount\"].apply(lambda x: x.replace(\",\",\".\")).astype(float)\n",
    "op_w_prod[\"Total Value\"] = op_w_prod[\"Total Value\"].apply(lambda x: x.replace(\",\",\".\")).astype(float)\n",
    "\n",
    "op_w_prod[\"Total Price\"] = op_w_prod[\"Total Price\"].astype(str).apply(lambda x: x.replace(\",\",\".\")).astype(float)"
   ]
  },
  {
   "cell_type": "markdown",
   "id": "94894978-212b-4b06-8d8b-0c4847acd409",
   "metadata": {
    "tags": []
   },
   "source": [
    "## IT_Opp_by_Created_Date"
   ]
  },
  {
   "cell_type": "code",
   "execution_count": null,
   "id": "27016d5a-3cea-4d93-9fe9-744990907158",
   "metadata": {
    "tags": []
   },
   "outputs": [],
   "source": [
    "op_by_date = pd.read_csv(r\"C:\\Users\\Raffaele.Sportiello\\OneDrive - Wolters Kluwer\\Documents\\Salesforce\\Data export\\IT_Opp_by_Created_Date.csv\", encoding='latin-1', sep=\";\")\n",
    "\n",
    "op_by_date[\"Created Date\"] = pd.to_datetime(op_by_date[\"Created Date\"].astype(str), format=\"%d/%m/%Y\")\n",
    "op_by_date[\"Close Date\"] = pd.to_datetime(op_by_date[\"Close Date\"].astype(str), format=\"%d/%m/%Y\")\n",
    "op_by_date[\"Original Close Date\"] = pd.to_datetime(op_by_date[\"Original Close Date\"].astype(str), format=\"%d/%m/%Y\")\n",
    "op_by_date[\"Last Stage Change Date\"] = pd.to_datetime(op_by_date[\"Last Stage Change Date\"].astype(str), format=\"%d/%m/%Y\")\n",
    "op_by_date[\"Last Modified Date\"] = pd.to_datetime(op_by_date[\"Last Modified Date\"].astype(str), format=\"%d/%m/%Y\")\n",
    "\n",
    "columns = [c for c in op_by_date.columns if not \"Currency\" in c]\n",
    "op_by_date = op_by_date[columns]\n",
    "\n",
    "op_by_date.loc[:, [\"Subscription Amount\", \"Non-Subscription Amount\",\"Incremental Amount\",\"weighted amount\"]] = op_by_date.loc[:, [\"Subscription Amount\", \"Non-Subscription Amount\",\"Incremental Amount\",\"weighted amount\"]].apply(lambda x: x.str.replace(\",\",\".\", regex=False)).astype(float)"
   ]
  },
  {
   "cell_type": "markdown",
   "id": "f1f9dab1-b5e3-4198-a9ec-2083d6580911",
   "metadata": {
    "tags": []
   },
   "source": [
    "## Inflow"
   ]
  },
  {
   "cell_type": "code",
   "execution_count": 4,
   "id": "02f6bfcb-8e74-4f94-b77f-199f56377906",
   "metadata": {},
   "outputs": [],
   "source": [
    "inflow_prodotti = r\"C:\\Users\\Raffaele.Sportiello\\OneDrive - Wolters Kluwer\\Documents\\Dashboard inflow\\Dashboard inflow canali e prodotti\\Source\\inflow_prodotti\\\\\"\n",
    "\n",
    "onlyfiles = [f for f in listdir(r\"C:\\Users\\Raffaele.Sportiello\\OneDrive - Wolters Kluwer\\Documents\\Dashboard inflow\\Dashboard inflow canali e prodotti\\Source\\inflow_prodotti\") if isfile(join(r\"C:\\Users\\Raffaele.Sportiello\\OneDrive - Wolters Kluwer\\Documents\\Dashboard inflow\\Dashboard inflow canali e prodotti\\Source\\inflow_prodotti\", f))]\n",
    "    \n",
    "dfs = []\n",
    "for file in onlyfiles:\n",
    "    data = pd.read_excel(inflow_prodotti+file)\n",
    "    dfs.append(data)\n",
    "inflow = pd.concat(dfs, axis=0, ignore_index=True)\n",
    "    \n",
    "for col in inflow.select_dtypes(include=[object]).columns:\n",
    "    inflow[col] = inflow[col].astype(str)"
   ]
  },
  {
   "cell_type": "markdown",
   "id": "5efcd343-eb36-414c-bdec-c0f3813a1a0a",
   "metadata": {
    "tags": []
   },
   "source": [
    "## Budget"
   ]
  },
  {
   "cell_type": "code",
   "execution_count": 58,
   "id": "859c5561-ef71-42db-b0a8-6a2ab90e970a",
   "metadata": {},
   "outputs": [],
   "source": [
    "budget_prodotti = r\"C:\\Users\\Raffaele.Sportiello\\OneDrive - Wolters Kluwer\\Documents\\Dashboard inflow\\Dashboard inflow canali e prodotti\\Source\\budget_prodotti\\\\\"\n",
    "\n",
    "onlyfiles = [f for f in listdir(r\"C:\\Users\\Raffaele.Sportiello\\OneDrive - Wolters Kluwer\\Documents\\Dashboard inflow\\Dashboard inflow canali e prodotti\\Source\\budget_prodotti\") if isfile(join(r\"C:\\Users\\Raffaele.Sportiello\\OneDrive - Wolters Kluwer\\Documents\\Dashboard inflow\\Dashboard inflow canali e prodotti\\Source\\budget_prodotti\", f))]\n",
    "\n",
    "dfs = []\n",
    "for file in onlyfiles:\n",
    "    data = pd.read_excel(budget_prodotti+file)\n",
    "    dfs.append(data)\n",
    "bdg = pd.concat(dfs, axis=0, ignore_index=True)\n",
    "    \n",
    "for col in bdg.select_dtypes(include=[object]).columns:\n",
    "    bdg[col] = bdg[col].astype(str)"
   ]
  },
  {
   "cell_type": "markdown",
   "id": "48618b37-c7a8-4021-8b76-63c662e7e09d",
   "metadata": {
    "tags": []
   },
   "source": [
    "## Forecast"
   ]
  },
  {
   "cell_type": "code",
   "execution_count": 5,
   "id": "cb47eed6-d5d5-448b-b649-e9a6b601b103",
   "metadata": {},
   "outputs": [],
   "source": [
    "forecast = pd.read_excel(r\"C:\\Users\\Raffaele.Sportiello\\OneDrive - Wolters Kluwer\\Documents\\Dashboard inflow\\Dashboard inflow canali e prodotti\\Source\\forecast_sales_director\\forecast_sales_director_2023.xlsx\")"
   ]
  },
  {
   "cell_type": "markdown",
   "id": "b859eb23-d2d7-4270-970b-4adbfe4bf3f6",
   "metadata": {
    "tags": []
   },
   "source": [
    "## Parametriche"
   ]
  },
  {
   "cell_type": "code",
   "execution_count": 6,
   "id": "a1b5b56d-4387-4567-81a5-4b0e1b537877",
   "metadata": {},
   "outputs": [],
   "source": [
    "parametriche = r\"C:\\Users\\Raffaele.Sportiello\\OneDrive - Wolters Kluwer\\Documents\\Dashboard inflow\\Parametriche\\\\\"\n",
    "onlyfiles = [f for f in listdir(r\"C:\\Users\\Raffaele.Sportiello\\OneDrive - Wolters Kluwer\\Documents\\Dashboard inflow\\Parametriche\") if isfile(join(r\"C:\\Users\\Raffaele.Sportiello\\OneDrive - Wolters Kluwer\\Documents\\Dashboard inflow\\Parametriche\", f))]\n",
    "\n",
    "par = {}\n",
    "for file in onlyfiles:\n",
    "    file_name=file.split(\".\")[0]\n",
    "    par[f\"{file_name}\"] = pd.read_excel(parametriche+file)\n"
   ]
  },
  {
   "cell_type": "code",
   "execution_count": 7,
   "id": "98d843d3-ff9a-4eef-9f28-26851a3c2537",
   "metadata": {},
   "outputs": [],
   "source": [
    "sales_director = par[\"Sales_director\"][[\"Sales Director\", \"Rete\", \"Area territoriale\"]]\n",
    "linea_prodotti = par[\"Linea_prodotti\"]"
   ]
  },
  {
   "cell_type": "markdown",
   "id": "ba803285-b629-43ac-8e15-dd8ca4a6c11b",
   "metadata": {
    "tags": []
   },
   "source": [
    "# Top five pending deals"
   ]
  },
  {
   "cell_type": "code",
   "execution_count": 77,
   "id": "8767caa1-f1bd-4868-a74c-5e29f384e1e0",
   "metadata": {},
   "outputs": [],
   "source": [
    "now = dt.datetime.now()\n",
    "current_month = now.month\n",
    "current_year = now.year"
   ]
  },
  {
   "cell_type": "code",
   "execution_count": 79,
   "id": "67fb912f-3239-4cb8-b7e0-f193532de28a",
   "metadata": {
    "tags": []
   },
   "outputs": [
    {
     "name": "stderr",
     "output_type": "stream",
     "text": [
      "C:\\Users\\Raffaele.Sportiello\\AppData\\Local\\Temp\\1\\ipykernel_20264\\3655733436.py:13: SettingWithCopyWarning: \n",
      "A value is trying to be set on a copy of a slice from a DataFrame\n",
      "\n",
      "See the caveats in the documentation: https://pandas.pydata.org/pandas-docs/stable/user_guide/indexing.html#returning-a-view-versus-a-copy\n",
      "  top_pend_deals[\"Account Type\"].replace({\"Customer\":\"Existing\",\"Prospect\":\"New\"}, inplace=True)\n",
      "C:\\Users\\Raffaele.Sportiello\\AppData\\Local\\Temp\\1\\ipykernel_20264\\3655733436.py:15: SettingWithCopyWarning: \n",
      "A value is trying to be set on a copy of a slice from a DataFrame.\n",
      "Try using .loc[row_indexer,col_indexer] = value instead\n",
      "\n",
      "See the caveats in the documentation: https://pandas.pydata.org/pandas-docs/stable/user_guide/indexing.html#returning-a-view-versus-a-copy\n",
      "  top_pend_deals.loc[:,[\"Business Unit\", \"Comments\"]] = np.NaN\n"
     ]
    }
   ],
   "source": [
    "opp_list = op_w_prod.loc[~op_w_prod[\"Stage\"].str.contains(\"Closed\", na=False),\n",
    "                         [\"Close Date\", \"Opportunity ID\", \"Opportunity Name\",\"Stage\",\"Ag MDM\",\"Account Name\", \"Account Type\",\"Owner Role\",\"Product Name\",\"Probability (%)\",\"Subscription Amount\",\"Non-Subscription Amount\",\"Incremental Amount\",\"weighted amount\",\"Total Value\",\"Total Price\"]].copy()\n",
    "\n",
    "opp_list.loc[:,opp_list.select_dtypes(include=['number']).columns] = opp_list.loc[:,opp_list.select_dtypes(include=['number']).columns].fillna(0)\n",
    "opp_list.loc[:,opp_list.select_dtypes(include=['object']).columns] = opp_list.loc[:,opp_list.select_dtypes(include=['object']).columns].fillna(\"\")\n",
    "\n",
    "opp_list = opp_list.groupby([op_w_prod[\"Close Date\"].astype('datetime64[M]'), \"Opportunity ID\", \"Opportunity Name\",\"Stage\",\"Ag MDM\",\"Account Name\", \"Account Type\",\"Owner Role\",\"Product Name\"]).agg({\"Probability (%)\":\"mean\", \"Subscription Amount\":\"max\", \"Non-Subscription Amount\":\"max\",\"Incremental Amount\":\"max\",\"weighted amount\":\"max\",\"Total Value\":\"sum\",\"Total Price\":\"sum\"}).sort_values(by=[\"Incremental Amount\"], ascending=False).reset_index()\n",
    "\n",
    "opp_list[\"Products\"] = opp_list.groupby([\"Opportunity ID\", \"Account Name\", \"Account Type\", \"Stage\", \"Close Date\", \"Owner Role\"])[\"Product Name\"].transform(lambda x: \" | \".join(x))\n",
    "top_deals = opp_list.groupby([\"Opportunity ID\",\"Opportunity Name\", \"Account Name\", \"Account Type\", \"Products\", \"Stage\", \"Close Date\", \"Owner Role\"], dropna=False).agg({\"Incremental Amount\":\"max\"}).reset_index().sort_values(by=[\"Incremental Amount\"], ascending=False)\n",
    "\n",
    "top_pend_deals = top_deals.loc[(top_deals[\"Close Date\"].dt.date >= (dt.date(current_year,current_month,1))),:].copy()\n",
    "top_pend_deals[\"Account Type\"].replace({\"Customer\":\"Existing\",\"Prospect\":\"New\"}, inplace=True)\n",
    "top_pend_deals.columns = [\"Opportunity ID\", \"Opportunity Name\",\"Customer\", \"New / Existing client\", \"Product\", \"Stage\", \"Status (Closed/Pipeline/Lost/Postponed)\", \"Owner Role\", \"Size (€)\"]\n",
    "top_pend_deals.loc[:,[\"Business Unit\", \"Comments\"]] = np.NaN \n",
    "top_pend_deals = top_pend_deals.loc[:,[\"Customer\", \"New / Existing client\", \"Business Unit\", \"Product\", \"Size (€)\", \"Comments\", \"Status (Closed/Pipeline/Lost/Postponed)\", \"Opportunity ID\", \"Opportunity Name\", \"Stage\", \"Owner Role\"]]\n",
    "top_pend_deals.index = np.arange(1, len(top_pend_deals)+1)\n",
    "\n",
    "top_pend_deals_per_slide = top_pend_deals.loc[top_pend_deals[\"Status (Closed/Pipeline/Lost/Postponed)\"].dt.date < dt.date(2023,12,31)].copy()\n",
    "top_pend_deals_per_slide = top_pend_deals_per_slide[[\"Customer\", \"New / Existing client\", \"Business Unit\", \"Product\", \"Size (€)\", \"Comments\", \"Status (Closed/Pipeline/Lost/Postponed)\"]]\n",
    "top_pend_deals_per_slide[\"Status (Closed/Pipeline/Lost/Postponed)\"] = top_pend_deals_per_slide[\"Status (Closed/Pipeline/Lost/Postponed)\"].dt.strftime(\"Pipeline %b-%y\")\n",
    "top_pend_deals_per_slide.index = np.arange(1, len(top_pend_deals_per_slide)+1)\n",
    "top_pend_deals_per_slide.index.set_names(\"#\", inplace=True)\n",
    "\n",
    "with pd.ExcelWriter(r\"C:\\Users\\Raffaele.Sportiello\\OneDrive - Wolters Kluwer\\Documents\\Presentazioni\\MDM\\Top pending deals.xlsx\") as writer:\n",
    "    top_pend_deals_per_slide.to_excel(writer, sheet_name=\"top_pend_deals\")\n",
    "    top_pend_deals.to_excel(writer, sheet_name=\"descending_deals\")\n",
    "    opp_list.to_excel(writer, sheet_name=\"opp_list\", index=False)"
   ]
  },
  {
   "cell_type": "code",
   "execution_count": 11,
   "id": "e909d300-7ac9-471f-b0ac-2c7d9343f952",
   "metadata": {},
   "outputs": [
    {
     "data": {
      "text/html": [
       "<style type=\"text/css\">\n",
       "</style>\n",
       "<table id=\"T_b965c\">\n",
       "  <thead>\n",
       "    <tr>\n",
       "      <th class=\"blank level0\" >&nbsp;</th>\n",
       "      <th id=\"T_b965c_level0_col0\" class=\"col_heading level0 col0\" >Customer</th>\n",
       "      <th id=\"T_b965c_level0_col1\" class=\"col_heading level0 col1\" >New / Existing client</th>\n",
       "      <th id=\"T_b965c_level0_col2\" class=\"col_heading level0 col2\" >Business Unit</th>\n",
       "      <th id=\"T_b965c_level0_col3\" class=\"col_heading level0 col3\" >Product</th>\n",
       "      <th id=\"T_b965c_level0_col4\" class=\"col_heading level0 col4\" >Size (€)</th>\n",
       "      <th id=\"T_b965c_level0_col5\" class=\"col_heading level0 col5\" >Comments</th>\n",
       "      <th id=\"T_b965c_level0_col6\" class=\"col_heading level0 col6\" >Status (Closed/Pipeline/Lost/Postponed)</th>\n",
       "      <th id=\"T_b965c_level0_col7\" class=\"col_heading level0 col7\" >Opportunity ID</th>\n",
       "      <th id=\"T_b965c_level0_col8\" class=\"col_heading level0 col8\" >Opportunity Name</th>\n",
       "      <th id=\"T_b965c_level0_col9\" class=\"col_heading level0 col9\" >Stage</th>\n",
       "      <th id=\"T_b965c_level0_col10\" class=\"col_heading level0 col10\" >Owner Role</th>\n",
       "    </tr>\n",
       "  </thead>\n",
       "  <tbody>\n",
       "    <tr>\n",
       "      <th id=\"T_b965c_level0_row0\" class=\"row_heading level0 row0\" >1</th>\n",
       "      <td id=\"T_b965c_row0_col0\" class=\"data row0 col0\" >CREDIT AGRICOLE GROUP SOLUTIONS SCPA</td>\n",
       "      <td id=\"T_b965c_row0_col1\" class=\"data row0 col1\" >Existing</td>\n",
       "      <td id=\"T_b965c_row0_col2\" class=\"data row0 col2\" >nan</td>\n",
       "      <td id=\"T_b965c_row0_col3\" class=\"data row0 col3\" ></td>\n",
       "      <td id=\"T_b965c_row0_col4\" class=\"data row0 col4\" >200.000</td>\n",
       "      <td id=\"T_b965c_row0_col5\" class=\"data row0 col5\" >nan</td>\n",
       "      <td id=\"T_b965c_row0_col6\" class=\"data row0 col6\" >Mar, 2023</td>\n",
       "      <td id=\"T_b965c_row0_col7\" class=\"data row0 col7\" >00607000003isni</td>\n",
       "      <td id=\"T_b965c_row0_col8\" class=\"data row0 col8\" >AUTOMAZIONE IMPOSTE DIRETTE E INDIRETTE</td>\n",
       "      <td id=\"T_b965c_row0_col9\" class=\"data row0 col9\" >Qualification</td>\n",
       "      <td id=\"T_b965c_row0_col10\" class=\"data row0 col10\" >IT Large Account Sales Team</td>\n",
       "    </tr>\n",
       "    <tr>\n",
       "      <th id=\"T_b965c_level0_row1\" class=\"row_heading level0 row1\" >2</th>\n",
       "      <td id=\"T_b965c_row1_col0\" class=\"data row1 col0\" >SALVATORE FERRAGAMO SPA</td>\n",
       "      <td id=\"T_b965c_row1_col1\" class=\"data row1 col1\" >Existing</td>\n",
       "      <td id=\"T_b965c_row1_col2\" class=\"data row1 col2\" >nan</td>\n",
       "      <td id=\"T_b965c_row1_col3\" class=\"data row1 col3\" >PERSONALIZZAZIONI SOFTWARE</td>\n",
       "      <td id=\"T_b965c_row1_col4\" class=\"data row1 col4\" >150.000</td>\n",
       "      <td id=\"T_b965c_row1_col5\" class=\"data row1 col5\" >nan</td>\n",
       "      <td id=\"T_b965c_row1_col6\" class=\"data row1 col6\" >Feb, 2023</td>\n",
       "      <td id=\"T_b965c_row1_col7\" class=\"data row1 col7\" >00607000001twWv</td>\n",
       "      <td id=\"T_b965c_row1_col8\" class=\"data row1 col8\" >ferragamo</td>\n",
       "      <td id=\"T_b965c_row1_col9\" class=\"data row1 col9\" >Qualification</td>\n",
       "      <td id=\"T_b965c_row1_col10\" class=\"data row1 col10\" >IT Large Account Sales Team</td>\n",
       "    </tr>\n",
       "    <tr>\n",
       "      <th id=\"T_b965c_level0_row2\" class=\"row_heading level0 row2\" >3</th>\n",
       "      <td id=\"T_b965c_row2_col0\" class=\"data row2 col0\" >UNICREDIT SPA</td>\n",
       "      <td id=\"T_b965c_row2_col1\" class=\"data row2 col1\" >Existing</td>\n",
       "      <td id=\"T_b965c_row2_col2\" class=\"data row2 col2\" >nan</td>\n",
       "      <td id=\"T_b965c_row2_col3\" class=\"data row2 col3\" ></td>\n",
       "      <td id=\"T_b965c_row2_col4\" class=\"data row2 col4\" >150.000</td>\n",
       "      <td id=\"T_b965c_row2_col5\" class=\"data row2 col5\" >nan</td>\n",
       "      <td id=\"T_b965c_row2_col6\" class=\"data row2 col6\" >Feb, 2023</td>\n",
       "      <td id=\"T_b965c_row2_col7\" class=\"data row2 col7\" >00607000003isn9</td>\n",
       "      <td id=\"T_b965c_row2_col8\" class=\"data row2 col8\" >TCF</td>\n",
       "      <td id=\"T_b965c_row2_col9\" class=\"data row2 col9\" >Qualification</td>\n",
       "      <td id=\"T_b965c_row2_col10\" class=\"data row2 col10\" >IT Large Account Sales Team</td>\n",
       "    </tr>\n",
       "    <tr>\n",
       "      <th id=\"T_b965c_level0_row3\" class=\"row_heading level0 row3\" >4</th>\n",
       "      <td id=\"T_b965c_row3_col0\" class=\"data row3 col0\" >TELECOM ITALIA SPA</td>\n",
       "      <td id=\"T_b965c_row3_col1\" class=\"data row3 col1\" >Existing</td>\n",
       "      <td id=\"T_b965c_row3_col2\" class=\"data row3 col2\" >nan</td>\n",
       "      <td id=\"T_b965c_row3_col3\" class=\"data row3 col3\" >PROGETTO TAX PLUGIN 2.0 ATTIV.</td>\n",
       "      <td id=\"T_b965c_row3_col4\" class=\"data row3 col4\" >150.000</td>\n",
       "      <td id=\"T_b965c_row3_col5\" class=\"data row3 col5\" >nan</td>\n",
       "      <td id=\"T_b965c_row3_col6\" class=\"data row3 col6\" >Feb, 2023</td>\n",
       "      <td id=\"T_b965c_row3_col7\" class=\"data row3 col7\" >00607000001tdtg</td>\n",
       "      <td id=\"T_b965c_row3_col8\" class=\"data row3 col8\" >Opportunità Telecom</td>\n",
       "      <td id=\"T_b965c_row3_col9\" class=\"data row3 col9\" >Qualification</td>\n",
       "      <td id=\"T_b965c_row3_col10\" class=\"data row3 col10\" >IT Large Account Sales Team</td>\n",
       "    </tr>\n",
       "    <tr>\n",
       "      <th id=\"T_b965c_level0_row4\" class=\"row_heading level0 row4\" >5</th>\n",
       "      <td id=\"T_b965c_row4_col0\" class=\"data row4 col0\" >Fincantieri SPA</td>\n",
       "      <td id=\"T_b965c_row4_col1\" class=\"data row4 col1\" >New</td>\n",
       "      <td id=\"T_b965c_row4_col2\" class=\"data row4 col2\" >nan</td>\n",
       "      <td id=\"T_b965c_row4_col3\" class=\"data row4 col3\" >PROGETTO TAX PLUGIN 2.0 ATTIV. | ANAL.CONSUL. STUDIO GG INTERO AREA FISC.</td>\n",
       "      <td id=\"T_b965c_row4_col4\" class=\"data row4 col4\" >120.000</td>\n",
       "      <td id=\"T_b965c_row4_col5\" class=\"data row4 col5\" >nan</td>\n",
       "      <td id=\"T_b965c_row4_col6\" class=\"data row4 col6\" >Mar, 2023</td>\n",
       "      <td id=\"T_b965c_row4_col7\" class=\"data row4 col7\" >00607000001t48K</td>\n",
       "      <td id=\"T_b965c_row4_col8\" class=\"data row4 col8\" >Fincantieri SPA-</td>\n",
       "      <td id=\"T_b965c_row4_col9\" class=\"data row4 col9\" >Qualification</td>\n",
       "      <td id=\"T_b965c_row4_col10\" class=\"data row4 col10\" >IT Large Account Sales Team</td>\n",
       "    </tr>\n",
       "  </tbody>\n",
       "</table>\n"
      ],
      "text/plain": [
       "<pandas.io.formats.style.Styler at 0x26f3776a070>"
      ]
     },
     "execution_count": 11,
     "metadata": {},
     "output_type": "execute_result"
    }
   ],
   "source": [
    "top_pend_deals.iloc[0:5, :].style.format(thousands=\".\", precision=0, subset=[\"Size (€)\"]).format(formatter=\"{:%b, %Y}\", subset=[\"Status (Closed/Pipeline/Lost/Postponed)\"]).apply(highlight_lost, color=\"red\")"
   ]
  },
  {
   "cell_type": "code",
   "execution_count": 42,
   "id": "6a76cbdd-6431-4282-8dad-df8d25cb33cf",
   "metadata": {},
   "outputs": [],
   "source": [
    "top_deal_mese_consegnati = pd.DataFrame(data=[\"00607000001t47v\", \"00607000003iPml\", \"00607000003lfNJ\", \"00607000003kOAV\", \"00607000001tmek\"], columns=[\"Opportunity ID\"])\n"
   ]
  },
  {
   "cell_type": "code",
   "execution_count": 43,
   "id": "32e06c6d-da52-449d-933c-b73a30559bb0",
   "metadata": {},
   "outputs": [
    {
     "data": {
      "text/html": [
       "<div>\n",
       "<style scoped>\n",
       "    .dataframe tbody tr th:only-of-type {\n",
       "        vertical-align: middle;\n",
       "    }\n",
       "\n",
       "    .dataframe tbody tr th {\n",
       "        vertical-align: top;\n",
       "    }\n",
       "\n",
       "    .dataframe thead th {\n",
       "        text-align: right;\n",
       "    }\n",
       "</style>\n",
       "<table border=\"1\" class=\"dataframe\">\n",
       "  <thead>\n",
       "    <tr style=\"text-align: right;\">\n",
       "      <th></th>\n",
       "      <th>Customer</th>\n",
       "      <th>Size (€)</th>\n",
       "      <th>Status (Closed/Pipeline/Lost/Postponed)</th>\n",
       "      <th>Opportunity ID</th>\n",
       "      <th>Opportunity Name</th>\n",
       "      <th>Stage</th>\n",
       "      <th>Owner Role</th>\n",
       "    </tr>\n",
       "  </thead>\n",
       "  <tbody>\n",
       "    <tr>\n",
       "      <th>17</th>\n",
       "      <td>INTESA SANPAOLO SPA</td>\n",
       "      <td>35000.0</td>\n",
       "      <td>2023-01-01</td>\n",
       "      <td>00607000003iPml</td>\n",
       "      <td>Intesa</td>\n",
       "      <td>Solution Presentation / Demo</td>\n",
       "      <td>IT Large Account Sales Team</td>\n",
       "    </tr>\n",
       "    <tr>\n",
       "      <th>21</th>\n",
       "      <td>ELIOS NEON SRL</td>\n",
       "      <td>27200.0</td>\n",
       "      <td>2023-01-01</td>\n",
       "      <td>00607000003kOAV</td>\n",
       "      <td>ARCA</td>\n",
       "      <td>Proposal</td>\n",
       "      <td>IT Enterprise Specialists Sales Team</td>\n",
       "    </tr>\n",
       "    <tr>\n",
       "      <th>23</th>\n",
       "      <td>Copan srl</td>\n",
       "      <td>20000.0</td>\n",
       "      <td>2023-01-01</td>\n",
       "      <td>00607000001tmek</td>\n",
       "      <td>Arca evolution - Copan srl</td>\n",
       "      <td>Solution Presentation / Demo</td>\n",
       "      <td>IT Enterprise Specialists Sales Team</td>\n",
       "    </tr>\n",
       "  </tbody>\n",
       "</table>\n",
       "</div>"
      ],
      "text/plain": [
       "               Customer  Size (€) Status (Closed/Pipeline/Lost/Postponed)  \\\n",
       "17  INTESA SANPAOLO SPA   35000.0                              2023-01-01   \n",
       "21       ELIOS NEON SRL   27200.0                              2023-01-01   \n",
       "23            Copan srl   20000.0                              2023-01-01   \n",
       "\n",
       "     Opportunity ID            Opportunity Name                         Stage  \\\n",
       "17  00607000003iPml                      Intesa  Solution Presentation / Demo   \n",
       "21  00607000003kOAV                        ARCA                      Proposal   \n",
       "23  00607000001tmek  Arca evolution - Copan srl  Solution Presentation / Demo   \n",
       "\n",
       "                              Owner Role  \n",
       "17           IT Large Account Sales Team  \n",
       "21  IT Enterprise Specialists Sales Team  \n",
       "23  IT Enterprise Specialists Sales Team  "
      ]
     },
     "execution_count": 43,
     "metadata": {},
     "output_type": "execute_result"
    }
   ],
   "source": [
    "top_pend_deals.loc[top_pend_deals[\"Opportunity ID\"].isin(top_deal_mese_consegnati[\"Opportunity ID\"]),\n",
    "                   [\"Customer\", \"Size (€)\", \"Status (Closed/Pipeline/Lost/Postponed)\", \"Opportunity ID\", \"Opportunity Name\", \"Stage\", \"Owner Role\"]]"
   ]
  },
  {
   "cell_type": "markdown",
   "id": "df3657e1-cbe6-4ce4-8173-32fa25712746",
   "metadata": {},
   "source": [
    "<br>"
   ]
  },
  {
   "cell_type": "markdown",
   "id": "69a8c615-1c8f-4072-bbc1-bf9c265e05db",
   "metadata": {},
   "source": [
    "***"
   ]
  },
  {
   "cell_type": "markdown",
   "id": "ef9ad9b8-87ee-40ce-a2f3-b5eac110dcad",
   "metadata": {
    "tags": []
   },
   "source": [
    "# Last month sales intake performance – TAA Italy"
   ]
  },
  {
   "cell_type": "code",
   "execution_count": 7,
   "id": "cb040951-4b6b-4be6-9c5a-42f66db3e0d9",
   "metadata": {},
   "outputs": [],
   "source": [
    "columns = [\"Opportunity ID\",\"Opportunity Name\", \"Account Name\",  \"Owner Role\", \"Opportunity Owner\", \"Close Date\",\"Stage\", \"Incremental Amount\"]\n",
    "\n",
    "now = dt.datetime.now()\n",
    "prev_month = now.month-1\n",
    "current_year = now.year\n",
    "\n",
    "filt = (op_w_prod[\"Stage\"].str.contains(\"Closed Won\")) & (op_w_prod[\"Close Date\"].dt.month==(prev_month)) & (op_w_prod[\"Close Date\"].dt.year==(current_year))\n",
    "\n",
    "closed_deals = op_w_prod.loc[filt,columns].drop_duplicates(subset=[\"Opportunity ID\"]).sort_values(by=\"Incremental Amount\", ascending=False)\n",
    "\n",
    "\n",
    "filt = (op_w_prod[\"Stage\"].str.contains(\"Closed Lost\")) & (op_w_prod[\"Close Date\"].dt.month==(prev_month)) & (op_w_prod[\"Close Date\"].dt.year==(current_year))\n",
    "\n",
    "lost_deals = op_w_prod.loc[filt,columns].drop_duplicates(subset=[\"Opportunity ID\"]).sort_values(by=\"Incremental Amount\", ascending=False)"
   ]
  },
  {
   "cell_type": "code",
   "execution_count": 44,
   "id": "cb33a792-90cf-495b-90b8-68ed2e6d93fa",
   "metadata": {},
   "outputs": [],
   "source": [
    "with pd.ExcelWriter(r\"C:\\Users\\Raffaele.Sportiello\\OneDrive - Wolters Kluwer\\Documents\\Presentazioni\\MDM\\Last month sales intake performance.xlsx\") as writer:\n",
    "    closed_deals.to_excel(writer, sheet_name=\"closed_deals\", index=False)\n",
    "    lost_deals.to_excel(writer, sheet_name=\"lost_deals\", index=False)"
   ]
  },
  {
   "cell_type": "markdown",
   "id": "62443f8d-9c12-4d56-af6a-69ab6a29bb5c",
   "metadata": {
    "tags": []
   },
   "source": [
    "### Success"
   ]
  },
  {
   "cell_type": "code",
   "execution_count": 11,
   "id": "81afa4a0-0fd8-4896-af2d-e809c0ae1724",
   "metadata": {
    "tags": []
   },
   "outputs": [],
   "source": [
    "now = dt.datetime.now()\n",
    "prev_month = now.month-1\n",
    "current_year = now.year\n",
    "\n",
    "columns = [\"Opportunity ID\",\"Opportunity Name\", \"Product Name\", \"Total Price\", \"Account Name\",  \"Owner Role\", \"Close Date\",\"Stage\", \"Incremental Amount\"]\n",
    "\n",
    "filt = (op_w_prod[\"Stage\"].str.contains(\"Closed Won\")) & (op_w_prod[\"Close Date\"].dt.month==(prev_month)) & (op_w_prod[\"Close Date\"].dt.year==(current_year))\n",
    "\n",
    "closed_deals_con_prod = op_w_prod.loc[filt,:].groupby([\"Opportunity ID\",\"Opportunity Name\",\"Account Name\",  \"Owner Role\", \"Close Date\", \"Product Name\"]).agg({\"Total Price\":\"sum\",\"Incremental Amount\":\"max\"}).sort_values(by=[\"Incremental Amount\"], ascending=False)\n",
    "\n",
    "closed_deals_con_prod.style.format(\"{:,.0f}€\").background_gradient().to_excel(r\"C:\\Users\\Raffaele.Sportiello\\OneDrive - Wolters Kluwer\\Documents\\Presentazioni\\MDM\\Success per MOR.xlsx\")"
   ]
  },
  {
   "cell_type": "markdown",
   "id": "3baa593e-6687-40f0-928d-a3e091955288",
   "metadata": {
    "tags": []
   },
   "source": [
    "# Pipeline – TAA Italy"
   ]
  },
  {
   "cell_type": "markdown",
   "id": "c0a480b9-5d8c-46fd-af56-cdc48756de17",
   "metadata": {
    "tags": []
   },
   "source": [
    "## Pipeline"
   ]
  },
  {
   "cell_type": "code",
   "execution_count": 48,
   "id": "ecd2e216-2ac5-4565-a8e6-4f689e8e996b",
   "metadata": {},
   "outputs": [],
   "source": [
    "pipe = op_w_prod.drop_duplicates(subset=[\"Opportunity ID\"])"
   ]
  },
  {
   "cell_type": "markdown",
   "id": "ca62f6a1-bff9-4a7d-87f1-ac6f898e1570",
   "metadata": {
    "tags": []
   },
   "source": [
    "### Total Pipeline"
   ]
  },
  {
   "cell_type": "code",
   "execution_count": 49,
   "id": "c7427e3e-f271-4db3-82f9-12a9e720e5d0",
   "metadata": {},
   "outputs": [],
   "source": [
    "filt = (pipe[\"Close Date\"].dt.month > (dt.datetime.now().month-1)) & (~pipe[\"Stage\"].str.contains(\"Closed\"))\n",
    "tot_pipeline = pipe.loc[filt,:].groupby([pipe[\"Close Date\"].astype('datetime64[M]')])[[\"Incremental Amount\"]].sum().reset_index().pivot_table(columns=\"Close Date\", values=\"Incremental Amount\")"
   ]
  },
  {
   "cell_type": "code",
   "execution_count": 50,
   "id": "441b01ff-a189-4457-85d4-6d3be3fd35a2",
   "metadata": {},
   "outputs": [
    {
     "data": {
      "text/html": [
       "<div>\n",
       "<style scoped>\n",
       "    .dataframe tbody tr th:only-of-type {\n",
       "        vertical-align: middle;\n",
       "    }\n",
       "\n",
       "    .dataframe tbody tr th {\n",
       "        vertical-align: top;\n",
       "    }\n",
       "\n",
       "    .dataframe thead th {\n",
       "        text-align: right;\n",
       "    }\n",
       "</style>\n",
       "<table border=\"1\" class=\"dataframe\">\n",
       "  <thead>\n",
       "    <tr style=\"text-align: right;\">\n",
       "      <th>Close Date</th>\n",
       "      <th>2023-02-01</th>\n",
       "      <th>2023-03-01</th>\n",
       "      <th>2023-04-01</th>\n",
       "      <th>2023-05-01</th>\n",
       "      <th>2023-06-01</th>\n",
       "      <th>2023-07-01</th>\n",
       "      <th>2023-09-01</th>\n",
       "      <th>2023-10-01</th>\n",
       "      <th>2023-11-01</th>\n",
       "      <th>2023-12-01</th>\n",
       "    </tr>\n",
       "  </thead>\n",
       "  <tbody>\n",
       "    <tr>\n",
       "      <th>Incremental Amount</th>\n",
       "      <td>1744533.12</td>\n",
       "      <td>920046.33</td>\n",
       "      <td>261227.0</td>\n",
       "      <td>57863.0</td>\n",
       "      <td>42940.0</td>\n",
       "      <td>100500.0</td>\n",
       "      <td>32080.0</td>\n",
       "      <td>1800.0</td>\n",
       "      <td>0.0</td>\n",
       "      <td>8840.0</td>\n",
       "    </tr>\n",
       "  </tbody>\n",
       "</table>\n",
       "</div>"
      ],
      "text/plain": [
       "Close Date          2023-02-01  2023-03-01  2023-04-01  2023-05-01  \\\n",
       "Incremental Amount  1744533.12   920046.33    261227.0     57863.0   \n",
       "\n",
       "Close Date          2023-06-01  2023-07-01  2023-09-01  2023-10-01  \\\n",
       "Incremental Amount     42940.0    100500.0     32080.0      1800.0   \n",
       "\n",
       "Close Date          2023-11-01  2023-12-01  \n",
       "Incremental Amount         0.0      8840.0  "
      ]
     },
     "execution_count": 50,
     "metadata": {},
     "output_type": "execute_result"
    }
   ],
   "source": [
    "tot_pipeline"
   ]
  },
  {
   "cell_type": "code",
   "execution_count": 75,
   "id": "98e0120c-a8f8-419d-83cd-fee0cabba656",
   "metadata": {},
   "outputs": [
    {
     "data": {
      "text/plain": [
       "Incremental Amount    3169829.45\n",
       "dtype: float64"
      ]
     },
     "execution_count": 75,
     "metadata": {},
     "output_type": "execute_result"
    }
   ],
   "source": [
    "tot_pipeline.sum(axis=1)"
   ]
  },
  {
   "cell_type": "markdown",
   "id": "422f2d26-c400-4e99-86e4-2bf10d8e86a5",
   "metadata": {
    "tags": []
   },
   "source": [
    "### Forecast 50<70 e Forecast >70"
   ]
  },
  {
   "cell_type": "code",
   "execution_count": 51,
   "id": "47a11235-d135-4f37-bbef-b844706a84a1",
   "metadata": {},
   "outputs": [],
   "source": [
    "filt = (pipe[\"Close Date\"].dt.month > (dt.datetime.now().month-1)) & (pipe[\"Ag MDM\"].str.contains(\"70<90|50<70\"))\n",
    "pipe_50_90 = pipe.loc[filt,:].groupby([pipe[\"Close Date\"].astype('datetime64[M]'), \"Stage\", \"Ag MDM\"])[[ \"weighted amount\"]].sum().unstack(0).fillna(0)"
   ]
  },
  {
   "cell_type": "code",
   "execution_count": 52,
   "id": "476c1d6e-f271-4af4-b96e-6815d2ce5a8b",
   "metadata": {},
   "outputs": [
    {
     "data": {
      "text/html": [
       "<div>\n",
       "<style scoped>\n",
       "    .dataframe tbody tr th:only-of-type {\n",
       "        vertical-align: middle;\n",
       "    }\n",
       "\n",
       "    .dataframe tbody tr th {\n",
       "        vertical-align: top;\n",
       "    }\n",
       "\n",
       "    .dataframe thead tr th {\n",
       "        text-align: left;\n",
       "    }\n",
       "\n",
       "    .dataframe thead tr:last-of-type th {\n",
       "        text-align: right;\n",
       "    }\n",
       "</style>\n",
       "<table border=\"1\" class=\"dataframe\">\n",
       "  <thead>\n",
       "    <tr>\n",
       "      <th></th>\n",
       "      <th></th>\n",
       "      <th colspan=\"6\" halign=\"left\">weighted amount</th>\n",
       "    </tr>\n",
       "    <tr>\n",
       "      <th></th>\n",
       "      <th>Close Date</th>\n",
       "      <th>2023-02-01</th>\n",
       "      <th>2023-03-01</th>\n",
       "      <th>2023-04-01</th>\n",
       "      <th>2023-05-01</th>\n",
       "      <th>2023-06-01</th>\n",
       "      <th>2023-09-01</th>\n",
       "    </tr>\n",
       "    <tr>\n",
       "      <th>Stage</th>\n",
       "      <th>Ag MDM</th>\n",
       "      <th></th>\n",
       "      <th></th>\n",
       "      <th></th>\n",
       "      <th></th>\n",
       "      <th></th>\n",
       "      <th></th>\n",
       "    </tr>\n",
       "  </thead>\n",
       "  <tbody>\n",
       "    <tr>\n",
       "      <th>Negotiation</th>\n",
       "      <th>70&lt;90</th>\n",
       "      <td>66325.50</td>\n",
       "      <td>32881.8</td>\n",
       "      <td>4320.0</td>\n",
       "      <td>0.0</td>\n",
       "      <td>0.0</td>\n",
       "      <td>0.0</td>\n",
       "    </tr>\n",
       "    <tr>\n",
       "      <th>Proposal</th>\n",
       "      <th>50&lt;70</th>\n",
       "      <td>403042.94</td>\n",
       "      <td>104769.7</td>\n",
       "      <td>15397.9</td>\n",
       "      <td>201.6</td>\n",
       "      <td>7689.5</td>\n",
       "      <td>10780.0</td>\n",
       "    </tr>\n",
       "  </tbody>\n",
       "</table>\n",
       "</div>"
      ],
      "text/plain": [
       "                   weighted amount                                   \\\n",
       "Close Date              2023-02-01 2023-03-01 2023-04-01 2023-05-01   \n",
       "Stage       Ag MDM                                                    \n",
       "Negotiation 70<90         66325.50    32881.8     4320.0        0.0   \n",
       "Proposal    50<70        403042.94   104769.7    15397.9      201.6   \n",
       "\n",
       "                                          \n",
       "Close Date         2023-06-01 2023-09-01  \n",
       "Stage       Ag MDM                        \n",
       "Negotiation 70<90         0.0        0.0  \n",
       "Proposal    50<70      7689.5    10780.0  "
      ]
     },
     "execution_count": 52,
     "metadata": {},
     "output_type": "execute_result"
    }
   ],
   "source": [
    "pipe_50_90"
   ]
  },
  {
   "cell_type": "markdown",
   "id": "7d95dcb4-addc-47dc-bcf8-87a912a7cde5",
   "metadata": {
    "tags": []
   },
   "source": [
    "### Actual"
   ]
  },
  {
   "cell_type": "code",
   "execution_count": 53,
   "id": "b6036129-19bf-4c28-9a17-b7665a2582ea",
   "metadata": {},
   "outputs": [],
   "source": [
    "esc_fatture = par[\"Esclusione_fatture\"]\n",
    "esc_fatture[\"Numero Fattura\"] = esc_fatture[\"Numero Fattura\"].astype(str)\n",
    "\n",
    "esc_ordini = par[\"Esclusione_ordini\"]\n",
    "esc_ordini[\"Numero Ordine\"] = esc_ordini[\"Numero Ordine\"].astype(str)\n",
    "\n",
    "li_prodotti = par[\"Linea_prodotti\"]\n",
    "\n",
    "df_merge = inflow.merge(esc_fatture, on=\"Numero Fattura\", how=\"left\").merge(esc_ordini, on=\"Numero Ordine\", how=\"left\")\n",
    "\n",
    "current_month = dt.date.today().replace(day=1)\n",
    "filt = (df_merge[\"Data Ins. Ordine (monitoraggio)\"].dt.date >= current_month) & (df_merge[\"Sales Director\"].isin([\"LARGE ACCOUNT\",\"NORDEST IBISOFT\",\"WKIC CENTRO SUD\",\"WKIC NORD EST\",\"WKIC NORD OVEST\",\"ENTERPRISE\"]))&(df_merge[\"Escludi fatture\"].isna())&(df_merge[\"Escludi ordine\"].isna())"
   ]
  },
  {
   "cell_type": "code",
   "execution_count": 54,
   "id": "d971923d-8d58-4c5e-a8ee-9d77a12a7026",
   "metadata": {},
   "outputs": [],
   "source": [
    "actual = df_merge.loc[filt,:].groupby([df_merge[\"Data Ins. Ordine (monitoraggio)\"].astype(\"datetime64[M]\")]).agg({\"Raccolto\":\"sum\"}).transpose()"
   ]
  },
  {
   "cell_type": "code",
   "execution_count": 55,
   "id": "02a01ccc-a3eb-4c19-9886-e4cc4786c607",
   "metadata": {},
   "outputs": [
    {
     "data": {
      "text/html": [
       "<div>\n",
       "<style scoped>\n",
       "    .dataframe tbody tr th:only-of-type {\n",
       "        vertical-align: middle;\n",
       "    }\n",
       "\n",
       "    .dataframe tbody tr th {\n",
       "        vertical-align: top;\n",
       "    }\n",
       "\n",
       "    .dataframe thead th {\n",
       "        text-align: right;\n",
       "    }\n",
       "</style>\n",
       "<table border=\"1\" class=\"dataframe\">\n",
       "  <thead>\n",
       "    <tr style=\"text-align: right;\">\n",
       "      <th>Data Ins. Ordine (monitoraggio)</th>\n",
       "      <th>2023-02-01</th>\n",
       "      <th>2023-03-01</th>\n",
       "    </tr>\n",
       "  </thead>\n",
       "  <tbody>\n",
       "    <tr>\n",
       "      <th>Raccolto</th>\n",
       "      <td>151735.28</td>\n",
       "      <td>0.0</td>\n",
       "    </tr>\n",
       "  </tbody>\n",
       "</table>\n",
       "</div>"
      ],
      "text/plain": [
       "Data Ins. Ordine (monitoraggio)  2023-02-01  2023-03-01\n",
       "Raccolto                          151735.28         0.0"
      ]
     },
     "execution_count": 55,
     "metadata": {},
     "output_type": "execute_result"
    }
   ],
   "source": [
    "actual"
   ]
  },
  {
   "cell_type": "markdown",
   "id": "885c1a66-373f-4d04-acd7-491b58b1294a",
   "metadata": {
    "tags": []
   },
   "source": [
    "### Budget"
   ]
  },
  {
   "cell_type": "code",
   "execution_count": 56,
   "id": "43380718-6c85-4fce-8289-60acaf5bf97d",
   "metadata": {},
   "outputs": [
    {
     "name": "stderr",
     "output_type": "stream",
     "text": [
      "C:\\Users\\Raffaele.Sportiello\\AppData\\Local\\Temp\\1\\ipykernel_20264\\3000443029.py:1: SettingWithCopyWarning: \n",
      "A value is trying to be set on a copy of a slice from a DataFrame.\n",
      "Try using .loc[row_indexer,col_indexer] = value instead\n",
      "\n",
      "See the caveats in the documentation: https://pandas.pydata.org/pandas-docs/stable/user_guide/indexing.html#returning-a-view-versus-a-copy\n",
      "  sales_director[\"Sales Director\"] = sales_director[\"Sales Director\"].str.lower()\n"
     ]
    }
   ],
   "source": [
    "sales_director[\"Sales Director\"] = sales_director[\"Sales Director\"].str.lower()"
   ]
  },
  {
   "cell_type": "code",
   "execution_count": 59,
   "id": "34f83cb6-5b30-411d-9645-a43e272fe7be",
   "metadata": {},
   "outputs": [],
   "source": [
    "bdg[\"Sales Director\"] = bdg[\"Sales Director\"].str.lower()\n",
    "budget = bdg.merge(sales_director, on=\"Sales Director\", how=\"left\").merge(linea_prodotti, on= \"Linea Prodotti\", how=\"left\")\n",
    "budget.rename(columns={\"Data Ins. Ordine (monitoraggio)\":\"Data\"}, inplace=True)"
   ]
  },
  {
   "cell_type": "code",
   "execution_count": 60,
   "id": "e9229ce1-b931-4cd0-b015-601bf83d054b",
   "metadata": {
    "tags": []
   },
   "outputs": [
    {
     "data": {
      "text/html": [
       "<style type=\"text/css\">\n",
       "#T_35b9a_row0_col0, #T_35b9a_row0_col1, #T_35b9a_row0_col2, #T_35b9a_row0_col3, #T_35b9a_row0_col4, #T_35b9a_row0_col5, #T_35b9a_row0_col6, #T_35b9a_row0_col7, #T_35b9a_row0_col8, #T_35b9a_row0_col9, #T_35b9a_row0_col10, #T_35b9a_row0_col11 {\n",
       "  background-color: #fff7fb;\n",
       "  color: #000000;\n",
       "}\n",
       "</style>\n",
       "<table id=\"T_35b9a\">\n",
       "  <thead>\n",
       "    <tr>\n",
       "      <th class=\"index_name level0\" >Data</th>\n",
       "      <th id=\"T_35b9a_level0_col0\" class=\"col_heading level0 col0\" >2022-01-01 00:00:00</th>\n",
       "      <th id=\"T_35b9a_level0_col1\" class=\"col_heading level0 col1\" >2022-02-01 00:00:00</th>\n",
       "      <th id=\"T_35b9a_level0_col2\" class=\"col_heading level0 col2\" >2022-03-01 00:00:00</th>\n",
       "      <th id=\"T_35b9a_level0_col3\" class=\"col_heading level0 col3\" >2022-04-01 00:00:00</th>\n",
       "      <th id=\"T_35b9a_level0_col4\" class=\"col_heading level0 col4\" >2022-05-01 00:00:00</th>\n",
       "      <th id=\"T_35b9a_level0_col5\" class=\"col_heading level0 col5\" >2022-06-01 00:00:00</th>\n",
       "      <th id=\"T_35b9a_level0_col6\" class=\"col_heading level0 col6\" >2022-07-01 00:00:00</th>\n",
       "      <th id=\"T_35b9a_level0_col7\" class=\"col_heading level0 col7\" >2022-08-01 00:00:00</th>\n",
       "      <th id=\"T_35b9a_level0_col8\" class=\"col_heading level0 col8\" >2022-09-01 00:00:00</th>\n",
       "      <th id=\"T_35b9a_level0_col9\" class=\"col_heading level0 col9\" >2022-10-01 00:00:00</th>\n",
       "      <th id=\"T_35b9a_level0_col10\" class=\"col_heading level0 col10\" >2022-11-01 00:00:00</th>\n",
       "      <th id=\"T_35b9a_level0_col11\" class=\"col_heading level0 col11\" >2022-12-01 00:00:00</th>\n",
       "    </tr>\n",
       "    <tr>\n",
       "      <th class=\"index_name level0\" >Linea</th>\n",
       "      <th class=\"blank col0\" >&nbsp;</th>\n",
       "      <th class=\"blank col1\" >&nbsp;</th>\n",
       "      <th class=\"blank col2\" >&nbsp;</th>\n",
       "      <th class=\"blank col3\" >&nbsp;</th>\n",
       "      <th class=\"blank col4\" >&nbsp;</th>\n",
       "      <th class=\"blank col5\" >&nbsp;</th>\n",
       "      <th class=\"blank col6\" >&nbsp;</th>\n",
       "      <th class=\"blank col7\" >&nbsp;</th>\n",
       "      <th class=\"blank col8\" >&nbsp;</th>\n",
       "      <th class=\"blank col9\" >&nbsp;</th>\n",
       "      <th class=\"blank col10\" >&nbsp;</th>\n",
       "      <th class=\"blank col11\" >&nbsp;</th>\n",
       "    </tr>\n",
       "  </thead>\n",
       "  <tbody>\n",
       "    <tr>\n",
       "      <th id=\"T_35b9a_level0_row0\" class=\"row_heading level0 row0\" >Servizi</th>\n",
       "      <td id=\"T_35b9a_row0_col0\" class=\"data row0 col0\" >231k</td>\n",
       "      <td id=\"T_35b9a_row0_col1\" class=\"data row0 col1\" >268k</td>\n",
       "      <td id=\"T_35b9a_row0_col2\" class=\"data row0 col2\" >346k</td>\n",
       "      <td id=\"T_35b9a_row0_col3\" class=\"data row0 col3\" >304k</td>\n",
       "      <td id=\"T_35b9a_row0_col4\" class=\"data row0 col4\" >308k</td>\n",
       "      <td id=\"T_35b9a_row0_col5\" class=\"data row0 col5\" >319k</td>\n",
       "      <td id=\"T_35b9a_row0_col6\" class=\"data row0 col6\" >317k</td>\n",
       "      <td id=\"T_35b9a_row0_col7\" class=\"data row0 col7\" >71k</td>\n",
       "      <td id=\"T_35b9a_row0_col8\" class=\"data row0 col8\" >315k</td>\n",
       "      <td id=\"T_35b9a_row0_col9\" class=\"data row0 col9\" >346k</td>\n",
       "      <td id=\"T_35b9a_row0_col10\" class=\"data row0 col10\" >346k</td>\n",
       "      <td id=\"T_35b9a_row0_col11\" class=\"data row0 col11\" >277k</td>\n",
       "    </tr>\n",
       "  </tbody>\n",
       "</table>\n"
      ],
      "text/plain": [
       "<pandas.io.formats.style.Styler at 0x26f3c146100>"
      ]
     },
     "execution_count": 60,
     "metadata": {},
     "output_type": "execute_result"
    }
   ],
   "source": [
    "bdg_mid_month_forecast = budget.groupby([\"Rete\", \"Linea\", budget[\"Data\"].astype('datetime64[M]')])[\"Budget\"].sum().unstack(level=2).loc[\"Diretta\"]\n",
    "bdg_mid_month_forecast.style.format(human_format).background_gradient()"
   ]
  },
  {
   "cell_type": "code",
   "execution_count": 61,
   "id": "0fa36577-1c9c-447f-a119-5f287aed09d2",
   "metadata": {},
   "outputs": [
    {
     "data": {
      "text/html": [
       "<style type=\"text/css\">\n",
       "#T_04540_row0_col0, #T_04540_row0_col1, #T_04540_row0_col2, #T_04540_row0_col3, #T_04540_row0_col4, #T_04540_row0_col5, #T_04540_row0_col6, #T_04540_row0_col7, #T_04540_row0_col8, #T_04540_row0_col9, #T_04540_row0_col10, #T_04540_row0_col11 {\n",
       "  background-color: #023858;\n",
       "  color: #f1f1f1;\n",
       "}\n",
       "#T_04540_row1_col0, #T_04540_row1_col1, #T_04540_row1_col2, #T_04540_row1_col3, #T_04540_row1_col4, #T_04540_row1_col5, #T_04540_row1_col6, #T_04540_row1_col7, #T_04540_row1_col8, #T_04540_row1_col9, #T_04540_row1_col10, #T_04540_row1_col11 {\n",
       "  background-color: #fff7fb;\n",
       "  color: #000000;\n",
       "}\n",
       "</style>\n",
       "<table id=\"T_04540\">\n",
       "  <thead>\n",
       "    <tr>\n",
       "      <th class=\"index_name level0\" >Data</th>\n",
       "      <th id=\"T_04540_level0_col0\" class=\"col_heading level0 col0\" >2022-01-01 00:00:00</th>\n",
       "      <th id=\"T_04540_level0_col1\" class=\"col_heading level0 col1\" >2022-02-01 00:00:00</th>\n",
       "      <th id=\"T_04540_level0_col2\" class=\"col_heading level0 col2\" >2022-03-01 00:00:00</th>\n",
       "      <th id=\"T_04540_level0_col3\" class=\"col_heading level0 col3\" >2022-04-01 00:00:00</th>\n",
       "      <th id=\"T_04540_level0_col4\" class=\"col_heading level0 col4\" >2022-05-01 00:00:00</th>\n",
       "      <th id=\"T_04540_level0_col5\" class=\"col_heading level0 col5\" >2022-06-01 00:00:00</th>\n",
       "      <th id=\"T_04540_level0_col6\" class=\"col_heading level0 col6\" >2022-07-01 00:00:00</th>\n",
       "      <th id=\"T_04540_level0_col7\" class=\"col_heading level0 col7\" >2022-08-01 00:00:00</th>\n",
       "      <th id=\"T_04540_level0_col8\" class=\"col_heading level0 col8\" >2022-09-01 00:00:00</th>\n",
       "      <th id=\"T_04540_level0_col9\" class=\"col_heading level0 col9\" >2022-10-01 00:00:00</th>\n",
       "      <th id=\"T_04540_level0_col10\" class=\"col_heading level0 col10\" >2022-11-01 00:00:00</th>\n",
       "      <th id=\"T_04540_level0_col11\" class=\"col_heading level0 col11\" >2022-12-01 00:00:00</th>\n",
       "    </tr>\n",
       "    <tr>\n",
       "      <th class=\"index_name level0\" >Rete</th>\n",
       "      <th class=\"blank col0\" >&nbsp;</th>\n",
       "      <th class=\"blank col1\" >&nbsp;</th>\n",
       "      <th class=\"blank col2\" >&nbsp;</th>\n",
       "      <th class=\"blank col3\" >&nbsp;</th>\n",
       "      <th class=\"blank col4\" >&nbsp;</th>\n",
       "      <th class=\"blank col5\" >&nbsp;</th>\n",
       "      <th class=\"blank col6\" >&nbsp;</th>\n",
       "      <th class=\"blank col7\" >&nbsp;</th>\n",
       "      <th class=\"blank col8\" >&nbsp;</th>\n",
       "      <th class=\"blank col9\" >&nbsp;</th>\n",
       "      <th class=\"blank col10\" >&nbsp;</th>\n",
       "      <th class=\"blank col11\" >&nbsp;</th>\n",
       "    </tr>\n",
       "  </thead>\n",
       "  <tbody>\n",
       "    <tr>\n",
       "      <th id=\"T_04540_level0_row0\" class=\"row_heading level0 row0\" >Diretta</th>\n",
       "      <td id=\"T_04540_row0_col0\" class=\"data row0 col0\" >231k</td>\n",
       "      <td id=\"T_04540_row0_col1\" class=\"data row0 col1\" >268k</td>\n",
       "      <td id=\"T_04540_row0_col2\" class=\"data row0 col2\" >346k</td>\n",
       "      <td id=\"T_04540_row0_col3\" class=\"data row0 col3\" >304k</td>\n",
       "      <td id=\"T_04540_row0_col4\" class=\"data row0 col4\" >308k</td>\n",
       "      <td id=\"T_04540_row0_col5\" class=\"data row0 col5\" >319k</td>\n",
       "      <td id=\"T_04540_row0_col6\" class=\"data row0 col6\" >317k</td>\n",
       "      <td id=\"T_04540_row0_col7\" class=\"data row0 col7\" >71k</td>\n",
       "      <td id=\"T_04540_row0_col8\" class=\"data row0 col8\" >315k</td>\n",
       "      <td id=\"T_04540_row0_col9\" class=\"data row0 col9\" >346k</td>\n",
       "      <td id=\"T_04540_row0_col10\" class=\"data row0 col10\" >346k</td>\n",
       "      <td id=\"T_04540_row0_col11\" class=\"data row0 col11\" >277k</td>\n",
       "    </tr>\n",
       "    <tr>\n",
       "      <th id=\"T_04540_level0_row1\" class=\"row_heading level0 row1\" >Indiretta agenzie</th>\n",
       "      <td id=\"T_04540_row1_col0\" class=\"data row1 col0\" >110k</td>\n",
       "      <td id=\"T_04540_row1_col1\" class=\"data row1 col1\" >109k</td>\n",
       "      <td id=\"T_04540_row1_col2\" class=\"data row1 col2\" >110k</td>\n",
       "      <td id=\"T_04540_row1_col3\" class=\"data row1 col3\" >114k</td>\n",
       "      <td id=\"T_04540_row1_col4\" class=\"data row1 col4\" >134k</td>\n",
       "      <td id=\"T_04540_row1_col5\" class=\"data row1 col5\" >110k</td>\n",
       "      <td id=\"T_04540_row1_col6\" class=\"data row1 col6\" >144k</td>\n",
       "      <td id=\"T_04540_row1_col7\" class=\"data row1 col7\" >30.7k</td>\n",
       "      <td id=\"T_04540_row1_col8\" class=\"data row1 col8\" >163k</td>\n",
       "      <td id=\"T_04540_row1_col9\" class=\"data row1 col9\" >162k</td>\n",
       "      <td id=\"T_04540_row1_col10\" class=\"data row1 col10\" >166k</td>\n",
       "      <td id=\"T_04540_row1_col11\" class=\"data row1 col11\" >151k</td>\n",
       "    </tr>\n",
       "  </tbody>\n",
       "</table>\n"
      ],
      "text/plain": [
       "<pandas.io.formats.style.Styler at 0x26f35964850>"
      ]
     },
     "execution_count": 61,
     "metadata": {},
     "output_type": "execute_result"
    }
   ],
   "source": [
    "tgt = budget.groupby([\"Rete\", budget[\"Data\"].astype('datetime64[M]')])[\"Budget\"].sum().unstack(level=1)\n",
    "tgt.style.format(human_format).background_gradient()"
   ]
  },
  {
   "cell_type": "markdown",
   "id": "ef364d9f-054c-48ab-9da5-c5f330fac0db",
   "metadata": {
    "tags": []
   },
   "source": [
    "### Forecast"
   ]
  },
  {
   "cell_type": "code",
   "execution_count": 62,
   "id": "8da738d5-2f14-4a2b-9300-f8e5617daf6e",
   "metadata": {},
   "outputs": [
    {
     "data": {
      "text/html": [
       "<style type=\"text/css\">\n",
       "#T_f670e_row0_col0, #T_f670e_row0_col1 {\n",
       "  background-color: #fff7fb;\n",
       "  color: #000000;\n",
       "}\n",
       "#T_f670e_row1_col0, #T_f670e_row1_col1 {\n",
       "  background-color: #023858;\n",
       "  color: #f1f1f1;\n",
       "}\n",
       "#T_f670e_row2_col0 {\n",
       "  background-color: #a5bddb;\n",
       "  color: #000000;\n",
       "}\n",
       "#T_f670e_row2_col1 {\n",
       "  background-color: #80aed2;\n",
       "  color: #f1f1f1;\n",
       "}\n",
       "</style>\n",
       "<table id=\"T_f670e\">\n",
       "  <thead>\n",
       "    <tr>\n",
       "      <th class=\"blank level0\" >&nbsp;</th>\n",
       "      <th id=\"T_f670e_level0_col0\" class=\"col_heading level0 col0\" colspan=\"2\">Forecast</th>\n",
       "    </tr>\n",
       "    <tr>\n",
       "      <th class=\"index_name level1\" >Giorno</th>\n",
       "      <th id=\"T_f670e_level1_col0\" class=\"col_heading level1 col0\" >2023-01-01 00:00:00</th>\n",
       "      <th id=\"T_f670e_level1_col1\" class=\"col_heading level1 col1\" >2023-02-01 00:00:00</th>\n",
       "    </tr>\n",
       "    <tr>\n",
       "      <th class=\"index_name level0\" >Linea</th>\n",
       "      <th class=\"blank col0\" >&nbsp;</th>\n",
       "      <th class=\"blank col1\" >&nbsp;</th>\n",
       "    </tr>\n",
       "  </thead>\n",
       "  <tbody>\n",
       "    <tr>\n",
       "      <th id=\"T_f670e_level0_row0\" class=\"row_heading level0 row0\" >HW</th>\n",
       "      <td id=\"T_f670e_row0_col0\" class=\"data row0 col0\" >0</td>\n",
       "      <td id=\"T_f670e_row0_col1\" class=\"data row0 col1\" >0</td>\n",
       "    </tr>\n",
       "    <tr>\n",
       "      <th id=\"T_f670e_level0_row1\" class=\"row_heading level0 row1\" >Lic+Fym</th>\n",
       "      <td id=\"T_f670e_row1_col0\" class=\"data row1 col0\" >464k</td>\n",
       "      <td id=\"T_f670e_row1_col1\" class=\"data row1 col1\" >194k</td>\n",
       "    </tr>\n",
       "    <tr>\n",
       "      <th id=\"T_f670e_level0_row2\" class=\"row_heading level0 row2\" >Servizi</th>\n",
       "      <td id=\"T_f670e_row2_col0\" class=\"data row2 col0\" >175k</td>\n",
       "      <td id=\"T_f670e_row2_col1\" class=\"data row2 col1\" >91.5k</td>\n",
       "    </tr>\n",
       "  </tbody>\n",
       "</table>\n"
      ],
      "text/plain": [
       "<pandas.io.formats.style.Styler at 0x26f36f1da90>"
      ]
     },
     "execution_count": 62,
     "metadata": {},
     "output_type": "execute_result"
    }
   ],
   "source": [
    "sales = par[\"Sales_director\"]\n",
    "sales = sales.loc[:,[\"Sales Director\", \"Area territoriale\", \"Rete\"]]\n",
    "sales[\"Sales Director\"] = sales[\"Sales Director\"].apply(lambda x: x.lower())\n",
    "\n",
    "forecast[\"Sales director\"] = forecast[\"Sales director\"].str.lower()\n",
    "fc = forecast.merge(sales, left_on= \"Sales director\", right_on=\"Sales Director\", how=\"left\").merge(linea_prodotti, on= \"Linea Prodotti\", how=\"left\")\n",
    "fc = fc.loc[fc[\"Rete\"] == \"Diretta\", [\"Giorno\",\"Linea\", \"Forecast\"]].copy()\n",
    "fc_month_forecast = fc.groupby([\"Giorno\", \"Linea\"]).agg({\"Forecast\":\"sum\"}).unstack(0)\n",
    "fc_month_forecast.style.format(human_format).background_gradient()"
   ]
  },
  {
   "cell_type": "code",
   "execution_count": 25,
   "id": "5ce2754c-12a7-4001-b2f0-0f569a7bad04",
   "metadata": {},
   "outputs": [
    {
     "data": {
      "text/plain": [
       "PeriodIndex(['2022-01', '2022-02', '2022-03', '2022-04', '2022-05', '2022-06',\n",
       "             '2022-07', '2022-08', '2022-09', '2022-10', '2022-11', '2022-12'],\n",
       "            dtype='period[M]', name='Giorno')"
      ]
     },
     "execution_count": 25,
     "metadata": {},
     "output_type": "execute_result"
    }
   ],
   "source": [
    "fc_month_forecast.columns.get_level_values(1).to_period(\"M\")\n"
   ]
  },
  {
   "cell_type": "markdown",
   "id": "425f688d-5835-4a11-98e3-f63366b9d43c",
   "metadata": {
    "tags": []
   },
   "source": [
    "### Total Pipeline FY"
   ]
  },
  {
   "cell_type": "code",
   "execution_count": 63,
   "id": "a3297c92-038a-4f9e-a81e-afbb5b2689e1",
   "metadata": {},
   "outputs": [
    {
     "data": {
      "text/plain": [
       "3169829.45"
      ]
     },
     "execution_count": 63,
     "metadata": {},
     "output_type": "execute_result"
    }
   ],
   "source": [
    "filt = (pipe[\"Close Date\"].dt.month > (dt.datetime.now().month-1)) & (~pipe[\"Stage\"].str.contains(\"Closed\"))\n",
    "tot_pipeline_fy = pipe.loc[filt,\"Incremental Amount\"].sum()\n",
    "tot_pipeline_fy"
   ]
  },
  {
   "cell_type": "markdown",
   "id": "762736c5-e22a-4e80-95f3-f71be67984d0",
   "metadata": {
    "tags": []
   },
   "source": [
    "## Export to excel"
   ]
  },
  {
   "cell_type": "code",
   "execution_count": 64,
   "id": "d9ee453d-6e61-4443-8068-7363f2629981",
   "metadata": {},
   "outputs": [],
   "source": [
    "pipe_50_90_drop = pipe_50_90.droplevel(level=0, axis=1)\n",
    "pipe_50_90_drop = pipe_50_90_drop.droplevel(level=0, axis=0)"
   ]
  },
  {
   "cell_type": "code",
   "execution_count": 65,
   "id": "fd2b6339-8839-4ebf-b057-6474a43c0c32",
   "metadata": {},
   "outputs": [],
   "source": [
    "pipeline_taa_italy = pd.concat([tot_pipeline, pipe_50_90_drop,  bdg_mid_month_forecast])"
   ]
  },
  {
   "cell_type": "code",
   "execution_count": 66,
   "id": "122b75af-e975-4caa-85e8-06466d594a5d",
   "metadata": {},
   "outputs": [
    {
     "data": {
      "text/html": [
       "<div>\n",
       "<style scoped>\n",
       "    .dataframe tbody tr th:only-of-type {\n",
       "        vertical-align: middle;\n",
       "    }\n",
       "\n",
       "    .dataframe tbody tr th {\n",
       "        vertical-align: top;\n",
       "    }\n",
       "\n",
       "    .dataframe thead th {\n",
       "        text-align: right;\n",
       "    }\n",
       "</style>\n",
       "<table border=\"1\" class=\"dataframe\">\n",
       "  <thead>\n",
       "    <tr style=\"text-align: right;\">\n",
       "      <th></th>\n",
       "      <th>2022-01-01</th>\n",
       "      <th>2022-02-01</th>\n",
       "      <th>2022-03-01</th>\n",
       "      <th>2022-04-01</th>\n",
       "      <th>2022-05-01</th>\n",
       "      <th>2022-06-01</th>\n",
       "      <th>2022-07-01</th>\n",
       "      <th>2022-08-01</th>\n",
       "      <th>2022-09-01</th>\n",
       "      <th>2022-10-01</th>\n",
       "      <th>...</th>\n",
       "      <th>2023-02-01</th>\n",
       "      <th>2023-03-01</th>\n",
       "      <th>2023-04-01</th>\n",
       "      <th>2023-05-01</th>\n",
       "      <th>2023-06-01</th>\n",
       "      <th>2023-07-01</th>\n",
       "      <th>2023-09-01</th>\n",
       "      <th>2023-10-01</th>\n",
       "      <th>2023-11-01</th>\n",
       "      <th>2023-12-01</th>\n",
       "    </tr>\n",
       "  </thead>\n",
       "  <tbody>\n",
       "    <tr>\n",
       "      <th>Incremental Amount</th>\n",
       "      <td>NaN</td>\n",
       "      <td>NaN</td>\n",
       "      <td>NaN</td>\n",
       "      <td>NaN</td>\n",
       "      <td>NaN</td>\n",
       "      <td>NaN</td>\n",
       "      <td>NaN</td>\n",
       "      <td>NaN</td>\n",
       "      <td>NaN</td>\n",
       "      <td>NaN</td>\n",
       "      <td>...</td>\n",
       "      <td>1744533.12</td>\n",
       "      <td>920046.33</td>\n",
       "      <td>261227.0</td>\n",
       "      <td>57863.0</td>\n",
       "      <td>42940.0</td>\n",
       "      <td>100500.0</td>\n",
       "      <td>32080.0</td>\n",
       "      <td>1800.0</td>\n",
       "      <td>0.0</td>\n",
       "      <td>8840.0</td>\n",
       "    </tr>\n",
       "    <tr>\n",
       "      <th>70&lt;90</th>\n",
       "      <td>NaN</td>\n",
       "      <td>NaN</td>\n",
       "      <td>NaN</td>\n",
       "      <td>NaN</td>\n",
       "      <td>NaN</td>\n",
       "      <td>NaN</td>\n",
       "      <td>NaN</td>\n",
       "      <td>NaN</td>\n",
       "      <td>NaN</td>\n",
       "      <td>NaN</td>\n",
       "      <td>...</td>\n",
       "      <td>66325.50</td>\n",
       "      <td>32881.80</td>\n",
       "      <td>4320.0</td>\n",
       "      <td>0.0</td>\n",
       "      <td>0.0</td>\n",
       "      <td>NaN</td>\n",
       "      <td>0.0</td>\n",
       "      <td>NaN</td>\n",
       "      <td>NaN</td>\n",
       "      <td>NaN</td>\n",
       "    </tr>\n",
       "    <tr>\n",
       "      <th>50&lt;70</th>\n",
       "      <td>NaN</td>\n",
       "      <td>NaN</td>\n",
       "      <td>NaN</td>\n",
       "      <td>NaN</td>\n",
       "      <td>NaN</td>\n",
       "      <td>NaN</td>\n",
       "      <td>NaN</td>\n",
       "      <td>NaN</td>\n",
       "      <td>NaN</td>\n",
       "      <td>NaN</td>\n",
       "      <td>...</td>\n",
       "      <td>403042.94</td>\n",
       "      <td>104769.70</td>\n",
       "      <td>15397.9</td>\n",
       "      <td>201.6</td>\n",
       "      <td>7689.5</td>\n",
       "      <td>NaN</td>\n",
       "      <td>10780.0</td>\n",
       "      <td>NaN</td>\n",
       "      <td>NaN</td>\n",
       "      <td>NaN</td>\n",
       "    </tr>\n",
       "    <tr>\n",
       "      <th>Servizi</th>\n",
       "      <td>230783.353272</td>\n",
       "      <td>267555.591522</td>\n",
       "      <td>346365.0</td>\n",
       "      <td>303907.447081</td>\n",
       "      <td>307614.451856</td>\n",
       "      <td>318599.407082</td>\n",
       "      <td>316502.384779</td>\n",
       "      <td>70996.512972</td>\n",
       "      <td>315427.139243</td>\n",
       "      <td>346365.0</td>\n",
       "      <td>...</td>\n",
       "      <td>NaN</td>\n",
       "      <td>NaN</td>\n",
       "      <td>NaN</td>\n",
       "      <td>NaN</td>\n",
       "      <td>NaN</td>\n",
       "      <td>NaN</td>\n",
       "      <td>NaN</td>\n",
       "      <td>NaN</td>\n",
       "      <td>NaN</td>\n",
       "      <td>NaN</td>\n",
       "    </tr>\n",
       "  </tbody>\n",
       "</table>\n",
       "<p>4 rows × 22 columns</p>\n",
       "</div>"
      ],
      "text/plain": [
       "                       2022-01-01     2022-02-01  2022-03-01     2022-04-01  \\\n",
       "Incremental Amount            NaN            NaN         NaN            NaN   \n",
       "70<90                         NaN            NaN         NaN            NaN   \n",
       "50<70                         NaN            NaN         NaN            NaN   \n",
       "Servizi             230783.353272  267555.591522    346365.0  303907.447081   \n",
       "\n",
       "                       2022-05-01     2022-06-01     2022-07-01    2022-08-01  \\\n",
       "Incremental Amount            NaN            NaN            NaN           NaN   \n",
       "70<90                         NaN            NaN            NaN           NaN   \n",
       "50<70                         NaN            NaN            NaN           NaN   \n",
       "Servizi             307614.451856  318599.407082  316502.384779  70996.512972   \n",
       "\n",
       "                       2022-09-01  2022-10-01  ...  2023-02-01  2023-03-01  \\\n",
       "Incremental Amount            NaN         NaN  ...  1744533.12   920046.33   \n",
       "70<90                         NaN         NaN  ...    66325.50    32881.80   \n",
       "50<70                         NaN         NaN  ...   403042.94   104769.70   \n",
       "Servizi             315427.139243    346365.0  ...         NaN         NaN   \n",
       "\n",
       "                    2023-04-01  2023-05-01  2023-06-01  2023-07-01  \\\n",
       "Incremental Amount    261227.0     57863.0     42940.0    100500.0   \n",
       "70<90                   4320.0         0.0         0.0         NaN   \n",
       "50<70                  15397.9       201.6      7689.5         NaN   \n",
       "Servizi                    NaN         NaN         NaN         NaN   \n",
       "\n",
       "                    2023-09-01  2023-10-01  2023-11-01  2023-12-01  \n",
       "Incremental Amount     32080.0      1800.0         0.0      8840.0  \n",
       "70<90                      0.0         NaN         NaN         NaN  \n",
       "50<70                  10780.0         NaN         NaN         NaN  \n",
       "Servizi                    NaN         NaN         NaN         NaN  \n",
       "\n",
       "[4 rows x 22 columns]"
      ]
     },
     "execution_count": 66,
     "metadata": {},
     "output_type": "execute_result"
    }
   ],
   "source": [
    "pipeline_taa_italy"
   ]
  },
  {
   "cell_type": "code",
   "execution_count": 67,
   "id": "2ec7cb5b-b8d1-48f7-bdad-a4e69769d2bc",
   "metadata": {},
   "outputs": [],
   "source": [
    "pipeline_taa_italy.to_excel(r\"C:\\Users\\Raffaele.Sportiello\\OneDrive - Wolters Kluwer\\Documents\\Presentazioni\\MDM\\Pipeline.xlsx\")"
   ]
  },
  {
   "cell_type": "markdown",
   "id": "9ee06413-0134-46a8-ab2c-6b72d238aae3",
   "metadata": {
    "tags": []
   },
   "source": [
    "# Sales KPIs"
   ]
  },
  {
   "cell_type": "code",
   "execution_count": 71,
   "id": "d417a43d-6ff5-4ffc-9377-09b44fb99e65",
   "metadata": {},
   "outputs": [],
   "source": [
    "filt_rows = (inflow[\"Data Ins. Ordine (monitoraggio)\"].dt.year == current_year)&(inflow[\"Raccolto\"].notna())\n",
    "columns = [\"Cliente Merce\", \"Sales Director\", \"Canale di VENDITA\", \"Linea Prodotti\", \"Numero Ordine\", \"Numero Fattura\", \"Data Ins. Ordine (monitoraggio)\", \"Raccolto\"]\n",
    "\n",
    "df_2022 = inflow.loc[filt_rows, columns].reset_index(drop=True)\n",
    "df_2022[\"Sales Director\"] = df_2022[\"Sales Director\"].str.lower()\n",
    "\n",
    "esc_fatture = par[\"Esclusione_fatture\"]\n",
    "esc_fatture[\"Numero Fattura\"] = esc_fatture[\"Numero Fattura\"].astype(str)\n",
    "\n",
    "esc_ordini = par[\"Esclusione_ordini\"]\n",
    "esc_ordini[\"Numero Ordine\"] = esc_ordini[\"Numero Ordine\"].astype(str)\n",
    "\n",
    "sales_director = par[\"Sales_director\"]\n",
    "sales_director[\"Sales Director\"] = sales_director.loc[:,\"Sales Director\"].str.lower()\n",
    "sales_director = sales_director[[\"Sales Director\", \"Rete\", \"Rete2\", \"Area territoriale\"]]\n",
    "\n",
    "li_prodotti = par[\"Linea_prodotti\"]\n",
    "\n",
    "inflow_sKPI = df_2022.merge(esc_fatture, on=\"Numero Fattura\", how=\"left\").merge(esc_ordini, on=\"Numero Ordine\", how=\"left\").merge(li_prodotti, on=\"Linea Prodotti\", how=\"left\").merge(sales_director, on=\"Sales Director\", how=\"left\")\n",
    "\n",
    "esclusioni = (inflow_sKPI[\"Canale di VENDITA\"] != \"E-Commerce\")&(inflow_sKPI[\"Escludi fatture\"].isna())&(inflow_sKPI[\"Escludi ordine\"].isna())\n",
    "\n",
    "inflow_sKPI = inflow_sKPI.loc[esclusioni, ['Data Ins. Ordine (monitoraggio)', \"Cliente Merce\", \"Numero Ordine\", \"Rete\", \"Rete2\",\"Area territoriale\", 'Sales Director', 'Linea', 'Raccolto']].reset_index(drop=True)\n",
    "\n",
    "inflow_sKPI.rename(columns={\"Data Ins. Ordine (monitoraggio)\":'Giorno'}, inplace=True)"
   ]
  },
  {
   "cell_type": "markdown",
   "id": "ac037383-5b65-4c30-a705-ba16cefa31b9",
   "metadata": {
    "tags": []
   },
   "source": [
    "#### Ordine medio per cliente  \n",
    "Consideriamo l'ordine medio per cliente, anche se nella slide c'è scritto \"Average deal size\""
   ]
  },
  {
   "cell_type": "code",
   "execution_count": 72,
   "id": "7aa7df21-b51b-47de-85a0-0cf9a4dd4641",
   "metadata": {},
   "outputs": [
    {
     "data": {
      "text/html": [
       "<style type=\"text/css\">\n",
       "#T_e3aab_row0_col0, #T_e3aab_row1_col1 {\n",
       "  background-color: #fff7fb;\n",
       "  color: #000000;\n",
       "}\n",
       "#T_e3aab_row0_col1, #T_e3aab_row1_col0 {\n",
       "  background-color: #023858;\n",
       "  color: #f1f1f1;\n",
       "}\n",
       "</style>\n",
       "<table id=\"T_e3aab\">\n",
       "  <thead>\n",
       "    <tr>\n",
       "      <th class=\"index_name level0\" >Giorno</th>\n",
       "      <th id=\"T_e3aab_level0_col0\" class=\"col_heading level0 col0\" >2023-01-01 00:00:00</th>\n",
       "      <th id=\"T_e3aab_level0_col1\" class=\"col_heading level0 col1\" >2023-02-01 00:00:00</th>\n",
       "    </tr>\n",
       "    <tr>\n",
       "      <th class=\"index_name level0\" >Rete2</th>\n",
       "      <th class=\"blank col0\" >&nbsp;</th>\n",
       "      <th class=\"blank col1\" >&nbsp;</th>\n",
       "    </tr>\n",
       "  </thead>\n",
       "  <tbody>\n",
       "    <tr>\n",
       "      <th id=\"T_e3aab_level0_row0\" class=\"row_heading level0 row0\" >Diretta + Indiretta agenzie</th>\n",
       "      <td id=\"T_e3aab_row0_col0\" class=\"data row0 col0\" >959</td>\n",
       "      <td id=\"T_e3aab_row0_col1\" class=\"data row0 col1\" >940</td>\n",
       "    </tr>\n",
       "    <tr>\n",
       "      <th id=\"T_e3aab_level0_row1\" class=\"row_heading level0 row1\" >Indiretta concessionari</th>\n",
       "      <td id=\"T_e3aab_row1_col0\" class=\"data row1 col0\" >1,156</td>\n",
       "      <td id=\"T_e3aab_row1_col1\" class=\"data row1 col1\" >576</td>\n",
       "    </tr>\n",
       "  </tbody>\n",
       "</table>\n"
      ],
      "text/plain": [
       "<pandas.io.formats.style.Styler at 0x26f4047eb80>"
      ]
     },
     "execution_count": 72,
     "metadata": {},
     "output_type": "execute_result"
    }
   ],
   "source": [
    "inflow_sKPI[\"N. Clienti\"] = inflow_sKPI.groupby([\"Rete2\", inflow_sKPI[\"Giorno\"].astype('datetime64[M]')], dropna=False)[\"Cliente Merce\"].transform(\"nunique\")\n",
    "inflow_gr = inflow_sKPI.groupby([\"Rete2\", inflow_sKPI[\"Giorno\"].astype('datetime64[M]')], dropna=False).agg({\"Raccolto\":\"sum\", \"N. Clienti\":\"max\"})\n",
    "\n",
    "inflow_gr[\"Avg deal size\"] = inflow_gr[\"Raccolto\"] / inflow_gr[\"N. Clienti\"]\n",
    "\n",
    "inflow_gr[\"Avg deal size\"].unstack(level=1).style.format(\"{:,.0f}\").background_gradient()"
   ]
  },
  {
   "cell_type": "markdown",
   "id": "3a6fac79-d392-4f81-b97d-0e8bff4fd450",
   "metadata": {
    "tags": []
   },
   "source": [
    "# Sales Quota by Sales Rep and Sales Team (direct channel only)"
   ]
  },
  {
   "cell_type": "code",
   "execution_count": 33,
   "id": "980e8768-526a-42b6-809d-b700f72e1005",
   "metadata": {
    "tags": []
   },
   "outputs": [],
   "source": [
    "periodo = (inflow[\"Data Ins. Ordine (monitoraggio)\"].dt.year == 2022) & (inflow[\"Data Ins. Ordine (monitoraggio)\"].dt.quarter.isin([1,2]))\n",
    "filt_rows = (periodo)\n",
    "\n",
    "columns = [\"Cliente Merce\", \"Sales Director\", \"Agente dell'ORDINE\", \"Canale di VENDITA\", \"Linea Prodotti\", \"Numero Ordine\", \"Numero Fattura\", \"Data Ins. Ordine (monitoraggio)\", \"Raccolto\", \"Budget  assegnato\"]\n",
    "\n",
    "df2 = inflow.loc[filt_rows, columns].reset_index(drop=True)\n",
    "df2[\"Sales Director\"] = df2[\"Sales Director\"].str.lower()\n",
    "\n",
    "esc_fatture = par[\"Esclusione_fatture\"]\n",
    "esc_fatture[\"Numero Fattura\"] = esc_fatture[\"Numero Fattura\"].astype(str)\n",
    "\n",
    "esc_ordini = par[\"Esclusione_ordini\"]\n",
    "esc_ordini[\"Numero Ordine\"] = esc_ordini[\"Numero Ordine\"].astype(str)\n",
    "\n",
    "sales_director = par[\"Sales_director\"]\n",
    "sales_director[\"Sales Director\"] = sales_director.loc[:,\"Sales Director\"].str.lower()\n",
    "sales_director = sales_director[[\"Sales Director\", \"Rete\"]]\n",
    "\n",
    "li_prodotti = par[\"Linea_prodotti\"]\n",
    "\n",
    "agente_ordine = par[\"Agente_ordine\"]\n",
    "agente_ordine.rename(columns = {\"Agente dell'ORDINE\":\"Sales rep\"}, inplace=True) \n",
    "\n",
    "sales_quota = df2.merge(esc_fatture, on=\"Numero Fattura\", how=\"left\").merge(esc_ordini, on=\"Numero Ordine\", how=\"left\").merge(li_prodotti, on=\"Linea Prodotti\", how=\"left\").merge(sales_director, on=\"Sales Director\", how=\"left\").merge(agente_ordine, left_on=\"Agente dell'ORDINE\", right_on=\"Codice agente\", how=\"left\")\n",
    "\n",
    "esclusioni = (sales_quota[\"Canale di VENDITA\"] != \"E-Commerce\") & (sales_quota[\"Escludi fatture\"].isna()) & (sales_quota[\"Escludi ordine\"].isna()) & (sales_quota[\"Rete\"] == \"Diretta\") & (sales_quota[\"Sales Director\"] != \"large account\")\n",
    "\n",
    "sales_quota = sales_quota.loc[esclusioni, ['Data Ins. Ordine (monitoraggio)', \"Codice agente\", \"Sales rep\", 'Raccolto', \"Budget  assegnato\"]].reset_index(drop=True)\n",
    "\n",
    "sales_quota.rename(columns={\"Data Ins. Ordine (monitoraggio)\":'Giorno'}, inplace=True)"
   ]
  },
  {
   "cell_type": "code",
   "execution_count": 34,
   "id": "2c615d0a-2182-4f06-8358-9815fdb053d8",
   "metadata": {},
   "outputs": [
    {
     "data": {
      "text/html": [
       "<style type=\"text/css\">\n",
       "#T_04169_row0_col0, #T_04169_row0_col1, #T_04169_row6_col1 {\n",
       "  background-color: #fff7fb;\n",
       "  color: #000000;\n",
       "}\n",
       "#T_04169_row1_col0 {\n",
       "  background-color: #eee9f3;\n",
       "  color: #000000;\n",
       "}\n",
       "#T_04169_row1_col1 {\n",
       "  background-color: #c5cce3;\n",
       "  color: #000000;\n",
       "}\n",
       "#T_04169_row2_col0 {\n",
       "  background-color: #c8cde4;\n",
       "  color: #000000;\n",
       "}\n",
       "#T_04169_row2_col1, #T_04169_row4_col0 {\n",
       "  background-color: #023858;\n",
       "  color: #f1f1f1;\n",
       "}\n",
       "#T_04169_row3_col0 {\n",
       "  background-color: #86b0d3;\n",
       "  color: #000000;\n",
       "}\n",
       "#T_04169_row3_col1 {\n",
       "  background-color: #046198;\n",
       "  color: #f1f1f1;\n",
       "}\n",
       "#T_04169_row4_col1, #T_04169_row10_col1 {\n",
       "  background-color: #056aa6;\n",
       "  color: #f1f1f1;\n",
       "}\n",
       "#T_04169_row5_col0 {\n",
       "  background-color: #ede8f3;\n",
       "  color: #000000;\n",
       "}\n",
       "#T_04169_row5_col1 {\n",
       "  background-color: #328dbf;\n",
       "  color: #f1f1f1;\n",
       "}\n",
       "#T_04169_row6_col0 {\n",
       "  background-color: #f3edf5;\n",
       "  color: #000000;\n",
       "}\n",
       "#T_04169_row7_col0 {\n",
       "  background-color: #e0dded;\n",
       "  color: #000000;\n",
       "}\n",
       "#T_04169_row7_col1 {\n",
       "  background-color: #c4cbe3;\n",
       "  color: #000000;\n",
       "}\n",
       "#T_04169_row8_col0 {\n",
       "  background-color: #c2cbe2;\n",
       "  color: #000000;\n",
       "}\n",
       "#T_04169_row8_col1 {\n",
       "  background-color: #02395a;\n",
       "  color: #f1f1f1;\n",
       "}\n",
       "#T_04169_row9_col0 {\n",
       "  background-color: #cccfe5;\n",
       "  color: #000000;\n",
       "}\n",
       "#T_04169_row9_col1 {\n",
       "  background-color: #046097;\n",
       "  color: #f1f1f1;\n",
       "}\n",
       "#T_04169_row10_col0 {\n",
       "  background-color: #e4e1ef;\n",
       "  color: #000000;\n",
       "}\n",
       "#T_04169_row11_col0 {\n",
       "  background-color: #81aed2;\n",
       "  color: #f1f1f1;\n",
       "}\n",
       "#T_04169_row11_col1 {\n",
       "  background-color: #358fc0;\n",
       "  color: #f1f1f1;\n",
       "}\n",
       "</style>\n",
       "<table id=\"T_04169\">\n",
       "  <thead>\n",
       "    <tr>\n",
       "      <th class=\"blank\" >&nbsp;</th>\n",
       "      <th class=\"blank level0\" >&nbsp;</th>\n",
       "      <th id=\"T_04169_level0_col0\" class=\"col_heading level0 col0\" >Raccolto</th>\n",
       "      <th id=\"T_04169_level0_col1\" class=\"col_heading level0 col1\" >Budget  assegnato</th>\n",
       "    </tr>\n",
       "    <tr>\n",
       "      <th class=\"index_name level0\" >Sales rep</th>\n",
       "      <th class=\"index_name level1\" >Giorno</th>\n",
       "      <th class=\"blank col0\" >&nbsp;</th>\n",
       "      <th class=\"blank col1\" >&nbsp;</th>\n",
       "    </tr>\n",
       "  </thead>\n",
       "  <tbody>\n",
       "    <tr>\n",
       "      <th id=\"T_04169_level0_row0\" class=\"row_heading level0 row0\" rowspan=\"6\">BONDI GIAMMARCO</th>\n",
       "      <th id=\"T_04169_level1_row0\" class=\"row_heading level1 row0\" >2022-01-01 00:00:00</th>\n",
       "      <td id=\"T_04169_row0_col0\" class=\"data row0 col0\" >10,601</td>\n",
       "      <td id=\"T_04169_row0_col1\" class=\"data row0 col1\" >15,925</td>\n",
       "    </tr>\n",
       "    <tr>\n",
       "      <th id=\"T_04169_level1_row1\" class=\"row_heading level1 row1\" >2022-02-01 00:00:00</th>\n",
       "      <td id=\"T_04169_row1_col0\" class=\"data row1 col0\" >21,211</td>\n",
       "      <td id=\"T_04169_row1_col1\" class=\"data row1 col1\" >17,824</td>\n",
       "    </tr>\n",
       "    <tr>\n",
       "      <th id=\"T_04169_level1_row2\" class=\"row_heading level1 row2\" >2022-03-01 00:00:00</th>\n",
       "      <td id=\"T_04169_row2_col0\" class=\"data row2 col0\" >36,433</td>\n",
       "      <td id=\"T_04169_row2_col1\" class=\"data row2 col1\" >22,593</td>\n",
       "    </tr>\n",
       "    <tr>\n",
       "      <th id=\"T_04169_level1_row3\" class=\"row_heading level1 row3\" >2022-04-01 00:00:00</th>\n",
       "      <td id=\"T_04169_row3_col0\" class=\"data row3 col0\" >53,135</td>\n",
       "      <td id=\"T_04169_row3_col1\" class=\"data row3 col1\" >21,484</td>\n",
       "    </tr>\n",
       "    <tr>\n",
       "      <th id=\"T_04169_level1_row4\" class=\"row_heading level1 row4\" >2022-05-01 00:00:00</th>\n",
       "      <td id=\"T_04169_row4_col0\" class=\"data row4 col0\" >104,377</td>\n",
       "      <td id=\"T_04169_row4_col1\" class=\"data row4 col1\" >21,150</td>\n",
       "    </tr>\n",
       "    <tr>\n",
       "      <th id=\"T_04169_level1_row5\" class=\"row_heading level1 row5\" >2022-06-01 00:00:00</th>\n",
       "      <td id=\"T_04169_row5_col0\" class=\"data row5 col0\" >21,601</td>\n",
       "      <td id=\"T_04169_row5_col1\" class=\"data row5 col1\" >20,165</td>\n",
       "    </tr>\n",
       "    <tr>\n",
       "      <th id=\"T_04169_level0_row6\" class=\"row_heading level0 row6\" rowspan=\"6\">DI IENNO MONICA</th>\n",
       "      <th id=\"T_04169_level1_row6\" class=\"row_heading level1 row6\" >2022-01-01 00:00:00</th>\n",
       "      <td id=\"T_04169_row6_col0\" class=\"data row6 col0\" >17,934</td>\n",
       "      <td id=\"T_04169_row6_col1\" class=\"data row6 col1\" >15,950</td>\n",
       "    </tr>\n",
       "    <tr>\n",
       "      <th id=\"T_04169_level1_row7\" class=\"row_heading level1 row7\" >2022-02-01 00:00:00</th>\n",
       "      <td id=\"T_04169_row7_col0\" class=\"data row7 col0\" >27,725</td>\n",
       "      <td id=\"T_04169_row7_col1\" class=\"data row7 col1\" >17,832</td>\n",
       "    </tr>\n",
       "    <tr>\n",
       "      <th id=\"T_04169_level1_row8\" class=\"row_heading level1 row8\" >2022-03-01 00:00:00</th>\n",
       "      <td id=\"T_04169_row8_col0\" class=\"data row8 col0\" >37,939</td>\n",
       "      <td id=\"T_04169_row8_col1\" class=\"data row8 col1\" >22,549</td>\n",
       "    </tr>\n",
       "    <tr>\n",
       "      <th id=\"T_04169_level1_row9\" class=\"row_heading level1 row9\" >2022-04-01 00:00:00</th>\n",
       "      <td id=\"T_04169_row9_col0\" class=\"data row9 col0\" >35,440</td>\n",
       "      <td id=\"T_04169_row9_col1\" class=\"data row9 col1\" >21,506</td>\n",
       "    </tr>\n",
       "    <tr>\n",
       "      <th id=\"T_04169_level1_row10\" class=\"row_heading level1 row10\" >2022-05-01 00:00:00</th>\n",
       "      <td id=\"T_04169_row10_col0\" class=\"data row10 col0\" >25,667</td>\n",
       "      <td id=\"T_04169_row10_col1\" class=\"data row10 col1\" >21,150</td>\n",
       "    </tr>\n",
       "    <tr>\n",
       "      <th id=\"T_04169_level1_row11\" class=\"row_heading level1 row11\" >2022-06-01 00:00:00</th>\n",
       "      <td id=\"T_04169_row11_col0\" class=\"data row11 col0\" >54,522</td>\n",
       "      <td id=\"T_04169_row11_col1\" class=\"data row11 col1\" >20,100</td>\n",
       "    </tr>\n",
       "  </tbody>\n",
       "</table>\n"
      ],
      "text/plain": [
       "<pandas.io.formats.style.Styler at 0x1b9dfa80310>"
      ]
     },
     "execution_count": 34,
     "metadata": {},
     "output_type": "execute_result"
    }
   ],
   "source": [
    "sales_quota.groupby([\"Sales rep\", sales_quota[\"Giorno\"].astype(\"datetime64[M]\")]).agg({\"Raccolto\":\"sum\", \"Budget  assegnato\":\"sum\"}).loc[idx[[\"BONDI GIAMMARCO\", \"DI IENNO MONICA\"],:],:].style.format(\"{:,.0f}\").background_gradient()"
   ]
  },
  {
   "cell_type": "code",
   "execution_count": 35,
   "id": "1d88c537-5482-42b8-88ec-1be2c82ce771",
   "metadata": {},
   "outputs": [],
   "source": [
    "sales_quota_gr = sales_quota.groupby([\"Sales rep\"]).agg({\"Raccolto\":\"sum\", \"Budget  assegnato\":\"sum\"}).reset_index().sort_values(by=[\"Budget  assegnato\"], ascending=False)"
   ]
  },
  {
   "cell_type": "markdown",
   "id": "c7587d82-3d1d-4c21-b0df-8f718b693b27",
   "metadata": {},
   "source": [
    "# Sales Activity"
   ]
  },
  {
   "cell_type": "code",
   "execution_count": 36,
   "id": "fbbab348-1f3b-4336-8768-4cf92d402101",
   "metadata": {},
   "outputs": [],
   "source": [
    "sales_activity = op_w_prod.loc[(op_w_prod[\"Created Date\"].dt.date >=dt.date(2022,1,1)) & (op_w_prod[\"Created Date\"].dt.quarter.isin([1,2,3,4])),:].copy()\n",
    "sales_activity[\"Created Week\"] = op_w_prod[\"Created Date\"].dt.isocalendar().week\n",
    "sales_activity[\"Created Quarter\"] = op_w_prod[\"Created Date\"].dt.quarter"
   ]
  },
  {
   "cell_type": "code",
   "execution_count": 37,
   "id": "12734bd2-0e3c-4111-9958-e53b61d108b4",
   "metadata": {},
   "outputs": [],
   "source": [
    "sales_activity_by_week = sales_activity.groupby([\"Created Week\", \"Created Quarter\"]).agg({\"Opportunity ID\":\"nunique\"}).reset_index()\n",
    "\n",
    "sales_activity_by_day = sales_activity.groupby([\"Created Date\",\"Created Week\", \"Created Quarter\"]).agg({\"Opportunity ID\":\"nunique\"}).reset_index()"
   ]
  },
  {
   "cell_type": "code",
   "execution_count": 38,
   "id": "370341f8-b7bc-43b2-9029-bb053c0d6991",
   "metadata": {},
   "outputs": [],
   "source": [
    "with pd.ExcelWriter(r\"C:\\Users\\Raffaele.Sportiello\\OneDrive - Wolters Kluwer\\Documents\\Presentazioni\\MDM\\Sales Quota & Sales Activity.xlsx\", engine=\"openpyxl\") as writer:\n",
    "    sales_quota_gr.to_excel(writer, sheet_name=\"sales_quota\", index=False)\n",
    "    sales_activity_by_week.to_excel(writer, sheet_name=\"op_by_week\", index=True)\n",
    "    #sales_activity_by_day.to_excel(writer, sheet_name=\"op_by_day\", index=True)"
   ]
  },
  {
   "cell_type": "markdown",
   "id": "34e6db63-3696-4552-b805-ac548472b497",
   "metadata": {},
   "source": [
    "# Clienti SMART Skills"
   ]
  },
  {
   "cell_type": "code",
   "execution_count": 12,
   "id": "5989be75",
   "metadata": {},
   "outputs": [],
   "source": [
    "from directories import *"
   ]
  },
  {
   "cell_type": "code",
   "execution_count": 18,
   "id": "0fa672ab",
   "metadata": {},
   "outputs": [],
   "source": [
    "par = {}\n",
    "for file in parametriche_files:\n",
    "    file_name=file.split(\".\")[0]\n",
    "    par[f\"{file_name}\"] = pd.read_excel(parametriche+\"\\\\\"+file)"
   ]
  },
  {
   "cell_type": "code",
   "execution_count": 24,
   "id": "cdb25aa5",
   "metadata": {},
   "outputs": [],
   "source": [
    "dfs = []\n",
    "for file in dashboard_inflow_prodotti_files:\n",
    "    data = pd.read_excel(dashboard_inflow_prodotti+\"\\\\\"+file)\n",
    "    dfs.append(data)\n",
    "inflow = pd.concat(dfs, axis=0, ignore_index=True)\n",
    "\n",
    "for col in inflow.select_dtypes(include=[object]).columns:\n",
    "    inflow[col] = inflow[col].astype(str)"
   ]
  },
  {
   "cell_type": "code",
   "execution_count": 26,
   "id": "b3621140-2887-40bb-9383-34a8f97ae7a1",
   "metadata": {},
   "outputs": [],
   "source": [
    "columns = [\"Cliente Merce\", \"Sales Director\", \"Canale di VENDITA\", \"Linea Prodotti\", \"Codice PRODOTTO\", \"Numero Ordine\", \"Numero Fattura\", \"Data Ins. Ordine (monitoraggio)\", \"Raccolto\"]\n",
    "\n",
    "df_smart = inflow.loc[:, columns].reset_index(drop=True)\n",
    "\n",
    "df_smart[\"Sales Director\"] = df_smart[\"Sales Director\"].str.lower()\n",
    "df_smart[\"Codice PRODOTTO\"] = df_smart[\"Codice PRODOTTO\"].astype(str)\n",
    "\n",
    "esc_fatture = par[\"Esclusione_fatture\"]\n",
    "esc_fatture[\"Numero Fattura\"] = esc_fatture[\"Numero Fattura\"].astype(str)\n",
    "\n",
    "esc_ordini = par[\"Esclusione_ordini\"]\n",
    "esc_ordini[\"Numero Ordine\"] = esc_ordini[\"Numero Ordine\"].astype(str)\n",
    "\n",
    "sales_director = par[\"Sales_director\"]\n",
    "sales_director[\"Sales Director\"] = sales_director.loc[:,\"Sales Director\"].str.lower()\n",
    "sales_director = sales_director[[\"Sales Director\", \"Rete\", \"Rete3\", \"Area territoriale\"]]\n",
    "\n",
    "prodotti = par[\"Classificazione_codice_prodotto\"]\n",
    "prodotti[\"Codice PRODOTTO\"] = prodotti[\"Codice PRODOTTO\"].astype(str)\n",
    "\n",
    "li_prodotti = par[\"Linea_prodotti\"]\n",
    "\n",
    "clienti_smart = df_smart.merge(esc_fatture, on=\"Numero Fattura\", how=\"left\").merge(esc_ordini, on=\"Numero Ordine\", how=\"left\").merge(li_prodotti, on=\"Linea Prodotti\", how=\"left\").merge(sales_director, on=\"Sales Director\", how=\"left\").merge(prodotti, on=\"Codice PRODOTTO\", how=\"left\")\n",
    "\n",
    "esclusioni = (clienti_smart[\"Escludi fatture\"].isna())&(clienti_smart[\"Escludi ordine\"].isna())&(clienti_smart[\"Sub solution\"] == \"Smart - Skills\")\n",
    "\n",
    "clienti_smart = clienti_smart.loc[esclusioni, ['Data Ins. Ordine (monitoraggio)', \"Cliente Merce\", \"Numero Ordine\", \"Rete3\", \"Canale di VENDITA\",'Linea', 'Raccolto']].reset_index(drop=True)\n",
    "\n",
    "clienti_smart.rename(columns={\"Data Ins. Ordine (monitoraggio)\":'Giorno'}, inplace=True)"
   ]
  },
  {
   "cell_type": "markdown",
   "id": "a187a5b9-52e5-4d78-9e93-cf533cb62a4a",
   "metadata": {
    "tags": []
   },
   "source": [
    "## Numero clienti"
   ]
  },
  {
   "cell_type": "code",
   "execution_count": 47,
   "id": "8e067b48-8d7a-4758-a314-ed015adcebb5",
   "metadata": {},
   "outputs": [],
   "source": [
    "arr = clienti_smart.loc[clienti_smart[\"Giorno\"].dt.year == current_year, \"Giorno\"].astype('datetime64[M]').sort_values().unique()\n",
    "d_rete = {}\n",
    "d_canale = {}\n",
    "\n",
    "for i,elem in enumerate(arr):\n",
    "    temp = clienti_smart.loc[(clienti_smart[\"Giorno\"].astype('datetime64[M]').dt.date >= dt.date(current_year,1,1)) &\n",
    "                             (clienti_smart[\"Giorno\"].astype('datetime64[M]') <= elem) &\n",
    "                             (clienti_smart[\"Canale di VENDITA\"] != \"E-Commerce\"), :].groupby([\"Rete3\"]).agg({\"Cliente Merce\":\"nunique\"}).reset_index()\n",
    "    d_rete[f\"d_{i}\"] = temp[\"Cliente Merce\"].to_numpy()\n",
    "\n",
    "    temp = clienti_smart.loc[(clienti_smart[\"Giorno\"].astype('datetime64[M]').dt.date >= dt.date(current_year,1,1)) &\n",
    "                             (clienti_smart[\"Giorno\"].astype('datetime64[M]') <= elem) &\n",
    "                             (clienti_smart[\"Canale di VENDITA\"] == \"E-Commerce\"), :].groupby([\"Canale di VENDITA\"]).agg({\"Cliente Merce\":\"nunique\"}).reset_index()\n",
    "    d_canale[f\"d_{i}\"] = temp[\"Cliente Merce\"].to_numpy()\n"
   ]
  },
  {
   "cell_type": "code",
   "execution_count": 49,
   "id": "c2df8522",
   "metadata": {},
   "outputs": [],
   "source": [
    "df_rete = pd.DataFrame.from_dict(data= d_rete.items())\n",
    "df_rete = pd.DataFrame(df_rete[1].tolist())\n",
    "df_rete = df_rete.pivot_table(columns=df_rete.index)\n",
    "\n",
    "df_canale = pd.DataFrame.from_dict(data= d_canale.items())\n",
    "df_canale = pd.DataFrame(df_canale[1].tolist())\n",
    "df_canale = df_canale.pivot_table(columns=df_canale.index)\n",
    "\n",
    "clienti_unici = pd.concat([df_rete, df_canale], axis=0)\n",
    "clienti_unici.columns = arr\n",
    "clienti_unici.index = [\"Diretta\", \"Indiretta\", \"E-commerce\"]\n",
    "clienti_unici = clienti_unici.transpose()\n",
    "clienti_unici[\"Traditional channels\"] = clienti_unici[\"Diretta\"] + clienti_unici[\"Indiretta\"]\n",
    "clienti_unici = clienti_unici.loc[dt.date(current_year,1,1):, [\"Traditional channels\", \"E-commerce\"]]"
   ]
  },
  {
   "cell_type": "code",
   "execution_count": 51,
   "id": "72c9a9f0-8b00-42be-a97a-a78b89bd2329",
   "metadata": {},
   "outputs": [],
   "source": [
    "inflow_progr_Anna = clienti_smart.loc[(clienti_smart[\"Canale di VENDITA\"] != \"E-Commerce\") & \n",
    "                                      (clienti_smart[\"Giorno\"].dt.date >= dt.date(current_year,1,1)), \n",
    "                                      :].groupby([clienti_smart[\"Giorno\"].astype(\"datetime64[M]\")])[\"Raccolto\"].sum().reset_index()\n",
    "inflow_progr_Anna[\"Anna\"] = inflow_progr_Anna[\"Raccolto\"].cumsum()\n",
    "\n",
    "inflow_progr_Ben = clienti_smart.loc[(clienti_smart[\"Canale di VENDITA\"] == \"E-Commerce\") &\n",
    "                                    (clienti_smart[\"Giorno\"].dt.date >= dt.date(current_year,1,1)), \n",
    "                                    :].groupby([clienti_smart[\"Giorno\"].astype(\"datetime64[M]\")])[\"Raccolto\"].sum().reset_index()\n",
    "inflow_progr_Ben[\"Ben\"] = inflow_progr_Ben[\"Raccolto\"].cumsum()\n",
    "\n",
    "inflow_progr = inflow_progr_Anna.merge(inflow_progr_Ben, how=\"outer\", on=\"Giorno\")\n",
    "inflow_progr = inflow_progr.loc[:,[\"Giorno\",\"Anna\",\"Ben\"]]"
   ]
  },
  {
   "cell_type": "code",
   "execution_count": null,
   "id": "b55fc5a0-5ef7-4aaa-9e5d-f337962ac0d0",
   "metadata": {},
   "outputs": [],
   "source": [
    "with pd.ExcelWriter(onedrive_documents + r\"\\Presentazioni\\MDM\\Smart SKILL\\clienti_e_inflow_per_slide.xlsx\", engine=\"openpyxl\") as writer:\n",
    "    inflow_progr.to_excel(writer, sheet_name=\"inflow_progr\", index=False)\n",
    "    clienti_unici.to_excel(writer, sheet_name=\"clienti_unici\", index=True)"
   ]
  }
 ],
 "metadata": {
  "kernelspec": {
   "display_name": "base",
   "language": "python",
   "name": "python3"
  },
  "language_info": {
   "codemirror_mode": {
    "name": "ipython",
    "version": 3
   },
   "file_extension": ".py",
   "mimetype": "text/x-python",
   "name": "python",
   "nbconvert_exporter": "python",
   "pygments_lexer": "ipython3",
   "version": "3.9.12"
  },
  "vscode": {
   "interpreter": {
    "hash": "b3e4ceeb8545c6f77e2128b60a53d4f76e775a60f7e42e70cb0e4a6bd890691a"
   }
  }
 },
 "nbformat": 4,
 "nbformat_minor": 5
}
