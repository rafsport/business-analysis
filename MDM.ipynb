{
 "cells": [
  {
   "cell_type": "code",
   "execution_count": null,
   "id": "b003b017-b8ec-4f9d-9e23-533dfb3b40dd",
   "metadata": {},
   "outputs": [],
   "source": [
    "import pandas as pd\n",
    "import os\n",
    "import numpy as np\n",
    "import datetime as dt\n",
    "from os import listdir\n",
    "from os.path import isfile, join"
   ]
  },
  {
   "cell_type": "code",
   "execution_count": 2,
   "id": "57f10f9a-1121-450d-b841-19267b592bf9",
   "metadata": {},
   "outputs": [],
   "source": [
    "idx = pd.IndexSlice"
   ]
  },
  {
   "cell_type": "markdown",
   "id": "7891f890-b270-4e21-8592-8578ec4d427e",
   "metadata": {},
   "source": [
    "***"
   ]
  },
  {
   "cell_type": "markdown",
   "id": "f0978ead-732a-4902-ae56-923197fb8e45",
   "metadata": {
    "tags": []
   },
   "source": [
    "# Data collection"
   ]
  },
  {
   "cell_type": "markdown",
   "id": "6b72bba5-128a-424a-b41e-f4d6221a4bb4",
   "metadata": {
    "tags": []
   },
   "source": [
    "## IT_Op_w_Products"
   ]
  },
  {
   "cell_type": "code",
   "execution_count": 3,
   "id": "a9e18961-5fe2-4fee-863c-584c0a2febfa",
   "metadata": {},
   "outputs": [],
   "source": [
    "op_w_prod = pd.read_csv(r\"C:\\Users\\Raffaele.Sportiello\\OneDrive - Wolters Kluwer\\Documents\\Salesforce\\Data export\\IT_Op_w_Products.csv\", encoding='latin-1', sep=\";\")\n",
    "\n",
    "for col in op_w_prod.columns:\n",
    "    if \"Date\" in col:\n",
    "        op_w_prod[col] = op_w_prod[col].astype(str)\n",
    "        op_w_prod[col] = pd.to_datetime(op_w_prod[col], format=\"%d/%m/%Y\")\n",
    "    else:\n",
    "        pass\n",
    "\n",
    "\n",
    "columns = [c for c in op_w_prod.columns if not \"Currency\" in c]\n",
    "op_w_prod = op_w_prod.loc[:,columns]\n",
    "\n",
    "num = []\n",
    "\n",
    "for col in op_w_prod.columns:\n",
    "    if \"Amount\" in col:\n",
    "        num.append(col)\n",
    "    else:\n",
    "        pass\n",
    "    \n",
    "op_w_prod[num] = op_w_prod[num].apply(lambda x: x.str.replace(\",\",\".\", regex=False)).astype(float)"
   ]
  },
  {
   "cell_type": "markdown",
   "id": "94894978-212b-4b06-8d8b-0c4847acd409",
   "metadata": {
    "tags": []
   },
   "source": [
    "## IT_Opp_by_Created_Date"
   ]
  },
  {
   "cell_type": "code",
   "execution_count": null,
   "id": "27016d5a-3cea-4d93-9fe9-744990907158",
   "metadata": {
    "tags": []
   },
   "outputs": [],
   "source": [
    "op_by_date = pd.read_csv(r\"C:\\Users\\Raffaele.Sportiello\\OneDrive - Wolters Kluwer\\Documents\\Salesforce\\Data export\\IT_Opp_by_Created_Date.csv\", encoding='latin-1', sep=\";\")\n",
    "\n",
    "op_by_date[\"Created Date\"] = pd.to_datetime(op_by_date[\"Created Date\"].astype(str), format=\"%d/%m/%Y\")\n",
    "op_by_date[\"Close Date\"] = pd.to_datetime(op_by_date[\"Close Date\"].astype(str), format=\"%d/%m/%Y\")\n",
    "op_by_date[\"Original Close Date\"] = pd.to_datetime(op_by_date[\"Original Close Date\"].astype(str), format=\"%d/%m/%Y\")\n",
    "op_by_date[\"Last Stage Change Date\"] = pd.to_datetime(op_by_date[\"Last Stage Change Date\"].astype(str), format=\"%d/%m/%Y\")\n",
    "op_by_date[\"Last Modified Date\"] = pd.to_datetime(op_by_date[\"Last Modified Date\"].astype(str), format=\"%d/%m/%Y\")\n",
    "\n",
    "columns = [c for c in op_by_date.columns if not \"Currency\" in c]\n",
    "op_by_date = op_by_date[columns]\n",
    "\n",
    "op_by_date.loc[:, [\"Subscription Amount\", \"Non-Subscription Amount\",\"Incremental Amount\",\"weighted amount\"]] = op_by_date.loc[:, [\"Subscription Amount\", \"Non-Subscription Amount\",\"Incremental Amount\",\"weighted amount\"]].apply(lambda x: x.str.replace(\",\",\".\", regex=False)).astype(float)"
   ]
  },
  {
   "cell_type": "markdown",
   "id": "f1f9dab1-b5e3-4198-a9ec-2083d6580911",
   "metadata": {
    "tags": []
   },
   "source": [
    "## Inflow"
   ]
  },
  {
   "cell_type": "code",
   "execution_count": null,
   "id": "02f6bfcb-8e74-4f94-b77f-199f56377906",
   "metadata": {},
   "outputs": [],
   "source": [
    "inflow_prodotti = r\"C:\\Users\\Raffaele.Sportiello\\OneDrive - Wolters Kluwer\\Documents\\Dashboard inflow\\Dashboard inflow canali e prodotti\\Source\\inflow_prodotti\\\\\"\n",
    "\n",
    "onlyfiles = [f for f in listdir(r\"C:\\Users\\Raffaele.Sportiello\\OneDrive - Wolters Kluwer\\Documents\\Dashboard inflow\\Dashboard inflow canali e prodotti\\Source\\inflow_prodotti\") if isfile(join(r\"C:\\Users\\Raffaele.Sportiello\\OneDrive - Wolters Kluwer\\Documents\\Dashboard inflow\\Dashboard inflow canali e prodotti\\Source\\inflow_prodotti\", f))]\n",
    "\n",
    "df = pd.DataFrame()\n",
    "\n",
    "for file in onlyfiles:\n",
    "    data = pd.read_excel(inflow_prodotti+file)\n",
    "    df = df.append(data)\n",
    "    \n",
    "for col in df.select_dtypes(include=[object]).columns:\n",
    "    df[col] = df[col].astype(str)"
   ]
  },
  {
   "cell_type": "markdown",
   "id": "5efcd343-eb36-414c-bdec-c0f3813a1a0a",
   "metadata": {
    "tags": []
   },
   "source": [
    "## Budget"
   ]
  },
  {
   "cell_type": "code",
   "execution_count": null,
   "id": "859c5561-ef71-42db-b0a8-6a2ab90e970a",
   "metadata": {},
   "outputs": [],
   "source": [
    "budget_prodotti = r\"C:\\Users\\Raffaele.Sportiello\\OneDrive - Wolters Kluwer\\Documents\\Dashboard inflow\\Dashboard inflow canali e prodotti\\Source\\budget_prodotti\\\\\"\n",
    "\n",
    "onlyfiles = [f for f in listdir(r\"C:\\Users\\Raffaele.Sportiello\\OneDrive - Wolters Kluwer\\Documents\\Dashboard inflow\\Dashboard inflow canali e prodotti\\Source\\budget_prodotti\") if isfile(join(r\"C:\\Users\\Raffaele.Sportiello\\OneDrive - Wolters Kluwer\\Documents\\Dashboard inflow\\Dashboard inflow canali e prodotti\\Source\\budget_prodotti\", f))]\n",
    "\n",
    "bdg = pd.DataFrame()\n",
    "\n",
    "for file in onlyfiles:\n",
    "    data = pd.read_excel(budget_prodotti+file)\n",
    "    bdg = bdg.append(data)\n",
    "    \n",
    "for col in bdg.select_dtypes(include=[object]).columns:\n",
    "    bdg[col] = bdg[col].astype(str)"
   ]
  },
  {
   "cell_type": "markdown",
   "id": "48618b37-c7a8-4021-8b76-63c662e7e09d",
   "metadata": {
    "tags": []
   },
   "source": [
    "## Forecast"
   ]
  },
  {
   "cell_type": "code",
   "execution_count": null,
   "id": "cb47eed6-d5d5-448b-b649-e9a6b601b103",
   "metadata": {},
   "outputs": [],
   "source": [
    "forecast = pd.read_excel(r\"C:\\Users\\Raffaele.Sportiello\\OneDrive - Wolters Kluwer\\Documents\\Dashboard inflow\\Dashboard inflow canali e prodotti\\Source\\forecast_sales_director\\forecast_sales_director_2022.xlsx\")"
   ]
  },
  {
   "cell_type": "markdown",
   "id": "b859eb23-d2d7-4270-970b-4adbfe4bf3f6",
   "metadata": {
    "tags": []
   },
   "source": [
    "## Parametriche"
   ]
  },
  {
   "cell_type": "code",
   "execution_count": null,
   "id": "a1b5b56d-4387-4567-81a5-4b0e1b537877",
   "metadata": {},
   "outputs": [],
   "source": [
    "parametriche = r\"C:\\Users\\Raffaele.Sportiello\\OneDrive - Wolters Kluwer\\Documents\\Dashboard inflow\\Parametriche\\\\\"\n",
    "onlyfiles = [f for f in listdir(r\"C:\\Users\\Raffaele.Sportiello\\OneDrive - Wolters Kluwer\\Documents\\Dashboard inflow\\Parametriche\") if isfile(join(r\"C:\\Users\\Raffaele.Sportiello\\OneDrive - Wolters Kluwer\\Documents\\Dashboard inflow\\Parametriche\", f))]\n",
    "\n",
    "par = {}\n",
    "for file in onlyfiles:\n",
    "    file_name=file.split(\".\")[0]\n",
    "    par[f\"{file_name}\"] = pd.read_excel(parametriche+file)\n"
   ]
  },
  {
   "cell_type": "code",
   "execution_count": null,
   "id": "98d843d3-ff9a-4eef-9f28-26851a3c2537",
   "metadata": {},
   "outputs": [],
   "source": [
    "sales_director = par[\"Sales_director\"][[\"Sales Director\", \"Rete\", \"Area territoriale\"]]\n",
    "linea_prodotti = par[\"Linea_prodotti\"]"
   ]
  },
  {
   "cell_type": "markdown",
   "id": "ba803285-b629-43ac-8e15-dd8ca4a6c11b",
   "metadata": {
    "tags": []
   },
   "source": [
    "# Top five pending deals"
   ]
  },
  {
   "cell_type": "code",
   "execution_count": 4,
   "id": "8b0dbfac-70f3-4ddc-a772-022ee58ecb6d",
   "metadata": {},
   "outputs": [],
   "source": [
    "opp_list = op_w_prod.groupby([op_w_prod[\"Close Date\"].astype('datetime64[M]'), \"Opportunity ID\", \"Opportunity Name\",\"Stage\",\"Ag MDM\",\"Account Name\", \"Account Type\",\"Owner Role\",\"Product Name\"]).agg({\"Probability (%)\":\"mean\", \"Subscription Amount\":\"max\", \"Non-Subscription Amount\":\"max\",\"Incremental Amount\":\"max\",\"weighted amount\":\"max\",\"Total Value\":\"sum\",\"Total Price\":\"sum\"}).sort_values(by=[\"Incremental Amount\"], ascending=False).reset_index()\n",
    "\n",
    "opp_list[\"Products\"] = opp_list.groupby([\"Opportunity ID\", \"Account Name\", \"Account Type\", \"Stage\", \"Close Date\", \"Owner Role\"])[\"Product Name\"].transform(lambda x: \" | \".join(x))\n",
    "top_deals = opp_list.groupby([\"Opportunity ID\",\"Opportunity Name\", \"Account Name\", \"Account Type\", \"Products\", \"Stage\", \"Close Date\", \"Owner Role\"]).agg({\"Incremental Amount\":\"max\"}).reset_index().sort_values(by=[\"Incremental Amount\"], ascending=False)\n",
    "\n",
    "top_pend_deals = top_deals.loc[top_deals[\"Close Date\"].dt.date >= (dt.date(2022,dt.datetime.now().month,1)), :].copy()\n",
    "top_pend_deals[\"Account Type\"].replace({\"Customer\":\"Existing\",\"Prospect\":\"New\"}, inplace=True)\n",
    "top_pend_deals.columns = [\"Opportunity ID\", \"Opportunity Name\",\"Customer\", \"New / Existing client\", \"Product\", \"Stage\", \"Status (Closed/Pipeline/Lost/Postponed)\", \"Owner Role\", \"Size (€)\"]\n",
    "top_pend_deals.loc[:,[\"Business Unit\", \"Comments\"]] = np.NaN \n",
    "\n",
    "top_pend_deals_10 = top_pend_deals.iloc[0:10].copy()\n",
    "top_pend_deals_10 = top_pend_deals_10[[\"Customer\", \"New / Existing client\", \"Business Unit\", \"Product\", \"Size (€)\", \"Comments\", \"Status (Closed/Pipeline/Lost/Postponed)\"]]\n",
    "top_pend_deals_10[\"Status (Closed/Pipeline/Lost/Postponed)\"] = top_pend_deals_10[\"Status (Closed/Pipeline/Lost/Postponed)\"].dt.strftime(\"Pipeline %b-%y\")\n",
    "top_pend_deals_10.index = np.arange(1, len(top_pend_deals_10)+1)\n",
    "top_pend_deals_10.index.set_names(\"#\", inplace=True)\n"
   ]
  },
  {
   "cell_type": "code",
   "execution_count": 5,
   "id": "8ec58681-bfbc-4067-9ca4-bacaee6da0e1",
   "metadata": {},
   "outputs": [
    {
     "data": {
      "text/html": [
       "<div>\n",
       "<style scoped>\n",
       "    .dataframe tbody tr th:only-of-type {\n",
       "        vertical-align: middle;\n",
       "    }\n",
       "\n",
       "    .dataframe tbody tr th {\n",
       "        vertical-align: top;\n",
       "    }\n",
       "\n",
       "    .dataframe thead th {\n",
       "        text-align: right;\n",
       "    }\n",
       "</style>\n",
       "<table border=\"1\" class=\"dataframe\">\n",
       "  <thead>\n",
       "    <tr style=\"text-align: right;\">\n",
       "      <th></th>\n",
       "      <th>Customer</th>\n",
       "      <th>New / Existing client</th>\n",
       "      <th>Business Unit</th>\n",
       "      <th>Product</th>\n",
       "      <th>Size (€)</th>\n",
       "      <th>Comments</th>\n",
       "      <th>Status (Closed/Pipeline/Lost/Postponed)</th>\n",
       "    </tr>\n",
       "    <tr>\n",
       "      <th>#</th>\n",
       "      <th></th>\n",
       "      <th></th>\n",
       "      <th></th>\n",
       "      <th></th>\n",
       "      <th></th>\n",
       "      <th></th>\n",
       "      <th></th>\n",
       "    </tr>\n",
       "  </thead>\n",
       "  <tbody>\n",
       "    <tr>\n",
       "      <th>1</th>\n",
       "      <td>SALVATORE FERRAGAMO SPA</td>\n",
       "      <td>Existing</td>\n",
       "      <td>NaN</td>\n",
       "      <td>PERSONALIZZAZIONI SOFTWARE</td>\n",
       "      <td>150000.0</td>\n",
       "      <td>NaN</td>\n",
       "      <td>Pipeline Feb-23</td>\n",
       "    </tr>\n",
       "    <tr>\n",
       "      <th>2</th>\n",
       "      <td>TELECOM ITALIA SPA</td>\n",
       "      <td>Existing</td>\n",
       "      <td>NaN</td>\n",
       "      <td>PROGETTO TAX PLUGIN 2.0 ATTIV.</td>\n",
       "      <td>150000.0</td>\n",
       "      <td>NaN</td>\n",
       "      <td>Pipeline Feb-23</td>\n",
       "    </tr>\n",
       "    <tr>\n",
       "      <th>3</th>\n",
       "      <td>Fincantieri SPA</td>\n",
       "      <td>New</td>\n",
       "      <td>NaN</td>\n",
       "      <td>PROGETTO TAX PLUGIN 2.0 ATTIV. | ANAL.CONSUL. ...</td>\n",
       "      <td>120000.0</td>\n",
       "      <td>NaN</td>\n",
       "      <td>Pipeline Mar-23</td>\n",
       "    </tr>\n",
       "    <tr>\n",
       "      <th>4</th>\n",
       "      <td>MEDIOBANCA SPA</td>\n",
       "      <td>Existing</td>\n",
       "      <td>NaN</td>\n",
       "      <td>PROGETTO TAX PLUGIN 2.0 ATTIV.</td>\n",
       "      <td>100000.0</td>\n",
       "      <td>NaN</td>\n",
       "      <td>Pipeline Jul-23</td>\n",
       "    </tr>\n",
       "    <tr>\n",
       "      <th>5</th>\n",
       "      <td>EPTA Group</td>\n",
       "      <td>New</td>\n",
       "      <td>NaN</td>\n",
       "      <td>ATL - GEST. NEWS ATTIV RIN</td>\n",
       "      <td>80000.0</td>\n",
       "      <td>NaN</td>\n",
       "      <td>Pipeline Dec-22</td>\n",
       "    </tr>\n",
       "    <tr>\n",
       "      <th>6</th>\n",
       "      <td>NATUZZI SPA</td>\n",
       "      <td>Existing</td>\n",
       "      <td>NaN</td>\n",
       "      <td>B.POINT SMALL - ATTIV.</td>\n",
       "      <td>60000.0</td>\n",
       "      <td>NaN</td>\n",
       "      <td>Pipeline Jul-22</td>\n",
       "    </tr>\n",
       "    <tr>\n",
       "      <th>7</th>\n",
       "      <td>PIAGGIO ITALIA SPA</td>\n",
       "      <td>Existing</td>\n",
       "      <td>NaN</td>\n",
       "      <td>PROGETTO TAX PLUGIN 2.0 ATTIV.</td>\n",
       "      <td>60000.0</td>\n",
       "      <td>NaN</td>\n",
       "      <td>Pipeline Nov-22</td>\n",
       "    </tr>\n",
       "    <tr>\n",
       "      <th>8</th>\n",
       "      <td>GENERALI ITALIA SPA</td>\n",
       "      <td>Existing</td>\n",
       "      <td>NaN</td>\n",
       "      <td>TUTTOTEL BASE 500 ANAGRAFICHE | ANAL.CONSUL. S...</td>\n",
       "      <td>50350.0</td>\n",
       "      <td>NaN</td>\n",
       "      <td>Pipeline Jan-23</td>\n",
       "    </tr>\n",
       "    <tr>\n",
       "      <th>9</th>\n",
       "      <td>BANCA PASSADORE &amp; C SPA</td>\n",
       "      <td>Existing</td>\n",
       "      <td>NaN</td>\n",
       "      <td>PROGETTO TAX PLUGIN 2.0 ATTIV.</td>\n",
       "      <td>50000.0</td>\n",
       "      <td>NaN</td>\n",
       "      <td>Pipeline Nov-22</td>\n",
       "    </tr>\n",
       "    <tr>\n",
       "      <th>10</th>\n",
       "      <td>Star System srl</td>\n",
       "      <td>New</td>\n",
       "      <td>NaN</td>\n",
       "      <td>FORMAZIONE GG  INTERO AREA SME | ARCA EVOL - M...</td>\n",
       "      <td>50000.0</td>\n",
       "      <td>NaN</td>\n",
       "      <td>Pipeline Dec-22</td>\n",
       "    </tr>\n",
       "  </tbody>\n",
       "</table>\n",
       "</div>"
      ],
      "text/plain": [
       "                   Customer New / Existing client  Business Unit  \\\n",
       "#                                                                  \n",
       "1   SALVATORE FERRAGAMO SPA              Existing            NaN   \n",
       "2        TELECOM ITALIA SPA              Existing            NaN   \n",
       "3           Fincantieri SPA                   New            NaN   \n",
       "4            MEDIOBANCA SPA              Existing            NaN   \n",
       "5                EPTA Group                   New            NaN   \n",
       "6               NATUZZI SPA              Existing            NaN   \n",
       "7        PIAGGIO ITALIA SPA              Existing            NaN   \n",
       "8       GENERALI ITALIA SPA              Existing            NaN   \n",
       "9   BANCA PASSADORE & C SPA              Existing            NaN   \n",
       "10          Star System srl                   New            NaN   \n",
       "\n",
       "                                              Product  Size (€)  Comments  \\\n",
       "#                                                                           \n",
       "1                          PERSONALIZZAZIONI SOFTWARE  150000.0       NaN   \n",
       "2                      PROGETTO TAX PLUGIN 2.0 ATTIV.  150000.0       NaN   \n",
       "3   PROGETTO TAX PLUGIN 2.0 ATTIV. | ANAL.CONSUL. ...  120000.0       NaN   \n",
       "4                      PROGETTO TAX PLUGIN 2.0 ATTIV.  100000.0       NaN   \n",
       "5                          ATL - GEST. NEWS ATTIV RIN   80000.0       NaN   \n",
       "6                              B.POINT SMALL - ATTIV.   60000.0       NaN   \n",
       "7                      PROGETTO TAX PLUGIN 2.0 ATTIV.   60000.0       NaN   \n",
       "8   TUTTOTEL BASE 500 ANAGRAFICHE | ANAL.CONSUL. S...   50350.0       NaN   \n",
       "9                      PROGETTO TAX PLUGIN 2.0 ATTIV.   50000.0       NaN   \n",
       "10  FORMAZIONE GG  INTERO AREA SME | ARCA EVOL - M...   50000.0       NaN   \n",
       "\n",
       "   Status (Closed/Pipeline/Lost/Postponed)  \n",
       "#                                           \n",
       "1                          Pipeline Feb-23  \n",
       "2                          Pipeline Feb-23  \n",
       "3                          Pipeline Mar-23  \n",
       "4                          Pipeline Jul-23  \n",
       "5                          Pipeline Dec-22  \n",
       "6                          Pipeline Jul-22  \n",
       "7                          Pipeline Nov-22  \n",
       "8                          Pipeline Jan-23  \n",
       "9                          Pipeline Nov-22  \n",
       "10                         Pipeline Dec-22  "
      ]
     },
     "execution_count": 5,
     "metadata": {},
     "output_type": "execute_result"
    }
   ],
   "source": [
    "top_pend_deals_10"
   ]
  },
  {
   "cell_type": "code",
   "execution_count": 7,
   "id": "96a8af56-45c8-4252-93c6-31f5f093a683",
   "metadata": {},
   "outputs": [],
   "source": [
    "with pd.ExcelWriter(r\"C:\\Users\\Raffaele.Sportiello\\OneDrive - Wolters Kluwer\\Documents\\Presentazioni\\MDM\\Top five pending deals.xlsx\") as writer:\n",
    "    top_pend_deals_10.to_excel(writer, sheet_name=\"top_pend_deals\")\n",
    "    opp_list.to_excel(writer, sheet_name=\"opp_list\", index=False)"
   ]
  },
  {
   "cell_type": "markdown",
   "id": "df3657e1-cbe6-4ce4-8173-32fa25712746",
   "metadata": {},
   "source": [
    "<br>"
   ]
  },
  {
   "cell_type": "markdown",
   "id": "69a8c615-1c8f-4072-bbc1-bf9c265e05db",
   "metadata": {},
   "source": [
    "***"
   ]
  },
  {
   "cell_type": "markdown",
   "id": "ef9ad9b8-87ee-40ce-a2f3-b5eac110dcad",
   "metadata": {
    "tags": []
   },
   "source": [
    "# Last month sales intake performance – TAA Italy"
   ]
  },
  {
   "cell_type": "code",
   "execution_count": null,
   "id": "6faf07ec-f294-490f-9a65-fede56e8031d",
   "metadata": {},
   "outputs": [],
   "source": [
    "columns = [\"Opportunity ID\",\"Opportunity Name\", \"Account Name\",  \"Owner Role\", \"Close Date\",\"Stage\", \"Incremental Amount\"]\n",
    "\n",
    "filt = (op_w_prod[\"Stage\"].str.contains(\"Closed Won\")) & (op_w_prod[\"Close Date\"].dt.month==(dt.datetime.now().month-1)) & (op_w_prod[\"Close Date\"].dt.year==(dt.datetime.now().year))\n",
    "closed_deals = op_w_prod.loc[filt,columns].drop_duplicates(subset=[\"Opportunity ID\"]).sort_values(by=\"Incremental Amount\", ascending=False).head(10)\n",
    "\n",
    "filt = (op_w_prod[\"Stage\"].str.contains(\"Closed Lost\")) & (op_w_prod[\"Close Date\"].dt.month==(dt.datetime.now().month-1)) & (op_w_prod[\"Close Date\"].dt.year==(dt.datetime.now().year))\n",
    "lost_deals = op_w_prod.loc[filt,columns].drop_duplicates(subset=[\"Opportunity ID\"]).sort_values(by=\"Incremental Amount\", ascending=False).head(10)"
   ]
  },
  {
   "cell_type": "code",
   "execution_count": null,
   "id": "348ea7d5-dfd4-438e-885b-083e3c3e3323",
   "metadata": {},
   "outputs": [],
   "source": [
    "closed_deals"
   ]
  },
  {
   "cell_type": "code",
   "execution_count": null,
   "id": "e0db39d2-3c81-4245-a009-d65c1ef1575e",
   "metadata": {},
   "outputs": [],
   "source": [
    "with pd.ExcelWriter(r\"C:\\Users\\Raffaele.Sportiello\\OneDrive - Wolters Kluwer\\Documents\\Presentazioni\\MDM\\Last month sales intake performance.xlsx\") as writer:\n",
    "    closed_deals.to_excel(writer, sheet_name=\"closed_deals\", index=False)\n",
    "    lost_deals.to_excel(writer, sheet_name=\"lost_deals\", index=False)"
   ]
  },
  {
   "cell_type": "markdown",
   "id": "62443f8d-9c12-4d56-af6a-69ab6a29bb5c",
   "metadata": {
    "tags": []
   },
   "source": [
    "### Success"
   ]
  },
  {
   "cell_type": "code",
   "execution_count": null,
   "id": "b04ce54c-2bed-441d-b327-5ffa91edc596",
   "metadata": {},
   "outputs": [],
   "source": [
    "columns = [\"Opportunity ID\",\"Opportunity Name\", \"Product Name\", \"Total Price\", \"Account Name\",  \"Owner Role\", \"Close Date\",\"Stage\", \"Incremental Amount\"]\n",
    "\n",
    "filt = (op_w_prod[\"Stage\"].str.contains(\"Closed Won\")) & (op_w_prod[\"Close Date\"].dt.month==(dt.datetime.now().month-1)) & (op_w_prod[\"Close Date\"].dt.year==(dt.datetime.now().year))\n",
    "\n",
    "closed_deals_con_prod = op_w_prod.loc[filt,:].groupby([\"Opportunity Name\",\"Account Name\",  \"Owner Role\", \"Close Date\",\"Product Name\"]).agg({\"Total Price\":\"sum\",\"Incremental Amount\":\"sum\"}).sort_values(by=[\"Incremental Amount\"], ascending=False)"
   ]
  },
  {
   "cell_type": "code",
   "execution_count": null,
   "id": "b26e9ff4-9239-4042-9d1c-91aeb029f16d",
   "metadata": {
    "tags": []
   },
   "outputs": [],
   "source": [
    "closed_deals_con_prod.style.format(\"{:,.0f}€\").background_gradient().to_excel(r\"C:\\Users\\Raffaele.Sportiello\\OneDrive - Wolters Kluwer\\Documents\\Presentazioni\\MDM\\success.xlsx\")"
   ]
  },
  {
   "cell_type": "markdown",
   "id": "d1415b7f-9227-4493-b572-17d244ad3402",
   "metadata": {
    "tags": []
   },
   "source": [
    "### Lost"
   ]
  },
  {
   "cell_type": "code",
   "execution_count": null,
   "id": "4f2789ac-efd1-4c00-854d-251af17bddd0",
   "metadata": {},
   "outputs": [],
   "source": [
    "columns = [\"Opportunity ID\",\"Opportunity Name\", \"Product Name\", \"Total Price\", \"Account Name\",  \"Owner Role\", \"Close Date\",\"Stage\", \"Incremental Amount\"]\n",
    "\n",
    "filt = (op_w_prod[\"Stage\"].str.contains(\"Closed Lost\")) & (op_w_prod[\"Close Date\"].dt.month==(dt.datetime.now().month-1)) & (op_w_prod[\"Close Date\"].dt.year==(dt.datetime.now().year))\n",
    "\n",
    "closed_lost_deals_con_prod = op_w_prod.loc[filt,:].groupby([\"Opportunity Name\",\"Account Name\",  \"Owner Role\", \"Close Date\",\"Product Name\"]).agg({\"Total Price\":\"sum\",\"Incremental Amount\":\"sum\"}).sort_values(by=[\"Incremental Amount\"], ascending=False)"
   ]
  },
  {
   "cell_type": "code",
   "execution_count": null,
   "id": "3e42da4e-99a5-48dc-b46c-2888fa95e1e2",
   "metadata": {},
   "outputs": [],
   "source": [
    "closed_lost_deals_con_prod"
   ]
  },
  {
   "cell_type": "markdown",
   "id": "3baa593e-6687-40f0-928d-a3e091955288",
   "metadata": {
    "tags": []
   },
   "source": [
    "# Pipeline – TAA Italy"
   ]
  },
  {
   "cell_type": "markdown",
   "id": "c0a480b9-5d8c-46fd-af56-cdc48756de17",
   "metadata": {
    "tags": []
   },
   "source": [
    "## Pipeline"
   ]
  },
  {
   "cell_type": "code",
   "execution_count": null,
   "id": "ecd2e216-2ac5-4565-a8e6-4f689e8e996b",
   "metadata": {},
   "outputs": [],
   "source": [
    "pipe = op_w_prod.drop_duplicates(subset=[\"Opportunity ID\"])"
   ]
  },
  {
   "cell_type": "markdown",
   "id": "ca62f6a1-bff9-4a7d-87f1-ac6f898e1570",
   "metadata": {
    "tags": []
   },
   "source": [
    "### Total Pipeline"
   ]
  },
  {
   "cell_type": "code",
   "execution_count": null,
   "id": "c7427e3e-f271-4db3-82f9-12a9e720e5d0",
   "metadata": {},
   "outputs": [],
   "source": [
    "filt = (pipe[\"Close Date\"].dt.month > (dt.datetime.now().month-1)) & (~pipe[\"Stage\"].str.contains(\"Closed\"))\n",
    "tot_pipeline = pipe.loc[filt,:].groupby([pipe[\"Close Date\"].astype('datetime64[M]')])[[\"Incremental Amount\"]].sum().reset_index().pivot_table(columns=\"Close Date\", values=\"Incremental Amount\")"
   ]
  },
  {
   "cell_type": "code",
   "execution_count": null,
   "id": "441b01ff-a189-4457-85d4-6d3be3fd35a2",
   "metadata": {},
   "outputs": [],
   "source": [
    "tot_pipeline"
   ]
  },
  {
   "cell_type": "markdown",
   "id": "422f2d26-c400-4e99-86e4-2bf10d8e86a5",
   "metadata": {
    "tags": []
   },
   "source": [
    "### Forecast 50<70 e Forecast >70"
   ]
  },
  {
   "cell_type": "code",
   "execution_count": null,
   "id": "47a11235-d135-4f37-bbef-b844706a84a1",
   "metadata": {},
   "outputs": [],
   "source": [
    "filt = (pipe[\"Close Date\"].dt.month > (dt.datetime.now().month-1)) & (pipe[\"Ag MDM\"].str.contains(\"70<90|50<70\"))\n",
    "pipe_50_90 = pipe.loc[filt,:].groupby([pipe[\"Close Date\"].astype('datetime64[M]'), \"Stage\", \"Ag MDM\"])[[ \"weighted amount\"]].sum().unstack(0).fillna(0)"
   ]
  },
  {
   "cell_type": "code",
   "execution_count": null,
   "id": "476c1d6e-f271-4af4-b96e-6815d2ce5a8b",
   "metadata": {},
   "outputs": [],
   "source": [
    "pipe_50_90"
   ]
  },
  {
   "cell_type": "markdown",
   "id": "7d95dcb4-addc-47dc-bcf8-87a912a7cde5",
   "metadata": {
    "tags": []
   },
   "source": [
    "### Actual"
   ]
  },
  {
   "cell_type": "code",
   "execution_count": null,
   "id": "b6036129-19bf-4c28-9a17-b7665a2582ea",
   "metadata": {},
   "outputs": [],
   "source": [
    "esc_fatture = par[\"Esclusione_fatture\"]\n",
    "esc_fatture[\"Numero Fattura\"] = esc_fatture[\"Numero Fattura\"].astype(str)\n",
    "\n",
    "esc_ordini = par[\"Esclusione_ordini\"]\n",
    "esc_ordini[\"Numero Ordine\"] = esc_ordini[\"Numero Ordine\"].astype(str)\n",
    "\n",
    "li_prodotti = par[\"Linea_prodotti\"]\n",
    "\n",
    "df_merge = df.merge(esc_fatture, on=\"Numero Fattura\", how=\"left\").merge(esc_ordini, on=\"Numero Ordine\", how=\"left\")\n",
    "\n",
    "current_month = dt.date.today().replace(day=1)\n",
    "filt = (df_merge[\"Data Ins. Ordine (monitoraggio)\"].dt.date >= current_month) & (df_merge[\"Sales Director\"].isin([\"LARGE ACCOUNT\",\"NORDEST IBISOFT\",\"WKIC CENTRO SUD\",\"WKIC NORD EST\",\"WKIC NORD OVEST\",\"ENTERPRISE\"]))&(df_merge[\"Escludi fatture\"].isna())&(df_merge[\"Escludi ordine\"].isna())"
   ]
  },
  {
   "cell_type": "code",
   "execution_count": null,
   "id": "d971923d-8d58-4c5e-a8ee-9d77a12a7026",
   "metadata": {},
   "outputs": [],
   "source": [
    "actual = df_merge.loc[filt,:].groupby([df_merge[\"Data Ins. Ordine (monitoraggio)\"].astype(\"datetime64[M]\")]).agg({\"Raccolto\":\"sum\"}).transpose()"
   ]
  },
  {
   "cell_type": "code",
   "execution_count": null,
   "id": "02a01ccc-a3eb-4c19-9886-e4cc4786c607",
   "metadata": {},
   "outputs": [],
   "source": [
    "actual"
   ]
  },
  {
   "cell_type": "markdown",
   "id": "885c1a66-373f-4d04-acd7-491b58b1294a",
   "metadata": {
    "tags": []
   },
   "source": [
    "### Budget"
   ]
  },
  {
   "cell_type": "code",
   "execution_count": null,
   "id": "34f83cb6-5b30-411d-9645-a43e272fe7be",
   "metadata": {},
   "outputs": [],
   "source": [
    "bdg[\"Sales Director\"] = bdg[\"Sales Director\"].str.lower()\n",
    "budget = bdg.merge(sales_director, on=\"Sales Director\", how=\"left\").merge(linea_prodotti, on= \"Linea Prodotti\", how=\"left\")\n",
    "budget.rename(columns={\"Data Ins. Ordine (monitoraggio)\":\"Data\"}, inplace=True)"
   ]
  },
  {
   "cell_type": "code",
   "execution_count": null,
   "id": "e9229ce1-b931-4cd0-b015-601bf83d054b",
   "metadata": {
    "tags": []
   },
   "outputs": [],
   "source": [
    "bdg_mid_month_forecast = budget.groupby([\"Rete\", \"Linea\", budget[\"Data\"].astype('datetime64[M]')])[\"Budget\"].sum().unstack(level=2).loc[\"Diretta\"]\n",
    "bdg_mid_month_forecast"
   ]
  },
  {
   "cell_type": "code",
   "execution_count": null,
   "id": "0fa36577-1c9c-447f-a119-5f287aed09d2",
   "metadata": {},
   "outputs": [],
   "source": [
    "tgt = budget.groupby([\"Rete\", budget[\"Data\"].astype('datetime64[M]')])[\"Budget\"].sum().unstack(level=1)\n",
    "tgt"
   ]
  },
  {
   "cell_type": "markdown",
   "id": "ef364d9f-054c-48ab-9da5-c5f330fac0db",
   "metadata": {
    "tags": []
   },
   "source": [
    "### Forecast"
   ]
  },
  {
   "cell_type": "code",
   "execution_count": null,
   "id": "8da738d5-2f14-4a2b-9300-f8e5617daf6e",
   "metadata": {},
   "outputs": [],
   "source": [
    "sales = par[\"Sales_director\"]\n",
    "sales = sales.loc[:,[\"Sales Director\", \"Area territoriale\", \"Rete\"]]\n",
    "sales[\"Sales Director\"] = sales[\"Sales Director\"].apply(lambda x: x.lower())\n",
    "\n",
    "forecast[\"Sales director\"] = forecast[\"Sales director\"].str.lower()\n",
    "fc = forecast.merge(sales, left_on= \"Sales director\", right_on=\"Sales Director\", how=\"left\").merge(linea_prodotti, on= \"Linea Prodotti\", how=\"left\")\n",
    "fc = fc.loc[fc[\"Rete\"] == \"Diretta\", [\"Giorno\",\"Linea\", \"Forecast\"]].copy()\n",
    "fc_month_forecast = fc.groupby([\"Giorno\", \"Linea\"]).agg({\"Forecast\":\"sum\"}).unstack(0)\n",
    "fc_month_forecast"
   ]
  },
  {
   "cell_type": "markdown",
   "id": "425f688d-5835-4a11-98e3-f63366b9d43c",
   "metadata": {
    "tags": []
   },
   "source": [
    "### Total Pipeline FY"
   ]
  },
  {
   "cell_type": "code",
   "execution_count": null,
   "id": "a3297c92-038a-4f9e-a81e-afbb5b2689e1",
   "metadata": {},
   "outputs": [],
   "source": [
    "filt = (pipe[\"Close Date\"].dt.month > (dt.datetime.now().month-1)) & (~pipe[\"Stage\"].str.contains(\"Closed\"))\n",
    "tot_pipeline_fy = pipe.loc[filt,\"Incremental Amount\"].sum()\n",
    "tot_pipeline_fy"
   ]
  },
  {
   "cell_type": "markdown",
   "id": "762736c5-e22a-4e80-95f3-f71be67984d0",
   "metadata": {
    "tags": []
   },
   "source": [
    "## Export to excel"
   ]
  },
  {
   "cell_type": "code",
   "execution_count": null,
   "id": "d9ee453d-6e61-4443-8068-7363f2629981",
   "metadata": {},
   "outputs": [],
   "source": [
    "pipe_50_90_drop = pipe_50_90.droplevel(level=0, axis=1)\n",
    "pipe_50_90_drop = pipe_50_90_drop.droplevel(level=0, axis=0)"
   ]
  },
  {
   "cell_type": "code",
   "execution_count": null,
   "id": "fd2b6339-8839-4ebf-b057-6474a43c0c32",
   "metadata": {},
   "outputs": [],
   "source": [
    "pipeline_taa_italy = pd.concat([tot_pipeline, pipe_50_90_drop,  bdg_mid_month_forecast])"
   ]
  },
  {
   "cell_type": "code",
   "execution_count": null,
   "id": "122b75af-e975-4caa-85e8-06466d594a5d",
   "metadata": {},
   "outputs": [],
   "source": [
    "pipeline_taa_italy"
   ]
  },
  {
   "cell_type": "code",
   "execution_count": null,
   "id": "a4c72671-c972-4a4f-8a2f-7b0bf04963c1",
   "metadata": {},
   "outputs": [],
   "source": [
    "pipeline_taa_italy.iloc[0:5,6:9]"
   ]
  },
  {
   "cell_type": "code",
   "execution_count": null,
   "id": "2ec7cb5b-b8d1-48f7-bdad-a4e69769d2bc",
   "metadata": {},
   "outputs": [],
   "source": [
    "pipeline_taa_italy.iloc[0:5,6:9].to_excel(r\"C:\\Users\\Raffaele.Sportiello\\OneDrive - Wolters Kluwer\\Documents\\Presentazioni\\MDM\\Pipeline.xlsx\")"
   ]
  },
  {
   "cell_type": "markdown",
   "id": "9ee06413-0134-46a8-ab2c-6b72d238aae3",
   "metadata": {
    "tags": []
   },
   "source": [
    "# Sales KPIs"
   ]
  },
  {
   "cell_type": "code",
   "execution_count": null,
   "id": "d417a43d-6ff5-4ffc-9377-09b44fb99e65",
   "metadata": {},
   "outputs": [],
   "source": [
    "filt_rows = (df[\"Data Ins. Ordine (monitoraggio)\"].dt.year == 2022)&(df[\"Raccolto\"].notna())\n",
    "columns = [\"Cliente Merce\", \"Sales Director\", \"Canale di VENDITA\", \"Linea Prodotti\", \"Numero Ordine\", \"Numero Fattura\", \"Data Ins. Ordine (monitoraggio)\", \"Raccolto\"]\n",
    "\n",
    "df_2022 = df.loc[filt_rows, columns].reset_index(drop=True)\n",
    "df_2022[\"Sales Director\"] = df_2022[\"Sales Director\"].str.lower()\n",
    "\n",
    "esc_fatture = par[\"Esclusione_fatture\"]\n",
    "esc_fatture[\"Numero Fattura\"] = esc_fatture[\"Numero Fattura\"].astype(str)\n",
    "\n",
    "esc_ordini = par[\"Esclusione_ordini\"]\n",
    "esc_ordini[\"Numero Ordine\"] = esc_ordini[\"Numero Ordine\"].astype(str)\n",
    "\n",
    "sales_director = par[\"Sales_director\"]\n",
    "sales_director[\"Sales Director\"] = sales_director.loc[:,\"Sales Director\"].str.lower()\n",
    "sales_director = sales_director[[\"Sales Director\", \"Rete\", \"Rete2\", \"Area territoriale\"]]\n",
    "\n",
    "li_prodotti = par[\"Linea_prodotti\"]\n",
    "\n",
    "inflow = df_2022.merge(esc_fatture, on=\"Numero Fattura\", how=\"left\").merge(esc_ordini, on=\"Numero Ordine\", how=\"left\").merge(li_prodotti, on=\"Linea Prodotti\", how=\"left\").merge(sales_director, on=\"Sales Director\", how=\"left\")\n",
    "\n",
    "esclusioni = (inflow[\"Canale di VENDITA\"] != \"E-Commerce\")&(inflow[\"Escludi fatture\"].isna())&(inflow[\"Escludi ordine\"].isna())\n",
    "\n",
    "inflow = inflow.loc[esclusioni, ['Data Ins. Ordine (monitoraggio)', \"Cliente Merce\", \"Numero Ordine\", \"Rete\", \"Rete2\",\"Area territoriale\", 'Sales Director', 'Linea', 'Raccolto']].reset_index(drop=True)\n",
    "\n",
    "inflow.rename(columns={\"Data Ins. Ordine (monitoraggio)\":'Giorno'}, inplace=True)"
   ]
  },
  {
   "cell_type": "markdown",
   "id": "ac037383-5b65-4c30-a705-ba16cefa31b9",
   "metadata": {
    "tags": []
   },
   "source": [
    "#### Ordine medio per cliente  \n",
    "Consideriamo l'ordine medio per cliente, anche se nella slide c'è scritto \"Average deal size\""
   ]
  },
  {
   "cell_type": "code",
   "execution_count": null,
   "id": "7aa7df21-b51b-47de-85a0-0cf9a4dd4641",
   "metadata": {},
   "outputs": [],
   "source": [
    "inflow[\"N. Clienti\"] = inflow.groupby([\"Rete2\", inflow[\"Giorno\"].astype('datetime64[M]')], dropna=False)[\"Cliente Merce\"].transform(\"nunique\")\n",
    "inflow_gr = inflow.groupby([\"Rete2\", inflow[\"Giorno\"].astype('datetime64[M]')], dropna=False).agg({\"Raccolto\":\"sum\", \"N. Clienti\":\"max\"})\n",
    "\n",
    "inflow_gr[\"Avg deal size\"] = inflow_gr[\"Raccolto\"] / inflow_gr[\"N. Clienti\"]\n",
    "\n",
    "inflow_gr[\"Avg deal size\"].unstack(level=1).style.format(\"{:,.0f}\").background_gradient()"
   ]
  },
  {
   "cell_type": "markdown",
   "id": "638419d1-2af9-43d3-9716-31f63dbf0fdd",
   "metadata": {},
   "source": [
    "#### Ordine medio per deal"
   ]
  },
  {
   "cell_type": "code",
   "execution_count": null,
   "id": "7a368986-796d-4ff8-9db0-a6f69928c07e",
   "metadata": {},
   "outputs": [],
   "source": [
    "inflow[\"N. Ordini\"] = inflow.groupby([\"Rete2\", inflow[\"Giorno\"].astype('datetime64[M]')], dropna=False)[\"Numero Ordine\"].transform(\"nunique\")\n",
    "inflow_gr = inflow.groupby([\"Rete2\", inflow[\"Giorno\"].astype('datetime64[M]')], dropna=False).agg({\"Raccolto\":\"sum\", \"N. Ordini\":\"max\"})\n",
    "\n",
    "inflow_gr[\"Avg deal size\"] = inflow_gr[\"Raccolto\"] / inflow_gr[\"N. Ordini\"]\n",
    "\n",
    "inflow_gr[\"Avg deal size\"].unstack(level=1).style.format(\"{:,.0f}\").background_gradient()"
   ]
  },
  {
   "cell_type": "markdown",
   "id": "3a6fac79-d392-4f81-b97d-0e8bff4fd450",
   "metadata": {
    "tags": []
   },
   "source": [
    "# Sales Quota by Sales Rep and Sales Team (direct channel only)"
   ]
  },
  {
   "cell_type": "code",
   "execution_count": null,
   "id": "980e8768-526a-42b6-809d-b700f72e1005",
   "metadata": {
    "tags": []
   },
   "outputs": [],
   "source": [
    "periodo = (df[\"Data Ins. Ordine (monitoraggio)\"].dt.year == 2022) & (df[\"Data Ins. Ordine (monitoraggio)\"].dt.quarter.isin([1,2]))\n",
    "filt_rows = (periodo)\n",
    "\n",
    "columns = [\"Cliente Merce\", \"Sales Director\", \"Agente dell'ORDINE\", \"Canale di VENDITA\", \"Linea Prodotti\", \"Numero Ordine\", \"Numero Fattura\", \"Data Ins. Ordine (monitoraggio)\", \"Raccolto\", \"Budget  assegnato\"]\n",
    "\n",
    "df2 = df.loc[filt_rows, columns].reset_index(drop=True)\n",
    "df2[\"Sales Director\"] = df2[\"Sales Director\"].str.lower()\n",
    "\n",
    "esc_fatture = par[\"Esclusione_fatture\"]\n",
    "esc_fatture[\"Numero Fattura\"] = esc_fatture[\"Numero Fattura\"].astype(str)\n",
    "\n",
    "esc_ordini = par[\"Esclusione_ordini\"]\n",
    "esc_ordini[\"Numero Ordine\"] = esc_ordini[\"Numero Ordine\"].astype(str)\n",
    "\n",
    "sales_director = par[\"Sales_director\"]\n",
    "sales_director[\"Sales Director\"] = sales_director.loc[:,\"Sales Director\"].str.lower()\n",
    "sales_director = sales_director[[\"Sales Director\", \"Rete\"]]\n",
    "\n",
    "li_prodotti = par[\"Linea_prodotti\"]\n",
    "\n",
    "agente_ordine = par[\"Agente_ordine\"]\n",
    "agente_ordine.rename(columns = {\"Agente dell'ORDINE\":\"Sales rep\"}, inplace=True) \n",
    "\n",
    "sales_quota = df2.merge(esc_fatture, on=\"Numero Fattura\", how=\"left\").merge(esc_ordini, on=\"Numero Ordine\", how=\"left\").merge(li_prodotti, on=\"Linea Prodotti\", how=\"left\").merge(sales_director, on=\"Sales Director\", how=\"left\").merge(agente_ordine, left_on=\"Agente dell'ORDINE\", right_on=\"Codice agente\", how=\"left\")\n",
    "\n",
    "esclusioni = (sales_quota[\"Canale di VENDITA\"] != \"E-Commerce\") & (sales_quota[\"Escludi fatture\"].isna()) & (sales_quota[\"Escludi ordine\"].isna()) & (sales_quota[\"Rete\"] == \"Diretta\") & (sales_quota[\"Sales Director\"] != \"large account\")\n",
    "\n",
    "sales_quota = sales_quota.loc[esclusioni, ['Data Ins. Ordine (monitoraggio)', \"Codice agente\", \"Sales rep\", 'Raccolto', \"Budget  assegnato\"]].reset_index(drop=True)\n",
    "\n",
    "sales_quota.rename(columns={\"Data Ins. Ordine (monitoraggio)\":'Giorno'}, inplace=True)"
   ]
  },
  {
   "cell_type": "code",
   "execution_count": null,
   "id": "1d88c537-5482-42b8-88ec-1be2c82ce771",
   "metadata": {},
   "outputs": [],
   "source": [
    "sales_quota_gr = sales_quota.groupby([\"Sales rep\"]).agg({\"Raccolto\":\"sum\", \"Budget  assegnato\":\"sum\"}).reset_index().sort_values(by=[\"Budget  assegnato\"], ascending=False)"
   ]
  },
  {
   "cell_type": "code",
   "execution_count": null,
   "id": "563db015-23c5-4c10-9330-b48ebac8821f",
   "metadata": {},
   "outputs": [],
   "source": [
    "sales_quota_gr"
   ]
  },
  {
   "cell_type": "markdown",
   "id": "c7587d82-3d1d-4c21-b0df-8f718b693b27",
   "metadata": {},
   "source": [
    "# Sales Activity"
   ]
  },
  {
   "cell_type": "code",
   "execution_count": null,
   "id": "fbbab348-1f3b-4336-8768-4cf92d402101",
   "metadata": {},
   "outputs": [],
   "source": [
    "sales_activity = op_w_prod.loc[(op_w_prod[\"Created Date\"].dt.date >=dt.date(2022,1,1)) & (op_w_prod[\"Created Date\"].dt.quarter.isin([1,2,3,4])),:].copy()\n",
    "sales_activity[\"Created Week\"] = op_w_prod[\"Created Date\"].dt.isocalendar().week\n",
    "sales_activity[\"Created Quarter\"] = op_w_prod[\"Created Date\"].dt.quarter"
   ]
  },
  {
   "cell_type": "code",
   "execution_count": null,
   "id": "49be5fb8-26ef-4864-abb4-6acc0ec2e1e7",
   "metadata": {},
   "outputs": [],
   "source": [
    "sales_activity = sales_activity.groupby([\"Created Week\", \"Created Quarter\"]).agg({\"Opportunity ID\":\"nunique\"}).reset_index()"
   ]
  },
  {
   "cell_type": "code",
   "execution_count": null,
   "id": "370341f8-b7bc-43b2-9029-bb053c0d6991",
   "metadata": {},
   "outputs": [],
   "source": [
    "with pd.ExcelWriter(r\"C:\\Users\\Raffaele.Sportiello\\OneDrive - Wolters Kluwer\\Documents\\Presentazioni\\MDM\\Sales Quota & Sales Activity.xlsx\", engine=\"openpyxl\") as writer:\n",
    "    sales_quota_gr.to_excel(writer, sheet_name=\"sales_quota\", index=False)\n",
    "    sales_activity.to_excel(writer, sheet_name=\"op_by_week\", index=True)"
   ]
  },
  {
   "cell_type": "markdown",
   "id": "34e6db63-3696-4552-b805-ac548472b497",
   "metadata": {},
   "source": [
    "# Clienti SMART Skills"
   ]
  },
  {
   "cell_type": "code",
   "execution_count": null,
   "id": "c13f2e1e-a7af-4413-b9d5-29e69f66636c",
   "metadata": {},
   "outputs": [],
   "source": [
    "inflow_prodotti = r\"C:\\Users\\Raffaele.Sportiello\\OneDrive - Wolters Kluwer\\Documents\\Dashboard inflow\\Dashboard inflow canali e prodotti\\Source\\inflow_prodotti\\\\\"\n",
    "\n",
    "onlyfiles = [f for f in listdir(r\"C:\\Users\\Raffaele.Sportiello\\OneDrive - Wolters Kluwer\\Documents\\Dashboard inflow\\Dashboard inflow canali e prodotti\\Source\\inflow_prodotti\") if isfile(join(r\"C:\\Users\\Raffaele.Sportiello\\OneDrive - Wolters Kluwer\\Documents\\Dashboard inflow\\Dashboard inflow canali e prodotti\\Source\\inflow_prodotti\", f))]\n",
    "\n",
    "df = pd.DataFrame()\n",
    "\n",
    "for file in onlyfiles:\n",
    "    data = pd.read_excel(inflow_prodotti+file)\n",
    "    df = df.append(data)"
   ]
  },
  {
   "cell_type": "code",
   "execution_count": null,
   "id": "401f1659-fa6c-4e77-81f5-27a9407c58d0",
   "metadata": {},
   "outputs": [],
   "source": [
    "for col in df.select_dtypes(include=[object]).columns:\n",
    "    df[col] = df[col].astype(str)"
   ]
  },
  {
   "cell_type": "code",
   "execution_count": null,
   "id": "4638d94c-e9c7-452c-8f8b-3015775f5e76",
   "metadata": {
    "tags": []
   },
   "outputs": [],
   "source": [
    "parametriche = r\"C:\\Users\\Raffaele.Sportiello\\OneDrive - Wolters Kluwer\\Documents\\Dashboard inflow\\Parametriche\\\\\"\n",
    "onlyfiles = [f for f in listdir(r\"C:\\Users\\Raffaele.Sportiello\\OneDrive - Wolters Kluwer\\Documents\\Dashboard inflow\\Parametriche\") if isfile(join(r\"C:\\Users\\Raffaele.Sportiello\\OneDrive - Wolters Kluwer\\Documents\\Dashboard inflow\\Parametriche\", f))]\n",
    "\n",
    "par = {}\n",
    "for file in onlyfiles:\n",
    "    file_name=file.split(\".\")[0]\n",
    "    par[f\"{file_name}\"] = pd.read_excel(parametriche+file)"
   ]
  },
  {
   "cell_type": "code",
   "execution_count": null,
   "id": "7013bd7f-b40c-4c6a-ada7-bf140f29d79f",
   "metadata": {},
   "outputs": [],
   "source": [
    "par.keys()"
   ]
  },
  {
   "cell_type": "code",
   "execution_count": null,
   "id": "b3621140-2887-40bb-9383-34a8f97ae7a1",
   "metadata": {},
   "outputs": [],
   "source": [
    "columns = [\"Cliente Merce\", \"Sales Director\", \"Canale di VENDITA\", \"Linea Prodotti\", \"Codice PRODOTTO\", \"Numero Ordine\", \"Numero Fattura\", \"Data Ins. Ordine (monitoraggio)\", \"Raccolto\"]\n",
    "\n",
    "df_smart = df.loc[:, columns].reset_index(drop=True)\n",
    "\n",
    "df_smart[\"Sales Director\"] = df_smart[\"Sales Director\"].str.lower()\n",
    "df_smart[\"Codice PRODOTTO\"] = df_smart[\"Codice PRODOTTO\"].astype(str)\n",
    "\n",
    "esc_fatture = par[\"Esclusione_fatture\"]\n",
    "esc_fatture[\"Numero Fattura\"] = esc_fatture[\"Numero Fattura\"].astype(str)\n",
    "\n",
    "esc_ordini = par[\"Esclusione_ordini\"]\n",
    "esc_ordini[\"Numero Ordine\"] = esc_ordini[\"Numero Ordine\"].astype(str)\n",
    "\n",
    "sales_director = par[\"Sales_director\"]\n",
    "sales_director[\"Sales Director\"] = sales_director.loc[:,\"Sales Director\"].str.lower()\n",
    "sales_director = sales_director[[\"Sales Director\", \"Rete\", \"Rete3\", \"Area territoriale\"]]\n",
    "\n",
    "prodotti = par[\"Classificazione_codice_prodotto\"]\n",
    "prodotti[\"Codice PRODOTTO\"] = prodotti[\"Codice PRODOTTO\"].astype(str)\n",
    "\n",
    "li_prodotti = par[\"Linea_prodotti\"]\n",
    "\n",
    "clienti_smart = df_smart.merge(esc_fatture, on=\"Numero Fattura\", how=\"left\").merge(esc_ordini, on=\"Numero Ordine\", how=\"left\").merge(li_prodotti, on=\"Linea Prodotti\", how=\"left\").merge(sales_director, on=\"Sales Director\", how=\"left\").merge(prodotti, on=\"Codice PRODOTTO\", how=\"left\")\n",
    "\n",
    "esclusioni = (clienti_smart[\"Escludi fatture\"].isna())&(clienti_smart[\"Escludi ordine\"].isna())&(clienti_smart[\"Sub solution\"] == \"Smart - Skills\")\n",
    "\n",
    "clienti_smart = clienti_smart.loc[esclusioni, ['Data Ins. Ordine (monitoraggio)', \"Cliente Merce\", \"Numero Ordine\", \"Rete3\", \"Canale di VENDITA\",'Linea', 'Raccolto']].reset_index(drop=True)\n",
    "\n",
    "clienti_smart.rename(columns={\"Data Ins. Ordine (monitoraggio)\":'Giorno'}, inplace=True)"
   ]
  },
  {
   "cell_type": "markdown",
   "id": "a187a5b9-52e5-4d78-9e93-cf533cb62a4a",
   "metadata": {
    "tags": []
   },
   "source": [
    "## Numero clienti"
   ]
  },
  {
   "cell_type": "code",
   "execution_count": null,
   "id": "8e067b48-8d7a-4758-a314-ed015adcebb5",
   "metadata": {},
   "outputs": [],
   "source": [
    "arr = clienti_smart[\"Giorno\"].astype('datetime64[M]').sort_values().unique()\n",
    "d_rete = {}\n",
    "d_canale = {}\n",
    "\n",
    "for i,elem in enumerate(arr):\n",
    "    temp = clienti_smart.loc[(clienti_smart[\"Giorno\"].astype('datetime64[M]') >= \"2021-04-01\") & \n",
    "                             (clienti_smart[\"Giorno\"].astype('datetime64[M]') <= elem) & \n",
    "                             (clienti_smart[\"Canale di VENDITA\"] != \"E-Commerce\"), :].groupby([\"Rete3\"]).agg({\"Cliente Merce\":\"nunique\"}).reset_index()\n",
    "    d_rete[f\"d_{i}\"] = temp[\"Cliente Merce\"].to_numpy()\n",
    "    \n",
    "    temp = clienti_smart.loc[(clienti_smart[\"Giorno\"].astype('datetime64[M]') >= \"2021-04-01\") & \n",
    "                             (clienti_smart[\"Giorno\"].astype('datetime64[M]') <= elem) & \n",
    "                             (clienti_smart[\"Canale di VENDITA\"] == \"E-Commerce\"), :].groupby([\"Canale di VENDITA\"]).agg({\"Cliente Merce\":\"nunique\"}).reset_index()\n",
    "    d_canale[f\"d_{i}\"] = temp[\"Cliente Merce\"].to_numpy()\n",
    "\n",
    "df_rete = pd.DataFrame.from_dict(data= d_rete.items())\n",
    "df_rete = pd.DataFrame(df_rete[1].tolist())\n",
    "df_rete = df_rete.pivot_table(columns=df_rete.index)\n",
    "\n",
    "df_canale = pd.DataFrame.from_dict(data= d_canale.items())\n",
    "df_canale = pd.DataFrame(df_canale[1].tolist())\n",
    "df_canale = df_canale.pivot_table(columns=df_canale.index)\n",
    "\n",
    "clienti_unici = pd.concat([df_rete, df_canale], axis=0)\n",
    "clienti_unici.columns = arr\n",
    "clienti_unici.index = [\"Diretta\", \"Indiretta\", \"E-commerce\"]"
   ]
  },
  {
   "cell_type": "code",
   "execution_count": null,
   "id": "26d478a0-f5c9-4ec5-9b95-293d85ef32d9",
   "metadata": {},
   "outputs": [],
   "source": [
    "clienti_unici = clienti_unici.transpose()\n",
    "clienti_unici[\"Traditional channels\"] = clienti_unici[\"Diretta\"] + clienti_unici[\"Indiretta\"]"
   ]
  },
  {
   "cell_type": "code",
   "execution_count": null,
   "id": "456ef735-f8d6-4b97-91e6-6f4d33411a53",
   "metadata": {},
   "outputs": [],
   "source": [
    "clienti_unici.loc[\"2022-01-01\":, [\"Traditional channels\", \"E-commerce\"]]"
   ]
  },
  {
   "cell_type": "code",
   "execution_count": null,
   "id": "72c9a9f0-8b00-42be-a97a-a78b89bd2329",
   "metadata": {},
   "outputs": [],
   "source": [
    "inflow_progr_Anna = clienti_smart.loc[(clienti_smart[\"Canale di VENDITA\"] != \"E-Commerce\") & (clienti_smart[\"Giorno\"] >= \"2022-01-01\"), :].groupby([clienti_smart[\"Giorno\"].astype(\"datetime64[M]\")])[\"Raccolto\"].sum().reset_index()\n",
    "inflow_progr_Anna[\"Anna\"] = inflow_progr_Anna[\"Raccolto\"].cumsum()\n",
    "\n",
    "inflow_progr_Ben = clienti_smart.loc[(clienti_smart[\"Canale di VENDITA\"] == \"E-Commerce\") & (clienti_smart[\"Giorno\"] >= \"2022-01-01\"), :].groupby([clienti_smart[\"Giorno\"].astype(\"datetime64[M]\")])[\"Raccolto\"].sum().reset_index()\n",
    "inflow_progr_Ben[\"Ben\"] = inflow_progr_Ben[\"Raccolto\"].cumsum()\n",
    "\n",
    "inflow_progr = inflow_progr_Anna.merge(inflow_progr_Ben, how=\"outer\", on=\"Giorno\")\n",
    "inflow_progr = inflow_progr.loc[:,[\"Giorno\",\"Anna\",\"Ben\"]]"
   ]
  },
  {
   "cell_type": "code",
   "execution_count": null,
   "id": "a9395825-3fb1-46f8-8327-0f61ed0d896c",
   "metadata": {},
   "outputs": [],
   "source": [
    "inflow_progr"
   ]
  },
  {
   "cell_type": "markdown",
   "id": "766c55a5-b311-41e6-b13a-9b2aefa156ed",
   "metadata": {
    "tags": []
   },
   "source": [
    "## Numero ordini"
   ]
  },
  {
   "cell_type": "code",
   "execution_count": null,
   "id": "0deb5ea3-5be5-4ae5-b062-8cf8e2c8604c",
   "metadata": {},
   "outputs": [],
   "source": [
    "arr = [\"2021-04-01\",\"2021-05-01\",\"2021-06-01\",\"2021-07-01\",\"2021-08-01\",\"2021-09-01\",\"2021-10-01\",\"2021-11-01\",\"2021-12-01\",\"2022-01-01\",\"2022-02-01\",\"2022-03-01\",\"2022-04-01\",\"2022-05-01\"]\n",
    "d_rete = {}\n",
    "d_canale = {}\n",
    "\n",
    "for i,elem in enumerate(arr):\n",
    "    temp = clienti_smart.loc[(clienti_smart[\"Giorno\"].astype('datetime64[M]') >= \"2021-04-01\") & \n",
    "                             (clienti_smart[\"Giorno\"].astype('datetime64[M]') <= elem) & \n",
    "                             (clienti_smart[\"Canale di VENDITA\"] != \"E-Commerce\"), :].groupby([\"Rete3\"]).agg({\"Numero Ordine\":\"nunique\"}).reset_index()\n",
    "    d_rete[f\"d_{i}\"] = temp[\"Numero Ordine\"].to_numpy()\n",
    "    \n",
    "    temp = clienti_smart.loc[(clienti_smart[\"Giorno\"].astype('datetime64[M]') >= \"2021-04-01\") & \n",
    "                             (clienti_smart[\"Giorno\"].astype('datetime64[M]') <= elem) & \n",
    "                             (clienti_smart[\"Canale di VENDITA\"] == \"E-Commerce\"), :].groupby([\"Canale di VENDITA\"]).agg({\"Numero Ordine\":\"nunique\"}).reset_index()\n",
    "    d_canale[f\"d_{i}\"] = temp[\"Numero Ordine\"].to_numpy()\n",
    "\n",
    "df_rete = pd.DataFrame.from_dict(data= d_rete.items())\n",
    "df_rete = pd.DataFrame(df_rete[1].tolist())\n",
    "df_rete = df_rete.pivot_table(columns=df_rete.index)\n",
    "\n",
    "df_canale = pd.DataFrame.from_dict(data= d_canale.items())\n",
    "df_canale = pd.DataFrame(df_canale[1].tolist())\n",
    "df_canale = df_canale.pivot_table(columns=df_canale.index)\n",
    "\n",
    "ordini_unici = pd.concat([df_rete, df_canale], axis=0)\n",
    "ordini_unici.columns = arr\n",
    "ordini_unici.index = [\"Diretta\", \"Indiretta\", \"E-commerce\"]"
   ]
  },
  {
   "cell_type": "code",
   "execution_count": null,
   "id": "5a6e6354-af1c-4384-9716-ec4096520cd4",
   "metadata": {},
   "outputs": [],
   "source": [
    "ordini_unici"
   ]
  },
  {
   "cell_type": "code",
   "execution_count": null,
   "id": "b55fc5a0-5ef7-4aaa-9e5d-f337962ac0d0",
   "metadata": {},
   "outputs": [],
   "source": [
    "with pd.ExcelWriter(r\"C:\\Users\\Raffaele.Sportiello\\OneDrive - Wolters Kluwer\\Documents\\Presentazioni\\MDM\\MDM - SMART skills2.xlsx\", engine=\"openpyxl\") as writer:\n",
    "    clienti_unici.to_excel(writer, sheet_name=\"clienti_unici\", index=False)\n",
    "    ordini_unici.to_excel(writer, sheet_name=\"ordini_unici\", index=False)"
   ]
  },
  {
   "cell_type": "code",
   "execution_count": null,
   "id": "1c7c2331-aef9-42ee-b941-9e85ce252045",
   "metadata": {},
   "outputs": [],
   "source": []
  }
 ],
 "metadata": {
  "kernelspec": {
   "display_name": "Python 3 (ipykernel)",
   "language": "python",
   "name": "python3"
  },
  "language_info": {
   "codemirror_mode": {
    "name": "ipython",
    "version": 3
   },
   "file_extension": ".py",
   "mimetype": "text/x-python",
   "name": "python",
   "nbconvert_exporter": "python",
   "pygments_lexer": "ipython3",
   "version": "3.9.7"
  }
 },
 "nbformat": 4,
 "nbformat_minor": 5
}
