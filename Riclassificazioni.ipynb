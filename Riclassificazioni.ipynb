{
 "cells": [
  {
   "cell_type": "code",
   "execution_count": 1,
   "id": "6eacec7f-56cc-4e3e-bd80-719d538ef62f",
   "metadata": {},
   "outputs": [],
   "source": [
    "import pandas as pd\n",
    "import numpy as np"
   ]
  },
  {
   "cell_type": "code",
   "execution_count": 2,
   "id": "790ff42d-2e8a-4a04-ae18-30d0d1cb070a",
   "metadata": {},
   "outputs": [],
   "source": [
    "cl = r\"C:\\Users\\Raffaele.Sportiello\\OneDrive - Wolters Kluwer\\Documents\\Reports\\Parametriche\\Classificazione_codice_prodotto.xlsx\"\n",
    "match = r\"C:\\Users\\Raffaele.Sportiello\\OneDrive - Wolters Kluwer\\Documents\\Reports\\Analisi clienti\\clienti_insides_v2.xlsx\""
   ]
  },
  {
   "cell_type": "code",
   "execution_count": 4,
   "id": "83e9d8d7-5750-4660-9a7f-5a65ae52eb1e",
   "metadata": {},
   "outputs": [],
   "source": [
    "df_cl = pd.read_excel(cl, engine=\"openpyxl\")"
   ]
  },
  {
   "cell_type": "code",
   "execution_count": 5,
   "id": "8fa63412-c319-4004-91e9-905ea8512349",
   "metadata": {},
   "outputs": [],
   "source": [
    "df_match = pd.read_excel(match, sheet_name=\"BW\", engine=\"openpyxl\", dtype={\"Cliente MERCE\":\"string\"})\n",
    "df_bridio = pd.read_excel(match,sheet_name=\"bridio\", engine=\"openpyxl\", dtype={\"COD.CLI\":\"string\", \"CAP\":\"string\",\"COD.FISCALE\":\"string\",\"PART.IVA\":\"string\"})"
   ]
  },
  {
   "cell_type": "code",
   "execution_count": 9,
   "id": "0dab0111-7b10-4173-8f0f-1123a37396a5",
   "metadata": {
    "tags": []
   },
   "outputs": [],
   "source": [
    "filt = (df_match[\"Consenso Privacy\"] == \"Senza attribuz.\") & (df_match[\"No TVA\"] == \"Senza attribuz.\") & (df_match[\"Sales Director\"].str.contains(\"ARTEL DIRETTA|ENTERPRISE|LARGE ACCOUNT|Senza attribuz.|WKIC CENTRO SUD|WKIC NORD EST|WKIC NORD OVEST\"))\n",
    "columns_match = [\"Cliente MERCE\", \"Regione\", \"Tipo Partner Aggrega\", \"Sales Director\", \"Cod Agente dell'Abbonamento\", \"Agente dell'Abbonamento\", \"Prodotto (SW)\", \"Soluzione (SW)\", \"Cluster (SW)\", \"Area (SW)\", \"Canale di VENDITA\", \"Valore PV New\"]\n",
    "columns_bridio =[\"COD.CLI\", \"RAG.SOC.1\", \"RAG.SOC.2\", \"RAG.SOC.3\", \"INDIRIZZO\", \"LOCALITA'\", \"TELEFONO 1\", \"TELEFONO 2\", \"PART.IVA\"]\n",
    "\n",
    "pv_target = df_match.loc[filt].groupby([\"Cliente MERCE\"]).agg({\"Valore PV New\":\"sum\"}).reset_index()\n",
    "pv_target = pv_target.loc[(pv_target[\"Valore PV New\"] > 0) & (pv_target[\"Valore PV New\"] < 1200), :]\n",
    "\n",
    "df = df_match.loc[filt, columns_match].merge(pv_target.loc[:,\"Cliente MERCE\"], on=\"Cliente MERCE\", how=\"inner\").merge(df_bridio.loc[:, columns_bridio], left_on=\"Cliente MERCE\", right_on=\"COD.CLI\", how=\"left\").merge(df_cl.loc[:,[\"Prodotto (SW)\",\"Business area\"]].drop_duplicates(subset=\"Prodotto (SW)\"), on=\"Prodotto (SW)\", how=\"left\")\n"
   ]
  },
  {
   "cell_type": "code",
   "execution_count": 11,
   "id": "fdfc9d37-bc15-428a-b160-f67c54b726f8",
   "metadata": {},
   "outputs": [],
   "source": [
    "df.to_excel(r\"C:\\Users\\Raffaele.Sportiello\\OneDrive - Wolters Kluwer\\Documents\\Reports\\Analisi clienti\\clienti_insides_v4.xlsx\", index=False)"
   ]
  },
  {
   "cell_type": "code",
   "execution_count": null,
   "id": "51342ef6-f114-449d-851e-7ad1a92420a8",
   "metadata": {},
   "outputs": [],
   "source": [
    "df_gr = df.groupby([\"Cliente MERCE\",\"PART.IVA\",\"RAG.SOC.1\",\"RAG.SOC.2\",\"RAG.SOC.3\",\"TELEFONO 1\",\"TELEFONO 2\",\"Regione\",\"Sales Director\",\"Cod Agente dell'Abbonamento\",\"Agente dell'Abbonamento\",\"Business area\"], dropna=False).agg({\"Valore PV New\":\"sum\"}).reset_index()"
   ]
  },
  {
   "cell_type": "code",
   "execution_count": null,
   "id": "9f018f67-1312-4771-ad24-5e871abc6e19",
   "metadata": {},
   "outputs": [],
   "source": [
    "df_gr.columns = [\"Cliente merce\",  \"PIVA\" , \"Ragione Sociale 1\", \"Ragione Sociale 2\", \"Ragione Sociale 3\", \"Telefono 1\", \"Telefono 2\", \"Regione\", \"Area cliente\", \"Cod. Sales\" , \"Rag. Soc. Sales\", \"Area PV\", \"PV\"]"
   ]
  },
  {
   "cell_type": "code",
   "execution_count": null,
   "id": "5589f61a-e0d2-4ea1-8c23-3762370d7f45",
   "metadata": {},
   "outputs": [],
   "source": [
    "df_gr.to_excel(r\"C:\\Users\\Raffaele.Sportiello\\OneDrive - Wolters Kluwer\\Documents\\Reports\\Analisi clienti\\clienti_insides_v3.xlsx\", index=False)"
   ]
  },
  {
   "cell_type": "code",
   "execution_count": 10,
   "id": "1bf07e4a-b534-4d9f-b7a7-7fa9d91c74d2",
   "metadata": {},
   "outputs": [
    {
     "name": "stdout",
     "output_type": "stream",
     "text": [
      "<class 'pandas.core.frame.DataFrame'>\n",
      "Int64Index: 5747 entries, 0 to 5746\n",
      "Data columns (total 22 columns):\n",
      " #   Column                       Non-Null Count  Dtype  \n",
      "---  ------                       --------------  -----  \n",
      " 0   Cliente MERCE                5747 non-null   object \n",
      " 1   Regione                      5747 non-null   object \n",
      " 2   Tipo Partner Aggrega         5747 non-null   object \n",
      " 3   Sales Director               5747 non-null   object \n",
      " 4   Cod Agente dell'Abbonamento  5747 non-null   object \n",
      " 5   Agente dell'Abbonamento      5747 non-null   object \n",
      " 6   Prodotto (SW)                5747 non-null   object \n",
      " 7   Soluzione (SW)               5747 non-null   object \n",
      " 8   Cluster (SW)                 5747 non-null   object \n",
      " 9   Area (SW)                    5747 non-null   object \n",
      " 10  Canale di VENDITA            5747 non-null   object \n",
      " 11  Valore PV New                5747 non-null   float64\n",
      " 12  COD.CLI                      5708 non-null   string \n",
      " 13  RAG.SOC.1                    5708 non-null   object \n",
      " 14  RAG.SOC.2                    1653 non-null   object \n",
      " 15  RAG.SOC.3                    538 non-null    object \n",
      " 16  INDIRIZZO                    5708 non-null   object \n",
      " 17  LOCALITA'                    5708 non-null   object \n",
      " 18  TELEFONO 1                   5517 non-null   object \n",
      " 19  TELEFONO 2                   701 non-null    object \n",
      " 20  PART.IVA                     5576 non-null   string \n",
      " 21  Business area                5741 non-null   object \n",
      "dtypes: float64(1), object(19), string(2)\n",
      "memory usage: 1.0+ MB\n"
     ]
    }
   ],
   "source": [
    "df.info()"
   ]
  },
  {
   "cell_type": "code",
   "execution_count": null,
   "id": "c4de5110-6e06-40fb-b219-c69d92563108",
   "metadata": {},
   "outputs": [],
   "source": []
  },
  {
   "cell_type": "code",
   "execution_count": null,
   "id": "55a152b3-7d33-4ac9-811d-870c44b0d4c9",
   "metadata": {},
   "outputs": [],
   "source": []
  }
 ],
 "metadata": {
  "kernelspec": {
   "display_name": "Python 3 (ipykernel)",
   "language": "python",
   "name": "python3"
  },
  "language_info": {
   "codemirror_mode": {
    "name": "ipython",
    "version": 3
   },
   "file_extension": ".py",
   "mimetype": "text/x-python",
   "name": "python",
   "nbconvert_exporter": "python",
   "pygments_lexer": "ipython3",
   "version": "3.9.7"
  }
 },
 "nbformat": 4,
 "nbformat_minor": 5
}
